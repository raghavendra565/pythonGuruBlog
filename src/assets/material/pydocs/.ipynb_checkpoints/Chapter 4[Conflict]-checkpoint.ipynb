{
 "cells": [
  {
   "cell_type": "markdown",
   "metadata": {},
   "source": [
    "\n",
    "### Python Programming\n",
    "##### by Narendra Allam\n",
    "# Chapter 4\n",
    "\n",
    "## Data Structures\n",
    "\n",
    "#### Topics covering in this chapter\n",
    "- list\n",
    "    - list Operations and functions\n",
    "        - Finding length of list\n",
    "        - Modifying value at index\n",
    "        - Adding an element at the end \n",
    "        - Adding an element at a specific location\n",
    "        - Deleting an element from the end\n",
    "    - Itarating a list using while\n",
    "    - enumerate()\n",
    "    - List functions\n",
    "    - Creating a Stack (LIFO) using list\n",
    "    - Creating a Queue (FIFO) using list\n",
    "    - Find the index of the given element\n",
    "    - Reversing a list\n",
    "    - Reversing list using slicing\n",
    "    - Sorting a list\n",
    "    - Unpacking\n",
    "    - Slicing\n",
    "    - List Comparisions\n",
    "- tuple\n",
    "    - Differences with list\n",
    "        - Brackets\n",
    "        - Mutability\n",
    "    - Similarities with list\n",
    "        - Declaration\n",
    "        - Indexing\n",
    "        - Scallar Multiplication\n",
    "        - Itaration\n",
    "        - Slicing and  -ve indexing\n",
    "    - Tuple unpacking\n",
    "- List vs Tuple\n",
    "- list of tuples - frequently used construct\n",
    "    - iterating\n",
    "    - sorting\n",
    "    - largest\n",
    "    - smallest\n",
    "    - enumerate\n",
    "    - zip and unzip\n",
    "- Set\n",
    "  - Introduction to set\n",
    "  - How set removes duplicates?\n",
    "  - Set functions\n",
    "    - Searching for an element\n",
    "      - 'in' operator - The fastest\n",
    "    - Adding an element\n",
    "      - add()\n",
    "    - Removing an element\n",
    "      - remove()\n",
    "      - discard()\n",
    "      - pop()\n",
    "\n",
    "    - Relation between two sets\n",
    "      - intersection()\n",
    "      - union()\n",
    "      - difference()\n",
    "      - isdisjoint()\n",
    "      - issubset()\n",
    "      - issuperset()\n",
    "    - Merging two sets\n",
    "      - update()\n",
    "  - Why tuples are hashable but not lists?\n",
    "  - Set Use-Cases\n",
    "      - Removing duplicates from a list\n",
    "      - Fastest lookups\n",
    "      - Intersections, Unions, Difference and set relations\n",
    "\n",
    "- Dictionary\n",
    "  - Introduction of Dictionary - Associative data structure\n",
    "  - Creating a Dictionary\n",
    "  - Adding elements to Dictionary\n",
    "  - Deleting key value pair\n",
    "  - Updating / extending a Dictionary\n",
    "  - Iterating through a Dictionary\n",
    "  - Tuple unpacking method\n",
    "  - Converting list of tuples into Dictionary\n",
    "  - Converting Dictionary to List of tuples\n",
    "  - Lambda introduction\n",
    "  - Sorting List of tuples and dictionaries\n",
    "  - Finding max(), min() in a dict\n",
    "  - Wherever you go, dictionary follows you!\n",
    "  - Dictionary Use-Cases\n",
    "      - Counting Problem\n",
    "      - Grouping Problem\n",
    "      - Always Latest\n",
    "      - Caching\n",
    "      \n",
    "- Counter() \n",
    "    - simplest counting algorithm\n",
    "- DefaultDict \n",
    "    - Always has a value\n",
    "- OrderedDict \n",
    "    - Maintains order\n",
    "- Dequeue \n",
    "    - Short time memory loss\n",
    "\n",
    "- Heapq \n",
    "    - efficient in-memory min-heap()\n",
    "    - heapify()\n",
    "    - nlargest()\n",
    "    - nsmallest()\n",
    "    - heappush()\n",
    "    - heappop()\n",
    "  \n",
    "- ForzenSet\n",
    "    - Hashable set\n",
    "    - Use-Cases\n",
    "        - Set of sets\n",
    "        - Set as Key in Dict\n",
    "    \n",
    "- Packing and Unpacking\n",
    "  - Swapping two values\n",
    "  - List packing and Unpacking\n",
    "  - Tuple packing and Unpacking\n",
    "  - String packing and Unpacking\n",
    "  - Set packing and Unpacking\n",
    "  \n",
    "- Iterating containers using iter() and next()"
   ]
  },
  {
   "cell_type": "markdown",
   "metadata": {},
   "source": [
    "## Introduction\n",
    "Data structure is a particular way of organizing data in memory, so that it can be searched, retrieved, stored and processed efficiently. Any data structure is designed to organize data to suit a specific purpose. General data structure types include the list, the tree, the graph and so on. Python has its own set of efficiently implemented butil-in data structures.\n",
    "\n",
    "\n",
    "## List\n",
    "List is a collection of elements(python objects). Purpose of list is, to group up the things, which falls under same category. e.g,<br>\n",
    "\n",
    "List of grocery items,<br>\n",
    "List of employee ids,<br>\n",
    "list of book names etc.<br>\n",
    "\n",
    "As group of similar elements stored in a list, mostly those are homogenous(of same data type).\n",
    "\n",
    "Creating a list in python is putting different comma-separated values, between square brackets. <br>\n",
    "\n",
    "Eventhough list principle suggests homogeneous data items in it, it is not mandatory and still allowed to have different types.\n",
    "\n",
    "For example −<br>\n",
    "``` python\n",
    "\n",
    "l1 = [30, 32, 31, 35, 30, 36, 34]\n",
    "l2 = [1234, 'John', 230000.05, True] # Supports multiple types\n",
    "l3 = [] # empty list\n",
    "l4 = [99] # list with single value\n",
    "l5 = list()\n",
    "l6 = list([4, 5, 6])\n",
    "```\n",
    "\n",
    "* List is mutable.\n",
    "\n",
    "* **IQ: Python list is implemented using dynamically resizable array(vector in C++,Java etc.).\n",
    "* List uses indexing to access values.\n",
    "* Search operation on an unsorted list is O(n) operation.\n",
    "* **IQ: lists  are un-hashable\n",
    "* type of list is 'list'"
   ]
  },
  {
   "cell_type": "markdown",
   "metadata": {},
   "source": [
    "Each element in a list can be accessed using square brackets enclosing its positional value called indexing. <br>\n",
    "In the below list fruits, \n",
    "```python\n",
    "fruits = [\"Apple\", \"Orange\", \"Banana\", \"Peach\", \"grape\"] \n",
    "```\n",
    "fruits[0] refers \"Apple\", <br>\n",
    "fruits[1] refers \"Orange\",  <br>\n",
    "fruits[2] refers \"Banana\",  <br>\n",
    "and so on.. <br>\n",
    "\n",
    "<img src='drawing4.png' width='600'>\n"
   ]
  },
  {
   "cell_type": "code",
   "execution_count": null,
   "metadata": {},
   "outputs": [],
   "source": [
    "fruits = [\"Apple\", \"Orange\", \"Banana\", \"Peach\", \"grape\"]\n",
    "print fruits[0]"
   ]
  },
  {
   "cell_type": "code",
   "execution_count": null,
   "metadata": {},
   "outputs": [],
   "source": [
    "print fruits[1]"
   ]
  },
  {
   "cell_type": "code",
   "execution_count": null,
   "metadata": {},
   "outputs": [],
   "source": [
    "print fruits[5]"
   ]
  },
  {
   "cell_type": "markdown",
   "metadata": {},
   "source": [
    "As starting index is 0, Last item index is 4, not 5, so we get IndexError."
   ]
  },
  {
   "cell_type": "markdown",
   "metadata": {},
   "source": [
    "#### list Operations and Functions"
   ]
  },
  {
   "cell_type": "markdown",
   "metadata": {},
   "source": [
    "_Finding length of a list:_"
   ]
  },
  {
   "cell_type": "code",
   "execution_count": null,
   "metadata": {},
   "outputs": [],
   "source": [
    "l = [3, 4, 5, 8, 2, 1]\n",
    "print len(l)"
   ]
  },
  {
   "cell_type": "markdown",
   "metadata": {},
   "source": [
    "_modifying value at index i:_"
   ]
  },
  {
   "cell_type": "code",
   "execution_count": null,
   "metadata": {},
   "outputs": [],
   "source": [
    "i = 3\n",
    "l = [6, 4, 5, 8, 2, 1]\n",
    "l[i] = 99\n",
    "print l"
   ]
  },
  {
   "cell_type": "markdown",
   "metadata": {},
   "source": [
    "_Adding an element at the end:_"
   ]
  },
  {
   "cell_type": "code",
   "execution_count": null,
   "metadata": {},
   "outputs": [],
   "source": [
    "l = [6, 4, 5, 8, 2, 1]\n",
    "l.append(99)\n",
    "print l"
   ]
  },
  {
   "cell_type": "markdown",
   "metadata": {},
   "source": [
    "_Adding an element at a specific location:_\n",
    "\n",
    "insert(index, value): takes index and value"
   ]
  },
  {
   "cell_type": "code",
   "execution_count": null,
   "metadata": {},
   "outputs": [],
   "source": [
    "l = [6, 4, 5, 8, 2, 1]\n",
    "l.insert(4, 99)\n",
    "print l"
   ]
  },
  {
   "cell_type": "markdown",
   "metadata": {},
   "source": [
    "_Deleting an element from the end:_\n",
    "\n",
    "pop() removes the elements from the end by default, and returns"
   ]
  },
  {
   "cell_type": "code",
   "execution_count": null,
   "metadata": {},
   "outputs": [],
   "source": [
    "l = [6, 4, 5, 8, 2, 1]\n",
    "rem = l.pop()\n",
    "print 'Element removed is:', rem\n",
    "print l"
   ]
  },
  {
   "cell_type": "markdown",
   "metadata": {},
   "source": [
    "_Deleting an element from a specific location:_\n",
    "\n",
    "pop() also takes an index, removes the element and returns. Throws error if index is invalid."
   ]
  },
  {
   "cell_type": "code",
   "execution_count": null,
   "metadata": {},
   "outputs": [],
   "source": [
    "l = [6, 4, 5, 8, 2, 1]\n",
    "rem = l.pop(3)\n",
    "print 'Element removed is:', rem\n",
    "print l"
   ]
  },
  {
   "cell_type": "markdown",
   "metadata": {},
   "source": [
    "_Find and delete an element with specified value:_\n",
    "\n",
    "remove() doesn't return a value. It simply removes the first occurance of the value. Throws ValueError if element not found."
   ]
  },
  {
   "cell_type": "code",
   "execution_count": null,
   "metadata": {},
   "outputs": [],
   "source": [
    "l = [6, 4, 5, 25, 2, 1, 25, 7]\n",
    "l.remove(25)\n",
    "print l"
   ]
  },
  {
   "cell_type": "code",
   "execution_count": null,
   "metadata": {},
   "outputs": [],
   "source": [
    "l = [6, 4, 5, 8, 2, 1, 8, 7]\n",
    "l.remove(99)\n",
    "print l"
   ]
  },
  {
   "cell_type": "markdown",
   "metadata": {},
   "source": [
    "_Iterating a list using while:_"
   ]
  },
  {
   "cell_type": "code",
   "execution_count": null,
   "metadata": {},
   "outputs": [],
   "source": [
    "i = 0\n",
    "l = [6, 4, 5, 8, 2]\n",
    "while i < len(l):\n",
    "    print l[i]\n",
    "    i += 1"
   ]
  },
  {
   "cell_type": "markdown",
   "metadata": {},
   "source": [
    "_Iterating a list using for:_ Pythonic Way!"
   ]
  },
  {
   "cell_type": "code",
   "execution_count": 1,
   "metadata": {
    "scrolled": true
   },
   "outputs": [
    {
     "name": "stdout",
     "output_type": "stream",
     "text": [
      "6\n",
      "4\n",
      "5\n",
      "8\n",
      "2\n"
     ]
    }
   ],
   "source": [
    "l = [6, 4, 5, 8, 2]\n",
    "\n",
    "for x in l:\n",
    "    print x"
   ]
  },
  {
   "cell_type": "markdown",
   "metadata": {},
   "source": [
    "__\\*\\*Note:__ While iterating through a list using for loop, we cannot remove an element."
   ]
  },
  {
   "cell_type": "markdown",
   "metadata": {},
   "source": [
    "__Program:__Find the biggest element in a list."
   ]
  },
  {
   "cell_type": "code",
   "execution_count": null,
   "metadata": {},
   "outputs": [],
   "source": [
    "l = [6, 4, 5, 8, 2, 13, 3, 7, 9]\n",
    "biggest = l[0]\n",
    "i = 1\n",
    "while i < len(l):\n",
    "    if l[i] > biggest:\n",
    "        biggest = l[i]\n",
    "    i += 1\n",
    "    \n",
    "print biggest"
   ]
  },
  {
   "cell_type": "markdown",
   "metadata": {},
   "source": [
    "__Note:__ ___max()___ function is a butiltin function which identifies the biggest element in a list an d returns."
   ]
  },
  {
   "cell_type": "code",
   "execution_count": null,
   "metadata": {},
   "outputs": [],
   "source": [
    "l = [6, 4, 5, 8, 2, 13, 3, 7, 9]\n",
    "print max(l)"
   ]
  },
  {
   "cell_type": "markdown",
   "metadata": {},
   "source": [
    "Ansd similiarly we have ___min()___ function."
   ]
  },
  {
   "cell_type": "code",
   "execution_count": null,
   "metadata": {},
   "outputs": [],
   "source": [
    "print min(l)"
   ]
  },
  {
   "cell_type": "markdown",
   "metadata": {},
   "source": [
    "__Program:__ Square each element in the list and print."
   ]
  },
  {
   "cell_type": "code",
   "execution_count": null,
   "metadata": {
    "scrolled": true
   },
   "outputs": [],
   "source": [
    "l = [6, 4, 5, 8, 2]\n",
    "for x in l:\n",
    "    print x*x"
   ]
  },
  {
   "cell_type": "markdown",
   "metadata": {},
   "source": [
    "__Program:__ Square each element in the list and save it back to its location."
   ]
  },
  {
   "cell_type": "code",
   "execution_count": null,
   "metadata": {},
   "outputs": [],
   "source": [
    "l = [6, 4, 5, 8, 2]\n",
    "for x in l:\n",
    "    x = x*x\n",
    "    \n",
    "print l"
   ]
  },
  {
   "cell_type": "markdown",
   "metadata": {},
   "source": [
    "Original list cannot be changed as x is just a copy of each element in that iteration."
   ]
  },
  {
   "cell_type": "markdown",
   "metadata": {},
   "source": [
    "_Solution.1:_"
   ]
  },
  {
   "cell_type": "code",
   "execution_count": null,
   "metadata": {},
   "outputs": [],
   "source": [
    "i = 0\n",
    "l = [6, 4, 5, 8, 2]\n",
    "while i < len(l):\n",
    "    l[i] = l[i]*l[i]\n",
    "    i += 1\n",
    "print l"
   ]
  },
  {
   "cell_type": "markdown",
   "metadata": {},
   "source": [
    "__enumerate()__:\n",
    "    enumerate function adds a sequence number starts from zero, to each item in the sequence, packs as a tuple and returns in each iteration. In each iteration enumerate() retruns tuple([seq_num, cur_item]). This is very useful when we want to track the indices while iterating sequence."
   ]
  },
  {
   "cell_type": "code",
   "execution_count": null,
   "metadata": {},
   "outputs": [],
   "source": [
    "fruits = [\"Apple\", \"Orange\", \"Grape\", \"Banana\", \"Peach\"]\n",
    "\n",
    "for idx, fruit in enumerate(fruits):\n",
    "    print idx, fruit"
   ]
  },
  {
   "cell_type": "markdown",
   "metadata": {},
   "source": [
    "We can also have a custom start value for sequence as below,"
   ]
  },
  {
   "cell_type": "code",
   "execution_count": null,
   "metadata": {},
   "outputs": [],
   "source": [
    "fruits = [\"Apple\", \"Orange\", \"Grape\", \"Banana\", \"Peach\"]\n",
    "\n",
    "for idx, fruit in enumerate(fruits, start=1):\n",
    "    print idx, fruit"
   ]
  },
  {
   "cell_type": "markdown",
   "metadata": {},
   "source": [
    "_Solution.2: Using for loop_ "
   ]
  },
  {
   "cell_type": "code",
   "execution_count": null,
   "metadata": {},
   "outputs": [],
   "source": [
    "l = [6, 4, 5, 8, 2]\n",
    "for i, x in enumerate(l):\n",
    "    l[i] = x*x\n",
    "    \n",
    "print l"
   ]
  },
  {
   "cell_type": "markdown",
   "metadata": {},
   "source": [
    "_Multiplying list with a scalar:_"
   ]
  },
  {
   "cell_type": "code",
   "execution_count": null,
   "metadata": {},
   "outputs": [],
   "source": [
    "l = [3, 4, 6]\n",
    "print l * 3\n",
    "print l"
   ]
  },
  {
   "cell_type": "markdown",
   "metadata": {},
   "source": [
    "_Concatenating two lists:_"
   ]
  },
  {
   "cell_type": "code",
   "execution_count": null,
   "metadata": {},
   "outputs": [],
   "source": [
    "l1 = [3, 4, 6] \n",
    "l2 = [7, 8, 9]\n",
    "\n",
    "print l1 + l2"
   ]
  },
  {
   "cell_type": "markdown",
   "metadata": {},
   "source": [
    "__List functions:__\n",
    "\n",
    "_Searching for an element: the 'in' operator_"
   ]
  },
  {
   "cell_type": "code",
   "execution_count": null,
   "metadata": {},
   "outputs": [],
   "source": [
    "l = [3, 4, 5, 6, 1, 9, 10, 8]\n",
    "x = 7\n",
    "print x in l"
   ]
  },
  {
   "cell_type": "markdown",
   "metadata": {},
   "source": [
    "__Creating a Stack (LIFO) using list:__\n",
    "\n",
    "Stack is a data structure in which, insertion and deletion operations follow the pattern, Last-In-First-Out. A list, in which, insertion and deletion operations are restricted to one end (front or rear) is called as Stack. We can achieve this using l.append() and l.pop(). Generally insertion is called 'push' operation and deletion is called 'pop' operation."
   ]
  },
  {
   "cell_type": "code",
   "execution_count": null,
   "metadata": {},
   "outputs": [],
   "source": [
    "stack = [2, 4, 3]\n",
    "print stack\n",
    "stack.append(5)\n",
    "print stack\n",
    "stack.append(6)\n",
    "print stack\n",
    "stack.pop()\n",
    "print stack\n",
    "stack.pop()\n",
    "print stack"
   ]
  },
  {
   "cell_type": "markdown",
   "metadata": {},
   "source": [
    "<img src='drawing6.png' width='600'>"
   ]
  },
  {
   "cell_type": "markdown",
   "metadata": {},
   "source": [
    "__Creating a Queue (FIFO) using list:__\n",
    "Queue is a data structure in which, insertion and deletion operations follow the pattern, First-In-First-Out. A list, in which, insertion and deletion operations are restricted to seperate ends (generally delete front and insert rear) is called as Queue. We can achieve this using l.append() and l.pop(0). Generally insertion is called 'enque' operation and deletion is called 'deque' operation."
   ]
  },
  {
   "cell_type": "code",
   "execution_count": null,
   "metadata": {},
   "outputs": [],
   "source": [
    "queue = list([2, 4, 3])\n",
    "print queue\n",
    "queue.append(5)\n",
    "print queue\n",
    "queue.append(6)\n",
    "print queue\n",
    "queue.pop(0)\n",
    "print queue\n",
    "queue.pop(0)\n",
    "print queue"
   ]
  },
  {
   "cell_type": "markdown",
   "metadata": {},
   "source": [
    "<img src='drawing7.png' width='600'>"
   ]
  },
  {
   "cell_type": "markdown",
   "metadata": {},
   "source": [
    "_Extending a list with other:_"
   ]
  },
  {
   "cell_type": "code",
   "execution_count": null,
   "metadata": {},
   "outputs": [],
   "source": [
    "l = [3, 4, 5]\n",
    "s = [99, 55, 88]\n",
    "l.extend(s)\n",
    "print l"
   ]
  },
  {
   "cell_type": "markdown",
   "metadata": {},
   "source": [
    "Instead of extend, if we use append(), list s, becomes an individual element in the list l."
   ]
  },
  {
   "cell_type": "code",
   "execution_count": null,
   "metadata": {},
   "outputs": [],
   "source": [
    "l = [3, 4, 5]\n",
    "s = [99, 55, 88]\n",
    "l.append(s)\n",
    "print l"
   ]
  },
  {
   "cell_type": "markdown",
   "metadata": {},
   "source": [
    "now type(l[3]) is a list instead an int"
   ]
  },
  {
   "cell_type": "code",
   "execution_count": null,
   "metadata": {},
   "outputs": [],
   "source": [
    "type(l[3])"
   ]
  },
  {
   "cell_type": "markdown",
   "metadata": {},
   "source": [
    "__Find the index of the given element__\n",
    "\n",
    "If element found, index() function returns the index of first occurance, else 'ValueError'"
   ]
  },
  {
   "cell_type": "code",
   "execution_count": null,
   "metadata": {},
   "outputs": [],
   "source": [
    "l = [6, 7, 9, 5, 2]\n",
    "print l.index(5)"
   ]
  },
  {
   "cell_type": "markdown",
   "metadata": {},
   "source": [
    "__Reversing a list:__\n",
    "\n",
    "reverse() function changes the list in-place."
   ]
  },
  {
   "cell_type": "code",
   "execution_count": null,
   "metadata": {},
   "outputs": [],
   "source": [
    "l = [3, 4, 5, 2, 1]\n",
    "l.reverse()\n",
    "print l"
   ]
  },
  {
   "cell_type": "markdown",
   "metadata": {},
   "source": [
    "__Reversing list using slicing__\n",
    "\n",
    "This doesn't change original list, afterall, it is just a view of the original."
   ]
  },
  {
   "cell_type": "code",
   "execution_count": null,
   "metadata": {},
   "outputs": [],
   "source": [
    "l = [3, 4, 5, 2, 1]\n",
    "print l[::-1]\n",
    "print l"
   ]
  },
  {
   "cell_type": "markdown",
   "metadata": {},
   "source": [
    "__Sorting a list__\n",
    "\n",
    "__**Note:__ Python uses 'Tim Sort' algorithm, which is one of the stable sorting algorithms. It is a combination of 'merge sort' and 'insertion sort'."
   ]
  },
  {
   "cell_type": "code",
   "execution_count": null,
   "metadata": {},
   "outputs": [],
   "source": [
    "l = [6, 7, 9, 5, 1, 2, 5, 4, 3]\n",
    "l.sort()\n",
    "print l"
   ]
  },
  {
   "cell_type": "markdown",
   "metadata": {},
   "source": [
    "_Sorting in decreasing order:_"
   ]
  },
  {
   "cell_type": "code",
   "execution_count": null,
   "metadata": {},
   "outputs": [],
   "source": [
    "l = [6, 7, 9, 5, 1, 2, 5, 4, 3]\n",
    "l.sort(reverse=True) \n",
    "print l"
   ]
  },
  {
   "cell_type": "markdown",
   "metadata": {},
   "source": [
    "We have an built-in sorting function __sorted()__ which has the same implementation as l.sort(), actually designed for immutable containers(e.g _str_)"
   ]
  },
  {
   "cell_type": "code",
   "execution_count": null,
   "metadata": {},
   "outputs": [],
   "source": [
    "l = [6, 7, 9, 5, 1, 2, 5, 4, 3]\n",
    "sorted(l)"
   ]
  },
  {
   "cell_type": "markdown",
   "metadata": {},
   "source": [
    "Sorting a string:"
   ]
  },
  {
   "cell_type": "code",
   "execution_count": null,
   "metadata": {},
   "outputs": [],
   "source": [
    "sorted('New York')"
   ]
  },
  {
   "cell_type": "markdown",
   "metadata": {},
   "source": [
    "Converting a string to a list:"
   ]
  },
  {
   "cell_type": "code",
   "execution_count": null,
   "metadata": {},
   "outputs": [],
   "source": [
    "list('Apple')"
   ]
  },
  {
   "cell_type": "markdown",
   "metadata": {},
   "source": [
    "##### Unpacking:\n",
    "Unpacking is the process of extracting values from a sequence and assigning them to correponding variables on the other side."
   ]
  },
  {
   "cell_type": "code",
   "execution_count": null,
   "metadata": {},
   "outputs": [],
   "source": [
    "l = [2, 3, 4]\n",
    "x, y, z = l\n",
    "\n",
    "print \"x:{} y:{} z:{}\".format(x, y, z)"
   ]
  },
  {
   "cell_type": "markdown",
   "metadata": {},
   "source": [
    "##### Slicing:"
   ]
  },
  {
   "cell_type": "code",
   "execution_count": null,
   "metadata": {},
   "outputs": [],
   "source": [
    "l = [2, 4, 3, 1, 7, 9, 8, 0, 6, 5]\n",
    "print l[:5]"
   ]
  },
  {
   "cell_type": "code",
   "execution_count": null,
   "metadata": {},
   "outputs": [],
   "source": [
    "l = [2, 4, 3, 1, 7, 9, 8, 0, 6, 5]\n",
    "print l[7:]"
   ]
  },
  {
   "cell_type": "code",
   "execution_count": null,
   "metadata": {},
   "outputs": [],
   "source": [
    "print l[-3:]"
   ]
  },
  {
   "cell_type": "markdown",
   "metadata": {},
   "source": [
    "##### List Comparisions:\n",
    "_'==' operator:_\n",
    "== operator checks the equality of each element in both lists."
   ]
  },
  {
   "cell_type": "code",
   "execution_count": null,
   "metadata": {},
   "outputs": [],
   "source": [
    "l1 = [1, 2, 4, 7, 8, 9]\n",
    "l2 = [1, 2, 4, 7, 8, 9]\n",
    "l3 = [7, 8, 9, 1, 2, 4]"
   ]
  },
  {
   "cell_type": "code",
   "execution_count": null,
   "metadata": {},
   "outputs": [],
   "source": [
    "l1 == l2"
   ]
  },
  {
   "cell_type": "code",
   "execution_count": null,
   "metadata": {},
   "outputs": [],
   "source": [
    "l2 == l3"
   ]
  },
  {
   "cell_type": "code",
   "execution_count": null,
   "metadata": {},
   "outputs": [],
   "source": [
    "mid = len(l1)//2\n",
    "l1[:mid] == l3[mid:]"
   ]
  },
  {
   "cell_type": "markdown",
   "metadata": {},
   "source": [
    "__cmp():__<br>\n",
    "_cmp()_ function returns 0 if both are equal else returns -1"
   ]
  },
  {
   "cell_type": "code",
   "execution_count": null,
   "metadata": {},
   "outputs": [],
   "source": [
    "cmp(l1, l2)"
   ]
  },
  {
   "cell_type": "code",
   "execution_count": null,
   "metadata": {},
   "outputs": [],
   "source": [
    "cmp(l1, l3)"
   ]
  },
  {
   "cell_type": "code",
   "execution_count": null,
   "metadata": {},
   "outputs": [],
   "source": [
    "cmp(l1[:mid], l3[mid:])"
   ]
  },
  {
   "cell_type": "markdown",
   "metadata": {},
   "source": [
    "__Note:__ is operator doesn't work on lists, lists with same content have different ids(addresses)."
   ]
  },
  {
   "cell_type": "code",
   "execution_count": null,
   "metadata": {},
   "outputs": [],
   "source": [
    "l1 = [1, 2, 4, 7, 8, 9]\n",
    "l2 = [1, 2, 4, 7, 8, 9]\n",
    "l1 is l2"
   ]
  },
  {
   "cell_type": "markdown",
   "metadata": {},
   "source": [
    "## Tuple\n",
    "\n",
    "A tuple is a sequence of immutable Python objects. Tuples are sequences, just like lists. The differences between tuples and lists are, the tuples cannot be changed unlike lists. Tuples use parentheses, whereas lists use square brackets.\n",
    "\n",
    "Creating a tuple is as simple as putting different comma-separated values enclosed in paranthesis. Some times paranthesis is optional.\n",
    "\n",
    "For example −<br>\n",
    "\n",
    "``` python\n",
    "tup1 = (1234, 'John wesley', 240000.0, True)\n",
    "tup2 = (1, 2, 3, 4, 5)\n",
    "tup3 = 1, 3, 2, 4 # Paranthesis is optional\n",
    "tup4 = () # empty tuple\n",
    "tup5 = (3,) # tuple with one value, must always ends with a comma.\n",
    "```\n",
    "\n",
    "* Tuple is immutable.\n",
    "* Tuple values can be of multiple types.\n",
    "* Tuple internally uses array of constant references.\n",
    "* tuple uses indexing to access value like list.\n",
    "* Search operation is always O(n).\n",
    "* \\*\\*Tuples are hashable. \n",
    "* type of tuple is 'tuple'"
   ]
  },
  {
   "cell_type": "markdown",
   "metadata": {},
   "source": [
    "Apart from immutability,  tuples mostly behave like a list.\n",
    "\n",
    "#### Differences with List\n",
    "\n",
    "__Brackets:__\n",
    "\n",
    "Tuples uses paranthesis in declaration"
   ]
  },
  {
   "cell_type": "code",
   "execution_count": null,
   "metadata": {},
   "outputs": [],
   "source": [
    "l = [3, 5, 4, 2, 1]\n",
    "t = (3, 5, 4, 2, 1)"
   ]
  },
  {
   "cell_type": "markdown",
   "metadata": {},
   "source": [
    "__Mutability:__\n",
    "\n",
    "Elements cannot be modified after initilization."
   ]
  },
  {
   "cell_type": "code",
   "execution_count": null,
   "metadata": {},
   "outputs": [],
   "source": [
    "l = [3, 5, 4, 2, 1]\n",
    "l[3] = 99 # is OK\n",
    "print l"
   ]
  },
  {
   "cell_type": "code",
   "execution_count": null,
   "metadata": {},
   "outputs": [],
   "source": [
    "t = (3, 5, 4, 2, 1)\n",
    "t[3] = 99 # is NOT OK\n",
    "print t"
   ]
  },
  {
   "cell_type": "markdown",
   "metadata": {},
   "source": [
    "__When having single element:__ \n",
    "We put a comma at the end, when there is one element in the tuple, Why?\n",
    "\n",
    "This is required, to differentiate with an expression.\n",
    "\n",
    "```python\n",
    "x = (9)\n",
    "y = (9,)\n",
    "```\n",
    "\n",
    "x is an integer and y is a tuple"
   ]
  },
  {
   "cell_type": "code",
   "execution_count": null,
   "metadata": {},
   "outputs": [],
   "source": [
    "x = (9)\n",
    "y = (9,)\n",
    "\n",
    "print x*3\n",
    "print y*3"
   ]
  },
  {
   "cell_type": "markdown",
   "metadata": {},
   "source": [
    "#### Similarites with List\n",
    "\n",
    "##### Declaration:"
   ]
  },
  {
   "cell_type": "code",
   "execution_count": null,
   "metadata": {},
   "outputs": [],
   "source": [
    "l = [3, 5, 4, 2, 1]\n",
    "t = (3, 5, 4, 2, 1)\n",
    "t1 = 3, 5, 4, 2, 1\n",
    "print type(l), type(t), type(t1)"
   ]
  },
  {
   "cell_type": "markdown",
   "metadata": {},
   "source": [
    "##### Indexing:"
   ]
  },
  {
   "cell_type": "code",
   "execution_count": null,
   "metadata": {},
   "outputs": [],
   "source": [
    "l = [3, 5, 4, 2, 1]\n",
    "t = (3, 5, 4, 2, 1)\n",
    "print l[3], t[3]"
   ]
  },
  {
   "cell_type": "markdown",
   "metadata": {},
   "source": [
    "##### Scalar Multiplication:"
   ]
  },
  {
   "cell_type": "code",
   "execution_count": null,
   "metadata": {},
   "outputs": [],
   "source": [
    "print [1, 4, 2] * 3\n",
    "print (1, 4, 2) * 3"
   ]
  },
  {
   "cell_type": "markdown",
   "metadata": {},
   "source": [
    "##### Iteration:"
   ]
  },
  {
   "cell_type": "code",
   "execution_count": null,
   "metadata": {},
   "outputs": [],
   "source": [
    "l = [3, 5, 4, 2, 1]\n",
    "print 'list Iteration:'\n",
    "for x in l:\n",
    "    print x\n",
    "    \n",
    "t = (3, 5, 4, 2, 1)\n",
    "print 'tuple Iteration:'\n",
    "for x in t:\n",
    "    print x"
   ]
  },
  {
   "cell_type": "markdown",
   "metadata": {},
   "source": [
    "##### Slicing and -ve Indexing:"
   ]
  },
  {
   "cell_type": "code",
   "execution_count": null,
   "metadata": {},
   "outputs": [],
   "source": [
    "t = (1234, 'John', 25000, True)\n",
    "l = [8, 2, 5, 4, 9, 1, 3, 7, 10, 6]\n",
    "\n",
    "print \"-------\"\n",
    "print \"Slicing\"\n",
    "print \"-------\"\n",
    "\n",
    "print t[2:7:2]\n",
    "print l[2:7:2]\n",
    "\n",
    "print \"------------\"\n",
    "print \"-Ve Indexing\"\n",
    "print \"------------\"\n",
    "\n",
    "print t[::-1]\n",
    "print l[::-1]"
   ]
  },
  {
   "cell_type": "markdown",
   "metadata": {},
   "source": [
    "#### Tuple unpacking\n",
    "##### Unpacking:"
   ]
  },
  {
   "cell_type": "code",
   "execution_count": null,
   "metadata": {},
   "outputs": [],
   "source": [
    "t = 3, 4, 5\n",
    "x, y, z = t\n",
    "\n",
    "print \"x:{}, y:{}, z:{}\".format(x, y, z)"
   ]
  },
  {
   "cell_type": "markdown",
   "metadata": {},
   "source": [
    "##### Initilizing values at a time:\n",
    "This is possible because in python comma seperated values are treated as a tuple."
   ]
  },
  {
   "cell_type": "code",
   "execution_count": null,
   "metadata": {},
   "outputs": [],
   "source": [
    "x, y, z = 7, 8, 9\n",
    "print \"x:{}, y:{}, z:{}\".format(x, y, z)"
   ]
  },
  {
   "cell_type": "markdown",
   "metadata": {},
   "source": [
    "##### Swapping two values in python:"
   ]
  },
  {
   "cell_type": "code",
   "execution_count": null,
   "metadata": {},
   "outputs": [],
   "source": [
    "x = 20\n",
    "y = 30\n",
    "\n",
    "x, y = y, x #  swapping in python\n",
    "\n",
    "print \"x:{}, y:{}\".format(x, y)"
   ]
  },
  {
   "cell_type": "markdown",
   "metadata": {},
   "source": [
    "#### ** Iterating list of tuples:"
   ]
  },
  {
   "cell_type": "code",
   "execution_count": null,
   "metadata": {},
   "outputs": [],
   "source": [
    "lt = [('Apple', 30), ('Grape', 20), ('Mango', 25)]\n",
    "\n",
    "for tpl in lt:\n",
    "    print tpl[0], tpl[1]"
   ]
  },
  {
   "cell_type": "markdown",
   "metadata": {},
   "source": [
    "We can use list un packing method to write clean code, as below"
   ]
  },
  {
   "cell_type": "code",
   "execution_count": null,
   "metadata": {},
   "outputs": [],
   "source": [
    "fruit_bucket = [('Apple', 30), ('Grape', 20), ('Mango', 25)]\n",
    "\n",
    "for fruit, count in fruit_bucket:\n",
    "    print fruit, count"
   ]
  },
  {
   "cell_type": "markdown",
   "metadata": {},
   "source": [
    "In each iteration one tuple will be unpacked to 'fruit' and 'count' variables."
   ]
  },
  {
   "cell_type": "markdown",
   "metadata": {},
   "source": [
    "#### **Difference between List and Tuple"
   ]
  },
  {
   "cell_type": "markdown",
   "metadata": {},
   "source": [
    "<table>\n",
    "<tr><th> List </th><th> Tuple</th></tr>\n",
    "<tr><td> mutable </td><td> immutable </td></tr>\n",
    "<tr><td> dynamically resizable array</td><td> fixed in size</td></tr>\n",
    "<tr><td> \\* emphasizes on quantity </td><td> \\* emphasizes on the structure </td></tr>\n",
    "<tr><td> \\*\\* unhashable </td><td> ** hashable </td></tr>\n",
    "<tr><td> use square brackets </td><td> use paranthesis (optional some times) </td></tr>\n",
    "<tr><td> comma not required when having single element </td><td> comma is required when having single element </td></tr>\n",
    "</table>"
   ]
  },
  {
   "cell_type": "markdown",
   "metadata": {},
   "source": [
    "### Built-in functions on sequences\n",
    "\n",
    "##### Finding length of the sequence\n",
    "len():"
   ]
  },
  {
   "cell_type": "code",
   "execution_count": null,
   "metadata": {},
   "outputs": [],
   "source": [
    "l = [7, 8, 9, 3, 2]\n",
    "t = (7, 8, 9, 3, 2)\n",
    "s = \"NEWYORK\"\n",
    "\n",
    "print len(l), len(t), len(s)"
   ]
  },
  {
   "cell_type": "markdown",
   "metadata": {},
   "source": [
    "##### sorting the sequence\n",
    "_sorted():_\n",
    "\n",
    "List has its own sort() function. sort() function sorts elements in-place. But tuple and str are immutable types, we cannot sort them in-place. We need an external function, and we have one. sorted() function takes a sequence and returns a sorted list of items."
   ]
  },
  {
   "cell_type": "code",
   "execution_count": null,
   "metadata": {},
   "outputs": [],
   "source": [
    "l = [7, 8, 9, 3, 2]\n",
    "t = (7, 8, 9, 3, 2)\n",
    "s = \"NEWYORK\"\n",
    "\n",
    "print sorted(l)\n",
    "print sorted(t, reverse=True)\n",
    "print sorted(s)"
   ]
  },
  {
   "cell_type": "markdown",
   "metadata": {},
   "source": [
    "##### Finding maximum:\n",
    "_max():_"
   ]
  },
  {
   "cell_type": "code",
   "execution_count": null,
   "metadata": {},
   "outputs": [],
   "source": [
    "l = [7, 8, 9, 3, 2]\n",
    "t = (7, 8, 9, 3, 2)\n",
    "s = \"NEWYORK\"\n",
    "\n",
    "print max(l)\n",
    "print max(t)\n",
    "print max(s)"
   ]
  },
  {
   "cell_type": "markdown",
   "metadata": {},
   "source": [
    "##### Finding minimum:\n",
    "_min():_"
   ]
  },
  {
   "cell_type": "code",
   "execution_count": null,
   "metadata": {},
   "outputs": [],
   "source": [
    "l = [7, 8, 9, 3, 2]\n",
    "t = (7, 8, 9, 3, 2)\n",
    "s = \"NEWYORK\"\n",
    "\n",
    "print min(l)\n",
    "print min(t)\n",
    "print min(s)"
   ]
  },
  {
   "cell_type": "markdown",
   "metadata": {},
   "source": [
    "#### Sum of the numbers\n",
    "_sum():_"
   ]
  },
  {
   "cell_type": "code",
   "execution_count": null,
   "metadata": {},
   "outputs": [],
   "source": [
    "l = [7, 8, 9, 3, 2]\n",
    "t = (7, 8, 9, 3, 2)\n",
    "print sum(l)\n",
    "print sum(t)"
   ]
  },
  {
   "cell_type": "markdown",
   "metadata": {},
   "source": [
    "#### More built-in functions in python\n",
    "\n",
    "abs() :- returns absolute value"
   ]
  },
  {
   "cell_type": "code",
   "execution_count": null,
   "metadata": {},
   "outputs": [],
   "source": [
    "print abs(-13), abs(13)"
   ]
  },
  {
   "cell_type": "markdown",
   "metadata": {},
   "source": [
    "chr() :- takes ASCII code and returns character"
   ]
  },
  {
   "cell_type": "code",
   "execution_count": null,
   "metadata": {},
   "outputs": [],
   "source": [
    "print chr(65), chr(97)"
   ]
  },
  {
   "cell_type": "markdown",
   "metadata": {},
   "source": [
    "ord() :- takes character and returns ASCII code"
   ]
  },
  {
   "cell_type": "code",
   "execution_count": null,
   "metadata": {},
   "outputs": [],
   "source": [
    "print ord('A'), ord('a')"
   ]
  },
  {
   "cell_type": "markdown",
   "metadata": {},
   "source": [
    "### List of tuples - Frequently used construct\n",
    "\n",
    "In non-object-oriented environments, list of tuples is generally used to represent a list of database records. Let's take an example of list of employee records. We have employee id, name, salary and age in each row in the same order. Below construct is widely used represenation of list of employee records. To represent a row we are using tuple here. "
   ]
  },
  {
   "cell_type": "code",
   "execution_count": null,
   "metadata": {},
   "outputs": [],
   "source": [
    "employees = [\n",
    "            (1237, 'John', 23000, 25),\n",
    "            (1235, 'Samantha', 40000, 41),\n",
    "            (1238, 'Amanda', 45000, 30),\n",
    "            (1239, 'Alex', 57000, 31),\n",
    "            (1236, 'Vicky', 40000, 24)\n",
    "            ]\n",
    "\n",
    "for _id, name, sal, age in employees:\n",
    "    print _id, name, sal, age"
   ]
  },
  {
   "cell_type": "markdown",
   "metadata": {},
   "source": [
    "How do you sort above list of tuples, on their salaries?"
   ]
  },
  {
   "cell_type": "code",
   "execution_count": null,
   "metadata": {},
   "outputs": [],
   "source": [
    "employees = [\n",
    "            (1239, 'John', 23000, 25),\n",
    "            (1235, 'Samantha', 13000, 21),\n",
    "            (1238, 'Amanda', 45000, 30),\n",
    "            (1237, 'Alex', 57000, 31),\n",
    "            (1236, 'Vicky', 40000, 24)\n",
    "            ]\n",
    "\n",
    "sorted_records = sorted(employees)\n",
    "\n",
    "for rec in sorted_records:\n",
    "    print rec"
   ]
  },
  {
   "cell_type": "markdown",
   "metadata": {},
   "source": [
    "__Comparing two tuples:__"
   ]
  },
  {
   "cell_type": "code",
   "execution_count": null,
   "metadata": {},
   "outputs": [],
   "source": [
    "t1 = (1236, 'Vicky', 40000, 24)\n",
    "t2 = (1236, 'Samantha', 13000, 21)\n",
    "\n",
    "t1 < t2"
   ]
  },
  {
   "cell_type": "markdown",
   "metadata": {},
   "source": [
    "\\*\\*Note: default comparision happens on id()s of tuples"
   ]
  },
  {
   "cell_type": "markdown",
   "metadata": {},
   "source": [
    "By default sorted() method takes first value of each tuple as the comparsion criteria. To change this behaviour we have to pass the comparision criteria explicitely using a callable object (function ,lambda function etc.)"
   ]
  },
  {
   "cell_type": "markdown",
   "metadata": {},
   "source": [
    "__Introduction to lambda:__ lambda function is an one line function. Which expands the expression given.\n",
    "syntax:\n",
    "```python\n",
    "lambda parameters: expression\n",
    "```"
   ]
  },
  {
   "cell_type": "code",
   "execution_count": null,
   "metadata": {},
   "outputs": [],
   "source": [
    "f = lambda x, y: x + y\n",
    "print f(4, 5)"
   ]
  },
  {
   "cell_type": "markdown",
   "metadata": {},
   "source": [
    "in the above code, __f(4, 5)__ replaced by __4 + 5__, thus resulting __9__"
   ]
  },
  {
   "cell_type": "markdown",
   "metadata": {},
   "source": [
    "sorted(), max() and min() functions have a second parameter which is __key__. _key_ is a lambda function, which is internally used by above three functions when two tuples are being compared(< or >). Comparing two tuples directly with less than or greater than operators is meaning less. So, key function recieves each tuple and returns first item in the tuple. A typical key lambda function looks like below.\n"
   ]
  },
  {
   "cell_type": "code",
   "execution_count": null,
   "metadata": {},
   "outputs": [],
   "source": [
    "key = lambda x: x[0]"
   ]
  },
  {
   "cell_type": "markdown",
   "metadata": {},
   "source": [
    "Lets apply thsi key on two tuples,"
   ]
  },
  {
   "cell_type": "code",
   "execution_count": null,
   "metadata": {},
   "outputs": [],
   "source": [
    "key = lambda x: x[0]\n",
    "\n",
    "t1 = (1235, 'Samantha', 53000, 21)\n",
    "t2 = (1236, 'Vicky', 40000, 24)\n",
    "\n",
    "print key(t1) < key(t2)"
   ]
  },
  {
   "cell_type": "markdown",
   "metadata": {},
   "source": [
    "in the above code __key(t1) < key(t2)__ is replaced with t1[0] < t2[0]. What we should understand is first item of the tuple(index o) is being compared not the tuple itself. So, result is True.<br>\n",
    "\n",
    "How do we change key lambda to consider salary as the comparision criteria?\n",
    "simple, define key as below.\n",
    "```python\n",
    "key = lambda x: x[2]\n",
    "```\n",
    "x[2] means, taking 3rd item in the list as comparision criteria."
   ]
  },
  {
   "cell_type": "code",
   "execution_count": null,
   "metadata": {},
   "outputs": [],
   "source": [
    "key = lambda x: x[2]\n",
    "\n",
    "t1 = (1235, 'Samantha', 53000, 21)\n",
    "t2 = (1236, 'Vicky', 40000, 24)\n",
    "\n",
    "print key(t1) < key(t2)"
   ]
  },
  {
   "cell_type": "markdown",
   "metadata": {},
   "source": [
    "in the above code __key(t1) < key(t2)__ is replaced with t1[2] < t2[2], thus resulting True. Now it is time to apply a lambda to _sorted()_ function\n",
    "\n",
    "_Sorting list of tuples on salary:_"
   ]
  },
  {
   "cell_type": "code",
   "execution_count": null,
   "metadata": {},
   "outputs": [],
   "source": [
    "employees = [\n",
    "            (1239, 'John', 23000, 25),\n",
    "            (1235, 'Samantha', 13000, 21),\n",
    "            (1238, 'Amanda', 45000, 30),\n",
    "            (1237, 'Alex', 57000, 31),\n",
    "            (1236, 'Vicky', 40000, 24)\n",
    "            ]\n",
    "\n",
    "sorted_records = sorted(employees, key=lambda x:x[0])\n",
    "for rec in sorted_records:\n",
    "    print rec"
   ]
  },
  {
   "cell_type": "markdown",
   "metadata": {},
   "source": [
    "_Employees with max salary:_"
   ]
  },
  {
   "cell_type": "code",
   "execution_count": null,
   "metadata": {},
   "outputs": [],
   "source": [
    "employees = [\n",
    "            (1239, 'John', 23000, 25),\n",
    "            (1235, 'Samantha', 13000, 21),\n",
    "            (1238, 'Amanda', 45000, 30),\n",
    "            (1237, 'Alex', 57000, 31),\n",
    "            (1236, 'Vicky', 40000, 24)\n",
    "            ]\n",
    "\n",
    "print 'Max sal:', max(employees, key=lambda x:x[2])"
   ]
  },
  {
   "cell_type": "markdown",
   "metadata": {},
   "source": [
    "_Employee with min age:_"
   ]
  },
  {
   "cell_type": "code",
   "execution_count": null,
   "metadata": {},
   "outputs": [],
   "source": [
    "employees = [\n",
    "            (1239, 'John', 23000, 25),\n",
    "            (1235, 'Samantha', 13000, 21),\n",
    "            (1238, 'Amanda', 45000, 30),\n",
    "            (1237, 'Alex', 57000, 31),\n",
    "            (1236, 'Vicky', 40000, 24)\n",
    "            ]\n",
    "\n",
    "print 'Min age:', min(employees, key=lambda x:x[3])"
   ]
  },
  {
   "cell_type": "markdown",
   "metadata": {},
   "source": [
    "## Set\n",
    "A set contains an unordered collection of unique objects. The set data type is, as the name implies, a mathematical set. Set does not allow duplicates. Set does not maintain an order. This is because, the placement of each value in the set is decided by arbitary index prodcuded by hash() function. So, We should not relie on the order of set elements, even though some times it looks like ordered.\n",
    "\n",
    "Internally uses a hash table. Values are translated to indices of the hash table using hash() function .<br>\n",
    "When a collison occures in the hash table, it ignores the element.<br>\n",
    "This explains, why sets unlike lists and tuples can't have multiple occurrences of the same element. type() of set is 'set'.\n",
    "\n",
    "#### Set Operations"
   ]
  },
  {
   "cell_type": "markdown",
   "metadata": {},
   "source": [
    "##### Creating a set:"
   ]
  },
  {
   "cell_type": "code",
   "execution_count": null,
   "metadata": {},
   "outputs": [],
   "source": [
    "s = {2, 3, 1, 2, 1, 3}\n",
    "print s"
   ]
  },
  {
   "cell_type": "markdown",
   "metadata": {},
   "source": [
    "##### Creating an empty set:"
   ]
  },
  {
   "cell_type": "code",
   "execution_count": null,
   "metadata": {},
   "outputs": [],
   "source": [
    "s = set()\n",
    "print s"
   ]
  },
  {
   "cell_type": "markdown",
   "metadata": {},
   "source": [
    "The below syntax is not an empty set, it is empty dictionary, which we will be discussing later."
   ]
  },
  {
   "cell_type": "code",
   "execution_count": null,
   "metadata": {},
   "outputs": [],
   "source": [
    "s = {}\n",
    "print type(s)"
   ]
  },
  {
   "cell_type": "markdown",
   "metadata": {},
   "source": [
    "##### Converting a list to set:"
   ]
  },
  {
   "cell_type": "code",
   "execution_count": null,
   "metadata": {},
   "outputs": [],
   "source": [
    "l = [2, 6, 3, 2, 6, 3, 2, 4, 1, 3]\n",
    "s = set(l)\n",
    "print s"
   ]
  },
  {
   "cell_type": "markdown",
   "metadata": {},
   "source": [
    "##### Set doesn't allow duplicates:"
   ]
  },
  {
   "cell_type": "code",
   "execution_count": null,
   "metadata": {},
   "outputs": [],
   "source": [
    "s = {2, 6, 3, 2 ,6, 3, 2, 4, 1, 3}\n",
    "print s"
   ]
  },
  {
   "cell_type": "code",
   "execution_count": null,
   "metadata": {},
   "outputs": [],
   "source": [
    "s = {\"Apple\", \"Orange\", \"Banana\", \"Orange\", \"Apple\", \"Banana\"}\n",
    "print s"
   ]
  },
  {
   "cell_type": "code",
   "execution_count": null,
   "metadata": {},
   "outputs": [],
   "source": [
    "s = {2.3, 4.5, 3.2, 2.3, 5.3}\n",
    "print s"
   ]
  },
  {
   "cell_type": "markdown",
   "metadata": {},
   "source": [
    "##### Adding an element to a set():"
   ]
  },
  {
   "cell_type": "code",
   "execution_count": null,
   "metadata": {},
   "outputs": [],
   "source": [
    "s = {2, 5}\n",
    "s.add(3)\n",
    "print s"
   ]
  },
  {
   "cell_type": "markdown",
   "metadata": {},
   "source": [
    "##### Removing an element from set():\n",
    "\n",
    "_Using remove() function:_"
   ]
  },
  {
   "cell_type": "code",
   "execution_count": null,
   "metadata": {},
   "outputs": [],
   "source": [
    "s = {3, 4, 5}\n",
    "x = 4\n",
    "s.remove(x)\n",
    "print s"
   ]
  },
  {
   "cell_type": "markdown",
   "metadata": {},
   "source": [
    "If element not present, throws a 'KeyError'"
   ]
  },
  {
   "cell_type": "code",
   "execution_count": null,
   "metadata": {},
   "outputs": [],
   "source": [
    "s = {3, 4, 5}\n",
    "x = 99\n",
    "s.remove(x)\n",
    "print s"
   ]
  },
  {
   "cell_type": "markdown",
   "metadata": {},
   "source": [
    "_Using discard() function:_ \n",
    "\n",
    "Removes x from set s if present. If element not existing, doesn't throw any error, it just keeps quite."
   ]
  },
  {
   "cell_type": "code",
   "execution_count": null,
   "metadata": {},
   "outputs": [],
   "source": [
    "s = {3, 4, 5}\n",
    "x = 99\n",
    "s.discard(x)\n",
    "print s"
   ]
  },
  {
   "cell_type": "markdown",
   "metadata": {},
   "source": [
    "_Using pop() function:_\n",
    "\n",
    "pop() removes and return an arbitrary element from s; raises 'KeyError' if empty"
   ]
  },
  {
   "cell_type": "code",
   "execution_count": null,
   "metadata": {},
   "outputs": [],
   "source": [
    "s = {3, 4, 5}\n",
    "print s\n",
    "s.pop()\n",
    "print s"
   ]
  },
  {
   "cell_type": "markdown",
   "metadata": {},
   "source": [
    "##### Updating a set:"
   ]
  },
  {
   "cell_type": "code",
   "execution_count": null,
   "metadata": {},
   "outputs": [],
   "source": [
    "s1 = {4, 5, 2, 1}\n",
    "s2 = {7, 8, 5, 6}\n",
    "s1.update(s2)\n",
    "print s1"
   ]
  },
  {
   "cell_type": "markdown",
   "metadata": {},
   "source": [
    "update() funcion adds all the elements in s2 to s1."
   ]
  },
  {
   "cell_type": "markdown",
   "metadata": {},
   "source": [
    "##### Iterating through a set:"
   ]
  },
  {
   "cell_type": "code",
   "execution_count": null,
   "metadata": {},
   "outputs": [],
   "source": [
    "s = {'Apple', 'Orange', 'Peach', 'Banana'}\n",
    "for x in s:\n",
    "    print x"
   ]
  },
  {
   "cell_type": "markdown",
   "metadata": {},
   "source": [
    "##### Set unpacking:"
   ]
  },
  {
   "cell_type": "code",
   "execution_count": null,
   "metadata": {},
   "outputs": [],
   "source": [
    "s = {'Apple', 'Ball', 'Cat'}\n",
    "print s\n",
    "x, y, z = s\n",
    "print x, y, z"
   ]
  },
  {
   "cell_type": "markdown",
   "metadata": {},
   "source": [
    "#### Use-Cases\n",
    "##### 1. Set removes duplicates\n",
    "\n",
    "Set uses hash-table data structure internally. Hashing is the process of translating values into array indices.  Placement of each value in the set is decided by an arbitary index prodcuded by hash() function. hash() function always ensures producing same index for a given value. Still there is a chance that, two values may get same index. This is called hash() collision. Hash-table generally stores all the values with the same hash code, in the same bucket. Before storing in same bucket, to make sure not to have any duplicates in the bucket, it compares current element with each existing element in the bucket. If an element with same value is existintg in the bucket, it ignores current element. Thus removing duplicates. </p>\n"
   ]
  },
  {
   "cell_type": "code",
   "execution_count": null,
   "metadata": {},
   "outputs": [],
   "source": [
    "s = {35, 92, 51, 35, 42, 92}"
   ]
  },
  {
   "cell_type": "code",
   "execution_count": null,
   "metadata": {},
   "outputs": [],
   "source": [
    "print s"
   ]
  },
  {
   "cell_type": "markdown",
   "metadata": {},
   "source": [
    "Python has a built-in function __hash()__ which returns an unque identifier for each value we pass. This hash code is unique for every value in the lifetime of a program. As the implementation of the butil-in hash() function is complex to understand now. To make it simple, assume that, when we pass 'n' to __hash()__ function,i.e, calling __hash(n)__, returns n%10. \n",
    "\n",
    "For example, calling __hash(35)__, results 35%10, which is 5.\n",
    "\n",
    "__Hashing__ is the process of translating values to unqiue numbers, generally called as hash code. These numbers are  utilized by other data structures like sets and dictionaries to allocate a slot(bucket) in an array. \n",
    "\n",
    "Let's see how set removes duplicates from a list of values.\n",
    "\n",
    "<img src='drawing8.png' width='600'>"
   ]
  },
  {
   "cell_type": "markdown",
   "metadata": {},
   "source": [
    "__Program:__ Remove duplicates from the given list"
   ]
  },
  {
   "cell_type": "code",
   "execution_count": null,
   "metadata": {},
   "outputs": [],
   "source": [
    "l = [35, 92, 51, 35, 42, 92]\n",
    "l = list(set(l))\n",
    "print l"
   ]
  },
  {
   "cell_type": "markdown",
   "metadata": {},
   "source": [
    "##### 2. Faster Look-ups, O(1):\n",
    "\n",
    "We know that Set stores elements in a hash table.  Searching(look-up) operation is always constant and mostly just involves one operation. As we know that set is unordered, due to arbitary value of hash code. We cannot access the individual elements, as there is no fixed index, we can only check element existance. "
   ]
  },
  {
   "cell_type": "code",
   "execution_count": null,
   "metadata": {},
   "outputs": [],
   "source": [
    "s = {35, 67, 92, 42, 77}\n",
    "k = 42\n",
    "print k in s"
   ]
  },
  {
   "cell_type": "markdown",
   "metadata": {},
   "source": [
    "##### 3. Relations between sets"
   ]
  },
  {
   "cell_type": "markdown",
   "metadata": {},
   "source": [
    "_Union of two sets:_ All the unqiue elements in both the sets."
   ]
  },
  {
   "cell_type": "code",
   "execution_count": null,
   "metadata": {},
   "outputs": [],
   "source": [
    "s1 = {3, 4, 5, 6}\n",
    "s2 = {5, 9, 6, 8}\n",
    "all_values = s1.union(s2)\n",
    "print all_values"
   ]
  },
  {
   "cell_type": "markdown",
   "metadata": {},
   "source": [
    "Above union() function is equivalent of applying '|' operator."
   ]
  },
  {
   "cell_type": "code",
   "execution_count": null,
   "metadata": {},
   "outputs": [],
   "source": [
    "s1 = {3, 4, 5, 6}\n",
    "s2 = {5, 9, 6, 8}\n",
    "all_values = s1 | s2\n",
    "print all_values"
   ]
  },
  {
   "cell_type": "markdown",
   "metadata": {},
   "source": [
    "_Intersection of two sets:_ Common elements in both the sets."
   ]
  },
  {
   "cell_type": "code",
   "execution_count": null,
   "metadata": {},
   "outputs": [],
   "source": [
    "s1 = {3, 4, 5, 6}\n",
    "s2 = {5, 9, 6, 8}\n",
    "common = s1.intersection(s2)\n",
    "print common"
   ]
  },
  {
   "cell_type": "markdown",
   "metadata": {},
   "source": [
    "Above intersection() function is equivalent of applying '&' operator."
   ]
  },
  {
   "cell_type": "code",
   "execution_count": null,
   "metadata": {},
   "outputs": [],
   "source": [
    "s1 = {3, 4, 5, 6}\n",
    "s2 = {5, 9, 6, 8}\n",
    "common = s1 & s2\n",
    "print common"
   ]
  },
  {
   "cell_type": "markdown",
   "metadata": {},
   "source": [
    "_Difference of two sets:_ Elements which are present in one set but not in the other."
   ]
  },
  {
   "cell_type": "code",
   "execution_count": null,
   "metadata": {},
   "outputs": [],
   "source": [
    "s1 = {3, 4, 5, 6}\n",
    "s2 = {5, 9, 6, 8}\n",
    "diff = s1.difference(s2)\n",
    "print diff"
   ]
  },
  {
   "cell_type": "markdown",
   "metadata": {},
   "source": [
    "Above intersection() function is equivalent of applying '&' operator."
   ]
  },
  {
   "cell_type": "code",
   "execution_count": null,
   "metadata": {},
   "outputs": [],
   "source": [
    "s1 = {3, 4, 5, 6}\n",
    "s2 = {5, 9, 6, 8}\n",
    "diff = s1 - s2\n",
    "print diff "
   ]
  },
  {
   "cell_type": "markdown",
   "metadata": {},
   "source": [
    "<b>Program:</b><br>\n",
    "Given customer ids who deposited money, for the last three days.<br>\n",
    "1. Find the customer ids who deposited on 1st and 3rd days but not on the 2nd day.<br>\n",
    "2. Find the customer id, who deposited all the days<br>\n",
    "3. Customer ids, who did deposites atleast 2 of the 3 days\n",
    "4. Total number of customers who did deposites\n",
    "\n",
    "day1 = [1122, 1234, 1256, 1389, 1122, 1234, 1389, 1122, 1389, 1234]<br>\n",
    "day2 = [1134, 1256, 1399, 1455, 1399, 1256, 1134, 1455, 1256, 1134]<br>\n",
    "day3 = [1256, 1455, 1122, 1899, 1256, 1122, 1455, 1899, 1455, 1122]<br>\n",
    "\n",
    "__Solution:__\n"
   ]
  },
  {
   "cell_type": "code",
   "execution_count": null,
   "metadata": {
    "solution": "shown",
    "solution_first": true
   },
   "outputs": [],
   "source": [
    "day1 = [1122, 1234, 1256, 1389, 1122, 1234, 1389, 1122, 1389, 1234]\n",
    "day2 = [1134, 1256, 1399, 1455, 1399, 1256, 1134, 1455, 1256, 1134]\n",
    "day3 = [1256, 1455, 1122, 1899, 1256, 1122, 1455, 1899, 1455, 1122]\n",
    "\n",
    "d1 = set(day1)\n",
    "print d1\n",
    "print d2\n",
    "print d3\n",
    "d2 = set(day2)\n",
    "d3 = set(day3)\n",
    "print 'Customer who deposited on day 3 and day 1 but not on day 2:',\n",
    "print (d1 & d3) - d2"
   ]
  },
  {
   "cell_type": "code",
   "execution_count": null,
   "metadata": {},
   "outputs": [],
   "source": [
    "print 'Customers who did deposites all the threee days:',\n",
    "print d1 & d2 & d3"
   ]
  },
  {
   "cell_type": "code",
   "execution_count": null,
   "metadata": {},
   "outputs": [],
   "source": [
    "customers = (d1 & d2) | (d2 & d3) | (d3 & d1)\n",
    "print 'Customers who did deposotes atleast 2 days out of 3 days'\n",
    "print customers"
   ]
  },
  {
   "cell_type": "code",
   "execution_count": null,
   "metadata": {},
   "outputs": [],
   "source": [
    "all_cust = d1 | d2 | d3\n",
    "print 'Number of customers who did deposites:', len(all_cust)"
   ]
  },
  {
   "cell_type": "markdown",
   "metadata": {},
   "source": [
    "__Some more functions on sets__"
   ]
  },
  {
   "cell_type": "code",
   "execution_count": null,
   "metadata": {},
   "outputs": [],
   "source": [
    "s1 = {3, 4, 5, 6}\n",
    "s2 = {5, 6, 4}\n",
    "s3 = {8, 7, 9}"
   ]
  },
  {
   "cell_type": "code",
   "execution_count": null,
   "metadata": {},
   "outputs": [],
   "source": [
    "s1.isdisjoint(s3)"
   ]
  },
  {
   "cell_type": "code",
   "execution_count": null,
   "metadata": {},
   "outputs": [],
   "source": [
    "s2.issubset(s1)"
   ]
  },
  {
   "cell_type": "code",
   "execution_count": null,
   "metadata": {},
   "outputs": [],
   "source": [
    "s1.issuperset(s2)"
   ]
  },
  {
   "cell_type": "markdown",
   "metadata": {},
   "source": [
    "#### Why tuple is hashable, but not list?\n",
    "\n",
    "List is dynamically resizable array, and elements can be changed, deleted and added at any time. On sequences like list and tuple, hash() is computed on individual elements, then it is combined generally using xor operator to resolve the index. This hash code is unique for it's life time. Dynamic containers like list, varies in size and elements gets modifed. As elements are varying, evaluating a constant hash() is impossible. Tuples are immutable computing a constant hash() is possible."
   ]
  },
  {
   "cell_type": "code",
   "execution_count": null,
   "metadata": {},
   "outputs": [],
   "source": [
    "s = {(1, 2), (3, 4), (1, 2), (4, 3), (2, 1)}\n",
    "print s"
   ]
  },
  {
   "cell_type": "code",
   "execution_count": null,
   "metadata": {},
   "outputs": [],
   "source": [
    "hash((1, 2)), hash((2, 1))"
   ]
  },
  {
   "cell_type": "code",
   "execution_count": null,
   "metadata": {},
   "outputs": [],
   "source": [
    "l = [1, 2]\n",
    "s = {[3, 4], l, [2, 1], [1,2], [4, 3]}\n",
    "print s"
   ]
  },
  {
   "cell_type": "code",
   "execution_count": null,
   "metadata": {},
   "outputs": [],
   "source": [
    "employees = [\n",
    "            (1239, 'John', 23000, 25),\n",
    "            (1235, 'Samantha', 13000, 21),\n",
    "            (1238, 'Amanda', 45000, 30),\n",
    "            (1237, 'Alex', 57000, 31),\n",
    "            (1236, 'Vicky', 40000, 24)\n",
    "            ]\n",
    "s = set(employees)\n",
    "s"
   ]
  },
  {
   "cell_type": "code",
   "execution_count": null,
   "metadata": {},
   "outputs": [],
   "source": [
    "(1236, 'Vicky', 40000, 24) in s"
   ]
  },
  {
   "cell_type": "code",
   "execution_count": null,
   "metadata": {},
   "outputs": [],
   "source": [
    "s = {set([3, 4]), set([5, 6])}"
   ]
  },
  {
   "cell_type": "code",
   "execution_count": null,
   "metadata": {},
   "outputs": [],
   "source": [
    "fs1 = frozenset([2, 3])\n",
    "fs2 = frozenset([4, 5])\n",
    "fs3 = frozenset([2, 3])\n",
    "s = {fs1, fs2, fs3}\n",
    "s"
   ]
  },
  {
   "cell_type": "markdown",
   "metadata": {},
   "source": [
    "__Note:__ The main reason to have tuple in python is, hashability. List is hashable when it is immutable. A constant list is tuple. Similarly, a set() is not hashable, we cannot store, a set in another set, as it is mutable. So our only option is to have a constant set. Actucally we have one; ForzenSet() from 'collections' module. Hashability is very important property in programming.<br> \n",
    "&nbsp;&nbsp;&nbsp;&nbsp;&nbsp;&nbsp;&nbsp;&nbsp;&nbsp;&nbsp;&nbsp;&nbsp;&nbsp;&nbsp;&nbsp;\"All mutable types are unhashable\"<br>\n",
    "We discuss more on this in the next sections."
   ]
  },
  {
   "cell_type": "markdown",
   "metadata": {},
   "source": [
    "## Dictionary\n",
    "In python list() is sequence of elements. Each element in list() can be accesed using its index(position). Let's take\n",
    "a list,\n",
    "```python\n",
    "l = [34, 32.5, 33, 35, 32, 35.1, 33.6]\n",
    "```\n",
    "Suppose the above list is representing maximum temperatures of the last week, from Sunday to saturday.<br> \n",
    "How do you access max temperature on Thursday.<br>\n",
    "\n",
    "As Index 0 represents max temperature on Sunday and<br>\n",
    "1 represents Monday, <br>\n",
    "2 represents Tuesday,<br>\n",
    "and so on,<br>\n",
    "\n",
    "```python\n",
    "print l[4]\n",
    "```\n",
    "\n",
    "Gives max temperature on Thursday. Associating temperatures and indices(numeric) in this way, gives unrealistic perspective on the problem. If there is a way to access each temperature in the list with meaningful indices, like, l['Sunday'], l['Monday'] etc; This makes associations more lively, problem-solving more realistic. This is where dictionary can really help us.\n",
    "\n",
    "Dictionary is an associative container, which has a set of Key-Value pairs. 'Key' is the 'Index', through which we access associated value.\n",
    "\n",
    "```python\n",
    "d = {'Sunday':34, 'Monday':32.5, 'Tuesday':33, 'Wednesday':35, 'Thursday':32, 'Friday':35.1, 'Saturday':33.6}\n",
    "```\n",
    "\n",
    "\n",
    "<img src='drawing9.png' width='600'>\n",
    "\n",
    "in the above dictionary, element which is on the left side of colon(':') is the <b>Key</b> also referred as <b>Index</b> and right side element is the <b>Value</b><br>\n",
    "\n",
    "Dictionary internally uses hash-table data structure.<br>type() of dictionary is 'dict'.\n",
    "\n",
    "__Note:__ Like set, dictionary also an unordered data strucure.\n"
   ]
  },
  {
   "cell_type": "code",
   "execution_count": null,
   "metadata": {},
   "outputs": [],
   "source": [
    "d = {\n",
    "     'Sunday':34,\n",
    "     'Monday':32.5,\n",
    "     'Tuesday':33,\n",
    "     'Wednesday':35,\n",
    "     'Thursday':32,\n",
    "     'Friday':35.1,\n",
    "     'Saturday':33.6\n",
    "    }\n",
    "\n",
    "d['Thursday']"
   ]
  },
  {
   "cell_type": "markdown",
   "metadata": {},
   "source": [
    "##### Creating an empty dictionary:"
   ]
  },
  {
   "cell_type": "code",
   "execution_count": null,
   "metadata": {},
   "outputs": [],
   "source": [
    "d = {} # Empty dictionary\n",
    "print d"
   ]
  },
  {
   "cell_type": "code",
   "execution_count": null,
   "metadata": {},
   "outputs": [],
   "source": [
    "d = dict() # Empty dictionary\n",
    "print d"
   ]
  },
  {
   "cell_type": "markdown",
   "metadata": {},
   "source": [
    "##### Creating dict and initilizing with key-value pairs:"
   ]
  },
  {
   "cell_type": "code",
   "execution_count": null,
   "metadata": {},
   "outputs": [],
   "source": [
    "d = {1:'One', 2: 'Two', 3:'Three'}\n",
    "print d\n",
    "\n",
    "d = {'Hyderabad': 500001, 'Chennai': 400001, 'Delhi': 100001}\n",
    "print d"
   ]
  },
  {
   "cell_type": "markdown",
   "metadata": {},
   "source": [
    "<b>Imp Note:</b> Key can be any hashable type, where as for value there is no data-type restriction."
   ]
  },
  {
   "cell_type": "markdown",
   "metadata": {},
   "source": [
    "##### Retreiving value from dictionary:\n",
    "Syntax: d[Key]\n",
    "To retrieve a value, __hash(Key)__ is called and an index is prodcued, where the the key-value should be found. If a bucket has multiple key-value pair, equality check happens on each key, and assocaited value is returned, else throws a 'KeyError'."
   ]
  },
  {
   "cell_type": "code",
   "execution_count": null,
   "metadata": {},
   "outputs": [],
   "source": [
    "d = {'Mango': 30, 'Banana': 15, 'Peach': 20}\n",
    "\n",
    "print d['Peach']"
   ]
  },
  {
   "cell_type": "markdown",
   "metadata": {},
   "source": [
    "##### Adding key-value pair to a dictionary:\n",
    "```python\n",
    "Syntax: d[Key] = Value \n",
    "```\n",
    "To store a key-value pair, __hash(Key)__ is called and an index is prodcued. If same key not existing, key-value pair is stored there, else old value is replaced with new value. "
   ]
  },
  {
   "cell_type": "code",
   "execution_count": null,
   "metadata": {
    "scrolled": true
   },
   "outputs": [],
   "source": [
    "d = {'Mango': 30, 'Banana': 15, 'Peach': 20}\n",
    "d['Orange'] = 40\n",
    "print d"
   ]
  },
  {
   "cell_type": "markdown",
   "metadata": {},
   "source": [
    "In the above dictionary d, if key is already existing, value is replaced."
   ]
  },
  {
   "cell_type": "code",
   "execution_count": null,
   "metadata": {},
   "outputs": [],
   "source": [
    "d = {'Orange': 40, 'Mango': 30, 'Banana': 15, 'Peach': 20}\n",
    "d['Orange'] = 100\n",
    "print d"
   ]
  },
  {
   "cell_type": "markdown",
   "metadata": {},
   "source": [
    "##### Accessing a key, which doesn't exist:"
   ]
  },
  {
   "cell_type": "code",
   "execution_count": null,
   "metadata": {},
   "outputs": [],
   "source": [
    "d = {'Orange': 40, 'Mango': 30, 'Banana': 15, 'Peach': 20}\n",
    "print d['Grape']"
   ]
  },
  {
   "cell_type": "markdown",
   "metadata": {},
   "source": [
    "Above program throws 'KeyError' when key deosn't exist. Some times, this behaviour is not accepted, instead program should continue by assuming a default value. \n",
    "\n",
    "##### Using get() function:\n",
    "&nbsp;&nbsp;&nbsp;&nbsp;d.get(Key) : If key doesn't exist, get() returns None, instead of throwing KeyError."
   ]
  },
  {
   "cell_type": "code",
   "execution_count": null,
   "metadata": {},
   "outputs": [],
   "source": [
    "d = {'Orange': 40, 'Mango': 30, 'Banana': 15, 'Peach': 20}\n",
    "print d.get('Orange')"
   ]
  },
  {
   "cell_type": "code",
   "execution_count": null,
   "metadata": {},
   "outputs": [],
   "source": [
    "d = {'Orange': 40, 'Mango': 30, 'Banana': 15, 'Peach': 20}\n",
    "print d.get('Grape')"
   ]
  },
  {
   "cell_type": "markdown",
   "metadata": {},
   "source": [
    "We can also specify, default value to return, if key doesn't exist."
   ]
  },
  {
   "cell_type": "code",
   "execution_count": null,
   "metadata": {},
   "outputs": [],
   "source": [
    "d = {'Orange': 40, 'Mango': 30, 'Banana': 15, 'Peach': 20}\n",
    "print d.get('Grape', 10)"
   ]
  },
  {
   "cell_type": "markdown",
   "metadata": {},
   "source": [
    "In the above example, if key 'Grape' exists, get() returns associated value else default value, which is 10."
   ]
  },
  {
   "cell_type": "code",
   "execution_count": null,
   "metadata": {},
   "outputs": [],
   "source": [
    "d"
   ]
  },
  {
   "cell_type": "markdown",
   "metadata": {},
   "source": [
    "__Setting default Value if no value exists__"
   ]
  },
  {
   "cell_type": "code",
   "execution_count": null,
   "metadata": {},
   "outputs": [],
   "source": [
    "print d.setdefault('Grape', 10)"
   ]
  },
  {
   "cell_type": "code",
   "execution_count": null,
   "metadata": {},
   "outputs": [],
   "source": [
    "d"
   ]
  },
  {
   "cell_type": "markdown",
   "metadata": {},
   "source": [
    "__Checking Key existance in a dictionary__"
   ]
  },
  {
   "cell_type": "markdown",
   "metadata": {},
   "source": [
    "##### Using 'in' operator"
   ]
  },
  {
   "cell_type": "code",
   "execution_count": null,
   "metadata": {},
   "outputs": [],
   "source": [
    "d = {'Apple': 20, 'Orange': 15, 'Peach': 10}\n",
    "key = 'Peach'\n",
    "print key in d"
   ]
  },
  {
   "cell_type": "markdown",
   "metadata": {},
   "source": [
    "##### Using hash_key() function"
   ]
  },
  {
   "cell_type": "code",
   "execution_count": null,
   "metadata": {},
   "outputs": [],
   "source": [
    "d = {'Apple': 20, 'Orange': 15, 'Peach': 0}\n",
    "print d.has_key('Peach')"
   ]
  },
  {
   "cell_type": "markdown",
   "metadata": {},
   "source": [
    "##### Do not use get() function to check key's existance\n",
    "<b>Note:</b> This is an amateaur coding practice, which leads to catastrophic system failures some times ."
   ]
  },
  {
   "cell_type": "code",
   "execution_count": null,
   "metadata": {},
   "outputs": [],
   "source": [
    "d = {'Apple': 20, 'Orange': 15, 'Peach': 0}\n",
    "\n",
    "if d.get('Peach'):\n",
    "    print 'Key exists'\n",
    "else:\n",
    "    print \"Key doesn't exist\""
   ]
  },
  {
   "cell_type": "markdown",
   "metadata": {},
   "source": [
    "In the above example 'Peach' is existing but returns 0, which coerced(implicit type conversion) to False, and produce  output, \"Key doesn't exist\". We are supposed to check key's existance here. To do so, we should not depend on the value returned by get() function.\n",
    "\n",
    "<b>Imp Note:</b> To check key's existance in a dictionary, We should either use 'in' operator or has_key() function but, using get() function is not suggested."
   ]
  },
  {
   "cell_type": "markdown",
   "metadata": {},
   "source": [
    "##### Removing a key-value pair"
   ]
  },
  {
   "cell_type": "code",
   "execution_count": null,
   "metadata": {},
   "outputs": [],
   "source": [
    "d = {'Orange': 40, 'Mango': 30, 'Banana': 15, 'Peach': 20}\n",
    "key = 'Banana'\n",
    "\n",
    "ret = d.pop(key)\n",
    "\n",
    "print 'Returned value:', ret\n",
    "print 'dict after removing the key:', d"
   ]
  },
  {
   "cell_type": "markdown",
   "metadata": {},
   "source": [
    "pop() function removes the key and its associated value, ('Banana' and 15) and returns 15. This throws 'KeyError' when key deosn't exist."
   ]
  },
  {
   "cell_type": "markdown",
   "metadata": {},
   "source": [
    "##### Iterating through a dictionary"
   ]
  },
  {
   "cell_type": "code",
   "execution_count": null,
   "metadata": {},
   "outputs": [],
   "source": [
    "d = {'Orange': 40, 'Mango': 30, 'Banana': 15, 'Peach': 20}\n",
    "\n",
    "for x in d:\n",
    "    print x"
   ]
  },
  {
   "cell_type": "markdown",
   "metadata": {},
   "source": [
    "By default dictionary provides an iterator to list of keys to for loop. That is the reason, we are seeing only keys in the above example. However we can access value, if we have a key."
   ]
  },
  {
   "cell_type": "code",
   "execution_count": null,
   "metadata": {},
   "outputs": [],
   "source": [
    "d = {'Orange': 40, 'Mango': 30, 'Banana': 15, 'Peach': 20}\n",
    "for x in d:\n",
    "    print x, d[x]"
   ]
  },
  {
   "cell_type": "markdown",
   "metadata": {},
   "source": [
    "#### Some dict functions:"
   ]
  },
  {
   "cell_type": "markdown",
   "metadata": {},
   "source": [
    "_d.keys():_ Returns list of all keys"
   ]
  },
  {
   "cell_type": "code",
   "execution_count": null,
   "metadata": {},
   "outputs": [],
   "source": [
    "d.keys()"
   ]
  },
  {
   "cell_type": "markdown",
   "metadata": {},
   "source": [
    "_d.values():_ Returns list of values"
   ]
  },
  {
   "cell_type": "code",
   "execution_count": null,
   "metadata": {},
   "outputs": [],
   "source": [
    "d.values()"
   ]
  },
  {
   "cell_type": "markdown",
   "metadata": {},
   "source": [
    "_d.items():_  Returns key value pairs as a list of tuples."
   ]
  },
  {
   "cell_type": "code",
   "execution_count": null,
   "metadata": {},
   "outputs": [],
   "source": [
    "d.items()"
   ]
  },
  {
   "cell_type": "markdown",
   "metadata": {},
   "source": [
    "We have seen how to iterate through a list of tuples in the previous sections."
   ]
  },
  {
   "cell_type": "code",
   "execution_count": null,
   "metadata": {},
   "outputs": [],
   "source": [
    "for fruit, quantity in d.items():\n",
    "    print fruit, quantity"
   ]
  },
  {
   "cell_type": "markdown",
   "metadata": {},
   "source": [
    "##### Converting a list of tuples to a dict:"
   ]
  },
  {
   "cell_type": "code",
   "execution_count": null,
   "metadata": {},
   "outputs": [],
   "source": [
    "lt = [('Apple', 30), ('Orange', 20), ('Peach', 40)]\n",
    "d = dict(lt)\n",
    "print d"
   ]
  },
  {
   "cell_type": "markdown",
   "metadata": {},
   "source": [
    "##### Converting list of lists to a dict:"
   ]
  },
  {
   "cell_type": "code",
   "execution_count": null,
   "metadata": {},
   "outputs": [],
   "source": [
    "ll = [['Apple', 30], ['Orage', 20], ('Peach', 40)]\n",
    "d = dict(ll)\n",
    "print d"
   ]
  },
  {
   "cell_type": "markdown",
   "metadata": {},
   "source": [
    "##### Note:\n",
    "Python understands developers intenetion. list of lists or list of tuple, when inner sequence has two elements, dict() converts it into a dcitionary"
   ]
  },
  {
   "cell_type": "markdown",
   "metadata": {},
   "source": [
    "#### Updating/extending a dictionary"
   ]
  },
  {
   "cell_type": "code",
   "execution_count": null,
   "metadata": {},
   "outputs": [],
   "source": [
    "d1 = {'Hyd': 1234, 'Mum': 1235}\n",
    "d2 = {'Blr': 1236, 'Delhi': 1237, 'Hyd':1999}\n",
    "d1.update(d2)\n",
    "print d1"
   ]
  },
  {
   "cell_type": "markdown",
   "metadata": {},
   "source": [
    "Value can be of any type"
   ]
  },
  {
   "cell_type": "markdown",
   "metadata": {},
   "source": [
    "##### type constraints in Keys and Values:\n",
    "Keys must be hashable types.<br>\n",
    "E.g int, str, float, bool, complex, tuple, frozenset, user defined objects etc,<br>\n",
    "For values, there is no restriction on type.\n",
    "\n",
    "__Note:__ set is not hashable.\n",
    "Below is an example dict for Student (or student group) ids and courses registered."
   ]
  },
  {
   "cell_type": "code",
   "execution_count": null,
   "metadata": {},
   "outputs": [],
   "source": [
    "d = {\n",
    "    1234        : ['C++', 'Java'], \n",
    "    (1299, 1289): ('Python', 'SQL'), \n",
    "    1288        : {'C#', 'Python'},\n",
    "    (1266, 1277): 'Pyhon'\n",
    "    }\n",
    "\n",
    "print d[(1299, 1289)]"
   ]
  },
  {
   "cell_type": "markdown",
   "metadata": {},
   "source": [
    "#### Use-Cases:\n",
    "\n",
    "__1. SQL database primary key and indexing__\n",
    "\n",
    "It is mandatory to have a primary key in any SQL database table. The reason is , we can easily search for entire record by using primary key. The secrect here is again the hash table. Which is called index for the table. In a typical scenorio of banking customer-care, a customer generally calls the Customer-Care and enquires about a particular transaction. He gives the transaction id. In banking system millions of transactions can happen in a day or a week. But retrieving one record among them by performing linear search is time taking process. Banking systme takes advantage of the hash-table(dictionary in python) and builds index based on the transaction id for quickest response from the system. As part of database tuning, to improve performance, some times, apart from primary key, these indexes also built on other columns(composite keys, secondary keys). Below is an example index implemenation of customer transaction table in SQL databases."
   ]
  },
  {
   "cell_type": "code",
   "execution_count": null,
   "metadata": {},
   "outputs": [],
   "source": [
    "txn_table = {\n",
    "     'TXN1234': ['TXN1234', 'CUSTID123564', 23000, 'WITHDRAWAL', '12/08/2015:11:32:21'],\n",
    "     'TXN1235': ('TXN1235', 'CUSTID123897', 34000, 'CASHDEPOSIT', '08/02/2016:14:51:02'),\n",
    "     'TXN1266': ('TXN1266', 'CUSTID122938', 16000, 'CHEQUECLR', '21/11/2015:09:13:53')\n",
    "    }"
   ]
  },
  {
   "cell_type": "markdown",
   "metadata": {},
   "source": [
    "Querying details for transaction 'TXN1266':"
   ]
  },
  {
   "cell_type": "code",
   "execution_count": null,
   "metadata": {},
   "outputs": [],
   "source": [
    "print 'Txn details:', txn_table['TXN1266']"
   ]
  },
  {
   "cell_type": "code",
   "execution_count": null,
   "metadata": {},
   "outputs": [],
   "source": [
    "person_data = {\n",
    "    ('John Corner', 1964, 'Newyork') : ('John Corner', 'St Mary St', 'Stuart Corner', 1964, '200000', 'Newyork'),\n",
    "    ('Ian Flemming', 1967, 'Perth')  : ('Ian Flemming','Richmond St', 'Grant Flemming', 1967, '540000', 'Perth'),\n",
    "    ('John Corner', 1964, 'Sydney')  : ('John Corner', 'Orchid str', 'Steffan Corner', 1964, '1200000', 'Sydney')\n",
    "}"
   ]
  },
  {
   "cell_type": "code",
   "execution_count": null,
   "metadata": {},
   "outputs": [],
   "source": [
    "('John Corner', 1964, 'Sydney') in person_data"
   ]
  },
  {
   "cell_type": "code",
   "execution_count": null,
   "metadata": {},
   "outputs": [],
   "source": [
    "person_data[('John Corner', 1964, 'Sydney')]"
   ]
  },
  {
   "cell_type": "markdown",
   "metadata": {},
   "source": [
    "__2. Word Counting Problem__\n",
    "\n",
    "<b>PROGRAM:</b> Find the occurance of each word in the given list.\n",
    "```python\n",
    "words = [\"Apple\", \"Orange\", \"Apple\", \"Banana\", \"Peach\",  \n",
    "          \"Banana\", \"Apple\", \"Peach\", \"Apple\", \"Banana\"]\n",
    "```"
   ]
  },
  {
   "cell_type": "markdown",
   "metadata": {},
   "source": [
    "<B><I>Without dictionaries:</B></I>"
   ]
  },
  {
   "cell_type": "code",
   "execution_count": null,
   "metadata": {},
   "outputs": [],
   "source": [
    "words = [\"Apple\", \"Orange\", \"Apple\", \"Banana\", \"Peach\",  \n",
    "          \"Banana\", \"Apple\", \"Peach\", \"Apple\", \"Banana\"]\n",
    "\n",
    "for word in words:\n",
    "    print word, '->', words.count(word)"
   ]
  },
  {
   "cell_type": "markdown",
   "metadata": {},
   "source": [
    "<B><I>With dictionaries:</B></I>"
   ]
  },
  {
   "cell_type": "code",
   "execution_count": null,
   "metadata": {},
   "outputs": [],
   "source": [
    "words = [\"Apple\", \"Orange\", \"Apple\", \"Banana\", \"Peach\",  \n",
    "          \"Banana\", \"Apple\", \"Peach\", \"Apple\", \"Banana\"]\n",
    "\n",
    "count = {}\n",
    "\n",
    "for word in words:\n",
    "    if word not in count:\n",
    "        count[word] = 1\n",
    "    else:\n",
    "        count[word] += 1\n",
    "print count"
   ]
  },
  {
   "cell_type": "markdown",
   "metadata": {},
   "source": [
    "__Finding the word with maximum frequency:__"
   ]
  },
  {
   "cell_type": "code",
   "execution_count": null,
   "metadata": {},
   "outputs": [],
   "source": [
    "max(count.items(), key=lambda x:x[1])"
   ]
  },
  {
   "cell_type": "markdown",
   "metadata": {},
   "source": [
    "<B><I>Sorting a dictionary:</B></I>"
   ]
  },
  {
   "cell_type": "code",
   "execution_count": null,
   "metadata": {},
   "outputs": [],
   "source": [
    "count.items()"
   ]
  },
  {
   "cell_type": "code",
   "execution_count": null,
   "metadata": {},
   "outputs": [],
   "source": [
    "sorted(count.items())"
   ]
  },
  {
   "cell_type": "code",
   "execution_count": null,
   "metadata": {},
   "outputs": [],
   "source": [
    "sorted(count.items(), key=lambda x:x[1])"
   ]
  },
  {
   "cell_type": "markdown",
   "metadata": {},
   "source": []
  },
  {
   "cell_type": "code",
   "execution_count": null,
   "metadata": {},
   "outputs": [],
   "source": [
    "max(word_count.items(), key=lambda x:x[1])"
   ]
  },
  {
   "cell_type": "markdown",
   "metadata": {},
   "source": [
    "<b>3. Grouping Program:</b> \n",
    "\n",
    "__Program 1:__        \n",
    "Below are the customer ids and deposites done by customers in a typical day of a bank.\n",
    "\n",
    "Customer Id - and list of deposites done by each cutomer.\n",
    "```python\n",
    "trans = [(1237, 87522),\n",
    " (1234, 1000),\n",
    " (1236, 6754),\n",
    " (1234, 200),\n",
    " (1236, 1700),\n",
    " (1234, 400),\n",
    " (1234, 600),\n",
    " (1236, 788),\n",
    " (1234, 500),\n",
    " (1237, 126653)]\n",
    " ```"
   ]
  },
  {
   "cell_type": "code",
   "execution_count": null,
   "metadata": {},
   "outputs": [],
   "source": [
    "trans = [(1237, 87522),\n",
    " (1234, 1000),\n",
    " (1236, 6754),\n",
    " (1234, 200),\n",
    " (1236, 1700),\n",
    " (1234, 400),\n",
    " (1234, 600),\n",
    " (1236, 788),\n",
    " (1234, 500),\n",
    " (1237, 126653)]\n",
    "\n",
    "deposites = {}\n",
    "\n",
    "for custid, deposit in trans:\n",
    "    if custid not in deposites:\n",
    "        deposites[custid] = [deposit]\n",
    "    else:\n",
    "        deposites[custid].append(deposit)\n",
    "\n",
    "deposites.items()"
   ]
  },
  {
   "cell_type": "markdown",
   "metadata": {},
   "source": [
    "__Exercise Program:__ List out all the indices of each word."
   ]
  },
  {
   "cell_type": "code",
   "execution_count": null,
   "metadata": {},
   "outputs": [],
   "source": [
    "fruits = [\"Apple\", \"Orange\", \"Apple\", \"Banana\", \"Peach\",  \n",
    "          \"Banana\", \"Apple\", \"Peach\", \"Apple\", \"Banana\"]\n",
    "\n",
    "fruit_indices = {}\n",
    "\n",
    "for idx, fruit in enumerate(fruits):\n",
    "    \n",
    "    if fruit not in fruit_indices:\n",
    "        \n",
    "        fruit_indices[fruit] = [idx]\n",
    "        \n",
    "    else:\n",
    "        fruit_indices[fruit].append(idx)\n",
    "        \n",
    "print fruit_indices"
   ]
  },
  {
   "cell_type": "markdown",
   "metadata": {},
   "source": [
    "<b>4. Caching</b><br>\n",
    "\n",
    "This is the 4th use-case for dict, which will be discussed along with recursion topic in functions Chapter.\n",
    "\n",
    "<b>5. Keep the latest</b><br>\n",
    "\n",
    "Dictionaries can also be use to maintain the latest data at any instance\n",
    "\n",
    "__Program:__ Latest balances of the all customers by now."
   ]
  },
  {
   "cell_type": "code",
   "execution_count": null,
   "metadata": {},
   "outputs": [],
   "source": [
    "txns =  [\n",
    "         (1245, 1000),\n",
    "         (1233, 2000),\n",
    "         (1245, 3300),\n",
    "         (1237, 2000),\n",
    "         (1233, 1500),\n",
    "         (1245, 3700),\n",
    "         (1239, 1200),\n",
    "         (1237, 3500),\n",
    "         (1245, 4000),\n",
    "         (1239, 1800),\n",
    "        ]\n",
    "\n",
    "latest_data = {}\n",
    "\n",
    "for cust_id, bal in txns:\n",
    "    latest_data[cust_id] = bal\n",
    "\n",
    "print latest_data"
   ]
  },
  {
   "cell_type": "markdown",
   "metadata": {},
   "source": [
    "### Collections\n",
    "\n",
    "Word counting problem can be easily solved by simply using builtin data structure <b>Counter</b> from 'collections' module."
   ]
  },
  {
   "cell_type": "code",
   "execution_count": null,
   "metadata": {},
   "outputs": [],
   "source": [
    "from collections import Counter\n",
    "fruits = [\"Apple\", \"Orange\", \"Banana\", \"Peach\", \"Apple\",\n",
    "          \"Banana\", \"Apple\", \"Peach\", \"Apple\", \"Banana\"]\n",
    "\n",
    "ctr = Counter(fruits)\n",
    "print ctr"
   ]
  },
  {
   "cell_type": "markdown",
   "metadata": {},
   "source": [
    "<I>most_common():</I>\n",
    "\n",
    "Counter has most_common() function, which lists the n most common elements and their counts from the most\n",
    "common to the least.  If n is None, then list all element counts."
   ]
  },
  {
   "cell_type": "code",
   "execution_count": null,
   "metadata": {},
   "outputs": [],
   "source": [
    "n = 2\n",
    "print 'Most frequently occured words:', ctr.most_common(n) "
   ]
  },
  {
   "cell_type": "markdown",
   "metadata": {},
   "source": [
    "#### OrderedDict\n",
    "\n",
    "OrderedDict retains the order in which key-value pairs are added to the dict. Same order is maintained while iterating the dict."
   ]
  },
  {
   "cell_type": "code",
   "execution_count": null,
   "metadata": {},
   "outputs": [],
   "source": [
    "from collections import OrderedDict\n",
    "\n",
    "print 'Regular dictionary:'\n",
    "\n",
    "d = {}\n",
    "d['a'] = 'A'\n",
    "d['b'] = 'B'\n",
    "d['c'] = 'C'\n",
    "d['d'] = 'D'\n",
    "d['e'] = 'E'\n",
    "\n",
    "for k, v in d.items():\n",
    "    print k, v\n",
    "\n",
    "print '\\nOrderedDict:'\n",
    "d = OrderedDict()\n",
    "d['a'] = 'A'\n",
    "d['b'] = 'B'\n",
    "d['c'] = 'C'\n",
    "d['d'] = 'D'\n",
    "d['e'] = 'E'\n",
    "\n",
    "for k, v in d.items():\n",
    "    print k, v\n"
   ]
  },
  {
   "cell_type": "markdown",
   "metadata": {},
   "source": [
    "In the above example built-in dict stores (e, E) before (d, D)<br>\n",
    "But in OrderedDict it stores in the same order given."
   ]
  },
  {
   "cell_type": "markdown",
   "metadata": {},
   "source": [
    "### Deque\n",
    "Dequeue is a list like data struture which supports append operation, but only retains last 'maxlen' number of elements. This data structre belongs to _collections_ module.\n",
    "\n",
    "__Use-Case:__ When we want to keep track of last n elements, use deque"
   ]
  },
  {
   "cell_type": "code",
   "execution_count": null,
   "metadata": {},
   "outputs": [],
   "source": [
    "from collections import deque\n",
    "# Creating a deque\n",
    "dq = deque(maxlen=5)\n",
    "\n",
    "for x in range(11, 45):\n",
    "    dq.append(x)\n",
    "\n",
    "print dq   \n",
    "dq.append(555)\n",
    "dq.append(888)\n",
    "print dq\n"
   ]
  },
  {
   "cell_type": "code",
   "execution_count": null,
   "metadata": {},
   "outputs": [],
   "source": [
    "dq.appendleft(999)\n",
    "dq"
   ]
  },
  {
   "cell_type": "code",
   "execution_count": null,
   "metadata": {},
   "outputs": [],
   "source": [
    "dq.popleft()"
   ]
  },
  {
   "cell_type": "markdown",
   "metadata": {},
   "source": [
    "### Defaultdict"
   ]
  },
  {
   "cell_type": "markdown",
   "metadata": {
    "collapsed": true
   },
   "source": [
    "\n",
    "```python\n",
    "syntax:\n",
    "    from collections import defaultdict\n",
    "    d = defaultdict(<default type>)\n",
    "```\n",
    "\n",
    "defaultdict() returns a dict. When a key is encountered for the first time, it is not already in the dict; so an entry is automatically created using the key and value(0 value of the type). if int is the type provided to defaultdcit, it assigns '0' as the value for the key first time.\n",
    "\n",
    "int - 0 <br>\n",
    "float - 0.0 <br>\n",
    "bool - False <br>\n",
    "list - [] <br>\n",
    "set - set() <br>"
   ]
  },
  {
   "cell_type": "code",
   "execution_count": null,
   "metadata": {},
   "outputs": [],
   "source": [
    "from collections import defaultdict\n",
    "d = defaultdict(int)\n",
    "print d"
   ]
  },
  {
   "cell_type": "code",
   "execution_count": null,
   "metadata": {},
   "outputs": [],
   "source": [
    "'Apple' in d"
   ]
  },
  {
   "cell_type": "code",
   "execution_count": null,
   "metadata": {},
   "outputs": [],
   "source": [
    "d"
   ]
  },
  {
   "cell_type": "code",
   "execution_count": null,
   "metadata": {},
   "outputs": [],
   "source": [
    "d['Apple']"
   ]
  },
  {
   "cell_type": "code",
   "execution_count": null,
   "metadata": {},
   "outputs": [],
   "source": [
    "d"
   ]
  },
  {
   "cell_type": "markdown",
   "metadata": {},
   "source": [
    "In the above statement, key 'Apple'is not there, so adds 'Apple' as key and '0' as value."
   ]
  },
  {
   "cell_type": "code",
   "execution_count": null,
   "metadata": {},
   "outputs": [],
   "source": [
    "d['Orange'] += 1 # d['Orange'] = d['Orange'] + 1 ==> d['Orange'] = 0 + 1"
   ]
  },
  {
   "cell_type": "code",
   "execution_count": null,
   "metadata": {},
   "outputs": [],
   "source": [
    "d"
   ]
  },
  {
   "cell_type": "markdown",
   "metadata": {},
   "source": [
    "In the above statment, default dict adds key 'Orange' and retruns 0 and the adds 1 and stores it back to dict 'd'"
   ]
  },
  {
   "cell_type": "code",
   "execution_count": null,
   "metadata": {},
   "outputs": [],
   "source": [
    "d = defaultdict(list)\n",
    "\n",
    "d['Apple'].append(30)"
   ]
  },
  {
   "cell_type": "code",
   "execution_count": null,
   "metadata": {},
   "outputs": [],
   "source": [
    "d"
   ]
  },
  {
   "cell_type": "markdown",
   "metadata": {},
   "source": [
    "defaultdict adds an amepty list and returns, to which we are appending a '0' in the above statement."
   ]
  },
  {
   "cell_type": "markdown",
   "metadata": {},
   "source": [
    "__Word Counting Program revisited:__\n",
    "\n",
    "Find the count of each word in the given list."
   ]
  },
  {
   "cell_type": "code",
   "execution_count": null,
   "metadata": {},
   "outputs": [],
   "source": [
    "from collections import defaultdict\n",
    "d = defaultdict(int)\n",
    "\n",
    "fruits = [\"Apple\", \"Orange\", \"Banana\", \"Orange\", \"Apple\", \"Banana\", \"Apple\",\n",
    "         \"Peach\", \"Apple\", \"Banana\"]\n",
    "\n",
    "for fruit in fruits:\n",
    "    d[fruit] += 1\n",
    "    \n",
    "print d"
   ]
  },
  {
   "cell_type": "markdown",
   "metadata": {},
   "source": [
    "__Index Grouping Program revisited:__\n",
    "\n",
    "Find the indices of each word in the given list"
   ]
  },
  {
   "cell_type": "code",
   "execution_count": null,
   "metadata": {},
   "outputs": [],
   "source": [
    "from collections import defaultdict\n",
    "\n",
    "fruits = [\"Apple\", \"Orange\", \"Banana\", \"Orange\", \"Apple\", \"Banana\", \"Apple\",\n",
    "         \"Peach\", \"Apple\", \"Banana\"]\n",
    "\n",
    "fruit_count = defaultdict(list)\n",
    "\n",
    "for idx, fruit in enumerate(fruits):\n",
    "    fruit_count[fruit].append(idx)\n",
    "        \n",
    "fruit_count"
   ]
  },
  {
   "cell_type": "markdown",
   "metadata": {
    "collapsed": true
   },
   "source": [
    "<b>Exercise Program:</b></br>\n",
    "We are expecting some packets from 5 different ip addresses.\n",
    "We are asked to collect them and remove duplicates and sort them in increasing order."
   ]
  },
  {
   "cell_type": "code",
   "execution_count": null,
   "metadata": {},
   "outputs": [],
   "source": [
    "from collections import defaultdict\n",
    "\n",
    "packets = [('196.131.56.71', 'Data1'),\n",
    "          ('196.131.56.35', 'Data1'),\n",
    "          ('196.131.56.78', 'Data1'),\n",
    "          ('196.131.56.65', 'Data1'),\n",
    "          ('196.131.56.71', 'Data2'),\n",
    "          ('196.131.56.35', 'Data1'),\n",
    "          ('196.131.56.65', 'Data1'),\n",
    "          ('196.131.56.78', 'Data1'),\n",
    "          ('196.131.56.44', 'Data1'),\n",
    "          ('196.131.56.35', 'Data1'),\n",
    "          ('196.131.56.65', 'Data2'),\n",
    "          ('196.131.56.71', 'Data1')]\n",
    "          \n",
    "dict_set = defaultdict(set)\n",
    "\n",
    "for ip, data in packets:\n",
    "    dict_set[ip].add(data)\n",
    "    \n",
    "for ip, pkts in dict_set.items():\n",
    "    print ip, '->', sorted(pkts)"
   ]
  },
  {
   "cell_type": "markdown",
   "metadata": {},
   "source": [
    "### Heapq\n",
    "Python heapq is min-heap data structure implemenation. Internals of this data structures is out of scope for this materail. But we discuss operations and Use-Cases of this data structure. It is physically stored as dynamic array, but logically a binary tree. Always maintains smallest element as root. root is stored at o'th index always. Each time we pop an element from heapq, it returns the smallest. Each time we push an element, heapq, rearranges elements and pushes the smallest to 0'th index (in just O(log n) time).\n",
    "\n",
    "We need to import heapq module to use this functionality.\n",
    "```python\n",
    "import heapq\n",
    "```\n",
    "\n",
    "__Frequenctly used heapq operations:__\n",
    "\n",
    "_heapq.heapify(x):_ This function transforms list x into a heap."
   ]
  },
  {
   "cell_type": "code",
   "execution_count": null,
   "metadata": {},
   "outputs": [],
   "source": [
    "import heapq\n",
    "l = [4, 20, 6, 9, 2, 15]\n",
    "heapq.heapify(l)\n",
    "print l"
   ]
  },
  {
   "cell_type": "markdown",
   "metadata": {},
   "source": [
    "_heapq.heappush(heap, item):_ adding an element to heap."
   ]
  },
  {
   "cell_type": "code",
   "execution_count": null,
   "metadata": {},
   "outputs": [],
   "source": [
    "import heapq\n",
    "l = [4, 20, 6, 9, 2, 15]\n",
    "heapq.heapify(l)\n",
    "heapq.heappush(l, 3)\n",
    "print l\n",
    "heapq.heappush(l, 1)\n",
    "print l"
   ]
  },
  {
   "cell_type": "markdown",
   "metadata": {},
   "source": [
    "_heapq.heappop(heap, item):_ deleting smallest element from heap."
   ]
  },
  {
   "cell_type": "code",
   "execution_count": null,
   "metadata": {},
   "outputs": [],
   "source": [
    "import heapq\n",
    "l = [4, 20, 6, 9, 2, 15]\n",
    "heapq.heapify(l)\n",
    "heapq.heappush(l, 3)\n",
    "print l\n",
    "heapq.heappush(l, 1)\n",
    "print l\n",
    "print 'poped:', heapq.heappop(l)\n",
    "print 'poped:', heapq.heappop(l)\n",
    "print l"
   ]
  },
  {
   "cell_type": "markdown",
   "metadata": {},
   "source": [
    "_heapq.heapreplace(heap, item):_ pops smallest element from heap and pushes new element"
   ]
  },
  {
   "cell_type": "code",
   "execution_count": null,
   "metadata": {},
   "outputs": [],
   "source": [
    "import heapq\n",
    "l = [4, 20, 6, 9, 3, 15]\n",
    "heapq.heapify(l)\n",
    "heapq.heapreplace(l, 2)\n",
    "print l"
   ]
  },
  {
   "cell_type": "markdown",
   "metadata": {},
   "source": [
    "_heapq.heappushpop(heap, item):_ pushes new item then pops smallest from the heap."
   ]
  },
  {
   "cell_type": "code",
   "execution_count": null,
   "metadata": {},
   "outputs": [],
   "source": [
    "import heapq\n",
    "l = [4, 20, 6, 9, 3, 15]\n",
    "heapq.heapify(l)\n",
    "print heapq.heappushpop(l, 2)\n",
    "print l"
   ]
  },
  {
   "cell_type": "markdown",
   "metadata": {},
   "source": [
    "_heap.nsmallest(n, iterable[, key]):_ returns a list with n smallest elements from the list (dataset) defined, and key if provided."
   ]
  },
  {
   "cell_type": "code",
   "execution_count": null,
   "metadata": {},
   "outputs": [],
   "source": [
    "import heapq\n",
    "l = [4, 20, 6, 9, 3, 15]\n",
    "heapq.heapify(l)\n",
    "print heapq.nsmallest(4, l)"
   ]
  },
  {
   "cell_type": "markdown",
   "metadata": {},
   "source": [
    "_heap.nlargest(n, iterable[, key]):_ returns a list with n largest elements from the list (dataset) defined, and key if provided"
   ]
  },
  {
   "cell_type": "code",
   "execution_count": null,
   "metadata": {},
   "outputs": [],
   "source": [
    "import heapq\n",
    "l = [4, 20, 6, 9, 3, 15]\n",
    "heapq.heapify(l)\n",
    "print heapq.nlargest(4, l)"
   ]
  },
  {
   "cell_type": "markdown",
   "metadata": {},
   "source": [
    "__Use-Cases:__\n",
    "\n",
    "1. When we have streaming data, and always want to maintain n-largest or n-smallest, heapq is is used.\n",
    "2. This is also used as priority queue, which is very popular in operating system process scheduling.\n",
    "3. Widely used in Operating System, Compiler and Interpreters for memory management."
   ]
  },
  {
   "cell_type": "markdown",
   "metadata": {},
   "source": [
    "## Interview Questions"
   ]
  },
  {
   "cell_type": "markdown",
   "metadata": {},
   "source": [
    "1. tuple vs list?\n",
    "2. Reversing a list, tuple and string?\n",
    "3. list append vs extend ?\n",
    "4. Internal data structure of a a list ?\n",
    "5. Output (5,) * 3?\n",
    "6. What is tuple packing and unpacking?\n",
    "7. similarities between str and tuple?\n",
    "8. Sorting algorithm used in list.sort() method?\n",
    "9. How do you check a string is pallindrome or not ?\n",
    "10. Two strings are anagarams or not ?\n",
    "11. How do you remove duplicates in a list?\n",
    "12. find the word with most number of occurances in a large list of 1 billion words?\n",
    "13. What is the data structures which is used for caching?\n",
    "14. Explain how defaultdict works?\n",
    "15. When do you use heapq?\n",
    "16. Is set is hashable?\n",
    "17. When do you use a dict?\n",
    "18. What is the pupose of OrderedDict?\n",
    "19. print all the pairs from the list which makes sum n\n",
    "20. Print all the anagrams from a text file.\n",
    "21. When do you use FrozenSet()?\n",
    "22. When do you use tuple, instead of a list?\n",
    "23. Check the given array is sorted in ascending order or not."
   ]
  },
  {
   "cell_type": "markdown",
   "metadata": {
    "collapsed": true
   },
   "source": [
    "## Exercises"
   ]
  },
  {
   "cell_type": "markdown",
   "metadata": {},
   "source": [
    "__Program 1:__ A list is supposed to contain first n natural numbers in it. But one number is missing in the list.\n",
    "so , we have n-1 elements in the list. How do you find missing element."
   ]
  },
  {
   "cell_type": "markdown",
   "metadata": {},
   "source": [
    "__Program 2:__ How do you check two lists are having same set of values and same number of values."
   ]
  },
  {
   "cell_type": "markdown",
   "metadata": {},
   "source": [
    "__Program 3:__ A list of email ids(strings) given, and assume there is a third-party function _send_email(email_id, msg)_ is available. 'send_email()' takes destination email address and email message. Example: send_email('john@abc.com', 'Welcome to my birthday!') sends message 'Welcome to my birthday!' to 'john@abc.com'. \n",
    "\n",
    "1. Send an invitation message, to all the email ids in the list.\n",
    "2. Do not send message to email ids having hotmail.com in it"
   ]
  },
  {
   "cell_type": "markdown",
   "metadata": {},
   "source": [
    "__Program 4:__"
   ]
  },
  {
   "cell_type": "markdown",
   "metadata": {},
   "source": [
    "* Below are the customer ids and deposites done by customers\n",
    "    in a typical day of a bank.\n",
    "\n",
    "> 1. Find how many customers, acutally deposited the money.<br>\n",
    "> 2. Who deposited maximum number of times.<br>\n",
    "> 3. Who deposited maximum sum of deposites.<br>\n",
    "> 4. Who deposited max amount in a single transaction.<br>\n",
    "> 5. Customer Id - and list of deposites done by each cutomer.<br>\n",
    "> 6. Total balance at the end of the day\n",
    "\n",
    "```python\n",
    "trans = [(1237, 87522),\n",
    " (1234, 1000),\n",
    " (1236, 6754),\n",
    " (1234, 200),\n",
    " (1236, 1700),\n",
    " (1234, 400),\n",
    " (1234, 600),\n",
    " (1236, 788),\n",
    " (1234, 500),\n",
    " (1237, 126653)]\n",
    " ```"
   ]
  },
  {
   "cell_type": "markdown",
   "metadata": {},
   "source": [
    "##### Solution"
   ]
  },
  {
   "cell_type": "code",
   "execution_count": null,
   "metadata": {},
   "outputs": [],
   "source": [
    "from collections import defaultdict\n",
    "trans = [(1237, 87522),\n",
    " (1234, 1000),\n",
    " (1236, 6754),\n",
    " (1234, 200),\n",
    " (1236, 1700),\n",
    " (1234, 400),\n",
    " (1234, 600),\n",
    " (1236, 788),\n",
    " (1234, 500),\n",
    " (1237, 126653)]\n",
    "\n",
    "ledger = defaultdict(list)\n",
    "total_balance = 0\n",
    "\n",
    "for cust_id, amount in trans:\n",
    "    ledger[cust_id].append(amount) \n",
    "    total_balance += amount\n",
    "    \n",
    "print 'Number of customers', len(ledger)\n",
    "\n",
    "custid, amounts = max(ledger.items(), key=lambda x:len(x[1]))\n",
    "print \"Customer who did max number of txns is {}\\\n",
    " and the txns count is {}\".format(custid, len(amounts))\n",
    "\n",
    "custid, amounts = max(ledger.items(), key=lambda x:sum(x[1]))\n",
    "print \"Customer who did max sum of the amount is {}\\\n",
    " and the amount is {}\".format(custid, sum(amounts))\n",
    "\n",
    "custid, amounts = max(ledger.items(), key=lambda x:max(x[1]))\n",
    "print \"Customer who did max desposit in a single transaction {}\\\n",
    " and the amount is {}\".format(custid, max(amounts))\n",
    "\n",
    "print '--- Customers and Depsoites ---'\n",
    "for cust_id, bals in ledger.items():\n",
    "    print cust_id, '->',bals\n",
    "print '-------------------------------'\n",
    "\n",
    "print 'Total Balance: ', total_balance"
   ]
  },
  {
   "cell_type": "markdown",
   "metadata": {
    "collapsed": true
   },
   "source": [
    "__Program 5:__"
   ]
  },
  {
   "cell_type": "markdown",
   "metadata": {},
   "source": [
    "* List of votes and contestants and age are given.\n",
    "> 1. Find the contestant who wins the elections.<br>\n",
    "> 2. If there is a tie, older contenstant wins.\n",
    "\n",
    "```python\n",
    "votes = ['Kenny',   'Amanda', 'John',     'Vicky', 'Alex',\n",
    "         'Amanda',  'John',   'Alex',     'Kenny', 'Vicky',\n",
    "         'Charles', 'Alex',   'Kenny',    'Eric',  'Charles', \n",
    "         'Eric',    'Laura',  'Michelle', 'Eric',  'Vicky']\n",
    "\n",
    "age = {'Kenny': 61, \n",
    "       'Amanda': 54, \n",
    "       'Alex': 79, \n",
    "       'John': 80, \n",
    "       'Vicky': 34, \n",
    "       'Eric': 50,\n",
    "       'Laura': 55,\n",
    "       'Michelle': 42,\n",
    "       'Charles': 70}\n",
    "```"
   ]
  },
  {
   "cell_type": "code",
   "execution_count": null,
   "metadata": {},
   "outputs": [],
   "source": [
    "from collections import Counter, defaultdict\n",
    "\n",
    "votes = ['Kenny',   'Amanda', 'John',     'Vicky', 'Alex',\n",
    "         'Amanda',  'John',   'Alex',     'Kenny', 'Vicky',\n",
    "         'Charles', 'Alex',   'Kenny',    'Eric',  'Charles', \n",
    "         'Eric',    'Laura',  'Michelle', 'Eric',  'Vicky']\n",
    "\n",
    "age = {'Kenny': 61, \n",
    "       'Amanda': 54, \n",
    "       'Alex': 79, \n",
    "       'John': 80, \n",
    "       'Vicky': 34, \n",
    "       'Eric': 50,\n",
    "       'Laura': 55,\n",
    "       'Michelle': 42,\n",
    "       'Charles': 70}\n",
    "\n",
    "# Finding vote count for each contestant\n",
    "name_count = Counter(votes)\n",
    "\n",
    "count_names = defaultdict(list)\n",
    "\n",
    "# Grouping constestants with same count\n",
    "for name, count in name_count.items():\n",
    "    count_names[count].append(name)\n",
    "    \n",
    "# Finding winner(s)\n",
    "count, candidates = max(count_names.items())\n",
    "\n",
    "# Finding max by their age\n",
    "winner = max(candidates, key=lambda x:age[x])\n",
    "\n",
    "print 'Winner is:', winner, ' With Count:', count"
   ]
  },
  {
   "cell_type": "markdown",
   "metadata": {},
   "source": [
    "__Program 3:__ Check the given two strings are anagrams or not"
   ]
  },
  {
   "cell_type": "code",
   "execution_count": null,
   "metadata": {},
   "outputs": [],
   "source": [
    "s1 = 'aacbb'\n",
    "s2 = 'aabcb'\n",
    "\n",
    "if sorted(s1) == sorted(s2):\n",
    "    print 'Anagrams'\n",
    "else:\n",
    "    print 'Not Anagrams'"
   ]
  },
  {
   "cell_type": "code",
   "execution_count": null,
   "metadata": {},
   "outputs": [],
   "source": [
    "from collections import Counter\n",
    "\n",
    "s1 = 'aacbb'\n",
    "s2 = 'aabcb'\n",
    "\n",
    "if Counter(s1) == Counter(s2):\n",
    "    print 'Anagrams'\n",
    "else:\n",
    "    print 'Not Anagrams'"
   ]
  },
  {
   "cell_type": "markdown",
   "metadata": {},
   "source": [
    "__Program 4:__ Find all sets of anagrams when a a list of words given."
   ]
  },
  {
   "cell_type": "code",
   "execution_count": null,
   "metadata": {},
   "outputs": [],
   "source": [
    "from collections import defaultdict\n",
    "\n",
    "words = ['hell', 'cat', 'bell', \n",
    "     'tab','tac', 'apt', 'dell',\n",
    "     'act', 'tap', 'bat']\n",
    "\n",
    "d = defaultdict(list)\n",
    "\n",
    "for word in words:\n",
    "    sig = ''.join(sorted(word))\n",
    "    d[sig].append(word)\n",
    "\n",
    "for sig, anagrams in d.items():\n",
    "    if len(anagrams) > 1:\n",
    "        print anagrams"
   ]
  },
  {
   "cell_type": "markdown",
   "metadata": {
    "collapsed": true
   },
   "source": [
    "## Notes"
   ]
  },
  {
   "cell_type": "markdown",
   "metadata": {},
   "source": [
    "1. list is dynamically resizable array, also called as vector in other programming languages.\n",
    "2. tupele is immutable and hashable\n",
    "3. Set doesn't allow duplicates\n",
    "4. deque retains only last n elements\n",
    "5. Using we can heapq efficiently retrieve nsmallest elements in streaming data\n",
    "6. OrderedDict maintains insertion order\n",
    "7. defaultdict has a default zero value for every key\n"
   ]
  },
  {
   "cell_type": "code",
   "execution_count": null,
   "metadata": {},
   "outputs": [],
   "source": [
    "import random\n",
    "random.sample(range(-10, 11), 10)"
   ]
  },
  {
   "cell_type": "code",
   "execution_count": null,
   "metadata": {},
   "outputs": [],
   "source": [
    "l = [18, 16, 12, 3, 11, 14, 17, 20, 6, 15]\n",
    "\n",
    "avg = float(sum(l))/len(l)\n",
    "print 'Avg:', avg\n",
    "\n",
    "for x in l:\n",
    "    if x > avg:\n",
    "        print x,\n"
   ]
  },
  {
   "cell_type": "code",
   "execution_count": null,
   "metadata": {},
   "outputs": [],
   "source": [
    "l = [-3, 3, 2, 10, 9, 7, -2, -5, 0, -1]\n",
    "\n",
    "for i, x in enumerate(l):\n",
    "    if x < 0:\n",
    "        l[i] = 999\n",
    "\n",
    "print l"
   ]
  }
 ],
 "metadata": {
  "anaconda-cloud": {},
  "kernelspec": {
   "display_name": "Python 2",
   "language": "python",
   "name": "python2"
  },
  "language_info": {
   "codemirror_mode": {
    "name": "ipython",
    "version": 2
   },
   "file_extension": ".py",
   "mimetype": "text/x-python",
   "name": "python",
   "nbconvert_exporter": "python",
   "pygments_lexer": "ipython2",
   "version": "2.7.14"
  }
 },
 "nbformat": 4,
 "nbformat_minor": 1
}
