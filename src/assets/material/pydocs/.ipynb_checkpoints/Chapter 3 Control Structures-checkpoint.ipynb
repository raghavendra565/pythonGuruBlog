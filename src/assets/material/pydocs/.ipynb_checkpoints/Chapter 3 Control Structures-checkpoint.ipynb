{
 "cells": [
  {
   "cell_type": "markdown",
   "metadata": {
    "hideCode": false,
    "hidePrompt": false
   },
   "source": [
    "\n",
    "### Python Programming\n",
    "##### by Narendra Allam\n",
    "Copyright 2019\n",
    "# Chapter 3\n",
    "\n",
    "## Control Structures\n",
    "\n",
    "#### Topics Covering\n",
    "\n",
    "__Control structures:__\n",
    "\n",
    "- if statement\n",
    "- if - else statement\n",
    "- if - elif statement\n",
    "- Nested if-else\n",
    "- Multiple if\n",
    "- Which control structure to choose?\n",
    "- Looping statements\n",
    "- Exercise Programs"
   ]
  },
  {
   "cell_type": "markdown",
   "metadata": {
    "collapsed": true,
    "hideCode": false,
    "hidePrompt": false
   },
   "source": [
    "Control structures are used to control the flow of execution. Sometimes we may require to skip the execution of some statements. Sometimes we may want to execute two blocks of statements exclusively. Sometimes may need to execute a block of statements repeatedly. Below are the control statements we are going to discuss now.\n",
    "\n",
    "1. if\n",
    "2. if-else\n",
    "3. if-elif ladder\n",
    "4. multiple if\n",
    "5. nested if-else\n",
    "6. while loop\n",
    "7. for loop"
   ]
  },
  {
   "cell_type": "markdown",
   "metadata": {
    "hideCode": false,
    "hidePrompt": false
   },
   "source": [
    "### if statement:\n",
    "Syntax:\n",
    "```python\n",
    "if condition:\n",
    "    statements\n",
    "```\n",
    "__Program:__ Read a number from keyboard, and if the number is even, print 'EVEN'."
   ]
  },
  {
   "cell_type": "code",
   "execution_count": 1,
   "metadata": {},
   "outputs": [
    {
     "name": "stdout",
     "output_type": "stream",
     "text": [
      "y is -30 x is 20 and sum is -10 and -30 is -ve\n"
     ]
    }
   ],
   "source": [
    "x = 20\n",
    "y = -30\n",
    "z = x + y\n",
    "print('y is {1} x is {0} and sum is {2} and {1} is -ve'.format(x, y, z))"
   ]
  },
  {
   "cell_type": "markdown",
   "metadata": {},
   "source": [
    "__Program:__ Check the given number is multiple of 3 and ends with the digit 5."
   ]
  },
  {
   "cell_type": "code",
   "execution_count": 2,
   "metadata": {},
   "outputs": [
    {
     "name": "stdout",
     "output_type": "stream",
     "text": [
      "Enter x:45\n",
      "YES\n",
      "The End\n"
     ]
    }
   ],
   "source": [
    "x = int(input(\"Enter x:\"))\n",
    "\n",
    "if x%3 == 0 and x%10 == 5:\n",
    "    print(\"YES\")\n",
    "\n",
    "print('The End')"
   ]
  },
  {
   "cell_type": "markdown",
   "metadata": {},
   "source": [
    "***\n",
    "<b>Indentation:</b> Python identifies code-blocks using indentation. All the statements which needs to be exceuted when condition is True, should be placed after 'if condition:' preceeded by one tab(generally 4 spaces). All the statements after 'if' statement with one tab indentation, are considered as if block. \n",
    "***\n",
    "<b> if-else statement:</b> When we want to execute two blocks of code exclusively we use if-else statement. Only one block of code is executed all the time.\n",
    "\n",
    "<b>Syntax:</b>\n",
    "```python\n",
    "if condition:\n",
    "    # statements...\n",
    "else:\n",
    "    #statements...\n",
    "```"
   ]
  },
  {
   "cell_type": "markdown",
   "metadata": {
    "hideCode": false,
    "hidePrompt": false
   },
   "source": [
    "__Program:__ Read a number from keyboard, and if the number is even, print 'EVEN' else print 'ODD'."
   ]
  },
  {
   "cell_type": "code",
   "execution_count": 3,
   "metadata": {
    "hideCode": false,
    "hidePrompt": false
   },
   "outputs": [
    {
     "name": "stdout",
     "output_type": "stream",
     "text": [
      "Enter x:24\n",
      "Even\n",
      "The End\n"
     ]
    }
   ],
   "source": [
    "x = int(input(\"Enter x:\"))\n",
    "\n",
    "if x%2 == 0:\n",
    "    print(\"Even\")\n",
    "else:\n",
    "    print(\"Odd\")\n",
    "    \n",
    "print('The End')"
   ]
  },
  {
   "cell_type": "markdown",
   "metadata": {
    "hideCode": false,
    "hidePrompt": false
   },
   "source": [
    "### if-elif ladder - more exclusive cases\n",
    "When we have mulitple exclusive cases, we use if-elif ladder. \n",
    "\n",
    "Syntax:\n",
    "```python\n",
    "if condition:\n",
    "    # statements...\n",
    "elif condition:\n",
    "    # statements...\n",
    "elif condition:\n",
    "    # statements...\n",
    "\n",
    "else:\n",
    "    # statements\n",
    "```\n",
    "\n",
    "__Program:__ Read a character from keyboard. If the given input is,\n",
    "\n",
    "'a' - print 'Apple'<br>\n",
    "'b' - print 'Ball'<br>\n",
    "'c' - print 'Cat'<br>\n",
    "'d' - print 'Dog'<br>\n",
    "Any other character, print 'Unknown'<br>"
   ]
  },
  {
   "cell_type": "code",
   "execution_count": 4,
   "metadata": {
    "hideCode": false,
    "hidePrompt": false
   },
   "outputs": [
    {
     "name": "stdout",
     "output_type": "stream",
     "text": [
      "Enter character:b\n",
      "Ball\n",
      "The End\n"
     ]
    }
   ],
   "source": [
    "char = input(\"Enter character:\")\n",
    "\n",
    "if char == 'a':\n",
    "    print (\"Apple\")\n",
    "elif char == 'b':\n",
    "    print (\"Ball\")\n",
    "elif char == 'c':\n",
    "    print (\"Cat\")\n",
    "elif char == 'd':\n",
    "    print (\"Dog\")\n",
    "else: # if non of the if's are true, else gets executed\n",
    "    print (\"Unknown\")\n",
    "    \n",
    "print ('The End') # This is just to know that program ended."
   ]
  },
  {
   "cell_type": "markdown",
   "metadata": {},
   "source": [
    "### Multiple if: a special case\n",
    "Even though it is not a seperate control statement, there is a special use case for this. When the given input falls under multiple categories we use mutiple if's.\n",
    "\n",
    "__Program:__ Which of the following numbers [3, 7, 11] are the factors for a given number"
   ]
  },
  {
   "cell_type": "code",
   "execution_count": 5,
   "metadata": {},
   "outputs": [
    {
     "name": "stdout",
     "output_type": "stream",
     "text": [
      "Enter x:33\n",
      "3 is a factor\n",
      "11 is a factor\n",
      "The End\n"
     ]
    }
   ],
   "source": [
    "x = int(input(\"Enter x:\"))\n",
    "\n",
    "if x%3 == 0 :\n",
    "    print(\"3 is a factor\")\n",
    "\n",
    "if x%7 == 0 :\n",
    "    print(\"7 is a factor\")\n",
    "    \n",
    "if x%11 == 0 :\n",
    "    print(\"11 is a factor\")\n",
    "    \n",
    "print(\"The End\")"
   ]
  },
  {
   "cell_type": "markdown",
   "metadata": {},
   "source": [
    "### Nested if-else: one more special case\n",
    "Like multiple if, nested if-else is also a basic control structure it has a special use-case. When we have multiple sub-categories under a condition we use nesed if-else.\n",
    "\n",
    "__Program:__ Read a number from keyboard, <br>\n",
    "if the number is even square it<br>\n",
    "if it is odd multiple of 5 cube it<br>\n",
    "if it is odd non-multiple of 5 mutiply with 10"
   ]
  },
  {
   "cell_type": "code",
   "execution_count": 6,
   "metadata": {},
   "outputs": [
    {
     "name": "stdout",
     "output_type": "stream",
     "text": [
      "Enter x:17\n",
      "170\n"
     ]
    }
   ],
   "source": [
    "x = int(input(\"Enter x:\"))\n",
    "\n",
    "if x%2 == 0:\n",
    "    print (x**3)\n",
    "else:\n",
    "    if x%5 == 0:\n",
    "        print (x**2)\n",
    "    else:\n",
    "        print (x*10)\n"
   ]
  },
  {
   "cell_type": "markdown",
   "metadata": {
    "hideCode": false,
    "hidePrompt": false
   },
   "source": [
    "## Looping statements\n",
    "When a block of statements is required to be executed, repeatedly,  we use looping staments. There are three looping statements in python.\n",
    "1. while and while-else\n",
    "2. for and for-else"
   ]
  },
  {
   "cell_type": "code",
   "execution_count": 7,
   "metadata": {},
   "outputs": [],
   "source": [
    "i = 1"
   ]
  },
  {
   "cell_type": "code",
   "execution_count": 8,
   "metadata": {},
   "outputs": [
    {
     "name": "stdout",
     "output_type": "stream",
     "text": [
      "1\n"
     ]
    }
   ],
   "source": [
    "print(i%7)\n",
    "i += 1"
   ]
  },
  {
   "cell_type": "code",
   "execution_count": 9,
   "metadata": {},
   "outputs": [
    {
     "data": {
      "text/plain": [
       "2"
      ]
     },
     "execution_count": 9,
     "metadata": {},
     "output_type": "execute_result"
    }
   ],
   "source": [
    "i"
   ]
  },
  {
   "cell_type": "markdown",
   "metadata": {
    "collapsed": true,
    "hideCode": false,
    "hidePrompt": false
   },
   "source": [
    "### While loop: \n",
    "As log as condition is true, block of statements under while are executed repeatedly. Once condition is false, loop stops exection and control goes immediate next statement after while block.\n",
    "\n",
    "Syntax:\n",
    "``` python\n",
    "while condition:\n",
    "    statements\n",
    "```\n",
    "\n",
    "__Using while-else:__ _else_ block is executed after successful completion of while loop. \n",
    "While loop should complete all of its iterations to reach else. If break is executed , else will not be executed.\n",
    "\n",
    "__Program:__ Print first 5 natural numbers."
   ]
  },
  {
   "cell_type": "code",
   "execution_count": 10,
   "metadata": {},
   "outputs": [
    {
     "name": "stdout",
     "output_type": "stream",
     "text": [
      "1\n",
      "2\n",
      "3\n",
      "4\n",
      "5\n"
     ]
    }
   ],
   "source": [
    "i = 1\n",
    "while i <= 5:\n",
    "    print(i)  \n",
    "    i += 1"
   ]
  },
  {
   "cell_type": "code",
   "execution_count": 11,
   "metadata": {
    "hideCode": false,
    "hidePrompt": false
   },
   "outputs": [
    {
     "name": "stdout",
     "output_type": "stream",
     "text": [
      "15\n",
      "45\n",
      "75\n"
     ]
    }
   ],
   "source": [
    "i = 1\n",
    "while i <= 100:  \n",
    "    if i%3 == 0 and i%10 == 5:\n",
    "        print(i)\n",
    "    i += 1"
   ]
  },
  {
   "cell_type": "markdown",
   "metadata": {},
   "source": [
    "What is the value of i, After loop exit?"
   ]
  },
  {
   "cell_type": "code",
   "execution_count": 12,
   "metadata": {},
   "outputs": [
    {
     "name": "stdout",
     "output_type": "stream",
     "text": [
      "Value of i, after loop exit: 101\n"
     ]
    }
   ],
   "source": [
    "print('Value of i, after loop exit:', i)"
   ]
  },
  {
   "cell_type": "code",
   "execution_count": 13,
   "metadata": {},
   "outputs": [
    {
     "name": "stdout",
     "output_type": "stream",
     "text": [
      "A\n",
      "p\n",
      "p\n",
      "l\n",
      "e\n"
     ]
    }
   ],
   "source": [
    "i = 0\n",
    "s = 'Apple'\n",
    "while i < len(s):\n",
    "    print(s[i])\n",
    "    i += 1"
   ]
  },
  {
   "cell_type": "markdown",
   "metadata": {},
   "source": [
    "__Program:__ Reverse the given number."
   ]
  },
  {
   "cell_type": "code",
   "execution_count": 14,
   "metadata": {},
   "outputs": [
    {
     "name": "stdout",
     "output_type": "stream",
     "text": [
      "Enter x:123456\n",
      "Reverse of 123456 is 654321\n"
     ]
    }
   ],
   "source": [
    "n = int(input(\"Enter x:\"))\n",
    "b = n\n",
    "rev = 0\n",
    "\n",
    "while n > 0:\n",
    "    r = n%10\n",
    "    rev = rev*10 + r\n",
    "    n //= 10\n",
    "    \n",
    "print ('Reverse of {} is {}'.format(b, rev))"
   ]
  },
  {
   "cell_type": "markdown",
   "metadata": {},
   "source": [
    "__Program:__ Magic number of the given number. Magic number means sum all the digits, until you get single digit sum."
   ]
  },
  {
   "cell_type": "code",
   "execution_count": 15,
   "metadata": {},
   "outputs": [
    {
     "name": "stdout",
     "output_type": "stream",
     "text": [
      "Enter x:98765\n",
      "Magic number of 98765 is 8\n"
     ]
    }
   ],
   "source": [
    "n = int(input(\"Enter x:\"))\n",
    "b = n\n",
    "s = n\n",
    "\n",
    "while s > 9:\n",
    "    n = s\n",
    "    s = 0\n",
    "    while n > 0:\n",
    "        r = n%10\n",
    "        s += r\n",
    "        n //= 10\n",
    "\n",
    "print ('Magic number of {} is {}'.format(b, s))"
   ]
  },
  {
   "cell_type": "markdown",
   "metadata": {},
   "source": [
    "__Program:__ Find the multiples of 17 below 100 and their Count."
   ]
  },
  {
   "cell_type": "code",
   "execution_count": 16,
   "metadata": {},
   "outputs": [
    {
     "name": "stdout",
     "output_type": "stream",
     "text": [
      "Multiples of 17 below 100: \n",
      "17\n",
      "34\n",
      "51\n",
      "68\n",
      "85\n",
      "Multiples count: 5\n"
     ]
    }
   ],
   "source": [
    "i = 1\n",
    "c = 0\n",
    "print('Multiples of 17 below 100: ')\n",
    "while i <= 100:\n",
    "    if i%17 == 0:\n",
    "        print(i)\n",
    "        c += 1\n",
    "    i += 1\n",
    "print('Multiples count:', c )"
   ]
  },
  {
   "cell_type": "code",
   "execution_count": 17,
   "metadata": {},
   "outputs": [
    {
     "name": "stdout",
     "output_type": "stream",
     "text": [
      "Enter n:35\n",
      "Not Prime\n"
     ]
    }
   ],
   "source": [
    "n = int(input('Enter n:'))\n",
    "i = 2\n",
    "rt = int(n ** 0.5)\n",
    "\n",
    "while i <= rt:\n",
    "    if n%i == 0:\n",
    "        print(\"Not Prime\")\n",
    "        break\n",
    "    i += 1\n",
    "else:\n",
    "    print(\"Prime\")"
   ]
  },
  {
   "cell_type": "markdown",
   "metadata": {},
   "source": [
    "__Program:__ Print prime numbers between 501 to 600."
   ]
  },
  {
   "cell_type": "code",
   "execution_count": 18,
   "metadata": {},
   "outputs": [
    {
     "name": "stdout",
     "output_type": "stream",
     "text": [
      "503, 509, 521, 523, 541, 547, 557, 563, 569, 571, 577, 587, 593, 599, "
     ]
    }
   ],
   "source": [
    "n = 501\n",
    "while n <= 600:\n",
    "    i = 2\n",
    "    rt = n**0.5\n",
    "    while i <= rt:\n",
    "        if n%i ==0:\n",
    "            break\n",
    "        i+=1\n",
    "    else:\n",
    "        print (n, end =', ')  \n",
    "    n += 1"
   ]
  },
  {
   "cell_type": "markdown",
   "metadata": {},
   "source": [
    "__Program:__ Check the given number is perfect or not. \n",
    "A Perfect number is a number whose sum of the factors(excluding iteslef) should be equal to itself."
   ]
  },
  {
   "cell_type": "code",
   "execution_count": 19,
   "metadata": {},
   "outputs": [
    {
     "name": "stdout",
     "output_type": "stream",
     "text": [
      "Enter n:35\n",
      "Not perfect\n"
     ]
    }
   ],
   "source": [
    "n = int(input(\"Enter n:\"))\n",
    "i = 1\n",
    "s = 0\n",
    "while i <= n//2:\n",
    "    if n%i ==0:\n",
    "        s += i\n",
    "    i+=1\n",
    "    \n",
    "if s == n:\n",
    "    print (\"Perfect\")\n",
    "else:\n",
    "    print (\"Not perfect\")"
   ]
  },
  {
   "cell_type": "markdown",
   "metadata": {},
   "source": [
    "__Program:__ Count numbers which are multiples of 3 and ending with 5 below 100."
   ]
  },
  {
   "cell_type": "code",
   "execution_count": 20,
   "metadata": {},
   "outputs": [
    {
     "name": "stdout",
     "output_type": "stream",
     "text": [
      "Multiples of 3 and ending with 5 below 100:\n",
      "15\n",
      "45\n",
      "75\n",
      "Multiples count:  3\n"
     ]
    }
   ],
   "source": [
    "i = 1\n",
    "c = 0\n",
    "print(\"Multiples of 3 and ending with 5 below 100:\")\n",
    "while i <= 100:\n",
    "    if i%3 == 0 and i%10 == 5:\n",
    "        print(i)\n",
    "        c += 1\n",
    "    i += 1\n",
    "print(\"Multiples count: \",c)"
   ]
  },
  {
   "cell_type": "markdown",
   "metadata": {},
   "source": [
    "__Program:__ Print all the numbers which end with 3 below 50."
   ]
  },
  {
   "cell_type": "code",
   "execution_count": 21,
   "metadata": {
    "hideCode": false,
    "hidePrompt": false
   },
   "outputs": [
    {
     "name": "stdout",
     "output_type": "stream",
     "text": [
      "3\n",
      "13\n",
      "23\n",
      "33\n",
      "43\n"
     ]
    }
   ],
   "source": [
    "i = 1\n",
    "while i <= 50:\n",
    "    if i%10 == 3:\n",
    "        print(i)\n",
    "    i += 1"
   ]
  },
  {
   "cell_type": "markdown",
   "metadata": {},
   "source": [
    "__Program__: Factors of given number and their number "
   ]
  },
  {
   "cell_type": "code",
   "execution_count": 22,
   "metadata": {},
   "outputs": [
    {
     "name": "stdout",
     "output_type": "stream",
     "text": [
      "Enter n value:35\n",
      "Factors of 35: \n",
      "1\n",
      "5\n",
      "7\n",
      "35\n",
      "Factors count:  4\n"
     ]
    }
   ],
   "source": [
    "n = int(input('Enter n value:'))\n",
    "c = 0\n",
    "i = 1\n",
    "print('Factors of {}: '.format(n))\n",
    "while i <= n:\n",
    "    if n%i == 0:\n",
    "        print(i)\n",
    "        c += 1\n",
    "    i += 1\n",
    "print('Factors count: ',c)"
   ]
  },
  {
   "cell_type": "markdown",
   "metadata": {},
   "source": [
    "With the help of the above program we can check the given number is Prime or Not Prime"
   ]
  },
  {
   "cell_type": "code",
   "execution_count": 23,
   "metadata": {},
   "outputs": [
    {
     "name": "stdout",
     "output_type": "stream",
     "text": [
      "Enter n:35\n",
      "Not Prime\n"
     ]
    }
   ],
   "source": [
    "n = int(input('Enter n:'))\n",
    "c = 0\n",
    "i = 1\n",
    "while i <= n:\n",
    "    if n%i == 0:\n",
    "        c += 1\n",
    "    i += 1\n",
    "\n",
    "if c == 2:\n",
    "    print(\"Prime\")\n",
    "else:\n",
    "    print(\"Not Prime\")"
   ]
  },
  {
   "cell_type": "markdown",
   "metadata": {},
   "source": [
    "There will not be any factors for a number after n//2. Right?"
   ]
  },
  {
   "cell_type": "code",
   "execution_count": 24,
   "metadata": {},
   "outputs": [
    {
     "name": "stdout",
     "output_type": "stream",
     "text": [
      "Enter n:35\n",
      "Not Prime\n"
     ]
    }
   ],
   "source": [
    "n = int(input('Enter n:'))\n",
    "c = 0\n",
    "i = 2\n",
    "while i <= n//2:\n",
    "    if n%i == 0:\n",
    "        c += 1\n",
    "    i += 1\n",
    "\n",
    "if c == 0:\n",
    "    print(\"Prime\")\n",
    "else:\n",
    "    print(\"Not Prime\")"
   ]
  },
  {
   "cell_type": "markdown",
   "metadata": {},
   "source": [
    "__Theorem:__ A prime number doesn't have any factors from 2 to square root of itself."
   ]
  },
  {
   "cell_type": "code",
   "execution_count": 25,
   "metadata": {},
   "outputs": [
    {
     "name": "stdout",
     "output_type": "stream",
     "text": [
      "Enter n:35\n",
      "Not Prime\n"
     ]
    }
   ],
   "source": [
    "n = int(input('Enter n:'))\n",
    "c = 0\n",
    "i = 2\n",
    "rt = int(n ** 0.5)\n",
    "while i <= rt:\n",
    "    if n%i == 0:\n",
    "        c += 1\n",
    "    i += 1\n",
    "\n",
    "if c == 0:\n",
    "    print(\"Prime\")\n",
    "else:\n",
    "    print(\"Not Prime\")"
   ]
  },
  {
   "cell_type": "markdown",
   "metadata": {},
   "source": [
    "<b> Using __break:__</b>  In the above program, if condition at line 6, is true, that means we can tell the number is not prime, and we do not need to continue remaining iterations of the loop. this is where we can use __break__. break statement breaks the execution of while or for loops, control transferred to immediate next statement after while."
   ]
  },
  {
   "cell_type": "code",
   "execution_count": 26,
   "metadata": {},
   "outputs": [
    {
     "name": "stdout",
     "output_type": "stream",
     "text": [
      "Enter Value:35\n",
      "Not Prime\n"
     ]
    }
   ],
   "source": [
    "# Using break\n",
    "n = int(input(\"Enter Value:\"))\n",
    "rt = int(n ** 0.5)\n",
    "i = 2\n",
    "while i <= rt:\n",
    "    if n%i == 0:\n",
    "        print(\"Not Prime\")\n",
    "        break\n",
    "    i += 1\n",
    "else:\n",
    "    print (\"Prime\")"
   ]
  },
  {
   "cell_type": "code",
   "execution_count": 27,
   "metadata": {},
   "outputs": [
    {
     "name": "stdout",
     "output_type": "stream",
     "text": [
      "Enter Value:35\n",
      "Not Prime\n"
     ]
    }
   ],
   "source": [
    "# Using break\n",
    "n = int(input(\"Enter Value:\"))\n",
    "rt = int(n ** 0.5)\n",
    "flag = True\n",
    "for i in range(2, rt+1):\n",
    "    if n%i == 0:\n",
    "        flag = False\n",
    "        print (\"Not Prime\")\n",
    "        break        \n",
    "if flag:\n",
    "    print (\"Prime\")"
   ]
  },
  {
   "cell_type": "markdown",
   "metadata": {},
   "source": [
    "### for loop:\n",
    "Unlike other programming languages, for loop in python completely works on iteration protocol. iterable in the below syntax should provide a next value in each iteration to iter_var.\n",
    "\n",
    "Syntax:\n",
    "``` python\n",
    "for iter_var in iterable:\n",
    "    statements\n",
    "```\n",
    "__Note:__ for loop is also used to iterate on any sequence type like string etc"
   ]
  },
  {
   "cell_type": "markdown",
   "metadata": {},
   "source": [
    "__Using for-else:__  'else' block gets executed on the successful completion of for loop"
   ]
  },
  {
   "cell_type": "code",
   "execution_count": 28,
   "metadata": {},
   "outputs": [
    {
     "name": "stdout",
     "output_type": "stream",
     "text": [
      "Enter Value: 35\n",
      "Not Prime\n"
     ]
    }
   ],
   "source": [
    "n = int(input(\"Enter Value: \"))\n",
    "rt = int(n**0.5)\n",
    "\n",
    "for i in range(2, rt+1):\n",
    "    if n%i == 0:\n",
    "        print (\"Not Prime\")\n",
    "        break\n",
    "else:\n",
    "    print (\"Prime\")"
   ]
  },
  {
   "cell_type": "code",
   "execution_count": 29,
   "metadata": {},
   "outputs": [
    {
     "name": "stdout",
     "output_type": "stream",
     "text": [
      "4\n",
      "2\n",
      "1\n",
      "5\n",
      "7\n"
     ]
    }
   ],
   "source": [
    "l = [4, 2, 1, 5, 7]\n",
    "for x in l:\n",
    "    print(x)"
   ]
  },
  {
   "cell_type": "markdown",
   "metadata": {
    "hideCode": false,
    "hidePrompt": false
   },
   "source": [
    "#### Using range() function in for loops\n",
    "range() is a function which produces a value in each iteration in the range given.\n",
    "\n",
    "Syntax:\n",
    "```python\n",
    "range(start, end, step)\n",
    "```\n",
    "Some examples of using range() function:"
   ]
  },
  {
   "cell_type": "code",
   "execution_count": 30,
   "metadata": {},
   "outputs": [
    {
     "name": "stdout",
     "output_type": "stream",
     "text": [
      "0\n",
      "1\n",
      "2\n",
      "3\n",
      "4\n"
     ]
    }
   ],
   "source": [
    "for x in range(5): # if we pass one value to range, it treats it as 'end'. default 'start' is 0, 'step' is 1\n",
    "    print(x)"
   ]
  },
  {
   "cell_type": "markdown",
   "metadata": {},
   "source": [
    "__Program:__ Printing first 6 natural numbers using <b> for </b>"
   ]
  },
  {
   "cell_type": "code",
   "execution_count": 31,
   "metadata": {},
   "outputs": [
    {
     "name": "stdout",
     "output_type": "stream",
     "text": [
      "1\n",
      "2\n",
      "3\n",
      "4\n",
      "5\n"
     ]
    }
   ],
   "source": [
    "for x in range(1, 6): # if we pass two values to range, assumes and 'start' and 'end' with default 'step' 1.\n",
    "    print(x)"
   ]
  },
  {
   "cell_type": "code",
   "execution_count": 32,
   "metadata": {},
   "outputs": [
    {
     "name": "stdout",
     "output_type": "stream",
     "text": [
      "1\n",
      "3\n",
      "5\n",
      "7\n",
      "9\n"
     ]
    }
   ],
   "source": [
    "for x in range(1, 11, 2):\n",
    "    print(x)"
   ]
  },
  {
   "cell_type": "markdown",
   "metadata": {
    "collapsed": true
   },
   "source": [
    "This is equivalent to below while loop."
   ]
  },
  {
   "cell_type": "code",
   "execution_count": 33,
   "metadata": {
    "hideCode": false,
    "hidePrompt": false
   },
   "outputs": [
    {
     "name": "stdout",
     "output_type": "stream",
     "text": [
      "1\n",
      "3\n",
      "5\n",
      "7\n",
      "9\n"
     ]
    }
   ],
   "source": [
    "i = 1\n",
    "while i < 10:\n",
    "    print(i)\n",
    "    i += 2"
   ]
  },
  {
   "cell_type": "code",
   "execution_count": 34,
   "metadata": {
    "hideCode": false,
    "hidePrompt": false
   },
   "outputs": [
    {
     "name": "stdout",
     "output_type": "stream",
     "text": [
      "*\n"
     ]
    }
   ],
   "source": [
    "for i in range(1, 1+1):\n",
    "    print('*')"
   ]
  },
  {
   "cell_type": "code",
   "execution_count": 35,
   "metadata": {
    "hideCode": false,
    "hidePrompt": false
   },
   "outputs": [
    {
     "name": "stdout",
     "output_type": "stream",
     "text": [
      "* * * * * * * * * * * * "
     ]
    }
   ],
   "source": [
    "for i in range(4):\n",
    "    for j in range(3):\n",
    "        print('*', end=' ')"
   ]
  },
  {
   "cell_type": "markdown",
   "metadata": {},
   "source": [
    "<b>continue:- </b> continue skips the execution to next iteration of the loop.\n",
    "\n",
    "<b> Program:- </b> Sum all the elements in the range 1 to 10, which are non-multiples of 3"
   ]
  },
  {
   "cell_type": "code",
   "execution_count": 36,
   "metadata": {},
   "outputs": [
    {
     "name": "stdout",
     "output_type": "stream",
     "text": [
      "sum of non-multiples of 3:  37\n"
     ]
    }
   ],
   "source": [
    "s = 0\n",
    "for x in range(1, 11):\n",
    "    if x%3 == 0:\n",
    "        continue\n",
    "    s += x \n",
    "print (\"sum of non-multiples of 3: \", s)"
   ]
  },
  {
   "cell_type": "markdown",
   "metadata": {
    "hideCode": false,
    "hidePrompt": false
   },
   "source": [
    "##### Printing in the same line\n",
    "Each print statement takes the control to the net line. If you to keep the control in the same line, use end='' as the last argument of the print statement line."
   ]
  },
  {
   "cell_type": "code",
   "execution_count": 37,
   "metadata": {
    "hideCode": false,
    "hidePrompt": false
   },
   "outputs": [
    {
     "name": "stdout",
     "output_type": "stream",
     "text": [
      "Apple\n",
      "Orange\n"
     ]
    }
   ],
   "source": [
    "print('Apple')\n",
    "print('Orange')"
   ]
  },
  {
   "cell_type": "code",
   "execution_count": 38,
   "metadata": {},
   "outputs": [
    {
     "name": "stdout",
     "output_type": "stream",
     "text": [
      "Apple Orange\n"
     ]
    }
   ],
   "source": [
    "print('Apple', end=' ')\n",
    "print('Orange')"
   ]
  },
  {
   "cell_type": "markdown",
   "metadata": {},
   "source": [
    "__Program:__ Print the below trianlge using for loop.\n",
    "\n",
    "```\n",
    "*\n",
    "* *\n",
    "* * *\n",
    "* * * *\n",
    "* * * * *\n",
    "```"
   ]
  },
  {
   "cell_type": "code",
   "execution_count": 39,
   "metadata": {},
   "outputs": [
    {
     "name": "stdout",
     "output_type": "stream",
     "text": [
      "* \n",
      "* * \n",
      "* * * \n",
      "* * * * \n",
      "* * * * * \n"
     ]
    }
   ],
   "source": [
    "for i in range(1, 6):\n",
    "    for j in range(1, i+1):\n",
    "        print('*', end=' ')\n",
    "    print()"
   ]
  },
  {
   "cell_type": "code",
   "execution_count": 40,
   "metadata": {},
   "outputs": [
    {
     "name": "stdout",
     "output_type": "stream",
     "text": [
      "5 4 3 2 1 \n",
      "5 4 3 2 \n",
      "5 4 3 \n",
      "5 4 \n",
      "5 \n"
     ]
    }
   ],
   "source": [
    "for i in range(0, 5):\n",
    "    for j in range(5, i, -1):\n",
    "        print(j, end=' ')\n",
    "    print()"
   ]
  },
  {
   "cell_type": "code",
   "execution_count": 41,
   "metadata": {
    "hideCode": false,
    "hidePrompt": false
   },
   "outputs": [
    {
     "name": "stdout",
     "output_type": "stream",
     "text": [
      "5 5 5 5 5 \n",
      "4 4 4 4 \n",
      "3 3 3 \n",
      "2 2 \n",
      "1 \n"
     ]
    }
   ],
   "source": [
    "for i in range(5, 0, -1):\n",
    "    for j in range(1, i+1):\n",
    "        print(i, end=' ')\n",
    "    print()"
   ]
  },
  {
   "cell_type": "markdown",
   "metadata": {},
   "source": [
    "__Program:__ Print the below trianlge using for loop.\n",
    "\n",
    "```\n",
    "1 \n",
    "2 2 \n",
    "3 3 3 \n",
    "4 4 4 4 \n",
    "5 5 5 5 5\n",
    "```"
   ]
  },
  {
   "cell_type": "code",
   "execution_count": 42,
   "metadata": {
    "hideCode": false,
    "hidePrompt": false
   },
   "outputs": [
    {
     "name": "stdout",
     "output_type": "stream",
     "text": [
      "1 \n",
      "2 2 \n",
      "3 3 3 \n",
      "4 4 4 4 \n",
      "5 5 5 5 5 \n"
     ]
    }
   ],
   "source": [
    "for i in range(1,6):\n",
    "    for j in range(1, i+1):\n",
    "        print(i, end=' ')\n",
    "    print()"
   ]
  },
  {
   "cell_type": "markdown",
   "metadata": {},
   "source": [
    "__Program:__ Print the below trianlge using for loop.\n",
    "\n",
    "```\n",
    "1 \n",
    "1 2 \n",
    "1 2 3 \n",
    "1 2 3 4 \n",
    "1 2 3 4 5 \n",
    "```"
   ]
  },
  {
   "cell_type": "code",
   "execution_count": 43,
   "metadata": {
    "hideCode": false,
    "hidePrompt": false
   },
   "outputs": [
    {
     "name": "stdout",
     "output_type": "stream",
     "text": [
      "1 \n",
      "1 2 \n",
      "1 2 3 \n",
      "1 2 3 4 \n",
      "1 2 3 4 5 \n"
     ]
    }
   ],
   "source": [
    "for i in range(1,6):\n",
    "    for j in range(1, i+1):\n",
    "        print(j, end=' ')\n",
    "    print()"
   ]
  },
  {
   "cell_type": "markdown",
   "metadata": {},
   "source": [
    "__Program:__ Print the below trianlge using for loop.\n",
    "\n",
    "```\n",
    "5 \n",
    "4 4 \n",
    "3 3 3 \n",
    "2 2 2 2 \n",
    "1 1 1 1 1\n",
    "\n",
    "```"
   ]
  },
  {
   "cell_type": "code",
   "execution_count": 44,
   "metadata": {
    "hideCode": false,
    "hidePrompt": false
   },
   "outputs": [
    {
     "name": "stdout",
     "output_type": "stream",
     "text": [
      "5 \n",
      "4 4 \n",
      "3 3 3 \n",
      "2 2 2 2 \n",
      "1 1 1 1 1 \n"
     ]
    }
   ],
   "source": [
    "for i in range(5, 0, -1):\n",
    "    for j in range(5, i-1, -1):\n",
    "        print(i, end=' ')\n",
    "    print()"
   ]
  },
  {
   "cell_type": "markdown",
   "metadata": {},
   "source": [
    "__Program:__ Print the below trianlge using for loop.\n",
    "\n",
    "```\n",
    "5 \n",
    "5 4 \n",
    "5 4 3 \n",
    "5 4 3 2 \n",
    "5 4 3 2 1\n",
    "```"
   ]
  },
  {
   "cell_type": "code",
   "execution_count": 45,
   "metadata": {},
   "outputs": [
    {
     "name": "stdout",
     "output_type": "stream",
     "text": [
      "5 \n",
      "5 4 \n",
      "5 4 3 \n",
      "5 4 3 2 \n",
      "5 4 3 2 1 \n"
     ]
    }
   ],
   "source": [
    "for i in range(5, 0, -1):\n",
    "    for j in range(5, i-1, -1):\n",
    "        print(j, end=' ')\n",
    "    print()"
   ]
  },
  {
   "cell_type": "markdown",
   "metadata": {},
   "source": [
    "__Program:__ Print the below trianlge using for loop.\n",
    "\n",
    "```\n",
    "1\n",
    "2 3\n",
    "4 5 6\n",
    "7 8 9 10\n",
    "11 12 13 14 15\n",
    "```"
   ]
  },
  {
   "cell_type": "code",
   "execution_count": 46,
   "metadata": {
    "hideCode": false,
    "hidePrompt": false
   },
   "outputs": [
    {
     "name": "stdout",
     "output_type": "stream",
     "text": [
      "1 \n",
      "2 3 \n",
      "4 5 6 \n",
      "7 8 9 10 \n",
      "11 12 13 14 15 \n"
     ]
    }
   ],
   "source": [
    "c = 1\n",
    "for i in range(1, 6):\n",
    "    for j in range(1, i+1):\n",
    "        print(c, end=' ')\n",
    "        c += 1\n",
    "    print()"
   ]
  },
  {
   "cell_type": "markdown",
   "metadata": {
    "hideCode": false,
    "hidePrompt": false
   },
   "source": [
    "## Practice programs"
   ]
  },
  {
   "cell_type": "markdown",
   "metadata": {
    "hideCode": false,
    "hidePrompt": false
   },
   "source": [
    "__Program 1:__ A Company insures its drivers in the following cases \n",
    "1. If the driver is married\n",
    "2. If the driver is unmarried, male and above 30 years of age\n",
    "3. If the driver is unmarried, female and above 25 years of age<br>\n",
    "in all other cases, the driver is not insured. If the marital status, gender, age of the drivers are the inputs, write a program to determine whether the driver is insured or not.(use 'nested - if')\n",
    "\n",
    "_Solution:_"
   ]
  },
  {
   "cell_type": "code",
   "execution_count": 47,
   "metadata": {},
   "outputs": [
    {
     "name": "stdout",
     "output_type": "stream",
     "text": [
      "Enter marital status[m/u]:u\n",
      "Enter gender[m/f]:m\n",
      "Enter age:750000\n",
      "Insured\n"
     ]
    }
   ],
   "source": [
    "marital_status = input('Enter marital status[m/u]:')\n",
    "gender = input('Enter gender[m/f]:')\n",
    "age    = int(input('Enter age:'))\n",
    "\n",
    "if marital_status == 'm':\n",
    "    print ('Insured')\n",
    "else:\n",
    "    if (gender == 'm' and age >= 30) \\\n",
    "    or (gender == 'f' and age >= 25):\n",
    "        print ('Insured')\n",
    "    else:\n",
    "        print ('Not Insured')"
   ]
  },
  {
   "cell_type": "markdown",
   "metadata": {},
   "source": [
    "__Program 2:__ \n",
    "    Indian income tax calcuation:<br>\n",
    "    0% tax - upto 5.0 lac <br>\n",
    "    20% tax - till 10 lac<br>\n",
    "    30% tax - for above 10 lac<br>"
   ]
  },
  {
   "cell_type": "code",
   "execution_count": 48,
   "metadata": {},
   "outputs": [
    {
     "name": "stdout",
     "output_type": "stream",
     "text": [
      "Enter salary:750000\n",
      "tax for 750000.0 is 50000.0\n"
     ]
    }
   ],
   "source": [
    "actual_salary = float(input('Enter salary:'))\n",
    "\n",
    "tax = 0.0\n",
    "rem = actual_salary\n",
    "\n",
    "if actual_salary > 1000000:\n",
    "    slab = rem - 1000000\n",
    "    tax = slab * 0.3\n",
    "    rem -= slab\n",
    "\n",
    "if actual_salary > 500000:\n",
    "    slab = rem - 500000\n",
    "    tax += slab * 0.2\n",
    "    rem -= slab\n",
    "\n",
    "\n",
    "    \n",
    "print('tax for {} is {}'.format(actual_salary, tax))"
   ]
  },
  {
   "cell_type": "markdown",
   "metadata": {},
   "source": [
    "__Program 3:__ Write a program to read a character and find out whether it is uppercase or lowercare\n",
    "\n",
    "_Solution:_"
   ]
  },
  {
   "cell_type": "code",
   "execution_count": 49,
   "metadata": {},
   "outputs": [
    {
     "name": "stdout",
     "output_type": "stream",
     "text": [
      "Enter a charcater:f\n",
      "Lower case Character\n",
      "The End\n"
     ]
    }
   ],
   "source": [
    "ch = input('Enter a charcater:')\n",
    "\n",
    "if ch.isdigit():\n",
    "    print('Digit Character')\n",
    "elif ch.islower():\n",
    "    print('Lower case Character')\n",
    "elif ch.isupper():\n",
    "    print('Upper case Character')\n",
    "else:\n",
    "    print('Special Character')\n",
    "    \n",
    "print('The End')"
   ]
  },
  {
   "cell_type": "markdown",
   "metadata": {},
   "source": [
    "### Excercise\n",
    "\n",
    "<b> Program 1:</b> Write a programe to read the characters continuosly until '$' is given and display the number of characters entered.<br>\n",
    "<b>Program 2:</b> Write a program to print the uppercase letter of a given lowercase  <br>\n",
    "<b>Program 3:</b> Write a program to check whether the given input is digit or lowercase character or uppercase character or a special character(use 'if-else-if' ladder) <br>\n",
    "<b>Program 4:</b> Write a program to print all prime numbers between 100 to 200 using only for and for-else looping statements.<br>\n",
    "<b>Program 5:</b> Print all perfect numbers below 100"
   ]
  }
 ],
 "metadata": {
  "anaconda-cloud": {},
  "hide_code_all_hidden": false,
  "kernelspec": {
   "display_name": "Python 3",
   "language": "python",
   "name": "python3"
  },
  "language_info": {
   "codemirror_mode": {
    "name": "ipython",
    "version": 3
   },
   "file_extension": ".py",
   "mimetype": "text/x-python",
   "name": "python",
   "nbconvert_exporter": "python",
   "pygments_lexer": "ipython3",
   "version": "3.6.6"
  }
 },
 "nbformat": 4,
 "nbformat_minor": 1
}
