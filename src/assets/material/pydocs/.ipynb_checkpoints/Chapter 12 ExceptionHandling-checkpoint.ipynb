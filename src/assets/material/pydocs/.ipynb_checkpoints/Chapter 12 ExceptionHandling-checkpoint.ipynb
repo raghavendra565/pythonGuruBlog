{
 "cells": [
  {
   "cell_type": "markdown",
   "metadata": {},
   "source": [
    "# Python Programming\n",
    "### Narendra Allam\n",
    "Copyright 2019\n",
    "\n",
    "# Chapter 12\n",
    "\n",
    "## Exception Handling\n",
    "\n",
    "##### Topics Covering\n",
    "* Pupose of exception handling\n",
    "* try - except\n",
    "* else and finally\n",
    "* Types of exceptions\n",
    "* Exception class\n",
    "* Exceptions order\n",
    "* Custom Exceptions\n",
    "#### Exception Handling\n",
    "Pupose of exception handling is system continuity. A program aborts on the occurance of an error. There are various error caused by different operations. For example when we are trying to convert a string to an int, there is a scope to get ValueError, when string contains a float instead of int. A string with non-numeric characters also causes the ValueError. IOError occures when a file doesn't exist. A KeyError occures when a key is referred which is not exisiting in a dictionary. If we have independent functionalities, error in one functionality should not stop processing of other functionalities in the program. This is where exception handling helps us. Sometimes it is required to give exception to some errors, and need to proceed for further processing.\n",
    "in python we have try-except block to handle this.\n",
    "\n",
    "Syntax:\n",
    "```python\n",
    "try:\n",
    "    # code...\n",
    "except <ExceptionClass1> as <exceptionObject>:\n",
    "    # handling mechanism if any...\n",
    "except <ExceptionClass2> as <exceptionObject>:\n",
    "    # handling mechanism if any...\n",
    "except <ExceptionClass3> as <exceptionObject>:\n",
    "    # handling mechanism if any...\n",
    "# .\n",
    "# .\n",
    "else:\n",
    "    # This is executed on the success of try block\n",
    "finally:\n",
    "    # This is executed irrespective of success of try\n",
    "```\n",
    "Each error has a type. 'ValueError', 'IOError', 'KeyError' are few exception class types. When we get an error, an except block with matching _ExceptionClass_ is executed, program gets aborted if no matching ExceptionClass found.\n",
    "\n",
    "Except blocks should be in reverse order of their inheritance hierarchy"
   ]
  },
  {
   "cell_type": "code",
   "execution_count": 1,
   "metadata": {},
   "outputs": [
    {
     "name": "stdout",
     "output_type": "stream",
     "text": [
      "Custmer id 1234 processing balance 2700\n",
      "Balance: 2700, Interest: 243.0, contribution%:7.407407407407407\n",
      "Total eod balance: 2700.0, expect bal: 20000\n",
      "Unprocessed bals: []\n",
      "Custmer id 1235 processing balance 2600\n",
      "Balance: 2600, Interest: 234.0, contribution%:7.6923076923076925\n",
      "Total eod balance: 5300.0, expect bal: 20000\n",
      "Unprocessed bals: []\n",
      "Custmer id 1236 processing balance 0\n",
      "division by zero\n",
      "Total eod balance: 5300.0, expect bal: 20000\n",
      "Unprocessed bals: ['0']\n",
      "Custmer id 1237 processing balance 2900$\n",
      "Exception : invalid literal for int() with base 10: '2900$', unprocessed balance: 2900$\n",
      "Total eod balance: 5300.0, expect bal: 20000\n",
      "Unprocessed bals: ['0', '2900$']\n",
      "Custmer id 1234 processing balance 3200\n",
      "Balance: 3200, Interest: 288.0, contribution%:6.25\n",
      "Total eod balance: 8500.0, expect bal: 20000\n",
      "Unprocessed bals: ['0', '2900$']\n",
      "Custmer id 1299 processing balance 2400\n",
      "Balance: 2400, Interest: 216.0, contribution%:8.333333333333334\n",
      "Unhandled exception occured while processing: 1299\n",
      "Balance Processing stopped, exception: 1299\n",
      "Backup has been taken successfully!\n",
      "Loan processing done!\n",
      "Credit Card processing done!\n"
     ]
    }
   ],
   "source": [
    "customers = {1234: 1000, 1235: 2000, 1236: 4000, 1237: 1500, 1239: 1000}\n",
    "deposites = [(1234, '2700'),\n",
    "            (1235, '2600'),\n",
    "            (1236, '0'),\n",
    "            (1237, '2900$'),\n",
    "            (1234, '3200'),\n",
    "            (1299, '2400'),\n",
    "            (1236, '2100'),\n",
    "            (1235, '2300.0'),\n",
    "            (1237, '2200'),\n",
    "            (1239, '2000')]\n",
    "\n",
    "\n",
    "def cust_deposit_processing(deps, total):\n",
    "    eod_bal = 0.0\n",
    "    unprocessed_bals = []\n",
    "    projected_interest = 0.0\n",
    "    for custid, dep in deps:\n",
    "        print ('Custmer id {} processing balance {}'.format(custid, dep))\n",
    "        try:\n",
    "            amount = int(dep)\n",
    "            interest = amount * 0.09\n",
    "            print ('Balance: {}, Interest: {}, contribution%:{}'.format(dep,\n",
    "                                                                       interest,\n",
    "                                                                       total / amount))\n",
    "            customers[custid] += amount\n",
    "            eod_bal += amount\n",
    "            projected_interest += interest\n",
    "        except ValueError as ex:\n",
    "            print('Exception : {}, unprocessed balance: {}'.format(ex, dep))\n",
    "            unprocessed_bals.append(dep)\n",
    "        except ZeroDivisionError as ex:\n",
    "            print(ex)\n",
    "            unprocessed_bals.append(dep)\n",
    "        except Exception as ex:\n",
    "            print ('Unhandled exception occured while processing:', ex)\n",
    "            raise ex\n",
    "\n",
    "        print ('Total eod balance: {}, expect bal: {}'.format(eod_bal, total))\n",
    "        print ('Unprocessed bals:', unprocessed_bals)\n",
    "\n",
    "def loan_processing():\n",
    "    print ('Loan processing done!')\n",
    "\n",
    "\n",
    "def credit_card_processing():\n",
    "    print ('Credit Card processing done!')\n",
    "    \n",
    "def process():\n",
    "    expected_total = 20000\n",
    "    global deposites\n",
    "    try:\n",
    "        cust_deposit_processing(deposites, expected_total)\n",
    "    except Exception as ex:\n",
    "        print ('Balance Processing stopped, exception:', ex)\n",
    "        print ('Backup has been taken successfully!')\n",
    "\n",
    "    try:\n",
    "        loan_processing()\n",
    "    except Exception as ex:\n",
    "        print ('Backup has been taken successfully!')\n",
    "\n",
    "    try:\n",
    "        credit_card_processing()\n",
    "    except Exception as ex:\n",
    "        print ('Backup has been taken successfully!')\n",
    "\n",
    "if __name__ == '__main__':\n",
    "    process()"
   ]
  },
  {
   "cell_type": "code",
   "execution_count": 2,
   "metadata": {},
   "outputs": [
    {
     "name": "stdout",
     "output_type": "stream",
     "text": [
      "Name or password error! :( \n",
      "Transaction backup has been taken successfully!\n",
      "Shutting down the system\n"
     ]
    }
   ],
   "source": [
    "import datetime\n",
    "import mysql.connector\n",
    "from mysql.connector import errorcode\n",
    "emp_list = []\n",
    "class Employee(object):\n",
    "    def __init__(self, _id, _dob, _fname, _lname, _sex, _hdate):\n",
    "        self.empId = _id\n",
    "        self.dob = _dob\n",
    "        self.firstName = _fname\n",
    "        self.lastName = _lname\n",
    "        self.gender = _sex\n",
    "        self.hireDate = _hdate\n",
    "    def __str__(self):\n",
    "        return '{}, {}, {}, {}, {}, {}'.format(self.empId, self.dob, \n",
    "                                               self.firstName, self.lastName, \n",
    "                                               self.gender, self.hireDate)\n",
    "    def __repr__(self):\n",
    "        return 'Employee({}, {}, {}, {}, {}, {})'.format(self.empId, self.dob, \n",
    "                                               self.firstName, self.lastName, \n",
    "                                               self.gender, self.hireDate)\n",
    "def process():\n",
    "    try:\n",
    "        conn   = mysql.connector.connect(user   = 'naren',\n",
    "                                       password = 'Python@7',\n",
    "                                       host     = '127.0.0.1',\n",
    "                                       database = 'employees')\n",
    "        \n",
    "        query  = \"select * from employees limit 20\"\n",
    "        cursor = conn.cursor()\n",
    "        cursor.execute(query)\n",
    "        emp_list = []\n",
    "        '''\n",
    "        for empid, bdate, lname, fname, gender, hdate in cursor:\n",
    "            emp_list.append(Employee(empid, bdate, lname, fname, gender, hdate))\n",
    "        '''\n",
    "        for rec in cursor:\n",
    "            # print(rec)\n",
    "            emp_list.append(Employee(*rec))\n",
    "\n",
    "    except mysql.connector.Error as err:\n",
    "\n",
    "        if err.errno == errorcode.ER_ACCESS_DENIED_ERROR:\n",
    "            print(\"Name or password error! :( \")\n",
    "        elif err.errno == errorcode.ER_BAD_DB_ERROR:\n",
    "            print(\"Database doesn't exist!\")\n",
    "        else:\n",
    "            print(err)\n",
    "\n",
    "    else:\n",
    "        print('Inside else')\n",
    "        cursor.close()\n",
    "        conn.close()\n",
    "\n",
    "        \n",
    "    finally:\n",
    "        print('Transaction backup has been taken successfully!')\n",
    "        print ('Shutting down the system')\n",
    "process()"
   ]
  },
  {
   "cell_type": "markdown",
   "metadata": {},
   "source": [
    "### Writing custom exceptions classes"
   ]
  },
  {
   "cell_type": "code",
   "execution_count": 3,
   "metadata": {},
   "outputs": [
    {
     "ename": "CustException",
     "evalue": "Custom Exception",
     "output_type": "error",
     "traceback": [
      "\u001b[0;31m---------------------------------------------------------------------------\u001b[0m",
      "\u001b[0;31mCustException\u001b[0m                             Traceback (most recent call last)",
      "\u001b[0;32m<ipython-input-3-f6773b8e7660>\u001b[0m in \u001b[0;36m<module>\u001b[0;34m()\u001b[0m\n\u001b[1;32m      8\u001b[0m \u001b[0me\u001b[0m \u001b[0;34m=\u001b[0m \u001b[0mCustException\u001b[0m\u001b[0;34m(\u001b[0m\u001b[0;34m)\u001b[0m\u001b[0;34m\u001b[0m\u001b[0;34m\u001b[0m\u001b[0m\n\u001b[1;32m      9\u001b[0m \u001b[0;34m\u001b[0m\u001b[0m\n\u001b[0;32m---> 10\u001b[0;31m \u001b[0;32mraise\u001b[0m \u001b[0me\u001b[0m\u001b[0;34m\u001b[0m\u001b[0;34m\u001b[0m\u001b[0m\n\u001b[0m",
      "\u001b[0;31mCustException\u001b[0m: Custom Exception"
     ]
    }
   ],
   "source": [
    "class CustException(Exception):\n",
    "    def __init__(self, *args):\n",
    "        self.args = args\n",
    "        self.message = 'Custom Exception'\n",
    "    def __str__(self):\n",
    "        return self.message \n",
    "    \n",
    "e = CustException()\n",
    "\n",
    "raise e"
   ]
  },
  {
   "cell_type": "code",
   "execution_count": 4,
   "metadata": {},
   "outputs": [
    {
     "ename": "Exception",
     "evalue": "My Excpetion",
     "output_type": "error",
     "traceback": [
      "\u001b[0;31m---------------------------------------------------------------------------\u001b[0m",
      "\u001b[0;31mException\u001b[0m                                 Traceback (most recent call last)",
      "\u001b[0;32m<ipython-input-4-97a8b958448d>\u001b[0m in \u001b[0;36m<module>\u001b[0;34m()\u001b[0m\n\u001b[0;32m----> 1\u001b[0;31m \u001b[0;32mraise\u001b[0m \u001b[0mException\u001b[0m\u001b[0;34m(\u001b[0m\u001b[0;34m'My Excpetion'\u001b[0m\u001b[0;34m)\u001b[0m\u001b[0;34m\u001b[0m\u001b[0;34m\u001b[0m\u001b[0m\n\u001b[0m",
      "\u001b[0;31mException\u001b[0m: My Excpetion"
     ]
    }
   ],
   "source": [
    "raise Exception('My Excpetion')"
   ]
  },
  {
   "cell_type": "code",
   "execution_count": 5,
   "metadata": {},
   "outputs": [],
   "source": [
    "class A:\n",
    "    pass"
   ]
  },
  {
   "cell_type": "code",
   "execution_count": 6,
   "metadata": {},
   "outputs": [],
   "source": [
    "class B(A):\n",
    "    pass"
   ]
  },
  {
   "cell_type": "code",
   "execution_count": 7,
   "metadata": {},
   "outputs": [],
   "source": [
    "a = A()\n",
    "b = B()"
   ]
  },
  {
   "cell_type": "code",
   "execution_count": 8,
   "metadata": {},
   "outputs": [
    {
     "data": {
      "text/plain": [
       "True"
      ]
     },
     "execution_count": 8,
     "metadata": {},
     "output_type": "execute_result"
    }
   ],
   "source": [
    "isinstance(a, A)"
   ]
  },
  {
   "cell_type": "code",
   "execution_count": 9,
   "metadata": {},
   "outputs": [
    {
     "data": {
      "text/plain": [
       "True"
      ]
     },
     "execution_count": 9,
     "metadata": {},
     "output_type": "execute_result"
    }
   ],
   "source": [
    "isinstance(b, B)"
   ]
  },
  {
   "cell_type": "code",
   "execution_count": 10,
   "metadata": {},
   "outputs": [
    {
     "data": {
      "text/plain": [
       "True"
      ]
     },
     "execution_count": 10,
     "metadata": {},
     "output_type": "execute_result"
    }
   ],
   "source": [
    "isinstance(b, A)"
   ]
  },
  {
   "cell_type": "code",
   "execution_count": 11,
   "metadata": {},
   "outputs": [
    {
     "data": {
      "text/plain": [
       "False"
      ]
     },
     "execution_count": 11,
     "metadata": {},
     "output_type": "execute_result"
    }
   ],
   "source": [
    "type(b) == type(a)"
   ]
  }
 ],
 "metadata": {
  "anaconda-cloud": {},
  "kernelspec": {
   "display_name": "Python 3",
   "language": "python",
   "name": "python3"
  },
  "language_info": {
   "codemirror_mode": {
    "name": "ipython",
    "version": 3
   },
   "file_extension": ".py",
   "mimetype": "text/x-python",
   "name": "python",
   "nbconvert_exporter": "python",
   "pygments_lexer": "ipython3",
   "version": "3.6.6"
  }
 },
 "nbformat": 4,
 "nbformat_minor": 1
}
