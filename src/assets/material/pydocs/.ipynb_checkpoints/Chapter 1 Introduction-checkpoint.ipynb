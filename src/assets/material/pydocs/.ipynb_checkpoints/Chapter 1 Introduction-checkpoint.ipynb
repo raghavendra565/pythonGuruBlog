{
 "cells": [
  {
   "cell_type": "markdown",
   "metadata": {},
   "source": [
    "\n",
    "### Python Programming\n",
    "##### by Narendra Allam\n",
    "Copyright 2019\n",
    "# Chapter 1\n",
    "\n",
    "## Introduction\n",
    "#### Topics Covering\n",
    "* Introduction to Python\n",
    "* Values and variables\n",
    "* Python data types\n",
    "* type(), id(), sys.getsizeof()\n",
    "* Python labeling system\n",
    "* Object pooling\n",
    "* Conversion functions\n",
    "* The language which knew infinity\n",
    "* Console input, output\n",
    "* Operators in python\n",
    "* Built-in functions\n",
    "* Type conversions \n",
    "* Exercise Programs"
   ]
  },
  {
   "cell_type": "markdown",
   "metadata": {},
   "source": [
    "### Introduction\n",
    "\n",
    "There are 5000+ programming langauges in the world and we are still counting...\n",
    "Python is in the top 5 programming langauges as of 2019. Java, C, C++ and C# are other langauges in the top 5.\n",
    "\n",
    "Python developed by Guido Van Rossum in 1989, and came into the programming world in 1991.\n",
    "\n",
    "Python came into software industry as a scripting language..\n",
    "PERL and Bash were other alternatives for scripting by that time.\n",
    "\n",
    "Scripting languages are mainly used for automation.\n",
    "\n",
    "Later python was widely adopted in the research community and became a complete programming language with robust futures like object orientation and functional programming. Having machine learning and data analysis packages, Python has extensive support for research.\n",
    "\n",
    "\n",
    "\n",
    "#### Why should I learn Python ?\n",
    "\n",
    "* Python is one of the top 5 languages(among 5000+ programming languages).\n",
    "* Python is heavily funded by Google..\n",
    "* There are more career paths after learning Python, one can choose his career path as,<br>\n",
    "    a web developer<br>\n",
    "    a data scientist<br>\n",
    "    a devops engineer<br>\n",
    "    a server side programmer<br>\n",
    "    etc..\n",
    "\n",
    "#### Python features\n",
    "\n",
    "**1. High-level programming language**\n",
    "\n",
    "High-level programming languages are close to business problems. . whereas low-level programming languages are close to system's problems..\n",
    "\n",
    "Examples of Business problems are writing banking software, building an ecommerce website etc.,\n",
    "Examples of system problems are writing a device driver, memory manager, anti-virus, etc.\n",
    "```python\n",
    "Example:-     High-level programming languages: Python, Java, c#, Rube etc..\n",
    "              Low-level Programming languages: C, Assembly programming languages etc..\n",
    "```\n",
    "**2. Interpreted**\n",
    "   \n",
    "&nbsp;&nbsp;&nbsp;&nbsp;Python is interpreted programming language. Code which is written in English, has to be translated to binary code and understood by a computer. This is the process of translation.\n",
    "\n",
    "There are two types of translations \n",
    "1.\tCompilation. \n",
    "2.\tInterpretation.\n",
    "\n",
    "In compilation a compiler translates all the lines of code at the same time then starts the execution first line of code.\n",
    "\n",
    "In interpretation an interpreter takes the first line, translates to machine code and executes, then takes the second line and so on.\n",
    "\n",
    "**3. Multi-purpose** \n",
    "    \n",
    "&nbsp;&nbsp;&nbsp;&nbsp;Python can be used for developing multiple application types.\n",
    "* Web Applications using django, flask\n",
    "* Data analysis using pandas, numpy, matplotlib\n",
    "* Devops Automation using boto\n",
    "* IoT apps using raspberry pi API\n",
    "* Deeplearning using google's Tensorflow API, PyTorch, thaenos etc\n",
    "\n",
    "**4. Not just a scripting language**\n",
    "\n",
    "Python is a general purpose language. One can use python as a scripting language or as a programming language, the puspose for which we use is different. In automation field, python programming is called as scripting. And in application development side, it is called programming. In both cases, a single set of python keywords and constructs are used. As a computer language there is no difference between scripting and Programming in python.\n",
    "\n",
    "__Note:__\n",
    "\n",
    "The biggest difference is, Programming requires designing whihc is not necessary for scripting\n",
    "As we design, programs are maintained for longer time, where as scripts are short-lived and use and throw code files.\n",
    "\n",
    "**5. Extensible**\n",
    "        \n",
    "&nbsp;&nbsp;&nbsp;&nbsp;High-level languages are not performant, because they are more focused to provide developer friendly environment than optimizing for speed.\n",
    "\n",
    "&nbsp;&nbsp;&nbsp;&nbsp;In real-time and time-critical applications, when performance required, we still have to consider languages with low-level features, like C and C++. Python provides futures required to merge other programming languages with python code. Java code can be used in python using 'jython', C# code can be accessed using 'IronPython'.\n",
    "\n",
    "**6. Multi paradigm**\n",
    "\n",
    "&nbsp;&nbsp;&nbsp;&nbsp;Python welcomes programmers from various backgrounds, as python supports procedural, functional and object oriented programming styles.\n",
    "\n",
    "\n",
    "#### Software Installation\n",
    "\n",
    "All the code examples in this book, are developed and tested using cutting edge tools,  _jupyter notebook_ and _PyCharm IDE_.\n",
    "\n",
    "__Anaconda installation:__\n",
    "\n",
    "Download and install python 3.7 www.anaconda.com (anaconda python).\n",
    "We are suggesting anaconda python for practice, as it bundles all the packages required for a programmer.\n",
    "If you install python community version from www.python.org, you need to install required packages seperately.\n",
    "\n",
    "* Download python 3.7 or later version, from https://www.anaconda.com/download/\n",
    "\n",
    "<img src=\"shot2.png\" width='600'>\n",
    "\n",
    "* Just double click on the installer and follow the wizard to complete the installation.\n",
    "\n",
    "* Open __Anaconda Prompt__(command prompt) on Windows or __terminal__(shell) for Linux and Mac Users.\n",
    "* type 'python' command and hit enter, you should see the below screen.\n",
    "\n",
    "<img src='start.png' width='200'>\n",
    "\n",
    "__WINDOWS:__\n",
    "\n",
    "<img src='windows.png' width='500'>\n",
    "\n",
    "__MAC:__\n",
    "\n",
    "<img src='mac.png' width='500'>\n",
    "This is python shell, we can use this for python programming, but we have a better option Jupyter notebook.\n",
    "Come out of this shell by typing _'ctrl + D'_. \n",
    "\n",
    "* Now type command __jupyter notebook__, and hit enter\n",
    "\n",
    "<img src='shot2.1.png' width='500'>\n",
    "\n",
    "* Some text scrolling , but wait until you see your default browser with the following screen.\n",
    "\n",
    "<img src='create.png' width='500'>\n",
    "\n",
    "* Do not close cmd/shell, which should be running in the bachground, just minimize it.\n",
    "\n",
    "\n",
    "__Creating a notebook:__\n",
    "\n",
    "* Open New button on the right side and click on python 2 or python 3, then 'Untitled' is created now, we can rename it just clicking on 'Untitled' word on the top.\n",
    "\n",
    "<img src='shot4.png' width='500'>\n",
    "\n",
    "* We can start programming here, write python code and _'Shift + Enter'_ to execute each cell. We can type multiple lines in the same cell.\n",
    "\n",
    "<img src='shot5.png' width='500'>\n",
    "\n"
   ]
  },
  {
   "cell_type": "markdown",
   "metadata": {},
   "source": [
    "#### Values and Variables\n",
    "\n",
    "Python shell can be used as a calculator!"
   ]
  },
  {
   "cell_type": "code",
   "execution_count": 1,
   "metadata": {},
   "outputs": [
    {
     "data": {
      "text/plain": [
       "6789.0"
      ]
     },
     "execution_count": 1,
     "metadata": {},
     "output_type": "execute_result"
    }
   ],
   "source": [
    "100 * 67.89"
   ]
  },
  {
   "cell_type": "markdown",
   "metadata": {},
   "source": [
    "<b>Program: Birds and Coconut</b><br> \n",
    "There is a small bird which can carry one third of its weight. If the bird weight is 60gms and\n",
    "a coconut is 1450gms<br> how many such birds are required to carry the coconut."
   ]
  },
  {
   "cell_type": "code",
   "execution_count": 2,
   "metadata": {},
   "outputs": [
    {
     "data": {
      "text/plain": [
       "8.055555555555555"
      ]
     },
     "execution_count": 2,
     "metadata": {},
     "output_type": "execute_result"
    }
   ],
   "source": [
    "1450 / 60 / 3"
   ]
  },
  {
   "cell_type": "markdown",
   "metadata": {},
   "source": [
    "Why, result is 8.05555555555?\n",
    "\n",
    "Order of evaluation matters? Of course, yes. We are supposed to calculate 60/3 first then the result 20, divides 1450. By default order of evaluation is left to right for most of the operators, except assignment operators, it is right to left.\n",
    "\n",
    "Paranthesis is used to change order of evaluation. "
   ]
  },
  {
   "cell_type": "code",
   "execution_count": 3,
   "metadata": {},
   "outputs": [
    {
     "data": {
      "text/plain": [
       "72.5"
      ]
     },
     "execution_count": 3,
     "metadata": {},
     "output_type": "execute_result"
    }
   ],
   "source": [
    "1450 / (60 / 3)"
   ]
  },
  {
   "cell_type": "markdown",
   "metadata": {},
   "source": [
    "There must be atleast one real number to get accurate results."
   ]
  },
  {
   "cell_type": "code",
   "execution_count": 4,
   "metadata": {},
   "outputs": [
    {
     "data": {
      "text/plain": [
       "72.5"
      ]
     },
     "execution_count": 4,
     "metadata": {},
     "output_type": "execute_result"
    }
   ],
   "source": [
    "1450.0 / (60 / 3)"
   ]
  },
  {
   "cell_type": "markdown",
   "metadata": {},
   "source": [
    "How do we round the numbers to next whole number?\n",
    "\n",
    "We can use built-in functions. There is a function __ceil()__ in module(set of functions) called __'math'__ in python.\n",
    "We have to import math module and we can use functions in it."
   ]
  },
  {
   "cell_type": "code",
   "execution_count": 5,
   "metadata": {},
   "outputs": [
    {
     "data": {
      "text/plain": [
       "73"
      ]
     },
     "execution_count": 5,
     "metadata": {},
     "output_type": "execute_result"
    }
   ],
   "source": [
    "import math\n",
    "math.ceil(1450.0 / (60 / 3))"
   ]
  },
  {
   "cell_type": "markdown",
   "metadata": {},
   "source": [
    "There are so many functions in math module, we will discuss in detail in modules topic."
   ]
  },
  {
   "cell_type": "markdown",
   "metadata": {},
   "source": [
    "__Program:__ Area of a triangle when sides given"
   ]
  },
  {
   "cell_type": "code",
   "execution_count": 6,
   "metadata": {},
   "outputs": [
    {
     "data": {
      "text/plain": [
       "6.0"
      ]
     },
     "execution_count": 6,
     "metadata": {},
     "output_type": "execute_result"
    }
   ],
   "source": [
    "(3 + 4 + 5)/ 2.0"
   ]
  },
  {
   "cell_type": "code",
   "execution_count": 7,
   "metadata": {},
   "outputs": [
    {
     "data": {
      "text/plain": [
       "6.0"
      ]
     },
     "execution_count": 7,
     "metadata": {},
     "output_type": "execute_result"
    }
   ],
   "source": [
    "(6*(6-3)*(6-4)*(6-5))**0.5"
   ]
  },
  {
   "cell_type": "markdown",
   "metadata": {},
   "source": [
    "What if we need to calculate are for sides, 7, 8, 9 ???\n",
    "\n",
    "__Using variables__\n",
    "\n",
    "* Varaibles are place holders for values.\n",
    "* Variables are for identification.\n",
    "* Variables make things reusable. \n",
    "\n",
    "If we define variables, we do not need to change entire expression, instead change the values assigned to variables."
   ]
  },
  {
   "cell_type": "code",
   "execution_count": 8,
   "metadata": {},
   "outputs": [
    {
     "name": "stdout",
     "output_type": "stream",
     "text": [
      "Area:  6.0\n"
     ]
    }
   ],
   "source": [
    "a = 3\n",
    "b = 4\n",
    "c = 5\n",
    "s = (a + b + c)/ 2.0\n",
    "area = (s * (s - a) * (s - b) * (s - c)) ** 0.5\n",
    "print ('Area: ', area)"
   ]
  },
  {
   "cell_type": "markdown",
   "metadata": {},
   "source": [
    "__Note:__ print() is an output function in python3, and is used to display output on the conaolew or shell. \n",
    "\n",
    "__Note:__ To find square root we can also use math.sqrt() function.\n",
    "\n",
    "#### Primitive data Types:\n",
    "There are 5 primitive data types in python.\n",
    "* int \n",
    "* float\n",
    "* str\n",
    "* bool\n",
    "* complex\n",
    "\n",
    "<b>Dynamically typed</b><br>In python variables change their data types dynamically."
   ]
  },
  {
   "cell_type": "code",
   "execution_count": 9,
   "metadata": {},
   "outputs": [
    {
     "name": "stdout",
     "output_type": "stream",
     "text": [
      "<class 'int'>\n"
     ]
    }
   ],
   "source": [
    "x = 20\n",
    "print(type(x))"
   ]
  },
  {
   "cell_type": "markdown",
   "metadata": {},
   "source": [
    "__type()__ is a built-in function which tells us the data type of a variable."
   ]
  },
  {
   "cell_type": "code",
   "execution_count": 10,
   "metadata": {},
   "outputs": [],
   "source": [
    "x = 3.5"
   ]
  },
  {
   "cell_type": "code",
   "execution_count": 11,
   "metadata": {},
   "outputs": [
    {
     "data": {
      "text/plain": [
       "float"
      ]
     },
     "execution_count": 11,
     "metadata": {},
     "output_type": "execute_result"
    }
   ],
   "source": [
    "type(x)"
   ]
  },
  {
   "cell_type": "markdown",
   "metadata": {},
   "source": [
    "now 'x' has become a float."
   ]
  },
  {
   "cell_type": "code",
   "execution_count": 12,
   "metadata": {},
   "outputs": [],
   "source": [
    "x =  'Apple'"
   ]
  },
  {
   "cell_type": "code",
   "execution_count": 13,
   "metadata": {},
   "outputs": [
    {
     "data": {
      "text/plain": [
       "str"
      ]
     },
     "execution_count": 13,
     "metadata": {},
     "output_type": "execute_result"
    }
   ],
   "source": [
    "type(x)"
   ]
  },
  {
   "cell_type": "markdown",
   "metadata": {},
   "source": [
    "now 'x' has become a str, as python is __'Dynamically typed'__ language. Variables can change their data type when a different value is assigned."
   ]
  },
  {
   "cell_type": "code",
   "execution_count": 14,
   "metadata": {},
   "outputs": [],
   "source": [
    "x = True"
   ]
  },
  {
   "cell_type": "code",
   "execution_count": 15,
   "metadata": {},
   "outputs": [
    {
     "data": {
      "text/plain": [
       "bool"
      ]
     },
     "execution_count": 15,
     "metadata": {},
     "output_type": "execute_result"
    }
   ],
   "source": [
    "type(x)"
   ]
  },
  {
   "cell_type": "code",
   "execution_count": 16,
   "metadata": {},
   "outputs": [],
   "source": [
    "x = 2 + 3j"
   ]
  },
  {
   "cell_type": "code",
   "execution_count": 17,
   "metadata": {},
   "outputs": [
    {
     "data": {
      "text/plain": [
       "complex"
      ]
     },
     "execution_count": 17,
     "metadata": {},
     "output_type": "execute_result"
    }
   ],
   "source": [
    "type(x)"
   ]
  },
  {
   "cell_type": "markdown",
   "metadata": {
    "collapsed": true
   },
   "source": [
    "'x' can change its type dynamically, because of python memory model and labeling system."
   ]
  },
  {
   "cell_type": "markdown",
   "metadata": {},
   "source": [
    "<b>Program:</b> Average of three numbers"
   ]
  },
  {
   "cell_type": "code",
   "execution_count": 18,
   "metadata": {},
   "outputs": [
    {
     "name": "stdout",
     "output_type": "stream",
     "text": [
      "average = 3.6666666666666665\n"
     ]
    }
   ],
   "source": [
    "a = 2\n",
    "b = 4\n",
    "c = 5\n",
    "\n",
    "s = a + b + c\n",
    "avg = s / 3\n",
    "print('average =', avg)"
   ]
  },
  {
   "cell_type": "markdown",
   "metadata": {},
   "source": [
    "#### Reading from console\n",
    "* input() is the function which is used to read the values from the keyboard. Prompt string is optional\n",
    "\n",
    "syntax:\n",
    "```python\n",
    "val = input(\"Prompt string\")\n",
    "```"
   ]
  },
  {
   "cell_type": "code",
   "execution_count": 19,
   "metadata": {},
   "outputs": [
    {
     "name": "stdout",
     "output_type": "stream",
     "text": [
      "Enter x value: 12\n"
     ]
    }
   ],
   "source": [
    "x = input(\"Enter x value: \")"
   ]
  },
  {
   "cell_type": "code",
   "execution_count": 20,
   "metadata": {},
   "outputs": [
    {
     "name": "stdout",
     "output_type": "stream",
     "text": [
      "Enter y value: 25\n"
     ]
    }
   ],
   "source": [
    "y = input(\"Enter y value: \")"
   ]
  },
  {
   "cell_type": "code",
   "execution_count": 21,
   "metadata": {},
   "outputs": [
    {
     "name": "stdout",
     "output_type": "stream",
     "text": [
      "12\n"
     ]
    }
   ],
   "source": [
    "print(x)"
   ]
  },
  {
   "cell_type": "code",
   "execution_count": 22,
   "metadata": {},
   "outputs": [
    {
     "name": "stdout",
     "output_type": "stream",
     "text": [
      "25\n"
     ]
    }
   ],
   "source": [
    "print(y)"
   ]
  },
  {
   "cell_type": "markdown",
   "metadata": {},
   "source": [
    "<b>__Note:__</b><br>\n",
    "- print is the statement/function used to print values on the screen.\n",
    "\n",
    "- in python 2.x, raw_input() - reads input from the console and 'print' is a statement used to print values on console <br>\n",
    "- in python 3.x, it is input(), we don't have raw_input() in python 3.x and 'print()' is a function used to print values on console <br>\n",
    "\n",
    "As explained above, _'print'_ is the statement/function used to print values on console but when shell is used, _'print'_ statement is not required, we can directly get the output by typing the variable name. When running as a script _'print'_ is mandatory"
   ]
  },
  {
   "cell_type": "code",
   "execution_count": 23,
   "metadata": {},
   "outputs": [
    {
     "name": "stdout",
     "output_type": "stream",
     "text": [
      "1234 John True 456.78 (2+3j)\n"
     ]
    }
   ],
   "source": [
    "print(1234, 'John', True, 456.78, 2 + 3j)"
   ]
  },
  {
   "cell_type": "code",
   "execution_count": 24,
   "metadata": {},
   "outputs": [
    {
     "data": {
      "text/plain": [
       "'1225'"
      ]
     },
     "execution_count": 24,
     "metadata": {},
     "output_type": "execute_result"
    }
   ],
   "source": [
    "x + y"
   ]
  },
  {
   "cell_type": "markdown",
   "metadata": {},
   "source": [
    "<b>Note:</b> By default 'raw_input()' function reads values as strings.We should explicitly convert them to the target type."
   ]
  },
  {
   "cell_type": "markdown",
   "metadata": {},
   "source": [
    "**Conversion functions**\n",
    "\n",
    "In python, we can change one type into other if it is legitimate. We have conversion functions for all types in python.\n",
    "\n",
    "* int()\n",
    "* float()\n",
    "* bool()\n",
    "* str()\n",
    "* complex()\n",
    "\n",
    "lets apply int() conversion function on the out put of raw_input()"
   ]
  },
  {
   "cell_type": "code",
   "execution_count": 25,
   "metadata": {},
   "outputs": [
    {
     "name": "stdout",
     "output_type": "stream",
     "text": [
      "Enter x Value: 20\n",
      "Enter y Value: 30\n",
      "Sum =  50\n"
     ]
    }
   ],
   "source": [
    "x = int(input(\"Enter x Value: \"))\n",
    "y = int(input(\"Enter y Value: \"))\n",
    "s = x + y\n",
    "print(\"Sum = \", s)"
   ]
  },
  {
   "cell_type": "markdown",
   "metadata": {},
   "source": [
    "Type of the data we are reading from keyboard is 'str'"
   ]
  },
  {
   "cell_type": "code",
   "execution_count": 26,
   "metadata": {},
   "outputs": [
    {
     "name": "stdout",
     "output_type": "stream",
     "text": [
      "56\n"
     ]
    },
    {
     "data": {
      "text/plain": [
       "str"
      ]
     },
     "execution_count": 26,
     "metadata": {},
     "output_type": "execute_result"
    }
   ],
   "source": [
    "x = input()\n",
    "type(x)"
   ]
  },
  {
   "cell_type": "code",
   "execution_count": 27,
   "metadata": {},
   "outputs": [
    {
     "name": "stdout",
     "output_type": "stream",
     "text": [
      "-100 plus 300 is 200 and -100 is -ve\n"
     ]
    }
   ],
   "source": [
    "x = -100\n",
    "y = 300\n",
    "z = x + y\n",
    "print(x, 'plus', y, 'is', z, 'and', x, 'is -ve')"
   ]
  },
  {
   "cell_type": "markdown",
   "metadata": {},
   "source": [
    "This is old style of printing.\n",
    "\n",
    "New style of printing is,"
   ]
  },
  {
   "cell_type": "code",
   "execution_count": 28,
   "metadata": {},
   "outputs": [
    {
     "name": "stdout",
     "output_type": "stream",
     "text": [
      "-100 plus 300 is 200 and -100 is -ve\n"
     ]
    }
   ],
   "source": [
    "x = -100\n",
    "y = 300\n",
    "z = x + y\n",
    "print('{} plus {} is {} and {} is -ve'.format(x, y, z, x))"
   ]
  },
  {
   "cell_type": "markdown",
   "metadata": {},
   "source": [
    "'{}' is the place holder for a value we can add any text in between as above\n",
    "\n",
    "                                or"
   ]
  },
  {
   "cell_type": "code",
   "execution_count": 29,
   "metadata": {},
   "outputs": [
    {
     "name": "stdout",
     "output_type": "stream",
     "text": [
      "-100 plus 300 is 200 and -100 is -ve\n"
     ]
    }
   ],
   "source": [
    "x = -100\n",
    "y = 300\n",
    "z = x + y\n",
    "print('{0} plus {1} is {2} and {0} is -ve'.format(x, y, z))"
   ]
  },
  {
   "cell_type": "markdown",
   "metadata": {},
   "source": [
    "we can reorder the arguments using their positional values(indices) in the format function.<br>\n",
    "x index is {0},<br>\n",
    "y index is {1},<br>\n",
    "z index is {2} and so on...<br>\n",
    "And we can also use them multiple times, as below<br>"
   ]
  },
  {
   "cell_type": "code",
   "execution_count": 30,
   "metadata": {},
   "outputs": [
    {
     "name": "stdout",
     "output_type": "stream",
     "text": [
      "300 plus -100 is 200 and -100 is even\n"
     ]
    }
   ],
   "source": [
    "print('{1} plus {0} is {2} and {0} is even'.format(x, y, z))"
   ]
  },
  {
   "cell_type": "markdown",
   "metadata": {},
   "source": [
    "### Python memory model\n",
    "Everything is an object in python. Comparision with other langauges.\n",
    "\n",
    "\n",
    "<img src='drawing1.png' width='600'>"
   ]
  },
  {
   "cell_type": "code",
   "execution_count": 31,
   "metadata": {},
   "outputs": [],
   "source": [
    "x = 20"
   ]
  },
  {
   "cell_type": "code",
   "execution_count": 32,
   "metadata": {},
   "outputs": [
    {
     "name": "stdout",
     "output_type": "stream",
     "text": [
      "10965504\n"
     ]
    }
   ],
   "source": [
    "print (id(x))"
   ]
  },
  {
   "cell_type": "markdown",
   "metadata": {},
   "source": [
    "__id()__ function returns identification, logical address of the object"
   ]
  },
  {
   "cell_type": "code",
   "execution_count": 33,
   "metadata": {},
   "outputs": [],
   "source": [
    "x = 30"
   ]
  },
  {
   "cell_type": "markdown",
   "metadata": {},
   "source": [
    "If we execute above statement in other programming languages like C/C++, Java and C#, x's old value(20) will be replaced by 30, as 'x' owns a memory location and always can hold one value. In python value '20' owns the location 'x' is just a label to it. When we assign 30, x will be moved to 30's location by leaving 20's location. If there is no label assigned to location, python's memory manager 'gc'(garbage collector), collects the memory.\n",
    "\n",
    "__Labeling:__\n",
    "Python treats object names as lables. When we assign a new value to a label(variable name),\n",
    "it allocates space and constructs an object for new value and adds a label to it, but it do not replace the exisitng value."
   ]
  },
  {
   "cell_type": "code",
   "execution_count": 34,
   "metadata": {},
   "outputs": [
    {
     "name": "stdout",
     "output_type": "stream",
     "text": [
      "10965824\n"
     ]
    }
   ],
   "source": [
    "print(id(x))"
   ]
  },
  {
   "cell_type": "markdown",
   "metadata": {
    "collapsed": true
   },
   "source": [
    "we can see, x location changing"
   ]
  },
  {
   "cell_type": "code",
   "execution_count": 35,
   "metadata": {},
   "outputs": [
    {
     "name": "stdout",
     "output_type": "stream",
     "text": [
      "10965824\n"
     ]
    }
   ],
   "source": [
    "y = 30\n",
    "print(id(y))"
   ]
  },
  {
   "cell_type": "markdown",
   "metadata": {},
   "source": [
    "Surprise! x and y are pointing same object. Python pools frequently used objects.\n",
    "\n",
    "__Integer pooling:__  \n",
    "\n",
    "Typical Python program spends much of its time in allocating\n",
    "and deallocating integers, these operations should be very fast.\n",
    "Therefore python uses a dedicated allocation scheme with a much lower\n",
    "overhead (in space and time). Python generally pools integers between -5 to +256, in pre-allocated object list. This is also applicable for characters(__str__) afterall ASCII codes are integers.\n",
    "\n",
    "__Note:__ \n",
    "* Pooling is not applicable for __float__ values.<br>\n",
    "* ids are equal for integers ranging from -5 to + 256"
   ]
  },
  {
   "cell_type": "code",
   "execution_count": 36,
   "metadata": {},
   "outputs": [
    {
     "name": "stdout",
     "output_type": "stream",
     "text": [
      "10964704 10964704\n",
      "10973056 10973056\n"
     ]
    }
   ],
   "source": [
    "x = -5\n",
    "y = -5\n",
    "print (id(x), id(y))\n",
    "\n",
    "x = 256\n",
    "y = 256\n",
    "print (id(x), id(y))"
   ]
  },
  {
   "cell_type": "markdown",
   "metadata": {},
   "source": [
    "__ids might not be equal before -5 and after + 256__"
   ]
  },
  {
   "cell_type": "code",
   "execution_count": 37,
   "metadata": {},
   "outputs": [
    {
     "name": "stdout",
     "output_type": "stream",
     "text": [
      "140183578270576 140183578270640\n",
      "140183578271024 140183578271120\n"
     ]
    }
   ],
   "source": [
    "x = -6\n",
    "y = -6\n",
    "print (id(x), id(y))\n",
    "\n",
    "x = 257\n",
    "y = 257\n",
    "print (id(x), id(y))"
   ]
  },
  {
   "cell_type": "markdown",
   "metadata": {},
   "source": [
    "ids are equal before for same strings"
   ]
  },
  {
   "cell_type": "code",
   "execution_count": 38,
   "metadata": {},
   "outputs": [
    {
     "name": "stdout",
     "output_type": "stream",
     "text": [
      "140183577803496 140183577803496\n"
     ]
    }
   ],
   "source": [
    "x = 'Apple'\n",
    "y = 'Apple'\n",
    "print (id(x), id(y))"
   ]
  },
  {
   "cell_type": "markdown",
   "metadata": {},
   "source": [
    "## Operators"
   ]
  },
  {
   "cell_type": "markdown",
   "metadata": {},
   "source": [
    "An operator performs an action on operands.\n",
    "``` python\n",
    "x + y\n",
    "```\n",
    "In the below expression + is the operator, x and y are operands.\n",
    "Python supports 7 types of operators"
   ]
  },
  {
   "cell_type": "markdown",
   "metadata": {},
   "source": [
    "#### Arithmetic Operators\n",
    "\n",
    "<table class=\"table table-bordered\">\n",
    "<tbody><tr>\n",
    "<th style=\"width:10%\">Operator</th>\n",
    "<th style=\"width:45%\">Description</th>\n",
    "\n",
    "</tr>\n",
    "<tr>\n",
    "<td>+ Addition</td>\n",
    "<td>Adds values on either side of the operator.</td>\n",
    "\n",
    "</tr>\n",
    "<tr>\n",
    "<td>- Subtraction</td>\n",
    "<td>Subtracts right hand operand from left hand operand.</td>\n",
    "\n",
    "</tr>\n",
    "<tr>\n",
    "<td>\\* Multiplication</td>\n",
    "<td>Multiplies values on either side of the operator</td>\n",
    "\n",
    "</tr>\n",
    "<tr>\n",
    "<td>/ Division</td>\n",
    "<td>Divides left hand operand by right hand operand</td>\n",
    "\n",
    "</tr>\n",
    "<tr>\n",
    "<td>% Modulus</td>\n",
    "<td>Divides left hand operand by right hand operand and returns remainder</td>\n",
    "\n",
    "</tr>\n",
    "<tr>\n",
    "<td>\\*\\* Exponent</td>\n",
    "<td>Performs exponential (power) calculation on operators</td>\n",
    "\n",
    "</tr>\n",
    "<tr>\n",
    "<td>//</td>\n",
    "<td> Integer Division or Floor Division - Rounds the quotient towards -ve infinity</td>\n",
    "\n",
    "</tr>\n",
    "</tbody></table>\n",
    "\n",
    "Let's start with"
   ]
  },
  {
   "cell_type": "code",
   "execution_count": 39,
   "metadata": {},
   "outputs": [],
   "source": [
    "a, b = 7, 3"
   ]
  },
  {
   "cell_type": "code",
   "execution_count": 40,
   "metadata": {},
   "outputs": [
    {
     "data": {
      "text/plain": [
       "10"
      ]
     },
     "execution_count": 40,
     "metadata": {},
     "output_type": "execute_result"
    }
   ],
   "source": [
    "a + b"
   ]
  },
  {
   "cell_type": "code",
   "execution_count": 41,
   "metadata": {},
   "outputs": [
    {
     "data": {
      "text/plain": [
       "2.3333333333333335"
      ]
     },
     "execution_count": 41,
     "metadata": {},
     "output_type": "execute_result"
    }
   ],
   "source": [
    "a / b"
   ]
  },
  {
   "cell_type": "code",
   "execution_count": 42,
   "metadata": {},
   "outputs": [
    {
     "data": {
      "text/plain": [
       "3.5"
      ]
     },
     "execution_count": 42,
     "metadata": {},
     "output_type": "execute_result"
    }
   ],
   "source": [
    "7 / 2 # Real number division"
   ]
  },
  {
   "cell_type": "code",
   "execution_count": 43,
   "metadata": {},
   "outputs": [
    {
     "data": {
      "text/plain": [
       "3"
      ]
     },
     "execution_count": 43,
     "metadata": {},
     "output_type": "execute_result"
    }
   ],
   "source": [
    "7 // 2  # Integer or Floor division"
   ]
  },
  {
   "cell_type": "markdown",
   "metadata": {},
   "source": [
    "// - (integer division) always gives integer part of the result"
   ]
  },
  {
   "cell_type": "code",
   "execution_count": 44,
   "metadata": {},
   "outputs": [
    {
     "data": {
      "text/plain": [
       "3.0"
      ]
     },
     "execution_count": 44,
     "metadata": {},
     "output_type": "execute_result"
    }
   ],
   "source": [
    "7 // 2.0"
   ]
  },
  {
   "cell_type": "markdown",
   "metadata": {},
   "source": [
    "% - Modules or remainder operator"
   ]
  },
  {
   "cell_type": "code",
   "execution_count": 45,
   "metadata": {},
   "outputs": [
    {
     "data": {
      "text/plain": [
       "3"
      ]
     },
     "execution_count": 45,
     "metadata": {},
     "output_type": "execute_result"
    }
   ],
   "source": [
    "7 % 4"
   ]
  },
  {
   "cell_type": "code",
   "execution_count": 46,
   "metadata": {},
   "outputs": [
    {
     "data": {
      "text/plain": [
       "4"
      ]
     },
     "execution_count": 46,
     "metadata": {},
     "output_type": "execute_result"
    }
   ],
   "source": [
    "4 % 7"
   ]
  },
  {
   "cell_type": "markdown",
   "metadata": {},
   "source": [
    "\\*\\* - Exponential Operator"
   ]
  },
  {
   "cell_type": "code",
   "execution_count": 47,
   "metadata": {},
   "outputs": [
    {
     "data": {
      "text/plain": [
       "81"
      ]
     },
     "execution_count": 47,
     "metadata": {},
     "output_type": "execute_result"
    }
   ],
   "source": [
    "9 ** 2   # square of nine"
   ]
  },
  {
   "cell_type": "code",
   "execution_count": 48,
   "metadata": {},
   "outputs": [
    {
     "data": {
      "text/plain": [
       "3.0"
      ]
     },
     "execution_count": 48,
     "metadata": {},
     "output_type": "execute_result"
    }
   ],
   "source": [
    "9 ** 0.5  # square root of nine"
   ]
  },
  {
   "cell_type": "markdown",
   "metadata": {},
   "source": [
    "#### Relational operators\n",
    "Relational operators produce boolean values(True or False)\n",
    "<table class=\"table table-bordered\">\n",
    "<tbody><tr>\n",
    "<th style=\"width:10%\">Operator</th><th style=\"width:45%\">Description</th>\n",
    "</tr>\n",
    "<tr>\n",
    "<td>==</td>\n",
    "<td>If the values of two operands are equal, then the condition becomes True.</td>\n",
    "\n",
    "</tr>\n",
    "<tr>\n",
    "<td>!=</td>\n",
    "<td>If values of two operands are not equal, then condition becomes True.</td>\n",
    "</tr>\n",
    "<!--<tr>\n",
    "<td>&lt;&gt;</td>\n",
    "<td>If values of two operands are not equal, then condition becomes True.</td>\n",
    "<td> (a &lt;&gt; b) is True. This is similar to != operator.</td>\n",
    "</tr>-->\n",
    "<tr>\n",
    "<td>&gt;</td>\n",
    "<td>If the value of left operand is greater than the value of right operand, then condition becomes True.</td>\n",
    "\n",
    "</tr>\n",
    "<tr>\n",
    "<td>&lt;</td>\n",
    "<td>If the value of left operand is less than the value of right operand, then condition becomes True.</td>\n",
    "\n",
    "</tr>\n",
    "<tr>\n",
    "<td>&gt;=</td>\n",
    "<td>If the value of left operand is greater than or equal to the value of right operand, then condition becomes True.</td>\n",
    "\n",
    "</tr>\n",
    "<tr>\n",
    "<td>&lt;=</td>\n",
    "<td>If the value of left operand is less than or equal to the value of right operand, then condition becomes True.</td>\n",
    "\n",
    "</tr>\n",
    "</tbody></table>"
   ]
  },
  {
   "cell_type": "code",
   "execution_count": 49,
   "metadata": {},
   "outputs": [
    {
     "data": {
      "text/plain": [
       "False"
      ]
     },
     "execution_count": 49,
     "metadata": {},
     "output_type": "execute_result"
    }
   ],
   "source": [
    "x = 20\n",
    "y = 30\n",
    "x == y"
   ]
  },
  {
   "cell_type": "code",
   "execution_count": 50,
   "metadata": {},
   "outputs": [
    {
     "data": {
      "text/plain": [
       "True"
      ]
     },
     "execution_count": 50,
     "metadata": {},
     "output_type": "execute_result"
    }
   ],
   "source": [
    "x < y"
   ]
  },
  {
   "cell_type": "code",
   "execution_count": 51,
   "metadata": {},
   "outputs": [
    {
     "data": {
      "text/plain": [
       "True"
      ]
     },
     "execution_count": 51,
     "metadata": {},
     "output_type": "execute_result"
    }
   ],
   "source": [
    "x <= y"
   ]
  },
  {
   "cell_type": "code",
   "execution_count": 52,
   "metadata": {},
   "outputs": [
    {
     "data": {
      "text/plain": [
       "True"
      ]
     },
     "execution_count": 52,
     "metadata": {},
     "output_type": "execute_result"
    }
   ],
   "source": [
    "x != y"
   ]
  },
  {
   "cell_type": "markdown",
   "metadata": {},
   "source": [
    "#### Logical Operators\n",
    "\n",
    "Logical operators are used to combine multiple relational expressions into one.\n",
    "\n",
    "<table class=\"table table-bordered\">\n",
    "<tbody><tr>\n",
    "<th style=\"width:10%\">Operator</th><th style=\"width:45%\">Description</th>\n",
    "</tr>\n",
    "<tr>\n",
    "<td><b>and</b>\n",
    "Logical AND</td>\n",
    "<td>If both the operands are true, then condition becomes true.</td>\n",
    "\n",
    "</tr>\n",
    "<tr>\n",
    "<td><b>or</b>\n",
    "Logical OR</td>\n",
    "<td>If any of the two operands are non-zero, then condition becomes true.</td>\n",
    "\n",
    "</tr>\n",
    "<tr>\n",
    "<td><b>not</b>\n",
    "Logical NOT</td>\n",
    "<td>Used to reverse the logical state of its operand.</td>\n",
    "</tr>\n",
    "</tbody></table>\n"
   ]
  },
  {
   "cell_type": "code",
   "execution_count": 53,
   "metadata": {},
   "outputs": [],
   "source": [
    "x = 20\n",
    "y = 30"
   ]
  },
  {
   "cell_type": "markdown",
   "metadata": {
    "collapsed": true
   },
   "source": [
    "__and:__ gives __True__ when all relational expressions are __True__ remaining cases it gives __False__"
   ]
  },
  {
   "cell_type": "code",
   "execution_count": 54,
   "metadata": {},
   "outputs": [
    {
     "data": {
      "text/plain": [
       "False"
      ]
     },
     "execution_count": 54,
     "metadata": {},
     "output_type": "execute_result"
    }
   ],
   "source": [
    "(x > 20) and (y%6 == 0)"
   ]
  },
  {
   "cell_type": "markdown",
   "metadata": {},
   "source": [
    "__or:__ gives __False__ when all relational expressions are __False__ remaining cases it gives __True__"
   ]
  },
  {
   "cell_type": "code",
   "execution_count": 55,
   "metadata": {},
   "outputs": [
    {
     "data": {
      "text/plain": [
       "False"
      ]
     },
     "execution_count": 55,
     "metadata": {},
     "output_type": "execute_result"
    }
   ],
   "source": [
    "(x > 30) or (y%7 == 0)"
   ]
  },
  {
   "cell_type": "code",
   "execution_count": 56,
   "metadata": {},
   "outputs": [
    {
     "data": {
      "text/plain": [
       "True"
      ]
     },
     "execution_count": 56,
     "metadata": {},
     "output_type": "execute_result"
    }
   ],
   "source": [
    "(x > 30) or (y%6 == 0)"
   ]
  },
  {
   "cell_type": "markdown",
   "metadata": {
    "collapsed": true
   },
   "source": [
    "__not:__ can be applied on any boolean expression, which converts a __True__ to __False__ and __False__ to __True__"
   ]
  },
  {
   "cell_type": "code",
   "execution_count": 57,
   "metadata": {},
   "outputs": [
    {
     "data": {
      "text/plain": [
       "True"
      ]
     },
     "execution_count": 57,
     "metadata": {},
     "output_type": "execute_result"
    }
   ],
   "source": [
    "not x > 30"
   ]
  },
  {
   "cell_type": "code",
   "execution_count": 58,
   "metadata": {},
   "outputs": [
    {
     "data": {
      "text/plain": [
       "True"
      ]
     },
     "execution_count": 58,
     "metadata": {},
     "output_type": "execute_result"
    }
   ],
   "source": [
    "(not x > 30) or (y%7 == 0)"
   ]
  },
  {
   "cell_type": "markdown",
   "metadata": {
    "collapsed": true
   },
   "source": [
    "#### Short-hand assignment operators\n",
    "<table class=\"table table-bordered\">\n",
    "<tbody><tr>\n",
    "<th style=\"width:10%\">Operator</th>\n",
    "<th style=\"width:45%\">Description</th>\n",
    "\n",
    "</tr>\n",
    "<tr>\n",
    "<td>=</td>\n",
    "<td>Assigns values from right side operands to left side operand</td>\n",
    "\n",
    "</tr>\n",
    "<tr>\n",
    "<td>+=\n",
    "Add AND</td>\n",
    "<td>It adds right operand to the left operand and assign the result to left operand</td>\n",
    "\n",
    "</tr>\n",
    "<tr>\n",
    "<td>-=\n",
    "Subtract AND</td>\n",
    "<td>It subtracts right operand from the left operand and assign the result to left operand</td>\n",
    "\n",
    "</tr>\n",
    "<tr>\n",
    "<td>\\*=\n",
    "Multiply AND</td>\n",
    "<td>It multiplies right operand with the left operand and assign the result to left operand</td>\n",
    "\n",
    "</tr>\n",
    "<tr>\n",
    "<td>/=\n",
    "Divide AND</td>\n",
    "<td>It divides left operand with the right operand and assign the result to left operand</td>\n",
    "\n",
    "</tr>\n",
    "<tr>\n",
    "<td>%=\n",
    "Modulus AND</td>\n",
    "<td>It takes modulus using two operands and assign the result to left operand</td>\n",
    "\n",
    "</tr>\n",
    "<tr>\n",
    "<td>**=\n",
    "Exponent AND</td>\n",
    "<td>Performs exponential (power) calculation on operators and assign value to the left operand</td>\n",
    "</tr>\n",
    "<tr>\n",
    "<td>//=\n",
    "Floor Division</td>\n",
    "<td>It performs floor division on operators and assign value to the left operand</td>\n",
    "</tr>\n",
    "</tbody></table>"
   ]
  },
  {
   "cell_type": "markdown",
   "metadata": {},
   "source": [
    "```python\n",
    "x = 20\n",
    "x += 10\n",
    "```\n",
    "<b>'=' is assignment operator.</b> After the execution of above statements, 20 is the value assigned to variable 'x'.\n",
    "'x' refers to '20', until we assign a new value to x.\n",
    "\n",
    "<b>'+=' is short hand assignment operator,</b> which adds right side value '10' to 'x', and stores the result back in 'x'. That means, \"x += 10' is equivalent to \"x = x + 10\". So x value becomes '30'."
   ]
  },
  {
   "cell_type": "code",
   "execution_count": 59,
   "metadata": {},
   "outputs": [
    {
     "name": "stdout",
     "output_type": "stream",
     "text": [
      "3\n"
     ]
    }
   ],
   "source": [
    "x = 7\n",
    "y = 4\n",
    "x %= y # equivalent to x = x%y\n",
    "print (x)"
   ]
  },
  {
   "cell_type": "markdown",
   "metadata": {},
   "source": [
    "#### Bitwise Operators\n",
    "\n",
    "Bitwise operators are used to manipulate values at bit and byte level.\n",
    "\n",
    "<table class=\"table table-bordered\">\n",
    "<tbody><tr>\n",
    "<th style=\"width:10%\">Operator</th>\n",
    "<th style=\"width:45%\">Description</th>\n",
    "\n",
    "</tr>\n",
    "<tr>\n",
    "<td>&amp; Binary AND</td>\n",
    "<td>Operator copies a bit to the result if it exists in both operands </td>\n",
    "\n",
    "</tr>\n",
    "<tr>\n",
    "<td>| Binary OR</td>\n",
    "<td>It copies a bit if it exists in either operand.</td>\n",
    "\n",
    "</tr>\n",
    "<tr>\n",
    "<td>^ Binary XOR</td>\n",
    "<td>It copies the bit if it is set in one operand but not both.</td>\n",
    "\n",
    "</tr>\n",
    "<tr>\n",
    "<td>~ Binary\n",
    "Ones Complement</td>\n",
    "<td>It is unary and has the effect of 'flipping' bits.</td>\n",
    "\n",
    "</tr>\n",
    "<tr>\n",
    "<td>&lt;&lt; Binary Left Shift</td>\n",
    "<td>The left operands value is moved left by the number of bits specified by the right operand.</td>\n",
    "\n",
    "</tr>\n",
    "<tr>\n",
    "<td>&gt;&gt; Binary Right Shift</td>\n",
    "<td>The left operands value is moved right by the number of bits specified by the right operand.</td>\n",
    "\n",
    "</tr>\n",
    "</tbody></table>\n"
   ]
  },
  {
   "cell_type": "markdown",
   "metadata": {},
   "source": [
    "Before starting bitwise operators, we need to undertsand how numbers are represented in various number systems in python.\n",
    "\n",
    "#### Number Prefix"
   ]
  },
  {
   "cell_type": "markdown",
   "metadata": {},
   "source": [
    "The default number system everybody uses is decimal number system. We can also represent numbers directly in other number systems in python code.\n",
    "```python\n",
    "x = 0b10101 # 0b prefix is used to represent binary numbers in python\n",
    "x = 0o4526  # 0o prefix is used to represent octal numbers\n",
    "x = 0xAB2F  # 0x prefix is used to represent hexadecimal numbers\n",
    "```"
   ]
  },
  {
   "cell_type": "markdown",
   "metadata": {},
   "source": [
    "##### Left shifting"
   ]
  },
  {
   "cell_type": "code",
   "execution_count": 60,
   "metadata": {},
   "outputs": [
    {
     "name": "stdout",
     "output_type": "stream",
     "text": [
      "160\n"
     ]
    }
   ],
   "source": [
    "x = 20\n",
    "print (x << 3)"
   ]
  },
  {
   "cell_type": "code",
   "execution_count": 61,
   "metadata": {},
   "outputs": [
    {
     "data": {
      "text/plain": [
       "20"
      ]
     },
     "execution_count": 61,
     "metadata": {},
     "output_type": "execute_result"
    }
   ],
   "source": [
    "x"
   ]
  },
  {
   "cell_type": "markdown",
   "metadata": {},
   "source": [
    "In this example we are shifting bits of 20 (i.e 0b10100) 3 times to the left side, which becomes 0b10100000. Three 0s are added to the right side.\n",
    "\n",
    "**Note:**\n",
    "    When x is shifted n times to the left side, its value becoms, x \\* 2^n"
   ]
  },
  {
   "cell_type": "markdown",
   "metadata": {},
   "source": [
    "##### Right Shifting"
   ]
  },
  {
   "cell_type": "code",
   "execution_count": 62,
   "metadata": {},
   "outputs": [
    {
     "data": {
      "text/plain": [
       "20"
      ]
     },
     "execution_count": 62,
     "metadata": {},
     "output_type": "execute_result"
    }
   ],
   "source": [
    "x = 160\n",
    "x >> 3"
   ]
  },
  {
   "cell_type": "code",
   "execution_count": 63,
   "metadata": {},
   "outputs": [
    {
     "name": "stdout",
     "output_type": "stream",
     "text": [
      "160\n"
     ]
    }
   ],
   "source": [
    "print (x)"
   ]
  },
  {
   "cell_type": "markdown",
   "metadata": {},
   "source": [
    "In this example we are shifting bits of 160 (i.e  0b10100000) 3 times to the right side,which becomes 0b10100. Three bits are discarded from right side.\n",
    "\n",
    "__Note:__ When x is shifted n times to the right side, its value becoms, x / 2^n \n",
    "\n",
    "__Note:__ When printing on console or shell numbers are displayed in decimal.\n",
    "\n",
    "##### Number System conversion functions\n",
    "We can get string representation of a number in any hexadecimal, octal and binary number systems using the following functions,\n",
    "* bin()\n",
    "* hex()\n",
    "* oct()\n",
    "\n",
    "__Note:__ All the above functions returns strings not numbers."
   ]
  },
  {
   "cell_type": "code",
   "execution_count": 64,
   "metadata": {},
   "outputs": [
    {
     "data": {
      "text/plain": [
       "'0b100100101001'"
      ]
     },
     "execution_count": 64,
     "metadata": {},
     "output_type": "execute_result"
    }
   ],
   "source": [
    "bin(2345) # converting decimal to binary"
   ]
  },
  {
   "cell_type": "code",
   "execution_count": 65,
   "metadata": {},
   "outputs": [
    {
     "data": {
      "text/plain": [
       "'0x9c'"
      ]
     },
     "execution_count": 65,
     "metadata": {},
     "output_type": "execute_result"
    }
   ],
   "source": [
    "hex(0o234) # converting octal to hexadecimal"
   ]
  },
  {
   "cell_type": "code",
   "execution_count": 66,
   "metadata": {},
   "outputs": [
    {
     "data": {
      "text/plain": [
       "'0o352'"
      ]
     },
     "execution_count": 66,
     "metadata": {},
     "output_type": "execute_result"
    }
   ],
   "source": [
    "oct(0xea) # converting hexadecimal to octal"
   ]
  },
  {
   "cell_type": "markdown",
   "metadata": {},
   "source": [
    "#### Side Track: No limit for number size.\n",
    "Python can handle huge numbers, as, it is not having any limitation on the number size.\n",
    "\n",
    "<b>Note:</b> <I>sys.getsizeof()</I> function gives the number of bytes allocated to a value. We have to\n",
    "import sys module to use this function."
   ]
  },
  {
   "cell_type": "code",
   "execution_count": 67,
   "metadata": {},
   "outputs": [
    {
     "name": "stdout",
     "output_type": "stream",
     "text": [
      "164636 28\n"
     ]
    }
   ],
   "source": [
    "import sys\n",
    "\n",
    "x = 2**1234567\n",
    "y = 20\n",
    "\n",
    "print (sys.getsizeof(x), sys.getsizeof(y))"
   ]
  },
  {
   "cell_type": "markdown",
   "metadata": {},
   "source": [
    "#### \"The language which knew Infinity\"\n",
    "We can represent infinity in python"
   ]
  },
  {
   "cell_type": "code",
   "execution_count": 68,
   "metadata": {},
   "outputs": [],
   "source": [
    "x = float(\"inf\")"
   ]
  },
  {
   "cell_type": "markdown",
   "metadata": {},
   "source": [
    "'x' is holding infinity here"
   ]
  },
  {
   "cell_type": "code",
   "execution_count": 69,
   "metadata": {},
   "outputs": [],
   "source": [
    "y = float(\"-inf\")"
   ]
  },
  {
   "cell_type": "markdown",
   "metadata": {},
   "source": [
    "'y' is -ve infinity"
   ]
  },
  {
   "cell_type": "code",
   "execution_count": 70,
   "metadata": {},
   "outputs": [
    {
     "data": {
      "text/plain": [
       "True"
      ]
     },
     "execution_count": 70,
     "metadata": {},
     "output_type": "execute_result"
    }
   ],
   "source": [
    "2 ** 1234567 < x"
   ]
  },
  {
   "cell_type": "markdown",
   "metadata": {},
   "source": [
    "anything is less than +infinity"
   ]
  },
  {
   "cell_type": "code",
   "execution_count": 71,
   "metadata": {},
   "outputs": [
    {
     "data": {
      "text/plain": [
       "True"
      ]
     },
     "execution_count": 71,
     "metadata": {},
     "output_type": "execute_result"
    }
   ],
   "source": [
    "y < 2 ** 1234567"
   ]
  },
  {
   "cell_type": "markdown",
   "metadata": {},
   "source": [
    "-ve Infinity is less than everything, \n",
    "\n",
    "Infinity equals to infinity"
   ]
  },
  {
   "cell_type": "code",
   "execution_count": 72,
   "metadata": {},
   "outputs": [
    {
     "data": {
      "text/plain": [
       "True"
      ]
     },
     "execution_count": 72,
     "metadata": {},
     "output_type": "execute_result"
    }
   ],
   "source": [
    "x == x"
   ]
  },
  {
   "cell_type": "markdown",
   "metadata": {},
   "source": [
    "Do you really thing python stores infinity in memory?????\n",
    "No, actually, it is playing with your mind. It simply gives you __True__, when infinity is on the right side of less than symbol!!! same for -ve infinity.\n",
    "\n",
    "Let's come back to our bitwise operators..."
   ]
  },
  {
   "cell_type": "markdown",
   "metadata": {},
   "source": [
    "##### Bitwise AND : &\n",
    "AND (&) results 1 if both the bits are One else zero."
   ]
  },
  {
   "cell_type": "code",
   "execution_count": 73,
   "metadata": {},
   "outputs": [
    {
     "data": {
      "text/plain": [
       "'0b1000'"
      ]
     },
     "execution_count": 73,
     "metadata": {},
     "output_type": "execute_result"
    }
   ],
   "source": [
    "x = 0b1010\n",
    "y = 0b1100\n",
    "bin(x & y)"
   ]
  },
  {
   "cell_type": "markdown",
   "metadata": {},
   "source": [
    "##### Bitwise OR : |\n",
    "OR(|) results 0 if both the bits are Zero else One."
   ]
  },
  {
   "cell_type": "code",
   "execution_count": 74,
   "metadata": {},
   "outputs": [
    {
     "data": {
      "text/plain": [
       "'0b1110'"
      ]
     },
     "execution_count": 74,
     "metadata": {},
     "output_type": "execute_result"
    }
   ],
   "source": [
    "x = 0b1010\n",
    "y = 0b1100\n",
    "bin(x | y)"
   ]
  },
  {
   "cell_type": "markdown",
   "metadata": {},
   "source": [
    "##### Complement : ~\n",
    "~ toggles ones to zeros, zeros to ones"
   ]
  },
  {
   "cell_type": "code",
   "execution_count": 75,
   "metadata": {},
   "outputs": [
    {
     "name": "stdout",
     "output_type": "stream",
     "text": [
      "-2\n"
     ]
    }
   ],
   "source": [
    "x = 1\n",
    "print (~x)"
   ]
  },
  {
   "cell_type": "code",
   "execution_count": 76,
   "metadata": {},
   "outputs": [
    {
     "name": "stdout",
     "output_type": "stream",
     "text": [
      "-16\n"
     ]
    }
   ],
   "source": [
    "x = 15\n",
    "print (~x)"
   ]
  },
  {
   "cell_type": "markdown",
   "metadata": {},
   "source": [
    "In python, signed integers are represented in 2's complement integer representation.\n",
    "\n",
    "In 16 bits, 1 is represented as 0000 0000 0000 0001. \n",
    "Inverted, we get 1111 1111 1111 1110, which is -2. \n",
    "\n",
    "Similarly, 15 is 0000 0000 0000 1111.\n",
    "Inverted, you get 1111 1111 1111 0000, which is -16."
   ]
  },
  {
   "cell_type": "markdown",
   "metadata": {},
   "source": [
    "##### Bitwise EX-OR, Exclusive OR: ^\n",
    "EX-OR(^) - results 0, if both are either zeros or ones,\n",
    "results one, if one is zero and other is one."
   ]
  },
  {
   "cell_type": "code",
   "execution_count": 77,
   "metadata": {},
   "outputs": [
    {
     "data": {
      "text/plain": [
       "'0b110'"
      ]
     },
     "execution_count": 77,
     "metadata": {},
     "output_type": "execute_result"
    }
   ],
   "source": [
    "x = 0b1010\n",
    "y = 0b1100\n",
    "bin(x ^ y)"
   ]
  },
  {
   "cell_type": "markdown",
   "metadata": {},
   "source": [
    "#### Bitwise  short-hand assignment operators\n",
    "```python\n",
    "<<=, >>=, &=, |=, ^=\n",
    "```\n",
    "e.g, x <<= n is equivalent of x = x << n"
   ]
  },
  {
   "cell_type": "markdown",
   "metadata": {},
   "source": [
    "#### Membership operators\n",
    "#### in , not in\n",
    "Checks the membership of the item/sub string in the container/string"
   ]
  },
  {
   "cell_type": "code",
   "execution_count": 78,
   "metadata": {},
   "outputs": [
    {
     "name": "stdout",
     "output_type": "stream",
     "text": [
      "True\n",
      "False\n",
      "True\n"
     ]
    }
   ],
   "source": [
    "s1 = 'Hello world!'\n",
    "s2 = 'Hell'\n",
    "print (s2 in s1)\n",
    "print (\"World\" in s1)\n",
    "print (\"xyz\" not in s1)"
   ]
  },
  {
   "cell_type": "code",
   "execution_count": 79,
   "metadata": {},
   "outputs": [
    {
     "name": "stdout",
     "output_type": "stream",
     "text": [
      "True\n"
     ]
    }
   ],
   "source": [
    "print (' ' in '+*$%^ @')"
   ]
  },
  {
   "cell_type": "markdown",
   "metadata": {},
   "source": [
    "#### Identity operators\n",
    "Identity operators checks the id() equality. Results to True, if both variables are having reference of same object else False.\n",
    "#### is, is not"
   ]
  },
  {
   "cell_type": "code",
   "execution_count": 80,
   "metadata": {},
   "outputs": [],
   "source": [
    "s1 = \"Hello\"\n",
    "s2 = \"Polo\"\n",
    "s3 = \"Hello\""
   ]
  },
  {
   "cell_type": "code",
   "execution_count": 81,
   "metadata": {},
   "outputs": [
    {
     "name": "stdout",
     "output_type": "stream",
     "text": [
      "140183577480920 140183577480528 140183577480920\n"
     ]
    }
   ],
   "source": [
    "print (id(s1), id(s2), id(s3))"
   ]
  },
  {
   "cell_type": "code",
   "execution_count": 82,
   "metadata": {},
   "outputs": [
    {
     "name": "stdout",
     "output_type": "stream",
     "text": [
      "True\n"
     ]
    }
   ],
   "source": [
    "print (s1 is s3)"
   ]
  },
  {
   "cell_type": "code",
   "execution_count": 83,
   "metadata": {},
   "outputs": [
    {
     "name": "stdout",
     "output_type": "stream",
     "text": [
      "False\n"
     ]
    }
   ],
   "source": [
    "print (s1 is s2)"
   ]
  },
  {
   "cell_type": "code",
   "execution_count": 84,
   "metadata": {},
   "outputs": [
    {
     "name": "stdout",
     "output_type": "stream",
     "text": [
      "140183578663624 140183578663480\n"
     ]
    }
   ],
   "source": [
    "x = 2.3\n",
    "y = 2.3\n",
    "print (id(x), id(y))"
   ]
  },
  {
   "cell_type": "code",
   "execution_count": 85,
   "metadata": {},
   "outputs": [
    {
     "name": "stdout",
     "output_type": "stream",
     "text": [
      "140183578663672 140183578663672\n",
      "True\n"
     ]
    }
   ],
   "source": [
    "x = 2.3\n",
    "y = x\n",
    "print (id(x), id(y))\n",
    "print(x is y)"
   ]
  },
  {
   "cell_type": "markdown",
   "metadata": {},
   "source": [
    "## Keywords in Python"
   ]
  },
  {
   "cell_type": "markdown",
   "metadata": {},
   "source": [
    "Every language has a set of keywords. In python, to know the list of all keywords, just import module 'keyword' and use the kwlist variable to see all the keywords."
   ]
  },
  {
   "cell_type": "code",
   "execution_count": 86,
   "metadata": {},
   "outputs": [
    {
     "name": "stdout",
     "output_type": "stream",
     "text": [
      "['False', 'None', 'True', 'and', 'as', 'assert', 'break', 'class', 'continue', 'def', 'del', 'elif', 'else', 'except', 'finally', 'for', 'from', 'global', 'if', 'import', 'in', 'is', 'lambda', 'nonlocal', 'not', 'or', 'pass', 'raise', 'return', 'try', 'while', 'with', 'yield']\n"
     ]
    }
   ],
   "source": [
    "import keyword\n",
    "print (keyword.kwlist)\n",
    "# help(\"keywords\")"
   ]
  },
  {
   "cell_type": "markdown",
   "metadata": {},
   "source": [
    "## Knowing python version"
   ]
  },
  {
   "cell_type": "code",
   "execution_count": 87,
   "metadata": {},
   "outputs": [
    {
     "name": "stdout",
     "output_type": "stream",
     "text": [
      "3.6.6 (default, Sep 12 2018, 18:26:19) \n",
      "[GCC 8.0.1 20180414 (experimental) [trunk revision 259383]]\n"
     ]
    }
   ],
   "source": [
    "import sys\n",
    "print(sys.version)"
   ]
  },
  {
   "cell_type": "markdown",
   "metadata": {},
   "source": [
    "### Exrecise Programs"
   ]
  },
  {
   "cell_type": "markdown",
   "metadata": {},
   "source": [
    "1. Write a program to calcualte compound interest when principle, rate and number of periods are given.\n",
    "2. Write a program to convert given seconds to hours and minutes\n",
    "3. Given coordinates (x1, y1), (x2, y2) find the distance between two points\n",
    "4. Read name, address, email and phone number of a person through keyboard and print the details."
   ]
  }
 ],
 "metadata": {
  "anaconda-cloud": {},
  "kernelspec": {
   "display_name": "Python 3",
   "language": "python",
   "name": "python3"
  },
  "language_info": {
   "codemirror_mode": {
    "name": "ipython",
    "version": 3
   },
   "file_extension": ".py",
   "mimetype": "text/x-python",
   "name": "python",
   "nbconvert_exporter": "python",
   "pygments_lexer": "ipython3",
   "version": "3.6.6"
  }
 },
 "nbformat": 4,
 "nbformat_minor": 1
}
