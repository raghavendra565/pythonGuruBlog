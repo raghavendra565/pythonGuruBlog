{
 "cells": [
  {
   "cell_type": "markdown",
   "metadata": {
    "nbpresent": {
     "id": "ccbacd49-9380-4325-af70-99a23277a3d3"
    }
   },
   "source": [
    "## MYSQL DB and Employee sample db Setup\n",
    "\n",
    "__-Narendra Allam__"
   ]
  },
  {
   "cell_type": "markdown",
   "metadata": {
    "nbpresent": {
     "id": "89fb8047-3769-40d9-84c5-24a3e37fd780"
    }
   },
   "source": [
    "#### 1) goto mysql site: download mysql-server\n",
    "http://dev.mysql.com/downloads/mysql/"
   ]
  },
  {
   "cell_type": "markdown",
   "metadata": {
    "nbpresent": {
     "id": "2e9b60e6-86f7-4c4b-928f-24033cf222d1"
    }
   },
   "source": [
    "#### 2) download and install workbench from\n",
    "http://dev.mysql.com/downloads/workbench/"
   ]
  },
  {
   "cell_type": "markdown",
   "metadata": {
    "nbpresent": {
     "id": "37dc9540-9bad-44cd-8451-a67bae9f7a71"
    }
   },
   "source": [
    "#### 3) install command line tools\n",
    "http://dev.mysql.com/downloads/utilities/\n",
    "\n",
    "#### for Linux (Ubuntu):\n",
    "\n",
    "    $ sudo apt-get install python-dev mysql-server  libmysqlclient-dev\n",
    "    \n",
    "    $ pip install mysql-python"
   ]
  },
  {
   "cell_type": "markdown",
   "metadata": {
    "nbpresent": {
     "id": "da31e9f5-61a1-437f-9776-bf60128be366"
    }
   },
   "source": [
    "#### 4) login to mysql:\n",
    "While installing mysql, copy and save the default password provided by the installer. Installer prompts and show you the default password. save it and alter root password as below\n",
    "\n",
    " > $ mysql -u root -p[root password]"
   ]
  },
  {
   "cell_type": "markdown",
   "metadata": {
    "nbpresent": {
     "id": "d2730094-191e-4762-99ef-f1c92c0ff3f9"
    }
   },
   "source": [
    "#### 5) Change the password\n",
    "> mysql> ALTER USER 'root'@'localhost' IDENTIFIED BY 'MyNewPass';\n"
   ]
  },
  {
   "cell_type": "markdown",
   "metadata": {
    "nbpresent": {
     "id": "219a2cd8-372e-49d6-a355-ffe84c60d138"
    }
   },
   "source": [
    "#### 6) Create a user\n",
    "> mysql> CREATE USER 'newuser'@'localhost' IDENTIFIED BY 'password';"
   ]
  },
  {
   "cell_type": "markdown",
   "metadata": {
    "nbpresent": {
     "id": "d92e7554-2142-4294-80dc-0ccef907e299"
    }
   },
   "source": [
    "#### 7) Give privilages\n",
    "> mysql> GRANT ALL PRIVILEGES ON   \\*.\\*  TO 'newuser'@'localhost'; <br/> \n",
    "> mysql> exit;"
   ]
  },
  {
   "cell_type": "markdown",
   "metadata": {
    "nbpresent": {
     "id": "4dc7930a-e39e-46ce-85f0-56666af20cb0"
    }
   },
   "source": [
    "SKIP to 13th step, if you dont want any sample database.\n",
    "\n",
    "After coming out of the mysql, Install employee database for practice<br/>\n",
    "#### 8) install sample employees database\n",
    "goto launch pad https://launchpad.net/test-db/ <br/>\n",
    "download  https://launchpad.net/test-db/employees-db-1/1.0.6/+download/employees_db-full-1.0.6.tar.bz2\n"
   ]
  },
  {
   "cell_type": "markdown",
   "metadata": {
    "nbpresent": {
     "id": "d152f3d4-9e16-43d4-adf8-635238fbe8fa"
    }
   },
   "source": [
    "#### 9) extract the above zip file"
   ]
  },
  {
   "cell_type": "markdown",
   "metadata": {
    "nbpresent": {
     "id": "d8d95c38-3b13-4a03-843a-95ac9566b81a"
    }
   },
   "source": [
    "#### 10) changes to be made to the employees.sql \n",
    "#### 11) go to this folder from command prompt or console or terminal\n",
    "\n",
    "> $cd employees_db/ \n",
    "\n",
    "Note: In the file 'employees.sql' change the word 'storage_engine' to \"default_storage_engine\", in two places."
   ]
  },
  {
   "cell_type": "markdown",
   "metadata": {
    "nbpresent": {
     "id": "a2413a67-a99d-4cd7-aa96-ad1cadbfbf6e"
    }
   },
   "source": [
    "\n",
    "#### 12) mysql -uroot -prootPass -t < employees.sql\n",
    "\n",
    "<pre>\n",
    "+-----------------------------+\n",
    "| INFO                        |\n",
    "+-----------------------------+\n",
    "| CREATING DATABASE STRUCTURE |\n",
    "+-----------------------------+\n",
    "+------------------------+\n",
    "| INFO                   |\n",
    "+------------------------+\n",
    "| storage engine: InnoDB |\n",
    "+------------------------+\n",
    "+---------------------+\n",
    "| INFO                |\n",
    "+---------------------+\n",
    "| LOADING departments |\n",
    "....\n",
    "</pre>\n",
    "#### 13) install mysql connector \n",
    "> $ conda install mysql-connector-python"
   ]
  }
 ],
 "metadata": {
  "anaconda-cloud": {},
  "kernelspec": {
   "display_name": "Python 3",
   "language": "python",
   "name": "python3"
  },
  "language_info": {
   "codemirror_mode": {
    "name": "ipython",
    "version": 3
   },
   "file_extension": ".py",
   "mimetype": "text/x-python",
   "name": "python",
   "nbconvert_exporter": "python",
   "pygments_lexer": "ipython3",
   "version": "3.6.6"
  },
  "nbpresent": {
   "slides": {},
   "themes": {}
  },
  "toc": {
   "base_numbering": 1,
   "nav_menu": {},
   "number_sections": false,
   "sideBar": false,
   "skip_h1_title": false,
   "title_cell": "Table of Contents",
   "title_sidebar": "Contents",
   "toc_cell": false,
   "toc_position": {},
   "toc_section_display": false,
   "toc_window_display": false
  }
 },
 "nbformat": 4,
 "nbformat_minor": 1
}
