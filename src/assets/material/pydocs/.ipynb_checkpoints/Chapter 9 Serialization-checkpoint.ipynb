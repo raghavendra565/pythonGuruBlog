{
 "cells": [
  {
   "cell_type": "markdown",
   "metadata": {},
   "source": [
    "### Python Programming\n",
    "##### by Narendra Allam\n",
    "\n",
    "Copyright 2018\n",
    "\n",
    "# Chapter 9\n",
    "\n",
    "## Serialization\n",
    "\n",
    "#### Topics Covering\n",
    "* Pickle Module\n",
    "* Pickling built-in data structures\n",
    "    * byte strings\n",
    "    * binary\n",
    "* xml construction and parsing\n",
    "* json construction and parsing"
   ]
  },
  {
   "cell_type": "markdown",
   "metadata": {},
   "source": [
    "__Serialization:__ Serialization is the process of transforming data from one container to to another. An employee info is stored in a database table as a record, the same is stored in a program as a tuple, structure variable or a class object. Same data can be transformed into some text representation like an xml file or json file. Data changes its container but not the structure. This process of transformation happens at various stages. The process of transforming from format A to format B is called __Serialization__ and B to A is called __Deserialization__. Different technologies have different names for this process.\n",
    "\n",
    "Encoding - Decoding<br>\n",
    "Marshalling - Unmarshalling<br>\n",
    "Pickling - Unpickling<br>\n",
    "\n",
    "all refer to the same process. But at present, most of the technical contexts serialization is being referred when conversion happens to and from XML and JSON formats.\n",
    "\n",
    "In this chapter we mainly discuss 3 formats.\n",
    "\n",
    "1. Pickling - python exclusive format\n",
    "2. xml\n",
    "3. json"
   ]
  },
  {
   "cell_type": "markdown",
   "metadata": {},
   "source": [
    "## Pickle\n",
    "\n",
    "The pickle module implements a fundamental, but powerful algorithm for serializing and de-serializing a Python object structure. “Pickling” is the process whereby a Python object hierarchy is converted into a byte stream, and “unpickling” is the inverse operation, whereby a byte stream is converted back into an object hierarchy.\n",
    "\n",
    "__converting a python data structure into pickle format__\n",
    "\n",
    "dumps() function converts python data structure into a binary string format, later we can transfer this to a file or network."
   ]
  },
  {
   "cell_type": "code",
   "execution_count": 1,
   "metadata": {},
   "outputs": [
    {
     "name": "stdout",
     "output_type": "stream",
     "text": [
      "{'id ': 12345, 'name': 'Obama', 'salary': 9000000.0, 'full_time': True}\n"
     ]
    }
   ],
   "source": [
    "import pickle\n",
    "d = {}\n",
    "d['id '] = 12345\n",
    "d['name'] = 'Obama'\n",
    "d['salary'] = 9000000.0\n",
    "d['full_time'] = True\n",
    "print(d)"
   ]
  },
  {
   "cell_type": "code",
   "execution_count": 2,
   "metadata": {},
   "outputs": [],
   "source": [
    "bs = pickle.dumps(d)"
   ]
  },
  {
   "cell_type": "code",
   "execution_count": 3,
   "metadata": {},
   "outputs": [
    {
     "name": "stdout",
     "output_type": "stream",
     "text": [
      "b'\\x80\\x03}q\\x00(X\\x03\\x00\\x00\\x00id q\\x01M90X\\x04\\x00\\x00\\x00nameq\\x02X\\x05\\x00\\x00\\x00Obamaq\\x03X\\x06\\x00\\x00\\x00salaryq\\x04GAa*\\x88\\x00\\x00\\x00\\x00X\\t\\x00\\x00\\x00full_timeq\\x05\\x88u.'\n"
     ]
    }
   ],
   "source": [
    "print(bs)"
   ]
  },
  {
   "cell_type": "markdown",
   "metadata": {},
   "source": [
    "Writing into a file in binary format('wb' mode)"
   ]
  },
  {
   "cell_type": "code",
   "execution_count": 4,
   "metadata": {},
   "outputs": [],
   "source": [
    "f = open('employee.pickle', 'wb')\n",
    "f.write(bs)\n",
    "f.close()"
   ]
  },
  {
   "cell_type": "markdown",
   "metadata": {},
   "source": [
    "__Checking the file content__"
   ]
  },
  {
   "cell_type": "code",
   "execution_count": 5,
   "metadata": {},
   "outputs": [
    {
     "name": "stdout",
     "output_type": "stream",
     "text": [
      "�\u0003}q\u0000(X\u0003\u0000\u0000\u0000id q\u0001M90X\u0004\u0000\u0000\u0000nameq\u0002X\u0005\u0000\u0000\u0000Obamaq\u0003X\u0006\u0000\u0000\u0000salaryq\u0004GAa*�\u0000\u0000\u0000\u0000X\t\u0000\u0000\u0000full_timeq\u0005�u."
     ]
    }
   ],
   "source": [
    "!cat employee.pickle # !type employee.pickle"
   ]
  },
  {
   "cell_type": "markdown",
   "metadata": {},
   "source": [
    "__Reading content from a pickle file__\n",
    "\n",
    "loads() function is used to load data back from a pickle file"
   ]
  },
  {
   "cell_type": "code",
   "execution_count": 6,
   "metadata": {},
   "outputs": [
    {
     "name": "stdout",
     "output_type": "stream",
     "text": [
      "{'id ': 12345, 'name': 'Obama', 'salary': 9000000.0, 'full_time': True}\n"
     ]
    }
   ],
   "source": [
    "f = open('employee.pickle', 'rb')\n",
    "bs = f.read()\n",
    "d1 = pickle.loads(bs)\n",
    "print(d1)\n",
    "f.close()"
   ]
  },
  {
   "cell_type": "markdown",
   "metadata": {
    "collapsed": true
   },
   "source": [
    "Creating an intermediary binary string is not required all the time. We may want to directly write into a file. Python provides a straight way to do this. load() and dump() functions."
   ]
  },
  {
   "cell_type": "code",
   "execution_count": 7,
   "metadata": {},
   "outputs": [],
   "source": [
    "import pickle\n",
    "\n",
    "d = {}\n",
    "d['id '] = 12345\n",
    "d['name'] = 'Obama'\n",
    "d['salary'] = 9000000.0\n",
    "d['full_time'] = True\n",
    "\n",
    "f = open('employee.pickle', 'wb')\n",
    "pickle.dump(d, f, pickle.HIGHEST_PROTOCOL)\n",
    "f.close()"
   ]
  },
  {
   "cell_type": "markdown",
   "metadata": {},
   "source": [
    "pickle.HIGHEST_PROTOCOL ensures the highest protocol to be used in pickling protocol. We can see the pure binary form of pickling."
   ]
  },
  {
   "cell_type": "code",
   "execution_count": 8,
   "metadata": {},
   "outputs": [
    {
     "name": "stdout",
     "output_type": "stream",
     "text": [
      "�\u0004�<\u0000\u0000\u0000\u0000\u0000\u0000\u0000}�(�\u0003id �M90�\u0004name��\u0005Obama��\u0006salary�GAa*�\u0000\u0000\u0000\u0000�\tfull_time��u."
     ]
    }
   ],
   "source": [
    "!cat employee.pickle"
   ]
  },
  {
   "cell_type": "markdown",
   "metadata": {},
   "source": [
    "__Using load to unpickle back to original data structure:__"
   ]
  },
  {
   "cell_type": "code",
   "execution_count": 9,
   "metadata": {},
   "outputs": [
    {
     "name": "stdout",
     "output_type": "stream",
     "text": [
      "{'id ': 12345, 'name': 'Obama', 'salary': 9000000.0, 'full_time': True}\n"
     ]
    }
   ],
   "source": [
    "d = {}\n",
    "with open('employee.pickle', 'rb') as f:\n",
    "    d = pickle.load(f)\n",
    "print (d)"
   ]
  },
  {
   "cell_type": "markdown",
   "metadata": {},
   "source": [
    "## Xml\n",
    "\n",
    "Xml is another popular format used mainly in web based data exchange scenarios. XML is an hierarchical data format, and the most natural way to represent it is with a tree. \n",
    "\n",
    "```python\n",
    "1. xml.etree.ElementTree\n",
    "2. ET.Element()\n",
    "```\n",
    "__ElementTree__ represents the whole XML document as a tree, and __Element__ represents a single node in this tree. Interactions with the whole document (reading and writing to/from files) are usually done on the ElementTree level. Interactions with a single XML element and its sub-elements are done on the Element level. __Element__ has four sections in it. xml.etree.ElementTree is the module that is required to import.\n",
    "\n",
    "```python\n",
    "import xml.etree.ElementTree as ET\n",
    "```\n",
    "\n",
    "A simple xml tag looks like below.\n",
    "\n",
    "```xml\n",
    "<TagName Attr1='val' Attr2='val2' ... > TextData </TagName> TailData\n",
    "```\n",
    "_TagName_ is referred as __'tag'__<br>\n",
    "_Attr1_ and _Attr2_ are attributes referred as __'attrib'__ which is a dictionary<br>\n",
    "_TextData_ is referred as __'text'__<br>\n",
    "_TailData_ is referred as __'tail'__<br>"
   ]
  },
  {
   "cell_type": "markdown",
   "metadata": {},
   "source": [
    "Sample xml file looks like below"
   ]
  },
  {
   "cell_type": "markdown",
   "metadata": {},
   "source": [
    "```xml\n",
    "<book>\n",
    "    <title type='short'> Programming C </title>\n",
    "    <author> Yeswanth Kanetkar </author>\n",
    "    <author> Venu Gopal </author>\n",
    "    <pages size='A5' color='white'> 230 </pages> 5\n",
    "    <id>\n",
    "        <isbn> 1234455 </isbn> \n",
    "        <isbn13> 11313133131 </isbn13>\n",
    "    </id>\n",
    "</book>\n",
    "```"
   ]
  },
  {
   "cell_type": "markdown",
   "metadata": {},
   "source": [
    "__ElementTree.Element__ is basic type from xml.etree.ElementTree which is required to construct a baisc XML tag."
   ]
  },
  {
   "cell_type": "code",
   "execution_count": 10,
   "metadata": {},
   "outputs": [],
   "source": [
    "import xml.etree.ElementTree as ET\n",
    "root = ET.Element('book')\n",
    "\n",
    "title = ET.Element('title', attrib={'type': 'short'})\n",
    "title.text = 'Programming C'\n",
    "\n",
    "\n",
    "author1 = ET.Element('author')\n",
    "author1.text = 'Yaswanth Kanetkar'\n",
    "\n",
    "author2 = ET.Element('author')\n",
    "author2.text = 'Venu Gopal'\n",
    "\n",
    "pages = ET.Element('pages', attrib={'size': 'A5', 'color': 'white'})\n",
    "pages.text = '230'\n",
    "pages.tail = '5'\n",
    "\n",
    "_id = ET.Element('id')\n",
    "\n",
    "isbn = ET.Element('isbn')\n",
    "isbn.text = '1234455'\n",
    "\n",
    "isbn13 = ET.Element('isbn13')\n",
    "isbn13.text = '11313133131'\n",
    "\n",
    "# _id.append(isbn)\n",
    "# _id.append(isbn13)\n",
    "_id.extend([isbn, isbn13])\n",
    "\n",
    "root.append(title)\n",
    "root.append(author1)\n",
    "root.append(author2)\n",
    "root.append(pages)\n",
    "root.append(_id)"
   ]
  },
  {
   "cell_type": "markdown",
   "metadata": {},
   "source": [
    "All sub tags in root are stored as a list, we can use list indexing to access them."
   ]
  },
  {
   "cell_type": "code",
   "execution_count": 11,
   "metadata": {},
   "outputs": [
    {
     "data": {
      "text/plain": [
       "'Programming C'"
      ]
     },
     "execution_count": 11,
     "metadata": {},
     "output_type": "execute_result"
    }
   ],
   "source": [
    "root[0].text"
   ]
  },
  {
   "cell_type": "code",
   "execution_count": 12,
   "metadata": {},
   "outputs": [
    {
     "data": {
      "text/plain": [
       "'11313133131'"
      ]
     },
     "execution_count": 12,
     "metadata": {},
     "output_type": "execute_result"
    }
   ],
   "source": [
    "root[4][1].text"
   ]
  },
  {
   "cell_type": "markdown",
   "metadata": {},
   "source": [
    "__Iterating through all tags__"
   ]
  },
  {
   "cell_type": "code",
   "execution_count": 13,
   "metadata": {},
   "outputs": [
    {
     "name": "stdout",
     "output_type": "stream",
     "text": [
      "title {'type': 'short'} Programming C None\n",
      "author {} Yaswanth Kanetkar None\n",
      "author {} Venu Gopal None\n",
      "pages {'size': 'A5', 'color': 'white'} 230 5\n",
      "id {} None None\n"
     ]
    }
   ],
   "source": [
    "for item in root:\n",
    "    print (item.tag, item.attrib, item.text, item.tail)"
   ]
  },
  {
   "cell_type": "markdown",
   "metadata": {},
   "source": [
    "__Converting xml tree to string__"
   ]
  },
  {
   "cell_type": "code",
   "execution_count": 14,
   "metadata": {},
   "outputs": [
    {
     "name": "stdout",
     "output_type": "stream",
     "text": [
      "<book><title type=\"short\">Programming C</title><author>Yaswanth Kanetkar</author><author>Venu Gopal</author><pages color=\"white\" size=\"A5\">230</pages>5<id><isbn>1234455</isbn><isbn13>11313133131</isbn13></id></book>\n"
     ]
    }
   ],
   "source": [
    "s = ET.tostring(root, encoding='unicode', method='xml')\n",
    "print(s)"
   ]
  },
  {
   "cell_type": "code",
   "execution_count": 15,
   "metadata": {},
   "outputs": [],
   "source": [
    "with open('book.xml', 'w') as f:\n",
    "    f.write(s)"
   ]
  },
  {
   "cell_type": "code",
   "execution_count": 16,
   "metadata": {},
   "outputs": [
    {
     "name": "stdout",
     "output_type": "stream",
     "text": [
      "<book><title type=\"short\">Programming C</title><author>Yaswanth Kanetkar</author><author>Venu Gopal</author><pages color=\"white\" size=\"A5\">230</pages>5<id><isbn>1234455</isbn><isbn13>11313133131</isbn13></id></book>"
     ]
    }
   ],
   "source": [
    "!cat book.xml"
   ]
  },
  {
   "cell_type": "markdown",
   "metadata": {},
   "source": [
    "#### Excercise : construct employee.xml tree\n",
    "\n",
    "```xml\n",
    "<?xml version='1.0' encoding='utf8'?>\n",
    "<employee>\n",
    "    <id>1234</id>\n",
    "    <name>John</name>\n",
    "    <sal>200000</sal>\n",
    "    <address>\n",
    "        <street>High school street</street>\n",
    "        <pin>500007</pin>\n",
    "    </address>\n",
    "</employee>\n",
    "```"
   ]
  },
  {
   "cell_type": "markdown",
   "metadata": {},
   "source": [
    "__Reading and parsing external xml files:__\n",
    "\n",
    "The below is the external file, country.xml. Let's see how we are going to parse this using  xml module\n",
    "\n",
    "__country.xml__\n",
    "```xml\n",
    "<?xml version=\"1.0\"?>\n",
    "<data>\n",
    "    <country name=\"Liechtenstein\" latittude =\"48\">\n",
    "        <rank>1</rank>\n",
    "        <year>2008</year>\n",
    "        <gdppc>141100</gdppc>\n",
    "        <neighbor name=\"Austria\" direction=\"E\"/>\n",
    "        <neighbor name=\"Switzerland\" direction=\"W\"/>\n",
    "    </country>\n",
    "    <country name=\"Singapore\">\n",
    "        <rank>4</rank>\n",
    "        <year>2011</year>\n",
    "        <gdppc>59900</gdppc>\n",
    "        <neighbor name=\"Malaysia\" direction=\"N\"/>\n",
    "    </country>\n",
    "    <country name=\"Panama\">\n",
    "        <rank>68</rank>\n",
    "        <year>2011</year>\n",
    "        <gdppc>13600</gdppc>\n",
    "        <neighbor name=\"Costa Rica\" direction=\"W\"/>\n",
    "        <neighbor name=\"Colombia\" direction=\"E\"/>\n",
    "    </country>\n",
    "</data>\n",
    "```"
   ]
  },
  {
   "cell_type": "markdown",
   "metadata": {},
   "source": [
    "__ET.parse() function:__"
   ]
  },
  {
   "cell_type": "code",
   "execution_count": 17,
   "metadata": {},
   "outputs": [
    {
     "name": "stdout",
     "output_type": "stream",
     "text": [
      "country {'name': 'Liechtenstein', 'latittude': '48'} \n",
      "         \n",
      "    \n",
      "     rank {} 1\n",
      "     year {} 2008\n",
      "     gdppc {} 141100\n",
      "     neighbor {'name': 'Austria', 'direction': 'E'} None\n",
      "     neighbor {'name': 'Switzerland', 'direction': 'W'} None\n",
      "country {'name': 'Singapore'} \n",
      "         \n",
      "    \n",
      "     rank {} 4\n",
      "     year {} 2011\n",
      "     gdppc {} 59900\n",
      "     neighbor {'name': 'Malaysia', 'direction': 'N'} None\n",
      "country {'name': 'Panama'} \n",
      "         \n",
      "\n",
      "     rank {} 68\n",
      "     year {} 2011\n",
      "     gdppc {} 13600\n",
      "     neighbor {'name': 'Costa Rica', 'direction': 'W'} None\n",
      "     neighbor {'name': 'Colombia', 'direction': 'E'} None\n"
     ]
    }
   ],
   "source": [
    "import xml.etree.ElementTree as ET\n",
    "\n",
    "tree = ET.parse('country.xml')\n",
    "root = tree.getroot()\n",
    "\n",
    "for country in root:\n",
    "    print (country.tag, country.attrib, country.text, country.tail)\n",
    "    for subtag in country:\n",
    "        print ('    ', subtag.tag, subtag.attrib, subtag.text)"
   ]
  },
  {
   "cell_type": "markdown",
   "metadata": {},
   "source": [
    "__ET.fromstring():__ Reading directly from a string"
   ]
  },
  {
   "cell_type": "code",
   "execution_count": 18,
   "metadata": {},
   "outputs": [],
   "source": [
    "country_data_as_string = '''\n",
    "<data>\n",
    "    <country name=\"Liechtenstein\" latittude =\"48\">\n",
    "        <rank>1</rank>\n",
    "        <year>2008</year>\n",
    "        <gdppc>141100</gdppc>\n",
    "        <neighbor name=\"Austria\" direction=\"E\"/>\n",
    "        <neighbor name=\"Switzerland\" direction=\"W\"/>\n",
    "    </country>\n",
    "    <country name=\"Singapore\">\n",
    "        <rank>4</rank>\n",
    "        <year>2011</year>\n",
    "        <gdppc>59900</gdppc>\n",
    "        <neighbor name=\"Malaysia\" direction=\"N\"/>\n",
    "    </country>\n",
    "    <country name=\"Panama\">\n",
    "        <rank>68</rank>\n",
    "        <year>2011</year>\n",
    "        <gdppc>13600</gdppc>\n",
    "        <neighbor name=\"Costa Rica\" direction=\"W\"/>\n",
    "        <neighbor name=\"Colombia\" direction=\"E\"/>\n",
    "    </country>\n",
    "</data>\n",
    "'''\n",
    "\n",
    "root = ET.fromstring(country_data_as_string)\n"
   ]
  },
  {
   "cell_type": "markdown",
   "metadata": {},
   "source": [
    "__Finding a tag:__"
   ]
  },
  {
   "cell_type": "code",
   "execution_count": 19,
   "metadata": {},
   "outputs": [
    {
     "name": "stdout",
     "output_type": "stream",
     "text": [
      "country {'name': 'Liechtenstein', 'latittude': '48'} \n",
      "        \n"
     ]
    }
   ],
   "source": [
    "cs = root.find('country') # Finds first occurance\n",
    "print (cs.tag, cs.attrib, cs.text)"
   ]
  },
  {
   "cell_type": "markdown",
   "metadata": {},
   "source": [
    "__Finding all tags:__\n",
    "\n",
    "This finds tags which are direct children of the current element"
   ]
  },
  {
   "cell_type": "code",
   "execution_count": 20,
   "metadata": {},
   "outputs": [
    {
     "name": "stdout",
     "output_type": "stream",
     "text": [
      "Liechtenstein 1\n",
      "Singapore 4\n",
      "Panama 68\n"
     ]
    }
   ],
   "source": [
    "for country in root.findall('country'):\n",
    "    rank = country.find('rank').text\n",
    "    name = country.get('name')\n",
    "    print (name, rank)"
   ]
  },
  {
   "cell_type": "markdown",
   "metadata": {},
   "source": [
    "__Finding Interested tags:__\n",
    "\n",
    "Iterates recursively over all the sub-tree below it"
   ]
  },
  {
   "cell_type": "code",
   "execution_count": 21,
   "metadata": {},
   "outputs": [
    {
     "name": "stdout",
     "output_type": "stream",
     "text": [
      "{'name': 'Austria', 'direction': 'E'}\n",
      "{'name': 'Switzerland', 'direction': 'W'}\n",
      "{'name': 'Malaysia', 'direction': 'N'}\n",
      "{'name': 'Costa Rica', 'direction': 'W'}\n",
      "{'name': 'Colombia', 'direction': 'E'}\n"
     ]
    }
   ],
   "source": [
    "for neighbor in root.iter('neighbor'):\n",
    "    print (neighbor.attrib)"
   ]
  },
  {
   "cell_type": "markdown",
   "metadata": {
    "collapsed": true
   },
   "source": [
    "__Updating a all tags:__\n",
    "\n",
    "Let's say, we want to add one to each country’s rank, and add an updated attribute to the rank element:"
   ]
  },
  {
   "cell_type": "code",
   "execution_count": 22,
   "metadata": {},
   "outputs": [],
   "source": [
    "for rank in root.iter('rank'):\n",
    "    new_rank = int(rank.text) + 1\n",
    "    rank.text = str(new_rank)\n",
    "    rank.set('updated', 'yes')"
   ]
  },
  {
   "cell_type": "code",
   "execution_count": 23,
   "metadata": {},
   "outputs": [
    {
     "name": "stdout",
     "output_type": "stream",
     "text": [
      "<data>\n",
      "    <country latittude=\"48\" name=\"Liechtenstein\">\n",
      "        <rank updated=\"yes\">2</rank>\n",
      "        <year>2008</year>\n",
      "        <gdppc>141100</gdppc>\n",
      "        <neighbor direction=\"E\" name=\"Austria\" />\n",
      "        <neighbor direction=\"W\" name=\"Switzerland\" />\n",
      "    </country>\n",
      "    <country name=\"Singapore\">\n",
      "        <rank updated=\"yes\">5</rank>\n",
      "        <year>2011</year>\n",
      "        <gdppc>59900</gdppc>\n",
      "        <neighbor direction=\"N\" name=\"Malaysia\" />\n",
      "    </country>\n",
      "    <country name=\"Panama\">\n",
      "        <rank updated=\"yes\">69</rank>\n",
      "        <year>2011</year>\n",
      "        <gdppc>13600</gdppc>\n",
      "        <neighbor direction=\"W\" name=\"Costa Rica\" />\n",
      "        <neighbor direction=\"E\" name=\"Colombia\" />\n",
      "    </country>\n",
      "</data>\n"
     ]
    }
   ],
   "source": [
    "print(ET.tostring(root,  encoding='unicode', method='xml'))"
   ]
  },
  {
   "cell_type": "markdown",
   "metadata": {},
   "source": [
    "__Updating single tag:__\n",
    "\n",
    "Updating singapore tag"
   ]
  },
  {
   "cell_type": "code",
   "execution_count": 24,
   "metadata": {},
   "outputs": [
    {
     "name": "stdout",
     "output_type": "stream",
     "text": [
      "<data>\n",
      "    <country latittude=\"48\" name=\"Liechtenstein\">\n",
      "        <rank updated=\"yes\">2</rank>\n",
      "        <year>2008</year>\n",
      "        <gdppc>141100</gdppc>\n",
      "        <neighbor direction=\"E\" name=\"Austria\" />\n",
      "        <neighbor direction=\"W\" name=\"Switzerland\" />\n",
      "    </country>\n",
      "    <country name=\"Singapore\" updated=\"Yes\">\n",
      "        <rank updated=\"yes\">5</rank>\n",
      "        <year>2011</year>\n",
      "        <gdppc>59900</gdppc>\n",
      "        <neighbor direction=\"N\" name=\"Malaysia\" />\n",
      "    </country>\n",
      "    <country name=\"Panama\">\n",
      "        <rank updated=\"yes\">69</rank>\n",
      "        <year>2011</year>\n",
      "        <gdppc>13600</gdppc>\n",
      "        <neighbor direction=\"W\" name=\"Costa Rica\" />\n",
      "        <neighbor direction=\"E\" name=\"Colombia\" />\n",
      "    </country>\n",
      "</data>\n"
     ]
    }
   ],
   "source": [
    "for country in root.iter('country'):\n",
    "    if country.get('name') == 'Singapore':\n",
    "        country.set('updated', 'Yes')\n",
    "        country.find('rank').text = '5'\n",
    "        break\n",
    "\n",
    "print (ET.tostring(root, encoding='unicode', method='xml'))"
   ]
  },
  {
   "cell_type": "markdown",
   "metadata": {},
   "source": [
    "__Removing a tag:__"
   ]
  },
  {
   "cell_type": "code",
   "execution_count": 25,
   "metadata": {},
   "outputs": [
    {
     "name": "stdout",
     "output_type": "stream",
     "text": [
      "<data>\n",
      "    <country latittude=\"48\" name=\"Liechtenstein\">\n",
      "        <rank updated=\"yes\">2</rank>\n",
      "        <year>2008</year>\n",
      "        <gdppc>141100</gdppc>\n",
      "        <neighbor direction=\"E\" name=\"Austria\" />\n",
      "        <neighbor direction=\"W\" name=\"Switzerland\" />\n",
      "    </country>\n",
      "    <country name=\"Panama\">\n",
      "        <rank updated=\"yes\">69</rank>\n",
      "        <year>2011</year>\n",
      "        <gdppc>13600</gdppc>\n",
      "        <neighbor direction=\"W\" name=\"Costa Rica\" />\n",
      "        <neighbor direction=\"E\" name=\"Colombia\" />\n",
      "    </country>\n",
      "</data>\n"
     ]
    }
   ],
   "source": [
    "for country in root.iter('country'):\n",
    "    if country.get('name') == 'Singapore':\n",
    "        root.remove(country)\n",
    "        break\n",
    "        \n",
    "print (ET.tostring(root, encoding='unicode', method='xml'))"
   ]
  },
  {
   "cell_type": "markdown",
   "metadata": {},
   "source": [
    "# JSON\n",
    "\n",
    "JSON (JavaScript Object Notation) is a lightweight data-interchange format. It is easy for humans to read and write. It is based on a subset of the JavaScript Programming Language. JSON is a text format that is completely language independent. Python makes it simple to work with JSON files. The module used for this purpose is the json module. \n",
    "\n",
    "JSON can only store the following objects:\n",
    "\n",
    "* character strings\n",
    "* numbers\n",
    "* booleans (True/False)\n",
    "* None\n",
    "* lists\n",
    "* dictionaries with character string keys\n",
    "\n",
    "Every object that’s not one of these must be converted.\n",
    "\n",
    "The following table maps from the names of Java script types to their analogus types in Python:\n",
    "\n",
    "\n",
    "<table>\n",
    "<colgroup>\n",
    "<col width=\"48%\" />\n",
    "<col width=\"52%\" />\n",
    "</colgroup>\n",
    "<tbody valign=\"top\">\n",
    "<tr class=\"row-odd\"><td><b>JavaScript</b></td>\n",
    "<td><b>Python</b></td>\n",
    "</tr>\n",
    "<tr class=\"row-even\"><td>string</td>\n",
    "<td>string\n",
    "\n",
    "</tr>\n",
    "<tr class=\"row-odd\"><td>number</td>\n",
    "<td>int/float\n",
    "\n",
    "</tr>\n",
    "<tr class=\"row-even\"><td>object</td>\n",
    "<td>dict</td>\n",
    "</tr>\n",
    "<tr class=\"row-odd\"><td>array</td>\n",
    "<td>list</td>\n",
    "</tr>\n",
    "<tr class=\"row-even\"><td>boolean</td>\n",
    "<td>bool</td>\n",
    "</tr>\n",
    "<tr class=\"row-odd\"><td>null</td>\n",
    "<td>None</td>\n",
    "</tr>\n",
    "</tbody>\n",
    "</table>\n",
    "\n",
    "\n",
    "__Serializing data to json file:__"
   ]
  },
  {
   "cell_type": "code",
   "execution_count": 26,
   "metadata": {},
   "outputs": [],
   "source": [
    "import json\n",
    "\n",
    "book = {'Title': 'Let Us C',\n",
    "        'Type': 'short',\n",
    "        'Authors' : ['Yaswanth Kanetkar', 'sahani'],\n",
    "        'Pages': 230,\n",
    "        'Price': 560.0,\n",
    "        'Published': True,\n",
    "        'solution_booklet': None}\n",
    "\n",
    "s = json.dumps(book)\n",
    "with open('book.json', 'w') as f:\n",
    "    f.write(s)"
   ]
  },
  {
   "cell_type": "code",
   "execution_count": 27,
   "metadata": {},
   "outputs": [
    {
     "data": {
      "text/plain": [
       "'{\"Title\": \"Let Us C\", \"Type\": \"short\", \"Authors\": [\"Yaswanth Kanetkar\", \"sahani\"], \"Pages\": 230, \"Price\": 560.0, \"Published\": true, \"solution_booklet\": null}'"
      ]
     },
     "execution_count": 27,
     "metadata": {},
     "output_type": "execute_result"
    }
   ],
   "source": [
    "s"
   ]
  },
  {
   "cell_type": "code",
   "execution_count": 28,
   "metadata": {},
   "outputs": [
    {
     "name": "stdout",
     "output_type": "stream",
     "text": [
      "{\"Title\": \"Let Us C\", \"Type\": \"short\", \"Authors\": [\"Yaswanth Kanetkar\", \"sahani\"], \"Pages\": 230, \"Price\": 560.0, \"Published\": true, \"solution_booklet\": null}"
     ]
    }
   ],
   "source": [
    "!cat book.json"
   ]
  },
  {
   "cell_type": "markdown",
   "metadata": {},
   "source": [
    "__Deserializing data from json file:__"
   ]
  },
  {
   "cell_type": "code",
   "execution_count": 29,
   "metadata": {},
   "outputs": [
    {
     "name": "stdout",
     "output_type": "stream",
     "text": [
      "{'Title': 'Let Us C', 'Type': 'short', 'Authors': ['Yaswanth Kanetkar', 'sahani'], 'Pages': 230, 'Price': 560.0, 'Published': True, 'solution_booklet': None}\n"
     ]
    }
   ],
   "source": [
    "import json\n",
    "b = {}\n",
    "with open('book.json') as f:\n",
    "    s = f.read()\n",
    "    b = json.loads(s)\n",
    "print (b)"
   ]
  },
  {
   "cell_type": "markdown",
   "metadata": {},
   "source": [
    "__Directly dumping into json file, without intermediatery string format:__"
   ]
  },
  {
   "cell_type": "code",
   "execution_count": 30,
   "metadata": {},
   "outputs": [],
   "source": [
    "import json\n",
    "book = [\n",
    "        { 'title': 'Let Us C',\n",
    "         'type': 'short',\n",
    "         'Authors' : {'author1' : 'Yaswanth Kanetkar',\n",
    "                      'author2' : 'sahani'},\n",
    "         'publisher': ('bpb', 'wrox', 'pearson', 'appress'),\n",
    "         'Pages': 230,\n",
    "         'price': 560.0,\n",
    "         'published': True,\n",
    "         'solution_booklet': None},\n",
    "        { 'title': 'Python Programming',\n",
    "         'type': 'long',\n",
    "         'Authors' : {'author1' : 'Narendra Allam'},\n",
    "         'publisher': ['bpb', 'wrox', 'pearson', 'appress'],\n",
    "         'Pages': 650,\n",
    "         'price': 750.0,\n",
    "         'published': False,\n",
    "         'solution_booklet': None}\n",
    "       ]\n",
    "f = open('books.json', 'w')\n",
    "json.dump(book, f)\n",
    "f.close()"
   ]
  },
  {
   "cell_type": "markdown",
   "metadata": {},
   "source": [
    "__Note:__ 'sets' are not JSON serializable. 'dictioanaries', 'tuples' and 'lists' are JSON serializable."
   ]
  },
  {
   "cell_type": "code",
   "execution_count": 31,
   "metadata": {},
   "outputs": [
    {
     "name": "stdout",
     "output_type": "stream",
     "text": [
      "[{\"title\": \"Let Us C\", \"type\": \"short\", \"Authors\": {\"author1\": \"Yaswanth Kanetkar\", \"author2\": \"sahani\"}, \"publisher\": [\"bpb\", \"wrox\", \"pearson\", \"appress\"], \"Pages\": 230, \"price\": 560.0, \"published\": true, \"solution_booklet\": null}, {\"title\": \"Python Programming\", \"type\": \"long\", \"Authors\": {\"author1\": \"Narendra Allam\"}, \"publisher\": [\"bpb\", \"wrox\", \"pearson\", \"appress\"], \"Pages\": 650, \"price\": 750.0, \"published\": false, \"solution_booklet\": null}]"
     ]
    }
   ],
   "source": [
    "!cat books.json"
   ]
  },
  {
   "cell_type": "markdown",
   "metadata": {},
   "source": [
    "__Loading from json file__"
   ]
  },
  {
   "cell_type": "code",
   "execution_count": 32,
   "metadata": {},
   "outputs": [
    {
     "name": "stdout",
     "output_type": "stream",
     "text": [
      "[{'title': 'Let Us C', 'type': 'short', 'Authors': {'author1': 'Yaswanth Kanetkar', 'author2': 'sahani'}, 'publisher': ['bpb', 'wrox', 'pearson', 'appress'], 'Pages': 230, 'price': 560.0, 'published': True, 'solution_booklet': None}, {'title': 'Python Programming', 'type': 'long', 'Authors': {'author1': 'Narendra Allam'}, 'publisher': ['bpb', 'wrox', 'pearson', 'appress'], 'Pages': 650, 'price': 750.0, 'published': False, 'solution_booklet': None}]\n"
     ]
    }
   ],
   "source": [
    "import json\n",
    "f = open('books.json', 'r')\n",
    "d = json.load(f)\n",
    "print (d)"
   ]
  }
 ],
 "metadata": {
  "anaconda-cloud": {},
  "kernelspec": {
   "display_name": "Python 3",
   "language": "python",
   "name": "python3"
  },
  "language_info": {
   "codemirror_mode": {
    "name": "ipython",
    "version": 3
   },
   "file_extension": ".py",
   "mimetype": "text/x-python",
   "name": "python",
   "nbconvert_exporter": "python",
   "pygments_lexer": "ipython3",
   "version": "3.6.7"
  }
 },
 "nbformat": 4,
 "nbformat_minor": 1
}
