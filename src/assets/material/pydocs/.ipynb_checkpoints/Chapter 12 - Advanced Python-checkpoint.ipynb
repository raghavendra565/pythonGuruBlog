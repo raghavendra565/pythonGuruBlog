{
 "cells": [
  {
   "cell_type": "markdown",
   "metadata": {},
   "source": [
    "### Python Programming\n",
    "#### by Narendra Allam\n",
    "# Chapter 12\n",
    "## Object Orientation\n",
    "\n",
    "#### Topics Covering\n",
    "\n",
    "* Class\n",
    "* Abstraction\n",
    "* Encapsulation\n",
    "     * Data hiding\n",
    "     * Data binding\n",
    "* Accessing data members and member functions explicitely\n",
    "* Passing paramets to __init__()\n",
    "* Implementing __repr__(),__eval__()\n",
    "* Adding a property at run-time\n",
    "* Inheritence\n",
    "     * delegating functionality to parent constructor,init\n",
    "     * Diamond problem\n",
    "     * MRO\n",
    "* Using abc module\n",
    "* Private Memebrs\n",
    "* Creating inline objects, classes, types\n",
    "* Static variables, Static Methods and Class Methods\n",
    "* Funcion Objects (Functor), Callable objects\n",
    "* Decorator and Context manager\n",
    "* polymorphism\n",
    "* Function Overloading\n",
    "* Operator Overloading\n",
    "* Sorting Objects"
   ]
  },
  {
   "cell_type": "markdown",
   "metadata": {},
   "source": [
    "### A long time ago when there was no object orientation\n",
    "\n",
    "   With the python concepts, we learned so far (including files and modules), no doubt! we can handle a complete python project. Lets immagine our software development career,...\n",
    "   \n",
    "   \n",
    "   Mr.Alex, who owns a bank ABX, is our client now. And good news is that, we were chosen to develop the software.\n",
    "Initially he has given two requirements. Each requirement is a banking functionality. We are going to implement them now.\n",
    "\n",
    "1. Personal Banking\n",
    "2. Personal Loans\n",
    "\n",
    "We spent some time and completed the application, and endedup with 100 functions and 40 global varaibles(may contains lists, dictionaries).\n",
    "\n",
    "We wrote all the code in a single file named 'banking_sytem.py' using functions. This is procedural style of programming.\n",
    "\n",
    "There are few limitations to procedural style. \n",
    "\n",
    "##### 1. Spaghetti code:\n",
    "\n",
    "Spaghetti code is source code that has a complex and tangled control structure, especially one using many module imports, exceptions, threads, or other \"unstructured\" branching constructs. It is named such because program flow is conceptually like a bowl of spaghetti, i.e. twisted and tangled. Spaghetti code can be caused by several factors, such as continuous modifications by several people with different programming styles over a long project life cycle.\n",
    "\n",
    "Structured programming greatly decreases the incidence of spaghetti code.\n",
    "\n",
    "Structured programming is a programming style aimed at improving the clarity, quality, and development time of a computer program by making extensive use of subroutines, block structures, for and while loops—in contrast to using simple tests and jumps such as the go to statement, which could lead to \"spaghetti code\" that is difficult to follow and maintain.\n",
    "\n",
    "##### 2. Accidental changes.\n",
    "\n",
    "It is very hard to maintain a single file for entire project. Because coding is done in collaborative environments. Multiple developers whould be implementing multiple functionalities. There will be confilicts if two people are simultaniously accessing same function and making changes. Developers should sit together and spend hours to resolve the conflicts. OK, agreed! Lets modularize the code to prevent conflicts and merges. But what is the criteria for speration?... functionality?... yes! \n",
    "\n",
    "Cool, lets try that,\n",
    "\n",
    "1. banking_sytem.py which cintains all personal banking related functions and variables (80 funs and 30 vars)\n",
    "2. personal_lans.py which contains all personal loans related functions and variables(20 funs and 10 vars)\n",
    "\n",
    "Still we cannot prevent accessing 'Personal Loans' data from 'Personal Banking'. We need stricter boundaries to prevent unwanted changes happening. \n",
    "\n",
    "##### 3. Replication for Reusability\n",
    "\n",
    "After few months Mr.Alex decided and came with an aggressive marketing strategy and we came to know that he was going to start 100 branches of ABX bank, exclusively for personal loans.\n",
    "\n",
    "We are expected to make changes to scale 'Personal Loans' functionality. Now we are going to maintain 100 instances of personal loans functionality. Each instance maintains its own set of variables but funtions are same.\n",
    "How do we achieve this ?\n",
    "\n",
    "Do we have to create 100 'personal_loans.py' files? \n",
    "or just one file with 100 sets of personal loan varaibles?\n",
    "In future, he wants to add few more functionalites like car loans, home loans to the exisiting software system can we make reuse exisiting code ? a lot of questions in mind!\n",
    "\n",
    "We started with \n",
    "\n",
    "100 funcs and 40 vars (funcs - functions, vars - varaibles, containers)\n",
    "\n",
    "we seperated them as,\n",
    "\n",
    "80 funcs + 30 vars - Personal banking\n",
    "20 funcs + 10 vars - Personal loans\n",
    "\n",
    "now, we want 100 instances of personal loans\n",
    "\n",
    "20 funcs + 100 * (10 vars for each branch)\n",
    "Note: Functions are common, only required is, a set of 10 vars for each branch.\n",
    "Projects become complex as new functionalities are getting added to the system day by day.\n",
    "\n",
    "This is where object orientation helps us,\n",
    "\n",
    "All the above issues can be solved with object orientation.\n",
    "\n",
    "1. Spaghetti code - Object oriented programming is structured programming, very less scope for tangled code\n",
    "2. Preventing accidental changes - Encapsulation decides what to hide and what to expose \n",
    "3. Replication for reusability - Class is a type, we can create multiple units of same functionality by instanmtiation\n",
    "\n",
    "\n",
    "#### Thinking in object orientation:\n",
    "\n",
    "1. We found a relation between funcs and vars for Personal Loan functionality and we modularized them, which is called - __data binding__\n",
    "2. lets bind these 20 funcs and 10 vars and isolate(hide) inside a container - __data hiding__\n",
    "3. The container is - __class__\n",
    "4. We should not restrict everything inside the container, as funcs are social, they should interact with external funcs. Lets expose few funcs to interact with external functionalities - __abstraction__\n",
    "5. Whe should have a protocol to control data hiding and abstraction. We should care fully think about, what needs to be hidden? what needs to be exposed to the external functionalities? and draw a boundary in between - __encapulation__\n",
    "6. How do we resuse existing code? - __inheritance__\n",
    "7. How do we incorporate new changes in a complex project? - __overriding__, __overloading__ which is __polymorphism__\n",
    "\n",
    "### Object orientation is all about - advance planning of project design by anticipating future changes\n",
    "\n",
    "#### Class\n",
    "* Class is a model of any real-world entity, process or an idea.\n",
    "* A class is an extensible program-code-template for reusablity.\n",
    "* Class contains data (member variables) and actions(member functions or methods)\n",
    "* Class is a blue-print of structure and behaviour, more importantly a class is a 'type', so that, we can create mutiple copies (instances) of the same structure and behaviour.\n",
    "* class instances or called objects.\n",
    "* object is the physical existance of a class\n",
    "\n",
    "Syntax:\n",
    "```python\n",
    "class ClassName(object):\n",
    "    definition\n",
    "    ----------\n",
    "    ----------\n",
    "```\n"
   ]
  },
  {
   "cell_type": "markdown",
   "metadata": {
    "collapsed": true
   },
   "source": [
    "Upgrading Personal Loans sytem with Object Orientation ...\n",
    "\n",
    "```python\n",
    "# personal_loans.py\n",
    "# -------------------\n",
    "\n",
    "class PersonalLoans(object):\n",
    "        # HIDDEN DATA\n",
    "        def __init__(self):\n",
    "            self.__cusomers = []\n",
    "            self.__loans = []\n",
    "        ...\n",
    "\n",
    "        # HIDDEN FUNCTIONS\n",
    "        def __utility1(self):\n",
    "            ...\n",
    "        def __utility1(self):\n",
    "            ...\n",
    "\n",
    "        # PUBLIC FUNCTIONS/INTERFACES\n",
    "        def get_customer_details():\n",
    "            ...\n",
    "        def get_loan_details():\n",
    "            ...\n",
    "             \n",
    "```\n",
    "\n",
    "#### Abstraction:\n",
    "Hiding Complex details, providing simple interface.<br>\n",
    "Abstractions allow us to think of complex things in a simpler way.<br>\n",
    "e.g., a Car is an abstraction of details such as a Chassis, Motor, Wheels, etc.<br>\n",
    "\n",
    "#### Encapsulation:\n",
    "Encapsulation is how we decide the level of detail of the elements<br>\n",
    "comprising our abstractions. Good encapsulation applies<br>\n",
    "information hiding, to enforce limits of details.<br>\n",
    "\n",
    "##### Data hiding:\n",
    "> Limiting access to details of an implementation(Data or functions).\n",
    "\n",
    "##### Data binding:\n",
    "> Establishing a connection between data and the functions which depend and<br>\n",
    "makes use of that data is called Data binding.<br>\n",
    ">Note: In functional style of programming there is no relation between data <br>\n",
    "and functions, becoz funtions don't depend on data.<br>\n",
    "\n",
    "#### Inheritance:\n",
    "It is a technique of reusing code, by extending or modifying the existing code.<br>\n",
    "\n",
    "#### polymorphism:\n",
    "Single interface multiple functionalities.<br>\n",
    "(or)\n",
    "polymorphism is the ability of doing different things by using the same name.<br>\n",
    "(or)\n",
    "Plymorphism is conditional and contextual execution of a functionality."
   ]
  },
  {
   "cell_type": "markdown",
   "metadata": {},
   "source": [
    "__Modeling an employee__"
   ]
  },
  {
   "cell_type": "code",
   "execution_count": null,
   "metadata": {
    "collapsed": true
   },
   "outputs": [],
   "source": [
    "class Employee(object):\n",
    "    def __init__(self):\n",
    "        self.num = 0\n",
    "        self.name = ''\n",
    "        self.salary = 0.0\n",
    "        \n",
    "    def getSalary(self):\n",
    "        return self.salary\n",
    "    \n",
    "    def getName(self):\n",
    "        return self.name\n",
    "    \n",
    "    def printEmployee(self):\n",
    "        print 'num=', self.num, ' name=', self.name, ' sal=', self.salary"
   ]
  },
  {
   "cell_type": "markdown",
   "metadata": {},
   "source": [
    "Creating an object for class __Employee__\n",
    "\n",
    "Note: Object creation is also called __instantiation__"
   ]
  },
  {
   "cell_type": "code",
   "execution_count": null,
   "metadata": {
    "collapsed": true
   },
   "outputs": [],
   "source": [
    "e1 = Employee() # Employee.__new__().__init__()"
   ]
  },
  {
   "cell_type": "code",
   "execution_count": null,
   "metadata": {
    "collapsed": true
   },
   "outputs": [],
   "source": [
    "# fig required"
   ]
  },
  {
   "cell_type": "code",
   "execution_count": null,
   "metadata": {
    "collapsed": true
   },
   "outputs": [],
   "source": [
    "e2 = Employee()"
   ]
  },
  {
   "cell_type": "markdown",
   "metadata": {},
   "source": [
    "here e1 and e2 are objects or instances"
   ]
  },
  {
   "cell_type": "markdown",
   "metadata": {},
   "source": [
    "##### _init__()\n",
    "\\__init\\__() is a builtin function for a class, which is called for each object at the time of object creation.\n",
    "\\__init\\__() is used for iniitializing an object with data mebers"
   ]
  },
  {
   "cell_type": "code",
   "execution_count": null,
   "metadata": {
    "collapsed": true
   },
   "outputs": [],
   "source": [
    "print e1.num, e1.name, e1.salary"
   ]
  },
  {
   "cell_type": "markdown",
   "metadata": {},
   "source": [
    "__Accessing data members and member functions explicitely__"
   ]
  },
  {
   "cell_type": "code",
   "execution_count": null,
   "metadata": {
    "collapsed": true
   },
   "outputs": [],
   "source": [
    "e1.num = 1234\n",
    "e1.name = 'John'\n",
    "e1.salary = 23000\n",
    "\n",
    "print e1.num, e1.name, e1.salary"
   ]
  },
  {
   "cell_type": "code",
   "execution_count": null,
   "metadata": {
    "collapsed": true
   },
   "outputs": [],
   "source": [
    "e1.printEmployee()"
   ]
  },
  {
   "cell_type": "code",
   "execution_count": null,
   "metadata": {
    "collapsed": true
   },
   "outputs": [],
   "source": [
    "e1.getSalary()"
   ]
  },
  {
   "cell_type": "markdown",
   "metadata": {},
   "source": [
    "#### Passing paramets to \\__init\\__()"
   ]
  },
  {
   "cell_type": "code",
   "execution_count": 2,
   "metadata": {},
   "outputs": [
    {
     "name": "stdout",
     "output_type": "stream",
     "text": [
      "EmpId: 1234, EmpName: John, EmpSalary: 23600.0\n",
      "EmpId: 1235, EmpName: Samanta, EmpSalary: 45000.0\n"
     ]
    }
   ],
   "source": [
    "class Employee(object):\n",
    "    def __init__(self, _num=0, _name='', _salary=0.0):\n",
    "        self.num = _num\n",
    "        self.name = _name\n",
    "        self.salary = _salary\n",
    "        \n",
    "    def print_data(self):\n",
    "        print 'EmpId: {}, EmpName: {}, EmpSalary: {}'.format(self.num,\n",
    "                                                             self.name,\n",
    "                                                             self.salary)\n",
    "    def calculate_tax(self):\n",
    "        print 'Processing tax for :....'\n",
    "        self.print_data()\n",
    "        slab = (self.salary * 12) - 300000\n",
    "        tax = 0\n",
    "        if slab > 0:\n",
    "            tax = slab * 0.1\n",
    "        print \"tax:\", tax\n",
    "        \n",
    "        \n",
    "e1 = Employee(1234, 'John', 23600.0) # Employee.__new__().__init__(1234, 'John', 23500)\n",
    "e2 = Employee(1235, 'Samanta', 45000.0) # e2.__init__(1235, 'Samanta', 45000.0)\n",
    "\n",
    "e1.print_data()\n",
    "e2.print_data()"
   ]
  },
  {
   "cell_type": "code",
   "execution_count": 3,
   "metadata": {},
   "outputs": [
    {
     "name": "stdout",
     "output_type": "stream",
     "text": [
      "Processing tax for :....\n",
      "EmpId: 1234, EmpName: John, EmpSalary: 23600.0\n",
      "tax: 0\n"
     ]
    }
   ],
   "source": [
    "e1.calculate_tax()"
   ]
  },
  {
   "cell_type": "code",
   "execution_count": 4,
   "metadata": {},
   "outputs": [
    {
     "name": "stdout",
     "output_type": "stream",
     "text": [
      "Processing tax for :....\n",
      "EmpId: 1235, EmpName: Samanta, EmpSalary: 45000.0\n",
      "tax: 24000.0\n"
     ]
    }
   ],
   "source": [
    "e2.calculate_tax()"
   ]
  },
  {
   "cell_type": "markdown",
   "metadata": {},
   "source": [
    "__** In python everything is an object. Each object is technically a dictionary.__"
   ]
  },
  {
   "cell_type": "code",
   "execution_count": 5,
   "metadata": {},
   "outputs": [
    {
     "data": {
      "text/plain": [
       "{'name': 'John', 'num': 1234, 'salary': 23600.0}"
      ]
     },
     "execution_count": 5,
     "metadata": {},
     "output_type": "execute_result"
    }
   ],
   "source": [
    "e1.__dict__"
   ]
  },
  {
   "cell_type": "code",
   "execution_count": 8,
   "metadata": {},
   "outputs": [
    {
     "data": {
      "text/plain": [
       "dict_proxy({'__dict__': <attribute '__dict__' of 'Employee' objects>,\n",
       "            '__doc__': None,\n",
       "            '__init__': <function __main__.__init__>,\n",
       "            '__module__': '__main__',\n",
       "            '__weakref__': <attribute '__weakref__' of 'Employee' objects>,\n",
       "            'calculate_tax': <function __main__.calculate_tax>,\n",
       "            'print_data': <function __main__.print_data>})"
      ]
     },
     "execution_count": 8,
     "metadata": {},
     "output_type": "execute_result"
    }
   ],
   "source": [
    "Employee.__dict__"
   ]
  },
  {
   "cell_type": "markdown",
   "metadata": {},
   "source": [
    "#### Printing objects"
   ]
  },
  {
   "cell_type": "code",
   "execution_count": 13,
   "metadata": {},
   "outputs": [
    {
     "name": "stdout",
     "output_type": "stream",
     "text": [
      "<__main__.Employee object at 0x106f9b810>\n"
     ]
    }
   ],
   "source": [
    "print e1 # print str(e1) ---> e1.__str__()"
   ]
  },
  {
   "cell_type": "code",
   "execution_count": 14,
   "metadata": {},
   "outputs": [
    {
     "data": {
      "text/plain": [
       "<__main__.Employee at 0x106f9b810>"
      ]
     },
     "execution_count": 14,
     "metadata": {},
     "output_type": "execute_result"
    }
   ],
   "source": [
    "e1"
   ]
  },
  {
   "cell_type": "code",
   "execution_count": 25,
   "metadata": {
    "collapsed": true
   },
   "outputs": [],
   "source": [
    "class Employee(object):\n",
    "\n",
    "    def __init__(self, _num, _name, _salary):\n",
    "        self.empNum = _num\n",
    "        self.empName = _name\n",
    "        self.empSalary = _salary\n",
    "        \n",
    "    def printData(self):\n",
    "        print 'EmpId: {}, EmpName: {}, EmpSalary: {}'.format(self.empNum,\n",
    "                                                             self.empName,\n",
    "                                                             self.empSalary)\n",
    "    def calculateTax(self):\n",
    "        slab = (self.empSalary * 12) - 300000\n",
    "        tax = 0\n",
    "        if slab > 0:\n",
    "            tax = slab * 0.1\n",
    "        print \"tax for empid: {} is {}\".format(self.empNum, tax)\n",
    "       \n",
    "    def __str__(self):\n",
    "        return 'EmpId: {}, EmpName: {}, EmpSalary: {}'.format(self.empNum,\n",
    "                                                             self.empName,\n",
    "                                                            self.empSalary)\n",
    "    \n",
    "e1 = Employee(1234, 'John', 23500.0)"
   ]
  },
  {
   "cell_type": "code",
   "execution_count": 26,
   "metadata": {},
   "outputs": [
    {
     "name": "stdout",
     "output_type": "stream",
     "text": [
      "EmpId: 1234, EmpName: John, EmpSalary: 23500.0\n"
     ]
    }
   ],
   "source": [
    "print e1 # str(e1) ==> e1.__str__()"
   ]
  },
  {
   "cell_type": "code",
   "execution_count": 27,
   "metadata": {},
   "outputs": [
    {
     "data": {
      "text/plain": [
       "<__main__.Employee at 0x106fbd3d0>"
      ]
     },
     "execution_count": 27,
     "metadata": {},
     "output_type": "execute_result"
    }
   ],
   "source": [
    "e1"
   ]
  },
  {
   "cell_type": "markdown",
   "metadata": {},
   "source": [
    "int the above case, e1.\\__repr\\__() is called internally"
   ]
  },
  {
   "cell_type": "markdown",
   "metadata": {},
   "source": [
    "__implementing__ \\__repr\\__()"
   ]
  },
  {
   "cell_type": "code",
   "execution_count": 28,
   "metadata": {
    "collapsed": true
   },
   "outputs": [],
   "source": [
    "class Employee(object):\n",
    "\n",
    "    def __init__(self, _num, _name, _salary):\n",
    "        self.empNum = _num\n",
    "        self.empName = _name\n",
    "        self.empSalary = _salary\n",
    "        \n",
    "    def printData(self):\n",
    "        print 'EmpId: {}, EmpName: {}, EmpSalary: {}'.format(self.empNum,\n",
    "                                                             self.empName,\n",
    "                                                             self.empSalary)\n",
    "    def calculateTax(self):\n",
    "        slab = (self.empSalary * 12) - 300000\n",
    "        tax = 0\n",
    "        if slab > 0:\n",
    "            tax = slab * 0.1\n",
    "        print \"tax for empid: {} is {}\".format(self.empNum, tax)\n",
    "       \n",
    "    def __str__(self):\n",
    "        return 'EmpId: {}, EmpName: {}, EmpSalary: {}'.format(self.empNum,\n",
    "                                                             self.empName,\n",
    "                                                        self.empSalary)\n",
    "    def __repr__(self):\n",
    "        return \"Employee({}, '{}', {})\".format(self.empNum,\n",
    "                                               self.empName,\n",
    "                                             self.empSalary)\n",
    "    \n",
    "\n",
    "e1 = Employee(1234, 'John', 23500.0)"
   ]
  },
  {
   "cell_type": "code",
   "execution_count": 29,
   "metadata": {},
   "outputs": [
    {
     "name": "stdout",
     "output_type": "stream",
     "text": [
      "EmpId: 1234, EmpName: John, EmpSalary: 23500.0\n"
     ]
    }
   ],
   "source": [
    "print e1 # str(e1) ==> e1.__str__()"
   ]
  },
  {
   "cell_type": "code",
   "execution_count": 30,
   "metadata": {},
   "outputs": [
    {
     "data": {
      "text/plain": [
       "'EmpId: 1234, EmpName: John, EmpSalary: 23500.0'"
      ]
     },
     "execution_count": 30,
     "metadata": {},
     "output_type": "execute_result"
    }
   ],
   "source": [
    "str(e1)"
   ]
  },
  {
   "cell_type": "code",
   "execution_count": 31,
   "metadata": {},
   "outputs": [
    {
     "data": {
      "text/plain": [
       "'EmpId: 1234, EmpName: John, EmpSalary: 23500.0'"
      ]
     },
     "execution_count": 31,
     "metadata": {},
     "output_type": "execute_result"
    }
   ],
   "source": [
    "e1.__str__()"
   ]
  },
  {
   "cell_type": "code",
   "execution_count": 32,
   "metadata": {},
   "outputs": [
    {
     "data": {
      "text/plain": [
       "Employee(1234, 'John', 23500.0)"
      ]
     },
     "execution_count": 32,
     "metadata": {},
     "output_type": "execute_result"
    }
   ],
   "source": [
    "e1 # repr(e1) ==> e1.__repr__()"
   ]
  },
  {
   "cell_type": "code",
   "execution_count": 33,
   "metadata": {},
   "outputs": [
    {
     "data": {
      "text/plain": [
       "\"Employee(1234, 'John', 23500.0)\""
      ]
     },
     "execution_count": 33,
     "metadata": {},
     "output_type": "execute_result"
    }
   ],
   "source": [
    "repr(e1)"
   ]
  },
  {
   "cell_type": "code",
   "execution_count": 34,
   "metadata": {},
   "outputs": [
    {
     "data": {
      "text/plain": [
       "\"Employee(1234, 'John', 23500.0)\""
      ]
     },
     "execution_count": 34,
     "metadata": {},
     "output_type": "execute_result"
    }
   ],
   "source": [
    "e1.__repr__()"
   ]
  },
  {
   "cell_type": "markdown",
   "metadata": {},
   "source": [
    "__eval():__ Executing text as code"
   ]
  },
  {
   "cell_type": "code",
   "execution_count": 35,
   "metadata": {},
   "outputs": [
    {
     "data": {
      "text/plain": [
       "50"
      ]
     },
     "execution_count": 35,
     "metadata": {},
     "output_type": "execute_result"
    }
   ],
   "source": [
    "eval('20 + 30')"
   ]
  },
  {
   "cell_type": "code",
   "execution_count": 36,
   "metadata": {},
   "outputs": [
    {
     "data": {
      "text/plain": [
       "800"
      ]
     },
     "execution_count": 36,
     "metadata": {},
     "output_type": "execute_result"
    }
   ],
   "source": [
    "x = 20\n",
    "y = 40\n",
    "eval('x*y', globals(), locals())"
   ]
  },
  {
   "cell_type": "code",
   "execution_count": 37,
   "metadata": {},
   "outputs": [
    {
     "name": "stdout",
     "output_type": "stream",
     "text": [
      "EmpId: 1234, EmpName: John, EmpSalary: 23500.0\n"
     ]
    }
   ],
   "source": [
    "obj = eval(repr(e1), globals(), locals())\n",
    "print obj"
   ]
  },
  {
   "cell_type": "markdown",
   "metadata": {},
   "source": [
    "<b>repr() :</b><br> \n",
    "* evaluatable string representation of an object (can \"eval()\" it, <br>\n",
    "meaning it is a string representation that evaluates to a Python object\n",
    "\n",
    "* With the return value of repr() it should be possible to recreate our object using eval()."
   ]
  },
  {
   "cell_type": "code",
   "execution_count": 38,
   "metadata": {},
   "outputs": [
    {
     "data": {
      "text/plain": [
       "'EmpId: 1234, EmpName: John, EmpSalary: 23500.0'"
      ]
     },
     "execution_count": 38,
     "metadata": {},
     "output_type": "execute_result"
    }
   ],
   "source": [
    "str(e1)"
   ]
  },
  {
   "cell_type": "code",
   "execution_count": 39,
   "metadata": {},
   "outputs": [
    {
     "data": {
      "text/plain": [
       "\"Employee(1234, 'John', 23500.0)\""
      ]
     },
     "execution_count": 39,
     "metadata": {},
     "output_type": "execute_result"
    }
   ],
   "source": [
    "repr(e1)"
   ]
  },
  {
   "cell_type": "code",
   "execution_count": 40,
   "metadata": {
    "collapsed": true
   },
   "outputs": [],
   "source": [
    "l = [4, 5, 6, 7]\n",
    "s = {4, 5, 9}\n",
    "d = {2: 3, 5: 6, 6: 7}"
   ]
  },
  {
   "cell_type": "code",
   "execution_count": 41,
   "metadata": {},
   "outputs": [
    {
     "data": {
      "text/plain": [
       "[4, 5, 6, 7]"
      ]
     },
     "execution_count": 41,
     "metadata": {},
     "output_type": "execute_result"
    }
   ],
   "source": [
    "l"
   ]
  },
  {
   "cell_type": "code",
   "execution_count": 42,
   "metadata": {},
   "outputs": [
    {
     "data": {
      "text/plain": [
       "{2: 3, 5: 6, 6: 7}"
      ]
     },
     "execution_count": 42,
     "metadata": {},
     "output_type": "execute_result"
    }
   ],
   "source": [
    "d"
   ]
  },
  {
   "cell_type": "code",
   "execution_count": null,
   "metadata": {
    "collapsed": true
   },
   "outputs": [],
   "source": [
    "class Employee(object):\n",
    "\n",
    "    def __init__(self, _num, _name, _salary):\n",
    "        self.empNum = _num\n",
    "        self.empName = _name\n",
    "        self.empSalary = _salary\n",
    "        \n",
    "    def printData(self):\n",
    "        print 'EmpId: {}, EmpName: {}, EmpSalary: {}'.format(self.empNum,\n",
    "                                                             self.empName,\n",
    "                                                             self.empSalary)\n",
    "    def calculateTax(self):\n",
    "        slab = (self.empSalary * 12) - 300000\n",
    "        tax = 0\n",
    "        if slab > 0:\n",
    "            tax = slab * 0.1\n",
    "        print \"tax for empid: {} is {}\".format(self.empNum, tax)\n",
    "       \n",
    "    def __str__(self):\n",
    "        return 'EmpId: {}, EmpName: {}, EmpSalary: {}'.format(self.empNum,\n",
    "                                                             self.empName,\n",
    "                                                        self.empSalary)\n",
    "\n",
    "    def __repr__(self):\n",
    "        return \"Employee({}, '{}', {})\".format(self.empNum,\n",
    "                                               self.empName,\n",
    "                                             self.empSalary)\n"
   ]
  },
  {
   "cell_type": "code",
   "execution_count": 43,
   "metadata": {
    "collapsed": true
   },
   "outputs": [],
   "source": [
    "e1 = Employee(1234, 'John', 23500.0)"
   ]
  },
  {
   "cell_type": "markdown",
   "metadata": {},
   "source": [
    "#### Adding a property at run-time"
   ]
  },
  {
   "cell_type": "code",
   "execution_count": null,
   "metadata": {
    "collapsed": true
   },
   "outputs": [],
   "source": [
    "class Example(object):\n",
    "    def __init__(self):\n",
    "        self.x = 20\n",
    "        self.y = 30\n",
    "        \n",
    "    def fun(self):\n",
    "        self.p = 999\n",
    "        \n",
    "e1 = Example()\n",
    "e2 = Example()"
   ]
  },
  {
   "cell_type": "code",
   "execution_count": null,
   "metadata": {
    "collapsed": true
   },
   "outputs": [],
   "source": [
    "e1.x"
   ]
  },
  {
   "cell_type": "code",
   "execution_count": null,
   "metadata": {
    "collapsed": true
   },
   "outputs": [],
   "source": [
    "e1.x = 50"
   ]
  },
  {
   "cell_type": "code",
   "execution_count": null,
   "metadata": {
    "collapsed": true
   },
   "outputs": [],
   "source": [
    "e1.p"
   ]
  },
  {
   "cell_type": "code",
   "execution_count": null,
   "metadata": {
    "collapsed": true
   },
   "outputs": [],
   "source": [
    "e1.p = 100"
   ]
  },
  {
   "cell_type": "code",
   "execution_count": null,
   "metadata": {
    "collapsed": true
   },
   "outputs": [],
   "source": [
    "e1.p"
   ]
  },
  {
   "cell_type": "code",
   "execution_count": null,
   "metadata": {
    "collapsed": true
   },
   "outputs": [],
   "source": [
    "e2.fun() # fun adds a poperty to e1"
   ]
  },
  {
   "cell_type": "code",
   "execution_count": null,
   "metadata": {
    "collapsed": true
   },
   "outputs": [],
   "source": [
    "e2.p"
   ]
  },
  {
   "cell_type": "code",
   "execution_count": null,
   "metadata": {
    "collapsed": true
   },
   "outputs": [],
   "source": [
    "hasattr(e1, 'p')"
   ]
  },
  {
   "cell_type": "code",
   "execution_count": null,
   "metadata": {
    "collapsed": true
   },
   "outputs": [],
   "source": [
    "isinstance(e1, Example)"
   ]
  },
  {
   "cell_type": "code",
   "execution_count": null,
   "metadata": {
    "collapsed": true
   },
   "outputs": [],
   "source": [
    "e3 = Example()"
   ]
  },
  {
   "cell_type": "code",
   "execution_count": null,
   "metadata": {
    "collapsed": true
   },
   "outputs": [],
   "source": [
    "e3.p # p is not availble for e3, by this time only init is executed."
   ]
  },
  {
   "cell_type": "code",
   "execution_count": null,
   "metadata": {
    "collapsed": true
   },
   "outputs": [],
   "source": [
    "e3.p = 200 # e3.fun()"
   ]
  },
  {
   "cell_type": "code",
   "execution_count": null,
   "metadata": {
    "collapsed": true
   },
   "outputs": [],
   "source": [
    "def hello():\n",
    "    print 'Hello'\n",
    "    \n",
    "e1.fun = hello"
   ]
  },
  {
   "cell_type": "code",
   "execution_count": null,
   "metadata": {
    "collapsed": true
   },
   "outputs": [],
   "source": [
    "e1.fun()"
   ]
  },
  {
   "cell_type": "markdown",
   "metadata": {
    "collapsed": true
   },
   "source": [
    "## Inheritance\n",
    "### 4 Wheeler"
   ]
  },
  {
   "cell_type": "code",
   "execution_count": null,
   "metadata": {
    "collapsed": true
   },
   "outputs": [],
   "source": [
    "class FourWheeler(object):\n",
    "    def __init__(self, _model, _clr, _size, _price, _ver, _yr):\n",
    "        self.engineModel = _model\n",
    "        self.color = _clr\n",
    "        self.wheelSize = _size\n",
    "        self.price = _price\n",
    "        self.version = _ver\n",
    "        self.year = _yr\n",
    "        \n",
    "\n",
    "    def compute_discount(self):\n",
    "        if self.engineModel == 'HW':\n",
    "            return self.price* 0.1\n",
    "        if self.engineModel == 'LW':\n",
    "            return self.price* 0.2\n",
    "        return 0.0\n",
    "        \n",
    "    def get_on_road_price(self):\n",
    "        if self.year == 2016:\n",
    "            tax = 12.0\n",
    "        elif self.year == 2017:\n",
    "            tax = 13.0\n",
    "        else:\n",
    "            tax = 10.0\n",
    "            \n",
    "        return  self.price * (1 + tax/100) - self.compute_discount()\n",
    "    \n",
    "obj = FourWheeler('LW', 'RED', 2.0, 100000, 1.6, 2016)\n",
    "# obj = FourWheeler.__new__().__init__('LW', 'RED', 2.0, 100000, 1.6, 2016)\n",
    "obj.get_on_road_price()"
   ]
  },
  {
   "cell_type": "markdown",
   "metadata": {},
   "source": [
    "##### Inheritance\n",
    "\n",
    "Syntax:<br>\n",
    "```python\n",
    "class <class_name>(<base_Class1>, <base_Class2>, ...):\n",
    "    statements...\n",
    "    \n",
    "e.g,\n",
    "\n",
    "class Car(FourWheeler):\n",
    "    pass\n",
    "```\n"
   ]
  },
  {
   "cell_type": "code",
   "execution_count": null,
   "metadata": {
    "collapsed": true
   },
   "outputs": [],
   "source": [
    "class Car(FourWheeler):\n",
    "    pass"
   ]
  },
  {
   "cell_type": "code",
   "execution_count": null,
   "metadata": {
    "collapsed": true
   },
   "outputs": [],
   "source": [
    "fw = FourWheeler('LW', 'RED', 2.0, 100000, 1.6, 2016)\n",
    "cr = Car('LW', 'RED', 2.0, 100000, 1.6, 2016)\n",
    "print cr.get_on_road_price(), fw.get_on_road_price()"
   ]
  },
  {
   "cell_type": "code",
   "execution_count": null,
   "metadata": {
    "collapsed": true
   },
   "outputs": [],
   "source": [
    "class Car(FourWheeler):\n",
    "    def __init__(self, _model, _clr, _size, _price, _ver, _yr, _cmodel):\n",
    "        self.engineModel = _model\n",
    "        self.color = _clr\n",
    "        self.wheelSize = _size\n",
    "        self.price = _price\n",
    "        self.version = _ver\n",
    "        self.year = _yr\n",
    "        #--------------\n",
    "        self.carModel = _cmodel\n",
    "        \n",
    "    def compute_discount(self):\n",
    "        if self.carModel == 'hatchback':\n",
    "            return self.price* 0.1\n",
    "        if self.carModel == 'sedon':\n",
    "            return self.price* 0.15\n",
    "        if self.carModel == 'TUV':\n",
    "            return self.price* 0.12\n",
    "        if self.carModel == 'XUV':\n",
    "            return self.price* 0.11\n",
    "\n",
    "    \n",
    "cr = Car('LW', 'RED', 1.0, 100000, 2.0, 2016, 'TUV')\n",
    "cr.get_on_road_price()"
   ]
  },
  {
   "cell_type": "markdown",
   "metadata": {},
   "source": [
    "#### delegating functionality to parent constructor, __init__"
   ]
  },
  {
   "cell_type": "code",
   "execution_count": null,
   "metadata": {
    "collapsed": true
   },
   "outputs": [],
   "source": [
    "class Car(FourWheeler):\n",
    "    def __init__(self, _model, _clr, _size, _price, _ver, _yr, _cmodel):\n",
    "    \n",
    "        super(Car, self).__init__(_model, _clr, _size, _price, _ver, _yr)\n",
    "\n",
    "        self.carModel = _cmodel\n",
    "        \n",
    "    def compute_discount(self):\n",
    "        if self.carModel == 'hatchback':\n",
    "            return self.price* 0.1\n",
    "        if self.carModel == 'sedon':\n",
    "            return self.price* 0.1\n",
    "        if self.carModel == 'TUV':\n",
    "            return self.price* 0.1\n",
    "        if self.carModel == 'XUV':\n",
    "            return self.price* 0.1\n",
    "\n",
    "    def get_car_model(self):\n",
    "        return self.carModel\n",
    "    \n",
    "\n",
    "fw = FourWheeler('HW', 'RED', 2.0, 2000000, 2.0, 2017)\n",
    "cr = Car('LW', 'RED', 2.0, 1000000, 2.0, 2016, 'TUV')\n",
    "\n",
    "print cr.get_on_road_price()\n",
    "print fw.get_on_road_price()\n",
    "\n",
    "print cr.get_car_model()\n",
    "#print fw.get_car_model()"
   ]
  },
  {
   "cell_type": "markdown",
   "metadata": {
    "collapsed": true
   },
   "source": [
    "### Types of Inheritance"
   ]
  },
  {
   "cell_type": "markdown",
   "metadata": {},
   "source": [
    "```\n",
    "    1. Single\n",
    "         A\n",
    "         |\n",
    "         B\n",
    "\n",
    "    2. Hierarchical\n",
    "         A\n",
    "        / \\\n",
    "       B   C\n",
    "\n",
    "    3. Multiple\n",
    "       A   B\n",
    "        \\ /\n",
    "         C\n",
    "\n",
    "    4. Multi-level\n",
    "        A\n",
    "        |\n",
    "        B\n",
    "        |\n",
    "        C\n",
    "\n",
    "    5. Hybrid\n",
    "\n",
    "        A      A    A   B \n",
    "       / \\     |     \\ /\n",
    "      B   C    B      C\n",
    "       \\ /    / \\     |\n",
    "        D    C   D    D\n",
    "       (a)    (b)    (c)\n",
    "```\n",
    "<b>Diamond problem:</b> <br> \n",
    "This is a welll known problem in multiple inheritance. When two classes are having an attribute <br>\n",
    "with same name, a conflict ariases when inheriting both of them in a multiple inheritance.<br>\n",
    "Python has a  technique to solve this issue, which is MRO(Method resolution Order).<br>\n",
    "Python considers attribute of the first class in the inheritance order.<br>\n",
    "\n",
    "In the below example class D is inheriting A, B and C classes, we can see a conflict for function 'f()'.<br>\n",
    "As per the MRO in python B's f() is considered for inheritance.<br>"
   ]
  },
  {
   "cell_type": "code",
   "execution_count": null,
   "metadata": {
    "collapsed": true
   },
   "outputs": [],
   "source": [
    "class A(object):\n",
    "    def __init__(self):\n",
    "        self.x = 100\n",
    "        \n",
    "    def foo(self):\n",
    "        print \"I'm A\"\n",
    "\n",
    "class B(A):\n",
    "    def __init__(self):\n",
    "        self.x = 200\n",
    "        \n",
    "    def foo(self):\n",
    "        print \"I'm B\"\n",
    "\n",
    "class C(A):\n",
    "    def __init__(self):\n",
    "        self.x = 300\n",
    "    def foo(self):\n",
    "        print \"I'm C\"\n",
    "\n",
    "class D(C, B):\n",
    "    def bar(self):\n",
    "        print \"Exclusive\"\n",
    "\n",
    "d = D()\n",
    "d.foo()"
   ]
  },
  {
   "cell_type": "markdown",
   "metadata": {},
   "source": [
    "## MRO - Method Resolution Order"
   ]
  },
  {
   "cell_type": "markdown",
   "metadata": {},
   "source": [
    "#### Changing method resolution order using \\__bases__ attribute of the class.\n",
    "In the below code, in the last line, we can see class C's f() is called."
   ]
  },
  {
   "cell_type": "code",
   "execution_count": null,
   "metadata": {
    "collapsed": true
   },
   "outputs": [],
   "source": [
    "class A(object):\n",
    "    def foo(self):\n",
    "        print \"I'm A\"\n",
    "\n",
    "class B(A):\n",
    "    def foo(self):\n",
    "        print \"I'm B\"\n",
    "\n",
    "class C(A):\n",
    "    def foo(self):\n",
    "        print \"I'm C\"\n",
    "\n",
    "class D(B, C):\n",
    "    def bar(self):\n",
    "        print \"I'm D\"\n",
    "\n",
    "def main():\n",
    "    d = D()\n",
    "    d.foo()\n",
    "    \n",
    "    D.__bases__ = (C, B)\n",
    "    \n",
    "    d.foo()\n",
    "\n",
    "    D.__bases__ = (B, C)\n",
    "    \n",
    "    d.foo()\n",
    "if __name__ == '__main__':\n",
    "    main()"
   ]
  },
  {
   "cell_type": "markdown",
   "metadata": {},
   "source": [
    "### Case: Java Interfaces"
   ]
  },
  {
   "cell_type": "markdown",
   "metadata": {},
   "source": [
    "#### What is Abstract class, when to use abstract class?\n",
    "    \"Abstract classes are classes that contain one or more abstract methods. \n",
    "    An abstract method is a method that is declared, but contains no implementation. \n",
    "    Abstract classes can not be instantiated, and require subclasses to provide implementations for the abstract methods.\""
   ]
  },
  {
   "cell_type": "code",
   "execution_count": null,
   "metadata": {
    "collapsed": true
   },
   "outputs": [],
   "source": [
    "class Widget(object):\n",
    "    def display(self):\n",
    "        pass\n",
    "    \n",
    "class Button(Widget):\n",
    "    def display(self):\n",
    "        print \"I'm the button\"\n",
    "        \n",
    "class CheckBox(Widget):\n",
    "    def display(self):\n",
    "        print \"I'm the CheckBox\"\n",
    "        \n",
    "class RadioButton(Widget):\n",
    "    def display(self):\n",
    "        print \"I'm the RadioButton\"\n",
    "        \n",
    "class ComboBox(Widget):\n",
    "    pass\n",
    "\n",
    "def render_canvas(w):\n",
    "    # some code\n",
    "    w.display()\n",
    "    # some code\n",
    "\n",
    "render_canvas(Button())\n",
    "render_canvas(CheckBox())\n",
    "render_canvas(ComboBox())\n",
    "render_canvas(RadioButton())"
   ]
  },
  {
   "cell_type": "code",
   "execution_count": null,
   "metadata": {
    "collapsed": true
   },
   "outputs": [],
   "source": [
    "class Widget(object):\n",
    "    def display(self):\n",
    "        raise NotImplementedError()\n",
    "    \n",
    "class Button(Widget):\n",
    "    def display(self):\n",
    "        print \"I'm the button\"\n",
    "        \n",
    "class CheckBox(Widget):\n",
    "    def display(self):\n",
    "        print \"I'm the CheckBox\"\n",
    "        \n",
    "class RadioButton(Widget):\n",
    "    def display(self):\n",
    "        print \"I'm the RadioButton\"\n",
    "        \n",
    "class ComboBox(Widget):\n",
    "    pass\n",
    "\n",
    "def render_canvas(w):\n",
    "    # some code\n",
    "    w.display()\n",
    "    # some code\n",
    "\n",
    "render_canvas(Button())\n",
    "render_canvas(CheckBox())\n",
    "render_canvas(ComboBox())\n",
    "render_canvas(RadioButton())\n"
   ]
  },
  {
   "cell_type": "code",
   "execution_count": null,
   "metadata": {
    "collapsed": true
   },
   "outputs": [],
   "source": [
    "class Base:\n",
    "    def foo(self):\n",
    "        pass\n",
    "\n",
    "    def bar(self):\n",
    "        pass\n",
    "    \n",
    "class Derived(Base):\n",
    "    def foo(self):\n",
    "        return 'foo() called'\n",
    "    \n",
    "b = Base() # we should not be able to create objects for abstract classes\n",
    "d = Derived()\n"
   ]
  },
  {
   "cell_type": "code",
   "execution_count": null,
   "metadata": {
    "collapsed": true
   },
   "outputs": [],
   "source": [
    "b.foo()"
   ]
  },
  {
   "cell_type": "code",
   "execution_count": null,
   "metadata": {
    "collapsed": true
   },
   "outputs": [],
   "source": [
    "d.foo()"
   ]
  },
  {
   "cell_type": "code",
   "execution_count": null,
   "metadata": {
    "collapsed": true
   },
   "outputs": [],
   "source": [
    "b.bar()"
   ]
  },
  {
   "cell_type": "code",
   "execution_count": null,
   "metadata": {
    "collapsed": true
   },
   "outputs": [],
   "source": [
    "d.bar()"
   ]
  },
  {
   "cell_type": "markdown",
   "metadata": {},
   "source": [
    "##### better implementation\n",
    "\n",
    "    To enforce that a derived class implements a number of methods from the base class\n",
    "    we can use NotImplementedError()"
   ]
  },
  {
   "cell_type": "code",
   "execution_count": null,
   "metadata": {
    "collapsed": true
   },
   "outputs": [],
   "source": [
    "class Base:\n",
    "    def foo(self):\n",
    "        raise NotImplementedError()\n",
    "\n",
    "    def bar(self):\n",
    "        raise NotImplementedError()\n",
    "\n",
    "class Derived(Base):\n",
    "    def foo(self):\n",
    "        return 'foo() called'"
   ]
  },
  {
   "cell_type": "code",
   "execution_count": null,
   "metadata": {
    "collapsed": true
   },
   "outputs": [],
   "source": [
    "d = Derived()\n",
    "d.bar()"
   ]
  },
  {
   "cell_type": "markdown",
   "metadata": {},
   "source": [
    "Above implementation is OK, but not perfect,becoz we are able to create object for abstract class;\n",
    "#### Using abc module"
   ]
  },
  {
   "cell_type": "code",
   "execution_count": null,
   "metadata": {
    "collapsed": true
   },
   "outputs": [],
   "source": [
    "from abc import ABCMeta, abstractmethod\n",
    "\n",
    "class Widget(object):\n",
    "    __metaclass__ = ABCMeta\n",
    "    \n",
    "    @abstractmethod\n",
    "    def display(self):\n",
    "        pass\n",
    "    \n",
    "class Button(Widget):\n",
    "    def display(self):\n",
    "        print \"I'm the button\"\n",
    "        \n",
    "class CheckBox(Widget):\n",
    "    def display(self):\n",
    "        print \"I'm the CheckBox\"\n",
    "        \n",
    "class RadioButton(Widget):\n",
    "    def display(self):\n",
    "        print \"I'm the RadioButton\"\n",
    "        \n",
    "class ComboBox(Widget):\n",
    "    pass\n",
    "\n",
    "def render_canvas(w):\n",
    "    # some code\n",
    "    w.display()\n",
    "    # some code\n",
    "\n",
    "render_canvas(Button())\n",
    "render_canvas(CheckBox())\n",
    "render_canvas(ComboBox())\n",
    "render_canvas(RadioButton())"
   ]
  },
  {
   "cell_type": "code",
   "execution_count": null,
   "metadata": {
    "collapsed": true
   },
   "outputs": [],
   "source": [
    "from abc import ABCMeta, abstractmethod\n",
    "\n",
    "class Base(object):\n",
    "    __metaclass__ = ABCMeta\n",
    "    @abstractmethod\n",
    "    def foo(self):\n",
    "        pass\n",
    "\n",
    "    @abstractmethod\n",
    "    def bar(self):\n",
    "        pass\n",
    "    \n",
    "    def fun():\n",
    "        print \"have fun!\"\n",
    "        \n",
    "class Derived(Base):\n",
    "    def foo(self):\n",
    "        print 'Derived foo() called'        \n",
    "\n",
    "d = Derived()\n",
    "d.bar()"
   ]
  },
  {
   "cell_type": "code",
   "execution_count": null,
   "metadata": {
    "collapsed": true
   },
   "outputs": [],
   "source": [
    "from abc import ABCMeta, abstractmethod\n",
    "\n",
    "class Base(object):\n",
    "    __metaclass__ = ABCMeta\n",
    "    @abstractmethod\n",
    "    def foo(self):\n",
    "        pass\n",
    "\n",
    "    @abstractmethod\n",
    "    def bar(self):\n",
    "        pass\n",
    "    \n",
    "    def fun():\n",
    "        print \"have fun!\"\n",
    "        \n",
    "class Derived(Base):\n",
    "    def foo(self):\n",
    "        print 'Derived foo() called'\n",
    "    def bar(self):\n",
    "        print 'Derived bar foo() called'\n",
    "        \n",
    "\n",
    "d = Derived()\n",
    "d.bar()"
   ]
  },
  {
   "cell_type": "markdown",
   "metadata": {},
   "source": [
    "#### Private Memebrs"
   ]
  },
  {
   "cell_type": "code",
   "execution_count": null,
   "metadata": {
    "collapsed": true
   },
   "outputs": [],
   "source": [
    "class A(object):\n",
    "    def __init__(self):\n",
    "        self.x = 222\n",
    "        self._y = 333\n",
    "        self.__z = 555\n",
    "        \n",
    "    def f1(self):\n",
    "        print  '__z:', self.__z\n",
    "        print \"I'm fun\"\n",
    "        \n",
    "    def _f2(self):\n",
    "        print \"I'm _fun, dont use me, you will be at risk\"\n",
    "        \n",
    "    def __f3(self):\n",
    "        print \"I'm __fun, you cannot use me\"\n",
    "  \n",
    "a1 = A()"
   ]
  },
  {
   "cell_type": "code",
   "execution_count": 9,
   "metadata": {},
   "outputs": [
    {
     "data": {
      "text/plain": [
       "222"
      ]
     },
     "execution_count": 9,
     "metadata": {},
     "output_type": "execute_result"
    }
   ],
   "source": [
    "a1.x # a1.__dict__['x']"
   ]
  },
  {
   "cell_type": "code",
   "execution_count": 10,
   "metadata": {},
   "outputs": [
    {
     "data": {
      "text/plain": [
       "333"
      ]
     },
     "execution_count": 10,
     "metadata": {},
     "output_type": "execute_result"
    }
   ],
   "source": [
    "a1._y"
   ]
  },
  {
   "cell_type": "code",
   "execution_count": 12,
   "metadata": {},
   "outputs": [
    {
     "ename": "AttributeError",
     "evalue": "'A' object has no attribute '__z'",
     "output_type": "error",
     "traceback": [
      "\u001b[0;31m---------------------------------------------------------------------------\u001b[0m",
      "\u001b[0;31mAttributeError\u001b[0m                            Traceback (most recent call last)",
      "\u001b[0;32m<ipython-input-12-0b0798c4a57f>\u001b[0m in \u001b[0;36m<module>\u001b[0;34m()\u001b[0m\n\u001b[0;32m----> 1\u001b[0;31m \u001b[0ma1\u001b[0m\u001b[0;34m.\u001b[0m\u001b[0m__z\u001b[0m\u001b[0;34m\u001b[0m\u001b[0m\n\u001b[0m",
      "\u001b[0;31mAttributeError\u001b[0m: 'A' object has no attribute '__z'"
     ]
    }
   ],
   "source": [
    "a1.__z"
   ]
  },
  {
   "cell_type": "code",
   "execution_count": 13,
   "metadata": {},
   "outputs": [
    {
     "data": {
      "text/plain": [
       "{'_A__z': 555, '_y': 333, 'x': 222}"
      ]
     },
     "execution_count": 13,
     "metadata": {},
     "output_type": "execute_result"
    }
   ],
   "source": [
    "a1.__dict__"
   ]
  },
  {
   "cell_type": "code",
   "execution_count": 14,
   "metadata": {},
   "outputs": [
    {
     "data": {
      "text/plain": [
       "555"
      ]
     },
     "execution_count": 14,
     "metadata": {},
     "output_type": "execute_result"
    }
   ],
   "source": [
    "a1._A__z"
   ]
  },
  {
   "cell_type": "code",
   "execution_count": 15,
   "metadata": {},
   "outputs": [
    {
     "name": "stdout",
     "output_type": "stream",
     "text": [
      "__z: 555\n",
      "I'm fun\n"
     ]
    }
   ],
   "source": [
    "a1.f1()"
   ]
  },
  {
   "cell_type": "code",
   "execution_count": 16,
   "metadata": {},
   "outputs": [
    {
     "name": "stdout",
     "output_type": "stream",
     "text": [
      "I'm _fun, dont use me, you will be at risk\n"
     ]
    }
   ],
   "source": [
    "a1._f2()"
   ]
  },
  {
   "cell_type": "code",
   "execution_count": 17,
   "metadata": {},
   "outputs": [
    {
     "ename": "AttributeError",
     "evalue": "'A' object has no attribute '__f3'",
     "output_type": "error",
     "traceback": [
      "\u001b[0;31m---------------------------------------------------------------------------\u001b[0m",
      "\u001b[0;31mAttributeError\u001b[0m                            Traceback (most recent call last)",
      "\u001b[0;32m<ipython-input-17-dca7ea28729e>\u001b[0m in \u001b[0;36m<module>\u001b[0;34m()\u001b[0m\n\u001b[0;32m----> 1\u001b[0;31m \u001b[0ma1\u001b[0m\u001b[0;34m.\u001b[0m\u001b[0m__f3\u001b[0m\u001b[0;34m(\u001b[0m\u001b[0;34m)\u001b[0m\u001b[0;34m\u001b[0m\u001b[0m\n\u001b[0m",
      "\u001b[0;31mAttributeError\u001b[0m: 'A' object has no attribute '__f3'"
     ]
    }
   ],
   "source": [
    "a1.__f3()"
   ]
  },
  {
   "cell_type": "code",
   "execution_count": 18,
   "metadata": {},
   "outputs": [
    {
     "data": {
      "text/plain": [
       "dict_proxy({'_A__f3': <function __main__.__f3>,\n",
       "            '__dict__': <attribute '__dict__' of 'A' objects>,\n",
       "            '__doc__': None,\n",
       "            '__init__': <function __main__.__init__>,\n",
       "            '__module__': '__main__',\n",
       "            '__weakref__': <attribute '__weakref__' of 'A' objects>,\n",
       "            '_f2': <function __main__._f2>,\n",
       "            'f1': <function __main__.f1>})"
      ]
     },
     "execution_count": 18,
     "metadata": {},
     "output_type": "execute_result"
    }
   ],
   "source": [
    "A.__dict__"
   ]
  },
  {
   "cell_type": "code",
   "execution_count": 19,
   "metadata": {},
   "outputs": [
    {
     "name": "stdout",
     "output_type": "stream",
     "text": [
      "I'm __fun, you cannot use me\n"
     ]
    }
   ],
   "source": [
    "a1._A__f3()"
   ]
  },
  {
   "cell_type": "markdown",
   "metadata": {},
   "source": [
    "#### Creating inline objects, classes, types\n",
    "Syntax:\n",
    "```python\n",
    "className = type('className', (bases,), {'propertyName' : 'propertyValue'})\n",
    "```"
   ]
  },
  {
   "cell_type": "code",
   "execution_count": 1,
   "metadata": {},
   "outputs": [
    {
     "name": "stdout",
     "output_type": "stream",
     "text": [
      "1234 John\n"
     ]
    }
   ],
   "source": [
    "def f(self, eid, name):\n",
    "    self.empId = eid\n",
    "    self.name = name\n",
    "    \n",
    "Employee = type('Employee', (object,), {'empId' : 1234, 'name': 'John', '__init__': f})\n",
    "e = Employee(1234, 'John')\n",
    "print e.empId, e.name"
   ]
  },
  {
   "cell_type": "markdown",
   "metadata": {},
   "source": [
    "#### Static variables, Static Methods and Class Methods\n",
    "When we want to execute code before creating first instance of a class, we create static variables and static functions."
   ]
  },
  {
   "cell_type": "code",
   "execution_count": 4,
   "metadata": {},
   "outputs": [
    {
     "name": "stdout",
     "output_type": "stream",
     "text": [
      "db initiated\n",
      "Object count:  4\n"
     ]
    }
   ],
   "source": [
    "\n",
    "class A(object):\n",
    "    # static variable\n",
    "    dbConn = None\n",
    "    obj_count = 0\n",
    "    \n",
    "    @staticmethod\n",
    "    def getDBConnection():\n",
    "        A.dbConn = \"MYSQL\"\n",
    "        print \"db initiated\"\n",
    "        \n",
    "    def __init__(self, x, y, z):\n",
    "        self.x = x\n",
    "        self.y = y\n",
    "        self.z = z\n",
    "        A.obj_count += 1\n",
    "        \n",
    "    def fun(self):\n",
    "        if A.dbConn == 'MYSQL':\n",
    "            print self.x + self.y + self.z\n",
    "        else:\n",
    "            print 'Error: DB not initialized'\n",
    "\n",
    "A.getDBConnection()\n",
    "\n",
    "a1 = A(20, 30, 40)\n",
    "a2 = A(50, 60, 70)\n",
    "a3 = A(20, 30, 40)\n",
    "a4 = A(50, 60, 70)\n",
    "\n",
    "print 'Object count: ', A.obj_count"
   ]
  },
  {
   "cell_type": "code",
   "execution_count": 5,
   "metadata": {},
   "outputs": [
    {
     "name": "stdout",
     "output_type": "stream",
     "text": [
      "90\n",
      "180\n"
     ]
    }
   ],
   "source": [
    "a1.fun()\n",
    "a2.fun()"
   ]
  },
  {
   "cell_type": "code",
   "execution_count": 6,
   "metadata": {},
   "outputs": [
    {
     "name": "stdout",
     "output_type": "stream",
     "text": [
      "db initiated\n"
     ]
    }
   ],
   "source": [
    "a1.getDBConnection() # not recomeded"
   ]
  },
  {
   "cell_type": "code",
   "execution_count": 8,
   "metadata": {},
   "outputs": [
    {
     "data": {
      "text/plain": [
       "4"
      ]
     },
     "execution_count": 8,
     "metadata": {},
     "output_type": "execute_result"
    }
   ],
   "source": [
    "a1.obj_count"
   ]
  },
  {
   "cell_type": "code",
   "execution_count": 12,
   "metadata": {},
   "outputs": [
    {
     "data": {
      "text/plain": [
       "4"
      ]
     },
     "execution_count": 12,
     "metadata": {},
     "output_type": "execute_result"
    }
   ],
   "source": [
    "a2.obj_count"
   ]
  },
  {
   "cell_type": "code",
   "execution_count": 13,
   "metadata": {},
   "outputs": [
    {
     "data": {
      "text/plain": [
       "4"
      ]
     },
     "execution_count": 13,
     "metadata": {},
     "output_type": "execute_result"
    }
   ],
   "source": [
    "A.obj_count"
   ]
  },
  {
   "cell_type": "code",
   "execution_count": 11,
   "metadata": {
    "collapsed": true
   },
   "outputs": [],
   "source": [
    "a1.obj_count = 10"
   ]
  },
  {
   "cell_type": "code",
   "execution_count": 23,
   "metadata": {},
   "outputs": [
    {
     "name": "stdout",
     "output_type": "stream",
     "text": [
      "140556752671488 140556752671632 140556752671632\n"
     ]
    }
   ],
   "source": [
    "print id(a1.obj_count), id(a2.obj_count), id(A.obj_count)"
   ]
  },
  {
   "cell_type": "code",
   "execution_count": 24,
   "metadata": {},
   "outputs": [
    {
     "data": {
      "text/plain": [
       "4"
      ]
     },
     "execution_count": 24,
     "metadata": {},
     "output_type": "execute_result"
    }
   ],
   "source": [
    "A.obj_count"
   ]
  },
  {
   "cell_type": "markdown",
   "metadata": {},
   "source": [
    "##### class method : if we need to use class attributes"
   ]
  },
  {
   "cell_type": "code",
   "execution_count": 1,
   "metadata": {
    "collapsed": true
   },
   "outputs": [],
   "source": [
    "## class method\n",
    "\n",
    "class A(object):\n",
    "    # static variables\n",
    "    logger = None\n",
    "    dbConn = None\n",
    "    phi = 3.14 \n",
    "    objectCount = 0\n",
    "    \n",
    "    def __init__(self, x, y , z):\n",
    "        self.x = x\n",
    "        self.y = y\n",
    "        self.z = z\n",
    "        A.objectCount += 1\n",
    "        \n",
    "    @classmethod\n",
    "    def getDBConnection(cls):\n",
    "        cls.dbConn = \"Conection to MySQL\"\n",
    "        print \"db initiated\"\n",
    "\n",
    "    @staticmethod\n",
    "    def getLogger():\n",
    "        A.logger = \"logger created\"\n",
    "        print \"logger Initilized\"\n",
    "\n",
    "\n",
    "    def fun(self):\n",
    "        print \"I'm fun\"\n",
    "        print A.logger\n"
   ]
  },
  {
   "cell_type": "code",
   "execution_count": 2,
   "metadata": {},
   "outputs": [
    {
     "data": {
      "text/plain": [
       "dict_proxy({'__dict__': <attribute '__dict__' of 'A' objects>,\n",
       "            '__doc__': None,\n",
       "            '__init__': <function __main__.__init__>,\n",
       "            '__module__': '__main__',\n",
       "            '__weakref__': <attribute '__weakref__' of 'A' objects>,\n",
       "            'dbConn': None,\n",
       "            'fun': <function __main__.fun>,\n",
       "            'getDBConnection': <classmethod at 0x1117018a0>,\n",
       "            'getLogger': <staticmethod at 0x111701b40>,\n",
       "            'logger': None,\n",
       "            'objectCount': 0,\n",
       "            'phi': 3.14})"
      ]
     },
     "execution_count": 2,
     "metadata": {},
     "output_type": "execute_result"
    }
   ],
   "source": [
    "A.__dict__"
   ]
  },
  {
   "cell_type": "code",
   "execution_count": 3,
   "metadata": {},
   "outputs": [
    {
     "name": "stdout",
     "output_type": "stream",
     "text": [
      "db initiated\n",
      "logger Initilized\n"
     ]
    }
   ],
   "source": [
    "A.getDBConnection() # class method\n",
    "A.getLogger() # static method"
   ]
  },
  {
   "cell_type": "code",
   "execution_count": 27,
   "metadata": {},
   "outputs": [
    {
     "data": {
      "text/plain": [
       "'Conection to MySQL'"
      ]
     },
     "execution_count": 27,
     "metadata": {},
     "output_type": "execute_result"
    }
   ],
   "source": [
    "A.dbConn # static variable"
   ]
  },
  {
   "cell_type": "code",
   "execution_count": 28,
   "metadata": {},
   "outputs": [
    {
     "name": "stdout",
     "output_type": "stream",
     "text": [
      "{'y': 3, 'x': 2, 'z': 4}\n"
     ]
    }
   ],
   "source": [
    "a = A(2, 3, 4)\n",
    "print a.__dict__"
   ]
  },
  {
   "cell_type": "code",
   "execution_count": 29,
   "metadata": {},
   "outputs": [
    {
     "name": "stdout",
     "output_type": "stream",
     "text": [
      "db initiated\n",
      "logger Initilized\n",
      "I'm fun\n",
      "logger created\n"
     ]
    }
   ],
   "source": [
    "a.getDBConnection()\n",
    "a.getLogger()\n",
    "a.fun()"
   ]
  },
  {
   "cell_type": "markdown",
   "metadata": {
    "collapsed": true
   },
   "source": [
    "### Funcion Objects (Functor), Callable objects\n",
    "Pupose: To maintain common interface across multiple family of classes."
   ]
  },
  {
   "cell_type": "code",
   "execution_count": 4,
   "metadata": {
    "collapsed": true
   },
   "outputs": [],
   "source": [
    "class Sqr(object):\n",
    "    def __init__(self, _x):\n",
    "        self.x = _x\n",
    "        \n",
    "    def sqr(self):\n",
    "        return self.x * self.x"
   ]
  },
  {
   "cell_type": "code",
   "execution_count": 5,
   "metadata": {
    "collapsed": true
   },
   "outputs": [],
   "source": [
    "a = Sqr(20)"
   ]
  },
  {
   "cell_type": "code",
   "execution_count": 6,
   "metadata": {},
   "outputs": [
    {
     "name": "stdout",
     "output_type": "stream",
     "text": [
      "400\n"
     ]
    }
   ],
   "source": [
    "print a.sqr()"
   ]
  },
  {
   "cell_type": "code",
   "execution_count": 7,
   "metadata": {},
   "outputs": [
    {
     "ename": "TypeError",
     "evalue": "'Sqr' object is not callable",
     "output_type": "error",
     "traceback": [
      "\u001b[0;31m---------------------------------------------------------------------------\u001b[0m",
      "\u001b[0;31mTypeError\u001b[0m                                 Traceback (most recent call last)",
      "\u001b[0;32m<ipython-input-7-72f2e37b262f>\u001b[0m in \u001b[0;36m<module>\u001b[0;34m()\u001b[0m\n\u001b[0;32m----> 1\u001b[0;31m \u001b[0ma\u001b[0m\u001b[0;34m(\u001b[0m\u001b[0;34m)\u001b[0m\u001b[0;34m\u001b[0m\u001b[0m\n\u001b[0m",
      "\u001b[0;31mTypeError\u001b[0m: 'Sqr' object is not callable"
     ]
    }
   ],
   "source": [
    "a()"
   ]
  },
  {
   "cell_type": "code",
   "execution_count": 8,
   "metadata": {
    "collapsed": true
   },
   "outputs": [],
   "source": [
    "class Sqr(object):\n",
    "    def __init__(self, _x):\n",
    "        self.x = _x\n",
    "        \n",
    "    def __call__(self):\n",
    "        return self.x * self.x"
   ]
  },
  {
   "cell_type": "code",
   "execution_count": 13,
   "metadata": {},
   "outputs": [
    {
     "data": {
      "text/plain": [
       "400"
      ]
     },
     "execution_count": 13,
     "metadata": {},
     "output_type": "execute_result"
    }
   ],
   "source": [
    "s = Sqr(20)\n",
    "s() # s.__call__()"
   ]
  },
  {
   "cell_type": "code",
   "execution_count": 15,
   "metadata": {},
   "outputs": [
    {
     "data": {
      "text/plain": [
       "True"
      ]
     },
     "execution_count": 15,
     "metadata": {},
     "output_type": "execute_result"
    }
   ],
   "source": [
    "isinstance(s, Sqr)"
   ]
  },
  {
   "cell_type": "markdown",
   "metadata": {},
   "source": [
    "__Call back:__"
   ]
  },
  {
   "cell_type": "code",
   "execution_count": 17,
   "metadata": {},
   "outputs": [
    {
     "name": "stdout",
     "output_type": "stream",
     "text": [
      "Im the speed\n",
      "Ofcourse! I run\n"
     ]
    }
   ],
   "source": [
    "class Animal(object):\n",
    "    def run(self):\n",
    "        raise NotImplementedError()\n",
    "        \n",
    "class Tiger(Animal):\n",
    "    def run(self):\n",
    "        print 'Ofcourse! I run'\n",
    "        \n",
    "class Cheetah(Animal):\n",
    "    def run(self):\n",
    "        print 'Im the speed'\n",
    "        \n",
    "def observe_speed(obj):\n",
    "    obj.run()\n",
    "    \n",
    "ch = Cheetah()\n",
    "tg = Tiger()\n",
    "\n",
    "observe_speed(ch)\n",
    "observe_speed(tg)"
   ]
  },
  {
   "cell_type": "markdown",
   "metadata": {},
   "source": [
    "__Multiple family of classes:__"
   ]
  },
  {
   "cell_type": "code",
   "execution_count": 18,
   "metadata": {},
   "outputs": [
    {
     "name": "stdout",
     "output_type": "stream",
     "text": [
      "Im the speed\n",
      "Im the fastest\n",
      "I dont need to\n"
     ]
    }
   ],
   "source": [
    "class Animal(object):\n",
    "    def run(self):\n",
    "        raise NotImplementedError()\n",
    "        \n",
    "class Tiger(Animal):\n",
    "    def run(self):\n",
    "        print 'Ofcourse! I run'\n",
    "        \n",
    "class Cheetah(Animal):\n",
    "    def run(self):\n",
    "        print 'Im the speed'\n",
    "        \n",
    "# -------------------------\n",
    "class Bird(object):\n",
    "    def fly(self):\n",
    "        raise NotImplementedError()\n",
    "\n",
    "class Eagle(Bird):\n",
    "    def fly(self):\n",
    "        print 'I fly the highest'\n",
    "        \n",
    "class Swift(Bird):\n",
    "    def fly(self):\n",
    "        print 'Im the fastest'\n",
    "        \n",
    "# -------------------------        \n",
    "class SeaAnimal(object):\n",
    "    def swim(self):\n",
    "        raise NotImplementedError()\n",
    "        \n",
    "class Dolphin(SeaAnimal):\n",
    "    def swim(self):\n",
    "        print 'I jump aswell'\n",
    "        \n",
    "class Whale(SeaAnimal):\n",
    "    def swim(self):\n",
    "        print 'I dont need to'\n",
    "        \n",
    "def observe_speed(obj):\n",
    "    if isinstance(obj, Animal):\n",
    "        obj.run()\n",
    "    elif isinstance(obj, Bird):\n",
    "        obj.fly()\n",
    "    elif isinstance(obj, SeaAnimal):\n",
    "        obj.swim()\n",
    "\n",
    "\n",
    "\n",
    "obj1 = Cheetah()\n",
    "obj2 = Swift()\n",
    "obj3 = Whale()\n",
    "\n",
    "observe_speed(obj1)\n",
    "observe_speed(obj2)\n",
    "observe_speed(obj3)"
   ]
  },
  {
   "cell_type": "code",
   "execution_count": null,
   "metadata": {
    "collapsed": true
   },
   "outputs": [],
   "source": [
    "class Animal(object):\n",
    "    def __call__(self):\n",
    "        raise NotImplementedError()\n",
    "        \n",
    "class Tiger(Animal):\n",
    "    def __call__(self):\n",
    "        print 'Ofcourse! I run'\n",
    "        \n",
    "class Cheetah(Animal):\n",
    "    def __call__(self):\n",
    "        print 'Im the speed'\n",
    "        \n",
    "# -------------------------\n",
    "class Bird(object):\n",
    "    def __call__(self):\n",
    "        raise NotImplementedError()\n",
    "\n",
    "class Eagle(Bird):\n",
    "    def __call__(self):\n",
    "        print 'I fly the hihest'\n",
    "        \n",
    "class Swift(Bird):\n",
    "    def __call__(self):\n",
    "        print 'Im the fastest'\n",
    "        \n",
    "# -------------------------        \n",
    "class SeaAnimal(object):\n",
    "    def __call__(self):\n",
    "        raise NotImplementedError()\n",
    "        \n",
    "class Dolphin(SeaAnimal):\n",
    "    def __call__(self):\n",
    "        print 'I jump aswell'\n",
    "        \n",
    "class Whale(SeaAnimal):\n",
    "    def __call__(self):\n",
    "        print 'I dont need to'\n",
    "        \n",
    "def observe_speed(obj):\n",
    "    obj()\n",
    "\n",
    "\n",
    "obj1 = Cheetah()\n",
    "obj2 = Swift()\n",
    "obj3 = Whale()\n",
    "\n",
    "observe_speed(obj1)\n",
    "observe_speed(obj2)\n",
    "observe_speed(obj3)"
   ]
  },
  {
   "cell_type": "markdown",
   "metadata": {},
   "source": [
    "### Decorator and Context manager"
   ]
  },
  {
   "cell_type": "code",
   "execution_count": 1,
   "metadata": {
    "collapsed": true
   },
   "outputs": [],
   "source": [
    "import time\n",
    "def fun(n):\n",
    "    x = 0\n",
    "    for i in range(n):\n",
    "        x += i*i\n",
    "    return x"
   ]
  },
  {
   "cell_type": "code",
   "execution_count": 2,
   "metadata": {},
   "outputs": [
    {
     "name": "stdout",
     "output_type": "stream",
     "text": [
      "1 loop, best of 3: 160 ms per loop\n"
     ]
    }
   ],
   "source": [
    "%%timeit\n",
    "fun(1000000)"
   ]
  },
  {
   "cell_type": "code",
   "execution_count": 7,
   "metadata": {},
   "outputs": [
    {
     "name": "stdout",
     "output_type": "stream",
     "text": [
      "Decorator - time taken: 0.15412\n",
      "Context Manager - time taken: 0.224295\n",
      "Sum of 1000000 numbers =  499999500000\n"
     ]
    }
   ],
   "source": [
    "import time\n",
    "\n",
    "class TimeItDec(object):\n",
    "\n",
    "    def __init__(self, f):\n",
    "        self.fun = f\n",
    "\n",
    "    def __call__(self, *args, **kwargs):\n",
    "        start = time.clock()\n",
    "        ret = self.fun(*args, **kwargs)\n",
    "        end = time.clock()\n",
    "        print 'Decorator - time taken:',  end - start\n",
    "        return ret\n",
    "    \n",
    "class TimeItContext(object):\n",
    "    def __enter__(self):\n",
    "        self.start = time.clock()\n",
    "    \n",
    "    def __exit__(self, *args, **kwargs):\n",
    "        self.end = time.clock()\n",
    "        print 'Context Manager - time taken:',  self.end - self.start\n",
    "\n",
    "@TimeItDec\n",
    "def compute(n):\n",
    "    z = 0\n",
    "    for i in range(n):\n",
    "        z += i\n",
    "    return z\n",
    "\n",
    "if __name__ == '__main__':\n",
    "    \n",
    "    res = compute(1000000)\n",
    "    \n",
    "    with TimeItContext() as tc:\n",
    "        for i in range(1000000):\n",
    "            i += i * i\n",
    "            \n",
    "    print 'Sum of 1000000 numbers = ', res"
   ]
  },
  {
   "cell_type": "code",
   "execution_count": 10,
   "metadata": {},
   "outputs": [
    {
     "name": "stdout",
     "output_type": "stream",
     "text": [
      "time taken: 0.154657\n",
      "time taken: 0.212622\n",
      "Sum of 1000000 numbers =  499999500005\n"
     ]
    }
   ],
   "source": [
    "import time\n",
    "class TimeIt(object):\n",
    "\n",
    "    def __init__(self, f=None):\n",
    "        self.fun = f\n",
    "\n",
    "    def __call__(self, *args, **kwargs):\n",
    "        start = time.clock()\n",
    "        ret = self.fun(*args, **kwargs)\n",
    "        end = time.clock()\n",
    "        print 'time taken:',  end - start\n",
    "        return ret\n",
    "    \n",
    "    def __enter__(self):\n",
    "        self.start = time.clock()\n",
    "    \n",
    "    def __exit__(self, *args, **kwargs):\n",
    "        self.end = time.clock()\n",
    "        print 'time taken:',  self.end - self.start\n",
    "    \n",
    "# As decorator\n",
    "@TimeIt\n",
    "def compute(x, y):\n",
    "    z = x + y\n",
    "    for i in range(1000000):\n",
    "        z += i\n",
    "\n",
    "    return z \n",
    "\n",
    "if __name__ == '__main__':\n",
    "    \n",
    "    z = compute(2, 3)\n",
    "    # As Context manager\n",
    "    with TimeIt() as tm:\n",
    "        for i in range(1000000):\n",
    "            i += i * i\n",
    "    print 'Sum of 1000000 numbers = ', z"
   ]
  },
  {
   "cell_type": "code",
   "execution_count": null,
   "metadata": {
    "collapsed": true
   },
   "outputs": [],
   "source": [
    "timeit(fun)"
   ]
  },
  {
   "cell_type": "markdown",
   "metadata": {
    "collapsed": true
   },
   "source": [
    "### Polymorphism\n",
    "Single interface, multiple functionalities.<br>\n",
    "Polymorphism is, conditional and contextual executaion of a functionality."
   ]
  },
  {
   "cell_type": "code",
   "execution_count": 19,
   "metadata": {
    "collapsed": true
   },
   "outputs": [],
   "source": [
    "class Animal(object):\n",
    "    def talk(self):\n",
    "        raise NotImplementedError(\"I donno how to talk!\")\n",
    "        \n",
    "class Dog(Animal):\n",
    "    def talk(self):\n",
    "        print 'Woof woof'\n",
    "        \n",
    "class Cat(Animal):\n",
    "    def talk(self):\n",
    "        print 'Meow Meow'\n",
    "        \n",
    "def greet_animal(x):\n",
    "    print \"Hi Animal!\"\n",
    "    x.talk()\n",
    "\n",
    "d = Dog()\n",
    "c = Cat()"
   ]
  },
  {
   "cell_type": "code",
   "execution_count": 20,
   "metadata": {},
   "outputs": [
    {
     "name": "stdout",
     "output_type": "stream",
     "text": [
      "Hi Animal!\n",
      "Woof woof\n"
     ]
    }
   ],
   "source": [
    "greet_animal(d)"
   ]
  },
  {
   "cell_type": "code",
   "execution_count": 21,
   "metadata": {},
   "outputs": [
    {
     "name": "stdout",
     "output_type": "stream",
     "text": [
      "Hi Animal!\n",
      "Meow Meow\n"
     ]
    }
   ],
   "source": [
    "greet_animal(c)"
   ]
  },
  {
   "cell_type": "code",
   "execution_count": 22,
   "metadata": {},
   "outputs": [
    {
     "name": "stdout",
     "output_type": "stream",
     "text": [
      "I'm the button\n",
      "I'm the CheckBox\n",
      "I'm the RadioButton\n"
     ]
    }
   ],
   "source": [
    "class Widget(object):\n",
    "    def display(self):\n",
    "        NotImplementedError()\n",
    "    \n",
    "class Button(Widget):\n",
    "    def display(self):\n",
    "        print \"I'm the button\"\n",
    "        \n",
    "class CheckBox(Widget):\n",
    "    def display(self):\n",
    "        print \"I'm the CheckBox\"\n",
    "        \n",
    "class RadioButton(Widget):\n",
    "    def display(self):\n",
    "        print \"I'm the RadioButton\"\n",
    "        \n",
    "\n",
    "def render_canvas(x):\n",
    "    # some code\n",
    "    x.display()\n",
    "    # some code\n",
    "\n",
    "b = Button()\n",
    "c = CheckBox()\n",
    "r = RadioButton()\n",
    "\n",
    "render_canvas(b)\n",
    "render_canvas(c)\n",
    "render_canvas(r)"
   ]
  },
  {
   "cell_type": "markdown",
   "metadata": {},
   "source": [
    "#### Function Overloading"
   ]
  },
  {
   "cell_type": "code",
   "execution_count": 11,
   "metadata": {},
   "outputs": [
    {
     "ename": "TypeError",
     "evalue": "fun() takes exactly 2 arguments (1 given)",
     "output_type": "error",
     "traceback": [
      "\u001b[0;31m---------------------------------------------------------------------------\u001b[0m",
      "\u001b[0;31mTypeError\u001b[0m                                 Traceback (most recent call last)",
      "\u001b[0;32m<ipython-input-11-ca344d263216>\u001b[0m in \u001b[0;36m<module>\u001b[0;34m()\u001b[0m\n\u001b[1;32m      8\u001b[0m \u001b[0;34m\u001b[0m\u001b[0m\n\u001b[1;32m      9\u001b[0m \u001b[0ms\u001b[0m \u001b[0;34m=\u001b[0m \u001b[0mSample\u001b[0m\u001b[0;34m(\u001b[0m\u001b[0;34m)\u001b[0m\u001b[0;34m\u001b[0m\u001b[0m\n\u001b[0;32m---> 10\u001b[0;31m \u001b[0ms\u001b[0m\u001b[0;34m.\u001b[0m\u001b[0mfun\u001b[0m\u001b[0;34m(\u001b[0m\u001b[0;34m)\u001b[0m\u001b[0;34m\u001b[0m\u001b[0m\n\u001b[0m",
      "\u001b[0;31mTypeError\u001b[0m: fun() takes exactly 2 arguments (1 given)"
     ]
    }
   ],
   "source": [
    "class Sample(object):\n",
    "    def fun(self):\n",
    "        print 'Apple'\n",
    "        \n",
    "    def fun(self, n):\n",
    "        print 'Apple'*n\n",
    "        \n",
    "\n",
    "s = Sample()\n",
    "s.fun()"
   ]
  },
  {
   "cell_type": "code",
   "execution_count": 12,
   "metadata": {},
   "outputs": [
    {
     "name": "stdout",
     "output_type": "stream",
     "text": [
      "Apple\n"
     ]
    }
   ],
   "source": [
    "class Sample(object):\n",
    "    def fun(self, n):\n",
    "        print 'Apple'*n\n",
    "        \n",
    "    def fun(self):\n",
    "        print 'Apple'\n",
    "        \n",
    "s = Sample()\n",
    "s.fun()"
   ]
  },
  {
   "cell_type": "markdown",
   "metadata": {
    "collapsed": true
   },
   "source": [
    "* Overloading is static polymorphism\n",
    "* Method overloading is not having any significance in python.\n",
    "* Operator methods can be overloaded for a class.\n",
    "* Objects can be keys in a set or dict. Bydefault id() of the object<br>\n",
    "  is considered for hashing.\n",
    "* To change the hashing criteria,we should override \\__hash\\__() and \\__eq\\__() \n",
    "* Operator overloading can be achieved by overriding corresponding <br>\n",
    "  magic methods. <br>\n",
    "  > To implement '<' between objects, we should override \\__lt\\__(),<br>\n",
    "  > To implement '+' between objects, we should override \\__add\\__()\n",
    "* \\__lt\\__() method is considered for list's sort() method internally\n",
    "* \\__str\\__() method is used to represent object as string()\n",
    "* \\__str\\__() method is used by 'print' statement when print an object\n",
    "* \\__str\\__()method is used when using str() conversion function on objects.\n",
    "* \\__repr\\__() is used to syntactically represent object construction using constructor.<br>\n",
    "  so that, we can reconstruct the object using eval()"
   ]
  },
  {
   "cell_type": "code",
   "execution_count": 1,
   "metadata": {
    "collapsed": true
   },
   "outputs": [],
   "source": [
    "class Employee(object):\n",
    "    def __init__(self, _id, _name, _sal):\n",
    "        self.eid = _id\n",
    "        self.ename = _name\n",
    "        self.esal = _sal\n",
    "     \n",
    "    def __str__(self):\n",
    "        return str(self.eid) + ', ' + self.ename + ', ' + str(self.esal)\n",
    "    def __repr__(self):\n",
    "        return \"Employee({}, '{}', {})\".format(self.eid, self.ename, \n",
    "                                             self.esal)\n",
    "\n",
    "e1 = Employee(1234, 'John corner', 5000.0)\n",
    "e2 = Employee(1235, 'Stuart', 26000.0)\n",
    "e3 = Employee(1236, 'snadra', 19000.0)"
   ]
  },
  {
   "cell_type": "code",
   "execution_count": 2,
   "metadata": {},
   "outputs": [
    {
     "data": {
      "text/plain": [
       "True"
      ]
     },
     "execution_count": 2,
     "metadata": {},
     "output_type": "execute_result"
    }
   ],
   "source": [
    "e2 < e3"
   ]
  },
  {
   "cell_type": "code",
   "execution_count": 3,
   "metadata": {},
   "outputs": [
    {
     "name": "stdout",
     "output_type": "stream",
     "text": [
      "37732024 37732136\n"
     ]
    }
   ],
   "source": [
    "print id(e2), id(e3)"
   ]
  },
  {
   "cell_type": "code",
   "execution_count": 4,
   "metadata": {},
   "outputs": [
    {
     "name": "stdout",
     "output_type": "stream",
     "text": [
      "(65993808L, 37567792L, 37731912L)\n"
     ]
    }
   ],
   "source": [
    "class Employee(object):\n",
    "    def __init__(self, _id, _name, _sal):\n",
    "        self.eid = _id\n",
    "        self.ename = _name\n",
    "        self.esal = _sal\n",
    "     \n",
    "    def __str__(self):\n",
    "        return str(self.eid) + ', ' + self.ename + ', ' + str(self.esal)\n",
    "    def __repr__(self):\n",
    "        return 'Employee({}, {}, {})'.format(self.eid, self.ename, \n",
    "                                             self.esal)\n",
    "    def __lt__(self, other):\n",
    "        print 'lt called!'\n",
    "        return self.esal < other.esal\n",
    "    \n",
    "    \n",
    "e1 = Employee(1234, 'John', 5000.0)\n",
    "e2 = Employee(1235, 'Stuart', 25000.0)\n",
    "e3 = Employee(1236, 'snadra', 19000.0)\n",
    "\n",
    "print(id(e1), id(e2), id(e3))"
   ]
  },
  {
   "cell_type": "code",
   "execution_count": 5,
   "metadata": {},
   "outputs": [
    {
     "name": "stdout",
     "output_type": "stream",
     "text": [
      "lt called!\n"
     ]
    },
    {
     "data": {
      "text/plain": [
       "True"
      ]
     },
     "execution_count": 5,
     "metadata": {},
     "output_type": "execute_result"
    }
   ],
   "source": [
    "e2 > e3 # internally works like this, e2.__lt__(e3)"
   ]
  },
  {
   "cell_type": "code",
   "execution_count": 6,
   "metadata": {},
   "outputs": [
    {
     "ename": "TypeError",
     "evalue": "unsupported operand type(s) for +: 'Employee' and 'Employee'",
     "output_type": "error",
     "traceback": [
      "\u001b[0;31m---------------------------------------------------------------------------\u001b[0m",
      "\u001b[0;31mTypeError\u001b[0m                                 Traceback (most recent call last)",
      "\u001b[0;32m<ipython-input-6-a5adf738a560>\u001b[0m in \u001b[0;36m<module>\u001b[0;34m()\u001b[0m\n\u001b[0;32m----> 1\u001b[0;31m \u001b[0me2\u001b[0m \u001b[1;33m+\u001b[0m \u001b[0me3\u001b[0m\u001b[1;33m\u001b[0m\u001b[0m\n\u001b[0m",
      "\u001b[0;31mTypeError\u001b[0m: unsupported operand type(s) for +: 'Employee' and 'Employee'"
     ]
    }
   ],
   "source": [
    "e2 + e3"
   ]
  },
  {
   "cell_type": "code",
   "execution_count": 7,
   "metadata": {
    "collapsed": true
   },
   "outputs": [],
   "source": [
    "class Employee(object):\n",
    "    def __init__(self, _id, _name, _sal):\n",
    "        self.eid = _id\n",
    "        self.ename = _name\n",
    "        self.esal = _sal\n",
    "     \n",
    "    def __str__(self):\n",
    "        return str(self.eid) + ', ' + self.ename + ', ' + str(self.esal)\n",
    "    def __repr__(self):\n",
    "        return 'Employee({}, {}, {})'.format(self.eid, self.ename, \n",
    "                                             self.esal)\n",
    "    def __lt__(self, other):\n",
    "        return self.esal < other.esal\n",
    "    \n",
    "    def __add__(self, other):\n",
    "        return self.esal + other.esal\n",
    "    \n",
    "e1 = Employee(1234, 'John', 5000.0)\n",
    "e2 = Employee(1235, 'Stuart', 25000.0)\n",
    "e3 = Employee(1236, 'snadra', 19000.0)\n"
   ]
  },
  {
   "cell_type": "code",
   "execution_count": 8,
   "metadata": {},
   "outputs": [
    {
     "data": {
      "text/plain": [
       "30000.0"
      ]
     },
     "execution_count": 8,
     "metadata": {},
     "output_type": "execute_result"
    }
   ],
   "source": [
    "e1 + e2 # internally works like this, e1.__add__(e2)"
   ]
  },
  {
   "cell_type": "code",
   "execution_count": 9,
   "metadata": {
    "collapsed": true
   },
   "outputs": [],
   "source": [
    "class Employee(object):\n",
    "    def __init__(self, _id, _name, _sal):\n",
    "        self.eid = _id\n",
    "        self.ename = _name\n",
    "        self.esal = _sal\n",
    "     \n",
    "    def __str__(self):\n",
    "        return str(self.eid) + ', ' + self.ename + ', ' + str(self.esal)\n",
    "    \n",
    "    def __repr__(self):\n",
    "        return 'Employee({}, {}, {})'.format(self.eid, self.ename, \n",
    "                                             self.esal)\n",
    "    \n",
    "e1 = Employee(1234, 'John', 5000.0)\n",
    "e2 = Employee(1235, 'Stuart', 25000.0)\n",
    "e3 = Employee(1236, 'sandra', 19000.0)\n",
    "e4 = Employee(1236, 'sandra', 19000.0)"
   ]
  },
  {
   "cell_type": "code",
   "execution_count": 10,
   "metadata": {},
   "outputs": [
    {
     "data": {
      "text/plain": [
       "{Employee(1236, sandra, 19000.0),\n",
       " Employee(1236, sandra, 19000.0),\n",
       " Employee(1234, John, 5000.0),\n",
       " Employee(1235, Stuart, 25000.0)}"
      ]
     },
     "execution_count": 10,
     "metadata": {},
     "output_type": "execute_result"
    }
   ],
   "source": [
    "set([e1, e2, e3, e4])"
   ]
  },
  {
   "cell_type": "code",
   "execution_count": 11,
   "metadata": {
    "collapsed": true
   },
   "outputs": [],
   "source": [
    "class Employee(object):\n",
    "    def __init__(self, _id, _name, _sal):\n",
    "        self.eid = _id\n",
    "        self.ename = _name\n",
    "        self.esal = _sal\n",
    "     \n",
    "    def __str__(self):\n",
    "        return str(self.eid) + ', ' + self.ename + ', ' + str(self.esal)\n",
    "    def __repr__(self):\n",
    "        return 'Employee({}, {}, {})'.format(self.eid, self.ename, \n",
    "                                             self.esal)\n",
    "    \n",
    "    def __hash__(self):\n",
    "        print 'Hash called'\n",
    "        return hash(self.eid)\n",
    "    \n",
    "e1 = Employee(1234, 'John', 5000.0)\n",
    "e2 = Employee(1235, 'Stuart', 25000.0)\n",
    "e3 = Employee(1236, 'sandra', 19000.0)\n",
    "e4 = Employee(1236, 'sandra', 19000.0)"
   ]
  },
  {
   "cell_type": "code",
   "execution_count": 12,
   "metadata": {},
   "outputs": [
    {
     "name": "stdout",
     "output_type": "stream",
     "text": [
      "Hash called\n",
      "Hash called\n",
      "Hash called\n",
      "Hash called\n"
     ]
    },
    {
     "data": {
      "text/plain": [
       "{Employee(1235, Stuart, 25000.0),\n",
       " Employee(1236, sandra, 19000.0),\n",
       " Employee(1234, John, 5000.0),\n",
       " Employee(1236, sandra, 19000.0)}"
      ]
     },
     "execution_count": 12,
     "metadata": {},
     "output_type": "execute_result"
    }
   ],
   "source": [
    "set([e1, e2, e3, e4])"
   ]
  },
  {
   "cell_type": "markdown",
   "metadata": {},
   "source": [
    "#### Note:\n",
    "##### If we want to store objects as set elements or keys in a dictionary, \\__hash\\__() and \\__eq\\__() both must be overriden.\n",
    "Because, for different values, if hash codes are same,it should compare their values\n",
    "to check both are different are not.<br> If different, it stores values in the same hash bucket, else ignores. If we do not implement \\__eq\\__(), set doesn't consider<br> user defined  \\__hash\\__() method.\n"
   ]
  },
  {
   "cell_type": "code",
   "execution_count": 13,
   "metadata": {
    "collapsed": true
   },
   "outputs": [],
   "source": [
    "class Employee(object):\n",
    "    def __init__(self, _id, _name, _sal):\n",
    "        self.eid = _id\n",
    "        self.ename = _name\n",
    "        self.esal = _sal\n",
    "     \n",
    "    def __str__(self):\n",
    "        return str(self.eid) + ', ' + self.ename + ', ' + str(self.esal)\n",
    "    def __repr__(self):\n",
    "        return 'Employee({}, {}, {})'.format(self.eid, self.ename, \n",
    "                                             self.esal)\n",
    "    \n",
    "    def __lt__(self, other):\n",
    "        return self.esal < other.esal\n",
    "    \n",
    "    def __hash__(self):\n",
    "        return hash(self.eid)\n",
    "    \n",
    "    def __eq__(self, other):\n",
    "        print 'Eq Called'\n",
    "        return self.eid == other.eid\n",
    "    \n",
    "    \n",
    "e1 = Employee(1234, 'John', 5000.0)\n",
    "e2 = Employee(1235, 'Stuart', 25000.0)\n",
    "e3 = Employee(1236, 'sandra', 19000.0)\n",
    "e4 = Employee(1236, 'sandra', 19000.0)"
   ]
  },
  {
   "cell_type": "code",
   "execution_count": 14,
   "metadata": {},
   "outputs": [
    {
     "name": "stdout",
     "output_type": "stream",
     "text": [
      "Eq Called\n"
     ]
    },
    {
     "data": {
      "text/plain": [
       "{Employee(1234, John, 5000.0),\n",
       " Employee(1236, sandra, 19000.0),\n",
       " Employee(1235, Stuart, 25000.0)}"
      ]
     },
     "execution_count": 14,
     "metadata": {},
     "output_type": "execute_result"
    }
   ],
   "source": [
    "set([e1, e2, e3, e4])"
   ]
  },
  {
   "cell_type": "markdown",
   "metadata": {},
   "source": [
    "### Sorting Objects"
   ]
  },
  {
   "cell_type": "code",
   "execution_count": 16,
   "metadata": {},
   "outputs": [
    {
     "data": {
      "text/plain": [
       "[Employee(1237, Stuart, 1000),\n",
       " Employee(1235, Stuart, 15000),\n",
       " Employee(1236, snadra, 19000),\n",
       " Employee(1234, John, 25000)]"
      ]
     },
     "execution_count": 16,
     "metadata": {},
     "output_type": "execute_result"
    }
   ],
   "source": [
    "# sort method internally using  __lt__() method of Employee class\n",
    "# esal is the criteria.\n",
    "\n",
    "l = [Employee(1237, 'Stuart', 1000), \n",
    "     Employee(1234, 'John', 25000), \n",
    "     Employee(1235, 'Stuart', 15000), \n",
    "     Employee(1236, 'snadra', 19000)]\n",
    "\n",
    "l.sort()\n",
    "l"
   ]
  },
  {
   "cell_type": "markdown",
   "metadata": {},
   "source": [
    " __Explicitly providing creteria__"
   ]
  },
  {
   "cell_type": "code",
   "execution_count": 17,
   "metadata": {},
   "outputs": [
    {
     "name": "stdout",
     "output_type": "stream",
     "text": [
      "[Employee(1234, John, 25000), Employee(1236, snadra, 19000), Employee(1235, Stuart, 15000), Employee(1237, Stuart, 1000)]\n"
     ]
    }
   ],
   "source": [
    "l.sort(key=lambda x:x.esal, reverse=True)\n",
    "print l"
   ]
  },
  {
   "cell_type": "code",
   "execution_count": 18,
   "metadata": {},
   "outputs": [
    {
     "data": {
      "text/plain": [
       "[Employee(1237, Stuart, 1000),\n",
       " Employee(1235, Stuart, 15000),\n",
       " Employee(1236, snadra, 19000),\n",
       " Employee(1234, John, 25000)]"
      ]
     },
     "execution_count": 18,
     "metadata": {},
     "output_type": "execute_result"
    }
   ],
   "source": [
    "sorted(l, key=lambda x:x.esal)"
   ]
  },
  {
   "cell_type": "code",
   "execution_count": 19,
   "metadata": {},
   "outputs": [
    {
     "data": {
      "text/plain": [
       "Employee(1237, Stuart, 1000)"
      ]
     },
     "execution_count": 19,
     "metadata": {},
     "output_type": "execute_result"
    }
   ],
   "source": [
    "max(l, key=lambda x:x.eid)"
   ]
  },
  {
   "cell_type": "code",
   "execution_count": null,
   "metadata": {
    "collapsed": true
   },
   "outputs": [],
   "source": [
    "min(l, key=lambda x:x.esal)"
   ]
  }
 ],
 "metadata": {
  "anaconda-cloud": {},
  "kernelspec": {
   "display_name": "Python 2",
   "language": "python",
   "name": "python2"
  },
  "language_info": {
   "codemirror_mode": {
    "name": "ipython",
    "version": 2
   },
   "file_extension": ".py",
   "mimetype": "text/x-python",
   "name": "python",
   "nbconvert_exporter": "python",
   "pygments_lexer": "ipython2",
   "version": "2.7.14"
  }
 },
 "nbformat": 4,
 "nbformat_minor": 1
}
