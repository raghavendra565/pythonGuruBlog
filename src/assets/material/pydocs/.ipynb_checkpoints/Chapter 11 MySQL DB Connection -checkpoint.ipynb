{
 "cells": [
  {
   "cell_type": "markdown",
   "metadata": {},
   "source": [
    "# Python Programming\n",
    "\n",
    "### Narendra Allam\n",
    "Copyright 2019\n",
    "\n",
    "# Chapter 13\n",
    "\n",
    "## MySQL - Database Connection  \n",
    "\n",
    "###  Topics Covering\n",
    "* mysql-connector-python\n",
    "* connection object\n",
    "* cursor\n",
    "* iterating cursor\n",
    "* Exception handling - revisited"
   ]
  },
  {
   "cell_type": "code",
   "execution_count": null,
   "metadata": {},
   "outputs": [],
   "source": [
    "import mysql.connector\n",
    "\n",
    "        \n",
    "conn   = mysql.connector.connect(user   = 'naren',\n",
    "                               password = 'Python@7',\n",
    "                               host     = '127.0.0.1',\n",
    "                               database = 'employees')\n",
    "\n",
    "cursor = conn.cursor()\n",
    "\n",
    "query  = \"select * from employees limit 10\"\n",
    "#query  = \"select count(*) from employees\"\n",
    "cursor.execute(query)\n",
    "\n",
    "\n",
    "#print(cursor.fetchone())\n",
    "#print(cursor.fetchall())\n",
    "for t in cursor:\n",
    "    print(t)\n",
    "\n",
    "cursor.close()\n",
    "conn.close()"
   ]
  },
  {
   "cell_type": "code",
   "execution_count": null,
   "metadata": {},
   "outputs": [],
   "source": [
    "import datetime\n",
    "import mysql.connector\n",
    "from mysql.connector import errorcode\n",
    "\n",
    "emp_list = []\n",
    "\n",
    "class Employee(object):\n",
    "    def __init__(self, _id, _dob, _fname, _lname, _sex, _hdate):\n",
    "        self.empId = _id\n",
    "        self.dob = _dob\n",
    "        self.firstName = _fname\n",
    "        self.lastName = _lname\n",
    "        self.gender = _sex\n",
    "        self.hireDate = _hdate\n",
    "    def __str__(self):\n",
    "        return '{}, {}, {}, {}, {}, {}'.format(self.empId, self.dob, \n",
    "                                               self.firstName, self.lastName, \n",
    "                                               self.gender, self.hireDate)\n",
    "    def __repr__(self):\n",
    "        return 'Employee({}, {}, {}, {}, {}, {})'.format(self.empId, self.dob, \n",
    "                                                         self.firstName, self.lastName,\n",
    "                                                         self.gender, self.hireDate)\n",
    "\n",
    "def start():\n",
    "    try:\n",
    "        conn   = mysql.connector.connect(user   = 'naren',\n",
    "                                       password = 'Python@7',\n",
    "                                       host     = '127.0.0.1',\n",
    "                                       database = 'employees')\n",
    "        \n",
    "        query  = \"select * from employees limit 100\"\n",
    "        cursor = conn.cursor()\n",
    "        cursor.execute(query)\n",
    "        \n",
    "\n",
    "        for rec in cursor:\n",
    "            emp_list.append(Employee(*rec))\n",
    "            \n",
    "    except mysql.connector.Error as err:\n",
    "\n",
    "        if err.errno == errorcode.ER_ACCESS_DENIED_ERROR:\n",
    "            print(\"Name or password error! :( \")\n",
    "        elif err.errno == errorcode.ER_BAD_DB_ERROR:\n",
    "            print(\"Database doesn't exist!\")\n",
    "        else:\n",
    "            print(err)\n",
    "\n",
    "    else:\n",
    "        cursor.close()\n",
    "        conn.close()\n",
    "        \n",
    "    finally:\n",
    "        print('Transaction backup has been taken successfully!')\n",
    "        print('Shutting down the system')\n",
    "        print(\"I dont leave you easily...\")\n",
    "    \n",
    "if __name__ == '__main__':\n",
    "    start()  "
   ]
  },
  {
   "cell_type": "code",
   "execution_count": null,
   "metadata": {},
   "outputs": [],
   "source": [
    "emp_list"
   ]
  },
  {
   "cell_type": "code",
   "execution_count": null,
   "metadata": {},
   "outputs": [],
   "source": [
    "max(emp_list, key=lambda x: x.dob)"
   ]
  },
  {
   "cell_type": "code",
   "execution_count": null,
   "metadata": {},
   "outputs": [],
   "source": [
    "sorted(emp_list, key=lambda x: x.hireDate)[:20]"
   ]
  }
 ],
 "metadata": {
  "anaconda-cloud": {},
  "kernelspec": {
   "display_name": "Python 3",
   "language": "python",
   "name": "python3"
  },
  "language_info": {
   "codemirror_mode": {
    "name": "ipython",
    "version": 3
   },
   "file_extension": ".py",
   "mimetype": "text/x-python",
   "name": "python",
   "nbconvert_exporter": "python",
   "pygments_lexer": "ipython3",
   "version": "3.6.6"
  },
  "toc": {
   "base_numbering": 1,
   "nav_menu": {},
   "number_sections": false,
   "sideBar": false,
   "skip_h1_title": false,
   "title_cell": "Table of Contents",
   "title_sidebar": "Contents",
   "toc_cell": false,
   "toc_position": {},
   "toc_section_display": false,
   "toc_window_display": false
  }
 },
 "nbformat": 4,
 "nbformat_minor": 1
}
