{
 "cells": [
  {
   "cell_type": "markdown",
   "metadata": {},
   "source": [
    "\n",
    "### Python Programming\n",
    "##### by Narendra Allam\n",
    "Copyright 2019\n",
    "\n",
    "# Chapter 8\n",
    "\n",
    "## Comprehensions, Lambdas and Functional Programming\n",
    "\n",
    "#### Topics Covering\n",
    "* List Comprehension\n",
    "    * Creating a list using for loop\n",
    "    * Comprehension to create a list\n",
    "* Tuple Comprehension and generators\n",
    "* Set Comprehension\n",
    "* Dictionary Comprehension\n",
    "* Zip and unzip\n",
    "    * Creating List of tuples\n",
    "    * List of tuples to list of tuple-sequences\n",
    "* Enumerate\n",
    "    * Adding index to a sequence\n",
    "    * Starting custom index\n",
    "* Lambdas\n",
    "* Functional Programming\n",
    "    * map()\n",
    "    * filter()\n",
    "    * reduce()"
   ]
  },
  {
   "cell_type": "markdown",
   "metadata": {},
   "source": [
    "### Comprehension\n",
    "#### List Comprehension\n",
    "Comprehension is a short-hand technique to create data structures in-place dynamically. Comprehensions are faster than their other syntactical counterparts."
   ]
  },
  {
   "cell_type": "markdown",
   "metadata": {},
   "source": [
    "__Creating a list using loop:__"
   ]
  },
  {
   "cell_type": "code",
   "execution_count": 1,
   "metadata": {},
   "outputs": [
    {
     "name": "stdout",
     "output_type": "stream",
     "text": [
      "[1, 2, 3, 4, 5, 6, 7, 8, 9, 10]\n"
     ]
    }
   ],
   "source": [
    "l = []\n",
    "for x in range(1, 11):\n",
    "    l.append(x)\n",
    "print(l)"
   ]
  },
  {
   "cell_type": "markdown",
   "metadata": {},
   "source": [
    "__Comprehension to create a list:__"
   ]
  },
  {
   "cell_type": "code",
   "execution_count": 2,
   "metadata": {},
   "outputs": [
    {
     "name": "stdout",
     "output_type": "stream",
     "text": [
      "[1, 2, 3, 4, 5, 6, 7, 8, 9, 10]\n"
     ]
    }
   ],
   "source": [
    "l = [i for i in range(1, 11)]\n",
    "print (l)"
   ]
  },
  {
   "cell_type": "markdown",
   "metadata": {},
   "source": [
    "__Applying a function in list comprehension:__"
   ]
  },
  {
   "cell_type": "code",
   "execution_count": 3,
   "metadata": {},
   "outputs": [
    {
     "name": "stdout",
     "output_type": "stream",
     "text": [
      "[0.8414709848078965, 0.9092974268256817, 0.1411200080598672, -0.7568024953079282, -0.9589242746631385, -0.27941549819892586, 0.6569865987187891, 0.9893582466233818, 0.4121184852417566, -0.5440211108893698]\n"
     ]
    }
   ],
   "source": [
    "from math import sin\n",
    "l = [sin(i) for i in range(1, 11)]\n",
    "print(l)"
   ]
  },
  {
   "cell_type": "markdown",
   "metadata": {},
   "source": [
    "__round()__: function"
   ]
  },
  {
   "cell_type": "code",
   "execution_count": 4,
   "metadata": {},
   "outputs": [
    {
     "name": "stdout",
     "output_type": "stream",
     "text": [
      "[0.84, 0.91, 0.14, -0.76, -0.96, -0.28, 0.66, 0.99, 0.41, -0.54]\n"
     ]
    }
   ],
   "source": [
    "from math import sin\n",
    "l = [round(sin(i), 2) for i in range(1, 11)]\n",
    "print(l)"
   ]
  },
  {
   "cell_type": "markdown",
   "metadata": {},
   "source": [
    "__Filtering values from an exisiting list:__"
   ]
  },
  {
   "cell_type": "code",
   "execution_count": 5,
   "metadata": {},
   "outputs": [
    {
     "name": "stdout",
     "output_type": "stream",
     "text": [
      "List:\n",
      "[0.84, 0.91, 0.14, -0.76, -0.96, -0.28, 0.66, 0.99, 0.41, -0.54]\n",
      "Filtered List:\n",
      "[0.84, 0.91, 0.14, 0.66, 0.99, 0.41]\n"
     ]
    }
   ],
   "source": [
    "print (\"List:\")\n",
    "print (l)\n",
    "l1 = [x for x in l if x > 0]\n",
    "print ('Filtered List:')\n",
    "print (l1)"
   ]
  },
  {
   "cell_type": "markdown",
   "metadata": {},
   "source": [
    "__Using multiple for loops: Cartesian Product__"
   ]
  },
  {
   "cell_type": "code",
   "execution_count": 6,
   "metadata": {},
   "outputs": [
    {
     "name": "stdout",
     "output_type": "stream",
     "text": [
      "[('a', 'p'), ('a', 'q'), ('b', 'p'), ('b', 'q')]\n"
     ]
    }
   ],
   "source": [
    "cartesian = [(x, y) for x in ['a', 'b'] for y in ['p', 'q']]\n",
    "print (cartesian)"
   ]
  },
  {
   "cell_type": "markdown",
   "metadata": {},
   "source": [
    "Above is equivalent of the below for loop:"
   ]
  },
  {
   "cell_type": "markdown",
   "metadata": {},
   "source": [
    "__Example:__ Converting fahrenheit to celsius using list comprehension"
   ]
  },
  {
   "cell_type": "code",
   "execution_count": 7,
   "metadata": {},
   "outputs": [
    {
     "name": "stdout",
     "output_type": "stream",
     "text": [
      "[7.22, 19.44, 31.67, 22.78, 7.22, 31.67, 45.0]\n"
     ]
    }
   ],
   "source": [
    "temps = [45, 67, 89, 73, 45, 89, 113]\n",
    "cels = [round((f-32.0)/(9.0/5.0), 2) for f in temps]\n",
    "print(cels)"
   ]
  },
  {
   "cell_type": "markdown",
   "metadata": {},
   "source": [
    "__Exercise:__ List of temps less than 27 degrees celsius"
   ]
  },
  {
   "cell_type": "code",
   "execution_count": 8,
   "metadata": {},
   "outputs": [
    {
     "data": {
      "text/plain": [
       "[7.22, 19.44, 22.78, 7.22]"
      ]
     },
     "execution_count": 8,
     "metadata": {},
     "output_type": "execute_result"
    }
   ],
   "source": [
    "[t for t in cels if t < 27]"
   ]
  },
  {
   "cell_type": "markdown",
   "metadata": {},
   "source": [
    "### Tuple comprehension\n",
    "We know that tuples are immutable, then how a tuple is being constructued dynamically. Python creates a generator instead of creating a tuple.\n",
    "\n",
    "Note: Tuple comprehension is a generator"
   ]
  },
  {
   "cell_type": "code",
   "execution_count": 9,
   "metadata": {},
   "outputs": [
    {
     "name": "stdout",
     "output_type": "stream",
     "text": [
      "<generator object <genexpr> at 0x7f0ab9fe8d58>\n"
     ]
    }
   ],
   "source": [
    "gen = (i for i in range(1, 6))\n",
    "print(gen)"
   ]
  },
  {
   "cell_type": "markdown",
   "metadata": {},
   "source": [
    "__next()__ function is used to get the next item in the sequence."
   ]
  },
  {
   "cell_type": "code",
   "execution_count": 10,
   "metadata": {},
   "outputs": [
    {
     "data": {
      "text/plain": [
       "1"
      ]
     },
     "execution_count": 10,
     "metadata": {},
     "output_type": "execute_result"
    }
   ],
   "source": [
    "next(gen)"
   ]
  },
  {
   "cell_type": "markdown",
   "metadata": {
    "collapsed": true
   },
   "source": [
    "### Set Comprehension"
   ]
  },
  {
   "cell_type": "code",
   "execution_count": 11,
   "metadata": {},
   "outputs": [
    {
     "data": {
      "text/plain": [
       "{0, 1, 4, 9, 16, 25, 36, 49, 64, 81}"
      ]
     },
     "execution_count": 11,
     "metadata": {},
     "output_type": "execute_result"
    }
   ],
   "source": [
    "nums = {n**2 for n in range(10)}\n",
    "nums"
   ]
  },
  {
   "cell_type": "markdown",
   "metadata": {},
   "source": [
    "### Zip\n",
    "__Creating list of tuples from more than one sequence__\n",
    "\n",
    "zip() function packs items from multiple sequences into a list of tuples, and we know how to iterates list of tuples.\n",
    "zip() takes len() of the sequence with smallest size and only makes those many iterations. "
   ]
  },
  {
   "cell_type": "code",
   "execution_count": 12,
   "metadata": {},
   "outputs": [
    {
     "name": "stdout",
     "output_type": "stream",
     "text": [
      "(3, 'Q', True)\n",
      "(4, 'P', False)\n",
      "(5, 'A', True)\n",
      "(7, 'Z', True)\n",
      "(1, 'T', False)\n"
     ]
    }
   ],
   "source": [
    "l1 = [3, 4, 5, 7, 1]\n",
    "l2 = [\"Q\", \"P\", \"A\", \"Z\", \"T\", 'K', 'B']\n",
    "l3 = [True, False, True, True, False, True]\n",
    "\n",
    "for t in zip(l1, l2, l3):\n",
    "    print(t)"
   ]
  },
  {
   "cell_type": "code",
   "execution_count": 13,
   "metadata": {},
   "outputs": [
    {
     "data": {
      "text/plain": [
       "<zip at 0x7f0ab9fa9b08>"
      ]
     },
     "execution_count": 13,
     "metadata": {},
     "output_type": "execute_result"
    }
   ],
   "source": [
    "zip(l1, l2, l3)"
   ]
  },
  {
   "cell_type": "markdown",
   "metadata": {},
   "source": [
    "In the above example zip produces only 5 tuples as l1 is the sequence with smallest length."
   ]
  },
  {
   "cell_type": "markdown",
   "metadata": {},
   "source": [
    "__Iterating more than one iterable using zip()__"
   ]
  },
  {
   "cell_type": "code",
   "execution_count": 14,
   "metadata": {},
   "outputs": [
    {
     "name": "stdout",
     "output_type": "stream",
     "text": [
      "3 Q\n",
      "4 P\n",
      "5 A\n",
      "7 Z\n",
      "1 T\n"
     ]
    }
   ],
   "source": [
    "l1 = [3, 4, 5, 7, 1]\n",
    "l2 = [\"Q\", \"P\", \"A\", \"Z\", \"T\", 'K', 'B']\n",
    "\n",
    "for x, y in zip(l1, l2):\n",
    "    print (x, y)"
   ]
  },
  {
   "cell_type": "code",
   "execution_count": 15,
   "metadata": {},
   "outputs": [
    {
     "data": {
      "text/plain": [
       "<zip at 0x7f0ab9fa9dc8>"
      ]
     },
     "execution_count": 15,
     "metadata": {},
     "output_type": "execute_result"
    }
   ],
   "source": [
    "zip(l1, l2)"
   ]
  },
  {
   "cell_type": "markdown",
   "metadata": {},
   "source": [
    "__Working with multiple types for sequences__"
   ]
  },
  {
   "cell_type": "code",
   "execution_count": 16,
   "metadata": {},
   "outputs": [
    {
     "name": "stdout",
     "output_type": "stream",
     "text": [
      "(3, 'A', 9.8)\n",
      "(4, 'p', 3.4)\n",
      "(2, 'p', 4.5)\n",
      "(1, 'l', 6.7)\n"
     ]
    }
   ],
   "source": [
    "l = [3, 4, 2, 1, 9, 6]\n",
    "a = 'Apple'\n",
    "s = {4.5, 6.7, 3.4, 9.8}\n",
    "for x in zip(l, a, s):\n",
    "    print(x)"
   ]
  },
  {
   "cell_type": "code",
   "execution_count": 17,
   "metadata": {},
   "outputs": [
    {
     "data": {
      "text/plain": [
       "[(3, 'Q'), (4, 'P'), (5, 'A'), (7, 'Z'), (1, 'T')]"
      ]
     },
     "execution_count": 17,
     "metadata": {},
     "output_type": "execute_result"
    }
   ],
   "source": [
    "l = [3, 4, 5, 7, 1]\n",
    "s = \"QPAZT\"\n",
    "\n",
    "[x for x in zip(l, s)]"
   ]
  },
  {
   "cell_type": "markdown",
   "metadata": {},
   "source": [
    "__Unzipping into multiple sequences(tuples)__"
   ]
  },
  {
   "cell_type": "code",
   "execution_count": 18,
   "metadata": {},
   "outputs": [],
   "source": [
    "lt = [(3, 'Q'), (4, 'P'), (5, 'A'), (7, 'Z'), (1, 'T')]"
   ]
  },
  {
   "cell_type": "code",
   "execution_count": 19,
   "metadata": {},
   "outputs": [
    {
     "name": "stdout",
     "output_type": "stream",
     "text": [
      "(3, 4, 5, 7, 1)\n",
      "('Q', 'P', 'A', 'Z', 'T')\n"
     ]
    }
   ],
   "source": [
    "for x in zip(*lt):\n",
    "    print(x)"
   ]
  },
  {
   "cell_type": "markdown",
   "metadata": {},
   "source": [
    "__Creating a dict using zip__"
   ]
  },
  {
   "cell_type": "code",
   "execution_count": 20,
   "metadata": {},
   "outputs": [
    {
     "data": {
      "text/plain": [
       "{'A': 3, 'P': 5, 'L': 7, 'E': 1}"
      ]
     },
     "execution_count": 20,
     "metadata": {},
     "output_type": "execute_result"
    }
   ],
   "source": [
    "keys = \"APPLE\"\n",
    "values = [3, 4, 5, 7, 1]\n",
    "dict(zip(keys, values))"
   ]
  },
  {
   "cell_type": "markdown",
   "metadata": {},
   "source": [
    "### enumerate\n",
    "__Associating sequences with positional values, index starting from zero__"
   ]
  },
  {
   "cell_type": "code",
   "execution_count": 21,
   "metadata": {},
   "outputs": [
    {
     "name": "stdout",
     "output_type": "stream",
     "text": [
      "0 -> Q\n",
      "1 -> P\n",
      "2 -> A\n",
      "3 -> Z\n",
      "4 -> T\n"
     ]
    }
   ],
   "source": [
    "l = [\"Q\", \"P\", \"A\", \"Z\", \"T\"]\n",
    "\n",
    "for idx, val in enumerate(l):\n",
    "    print(idx, \"->\", val)"
   ]
  },
  {
   "cell_type": "markdown",
   "metadata": {},
   "source": [
    "__Custom 'start' value__"
   ]
  },
  {
   "cell_type": "code",
   "execution_count": 22,
   "metadata": {},
   "outputs": [
    {
     "name": "stdout",
     "output_type": "stream",
     "text": [
      "1 -> Q\n",
      "2 -> P\n",
      "3 -> A\n",
      "4 -> Z\n",
      "5 -> T\n"
     ]
    }
   ],
   "source": [
    "l = [\"Q\", \"P\", \"A\", \"Z\", \"T\"]\n",
    "for idx, val in enumerate(l, start=1):\n",
    "    print (idx, \"->\", val)"
   ]
  },
  {
   "cell_type": "markdown",
   "metadata": {},
   "source": [
    "### Dict Comprehension\n",
    "\n",
    "Creating a dict using two lists"
   ]
  },
  {
   "cell_type": "code",
   "execution_count": 23,
   "metadata": {},
   "outputs": [
    {
     "name": "stdout",
     "output_type": "stream",
     "text": [
      "{1: 'one', 2: 'Two', 3: 'Three', 4: 'Four', 5: 'Five'}\n"
     ]
    }
   ],
   "source": [
    "keys = [x for x in range(1, 6)]\n",
    "values = ['one', 'Two', 'Three', 'Four', 'Five']\n",
    "d = {k: v for k, v in zip(keys, values)}\n",
    "print(d)"
   ]
  },
  {
   "cell_type": "markdown",
   "metadata": {},
   "source": [
    "Setting default value 0 for all keys"
   ]
  },
  {
   "cell_type": "code",
   "execution_count": 24,
   "metadata": {},
   "outputs": [
    {
     "name": "stdout",
     "output_type": "stream",
     "text": [
      "{'Orange': 0, 'Apple': 0, 'Peach': 0, 'Banana': 0, 'Grape': 0}\n"
     ]
    }
   ],
   "source": [
    "keys = ['Orange', 'Apple', 'Peach', 'Banana', 'Grape']\n",
    "d = {k: 0 for k in keys}\n",
    "print (d)"
   ]
  },
  {
   "cell_type": "markdown",
   "metadata": {},
   "source": [
    "### Functional Programming\n",
    "* map()\n",
    "* filter()\n",
    "* reduce()"
   ]
  },
  {
   "cell_type": "markdown",
   "metadata": {},
   "source": [
    "##### For loop based implementation"
   ]
  },
  {
   "cell_type": "code",
   "execution_count": 25,
   "metadata": {},
   "outputs": [
    {
     "name": "stdout",
     "output_type": "stream",
     "text": [
      "[7.22, 19.44, 31.67, 22.78, 7.22, 31.67, 45.0]\n"
     ]
    }
   ],
   "source": [
    "temps_fahrenheit = [45, 67, 89, 73, 45, 89, 113]\n",
    "\n",
    "# Pure function\n",
    "def fahrenheit_to_celsius(f):\n",
    "    c = (f-32.0)/(9.0/5.0)\n",
    "    return round(c, 2)\n",
    "\n",
    "temps_celsius = []\n",
    "\n",
    "for t in temps_fahrenheit:\n",
    "    temps_celsius.append(fahrenheit_to_celsius(t))\n",
    "\n",
    "print(temps_celsius)"
   ]
  },
  {
   "cell_type": "markdown",
   "metadata": {},
   "source": [
    "##### List Comprehension"
   ]
  },
  {
   "cell_type": "code",
   "execution_count": 27,
   "metadata": {},
   "outputs": [
    {
     "name": "stdout",
     "output_type": "stream",
     "text": [
      "[7.22, 19.44, 31.67, 22.78, 7.22, 31.67, 45.0]\n"
     ]
    }
   ],
   "source": [
    "temps_fahrenheit = [45, 67, 89, 73, 45, 89, 113]\n",
    "\n",
    "def fahrenheit_to_celsius(f):\n",
    "    c = (f-32.0)/(9.0/5.0)\n",
    "    return round(c, 2)\n",
    "\n",
    "temps_celsius = [fahrenheit_to_celsius(t) for t in temps_fahrenheit]\n",
    "print (temps_celsius)"
   ]
  },
  {
   "cell_type": "markdown",
   "metadata": {},
   "source": [
    "##### Using map()"
   ]
  },
  {
   "cell_type": "code",
   "execution_count": 28,
   "metadata": {},
   "outputs": [
    {
     "name": "stdout",
     "output_type": "stream",
     "text": [
      "7.22\n",
      "19.44\n",
      "31.67\n",
      "22.78\n",
      "7.22\n",
      "31.67\n",
      "45.0\n"
     ]
    }
   ],
   "source": [
    "temps_fahrenheit = [45, 67, 89, 73, 45, 89, 113]\n",
    "\n",
    "def fahrenheit_to_celsius(f):\n",
    "    c = (f-32.0)/(9.0/5.0)\n",
    "    return round(c, 2)\n",
    "\n",
    "temps_celsius = map(fahrenheit_to_celsius, temps_fahrenheit)\n",
    "# print(temps_celsius) # temps_celsius is a generator\n",
    "for x in temps_celsius:\n",
    "    print(x)"
   ]
  },
  {
   "cell_type": "code",
   "execution_count": 29,
   "metadata": {},
   "outputs": [
    {
     "data": {
      "text/plain": [
       "<map at 0x7f0ab973fc88>"
      ]
     },
     "execution_count": 29,
     "metadata": {},
     "output_type": "execute_result"
    }
   ],
   "source": [
    "temps_celsius = map(fahrenheit_to_celsius, temps_fahrenheit)\n",
    "temps_celsius"
   ]
  },
  {
   "cell_type": "code",
   "execution_count": 30,
   "metadata": {},
   "outputs": [
    {
     "data": {
      "text/plain": [
       "[7.22, 19.44, 31.67, 22.78, 7.22, 31.67, 45.0]"
      ]
     },
     "execution_count": 30,
     "metadata": {},
     "output_type": "execute_result"
    }
   ],
   "source": [
    "[x for x in map(fahrenheit_to_celsius, temps_fahrenheit)]"
   ]
  },
  {
   "cell_type": "code",
   "execution_count": 31,
   "metadata": {},
   "outputs": [
    {
     "data": {
      "text/plain": [
       "100"
      ]
     },
     "execution_count": 31,
     "metadata": {},
     "output_type": "execute_result"
    }
   ],
   "source": [
    "x = 0\n",
    "y = 20\n",
    "x = 20 if y > 30 else 100\n",
    "x"
   ]
  },
  {
   "cell_type": "markdown",
   "metadata": {},
   "source": [
    "__Using filter()__"
   ]
  },
  {
   "cell_type": "code",
   "execution_count": 32,
   "metadata": {},
   "outputs": [
    {
     "data": {
      "text/plain": [
       "[4, 2]"
      ]
     },
     "execution_count": 32,
     "metadata": {},
     "output_type": "execute_result"
    }
   ],
   "source": [
    "l = [3, 4, 1, 2, 5, 7]\n",
    "\n",
    "def iseven(v): return True if v%2 == 0 else False\n",
    "\n",
    "[x for x in filter(iseven, l)]"
   ]
  },
  {
   "cell_type": "code",
   "execution_count": 33,
   "metadata": {},
   "outputs": [
    {
     "name": "stdout",
     "output_type": "stream",
     "text": [
      "\n",
      "Temps more than room temp:\n",
      "31.67\n",
      "31.67\n",
      "45.0\n"
     ]
    }
   ],
   "source": [
    "temps_fahrenheit = [45, 67, 89, 73, 45, 89, 113]\n",
    "\n",
    "def fahrenheit_to_celsius(f):\n",
    "    c = (f-32.0)/(9.0/5.0)\n",
    "    return round(c, 2)\n",
    "\n",
    "temps_celsius = map(fahrenheit_to_celsius, temps_fahrenheit)\n",
    "\n",
    "room_temp = 27\n",
    "\n",
    "def more_than_room_temp(t):\n",
    "    return True if t > room_temp else False\n",
    "\n",
    "print('\\nTemps more than room temp:')\n",
    "for x in filter(more_than_room_temp, temps_celsius):\n",
    "    print(x)"
   ]
  },
  {
   "cell_type": "markdown",
   "metadata": {},
   "source": [
    "__Using reduce()__"
   ]
  },
  {
   "cell_type": "code",
   "execution_count": 34,
   "metadata": {},
   "outputs": [
    {
     "data": {
      "text/plain": [
       "45"
      ]
     },
     "execution_count": 34,
     "metadata": {},
     "output_type": "execute_result"
    }
   ],
   "source": [
    "from functools import reduce\n",
    "\n",
    "def add(x, y):\n",
    "    return x + y\n",
    "\n",
    "reduce(add, [5, 6, 7, 8, 9, 1, 9])"
   ]
  },
  {
   "cell_type": "code",
   "execution_count": 35,
   "metadata": {},
   "outputs": [],
   "source": [
    "import random"
   ]
  },
  {
   "cell_type": "code",
   "execution_count": 36,
   "metadata": {},
   "outputs": [],
   "source": [
    "l = random.sample(range(1000,10000), 1000)\n",
    "def mymax(x, y):\n",
    "    return x if x > y else y\n",
    "max_vals = [x for x in map(max, [l[:250], l[250:500], l[500:750], l[750:]])]"
   ]
  },
  {
   "cell_type": "code",
   "execution_count": 37,
   "metadata": {},
   "outputs": [
    {
     "data": {
      "text/plain": [
       "9974"
      ]
     },
     "execution_count": 37,
     "metadata": {},
     "output_type": "execute_result"
    }
   ],
   "source": [
    "reduce(mymax, max_vals)"
   ]
  },
  {
   "cell_type": "code",
   "execution_count": 38,
   "metadata": {},
   "outputs": [
    {
     "data": {
      "text/plain": [
       "9974"
      ]
     },
     "execution_count": 38,
     "metadata": {},
     "output_type": "execute_result"
    }
   ],
   "source": [
    "max(l)"
   ]
  },
  {
   "cell_type": "markdown",
   "metadata": {},
   "source": [
    "__Note:__ We should pass a callable object or function to reduce() function, which must take 2 parameters and return one value"
   ]
  },
  {
   "cell_type": "code",
   "execution_count": 39,
   "metadata": {},
   "outputs": [
    {
     "ename": "TypeError",
     "evalue": "add() missing 1 required positional argument: 'z'",
     "output_type": "error",
     "traceback": [
      "\u001b[0;31m---------------------------------------------------------------------------\u001b[0m",
      "\u001b[0;31mTypeError\u001b[0m                                 Traceback (most recent call last)",
      "\u001b[0;32m<ipython-input-39-321da66c57b3>\u001b[0m in \u001b[0;36m<module>\u001b[0;34m\u001b[0m\n\u001b[1;32m      4\u001b[0m     \u001b[0;32mreturn\u001b[0m \u001b[0mx\u001b[0m \u001b[0;34m+\u001b[0m \u001b[0my\u001b[0m \u001b[0;34m+\u001b[0m \u001b[0mz\u001b[0m\u001b[0;34m\u001b[0m\u001b[0m\n\u001b[1;32m      5\u001b[0m \u001b[0;34m\u001b[0m\u001b[0m\n\u001b[0;32m----> 6\u001b[0;31m \u001b[0mfunctools\u001b[0m\u001b[0;34m.\u001b[0m\u001b[0mreduce\u001b[0m\u001b[0;34m(\u001b[0m\u001b[0madd\u001b[0m\u001b[0;34m,\u001b[0m \u001b[0;34m[\u001b[0m\u001b[0;36m5\u001b[0m\u001b[0;34m,\u001b[0m \u001b[0;36m6\u001b[0m\u001b[0;34m,\u001b[0m \u001b[0;36m7\u001b[0m\u001b[0;34m,\u001b[0m \u001b[0;36m8\u001b[0m\u001b[0;34m,\u001b[0m \u001b[0;36m9\u001b[0m\u001b[0;34m,\u001b[0m \u001b[0;36m1\u001b[0m\u001b[0;34m,\u001b[0m \u001b[0;36m9\u001b[0m\u001b[0;34m]\u001b[0m\u001b[0;34m)\u001b[0m\u001b[0;34m\u001b[0m\u001b[0m\n\u001b[0m",
      "\u001b[0;31mTypeError\u001b[0m: add() missing 1 required positional argument: 'z'"
     ]
    }
   ],
   "source": [
    "import functools\n",
    "\n",
    "def add(x, y, z):\n",
    "    return x + y + z\n",
    "\n",
    "functools.reduce(add, [5, 6, 7, 8, 9, 1, 9])"
   ]
  },
  {
   "cell_type": "markdown",
   "metadata": {},
   "source": [
    "We can use variable arguments function in reduce(), but that doesn't help any, as reduce() passes exactly two values to the callable object. We cannot control this."
   ]
  },
  {
   "cell_type": "code",
   "execution_count": 41,
   "metadata": {},
   "outputs": [
    {
     "name": "stdout",
     "output_type": "stream",
     "text": [
      "2\n",
      "2\n",
      "2\n",
      "2\n",
      "2\n",
      "2\n"
     ]
    },
    {
     "data": {
      "text/plain": [
       "45"
      ]
     },
     "execution_count": 41,
     "metadata": {},
     "output_type": "execute_result"
    }
   ],
   "source": [
    "import functools\n",
    "def add(*args):\n",
    "    print (len(args))\n",
    "    return sum(args)\n",
    "\n",
    "functools.reduce(add, [5, 6, 7, 8, 9, 1, 9])"
   ]
  },
  {
   "cell_type": "markdown",
   "metadata": {
    "collapsed": true
   },
   "source": [
    "#### Using lambdas\n",
    "* lambda is anonymous function\n",
    "* lambda is inline function\n",
    "* lambda is single line function\n",
    "\n",
    "Whenever we need use-and-throw functions(only one-time usage), lambdas are preferrable.\n",
    "\n",
    "Syntax:<br>\n",
    "```python\n",
    " lambda params: expression\n",
    "```"
   ]
  },
  {
   "cell_type": "code",
   "execution_count": 42,
   "metadata": {},
   "outputs": [
    {
     "data": {
      "text/plain": [
       "16"
      ]
     },
     "execution_count": 42,
     "metadata": {},
     "output_type": "execute_result"
    }
   ],
   "source": [
    "f = lambda x: x*x\n",
    "f(4)"
   ]
  },
  {
   "cell_type": "code",
   "execution_count": 43,
   "metadata": {},
   "outputs": [
    {
     "data": {
      "text/plain": [
       "20"
      ]
     },
     "execution_count": 43,
     "metadata": {},
     "output_type": "execute_result"
    }
   ],
   "source": [
    "f = lambda x, y: x*y\n",
    "f(4,5)"
   ]
  },
  {
   "cell_type": "markdown",
   "metadata": {},
   "source": [
    "In python, __lambda__s are used along with functional tools, __map()__, __reduce()__ and __filter()__.\n",
    "\n",
    "Above code can be re written using lambdas as below,"
   ]
  },
  {
   "cell_type": "code",
   "execution_count": 44,
   "metadata": {
    "scrolled": true
   },
   "outputs": [
    {
     "name": "stdout",
     "output_type": "stream",
     "text": [
      "Temps in celsius: <map object at 0x7f0ab9740630>\n",
      "[7.22, 19.44, 31.67, 22.78, 7.22, 31.67, 45.0]\n",
      "Temps > room temperature: <filter object at 0x7f0ab97405c0>\n",
      "[31.67, 31.67, 45.0]\n",
      "Aggregate value:  36\n"
     ]
    }
   ],
   "source": [
    "temps_fahrenheit = [45, 67, 89, 73, 45, 89, 113]\n",
    "room_temp = 27\n",
    "\n",
    "temps_celsius = map(lambda t: round((t-32.0)/(9.0/5.0), 2), temps_fahrenheit)\n",
    "print ('Temps in celsius:', temps_celsius)\n",
    "temps = [x for x in temps_celsius]\n",
    "print(temps)\n",
    "vals = filter(lambda t: True if t > room_temp else False, temps)\n",
    "print ('Temps > room temperature:', vals)\n",
    "print([x for x in vals])\n",
    "       \n",
    "from functools import reduce\n",
    "cum_sum = reduce(lambda x, y: x+y, [5, 6, 7, 8, 9, 1])\n",
    "print ('Aggregate value: ', cum_sum)"
   ]
  },
  {
   "cell_type": "markdown",
   "metadata": {
    "collapsed": true
   },
   "source": [
    "## Interview Questions"
   ]
  },
  {
   "cell_type": "markdown",
   "metadata": {},
   "source": [
    "1. What is lambda?\n",
    "2. What is map(), reduce and filter()\n",
    "3. list comprehension vs tuple comprehension\n",
    "3. What zip() function does?\n",
    "4. What is unzipping()\n",
    "5. list comprehension vs map() vs for loop which is faster?"
   ]
  }
 ],
 "metadata": {
  "anaconda-cloud": {},
  "kernelspec": {
   "display_name": "Python 3",
   "language": "python",
   "name": "python3"
  },
  "language_info": {
   "codemirror_mode": {
    "name": "ipython",
    "version": 3
   },
   "file_extension": ".py",
   "mimetype": "text/x-python",
   "name": "python",
   "nbconvert_exporter": "python",
   "pygments_lexer": "ipython3",
   "version": "3.6.6"
  }
 },
 "nbformat": 4,
 "nbformat_minor": 1
}
