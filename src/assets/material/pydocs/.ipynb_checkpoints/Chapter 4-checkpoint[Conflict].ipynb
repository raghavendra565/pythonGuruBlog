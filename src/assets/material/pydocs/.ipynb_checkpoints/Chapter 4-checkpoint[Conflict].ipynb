{
 "cells": [
  {
   "cell_type": "markdown",
   "metadata": {},
   "source": [
    "\n",
    "### Python Programming\n",
    "##### by Narendra Allam\n",
    "# Chapter 4\n",
    "\n",
    "## Data Structures\n",
    "\n",
    "#### Topics covering in this chapter\n",
    "- list\n",
    "    - list Operations and functions\n",
    "    - Creating a Stack (LIFO) using list\n",
    "    - Iteration\n",
    "    - Unpacking\n",
    "- tuple\n",
    "    - Differences with list\n",
    "    - Similarities with list\n",
    "- List vs Tuple\n",
    "- list of tuples - frequently used construct\n",
    "    - iterating\n",
    "    - sorting\n",
    "    - largest\n",
    "    - smallest\n",
    "    - enumerate\n",
    "    - zip and unzip\n",
    "- Set\n",
    "  - Introduction to set\n",
    "  - How set removes duplicates?\n",
    "  - Set functions\n",
    "    - Searching for an element\n",
    "      - 'in' operator - The fastest\n",
    "    - Adding an element\n",
    "      - add()\n",
    "    - Removing an element\n",
    "      - remove()\n",
    "      - discard()\n",
    "      - pop()\n",
    "\n",
    "    - Relation between two sets\n",
    "      - intersection()\n",
    "      - union()\n",
    "      - difference()\n",
    "      - isdisjoint()\n",
    "      - issubset()\n",
    "      - issuperset()\n",
    "    - Merging two sets\n",
    "      - update()\n",
    "  - Why tuples are hashable but not lists?\n",
    "  - Set Use-Cases\n",
    "      - Removing duplicates from a list\n",
    "      - Fastest lookups\n",
    "      - Intersections, Unions, Difference and set relations\n",
    "\n",
    "- Dictionary\n",
    "  - Introduction of Dictionary - Associative data structure\n",
    "  - Creating a Dictionary\n",
    "  - Adding elements to Dictionary\n",
    "  - Deleting key value pair\n",
    "  - Updating / extending a Dictionary\n",
    "  - Iterating through a Dictionary\n",
    "  - Tuple unpacking method\n",
    "  - Converting list of tuples into Dictionary\n",
    "  - Converting Dictionary to List of tuples\n",
    "  - Lambda introduction\n",
    "  - Sorting List of tuples and dictionaries\n",
    "  - Finding max(), min() in a dict\n",
    "  - Wherever you go, dictionary follows you!\n",
    "  - Dictionary Use-Cases\n",
    "      - Counting Problem\n",
    "      - Grouping Problem\n",
    "      - Always Latest\n",
    "      - Caching\n",
    "      \n",
    "- Counter() \n",
    "    - simplest counting algorithm\n",
    "- DefaultDict \n",
    "    - Always has a value\n",
    "- OrderedDict \n",
    "    - Maintains order\n",
    "- Dequeue \n",
    "    - Short time memory loss\n",
    "\n",
    "- Heapq \n",
    "    - efficient in-memory min-heap()\n",
    "    - heapify()\n",
    "    - nlargest()\n",
    "    - nsmallest()\n",
    "    - heappush()\n",
    "    - heappop()\n",
    "  \n",
    "- ForzenSet\n",
    "    - Hashable set\n",
    "    - Use-Cases\n",
    "        - Set of sets\n",
    "        - Set as Key in Dict\n",
    "    \n",
    "- Packing and Unpacking\n",
    "  - Swapping two values\n",
    "  - List packing and Unpacking\n",
    "  - Tuple packing and Unpacking\n",
    "  - String packing and Unpacking\n",
    "  - Set packing and Unpacking\n",
    "  \n",
    "- Iterating containers using iter() and next()"
   ]
  },
  {
   "cell_type": "markdown",
   "metadata": {},
   "source": [
    "## Introduction\n",
    "Data structure is a particular way of organizing data in memory, so that it can be searched, retrieved, stored and processed efficiently. Any data structure is designed to organize data to suit a specific purpose. General data structure types include the list, the tree, the graph and so on. Python has its own set of efficiently implemented butil-in data structures.\n",
    "\n",
    "\n",
    "## List\n",
    "List is a collection of elements(python objects). Purpose of list is, to group up the things, which falls under same category. e.g,<br>\n",
    "\n",
    "List of grocery items,<br>\n",
    "List of employee ids,<br>\n",
    "list of book names etc.<br>\n",
    "\n",
    "As group of similar elements stored in a list, mostly those are homogenous(of same data type).\n",
    "\n",
    "Creating a list in python is putting different comma-separated values, between square brackets. <br>\n",
    "\n",
    "Eventhough list principle suggests homogeneous data items in it, it is not mandatory and still allowed to have different types.\n",
    "\n",
    "For example −<br>\n",
    "``` python\n",
    "\n",
    "l1 = [30, 32, 31, 35, 30, 36, 34]\n",
    "l2 = [1234, 'John', 230000.05, True] # Supports multiple types\n",
    "l3 = [] # empty list\n",
    "l4 = [4] # list with single value\n",
    "l5 = list()\n",
    "l6 = list([4, 5, 6])\n",
    "```\n",
    "\n",
    "* List is mutable.\n",
    "\n",
    "* **IQ: Python list is implemented using dynamically resizable array(vector in C++,Java etc.).\n",
    "* List uses indexing to access values.\n",
    "* Search operation on an unsorted list is O(n) operation.\n",
    "* **IQ: lists  are un-hashable\n",
    "* type of list is 'list'"
   ]
  },
  {
   "cell_type": "markdown",
   "metadata": {},
   "source": [
    "Each element in a list can be accessed using square brackets enclosing its positional value called indexing. <br>\n",
    "In the below list fruits, \n",
    "```python\n",
    "fruits = [\"Apple\", \"Orange\", \"Banana\", \"Peach\", \"grape\"] \n",
    "```\n",
    "fruits[0] refers \"Apple\", <br>\n",
    "fruits[1] refers \"Orange\",  <br>\n",
    "fruits[2] refers \"Banana\",  <br>\n",
    "and so on.. <br>"
   ]
  },
  {
   "cell_type": "code",
   "execution_count": null,
   "metadata": {
    "collapsed": false
   },
   "outputs": [],
   "source": [
    "fruits = [\"Apple\", \"Orange\", \"Banana\", \"Peach\", \"grape\"]\n",
    "print fruits[0]"
   ]
  },
  {
   "cell_type": "code",
   "execution_count": null,
   "metadata": {
    "collapsed": false
   },
   "outputs": [],
   "source": [
    "print fruits[1]"
   ]
  },
  {
   "cell_type": "code",
   "execution_count": null,
   "metadata": {
    "collapsed": false
   },
   "outputs": [],
   "source": [
    "print fruits[5]"
   ]
  },
  {
   "cell_type": "markdown",
   "metadata": {},
   "source": [
    "As starting index is 0, Last item index is 4, not 5, so we get IndexError."
   ]
  },
  {
   "cell_type": "markdown",
   "metadata": {},
   "source": [
    "#### list Operations and Functions"
   ]
  },
  {
   "cell_type": "markdown",
   "metadata": {},
   "source": [
    "_Finding length of a list:_"
   ]
  },
  {
   "cell_type": "code",
   "execution_count": null,
   "metadata": {
    "collapsed": false
   },
   "outputs": [],
   "source": [
    "l = [3, 4, 5, 8, 2, 1]\n",
    "print len(l)"
   ]
  },
  {
   "cell_type": "markdown",
   "metadata": {},
   "source": [
    "_modifying value at index i:_"
   ]
  },
  {
   "cell_type": "code",
   "execution_count": null,
   "metadata": {
    "collapsed": false
   },
   "outputs": [],
   "source": [
    "i = 3\n",
    "l = [6, 4, 5, 8, 2, 1]\n",
    "l[i] = 99\n",
    "print l"
   ]
  },
  {
   "cell_type": "markdown",
   "metadata": {},
   "source": [
    "_Adding an element at the end:_"
   ]
  },
  {
   "cell_type": "code",
   "execution_count": null,
   "metadata": {
    "collapsed": false
   },
   "outputs": [],
   "source": [
    "l = [6, 4, 5, 8, 2, 1]\n",
    "l.append(99)\n",
    "print l"
   ]
  },
  {
   "cell_type": "markdown",
   "metadata": {},
   "source": [
    "_Adding an element at a specific location:_\n",
    "\n",
    "insert(index, value): takes index and value"
   ]
  },
  {
   "cell_type": "code",
   "execution_count": null,
   "metadata": {
    "collapsed": false
   },
   "outputs": [],
   "source": [
    "l = [6, 4, 5, 8, 2, 1]\n",
    "l.insert(3, 99)\n",
    "print l"
   ]
  },
  {
   "cell_type": "markdown",
   "metadata": {},
   "source": [
    "_Deleting an element from the end:_\n",
    "\n",
    "pop() removes the elements from the end by default, and returns"
   ]
  },
  {
   "cell_type": "code",
   "execution_count": null,
   "metadata": {
    "collapsed": false
   },
   "outputs": [],
   "source": [
    "l = [6, 4, 5, 8, 2, 1]\n",
    "rem = l.pop()\n",
    "print 'Element removed is:', rem\n",
    "print l"
   ]
  },
  {
   "cell_type": "markdown",
   "metadata": {},
   "source": [
    "_Deleting an element from a specific location:_\n",
    "\n",
    "pop() also takes an index, removes the element and returns. Throws error if index is invalid."
   ]
  },
  {
   "cell_type": "code",
   "execution_count": null,
   "metadata": {
    "collapsed": false
   },
   "outputs": [],
   "source": [
    "l = [6, 4, 5, 8, 2, 1]\n",
    "rem = l.pop(3)\n",
    "print 'Element removed is:', rem\n",
    "print l"
   ]
  },
  {
   "cell_type": "markdown",
   "metadata": {},
   "source": [
    "_Find and delete an element with specified value:_\n",
    "\n",
    "remove() doesn't return a value. It simply removes the first occurance of the value. Throws ValueError if element not found."
   ]
  },
  {
   "cell_type": "code",
   "execution_count": null,
   "metadata": {
    "collapsed": true
   },
   "outputs": [],
   "source": [
    "l = [6, 4, 5, 8, 2, 1, 8, 7]\n",
    "l.remove(8)\n",
    "print l"
   ]
  },
  {
   "cell_type": "code",
   "execution_count": null,
   "metadata": {
    "collapsed": false
   },
   "outputs": [],
   "source": [
    "l = [6, 4, 5, 8, 2, 1, 8, 7]\n",
    "l.remove(99)\n",
    "print l"
   ]
  },
  {
   "cell_type": "markdown",
   "metadata": {},
   "source": [
    "_Iterating a list using while:_"
   ]
  },
  {
   "cell_type": "code",
   "execution_count": null,
   "metadata": {
    "collapsed": false
   },
   "outputs": [],
   "source": [
    "i = 0\n",
    "l = [6, 4, 5, 8, 2]\n",
    "while i < len(l):\n",
    "    print l[i]\n",
    "    i += 1"
   ]
  },
  {
   "cell_type": "markdown",
   "metadata": {},
   "source": [
    "_Iterating a list using for:_ Pythonic Way!"
   ]
  },
  {
   "cell_type": "code",
   "execution_count": null,
   "metadata": {
    "collapsed": false,
    "scrolled": true
   },
   "outputs": [],
   "source": [
    "l = [6, 4, 5, 8, 2]\n",
    "for x in l:\n",
    "    print x"
   ]
  },
  {
   "cell_type": "markdown",
   "metadata": {},
   "source": [
    "__Program:__ Square each element in the list and print."
   ]
  },
  {
   "cell_type": "code",
   "execution_count": null,
   "metadata": {
    "collapsed": false,
    "scrolled": true
   },
   "outputs": [],
   "source": [
    "l = [6, 4, 5, 8, 2]\n",
    "for x in l:\n",
    "    print x*x"
   ]
  },
  {
   "cell_type": "markdown",
   "metadata": {},
   "source": [
    "__Program:__ Square each element in the list and save it back to its location."
   ]
  },
  {
   "cell_type": "code",
   "execution_count": null,
   "metadata": {
    "collapsed": false
   },
   "outputs": [],
   "source": [
    "l = [6, 4, 5, 8, 2]\n",
    "for x in l:\n",
    "    x = x*x\n",
    "print l"
   ]
  },
  {
   "cell_type": "markdown",
   "metadata": {},
   "source": [
    "Original list cannot be changed as x is just a copy of each element in that iteration."
   ]
  },
  {
   "cell_type": "markdown",
   "metadata": {},
   "source": [
    "_Solution.1:_"
   ]
  },
  {
   "cell_type": "code",
   "execution_count": null,
   "metadata": {
    "collapsed": false
   },
   "outputs": [],
   "source": [
    "i = 0\n",
    "l = [6, 4, 5, 8, 2]\n",
    "while i < len(l):\n",
    "    l[i] = l[i]*l[i]\n",
    "    i += 1\n",
    "print l"
   ]
  },
  {
   "cell_type": "markdown",
   "metadata": {},
   "source": [
    "__enumerate()__:\n",
    "    enumerate function adds a sequence number starts from zero, to each item in the sequence, packs as a tuple and returns in each iteration. In each iteration enumerate() retruns tuple([seq_num, cur_item]). This is very useful when we want to track the indices while iterating sequence."
   ]
  },
  {
   "cell_type": "code",
   "execution_count": null,
   "metadata": {
    "collapsed": false
   },
   "outputs": [],
   "source": [
    "fruits = [\"Apple\", \"Orange\", \"Grape\", \"Banana\", \"Peach\"]\n",
    "\n",
    "for idx, fruit in enumerate(fruits):\n",
    "    print idx, fruit"
   ]
  },
  {
   "cell_type": "markdown",
   "metadata": {},
   "source": [
    "We can also have a custom start value for sequence as below,"
   ]
  },
  {
   "cell_type": "code",
   "execution_count": null,
   "metadata": {
    "collapsed": false
   },
   "outputs": [],
   "source": [
    "fruits = [\"Apple\", \"Orange\", \"Grape\", \"Banana\", \"Peach\"]\n",
    "\n",
    "for idx, fruit in enumerate(fruits, start=1):\n",
    "    print idx, fruit"
   ]
  },
  {
   "cell_type": "markdown",
   "metadata": {},
   "source": [
    "_Solution.2: Using for loop_ "
   ]
  },
  {
   "cell_type": "code",
   "execution_count": null,
   "metadata": {
    "collapsed": false
   },
   "outputs": [],
   "source": [
    "l = [6, 4, 5, 8, 2]\n",
    "for i, x in enumerate(l):\n",
    "    l[i] = x*x\n",
    "print l"
   ]
  },
  {
   "cell_type": "markdown",
   "metadata": {},
   "source": [
    "_Multiplying list with a scalar:_"
   ]
  },
  {
   "cell_type": "code",
   "execution_count": null,
   "metadata": {
    "collapsed": false
   },
   "outputs": [],
   "source": [
    "l = [3, 4, 6]\n",
    "print l * 3"
   ]
  },
  {
   "cell_type": "markdown",
   "metadata": {},
   "source": [
    "_Concatenating two lists:_"
   ]
  },
  {
   "cell_type": "code",
   "execution_count": null,
   "metadata": {
    "collapsed": false
   },
   "outputs": [],
   "source": [
    "l1 = [3, 4, 6] \n",
    "l2 = [7, 8, 9]\n",
    "\n",
    "print l1 + l2"
   ]
  },
  {
   "cell_type": "markdown",
   "metadata": {},
   "source": [
    "__List functions:__\n",
    "\n",
    "_Searching for an element: the 'in' operator_"
   ]
  },
  {
   "cell_type": "code",
   "execution_count": null,
   "metadata": {
    "collapsed": false
   },
   "outputs": [],
   "source": [
    "l = [3, 4, 5, 6, 1, 9, 10, 8]\n",
    "x = 7\n",
    "print x in l"
   ]
  },
  {
   "cell_type": "markdown",
   "metadata": {},
   "source": [
    "__Creating a Stack (LIFO) using list:__\n",
    "\n",
    "Stack is a data structure in which, insertion and deletion operations follow the pattern, Last-In-First-Out. A list, in which, insertion and deletion operations are restricted to one end (front or rear) is called as Stack. We can achieve this using l.append() and l.pop(). Generally insertion is called 'push' operation and deletion is called 'pop' operation."
   ]
  },
  {
   "cell_type": "code",
   "execution_count": null,
   "metadata": {
    "collapsed": false
   },
   "outputs": [],
   "source": [
    "stack = list([2, 4, 3])\n",
    "print stack\n",
    "stack.append(5)\n",
    "print stack\n",
    "stack.append(6)\n",
    "print stack\n",
    "stack.pop()\n",
    "print stack\n",
    "stack.pop()\n",
    "print stack"
   ]
  },
  {
   "cell_type": "markdown",
   "metadata": {},
   "source": [
    "__Creating a Queue (FIFO) using list:__\n",
    "Queue is a data structure in which, insertion and deletion operations follow the pattern, First-In-First-Out. A list, in which, insertion and deletion operations are restricted to seperate ends (generally delete front and insert rear) is called as Queue. We can achieve this using l.append() and l.pop(0). Generally insertion is called 'enque' operation and deletion is called 'deque' operation."
   ]
  },
  {
   "cell_type": "code",
   "execution_count": null,
   "metadata": {
    "collapsed": false
   },
   "outputs": [],
   "source": [
    "queue = list([2, 4, 3])\n",
    "print queue\n",
    "queue.append(5)\n",
    "print queue\n",
    "queue.append(6)\n",
    "print queue\n",
    "queue.pop(0)\n",
    "print queue\n",
    "queue.pop(0)\n",
    "print queue"
   ]
  },
  {
   "cell_type": "markdown",
   "metadata": {},
   "source": [
    "_Extending a list with other:_"
   ]
  },
  {
   "cell_type": "code",
   "execution_count": null,
   "metadata": {
    "collapsed": false
   },
   "outputs": [],
   "source": [
    "l = [3, 4, 5]\n",
    "s = [99, 55, 88]\n",
    "l.extend(s)\n",
    "print l"
   ]
  },
  {
   "cell_type": "markdown",
   "metadata": {},
   "source": [
    "Instead of extend, if we use append(), list s, becomes an individual element in the list l."
   ]
  },
  {
   "cell_type": "code",
   "execution_count": null,
   "metadata": {
    "collapsed": false
   },
   "outputs": [],
   "source": [
    "l = [3, 4, 5]\n",
    "s = [99, 55, 88]\n",
    "l.append(s)\n",
    "print l"
   ]
  },
  {
   "cell_type": "markdown",
   "metadata": {},
   "source": [
    "now type(l[3]) is a list instead an int"
   ]
  },
  {
   "cell_type": "code",
   "execution_count": null,
   "metadata": {
    "collapsed": false
   },
   "outputs": [],
   "source": [
    "type(l[3])"
   ]
  },
  {
   "cell_type": "markdown",
   "metadata": {},
   "source": [
    "__Find the index of the given element__\n",
    "\n",
    "If element found, index() function returns the index of first occurance, else 'ValueError'"
   ]
  },
  {
   "cell_type": "code",
   "execution_count": null,
   "metadata": {
    "collapsed": false
   },
   "outputs": [],
   "source": [
    "l = [6, 7, 9, 5, 2]\n",
    "print l.index(5)"
   ]
  },
  {
   "cell_type": "markdown",
   "metadata": {},
   "source": [
    "__Reversing a list:__\n",
    "\n",
    "reverse() function changes the list in-place."
   ]
  },
  {
   "cell_type": "code",
   "execution_count": null,
   "metadata": {
    "collapsed": false
   },
   "outputs": [],
   "source": [
    "l = [3, 4, 5, 2, 1]\n",
    "l.reverse()\n",
    "print l"
   ]
  },
  {
   "cell_type": "markdown",
   "metadata": {},
   "source": [
    "__Reversing list using slicing__\n",
    "\n",
    "This doesn't change original list, afterall, it is just a view of the original."
   ]
  },
  {
   "cell_type": "code",
   "execution_count": null,
   "metadata": {
    "collapsed": false
   },
   "outputs": [],
   "source": [
    "l = [3, 4, 5, 2, 1]\n",
    "print l[::-1]\n",
    "print l"
   ]
  },
  {
   "cell_type": "markdown",
   "metadata": {},
   "source": [
    "__Sorting a list__\n",
    "\n",
    "__**Note:__ Python uses 'Tim Sort' algorithm, which is one of the stable sorting algorithms. It is a combination of 'merge sort' and 'insertion sort'."
   ]
  },
  {
   "cell_type": "code",
   "execution_count": null,
   "metadata": {
    "collapsed": false
   },
   "outputs": [],
   "source": [
    "l = [6, 7, 9, 5, 1, 2, 5, 4, 3]\n",
    "l.sort()\n",
    "print l"
   ]
  },
  {
   "cell_type": "markdown",
   "metadata": {},
   "source": [
    "_Sorting in decreasing order:_"
   ]
  },
  {
   "cell_type": "code",
   "execution_count": null,
   "metadata": {
    "collapsed": false
   },
   "outputs": [],
   "source": [
    "l = [6, 7, 9, 5, 1, 2, 5, 4, 3]\n",
    "l.sort(reverse=True) \n",
    "print l"
   ]
  },
  {
   "cell_type": "markdown",
   "metadata": {},
   "source": [
    "##### Unpacking:\n",
    "Unpacking is the process of extracting values from a sequence and assigning them to correponding variables on the other side."
   ]
  },
  {
   "cell_type": "code",
   "execution_count": null,
   "metadata": {
    "collapsed": false
   },
   "outputs": [],
   "source": [
    "l = [2, 3, 4]\n",
    "x, y, z = l\n",
    "print \"x:{} y:{} z:{}\".format(x, y, z)"
   ]
  },
  {
   "cell_type": "markdown",
   "metadata": {},
   "source": [
    "##### Slicing:"
   ]
  },
  {
   "cell_type": "code",
   "execution_count": null,
   "metadata": {
    "collapsed": false
   },
   "outputs": [],
   "source": [
    "l = [2, 4, 3, 1, 7, 9, 8, 0, 6, 5]\n",
    "print l[:5]"
   ]
  },
  {
   "cell_type": "code",
   "execution_count": null,
   "metadata": {
    "collapsed": false
   },
   "outputs": [],
   "source": [
    "l = [2, 4, 3, 1, 7, 9, 8, 0, 6, 5]\n",
    "print l[7:]"
   ]
  },
  {
   "cell_type": "code",
   "execution_count": null,
   "metadata": {
    "collapsed": false
   },
   "outputs": [],
   "source": [
    "print l[-3:]"
   ]
  },
  {
   "cell_type": "markdown",
   "metadata": {},
   "source": [
    "##### List Comparisions:\n",
    "_'==' operator:_\n",
    "Sequential checks the equality of each element in both lists."
   ]
  },
  {
   "cell_type": "code",
   "execution_count": null,
   "metadata": {
    "collapsed": true
   },
   "outputs": [],
   "source": [
    "l1 = [1, 2, 4, 7, 8, 9]\n",
    "l2 = [1, 2, 4, 7, 8, 9]\n",
    "l3 = [7, 8, 9, 1, 2, 4]"
   ]
  },
  {
   "cell_type": "code",
   "execution_count": null,
   "metadata": {
    "collapsed": false
   },
   "outputs": [],
   "source": [
    "l1 == l2"
   ]
  },
  {
   "cell_type": "code",
   "execution_count": null,
   "metadata": {
    "collapsed": false
   },
   "outputs": [],
   "source": [
    "l2 == l3"
   ]
  },
  {
   "cell_type": "code",
   "execution_count": null,
   "metadata": {
    "collapsed": false
   },
   "outputs": [],
   "source": [
    "mid = len(l1)//2\n",
    "l1[:mid] == l3[mid:]"
   ]
  },
  {
   "cell_type": "markdown",
   "metadata": {},
   "source": [
    "__cmp():__<br>\n",
    "_cmp()_ function returns 0 if both are equal else returns -1"
   ]
  },
  {
   "cell_type": "code",
   "execution_count": null,
   "metadata": {
    "collapsed": false
   },
   "outputs": [],
   "source": [
    "cmp(l1, l2)"
   ]
  },
  {
   "cell_type": "code",
   "execution_count": null,
   "metadata": {
    "collapsed": false
   },
   "outputs": [],
   "source": [
    "cmp(l1, l3)"
   ]
  },
  {
   "cell_type": "code",
   "execution_count": null,
   "metadata": {
    "collapsed": false
   },
   "outputs": [],
   "source": [
    "cmp(l1[:mid], l3[mid:])"
   ]
  },
  {
   "cell_type": "markdown",
   "metadata": {},
   "source": [
    "__Note:__ is operator doesn't work on lists, lists with same content have different ids(addresses)."
   ]
  },
  {
   "cell_type": "code",
   "execution_count": 1,
   "metadata": {
    "collapsed": false
   },
   "outputs": [
    {
     "data": {
      "text/plain": [
       "False"
      ]
     },
     "execution_count": 1,
     "metadata": {},
     "output_type": "execute_result"
    }
   ],
   "source": [
    "l1 = [1, 2, 4, 7, 8, 9]\n",
    "l2 = [1, 2, 4, 7, 8, 9]\n",
    "l1 is l2"
   ]
  },
  {
   "cell_type": "markdown",
   "metadata": {},
   "source": [
    "## Tuple\n",
    "\n",
    "A tuple is a sequence of immutable Python objects. Tuples are sequences, just like lists. The differences between tuples and lists are, the tuples cannot be changed unlike lists. Tuples use parentheses, whereas lists use square brackets.\n",
    "\n",
    "Creating a tuple is as simple as putting different comma-separated values enclosed in paranthesis. Some times paranthesis is optional.\n",
    "\n",
    "For example −<br>\n",
    "\n",
    "``` python\n",
    "tup1 = (1234, 'John wesley', 240000.0, True)\n",
    "tup2 = (1, 2, 3, 4, 5)\n",
    "tup3 = 1, 3, 2, 4 # Paranthesis is optional\n",
    "tup4 = () # empty tuple\n",
    "tup5 = (3,) # tuple with one value, must always ends with a comma.\n",
    "```\n",
    "\n",
    "* Tuple is immutable.\n",
    "* Tuple values can be of multiple types.\n",
    "* Tuple internally uses array of constant references.\n",
    "* tuple uses indexing to access value like list.\n",
    "* Search operation is always O(n).\n",
    "* Tuples are hashable. \n",
    "* type of tuple is 'tuple'"
   ]
  },
  {
   "cell_type": "markdown",
   "metadata": {},
   "source": [
    "Apart from immutability,  tuples mostly behave like a list.\n",
    "\n",
    "#### Differences with List\n",
    "\n",
    "__Brackets:__\n",
    "\n",
    "Tuples uses paranthesis in declaration"
   ]
  },
  {
   "cell_type": "code",
   "execution_count": null,
   "metadata": {
    "collapsed": true
   },
   "outputs": [],
   "source": [
    "l = [3, 5, 4, 2, 1]\n",
    "t = (3, 5, 4, 2, 1)"
   ]
  },
  {
   "cell_type": "markdown",
   "metadata": {},
   "source": [
    "__Mutability:__\n",
    "\n",
    "Elements cannot be modified after initilization."
   ]
  },
  {
   "cell_type": "code",
   "execution_count": null,
   "metadata": {
    "collapsed": false
   },
   "outputs": [],
   "source": [
    "l = [3, 5, 4, 2, 1]\n",
    "l[3] = 99 # is OK\n",
    "print l"
   ]
  },
  {
   "cell_type": "code",
   "execution_count": null,
   "metadata": {
    "collapsed": false
   },
   "outputs": [],
   "source": [
    "t = (3, 5, 4, 2, 1)\n",
    "t[3] = 99 # is NOT OK\n",
    "print t"
   ]
  },
  {
   "cell_type": "markdown",
   "metadata": {},
   "source": [
    "__When having single element:__ \n",
    "We put a comma at the end, when there is one element in the tuple, Why?\n",
    "\n",
    "This is required, to differentiate with an expression.\n",
    "\n",
    "```python\n",
    "x = (9)\n",
    "y = (9,)\n",
    "```\n",
    "\n",
    "x is an integer and y is a tuple"
   ]
  },
  {
   "cell_type": "code",
   "execution_count": null,
   "metadata": {
    "collapsed": false
   },
   "outputs": [],
   "source": [
    "x = (9)\n",
    "y = (9,)\n",
    "\n",
    "print x*3\n",
    "print y*3"
   ]
  },
  {
   "cell_type": "markdown",
   "metadata": {},
   "source": [
    "#### Similarites with List\n",
    "\n",
    "##### Declaration:"
   ]
  },
  {
   "cell_type": "code",
   "execution_count": null,
   "metadata": {
    "collapsed": false
   },
   "outputs": [],
   "source": [
    "l = [3, 5, 4, 2, 1]\n",
    "t = (3, 5, 4, 2, 1)\n",
    "\n",
    "print type(l), type(t)"
   ]
  },
  {
   "cell_type": "markdown",
   "metadata": {},
   "source": [
    "##### Indexing:"
   ]
  },
  {
   "cell_type": "code",
   "execution_count": null,
   "metadata": {
    "collapsed": false
   },
   "outputs": [],
   "source": [
    "l = [3, 5, 4, 2, 1]\n",
    "t = (3, 5, 4, 2, 1)\n",
    "print l[3], t[3]"
   ]
  },
  {
   "cell_type": "markdown",
   "metadata": {},
   "source": [
    "##### Scalar Multiplication:"
   ]
  },
  {
   "cell_type": "code",
   "execution_count": null,
   "metadata": {
    "collapsed": false
   },
   "outputs": [],
   "source": [
    "print [1, 4, 2] * 3\n",
    "print (1, 4, 2) * 3"
   ]
  },
  {
   "cell_type": "markdown",
   "metadata": {},
   "source": [
    "##### Iteration:"
   ]
  },
  {
   "cell_type": "code",
   "execution_count": null,
   "metadata": {
    "collapsed": false
   },
   "outputs": [],
   "source": [
    "l = [3, 5, 4, 2, 1]\n",
    "print 'list Iteration:'\n",
    "for x in l:\n",
    "    print x\n",
    "    \n",
    "t = (3, 5, 4, 2, 1)\n",
    "print 'tuple Iteration:'\n",
    "for x in t:\n",
    "    print x"
   ]
  },
  {
   "cell_type": "markdown",
   "metadata": {},
   "source": [
    "##### Slicing and -ve Indexing:"
   ]
  },
  {
   "cell_type": "code",
   "execution_count": null,
   "metadata": {
    "collapsed": false
   },
   "outputs": [],
   "source": [
    "t = (1234, 'John', 25000, True)\n",
    "l = [8, 2, 5, 4, 9, 1, 3, 7, 10, 6]\n",
    "\n",
    "print \"-------\"\n",
    "print \"Slicing\"\n",
    "print \"-------\"\n",
    "\n",
    "print t[2:7:2]\n",
    "print l[2:7:2]\n",
    "\n",
    "print \"------------\"\n",
    "print \"-Ve Indexing\"\n",
    "print \"------------\"\n",
    "\n",
    "print t[::-1]\n",
    "print l[::-1]"
   ]
  },
  {
   "cell_type": "markdown",
   "metadata": {},
   "source": [
    "#### Tuple upacking\n",
    "##### Unpacking:"
   ]
  },
  {
   "cell_type": "code",
   "execution_count": null,
   "metadata": {
    "collapsed": false
   },
   "outputs": [],
   "source": [
    "t = 3, 4, 5\n",
    "x, y, z = t\n",
    "\n",
    "print \"x:{}, y:{}, z:{}\".format(x, y, z)"
   ]
  },
  {
   "cell_type": "markdown",
   "metadata": {},
   "source": [
    "##### Initilizing values at a time:\n",
    "This is possible because in python comma seperated values are treated as a tuple."
   ]
  },
  {
   "cell_type": "code",
   "execution_count": null,
   "metadata": {
    "collapsed": false
   },
   "outputs": [],
   "source": [
    "x, y, z = 7, 8, 9\n",
    "print \"x:{}, y:{}, z:{}\".format(x, y, z)"
   ]
  },
  {
   "cell_type": "markdown",
   "metadata": {},
   "source": [
    "##### Swapping two values in python:"
   ]
  },
  {
   "cell_type": "code",
   "execution_count": null,
   "metadata": {
    "collapsed": false
   },
   "outputs": [],
   "source": [
    "x = 20\n",
    "y = 30\n",
    "\n",
    "x, y = y, x #  swapping in python\n",
    "\n",
    "print \"x:{}, y:{}\".format(x, y)"
   ]
  },
  {
   "cell_type": "markdown",
   "metadata": {},
   "source": [
    "#### ** Iterating list of tuples:"
   ]
  },
  {
   "cell_type": "code",
   "execution_count": null,
   "metadata": {
    "collapsed": false
   },
   "outputs": [],
   "source": [
    "lt = [('Apple', 30), ('Grape', 20), ('Mango', 25)]\n",
    "\n",
    "for tpl in lt:\n",
    "    print tpl[0], tpl[1]"
   ]
  },
  {
   "cell_type": "markdown",
   "metadata": {},
   "source": [
    "We can use list un packing method to write clean code, as below"
   ]
  },
  {
   "cell_type": "code",
   "execution_count": null,
   "metadata": {
    "collapsed": false
   },
   "outputs": [],
   "source": [
    "fruit_bucket = [('Apple', 30), ('Grape', 20), ('Mango', 25)]\n",
    "\n",
    "for fruit, count in fruit_bucket:\n",
    "    print fruit, count"
   ]
  },
  {
   "cell_type": "markdown",
   "metadata": {},
   "source": [
    "In each iteration one tuple will be unpacked to 'fruit' and 'count' variables."
   ]
  },
  {
   "cell_type": "markdown",
   "metadata": {},
   "source": [
    "#### **Difference between List and Tuple"
   ]
  },
  {
   "cell_type": "markdown",
   "metadata": {},
   "source": [
    "<table>\n",
    "<tr><th> List </th><th> Tuple</th></tr>\n",
    "<tr><td> mutable </td><td> immutable </td></tr>\n",
    "<tr><td> dynamically resizable array</td><td> fixed in size</td></tr>\n",
    "<tr><td> \\* emphasizes on quantity </td><td> \\* emphasizes on the structure </td></tr>\n",
    "<tr><td> \\*\\* unhashable </td><td> ** hashable </td></tr>\n",
    "<tr><td> use square brackets </td><td> use paranthesis (optional some times) </td></tr>\n",
    "<tr><td> comma not required when having single element </td><td> comma is required when having single element </td></tr>\n",
    "</table>"
   ]
  },
  {
   "cell_type": "markdown",
   "metadata": {},
   "source": [
    "### Built-in functions on sequences\n",
    "\n",
    "##### Finding length of the sequence\n",
    "len():"
   ]
  },
  {
   "cell_type": "code",
   "execution_count": null,
   "metadata": {
    "collapsed": false
   },
   "outputs": [],
   "source": [
    "l = [7, 8, 9, 3, 2]\n",
    "t = (7, 8, 9, 3, 2)\n",
    "s = \"NEWYORK\"\n",
    "\n",
    "print len(l), len(t), len(s)"
   ]
  },
  {
   "cell_type": "markdown",
   "metadata": {},
   "source": [
    "##### sorting the sequence\n",
    "_sorted():_\n",
    "\n",
    "List has its own sort() function. sort() function sorts elements in-place. But tuple and str are immutable types, we cannot sort them in-place. We need an external function, and we have one. sorted() function takes a sequence and returns a sorted list of items."
   ]
  },
  {
   "cell_type": "code",
   "execution_count": null,
   "metadata": {
    "collapsed": false
   },
   "outputs": [],
   "source": [
    "l = [7, 8, 9, 3, 2]\n",
    "t = (7, 8, 9, 3, 2)\n",
    "s = \"NEWYORK\"\n",
    "\n",
    "print sorted(l)\n",
    "print sorted(t)\n",
    "print sorted(s)"
   ]
  },
  {
   "cell_type": "markdown",
   "metadata": {},
   "source": [
    "##### Finding maximum:\n",
    "_max():_"
   ]
  },
  {
   "cell_type": "code",
   "execution_count": null,
   "metadata": {
    "collapsed": false
   },
   "outputs": [],
   "source": [
    "l = [7, 8, 9, 3, 2]\n",
    "t = (7, 8, 9, 3, 2)\n",
    "s = \"NEWYORK\"\n",
    "\n",
    "print max(l)\n",
    "print max(t)\n",
    "print max(s)"
   ]
  },
  {
   "cell_type": "markdown",
   "metadata": {},
   "source": [
    "##### Finding minimum:\n",
    "_min():_"
   ]
  },
  {
   "cell_type": "code",
   "execution_count": null,
   "metadata": {
    "collapsed": false
   },
   "outputs": [],
   "source": [
    "l = [7, 8, 9, 3, 2]\n",
    "t = (7, 8, 9, 3, 2)\n",
    "s = \"NEWYORK\"\n",
    "\n",
    "print min(l)\n",
    "print min(t)\n",
    "print min(s)"
   ]
  },
  {
   "cell_type": "markdown",
   "metadata": {},
   "source": [
    "#### Sum of the numbers\n",
    "_sum():_"
   ]
  },
  {
   "cell_type": "code",
   "execution_count": null,
   "metadata": {
    "collapsed": false
   },
   "outputs": [],
   "source": [
    "l = [7, 8, 9, 3, 2]\n",
    "t = (7, 8, 9, 3, 2)\n",
    "print sum(l)\n",
    "print sum(t)"
   ]
  },
  {
   "cell_type": "markdown",
   "metadata": {},
   "source": [
    "#### More built-in functions in python\n",
    "\n",
    "abs() :- returns absolute value"
   ]
  },
  {
   "cell_type": "code",
   "execution_count": null,
   "metadata": {
    "collapsed": false
   },
   "outputs": [],
   "source": [
    "print abs(-13), abs(13)"
   ]
  },
  {
   "cell_type": "markdown",
   "metadata": {},
   "source": [
    "chr() :- takes ASCII code and returns character"
   ]
  },
  {
   "cell_type": "code",
   "execution_count": null,
   "metadata": {
    "collapsed": false
   },
   "outputs": [],
   "source": [
    "print chr(65), chr(97)"
   ]
  },
  {
   "cell_type": "markdown",
   "metadata": {},
   "source": [
    "ord() :- takes character and returns ASCII code"
   ]
  },
  {
   "cell_type": "code",
   "execution_count": null,
   "metadata": {
    "collapsed": false
   },
   "outputs": [],
   "source": [
    "print ord('A'), ord('a')"
   ]
  },
  {
   "cell_type": "markdown",
   "metadata": {},
   "source": [
    "### List of tuples - Frequently used construct\n",
    "\n",
    "In non-object-oriented environments, list of tuples is generally used to represent a list of database records. Let's take an example of list of employee records. We have employee id, name, salary and age in each row in the same order. Below construct is widely used represenation of list of employee records. To represent a row we are using tuple here. "
   ]
  },
  {
   "cell_type": "code",
   "execution_count": null,
   "metadata": {
    "collapsed": true
   },
   "outputs": [],
   "source": [
    "employees = [\n",
    "            (1239, 'John', 23000, 25),\n",
    "            (1235, 'Samantha', 13000, 21),\n",
    "            (1238, 'Amanda', 45000, 30),\n",
    "            (1237, 'Alex', 57000, 31),\n",
    "            (1236, 'Vicky', 40000, 24)\n",
    "            ]"
   ]
  },
  {
   "cell_type": "markdown",
   "metadata": {},
   "source": [
    "How do you sort above list of tuples, on their salaries?"
   ]
  },
  {
   "cell_type": "code",
   "execution_count": 2,
   "metadata": {
    "collapsed": false
   },
   "outputs": [
    {
     "name": "stdout",
     "output_type": "stream",
     "text": [
      "(1235, 'Samantha', 13000, 21)\n",
      "(1236, 'Vicky', 40000, 24)\n",
      "(1237, 'Alex', 57000, 31)\n",
      "(1238, 'Amanda', 45000, 30)\n",
      "(1239, 'John', 23000, 25)\n"
     ]
    }
   ],
   "source": [
    "employees = [\n",
    "            (1239, 'John', 23000, 25),\n",
    "            (1235, 'Samantha', 13000, 21),\n",
    "            (1238, 'Amanda', 45000, 30),\n",
    "            (1237, 'Alex', 57000, 31),\n",
    "            (1236, 'Vicky', 40000, 24)\n",
    "            ]\n",
    "\n",
    "sorted_records = sorted(employees)\n",
    "for rec in sorted_records:\n",
    "    print rec"
   ]
  },
  {
   "cell_type": "markdown",
   "metadata": {},
   "source": [
    "By default sorted() method takes first value of each tuple as the comparsion criteria. To change this behaviour we have to pass the comparision criteria explicitely using lambda function."
   ]
  },
  {
   "cell_type": "markdown",
   "metadata": {},
   "source": [
    "__Introduction to lambda:__ lambda function is an one line function. Which expands the expression given.\n",
    "syntax:\n",
    "```python\n",
    "lambda parameters: expression\n",
    "```"
   ]
  },
  {
   "cell_type": "code",
   "execution_count": 3,
   "metadata": {
    "collapsed": false
   },
   "outputs": [
    {
     "name": "stdout",
     "output_type": "stream",
     "text": [
      "9\n"
     ]
    }
   ],
   "source": [
    "f = lambda x, y: x + y\n",
    "print f(4, 5)"
   ]
  },
  {
   "cell_type": "markdown",
   "metadata": {},
   "source": [
    "in the above code, __f(4, 5)__ replaced by __4 + 5__, thus resulting __9__"
   ]
  },
  {
   "cell_type": "markdown",
   "metadata": {},
   "source": [
    "sorted(), max() and min() functions has a second parameter which is __key__. _key_ is a lambda function, which is internally used by above three functions when two tuples are being compared with less than < operator. Comparing two tuples directly for less than is meaning less. So, key function recieves each tuple and returns first item in the tuple. A typical key lambda function looks like below.\n"
   ]
  },
  {
   "cell_type": "code",
   "execution_count": null,
   "metadata": {
    "collapsed": true
   },
   "outputs": [],
   "source": [
    "key = lambda x: x[0]"
   ]
  },
  {
   "cell_type": "markdown",
   "metadata": {},
   "source": [
    "Lets apply thsi key on two tuples,"
   ]
  },
  {
   "cell_type": "code",
   "execution_count": 4,
   "metadata": {
    "collapsed": false
   },
   "outputs": [
    {
     "name": "stdout",
     "output_type": "stream",
     "text": [
      "True\n"
     ]
    }
   ],
   "source": [
    "key = lambda x: x[0]\n",
    "\n",
    "t1 = (1235, 'Samantha', 53000, 21)\n",
    "t2 = (1236, 'Vicky', 40000, 24)\n",
    "\n",
    "print key(t1) < key(t2)"
   ]
  },
  {
   "cell_type": "markdown",
   "metadata": {},
   "source": [
    "in the above code __key(t1) < key(t2)__ is replaced with t1[0] < t2[0], thus resulting True.<br>\n",
    "\n",
    "How do we change key lambda to consider salary as the comparision criteria?\n",
    "simple define key as below\n",
    "```python\n",
    "key = lambda x: x[2]\n",
    "```"
   ]
  },
  {
   "cell_type": "code",
   "execution_count": 5,
   "metadata": {
    "collapsed": false
   },
   "outputs": [
    {
     "name": "stdout",
     "output_type": "stream",
     "text": [
      "False\n"
     ]
    }
   ],
   "source": [
    "key = lambda x: x[2]\n",
    "\n",
    "t1 = (1235, 'Samantha', 53000, 21)\n",
    "t2 = (1236, 'Vicky', 40000, 24)\n",
    "\n",
    "print key(t1) < key(t2)"
   ]
  },
  {
   "cell_type": "markdown",
   "metadata": {},
   "source": [
    "in the above code __key(t1) < key(t2)__ is replaced with t1[2] < t2[2], thus resulting True. Now it is time to apply a lambda to _sorted()_ function\n",
    "\n",
    "_Sorting list of tuples on salary:_"
   ]
  },
  {
   "cell_type": "code",
   "execution_count": 16,
   "metadata": {
    "collapsed": false
   },
   "outputs": [
    {
     "name": "stdout",
     "output_type": "stream",
     "text": [
      "(1235, 'Samantha', 13000, 21)\n",
      "(1239, 'John', 23000, 25)\n",
      "(1236, 'Vicky', 40000, 24)\n",
      "(1238, 'Amanda', 45000, 30)\n",
      "(1237, 'Alex', 57000, 31)\n"
     ]
    }
   ],
   "source": [
    "employees = [\n",
    "            (1239, 'John', 23000, 25),\n",
    "            (1235, 'Samantha', 13000, 21),\n",
    "            (1238, 'Amanda', 45000, 30),\n",
    "            (1237, 'Alex', 57000, 31),\n",
    "            (1236, 'Vicky', 40000, 24)\n",
    "            ]\n",
    "\n",
    "sorted_records = sorted(employees, key=lambda x:x[2])\n",
    "for rec in sorted_records:\n",
    "    print rec"
   ]
  },
  {
   "cell_type": "markdown",
   "metadata": {},
   "source": [
    "_Employees with max salary:_"
   ]
  },
  {
   "cell_type": "code",
   "execution_count": 18,
   "metadata": {
    "collapsed": false
   },
   "outputs": [
    {
     "name": "stdout",
     "output_type": "stream",
     "text": [
      "Max sal: (1237, 'Alex', 57000, 31)\n"
     ]
    }
   ],
   "source": [
    "employees = [\n",
    "            (1239, 'John', 23000, 25),\n",
    "            (1235, 'Samantha', 13000, 21),\n",
    "            (1238, 'Amanda', 45000, 30),\n",
    "            (1237, 'Alex', 57000, 31),\n",
    "            (1236, 'Vicky', 40000, 24)\n",
    "            ]\n",
    "\n",
    "print 'Max sal:', max(employees, key=lambda x:x[2])"
   ]
  },
  {
   "cell_type": "markdown",
   "metadata": {},
   "source": [
    "_Employees with min age:_"
   ]
  },
  {
   "cell_type": "code",
   "execution_count": 17,
   "metadata": {
    "collapsed": false
   },
   "outputs": [
    {
     "name": "stdout",
     "output_type": "stream",
     "text": [
      "Min age: (1235, 'Samantha', 13000, 21)\n"
     ]
    }
   ],
   "source": [
    "employees = [\n",
    "            (1239, 'John', 23000, 25),\n",
    "            (1235, 'Samantha', 13000, 21),\n",
    "            (1238, 'Amanda', 45000, 30),\n",
    "            (1237, 'Alex', 57000, 31),\n",
    "            (1236, 'Vicky', 40000, 24)\n",
    "            ]\n",
    "\n",
    "print 'Min age:', min(employees, key=lambda x:x[3])"
   ]
  },
  {
   "cell_type": "markdown",
   "metadata": {},
   "source": [
    "## Set\n",
    "A set contains an unordered collection of unique objects. The set data type is, as the name implies, a mathematical set. Set does not allow duplicates. Set does not maintain an order. This is because, the placement of each value in the set is decided by arbitary index prodcuded by hash() function. So, We should not relie on the order of set elements, even though some times it looks like ordered.\n",
    "\n",
    "Internally uses a hash table. Values are translated to indices of the hash table using hash() function .<br>\n",
    "When a collison occures in the hash table, it ignores the element.<br>\n",
    "This explains, why sets unlike lists and tuples can't have multiple occurrences of the same element. type() of set is 'set'.\n",
    "\n",
    "#### Set Operations"
   ]
  },
  {
   "cell_type": "markdown",
   "metadata": {},
   "source": [
    "##### Creating a set:"
   ]
  },
  {
   "cell_type": "code",
   "execution_count": 1,
   "metadata": {
    "collapsed": false
   },
   "outputs": [
    {
     "name": "stdout",
     "output_type": "stream",
     "text": [
      "set([1, 2, 3])\n"
     ]
    }
   ],
   "source": [
    "s = {2, 3, 1, 2, 1, 3}\n",
    "print s"
   ]
  },
  {
   "cell_type": "markdown",
   "metadata": {},
   "source": [
    "##### Creating an empty set:"
   ]
  },
  {
   "cell_type": "code",
   "execution_count": 2,
   "metadata": {
    "collapsed": false
   },
   "outputs": [
    {
     "name": "stdout",
     "output_type": "stream",
     "text": [
      "<type 'dict'>\n"
     ]
    }
   ],
   "source": [
    "s = {}\n",
    "print type(s)"
   ]
  },
  {
   "cell_type": "markdown",
   "metadata": {},
   "source": [
    "The above syntax is not an empty set, it is empty dictionary, which we will be discussing later. Below is the way for creating an empty set."
   ]
  },
  {
   "cell_type": "code",
   "execution_count": 3,
   "metadata": {
    "collapsed": false
   },
   "outputs": [
    {
     "name": "stdout",
     "output_type": "stream",
     "text": [
      "set([])\n"
     ]
    }
   ],
   "source": [
    "s = set()\n",
    "print s"
   ]
  },
  {
   "cell_type": "markdown",
   "metadata": {},
   "source": [
    "##### Converting a list to set:"
   ]
  },
  {
   "cell_type": "code",
   "execution_count": 4,
   "metadata": {
    "collapsed": false
   },
   "outputs": [
    {
     "name": "stdout",
     "output_type": "stream",
     "text": [
      "set([1, 2, 3, 4, 6])\n"
     ]
    }
   ],
   "source": [
    "l = [2, 6, 3, 2, 6, 3, 2, 4, 1, 3]\n",
    "s = set(l)\n",
    "print s"
   ]
  },
  {
   "cell_type": "markdown",
   "metadata": {},
   "source": [
    "##### Set doesn't allow duplicates:"
   ]
  },
  {
   "cell_type": "code",
   "execution_count": 5,
   "metadata": {
    "collapsed": false
   },
   "outputs": [
    {
     "name": "stdout",
     "output_type": "stream",
     "text": [
      "set([1, 2, 3, 4, 6])\n"
     ]
    }
   ],
   "source": [
    "s = {2, 6, 3, 2 ,6, 3, 2, 4, 1, 3}\n",
    "print s"
   ]
  },
  {
   "cell_type": "code",
   "execution_count": 6,
   "metadata": {
    "collapsed": false
   },
   "outputs": [
    {
     "name": "stdout",
     "output_type": "stream",
     "text": [
      "set(['Orange', 'Apple', 'Banana'])\n"
     ]
    }
   ],
   "source": [
    "s = {\"Apple\", \"Orange\", \"Banana\", \"Orange\", \"Apple\", \"Banana\"}\n",
    "print s"
   ]
  },
  {
   "cell_type": "code",
   "execution_count": 7,
   "metadata": {
    "collapsed": false
   },
   "outputs": [
    {
     "name": "stdout",
     "output_type": "stream",
     "text": [
      "set([4.5, 2.3, 5.3, 3.2])\n"
     ]
    }
   ],
   "source": [
    "s = {2.3, 4.5, 3.2, 2.3, 5.3}\n",
    "print s"
   ]
  },
  {
   "cell_type": "markdown",
   "metadata": {},
   "source": [
    "##### Adding an element to a set():"
   ]
  },
  {
   "cell_type": "code",
   "execution_count": 8,
   "metadata": {
    "collapsed": false
   },
   "outputs": [
    {
     "name": "stdout",
     "output_type": "stream",
     "text": [
      "set([2, 3, 5])\n"
     ]
    }
   ],
   "source": [
    "s = {2, 5}\n",
    "s.add(3)\n",
    "print s"
   ]
  },
  {
   "cell_type": "markdown",
   "metadata": {},
   "source": [
    "##### Removing an element from set():\n",
    "\n",
    "_Using remove() function:_"
   ]
  },
  {
   "cell_type": "code",
   "execution_count": 9,
   "metadata": {
    "collapsed": false
   },
   "outputs": [
    {
     "name": "stdout",
     "output_type": "stream",
     "text": [
      "set([3, 5])\n"
     ]
    }
   ],
   "source": [
    "s = {3, 4, 5}\n",
    "x = 4\n",
    "s.remove(x)\n",
    "print s"
   ]
  },
  {
   "cell_type": "markdown",
   "metadata": {},
   "source": [
    "If element not present, throws a 'KeyError'"
   ]
  },
  {
   "cell_type": "code",
   "execution_count": 10,
   "metadata": {
    "collapsed": false
   },
   "outputs": [
    {
     "ename": "KeyError",
     "evalue": "99",
     "output_type": "error",
     "traceback": [
      "\u001b[0;31m---------------------------------------------------------------------------\u001b[0m",
      "\u001b[0;31mKeyError\u001b[0m                                  Traceback (most recent call last)",
      "\u001b[0;32m<ipython-input-10-473c74b9d9c9>\u001b[0m in \u001b[0;36m<module>\u001b[0;34m()\u001b[0m\n\u001b[1;32m      1\u001b[0m \u001b[0ms\u001b[0m \u001b[0;34m=\u001b[0m \u001b[0;34m{\u001b[0m\u001b[0;36m3\u001b[0m\u001b[0;34m,\u001b[0m \u001b[0;36m4\u001b[0m\u001b[0;34m,\u001b[0m \u001b[0;36m5\u001b[0m\u001b[0;34m}\u001b[0m\u001b[0;34m\u001b[0m\u001b[0m\n\u001b[1;32m      2\u001b[0m \u001b[0mx\u001b[0m \u001b[0;34m=\u001b[0m \u001b[0;36m99\u001b[0m\u001b[0;34m\u001b[0m\u001b[0m\n\u001b[0;32m----> 3\u001b[0;31m \u001b[0ms\u001b[0m\u001b[0;34m.\u001b[0m\u001b[0mremove\u001b[0m\u001b[0;34m(\u001b[0m\u001b[0mx\u001b[0m\u001b[0;34m)\u001b[0m\u001b[0;34m\u001b[0m\u001b[0m\n\u001b[0m\u001b[1;32m      4\u001b[0m \u001b[0;32mprint\u001b[0m \u001b[0ms\u001b[0m\u001b[0;34m\u001b[0m\u001b[0m\n",
      "\u001b[0;31mKeyError\u001b[0m: 99"
     ]
    }
   ],
   "source": [
    "s = {3, 4, 5}\n",
    "x = 99\n",
    "s.remove(x)\n",
    "print s"
   ]
  },
  {
   "cell_type": "markdown",
   "metadata": {},
   "source": [
    "_Using discard() function:_ \n",
    "\n",
    "Removes x from set s if present. If element not existing, doesn't throw any error, it just keeps quite."
   ]
  },
  {
   "cell_type": "code",
   "execution_count": 11,
   "metadata": {
    "collapsed": false
   },
   "outputs": [
    {
     "name": "stdout",
     "output_type": "stream",
     "text": [
      "set([3, 4, 5])\n"
     ]
    }
   ],
   "source": [
    "s = {3, 4, 5}\n",
    "x = 99\n",
    "s.discard(x)\n",
    "print s"
   ]
  },
  {
   "cell_type": "markdown",
   "metadata": {},
   "source": [
    "_Using pop() function:_\n",
    "\n",
    "pop() removes and return an arbitrary element from s; raises 'KeyError' if empty"
   ]
  },
  {
   "cell_type": "code",
   "execution_count": 12,
   "metadata": {
    "collapsed": false
   },
   "outputs": [
    {
     "name": "stdout",
     "output_type": "stream",
     "text": [
      "set([4, 5])\n"
     ]
    }
   ],
   "source": [
    "s = {3, 4, 5}\n",
    "s.pop()\n",
    "print s"
   ]
  },
  {
   "cell_type": "markdown",
   "metadata": {},
   "source": [
    "##### Updating a set:"
   ]
  },
  {
   "cell_type": "code",
   "execution_count": 13,
   "metadata": {
    "collapsed": false
   },
   "outputs": [
    {
     "name": "stdout",
     "output_type": "stream",
     "text": [
      "set([1, 2, 4, 5, 6, 7, 8])\n"
     ]
    }
   ],
   "source": [
    "s1 = {4, 5, 2, 1}\n",
    "s2 = {7, 8, 5, 6}\n",
    "\n",
    "s1.update(s2)\n",
    "print s1"
   ]
  },
  {
   "cell_type": "markdown",
   "metadata": {},
   "source": [
    "update() funcion adds all the elements in s2 to s1."
   ]
  },
  {
   "cell_type": "markdown",
   "metadata": {},
   "source": [
    "##### Iterating through a set:"
   ]
  },
  {
   "cell_type": "code",
   "execution_count": 14,
   "metadata": {
    "collapsed": false
   },
   "outputs": [
    {
     "name": "stdout",
     "output_type": "stream",
     "text": [
      "Orange\n",
      "Apple\n",
      "Peach\n",
      "Banana\n"
     ]
    }
   ],
   "source": [
    "s = {'Apple', 'Orange', 'Peach', 'Banana'}\n",
    "for x in s:\n",
    "    print x"
   ]
  },
  {
   "cell_type": "markdown",
   "metadata": {},
   "source": [
    "##### Set unpacking:"
   ]
  },
  {
   "cell_type": "code",
   "execution_count": 15,
   "metadata": {
    "collapsed": false
   },
   "outputs": [
    {
     "name": "stdout",
     "output_type": "stream",
     "text": [
      "set(['Ball', 'Apple', 'Cat'])\n",
      "Ball Apple Cat\n"
     ]
    }
   ],
   "source": [
    "s = {'Apple', 'Ball', 'Cat'}\n",
    "print s\n",
    "x, y, z = s\n",
    "print x, y, z"
   ]
  },
  {
   "cell_type": "markdown",
   "metadata": {},
   "source": [
    "#### Use-Cases\n",
    "##### 1. Removing duplicates, O(n)\n",
    "\n",
    "Set uses hash-table data structure internally. Hashing is the process of translating values into array indices.  Placement of each value in the set is decided by an arbitary index prodcuded by hash() function. hash() function always ensures producing same index for a given value. Still there is a chance that, two values may get same index. This is called hash() collision. Hash-table generally stores all the values with the same hash code, in the same bucket. Before storing in same bucket, to make sure not to have any duplicates in the bucket, it compares current element with each existing element in the bucket. If an element with same value is existintg in the bucket, it ignores current element. Thus removing duplicates. </p>"
   ]
  },
  {
   "cell_type": "code",
   "execution_count": 22,
   "metadata": {
    "collapsed": false
   },
   "outputs": [
    {
     "name": "stdout",
     "output_type": "stream",
     "text": [
      "[67, 42, 77, 35, 90, 92]\n"
     ]
    }
   ],
   "source": [
    "l = [35, 67, 92, 42, 35, 77, 42, 90]\n",
    "l = list(set(l))\n",
    "print l"
   ]
  },
  {
   "cell_type": "markdown",
   "metadata": {},
   "source": [
    "##### 2. Faster Look-ups, O(1):\n",
    "\n",
    "We know that Set stores elements in a hash table.  Searching(look-up) operation is always constant and mostly just involves one operation."
   ]
  },
  {
   "cell_type": "code",
   "execution_count": null,
   "metadata": {
    "collapsed": false
   },
   "outputs": [],
   "source": [
    "s = {35, 67, 92, 42, 77}\n",
    "k = 42\n",
    "print k in s"
   ]
  },
  {
   "cell_type": "markdown",
   "metadata": {},
   "source": [
    "##### 3. Relations between sets"
   ]
  },
  {
   "cell_type": "markdown",
   "metadata": {},
   "source": [
    "_Union of two sets:_ All the unqiue elements in both the sets."
   ]
  },
  {
   "cell_type": "code",
   "execution_count": 23,
   "metadata": {
    "collapsed": false
   },
   "outputs": [
    {
     "name": "stdout",
     "output_type": "stream",
     "text": [
      "set([3, 4, 5, 6, 8, 9])\n"
     ]
    }
   ],
   "source": [
    "s1 = {3, 4, 5, 6}\n",
    "s2 = {5, 9, 6, 8}\n",
    "all_values = s1.union(s2)\n",
    "print all_values"
   ]
  },
  {
   "cell_type": "markdown",
   "metadata": {},
   "source": [
    "Above union() function is equivalent of applying '|' operator."
   ]
  },
  {
   "cell_type": "code",
   "execution_count": 24,
   "metadata": {
    "collapsed": false
   },
   "outputs": [
    {
     "name": "stdout",
     "output_type": "stream",
     "text": [
      "set([3, 4, 5, 6, 8, 9])\n"
     ]
    }
   ],
   "source": [
    "s1 = {3, 4, 5, 6}\n",
    "s2 = {5, 9, 6, 8}\n",
    "all_values = s1 | s2\n",
    "print all_values"
   ]
  },
  {
   "cell_type": "markdown",
   "metadata": {},
   "source": [
    "_Intersection of two sets:_ Common elements in both the sets."
   ]
  },
  {
   "cell_type": "code",
   "execution_count": 25,
   "metadata": {
    "collapsed": false
   },
   "outputs": [
    {
     "name": "stdout",
     "output_type": "stream",
     "text": [
      "set([5, 6])\n"
     ]
    }
   ],
   "source": [
    "s1 = {3, 4, 5, 6}\n",
    "s2 = {5, 9, 6, 8}\n",
    "common = s1.intersection(s2)\n",
    "print common"
   ]
  },
  {
   "cell_type": "markdown",
   "metadata": {},
   "source": [
    "Above intersection() function is equivalent of applying '&' operator."
   ]
  },
  {
   "cell_type": "code",
   "execution_count": 26,
   "metadata": {
    "collapsed": false
   },
   "outputs": [
    {
     "name": "stdout",
     "output_type": "stream",
     "text": [
      "set([5, 6])\n"
     ]
    }
   ],
   "source": [
    "s1 = {3, 4, 5, 6}\n",
    "s2 = {5, 9, 6, 8}\n",
    "common = s1 & s2\n",
    "print common"
   ]
  },
  {
   "cell_type": "markdown",
   "metadata": {},
   "source": [
    "_Difference of two sets:_ Elements which are present in one set but not in the other."
   ]
  },
  {
   "cell_type": "code",
   "execution_count": 27,
   "metadata": {
    "collapsed": false
   },
   "outputs": [
    {
     "name": "stdout",
     "output_type": "stream",
     "text": [
      "set([3, 4])\n"
     ]
    }
   ],
   "source": [
    "s1 = {3, 4, 5, 6}\n",
    "s2 = {5, 9, 6, 8}\n",
    "diff = s1.difference(s2)\n",
    "print diff"
   ]
  },
  {
   "cell_type": "markdown",
   "metadata": {
    "collapsed": false
   },
   "source": [
    "Above intersection() function is equivalent of applying '&' operator."
   ]
  },
  {
   "cell_type": "code",
   "execution_count": 28,
   "metadata": {
    "collapsed": false
   },
   "outputs": [
    {
     "name": "stdout",
     "output_type": "stream",
     "text": [
      "set([3, 4])\n"
     ]
    }
   ],
   "source": [
    "s1 = {3, 4, 5, 6}\n",
    "s2 = {5, 9, 6, 8}\n",
    "diff = s1 - s2\n",
    "print diff "
   ]
  },
  {
   "cell_type": "markdown",
   "metadata": {
    "solution": "hidden"
   },
   "source": [
    "<b>Program:</b><br>\n",
    "Given customer ids who deposited money, for the last three days.<br>\n",
    "1. Find the customer ids who deposited on 1st and 3rd days but not on the 2nd day.<br>\n",
    "2. Find the customer id, who deposited all the days<br>\n",
    "3. Customer ids, who did deposites atleast 2 of the 3 days\n",
    "4. Total number of customers who did deposites\n",
    "\n",
    "day1 = {1122, 1234, 1256, 1389}<br>\n",
    "day2 = {1134, 1256, 1399, 1455}<br>\n",
    "day3 = {1256, 1455, 1122, 1899}<br>\n",
    "\n",
    "__Solution:__\n"
   ]
  },
  {
   "cell_type": "code",
   "execution_count": 29,
   "metadata": {
    "collapsed": false,
    "solution": "hidden",
    "solution_first": true
   },
   "outputs": [
    {
     "name": "stdout",
     "output_type": "stream",
     "text": [
      "Customer who deposited on day 3 and day 1 but not on day 2: set([1122])\n"
     ]
    }
   ],
   "source": [
    "day1 = {1122, 1234, 1256, 1389}\n",
    "day2 = {1134, 1256, 1399, 1455}\n",
    "day3 = {1256, 1455, 1122, 1899}\n",
    "\n",
    "print 'Customer who deposited on day 3 and day 1 but not on day 2:', (day1 & day3) - day2"
   ]
  },
  {
   "cell_type": "code",
   "execution_count": 30,
   "metadata": {
    "collapsed": false
   },
   "outputs": [
    {
     "name": "stdout",
     "output_type": "stream",
     "text": [
      "Customers who did deposites all the threee days: set([1256])\n"
     ]
    }
   ],
   "source": [
    "print 'Customers who did deposites all the threee days:', day1 & day2 & day3"
   ]
  },
  {
   "cell_type": "code",
   "execution_count": 31,
   "metadata": {
    "collapsed": false
   },
   "outputs": [
    {
     "name": "stdout",
     "output_type": "stream",
     "text": [
      "Customers who did deposotes atleast 2 days out of 3 days\n"
     ]
    }
   ],
   "source": [
    "customers = (day1 & day2) | (day2 & day3) | (day3 & day1)\n",
    "print 'Customers who did deposotes atleast 2 days out of 3 days'"
   ]
  },
  {
   "cell_type": "code",
   "execution_count": 32,
   "metadata": {
    "collapsed": false
   },
   "outputs": [
    {
     "name": "stdout",
     "output_type": "stream",
     "text": [
      "Number of customers who did deposites: 8\n"
     ]
    }
   ],
   "source": [
    "all_cust = day1 | day2 | day3\n",
    "print 'Number of customers who did deposites:', len(all_cust)"
   ]
  },
  {
   "cell_type": "markdown",
   "metadata": {},
   "source": [
    "__Some more functions on sets__"
   ]
  },
  {
   "cell_type": "code",
   "execution_count": 33,
   "metadata": {
    "collapsed": false
   },
   "outputs": [],
   "source": [
    "s1 = {3, 4, 5, 6}\n",
    "s2 = {5, 6, 4}\n",
    "s3 = {8, 7, 9}"
   ]
  },
  {
   "cell_type": "code",
   "execution_count": 34,
   "metadata": {
    "collapsed": false
   },
   "outputs": [
    {
     "data": {
      "text/plain": [
       "True"
      ]
     },
     "execution_count": 34,
     "metadata": {},
     "output_type": "execute_result"
    }
   ],
   "source": [
    "s1.isdisjoint(s3)"
   ]
  },
  {
   "cell_type": "code",
   "execution_count": 35,
   "metadata": {
    "collapsed": false
   },
   "outputs": [
    {
     "data": {
      "text/plain": [
       "True"
      ]
     },
     "execution_count": 35,
     "metadata": {},
     "output_type": "execute_result"
    }
   ],
   "source": [
    "s2.issubset(s1)"
   ]
  },
  {
   "cell_type": "code",
   "execution_count": 36,
   "metadata": {
    "collapsed": false
   },
   "outputs": [
    {
     "data": {
      "text/plain": [
       "True"
      ]
     },
     "execution_count": 36,
     "metadata": {},
     "output_type": "execute_result"
    }
   ],
   "source": [
    "s1.issuperset(s2)"
   ]
  },
  {
   "cell_type": "markdown",
   "metadata": {},
   "source": [
    "#### Why tuple is hashable, but not list?\n",
    "\n",
    "List is dynamically resizable array, and elements can be changed, deleted and added at any time. On sequences like list and tuple, hash() is computed on individual elements, then it is combined generally using xor operator to resolve the index. This hash code is unique for it's life time. Dynamic containers like list, varies in size and elements gets modifed. As elements are varying, evaluating a constant hash() is impossible. Tuples are immutable computing a constant hash() is possible."
   ]
  },
  {
   "cell_type": "code",
   "execution_count": null,
   "metadata": {
    "collapsed": true
   },
   "outputs": [],
   "source": [
    "s = {(1, 2), (3, 4), (1, 2), (4, 3), (2, 1)}"
   ]
  },
  {
   "cell_type": "code",
   "execution_count": null,
   "metadata": {
    "collapsed": false
   },
   "outputs": [],
   "source": [
    "print s"
   ]
  },
  {
   "cell_type": "code",
   "execution_count": null,
   "metadata": {
    "collapsed": false
   },
   "outputs": [],
   "source": [
    "s = {[1, 2], [3, 4], [1, 2], [4, 3]} # lists are un-hashable\n",
    "print s"
   ]
  },
  {
   "cell_type": "markdown",
   "metadata": {},
   "source": [
    "__Note:__ The main reason to have tuple in python is, hashability. List is hashable when it is constant. A constant list is tuple. Similarly, a set() is not hashable, we cannot store, a set in another set, as it is mutable. So our only option is to have a constant set. Actucally we have one; ForzenSet() from 'collections' module. Hashability is very important property in programming. We discuss more on this in the next sections."
   ]
  },
  {
   "cell_type": "markdown",
   "metadata": {},
   "source": [
    "## Dictionary\n",
    "In python list() is sequence of elements. Each element in list() can be accesed using its index(position). Let's take\n",
    "a list,\n",
    "```python\n",
    "l = [34, 32.5, 33, 35, 32, 35.1, 33.6]\n",
    "```\n",
    "Suppose the above list is representing maximum temperatures of the last week, from Sunday to saturday.<br> \n",
    "How do you access max temperature on Thursday.<br>\n",
    "\n",
    "As Index 0 represents max temperature on Sunday and<br>\n",
    "1 represents Monday, <br>\n",
    "2 represents Tuesday,<br>\n",
    "and so on,<br>\n",
    "\n",
    "```python\n",
    "print l[4]\n",
    "```\n",
    "\n",
    "Gives max temperature on Thursday. Associating temperatures and indices(numeric) in this way, gives unrealistic perspective on the problem. If there is a way to access each temperature in the list with meaningful indices, like, l['Sunday'], l['Monday'] etc; This makes associations more lively, problem-solving more realistic. This is where dictionary can really help us.\n",
    "\n",
    "Dictionary is an associative container, in which has a set of Key-Value pairs. 'Key' is the 'Index', through which we access associated value.\n",
    "\n",
    "```python\n",
    "d = {'Sunday':34, 'Monday':32.5, 'Tuesday':33, 'Wednesday':35, 'Thursday':32, 'Friday':35.1, 'Saturday':33.6}\n",
    "```\n",
    "\n",
    "in the above dictionary, element which is on the left side of colon(':') is the <b>Key</b> also referred as <b>Index</b> and right side element is the <b>Value</b><br>\n",
    "\n",
    "Dictionary internally uses hash-table data structure.<br>type() of dictionary is 'dict'."
   ]
  },
  {
   "cell_type": "markdown",
   "metadata": {},
   "source": [
    "##### Creating an empty dictionary:"
   ]
  },
  {
   "cell_type": "code",
   "execution_count": null,
   "metadata": {
    "collapsed": false
   },
   "outputs": [],
   "source": [
    "d = {} # Empty dictionary\n",
    "print d"
   ]
  },
  {
   "cell_type": "code",
   "execution_count": null,
   "metadata": {
    "collapsed": false
   },
   "outputs": [],
   "source": [
    "d = dict() # Empty dictionary\n",
    "print d"
   ]
  },
  {
   "cell_type": "markdown",
   "metadata": {},
   "source": [
    "##### Creating dict and initilizing with key-value pairs:"
   ]
  },
  {
   "cell_type": "code",
   "execution_count": null,
   "metadata": {
    "collapsed": false
   },
   "outputs": [],
   "source": [
    "d = {1:'One', 2: 'Two', 3:'Three'}\n",
    "\n",
    "d = {'Hyderabad': 500001, 'Chennai': 400001, 'Delhi': 100001}"
   ]
  },
  {
   "cell_type": "markdown",
   "metadata": {},
   "source": [
    "<b>Imp Note:</b> Key can be any hashable type, where as for value there is no data-type restriction."
   ]
  },
  {
   "cell_type": "markdown",
   "metadata": {},
   "source": [
    "##### Adding key-value pair to a dictionary:\n",
    "```python\n",
    "Syntax: d[Key] = Value \n",
    "```"
   ]
  },
  {
   "cell_type": "code",
   "execution_count": null,
   "metadata": {
    "collapsed": false
   },
   "outputs": [],
   "source": [
    "d = {'Mango': 30, 'Banana': 15, 'Peach': 20}"
   ]
  },
  {
   "cell_type": "markdown",
   "metadata": {},
   "source": [
    "Adding an element to the above dict"
   ]
  },
  {
   "cell_type": "code",
   "execution_count": null,
   "metadata": {
    "collapsed": false
   },
   "outputs": [],
   "source": [
    "d['Orange'] = 40\n",
    "print d"
   ]
  },
  {
   "cell_type": "markdown",
   "metadata": {},
   "source": [
    "In the above dictionary d, if key is already existing, value is replaced."
   ]
  },
  {
   "cell_type": "code",
   "execution_count": null,
   "metadata": {
    "collapsed": false
   },
   "outputs": [],
   "source": [
    "d['Orange'] = 100\n",
    "print d"
   ]
  },
  {
   "cell_type": "markdown",
   "metadata": {},
   "source": [
    "##### Retreiving value from dictionary:\n",
    "Syntax: d[Key]"
   ]
  },
  {
   "cell_type": "code",
   "execution_count": null,
   "metadata": {
    "collapsed": false
   },
   "outputs": [],
   "source": [
    "d = {'Orange': 40, 'Mango': 30, 'Banana': 15, 'Peach': 20}\n",
    "\n",
    "print d['Orange']"
   ]
  },
  {
   "cell_type": "markdown",
   "metadata": {},
   "source": [
    "##### Accessing a key, which deosn't exist:"
   ]
  },
  {
   "cell_type": "code",
   "execution_count": null,
   "metadata": {
    "collapsed": false
   },
   "outputs": [],
   "source": [
    "d = {'Orange': 40, 'Mango': 30, 'Banana': 15, 'Peach': 20}\n",
    "print d['Grape']"
   ]
  },
  {
   "cell_type": "markdown",
   "metadata": {},
   "source": [
    "Above program throws 'KeyError' when key deosn't exist. Some times, this behaviour is not accepted, instead program should continue by assuming a default value. \n",
    "\n",
    "##### Using get() function:\n",
    "&nbsp;&nbsp;&nbsp;&nbsp;d.get(Key) : If key doesn't exist, get() returns None, instead of throwing KeyError."
   ]
  },
  {
   "cell_type": "code",
   "execution_count": null,
   "metadata": {
    "collapsed": false
   },
   "outputs": [],
   "source": [
    "d = {'Orange': 40, 'Mango': 30, 'Banana': 15, 'Peach': 20}\n",
    "print d.get('Orange')"
   ]
  },
  {
   "cell_type": "code",
   "execution_count": null,
   "metadata": {
    "collapsed": false
   },
   "outputs": [],
   "source": [
    "d = {'Orange': 40, 'Mango': 30, 'Banana': 15, 'Peach': 20}\n",
    "print d.get('Grape')"
   ]
  },
  {
   "cell_type": "markdown",
   "metadata": {},
   "source": [
    "We can also specify, default value to return, if key deosn't exist."
   ]
  },
  {
   "cell_type": "code",
   "execution_count": null,
   "metadata": {
    "collapsed": false
   },
   "outputs": [],
   "source": [
    "d = {'Orange': 40, 'Mango': 30, 'Banana': 15, 'Peach': 20}\n",
    "print d.get('Grape', 55)"
   ]
  },
  {
   "cell_type": "markdown",
   "metadata": {},
   "source": [
    "__Checking Key existance in dictionary__"
   ]
  },
  {
   "cell_type": "markdown",
   "metadata": {},
   "source": [
    "##### Using 'in' operator"
   ]
  },
  {
   "cell_type": "code",
   "execution_count": null,
   "metadata": {
    "collapsed": false
   },
   "outputs": [],
   "source": [
    "d = {'Apple': 20, 'Orange': 15, 'Peach': 10}\n",
    "key = 'Peach'\n",
    "print key in d"
   ]
  },
  {
   "cell_type": "markdown",
   "metadata": {},
   "source": [
    "##### Using hash_key() function"
   ]
  },
  {
   "cell_type": "code",
   "execution_count": null,
   "metadata": {
    "collapsed": false
   },
   "outputs": [],
   "source": [
    "d = {'Apple': 20, 'Orange': 15, 'Peach': 0}\n",
    "print d.has_key('Peach')"
   ]
  },
  {
   "cell_type": "markdown",
   "metadata": {},
   "source": [
    "##### Do not use get() function to check key's existance\n",
    "<b>Note:</b> This is an amateaur coding practice, which leads to catastrophic system failures some times ."
   ]
  },
  {
   "cell_type": "code",
   "execution_count": null,
   "metadata": {
    "collapsed": false
   },
   "outputs": [],
   "source": [
    "d = {'Apple': 20, 'Orange': 15, 'Peach': 0}\n",
    "\n",
    "if d.get('Peach'):\n",
    "    print 'Key exists'\n",
    "else:\n",
    "    print \"Key doesn't exist\""
   ]
  },
  {
   "cell_type": "markdown",
   "metadata": {},
   "source": [
    "In the above example 'Peach' is existing but returns 0, which coerced(implicit type conversion) to False, and produce  output, \"Key doesn't exist\". We are supposed to check key's existance here. To do so, we should not depend on the value returned by get() function.\n",
    "\n",
    "<b>Imp Note:</b> To check key's existance in a dictionary, We should either use 'in' operator or has_key() function but, using get() function is not suggested."
   ]
  },
  {
   "cell_type": "markdown",
   "metadata": {},
   "source": [
    "##### Removing a key-value pair"
   ]
  },
  {
   "cell_type": "code",
   "execution_count": null,
   "metadata": {
    "collapsed": false
   },
   "outputs": [],
   "source": [
    "d = {'Orange': 40, 'Mango': 30, 'Banana': 15, 'Peach': 20}\n",
    "key = 'Banana'\n",
    "ret = d.pop(key)\n",
    "print 'Returned value:', ret\n",
    "print 'dict after removing the key:', d"
   ]
  },
  {
   "cell_type": "markdown",
   "metadata": {},
   "source": [
    "pop() function removes the key and its associated value, ('Banana' and 15) and returns 15. This throws 'KeyError' when key deosn't exist."
   ]
  },
  {
   "cell_type": "markdown",
   "metadata": {},
   "source": [
    "##### Iterating through a dictionary"
   ]
  },
  {
   "cell_type": "code",
   "execution_count": null,
   "metadata": {
    "collapsed": false
   },
   "outputs": [],
   "source": [
    "d = {'Orange': 40, 'Mango': 30, 'Banana': 15, 'Peach': 20}\n",
    "for x in d:\n",
    "    print x"
   ]
  },
  {
   "cell_type": "markdown",
   "metadata": {},
   "source": [
    "By default dictionary provides an iterator to list of keys to for loop. That is the reason, we are seeing only keys in the above example. However we can access value, if we have a key."
   ]
  },
  {
   "cell_type": "code",
   "execution_count": null,
   "metadata": {
    "collapsed": false
   },
   "outputs": [],
   "source": [
    "d = {'Orange': 40, 'Mango': 30, 'Banana': 15, 'Peach': 20}\n",
    "for x in d:\n",
    "    print x, d[x]"
   ]
  },
  {
   "cell_type": "markdown",
   "metadata": {},
   "source": [
    "#### Some dict functions:"
   ]
  },
  {
   "cell_type": "markdown",
   "metadata": {},
   "source": [
    "_d.keys():_ Returns list of all keys"
   ]
  },
  {
   "cell_type": "code",
   "execution_count": null,
   "metadata": {
    "collapsed": false
   },
   "outputs": [],
   "source": [
    "d.keys()"
   ]
  },
  {
   "cell_type": "markdown",
   "metadata": {},
   "source": [
    "_d.values():_ Returns list of values"
   ]
  },
  {
   "cell_type": "code",
   "execution_count": null,
   "metadata": {
    "collapsed": false
   },
   "outputs": [],
   "source": [
    "d.values()"
   ]
  },
  {
   "cell_type": "markdown",
   "metadata": {},
   "source": [
    "_d.items():_  Returns key value pairs as a list of tuples."
   ]
  },
  {
   "cell_type": "code",
   "execution_count": null,
   "metadata": {
    "collapsed": false
   },
   "outputs": [],
   "source": [
    "d.items()"
   ]
  },
  {
   "cell_type": "markdown",
   "metadata": {},
   "source": [
    "We have seen how to iterate through a list of tuples in the previous sections."
   ]
  },
  {
   "cell_type": "code",
   "execution_count": null,
   "metadata": {
    "collapsed": false
   },
   "outputs": [],
   "source": [
    "for city, code in d.items():\n",
    "    print city, code"
   ]
  },
  {
   "cell_type": "markdown",
   "metadata": {},
   "source": [
    "##### Converting a list of tuples to a dict:"
   ]
  },
  {
   "cell_type": "code",
   "execution_count": null,
   "metadata": {
    "collapsed": false
   },
   "outputs": [],
   "source": [
    "lt = [('Apple', 30), ('Orange', 20)]\n",
    "d = dict(lt)\n",
    "print d"
   ]
  },
  {
   "cell_type": "markdown",
   "metadata": {},
   "source": [
    "##### Converting list of lists to a dict:"
   ]
  },
  {
   "cell_type": "code",
   "execution_count": null,
   "metadata": {
    "collapsed": false
   },
   "outputs": [],
   "source": [
    "ll = [['Apple', 30], ['Orage', 20]]\n",
    "d = dict(ll)\n",
    "print d"
   ]
  },
  {
   "cell_type": "markdown",
   "metadata": {
    "collapsed": false
   },
   "source": [
    "##### Note:\n",
    "Python understands developers intenetion. list of lists or list of tuple, when inner sequence has two elements, dict() converts it into a dcitionary"
   ]
  },
  {
   "cell_type": "markdown",
   "metadata": {},
   "source": [
    "#### Updating/extending a dictionary"
   ]
  },
  {
   "cell_type": "code",
   "execution_count": null,
   "metadata": {
    "collapsed": false
   },
   "outputs": [],
   "source": [
    "d1 = {'Hyd': 1234, 'Mum': 1235}\n",
    "d2 = {'Blr': 1236, 'Delhi': 1237, 'Hyd':1999}\n",
    "d1.update(d2)\n",
    "print d1"
   ]
  },
  {
   "cell_type": "markdown",
   "metadata": {},
   "source": [
    "Value can be of any type"
   ]
  },
  {
   "cell_type": "markdown",
   "metadata": {},
   "source": [
    "##### type constraints in Keys and Values:\n",
    "Keys must be hashable types.<br>\n",
    "E.g int, str, float, bool, complex, tuple, frozenset, user defined objects etc,<br>\n",
    "For values, there is no restriction on type.\n",
    "\n",
    "__Note:__ set is not hashable.\n",
    "Below is an example dict for Student (or student group) ids and courses registered."
   ]
  },
  {
   "cell_type": "code",
   "execution_count": null,
   "metadata": {
    "collapsed": false
   },
   "outputs": [],
   "source": [
    "d = {\n",
    "    1234        : ['C++', 'Java'], \n",
    "    (1299, 1289): ('Python', 'SQL'), \n",
    "    1288        : {'C#', 'Python'},\n",
    "    (1266, 1277): 'Pyhon'\n",
    "    }\n",
    "\n",
    "print d"
   ]
  },
  {
   "cell_type": "markdown",
   "metadata": {},
   "source": [
    "#### Use-Cases:\n",
    "\n",
    "__1. SQL databases primary key and indexing__\n",
    "\n",
    "It is mandatory to have a primary key in any SQL database table. The reason is , we can easily search for entire record by using primary key. The secrect here is again the hash table. Which is called index for the table. In a typical scenorio of banking customer-care, a customer generally calls the Customer-Care and enquires about a particular transaction. He gives the transaction id. In banking system millions of transactions can happen in a day or a week. But retrieving one record among them by performing linear search is time taking process. Banking systme takes advantage of the hash-table(dictionary in python) and builds index based on the transaction id for quickest response from the system. As part of database tuning, to improve performance, some times, apart from primary key, these indexes also built on other columns(composite keys, secondary keys). Below is an example index implemenation of customer transaction table in SQL databases."
   ]
  },
  {
   "cell_type": "code",
   "execution_count": null,
   "metadata": {
    "collapsed": true
   },
   "outputs": [],
   "source": [
    "txn_table = {\n",
    "     'TXN1234': ('TXN1234', 'CUSTID123564', 23000, 'WITHDRAWAL', '12/08/2015:11:32:21'),\n",
    "     'TXN1235': ('TXN1235', 'CUSTID123897', 34000, 'CASHDEPOSIT', '08/02/2016:14:51:02'),\n",
    "     'TXN1266': ('TXN1266', 'CUSTID122938', 16000, 'CHEQUECLR', '21/11/2015:09:13:53')\n",
    "    }"
   ]
  },
  {
   "cell_type": "markdown",
   "metadata": {},
   "source": [
    "Querying details for transaction 'TXN1266':"
   ]
  },
  {
   "cell_type": "code",
   "execution_count": null,
   "metadata": {
    "collapsed": false
   },
   "outputs": [],
   "source": [
    "print 'Txn details:', txn_table['TXN1266']"
   ]
  },
  {
   "cell_type": "markdown",
   "metadata": {},
   "source": [
    "__2. Word Counting Problem__\n",
    "\n",
    "<b>PROGRAM:</b> Find the occurance of each word in the given list.\n",
    "```python\n",
    "words = [\"Apple\", \"Orange\", \"Apple\", \"Banana\", \"Peach\",  \n",
    "          \"Banana\", \"Apple\", \"Peach\", \"Apple\", \"Banana\"]\n",
    "```"
   ]
  },
  {
   "cell_type": "markdown",
   "metadata": {},
   "source": [
    "<B><I>Without dictionaries:</B></I>"
   ]
  },
  {
   "cell_type": "code",
   "execution_count": null,
   "metadata": {
    "collapsed": false
   },
   "outputs": [],
   "source": [
    "words = [\"Apple\", \"Orange\", \"Apple\", \"Banana\", \"Peach\",  \n",
    "          \"Banana\", \"Apple\", \"Peach\", \"Apple\", \"Banana\"]\n",
    "\n",
    "for word in words:\n",
    "    print word, '->', words.count(word)\n"
   ]
  },
  {
   "cell_type": "markdown",
   "metadata": {},
   "source": [
    "<B><I>With dictionaries:</B></I>"
   ]
  },
  {
   "cell_type": "code",
   "execution_count": null,
   "metadata": {
    "collapsed": false
   },
   "outputs": [],
   "source": [
    "words = [\"Apple\", \"Orange\", \"Apple\", \"Banana\", \"Peach\",  \n",
    "          \"Banana\", \"Apple\", \"Peach\", \"Apple\", \"Banana\"]\n",
    "\n",
    "word_count = {}\n",
    "\n",
    "for word in words:\n",
    "    if word not in word_count:\n",
    "        word_count[word] = 1\n",
    "    else:\n",
    "        word_count[word] += 1\n",
    "        \n",
    "print 'Words and Counts:', word_count\n",
    "print 'Word with maximum frequency: ', max(word_count.items(), key=lambda x:x[1])"
   ]
  },
  {
   "cell_type": "markdown",
   "metadata": {},
   "source": [
    "<B><I>Sorting a dictionary:</B></I>"
   ]
  },
  {
   "cell_type": "code",
   "execution_count": null,
   "metadata": {
    "collapsed": false
   },
   "outputs": [],
   "source": [
    "sorted(word_count.items(), key=lambda x:x[1])"
   ]
  },
  {
   "cell_type": "markdown",
   "metadata": {},
   "source": [
    "<I>Using __enumerate()__ to get the indices of a sequence/iterable<I>"
   ]
  },
  {
   "cell_type": "code",
   "execution_count": null,
   "metadata": {
    "collapsed": false,
    "scrolled": true
   },
   "outputs": [],
   "source": [
    "fruits = [\"Apple\", \"Orange\", \"Apple\", \"Banana\", \"Peach\",  \n",
    "          \"Banana\", \"Apple\", \"Peach\", \"Apple\", \"Banana\"]\n",
    "\n",
    "for idx, fruit in enumerate(fruits):\n",
    "    print idx, fruit"
   ]
  },
  {
   "cell_type": "markdown",
   "metadata": {},
   "source": [
    " <b>3. Grouping Program:</b> \n",
    " \n",
    " __Program:__ List out all the indices of each word, at which it is occured."
   ]
  },
  {
   "cell_type": "code",
   "execution_count": null,
   "metadata": {
    "collapsed": false
   },
   "outputs": [],
   "source": [
    "fruits = [\"Apple\", \"Orange\", \"Apple\", \"Banana\", \"Peach\",  \n",
    "          \"Banana\", \"Apple\", \"Peach\", \"Apple\", \"Banana\"]\n",
    "\n",
    "fruit_indices = {}\n",
    "\n",
    "for idx, fruit in enumerate(fruits):\n",
    "    \n",
    "    if fruit not in fruit_indices:\n",
    "        \n",
    "        fruit_indices[fruit] = [idx]\n",
    "    else:\n",
    "        fruit_indices[fruit].append(idx)\n",
    "        \n",
    "for fruit, indices in fruit_indices.items():\n",
    "    print fruit, '->', indices"
   ]
  },
  {
   "cell_type": "markdown",
   "metadata": {},
   "source": [
    "<b>4. Caching</b><br>\n",
    "\n",
    "This is the 4th use-case for dict, which will be discussed along with recursion topic in functions Chapter."
   ]
  },
  {
   "cell_type": "markdown",
   "metadata": {},
   "source": [
    "### Collections\n",
    "\n",
    "Word counting problem can be easily solved by simply using builtin data structure <b>Counter</b> from 'collections' module."
   ]
  },
  {
   "cell_type": "code",
   "execution_count": null,
   "metadata": {
    "collapsed": false
   },
   "outputs": [],
   "source": [
    "from collections import Counter\n",
    "fruits = [\"Apple\", \"Orange\", \"Banana\", \"Peach\", \"Apple\",\n",
    "          \"Banana\", \"Apple\", \"Peach\", \"Apple\", \"Banana\"]\n",
    "\n",
    "ctr = Counter(fruits)\n",
    "print ctr"
   ]
  },
  {
   "cell_type": "markdown",
   "metadata": {},
   "source": [
    "<I>most_common():</I>\n",
    "\n",
    "Counter has most_common() function, which lists the n most common elements and their counts from the most\n",
    "common to the least.  If n is None, then list all element counts."
   ]
  },
  {
   "cell_type": "code",
   "execution_count": null,
   "metadata": {
    "collapsed": false
   },
   "outputs": [],
   "source": [
    "n = 3\n",
    "print 'Most frequently occured words:', ctr.most_common(n) "
   ]
  },
  {
   "cell_type": "markdown",
   "metadata": {},
   "source": [
    "#### OrderedDict\n",
    "\n",
    "OrderedDict retains the order in which key-value pairs are added to the dict. Same order is maintained while iterating the dict."
   ]
  },
  {
   "cell_type": "code",
   "execution_count": null,
   "metadata": {
    "collapsed": false
   },
   "outputs": [],
   "source": [
    "from collections import OrderedDict\n",
    "\n",
    "print 'Regular dictionary:'\n",
    "d = {}\n",
    "# d = dict()\n",
    "d['a'] = 'A'\n",
    "d['b'] = 'B'\n",
    "d['c'] = 'C'\n",
    "d['d'] = 'D'\n",
    "d['e'] = 'E'\n",
    "\n",
    "for k, v in d.items():\n",
    "    print k, v\n",
    "\n",
    "print '\\nOrderedDict:'\n",
    "d = OrderedDict()\n",
    "d['a'] = 'A'\n",
    "d['b'] = 'B'\n",
    "d['c'] = 'C'\n",
    "d['d'] = 'D'\n",
    "d['e'] = 'E'\n",
    "\n",
    "for k, v in d.items():\n",
    "    print k, v\n"
   ]
  },
  {
   "cell_type": "markdown",
   "metadata": {},
   "source": [
    "In the above example built-in dict stores (e, E) before (d, D)<br>\n",
    "But in OrderedDict it stores in the same order given."
   ]
  },
  {
   "cell_type": "markdown",
   "metadata": {},
   "source": [
    "### Deque\n",
    "Dequeue is a list like data struture which supports append operation, but only retains last 'maxlen' number of elements. This data structre belongs to _collections_ module.\n",
    "\n",
    "__Use-Case:__ When we want to keep track of last n elements, use deque"
   ]
  },
  {
   "cell_type": "code",
   "execution_count": 4,
   "metadata": {
    "collapsed": false
   },
   "outputs": [
    {
     "name": "stdout",
     "output_type": "stream",
     "text": [
      "deque([40, 41, 42, 43, 44], maxlen=5)\n",
      "deque([42, 43, 44, 555, 888], maxlen=5)\n"
     ]
    }
   ],
   "source": [
    "from collections import deque\n",
    "# Creating a deque\n",
    "dq = deque(maxlen=5)\n",
    "\n",
    "for x in range(11, 45):\n",
    "    dq.append(x)\n",
    "\n",
    "print dq   \n",
    "dq.append(555)\n",
    "dq.append(888)\n",
    "print dq"
   ]
  },
  {
   "cell_type": "markdown",
   "metadata": {},
   "source": [
    "### Defaultdict"
   ]
  },
  {
   "cell_type": "markdown",
   "metadata": {
    "collapsed": true
   },
   "source": [
    "\n",
    "```python\n",
    "syntax:\n",
    "    from collections import defaultdict\n",
    "    d = defaultdict(<default type>)\n",
    "```\n",
    "\n",
    "defaultdict() returns a dict. When a key is encountered for the first time, it is not already in the dict; so an entry is automatically created using the key and value(0 value of the type). if int is the type provided to defaultdcit, it assigns '0' as the value for the key first time.\n",
    "\n",
    "int - 0 <br>\n",
    "float - 0.0 <br>\n",
    "bool - False <br>\n",
    "list - [] <br>\n",
    "set - set() <br>"
   ]
  },
  {
   "cell_type": "code",
   "execution_count": null,
   "metadata": {
    "collapsed": false
   },
   "outputs": [],
   "source": [
    "d = defaultdict(int)"
   ]
  },
  {
   "cell_type": "code",
   "execution_count": null,
   "metadata": {
    "collapsed": false
   },
   "outputs": [],
   "source": [
    "print d['Apple']"
   ]
  },
  {
   "cell_type": "markdown",
   "metadata": {},
   "source": [
    "In the above statement, key 'Apple'is not there, so adds 'Apple' as key and '0' as value."
   ]
  },
  {
   "cell_type": "code",
   "execution_count": null,
   "metadata": {
    "collapsed": true
   },
   "outputs": [],
   "source": [
    "d['Orange'] += 1 # d['Orange'] = d['Orange'] + 1 ==> d['Orange'] = 0 + 1"
   ]
  },
  {
   "cell_type": "code",
   "execution_count": null,
   "metadata": {
    "collapsed": false
   },
   "outputs": [],
   "source": [
    "d"
   ]
  },
  {
   "cell_type": "markdown",
   "metadata": {},
   "source": [
    "In the above statment, default dict adds key 'Orange' and retruns 0and the adds 1 and stores it back to dict 'd'"
   ]
  },
  {
   "cell_type": "code",
   "execution_count": null,
   "metadata": {
    "collapsed": true
   },
   "outputs": [],
   "source": [
    "d = defaultdict(list)\n",
    "\n",
    "d['Apple'].append(0)"
   ]
  },
  {
   "cell_type": "code",
   "execution_count": null,
   "metadata": {
    "collapsed": false
   },
   "outputs": [],
   "source": [
    "d"
   ]
  },
  {
   "cell_type": "markdown",
   "metadata": {},
   "source": [
    "defaultdict adds an amepty list and returns, to which we are appending a '0' in the above statement."
   ]
  },
  {
   "cell_type": "markdown",
   "metadata": {},
   "source": [
    "__Word Counting Program revisited:__\n",
    "\n",
    "Find the count of each word in the given list."
   ]
  },
  {
   "cell_type": "code",
   "execution_count": null,
   "metadata": {
    "collapsed": false
   },
   "outputs": [],
   "source": [
    "from collections import defaultdict\n",
    "d = defaultdict(int)\n",
    "\n",
    "fruits = [\"Apple\", \"Orange\", \"Banana\", \"Orange\", \"Apple\", \"Banana\", \"Apple\",\n",
    "         \"Peach\", \"Apple\", \"Banana\"]\n",
    "\n",
    "for fruit in fruits:\n",
    "    d[fruit] += 1\n",
    "    \n",
    "print d"
   ]
  },
  {
   "cell_type": "markdown",
   "metadata": {},
   "source": [
    "__Index Grouping Program revisited:__\n",
    "\n",
    "Find the indices of each word in the given list"
   ]
  },
  {
   "cell_type": "code",
   "execution_count": null,
   "metadata": {
    "collapsed": false
   },
   "outputs": [],
   "source": [
    "from collections import defaultdict\n",
    "\n",
    "fruits = [\"Apple\", \"Orange\", \"Banana\", \"Orange\", \"Apple\", \"Banana\", \"Apple\",\n",
    "         \"Peach\", \"Apple\", \"Banana\"]\n",
    "\n",
    "fruit_count = defaultdict(list)\n",
    "\n",
    "for idx, fruit in enumerate(fruits):\n",
    "    fruit_count[fruit].append(idx)\n",
    "        \n",
    "fruit_count"
   ]
  },
  {
   "cell_type": "markdown",
   "metadata": {
    "collapsed": true
   },
   "source": [
    "<b>Exercise Program:</b></br>\n",
    "We are expecting some packets from 5 different ip addresses.\n",
    "We are asked to collect them and remove duplicates and sort them in increasing order."
   ]
  },
  {
   "cell_type": "code",
   "execution_count": null,
   "metadata": {
    "collapsed": false
   },
   "outputs": [],
   "source": [
    "from collections import defaultdict\n",
    "\n",
    "packets = [('196.131.56.71', 'Data1'),\n",
    "          ('196.131.56.35', 'Data1'),\n",
    "          ('196.131.56.78', 'Data1'),\n",
    "          ('196.131.56.65', 'Data1'),\n",
    "          ('196.131.56.71', 'Data2'),\n",
    "          ('196.131.56.35', 'Data1'),\n",
    "          ('196.131.56.65', 'Data1'),\n",
    "          ('196.131.56.78', 'Data1'),\n",
    "          ('196.131.56.44', 'Data1'),\n",
    "          ('196.131.56.35', 'Data1'),\n",
    "          ('196.131.56.65', 'Data2'),\n",
    "          ('196.131.56.71', 'Data1')]\n",
    "          \n",
    "dict_set = defaultdict(set)\n",
    "\n",
    "for ip, data in packets:\n",
    "    dict_set[ip].add(data)\n",
    "    \n",
    "for ip, pkts in dict_set.items():\n",
    "    print ip, '->', sorted(pkts)"
   ]
  },
  {
   "cell_type": "markdown",
   "metadata": {},
   "source": [
    "### Heapq\n",
    "Python heapq is min-heap data structure implemenation. Internals of this data structures is out of scope for this materail. But we discuss operations and Use-Cases of this data structure. It is physically stored as dynamic array, but logically a binary tree. Always maintains smallest element as root. root is stored at o'th index always. Each time we pop an element from heapq, it returns the smallest. Each time we push an element, heapq, rearranges elements and pushes the smallest to 0'th index (in just O(log n) time).\n",
    "\n",
    "We need to import heapq module to use this functionality.\n",
    "```python\n",
    "import heapq\n",
    "```\n",
    "\n",
    "__Frequenctly used heapq operations:__\n",
    "\n",
    "_heapq.heapify(x):_ This function transforms list x into a heap."
   ]
  },
  {
   "cell_type": "code",
   "execution_count": null,
   "metadata": {
    "collapsed": false
   },
   "outputs": [],
   "source": [
    "import heapq\n",
    "l = [4, 20, 6, 9, 2, 15]\n",
    "heapq.heapify(l)\n",
    "print l"
   ]
  },
  {
   "cell_type": "markdown",
   "metadata": {},
   "source": [
    "_heapq.heappush(heap, item):_ adding an element to heap."
   ]
  },
  {
   "cell_type": "code",
   "execution_count": null,
   "metadata": {
    "collapsed": false
   },
   "outputs": [],
   "source": [
    "import heapq\n",
    "l = [4, 20, 6, 9, 2, 15]\n",
    "heapq.heapify(l)\n",
    "heapq.heappush(l, 3)\n",
    "print l\n",
    "heapq.heappush(l, 1)\n",
    "print l"
   ]
  },
  {
   "cell_type": "markdown",
   "metadata": {},
   "source": [
    "_heapq.heappop(heap, item):_ deleting smallest element from heap."
   ]
  },
  {
   "cell_type": "code",
   "execution_count": null,
   "metadata": {
    "collapsed": false
   },
   "outputs": [],
   "source": [
    "import heapq\n",
    "l = [4, 20, 6, 9, 2, 15]\n",
    "heapq.heapify(l)\n",
    "heapq.heappush(l, 3)\n",
    "print l\n",
    "heapq.heappush(l, 1)\n",
    "print l\n",
    "print 'poped:', heapq.heappop(l)\n",
    "print 'poped:', heapq.heappop(l)\n",
    "print l"
   ]
  },
  {
   "cell_type": "markdown",
   "metadata": {},
   "source": [
    "_heapq.heapreplace(heap, item):_ pops smallest element from heap and pushes new element"
   ]
  },
  {
   "cell_type": "code",
   "execution_count": null,
   "metadata": {
    "collapsed": false
   },
   "outputs": [],
   "source": [
    "import heapq\n",
    "l = [4, 20, 6, 9, 3, 15]\n",
    "heapq.heapify(l)\n",
    "heapq.heapreplace(l, 2)\n",
    "print l"
   ]
  },
  {
   "cell_type": "markdown",
   "metadata": {},
   "source": [
    "_heapq.heappushpop(heap, item):_ pushes new item then pops smallest from the heap."
   ]
  },
  {
   "cell_type": "code",
   "execution_count": null,
   "metadata": {
    "collapsed": false
   },
   "outputs": [],
   "source": [
    "import heapq\n",
    "l = [4, 20, 6, 9, 3, 15]\n",
    "heapq.heapify(l)\n",
    "heapq.heappushpop(l, 2)\n",
    "print l"
   ]
  },
  {
   "cell_type": "markdown",
   "metadata": {},
   "source": [
    "_heap.nsmallest(n, iterable[, key]):_ returns a list with n smallest elements from the list (dataset) defined, and key if provided."
   ]
  },
  {
   "cell_type": "code",
   "execution_count": null,
   "metadata": {
    "collapsed": false
   },
   "outputs": [],
   "source": [
    "import heapq\n",
    "l = [4, 20, 6, 9, 3, 15]\n",
    "heapq.heapify(l)\n",
    "print heapq.nsmallest(4, l)"
   ]
  },
  {
   "cell_type": "markdown",
   "metadata": {},
   "source": [
    "_heap.nlargest(n, iterable[, key]):_ returns a list with n largest elements from the list (dataset) defined, and key if provided"
   ]
  },
  {
   "cell_type": "code",
   "execution_count": null,
   "metadata": {
    "collapsed": false
   },
   "outputs": [],
   "source": [
    "import heapq\n",
    "l = [4, 20, 6, 9, 3, 15]\n",
    "heapq.heapify(l)\n",
    "print heapq.nlargest(4, l)"
   ]
  },
  {
   "cell_type": "markdown",
   "metadata": {},
   "source": [
    "__Use-Cases:__\n",
    "\n",
    "1. When we have streaming data, and always want to maintain n-largest or n-smallest, heapq is is used.\n",
    "2. This is also used as priority queue, which is very popular in operating system process scheduling.\n",
    "3. Widely used in Operating System, Compiler and Interpreter's memory management."
   ]
  },
  {
   "cell_type": "markdown",
   "metadata": {},
   "source": [
    "## Interview Questions"
   ]
  },
  {
   "cell_type": "markdown",
   "metadata": {},
   "source": [
    "1. tuple vs list?\n",
    "2. Reversing a list, tuple and string?\n",
    "3. list append vs extend ?\n",
    "4. Internal data structure of a a list ?\n",
    "5. Output (5,) * 3?\n",
    "6. What is tuple packing and unpacking?\n",
    "7. similarities between str and tuple?\n",
    "8. Sorting algorithm used in list.sort() method?\n",
    "9. How do you check a string is pallindrome or not ?\n",
    "10. Two strings are anagarams or not ?\n",
    "11. How do you remove duplicates in a list?\n",
    "12. find the word with most number of occurances in a large list of 1 billion words?\n",
    "13. What is the data structures which is used for caching?\n",
    "14. Explain how defaultdict works?\n",
    "15. When do you use heapq?\n",
    "16. Is set is hashable?\n",
    "17. When do you use a dict?\n",
    "18. What is the pupose of OrderedDict?\n",
    "19. print all the pairs from the list which makes sum n\n",
    "20. Print all the anagrams from a text file.\n",
    "21. When do you use FrozenSet()?\n",
    "22. When do you use tuple, instead of a list?\n",
    "23. Check the given array is sorted in ascending order or not."
   ]
  },
  {
   "cell_type": "markdown",
   "metadata": {
    "collapsed": true
   },
   "source": [
    "## Exercises"
   ]
  },
  {
   "cell_type": "markdown",
   "metadata": {},
   "source": [
    "__Program 1:__ A list is supposed to contain first n natural numbers in it. But one number is missing in the list.\n",
    "so , we have n-1 elements in the list. How do you find missing element."
   ]
  },
  {
   "cell_type": "markdown",
   "metadata": {},
   "source": [
    "__Program 2:__ How do you check two lists are having same set of values and same number of values."
   ]
  },
  {
   "cell_type": "markdown",
   "metadata": {},
   "source": [
    "__Program 3:__ A list of email ids(strings) given, and assume there is a third-party function _send_email(email_id, msg)_ is available. 'send_email()' takes destination email address and email message. Example: send_email('john@abc.com', 'Welcome to my birthday!') sends message 'Welcome to my birthday!' to 'john@abc.com'. \n",
    "\n",
    "1. Send an invitation message, to all the email ids in the list.\n",
    "2. Do not send message to email ids having hotmail.com in it"
   ]
  },
  {
   "cell_type": "markdown",
   "metadata": {},
   "source": [
    "__Program 4:__"
   ]
  },
  {
   "cell_type": "markdown",
   "metadata": {},
   "source": [
    "* Below are the customer ids and deposites done by the customers\n",
    "    in a typical day of a bank.\n",
    "\n",
    "> 1. Find how many customers, acutally deposited the money.<br>\n",
    "> 2. Who deposited maximum number of times.<br>\n",
    "> 3. Who deposited maximum sum of deposites.<br>\n",
    "> 4. Who deposited max amount in a single transaction.<br>\n",
    "> 5. Customer Id - and list of deposites done by each cutomer.<br>\n",
    "> 6. Total balance at the end of the day\n",
    "\n",
    "```python\n",
    "trans = [(1237, 87522),\n",
    " (1234, 1000),\n",
    " (1236, 6754),\n",
    " (1234, 200),\n",
    " (1236, 1700),\n",
    " (1234, 400),\n",
    " (1234, 600),\n",
    " (1236, 788),\n",
    " (1234, 500),\n",
    " (1237, 126653)]\n",
    " ```"
   ]
  },
  {
   "cell_type": "markdown",
   "metadata": {},
   "source": [
    "##### Solution"
   ]
  },
  {
   "cell_type": "code",
   "execution_count": null,
   "metadata": {
    "collapsed": false
   },
   "outputs": [],
   "source": [
    "from collections import defaultdict\n",
    "trans = [(1237, 87522),\n",
    " (1234, 1000),\n",
    " (1236, 6754),\n",
    " (1234, 200),\n",
    " (1236, 1700),\n",
    " (1234, 400),\n",
    " (1234, 600),\n",
    " (1236, 788),\n",
    " (1234, 500),\n",
    " (1237, 126653)]\n",
    "\n",
    "ledger = defaultdict(list)\n",
    "total_balance = 0\n",
    "\n",
    "for cust_id, amount in trans:\n",
    "    ledger[cust_id].append(amount) \n",
    "    total_balance += amount\n",
    "    \n",
    "print 'Number of customers', len(ledger)\n",
    "custid, amounts = max(ledger.items(), key=lambda x:len(x[1]))\n",
    "print \"Customer who did max numbert of txns is {} and the txns count is {}\".format(custid, len(amounts))\n",
    "custid, amounts = max(ledger.items(), key=lambda x:sum(x[1]))\n",
    "print \"Customer who did max sum of the amount is {} and the amount is {}\".format(custid, sum(amounts))\n",
    "custid, amounts = max(ledger.items(), key=lambda x:max(x[1]))\n",
    "print \"Customer who did max desposit in a single txn {} and the amount is {}\".format(custid, max(amounts))"
   ]
  },
  {
   "cell_type": "code",
   "execution_count": null,
   "metadata": {
    "collapsed": false
   },
   "outputs": [],
   "source": [
    "ledger.items()"
   ]
  },
  {
   "cell_type": "markdown",
   "metadata": {
    "collapsed": true
   },
   "source": [
    "__Program 5:__"
   ]
  },
  {
   "cell_type": "markdown",
   "metadata": {},
   "source": [
    "* List of votes and contestant's age are given.\n",
    "> 1. Find the contestant who won the elections.<br>\n",
    "> 2. If there is a tie, older contenstant wins.\n",
    "\n",
    "```python\n",
    "votes = ['Kenny', 'Amanda', 'John', 'Alex',\n",
    "         'Amanda', 'John', 'Alex', 'Kenny',\n",
    "         'Alex', 'Kenny', 'Vicky']\n",
    "\n",
    "contestants = {'Kenny': 62,\n",
    "               'Amanda': 54,\n",
    "               'Alex': 58,\n",
    "               'John': 48,\n",
    "               'Vicky': 34}\n",
    "```"
   ]
  },
  {
   "cell_type": "code",
   "execution_count": null,
   "metadata": {
    "collapsed": false
   },
   "outputs": [],
   "source": [
    "from collections import Counter, defaultdict\n",
    "\n",
    "votes = ['Kenny', 'Amanda', 'John', 'Alex',\n",
    "         'Amanda', 'John', 'Alex', 'Kenny',\n",
    "         'Alex', 'Kenny', 'Vicky']\n",
    "\n",
    "name_age = {'Kenny': 61, 'Amanda': 54, \n",
    "            'Alex': 79, 'John': 80, 'Vicky': 34}\n",
    "\n",
    "name_count = Counter(votes)\n",
    "\n",
    "count_names = defaultdict(list)\n",
    "\n",
    "for name, count in name_count.items():\n",
    "    count_names[count].append(name)\n",
    "    \n",
    "count, candidates = max(count_names.items())\n",
    "\n",
    "winner = max(candidates, key=lambda x:name_age[x])\n",
    "print 'Winner is : ', winner"
   ]
  },
  {
   "cell_type": "markdown",
   "metadata": {},
   "source": [
    "__Program 3:__ Check the given two strings are anagrams or not"
   ]
  },
  {
   "cell_type": "markdown",
   "metadata": {
    "collapsed": true
   },
   "source": [
    "## Summary"
   ]
  },
  {
   "cell_type": "markdown",
   "metadata": {},
   "source": [
    "1. list is dynamically resizable array, also called as vector in other programming languages.\n",
    "2. tupele is immutable and hashable\n",
    "3. Set doesn't allow duplicates\n",
    "4. deque retains only last n elements\n",
    "5. Using we can heapq efficiently retrieve nsmallest elements in streaming data\n",
    "6. OrderedDict maintains insertion order\n",
    "7. defaultdict has a default zero value for every key\n"
   ]
  },
  {
   "cell_type": "code",
   "execution_count": null,
   "metadata": {
    "collapsed": true
   },
   "outputs": [],
   "source": []
  }
 ],
 "metadata": {
  "anaconda-cloud": {},
  "kernelspec": {
   "display_name": "Python 2",
   "language": "python",
   "name": "python2"
  },
  "language_info": {
   "codemirror_mode": {
    "name": "ipython",
    "version": 2
   },
   "file_extension": ".py",
   "mimetype": "text/x-python",
   "name": "python",
   "nbconvert_exporter": "python",
   "pygments_lexer": "ipython2",
   "version": "2.7.13"
  }
 },
 "nbformat": 4,
 "nbformat_minor": 1
}
