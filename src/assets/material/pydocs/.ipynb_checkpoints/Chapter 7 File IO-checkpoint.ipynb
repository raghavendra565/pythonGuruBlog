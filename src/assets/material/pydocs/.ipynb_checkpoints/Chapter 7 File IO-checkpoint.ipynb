{
 "cells": [
  {
   "cell_type": "markdown",
   "metadata": {},
   "source": [
    "\n",
    "### Python Programming\n",
    "\n",
    "##### by Narendra Allam\n",
    "Copyright 2019\n",
    "\n",
    "# Chapter 7\n",
    "\n",
    "## File IO\n",
    "\n",
    "#### Topics Covering\n",
    "\n",
    "-\tCreating file\n",
    "-\tFile reading\n",
    "-\tFile writing\n",
    "-\tFile modes\n",
    "-\tLine by line file reading\n",
    "-\tWriting multiple lines\n",
    "-\tseek()\n",
    "-\ttell()\n",
    "-\tos.getcwd()\n",
    "-\tos.mkdir()\n",
    "-\tos.chdir()\n",
    "-\tos.remove()\n",
    "-\tos.rmdir()\n",
    "\n",
    "-\tUse Case - CSV file reading and writing"
   ]
  },
  {
   "cell_type": "markdown",
   "metadata": {},
   "source": [
    "File is  anything that generally is saved on permanent storage devices with a name. Content of file can be simple text, binary data(image, audio, video) etc. Only text files are dicussed in this chapter.\n",
    "\n",
    "__open():__ This is the function in python to open a file.\n",
    "\n",
    "```python\n",
    "Syntax:\n",
    "file_handle = open(<filename>, <mode>)\n",
    "```"
   ]
  },
  {
   "cell_type": "markdown",
   "metadata": {},
   "source": [
    "Open function -- opens a file and returns a file object, through which we perform all operations on a file.\n",
    "\n",
    "__Note:__ \n",
    "    In the above statement, we are trying to open abc.txt, if abc.txt is not exisiting, we get \"IOError\" in Python 2.x and we get \"FileNotFoundError\" in Python 3.x"
   ]
  },
  {
   "cell_type": "markdown",
   "metadata": {
    "collapsed": true
   },
   "source": [
    "<b>Modes:</b><br>\n",
    "<u>Text Modes</u>\n",
    "\n",
    "    r or rt - read mode, if file not exists throws IOError\n",
    "    w or wt - write mode, if file not exists creates new one\n",
    "    a or at - append mode is write mode but starts writing, from the end of the file\n",
    "\n",
    "    r+ or rt+ - read write\n",
    "    w+ or wt+ - write read\n",
    "    a+ or at+ - append read\n",
    "    \n",
    "<u>Binary Modes</u>\n",
    "\n",
    "    rb - Binary read\n",
    "    wb - Binary write\n",
    "    ab - append\n",
    "    rb+ - read and write in binary\n",
    "    wb+ - read and write in binary\n",
    "    ab+ - read and append in binary\n"
   ]
  },
  {
   "cell_type": "markdown",
   "metadata": {},
   "source": [
    "__File creation and writing__"
   ]
  },
  {
   "cell_type": "code",
   "execution_count": 1,
   "metadata": {},
   "outputs": [],
   "source": [
    "f = open('abc.txt', 'w')\n",
    "\n",
    "f.write(\"Once upon a time in India, there was a king called Tippu.\")\n",
    "f.close()"
   ]
  },
  {
   "cell_type": "markdown",
   "metadata": {},
   "source": [
    "<b> f </b> is the file object, which holds a buffer in RAM, which will be synced to hard disk later. <b>close()</b> function ensures the sync between content written to a file and memory buffer. It flushes all the content to a file on hard disk.\n",
    "\n",
    "Let's check whether the file is created or not. For this, we can run OS commands from jupyter notebook. Just prefix '!' symbol with the command."
   ]
  },
  {
   "cell_type": "code",
   "execution_count": 3,
   "metadata": {},
   "outputs": [
    {
     "name": "stdout",
     "output_type": "stream",
     "text": [
      "'='\r\n",
      " abc.txt\r\n",
      " book1.json\r\n",
      " book.json\r\n",
      " books.json\r\n",
      " bookslist.json\r\n",
      " book.xml\r\n",
      " browser.png\r\n",
      "'Chapter 10 Object Orientation.ipynb'\r\n",
      "'Chapter 11.0 MYSQLDBSetupWalkthrough.ipynb'\r\n",
      "'Chapter 11 MySQL DB Connection .ipynb'\r\n",
      "'Chapter 12 ExceptionHandling.ipynb'\r\n",
      "'Chapter 12 Object Orientation Latest.ipynb'\r\n",
      "'Chapter 13 Threading.ipynb'\r\n",
      "'Chapter 14 Logging.ipynb'\r\n",
      "'Chapter 15 Email - FTP.ipynb'\r\n",
      "'Chapter 16 UnitTesting.ipynb'\r\n",
      "'Chapter 17 Regular Expressions.ipynb'\r\n",
      "'Chapter 18 Numpy.ipynb'\r\n",
      "'Chapter 19 Pandas.ipynb'\r\n",
      "'Chapter 1 Introduction.ipynb'\r\n",
      "'Chapter 20 Matplotlib.ipynb'\r\n",
      "'Chapter 2 Strings.ipynb'\r\n",
      "'Chapter 3 Control Structures.ipynb'\r\n",
      "'Chapter 4 Data Structures.ipynb'\r\n",
      "'Chapter 5 Functions.ipynb'\r\n",
      "'Chapter 6 Modules.ipynb'\r\n",
      "'Chapter 7 File IO.ipynb'\r\n",
      "'Chapter 8 Comprehensions, Lambdas and Functional Programming.ipynb'\r\n",
      "'Chapter 9 Serialization.ipynb'\r\n",
      " Comprehensions.ipynb\r\n",
      "'Control Structures.ipynb'\r\n",
      " country.xml\r\n",
      " CountWays.ipynb\r\n",
      " create.png\r\n",
      " cs.ipynb\r\n",
      " data.csv\r\n",
      " data.txt\r\n",
      " double_decor.ipynb\r\n",
      " drawing10.png\r\n",
      " drawing11.png\r\n",
      " drawing12.png\r\n",
      " drawing13.png\r\n",
      " drawing14.png\r\n",
      " drawing1.png\r\n",
      " drawing2.png\r\n",
      " drawing3.png\r\n",
      " drawing4.png\r\n",
      " drawing5.png\r\n",
      " drawing6.png\r\n",
      " drawing7.png\r\n",
      " drawing8.png\r\n",
      " drawing9.png\r\n",
      " employ_data.csv\r\n",
      " employee.pickle\r\n",
      " employee.xml\r\n",
      " employ.pickle\r\n",
      " file-8.png\r\n",
      " FirstNotebook.ipynb\r\n",
      " frame.json\r\n",
      "'Icon'$'\\r'\r\n",
      " large_data.csv\r\n",
      " LibraryManagementSystem.ipynb\r\n",
      " Lists.ipynb\r\n",
      " mac.png\r\n",
      " merge.ipynb\r\n",
      " module10.png\r\n",
      " module11.png\r\n",
      " module12.png\r\n",
      " module13.png\r\n",
      " module14.png\r\n",
      " module15.png\r\n",
      " module16.png\r\n",
      " module17.png\r\n",
      " module18.png\r\n",
      " module19.png\r\n",
      " module1.png\r\n",
      " module20.png\r\n",
      " module2.png\r\n",
      " module3.png\r\n",
      " module4.png\r\n",
      " module5.png\r\n",
      " module6.png\r\n",
      " module7.png\r\n",
      " module8.png\r\n",
      " module9.png\r\n",
      " nextBiggest.ipynb\r\n",
      " notebook.tex\r\n",
      " Operators.ipynb\r\n",
      " output_1_1.png\r\n",
      " pandas1.png\r\n",
      " pandas2.png\r\n",
      " pandasDataFrame.jpg\r\n",
      " pandasSeries.jpg\r\n",
      " password.py\r\n",
      " password.pyc\r\n",
      " Practice1.ipynb\r\n",
      " processed_data.csv\r\n",
      " __pycache__\r\n",
      "'Python Complete Brochure.docx'\r\n",
      "'Python Modules.docx'\r\n",
      " random_data.csv\r\n",
      " random_data.numbers\r\n",
      " random_data.xlsx\r\n",
      "'replace In.ipynb'\r\n",
      " shot1.png\r\n",
      " shot2.1.png\r\n",
      " shot2.png\r\n",
      " shot3.png\r\n",
      " shot4.png\r\n",
      " shot5.png\r\n",
      " shot6.png\r\n",
      " Shot8.png\r\n",
      "'sql vs mongo.png'\r\n",
      " start.png\r\n",
      " test_log\r\n",
      " tmp_shot1.png\r\n",
      "'Trainers Presentation.pptx'\r\n",
      " Untitled1.ipynb\r\n",
      " Untitled2.ipynb\r\n",
      " Untitled.ipynb\r\n",
      " untitled.txt\r\n",
      " windows.png\r\n"
     ]
    }
   ],
   "source": [
    "!ls # On windows run : !dir"
   ]
  },
  {
   "cell_type": "markdown",
   "metadata": {},
   "source": [
    "Now, let's check the content of the file we created."
   ]
  },
  {
   "cell_type": "code",
   "execution_count": 4,
   "metadata": {},
   "outputs": [
    {
     "name": "stdout",
     "output_type": "stream",
     "text": [
      "Once upon a time in India, there was a king called Tippu."
     ]
    }
   ],
   "source": [
    "!cat abc.txt # On windows run : !type abc.txt"
   ]
  },
  {
   "cell_type": "code",
   "execution_count": 5,
   "metadata": {},
   "outputs": [
    {
     "name": "stdout",
     "output_type": "stream",
     "text": [
      "Once upon a time in India, there was a king called Tippu.\n"
     ]
    }
   ],
   "source": [
    "f = open('abc.txt')\n",
    "txt = f.read()\n",
    "print(txt)\n",
    "f.close()"
   ]
  },
  {
   "cell_type": "markdown",
   "metadata": {},
   "source": [
    "__Open file with context manager:__"
   ]
  },
  {
   "cell_type": "code",
   "execution_count": 6,
   "metadata": {},
   "outputs": [
    {
     "name": "stdout",
     "output_type": "stream",
     "text": [
      "Once upon a time in India, there was a king called Tippu.\n"
     ]
    }
   ],
   "source": [
    "with open('abc.txt') as f:\n",
    "    txt = f.read()\n",
    "    print(txt)"
   ]
  },
  {
   "cell_type": "markdown",
   "metadata": {},
   "source": [
    "Do you want to check, which folder your are in? This getcwd() function gives you current working directory.\n",
    "```python\n",
    "import os\n",
    "print os.getcwd()\n",
    "```"
   ]
  },
  {
   "cell_type": "code",
   "execution_count": 7,
   "metadata": {},
   "outputs": [
    {
     "name": "stdout",
     "output_type": "stream",
     "text": [
      "/hdd/notebooks/VASU/PythonNotebooks-final\n"
     ]
    }
   ],
   "source": [
    "import os\n",
    "print(os.getcwd())"
   ]
  },
  {
   "cell_type": "code",
   "execution_count": 2,
   "metadata": {},
   "outputs": [
    {
     "name": "stdout",
     "output_type": "stream",
     "text": [
      "/hdd/notebooks/VASU/PythonNotebooks-final\r\n"
     ]
    }
   ],
   "source": [
    "!pwd"
   ]
  },
  {
   "cell_type": "markdown",
   "metadata": {},
   "source": [
    "__Reading an existing file__\n",
    "\n",
    "read() function reads entire file content as a string."
   ]
  },
  {
   "cell_type": "code",
   "execution_count": 8,
   "metadata": {},
   "outputs": [
    {
     "name": "stdout",
     "output_type": "stream",
     "text": [
      "Once upon a time in India, there was a king called Tippu.\n"
     ]
    }
   ],
   "source": [
    "f = open('abc.txt', 'r')\n",
    "s = f.read()\n",
    "print(s)\n",
    "f.close()"
   ]
  },
  {
   "cell_type": "markdown",
   "metadata": {},
   "source": [
    "__To Read n characters, read(n)__"
   ]
  },
  {
   "cell_type": "code",
   "execution_count": 9,
   "metadata": {},
   "outputs": [
    {
     "name": "stdout",
     "output_type": "stream",
     "text": [
      "Once upon \n"
     ]
    }
   ],
   "source": [
    "f = open('abc.txt', 'r')\n",
    "s = f.read(10)\n",
    "print(s)\n",
    "f.close()"
   ]
  },
  {
   "cell_type": "markdown",
   "metadata": {},
   "source": [
    "__To Write Multiline text__"
   ]
  },
  {
   "cell_type": "code",
   "execution_count": 10,
   "metadata": {},
   "outputs": [],
   "source": [
    "f = open('abc.txt', 'w')\n",
    "f.write(\"\"\"Once upon a time in India, there was a king called Tippu.\n",
    "Tippu was so tall and handsome and brave. He was looking for a brave and beautiful\n",
    "bride and sent the message to all of his citizens.\"\"\")\n",
    "f.close()"
   ]
  },
  {
   "cell_type": "markdown",
   "metadata": {},
   "source": [
    "__Check the file content__"
   ]
  },
  {
   "cell_type": "code",
   "execution_count": 11,
   "metadata": {},
   "outputs": [
    {
     "name": "stdout",
     "output_type": "stream",
     "text": [
      "Once upon a time in India, there was a king called Tippu.\r\n",
      "Tippu was so tall and handsome and brave. He was looking for a brave and beautiful\r\n",
      "bride and sent the message to all of his citizens."
     ]
    }
   ],
   "source": [
    "!cat abc.txt # !type abc.txt for windows"
   ]
  },
  {
   "cell_type": "markdown",
   "metadata": {},
   "source": [
    "__Reading text into a list of strings__\n",
    "\n",
    "readlines() function returns all lines in the file as a list of strings"
   ]
  },
  {
   "cell_type": "code",
   "execution_count": 12,
   "metadata": {},
   "outputs": [
    {
     "name": "stdout",
     "output_type": "stream",
     "text": [
      "['Once upon a time in India, there was a king called Tippu.\\n', 'Tippu was so tall and handsome and brave. He was looking for a brave and beautiful\\n', 'bride and sent the message to all of his citizens.']\n"
     ]
    }
   ],
   "source": [
    "f = open('abc.txt', 'r')\n",
    "l = f.readlines()\n",
    "print(l)\n",
    "f.close()"
   ]
  },
  {
   "cell_type": "markdown",
   "metadata": {},
   "source": [
    "__Line by line file reading__"
   ]
  },
  {
   "cell_type": "code",
   "execution_count": 13,
   "metadata": {},
   "outputs": [
    {
     "name": "stdout",
     "output_type": "stream",
     "text": [
      "Once upon a time in India, there was a king called Tippu.\n",
      "Tippu was so tall and handsome and brave. He was looking for a brave and beautiful\n",
      "bride and sent the message to all of his citizens."
     ]
    }
   ],
   "source": [
    "f = open('abc.txt', 'r')\n",
    "\n",
    "for line in f:\n",
    "    print(line, end='')\n",
    "    \n",
    "f.close()"
   ]
  },
  {
   "cell_type": "markdown",
   "metadata": {},
   "source": [
    "__Writing multiple lines__"
   ]
  },
  {
   "cell_type": "code",
   "execution_count": 14,
   "metadata": {},
   "outputs": [],
   "source": [
    "f = open('abc.txt', 'w')\n",
    "l = ['Once upon a time in India, there was a king called Tippu.\\n',\n",
    " 'Tippu was so tall and handsome and brave. He was looking for a brave and beautiful\\n',\n",
    " 'bride and sent the message to all of his citizens.\\n',\n",
    " 'He was waiting for years...']\n",
    "f.writelines(l)\n",
    "f.close()"
   ]
  },
  {
   "cell_type": "code",
   "execution_count": 15,
   "metadata": {},
   "outputs": [
    {
     "name": "stdout",
     "output_type": "stream",
     "text": [
      "Once upon a time in India, there was a king called Tippu.\r\n",
      "Tippu was so tall and handsome and brave. He was looking for a brave and beautiful\r\n",
      "bride and sent the message to all of his citizens.\r\n",
      "He was waiting for years..."
     ]
    }
   ],
   "source": [
    "!cat abc.txt"
   ]
  },
  {
   "cell_type": "markdown",
   "metadata": {},
   "source": [
    "A new write operation  in exisiting file with some text discards the exisiting text, so we have to use append mode to add the text at the end."
   ]
  },
  {
   "cell_type": "code",
   "execution_count": 16,
   "metadata": {},
   "outputs": [],
   "source": [
    "f = open('abc.txt', 'w')\n",
    "f.write(\"Apple is sweet !!!\")\n",
    "f.close()"
   ]
  },
  {
   "cell_type": "code",
   "execution_count": 17,
   "metadata": {},
   "outputs": [
    {
     "name": "stdout",
     "output_type": "stream",
     "text": [
      "Apple is sweet !!!"
     ]
    }
   ],
   "source": [
    "!cat abc.txt"
   ]
  },
  {
   "cell_type": "code",
   "execution_count": 18,
   "metadata": {},
   "outputs": [],
   "source": [
    "f = open('abc.txt', 'a')\n",
    "f.write(\"Orange is sour!\\n\")\n",
    "f.close()"
   ]
  },
  {
   "cell_type": "code",
   "execution_count": 19,
   "metadata": {},
   "outputs": [
    {
     "name": "stdout",
     "output_type": "stream",
     "text": [
      "Apple is sweet !!!Orange is sour!\r\n"
     ]
    }
   ],
   "source": [
    "!cat abc.txt"
   ]
  },
  {
   "cell_type": "markdown",
   "metadata": {},
   "source": [
    "After writing into a file, file pointer moves to the end, so reading after writing won't read anything. Check the below  example."
   ]
  },
  {
   "cell_type": "code",
   "execution_count": 20,
   "metadata": {},
   "outputs": [
    {
     "name": "stdout",
     "output_type": "stream",
     "text": [
      "File content =  \n"
     ]
    }
   ],
   "source": [
    "f = open('abc.txt', 'a+')\n",
    "\n",
    "f.write(\"Sky is blue! \\n Milk is White.\")\n",
    "\n",
    "s = f.read()\n",
    "\n",
    "print (\"File content = \", s)\n",
    "\n",
    "f.close()"
   ]
  },
  {
   "cell_type": "markdown",
   "metadata": {},
   "source": [
    "__seek(): Moving the file pointer in file__"
   ]
  },
  {
   "cell_type": "markdown",
   "metadata": {
    "collapsed": true
   },
   "source": [
    "Syntax:\n",
    "```python\n",
    "f.seek(<Offset>, <Whence>)\n",
    "```\n",
    "\n",
    "1. f.seek(n, io.SEEK_SET)\n",
    " reads from nth character from start of the file"
   ]
  },
  {
   "cell_type": "code",
   "execution_count": 21,
   "metadata": {},
   "outputs": [
    {
     "name": "stdout",
     "output_type": "stream",
     "text": [
      "Apple is sweet !!!Orange is sour!\r\n",
      "Sky is blue! \r\n",
      " Milk is White."
     ]
    }
   ],
   "source": [
    "!cat abc.txt"
   ]
  },
  {
   "cell_type": "code",
   "execution_count": 22,
   "metadata": {},
   "outputs": [
    {
     "name": "stdout",
     "output_type": "stream",
     "text": [
      "ange is sour!\n",
      "\n"
     ]
    }
   ],
   "source": [
    "import io\n",
    "f = open('abc.txt', 'a+')\n",
    "f.seek(20, io.SEEK_SET)\n",
    "s = f.readline()\n",
    "print(s)\n",
    "f.close()"
   ]
  },
  {
   "cell_type": "markdown",
   "metadata": {},
   "source": [
    "io.SEEK_SET, io.SEEK_CUR and io.SEEK_END are the reference points from which offset needs to be considered in a file."
   ]
  },
  {
   "cell_type": "markdown",
   "metadata": {},
   "source": [
    "```python\n",
    "f.seek(5, io.SEEK_SET) # moves file pointer to 5th character from file start\n",
    "f.seek(-10, io.SEEK_CUR) # moves file pointer to 10th character from current position\n",
    "f.seek(-10, io.SEEK_END) # moves file pointer to 50th character from end of the file\n",
    "```"
   ]
  },
  {
   "cell_type": "markdown",
   "metadata": {},
   "source": [
    "__f.tell():__ this function returns current offset position from start of the file"
   ]
  },
  {
   "cell_type": "code",
   "execution_count": 35,
   "metadata": {},
   "outputs": [
    {
     "name": "stdout",
     "output_type": "stream",
     "text": [
      "5\n",
      "b' is sweet !!!Orange is sour!\\n'\n",
      "34\n",
      "b'r!\\n'\n",
      "34\n",
      "b'White.'\n",
      "63\n",
      "b'Apple is sweet !!!Orange is sour!\\n'\n",
      "34\n",
      "b''\n",
      "63\n"
     ]
    }
   ],
   "source": [
    "import io\n",
    "f = open('abc.txt', 'rb')\n",
    "f.seek(5, io.SEEK_SET)\n",
    "print (f.tell())\n",
    "\n",
    "print (f.readline())\n",
    "print (f.tell())\n",
    "\n",
    "f.seek(-3, io.SEEK_CUR)\n",
    "print (f.readline())\n",
    "print (f.tell())\n",
    "\n",
    "f.seek(-6, io.SEEK_END)\n",
    "print (f.readline())\n",
    "print (f.tell())\n",
    "\n",
    "f.seek(0, io.SEEK_SET)\n",
    "print (f.readline())\n",
    "print (f.tell())\n",
    "\n",
    "f.seek(0, io.SEEK_END)\n",
    "print (f.readline())\n",
    "print (f.tell())"
   ]
  },
  {
   "cell_type": "code",
   "execution_count": 24,
   "metadata": {},
   "outputs": [
    {
     "name": "stdout",
     "output_type": "stream",
     "text": [
      "here are plenty of artificial intelligence (AI) trends emerging from China these days, but arguably the most intriguing are those that show just how close humans are to meeting their match at the hands of machines. This week, we saw 100Credit, a big data platform company, has launched a low-cost robot called \"Little 100Credit\" that reportedly collects bad debts over the phone 90% as often as its human counterparts . Yes, a robot calls up customers who owe money and helps people repay their debts\r\n",
      "almost as well as a human.\r\n"
     ]
    }
   ],
   "source": [
    "!cat data.txt"
   ]
  },
  {
   "cell_type": "markdown",
   "metadata": {},
   "source": [
    "__Program:__ Read text from a text file, find the word with most number of occurances"
   ]
  },
  {
   "cell_type": "code",
   "execution_count": 25,
   "metadata": {},
   "outputs": [
    {
     "name": "stdout",
     "output_type": "stream",
     "text": [
      "Most frequently occured word: [('a', 4)]\n"
     ]
    }
   ],
   "source": [
    "from collections import Counter\n",
    "\n",
    "f = open('data.txt')\n",
    "s = f.read()\n",
    "f.close()\n",
    "\n",
    "letters = [char for char in s if char.isalnum() or char == ' ']   \n",
    "words =  ''.join(letters).split()\n",
    "print ('Most frequently occured word:', Counter(words).most_common(1))"
   ]
  },
  {
   "cell_type": "markdown",
   "metadata": {},
   "source": [
    "__Storing data as CSV file__"
   ]
  },
  {
   "cell_type": "code",
   "execution_count": 26,
   "metadata": {},
   "outputs": [],
   "source": [
    "import datetime\n",
    "\n",
    "l = [(10001, datetime.date(1953, 9, 2), 'Georgi', 'Facello', 'M', datetime.date(1986, 6, 26)) ,\n",
    "(10002, datetime.date(1964, 6, 2), 'Bezalel', 'Simmel', 'F', datetime.date(1985, 11, 21)) ,\n",
    "(10003, datetime.date(1959, 12, 3), 'Parto', 'Bamford', 'M', datetime.date(1986, 8, 28)) ,\n",
    "(10004, datetime.date(1954, 5, 1), 'Chirstian', 'Koblick', 'M', datetime.date(1986, 12, 1)) ,\n",
    "(10005, datetime.date(1955, 1, 21), 'Kyoichi', 'Maliniak', 'M', datetime.date(1989, 9, 12)) ,\n",
    "(10006, datetime.date(1953, 4, 20), 'Anneke', 'Preusig', 'F', datetime.date(1989, 6, 2)) ,\n",
    "(10007, datetime.date(1957, 5, 23), 'Tzvetan', 'Zielinski', 'F', datetime.date(1989, 2, 10)) ,\n",
    "(10008, datetime.date(1958, 2, 19), 'Saniya', 'Kalloufi', 'M', datetime.date(1994, 9, 15)) ,\n",
    "(10009, datetime.date(1952, 4, 19), 'Sumant', 'Peac', 'F', datetime.date(1985, 2, 18)) ,\n",
    "(10010, datetime.date(1963, 6, 1), 'Duangkaew', 'Piveteau', 'F', datetime.date(1989, 8, 24))]"
   ]
  },
  {
   "cell_type": "code",
   "execution_count": 27,
   "metadata": {},
   "outputs": [
    {
     "data": {
      "text/plain": [
       "'Apple,Orange,Banana,Peach'"
      ]
     },
     "execution_count": 27,
     "metadata": {},
     "output_type": "execute_result"
    }
   ],
   "source": [
    "','.join(['Apple', 'Orange', 'Banana', 'Peach'])"
   ]
  },
  {
   "cell_type": "code",
   "execution_count": 28,
   "metadata": {},
   "outputs": [],
   "source": [
    "f = open('data.csv', 'w')\n",
    "for rec in l:\n",
    "    s = ','.join([str(rec[0]), rec[1].strftime('%Y-%m-%d'), \n",
    "         rec[2], rec[3], rec[4], rec[5].strftime('%Y-%m-%d')])\n",
    "    s += '\\n'\n",
    "    f.write(s)\n",
    "f.close()"
   ]
  },
  {
   "cell_type": "code",
   "execution_count": 29,
   "metadata": {},
   "outputs": [
    {
     "name": "stdout",
     "output_type": "stream",
     "text": [
      "10001,1953-09-02,Georgi,Facello,M,1986-06-26\r\n",
      "10002,1964-06-02,Bezalel,Simmel,F,1985-11-21\r\n",
      "10003,1959-12-03,Parto,Bamford,M,1986-08-28\r\n",
      "10004,1954-05-01,Chirstian,Koblick,M,1986-12-01\r\n",
      "10005,1955-01-21,Kyoichi,Maliniak,M,1989-09-12\r\n",
      "10006,1953-04-20,Anneke,Preusig,F,1989-06-02\r\n",
      "10007,1957-05-23,Tzvetan,Zielinski,F,1989-02-10\r\n",
      "10008,1958-02-19,Saniya,Kalloufi,M,1994-09-15\r\n",
      "10009,1952-04-19,Sumant,Peac,F,1985-02-18\r\n",
      "10010,1963-06-01,Duangkaew,Piveteau,F,1989-08-24\r\n"
     ]
    }
   ],
   "source": [
    "!cat data.csv"
   ]
  },
  {
   "cell_type": "code",
   "execution_count": 30,
   "metadata": {},
   "outputs": [
    {
     "name": "stdout",
     "output_type": "stream",
     "text": [
      "[10001, datetime.date(1953, 9, 2), 'Georgi', 'Facello', 'M', datetime.date(1986, 6, 26)]\n",
      "[10002, datetime.date(1964, 6, 2), 'Bezalel', 'Simmel', 'F', datetime.date(1985, 11, 21)]\n",
      "[10003, datetime.date(1959, 12, 3), 'Parto', 'Bamford', 'M', datetime.date(1986, 8, 28)]\n",
      "[10004, datetime.date(1954, 5, 1), 'Chirstian', 'Koblick', 'M', datetime.date(1986, 12, 1)]\n",
      "[10005, datetime.date(1955, 1, 21), 'Kyoichi', 'Maliniak', 'M', datetime.date(1989, 9, 12)]\n",
      "[10006, datetime.date(1953, 4, 20), 'Anneke', 'Preusig', 'F', datetime.date(1989, 6, 2)]\n",
      "[10007, datetime.date(1957, 5, 23), 'Tzvetan', 'Zielinski', 'F', datetime.date(1989, 2, 10)]\n",
      "[10008, datetime.date(1958, 2, 19), 'Saniya', 'Kalloufi', 'M', datetime.date(1994, 9, 15)]\n",
      "[10009, datetime.date(1952, 4, 19), 'Sumant', 'Peac', 'F', datetime.date(1985, 2, 18)]\n",
      "[10010, datetime.date(1963, 6, 1), 'Duangkaew', 'Piveteau', 'F', datetime.date(1989, 8, 24)]\n"
     ]
    }
   ],
   "source": [
    "import datetime\n",
    "f = open('data.csv')\n",
    "for rec in f:\n",
    "    rec = rec.rstrip('\\n')\n",
    "    \n",
    "    l = rec.split(',')\n",
    "    l[0] = int(l[0])\n",
    "    \n",
    "    year, month, day = [int(x) for x in l[1].split('-')]\n",
    "    l[1] = datetime.date(year, month, day)\n",
    "    \n",
    "    year, month, day = [int(x) for x in l[5].split('-')]\n",
    "    l[5] = datetime.date(year, month, day)\n",
    "    \n",
    "    print(l)\n",
    "f.close()"
   ]
  },
  {
   "cell_type": "code",
   "execution_count": 31,
   "metadata": {},
   "outputs": [],
   "source": [
    "rec1 = '1234 John 23000 Male'\n",
    "rec2 = '1235 Samantha 34000 Female'\n",
    "\n",
    "f = open('data.csv', 'w')\n",
    "\n",
    "l = rec1.split()\n",
    "rec = ','.join(l) + '\\n'\n",
    "f.write(rec)\n",
    "\n",
    "l = rec2.split()\n",
    "rec = ','.join(l) + '\\n'\n",
    "f.write(rec)\n",
    "\n",
    "f.close()\n"
   ]
  },
  {
   "cell_type": "code",
   "execution_count": 32,
   "metadata": {},
   "outputs": [
    {
     "name": "stdout",
     "output_type": "stream",
     "text": [
      "1234,John,23000,Male\r\n",
      "1235,Samantha,34000,Female\r\n"
     ]
    }
   ],
   "source": [
    "!cat data.csv"
   ]
  },
  {
   "cell_type": "markdown",
   "metadata": {},
   "source": [
    "__Reading data from CSV file__"
   ]
  },
  {
   "cell_type": "code",
   "execution_count": 33,
   "metadata": {},
   "outputs": [
    {
     "name": "stdout",
     "output_type": "stream",
     "text": [
      "['1234', 'John', '23000', 'Male']\n",
      "['1235', 'Samantha', '34000', 'Female']\n"
     ]
    }
   ],
   "source": [
    "f = open('data.csv')\n",
    "for line in f:\n",
    "    l = line.rstrip('\\n').split(',')\n",
    "    print(l)\n",
    "f.close()"
   ]
  },
  {
   "cell_type": "markdown",
   "metadata": {},
   "source": [
    "__With:__ Open a file with context manager"
   ]
  },
  {
   "cell_type": "code",
   "execution_count": 34,
   "metadata": {},
   "outputs": [
    {
     "name": "stdout",
     "output_type": "stream",
     "text": [
      "Apple is sweet !!!Orange is sour!\n",
      "Sky is blue! \n",
      " Milk is White.\n"
     ]
    }
   ],
   "source": [
    "with open('abc.txt') as f:\n",
    "    print(f.read())"
   ]
  },
  {
   "cell_type": "markdown",
   "metadata": {},
   "source": [
    "__Note:__ With closes file automatically, even an exception occured."
   ]
  },
  {
   "cell_type": "markdown",
   "metadata": {},
   "source": [
    "__Useful functions from os module__"
   ]
  },
  {
   "cell_type": "markdown",
   "metadata": {},
   "source": [
    "import os\n",
    "\n",
    "_os.getcwd():_ Returns current working directory\n",
    "\n",
    "_os.mkdir():_ Creates a directory\n",
    "\n",
    "_os.chdir():_ Change directory\n",
    "\n",
    "_os.remove():_ Removes a file\n",
    "\n",
    "_os.rmdir():_ Removing directory\n",
    "\n",
    "_os.listdir('.'):_ Lists current directory"
   ]
  },
  {
   "cell_type": "markdown",
   "metadata": {
    "collapsed": true
   },
   "source": [
    "### Interview questions"
   ]
  },
  {
   "cell_type": "markdown",
   "metadata": {},
   "source": [
    "1. How do you read line by line from a file in python ?<br>\n",
    "```python\n",
    "with open('abc.txt') as f:\n",
    "    s = f.read()\n",
    "```\n",
    "2. What happens if ‘abc.txt’ doesn’t exist?"
   ]
  },
  {
   "cell_type": "code",
   "execution_count": null,
   "metadata": {},
   "outputs": [],
   "source": []
  }
 ],
 "metadata": {
  "anaconda-cloud": {},
  "kernelspec": {
   "display_name": "Python 3",
   "language": "python",
   "name": "python3"
  },
  "language_info": {
   "codemirror_mode": {
    "name": "ipython",
    "version": 3
   },
   "file_extension": ".py",
   "mimetype": "text/x-python",
   "name": "python",
   "nbconvert_exporter": "python",
   "pygments_lexer": "ipython3",
   "version": "3.6.6"
  }
 },
 "nbformat": 4,
 "nbformat_minor": 1
}
