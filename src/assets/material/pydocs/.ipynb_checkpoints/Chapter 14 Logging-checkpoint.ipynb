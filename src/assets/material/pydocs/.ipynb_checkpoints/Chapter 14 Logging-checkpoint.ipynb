{
 "cells": [
  {
   "cell_type": "markdown",
   "metadata": {},
   "source": [
    "### Python Programming\n",
    "\n",
    "# Chapter 14\n",
    "\n",
    "## Logging\n",
    "\n",
    "Copyright 2019\n",
    "\n",
    "Narendra Allam\n",
    "\n",
    "- Introduction\n",
    "- Logging levels\n",
    "- Basic logging\n",
    "- Advanced logging\n",
    "\n",
    "It is very important to record the activies of a software system. This process is called logging. We can achieve this by printing a message on console when a significant event happening in the system. \n",
    "\n",
    "Examples are, showing the status of success or failure of a database connectivity, or a network event or a file access etc. This helps us in tracking the system health, resource utilization at an instance. \n",
    "\n",
    "When a software system crashes, first thing every developer does is 'looking at logs of the program. \n",
    "\n",
    "Printing logs on a console doesn't persist in memory once machine is shutdown. \n",
    "\n",
    "Most frequently logs are written on permenent storage devices as files. File logging is very popular in the industry.\n",
    "\n",
    "Simple printing statments are prefered when programs are smaller. This approache is not suggested when running complex projects and programs running in the background. Hence File logging is prefered over console logging. There are other logging mediums used, based on project requirements. \n",
    "\n",
    "Examples \n",
    "- database logging - logging events in any database\n",
    "- SMTP logging - logs are sent through emails\n",
    "- Network logging - Logs are sent to sockets etc\n",
    "\n",
    "In file logging messages are appended to a file during program running to know the state and status of it.\n",
    "\n",
    "Generally logs are appended with different types of criticality levels. So that, based on the level we can segregate process, filter and analyze and identify criticality of the issues and take an action.\n",
    "\n",
    "Below are different types of levels for logging message, based on the requirement we can set the log levels\n",
    "\n",
    "- <b>DEBUG:</b> This can be used to know intermediate results of some operation or task and verify or evaluate the results. For eg., results of adding two lists or to know contents of dict. Numeric value for this level is 10\n",
    "- <b>INFO:</b> This is just to know the information or progress of a task or program. In following cases it can be used. For eg., service started successfully, successful login Numeric value for this level is 20\n",
    "- <b>WARNING:</b> These are soft messages and no blockage in executing the code. Can be used for wrong password. Numeric value for this level is 30\n",
    "- <b>ERROR:</b> We can use this level if there are any logical errors in code and environment related errors while setup. For eg., try to open file and failed, value error when converting string to int or vice versa Numeric value for this level is 40\n",
    "- <b>CRITICAL:</b> This level having the highest priority. This can be used for memory exceptions or index error. Numeric value for this level is 50\n",
    "\n",
    "*Numeric value is just to define its priority(criticality or significance) based on the number. Based on the level set the specific level messages are logged. If the level set to DEBUG all types of messages are logged into file.\n",
    "Let us see the basic logging functionality\n",
    "\n",
    "<b>Basic Logging:</b>"
   ]
  },
  {
   "cell_type": "code",
   "execution_count": 1,
   "metadata": {},
   "outputs": [
    {
     "name": "stderr",
     "output_type": "stream",
     "text": [
      "Warning message\n",
      "Error message\n",
      "Critical message\n"
     ]
    }
   ],
   "source": [
    "import logging \n",
    "\n",
    "#returns the logger instance with the given name\n",
    "logger = logging.getLogger(__name__) # can provide module name for the logger\n",
    "\n",
    "logger.warning(\"Warning message\")\n",
    "logger.error(\"Error message\")\n",
    "logger.critical(\"Critical message\")"
   ]
  },
  {
   "cell_type": "markdown",
   "metadata": {},
   "source": [
    "Below is the method to log messages into the file\n",
    "\n",
    "<b>FileHandler:</b> \n",
    "It is the basic handler used to write the logging messages in to the file which can be used to\n",
    "debug and analyze the code. Also used to maintain the state and status of the program execution at particular\n",
    "time. Used to analyze and resolve the issues."
   ]
  },
  {
   "cell_type": "code",
   "execution_count": 5,
   "metadata": {},
   "outputs": [],
   "source": [
    "import logging\n",
    "logger = logging.getLogger(__name__)\n",
    "logger.setLevel(logging.DEBUG)\n",
    "# returns the file handler to write messages into file\n",
    "handler = logging.FileHandler(\"test_log\", mode=\"a\")\n",
    "# adding a handler to the logger\n",
    "logger.addHandler(handler)\n",
    "logger.error(\"error message in to file\")\n",
    "logger.warning(\"warning message in to file\")\n",
    "logger.info(\"Dictionary contents %s\" %({'key': 'value'}))"
   ]
  },
  {
   "cell_type": "code",
   "execution_count": 6,
   "metadata": {},
   "outputs": [
    {
     "name": "stdout",
     "output_type": "stream",
     "text": [
      "error message in to file\r\n",
      "warning message in to file\r\n",
      "Dictionary contents {'key': 'value'}\r\n",
      "age in to file\r\n",
      "Dictionary contents {'key': 'value'}\r\n",
      "Dictionary contents {'key': 'value'}\r\n"
     ]
    }
   ],
   "source": [
    "!cat test_log"
   ]
  },
  {
   "cell_type": "markdown",
   "metadata": {},
   "source": [
    "<b>Rotating File Handler:- </b>\n",
    "If we use the file handler at some point of time it will fill the whole disk because there is\n",
    "no limit in file size. In order to avoid this situation RotatingFileHandler can be used which is having the limit size (can set the file size).\n",
    "\n",
    "We can provide the size of file in maxBytes and backupCount is used to take the backup of the log file once it reached to maxBytes.\n",
    "\n",
    "Based on backupCount it will maintain those number of backup files.\n",
    "\n",
    "For eg., backupCount is 2 then backup files created test_log.1, test_log.2.\n",
    "\n",
    "Current logs are written to test_log once limit is full it renames"
   ]
  },
  {
   "cell_type": "code",
   "execution_count": 9,
   "metadata": {},
   "outputs": [],
   "source": [
    "import logging\n",
    "logger = logging.getLogger(__name__)\n",
    "logger.setLevel(logging.DEBUG)\n",
    "# return the rotating file handler to write messages into file\n",
    "handler = logging.handlers.RotatingFileHandler(\"test_log\", mode=\"a\", maxBytes=1024, backupCount=5)\n",
    "# add handler to the logger\n",
    "logger.addHandler(handler)\n",
    "logger.error(\"error message in to file\")"
   ]
  },
  {
   "cell_type": "code",
   "execution_count": 11,
   "metadata": {},
   "outputs": [
    {
     "name": "stdout",
     "output_type": "stream",
     "text": [
      "test_log\r\n"
     ]
    }
   ],
   "source": [
    "!ls | grep test_log"
   ]
  },
  {
   "cell_type": "code",
   "execution_count": 12,
   "metadata": {},
   "outputs": [
    {
     "name": "stdout",
     "output_type": "stream",
     "text": [
      "error message in to file\r\n",
      "warning message in to file\r\n",
      "Dictionary contents {'key': 'value'}\r\n",
      "error message in to file\r\n",
      " contents {'key': 'value'}\r\n",
      "Dictionary contents {'key': 'value'}\r\n",
      "error message in to file\r\n",
      "error message in to file\r\n",
      "error message in to file\r\n"
     ]
    }
   ],
   "source": [
    "!cat test_log"
   ]
  },
  {
   "cell_type": "markdown",
   "metadata": {},
   "source": [
    "<b>Log Formatting:</b>\n",
    "\n",
    "For better human readability and to search the content in file in better way we can format and log the message\n",
    "into file.\n",
    "\n",
    "Below are the attributes can be used in formatting the message:\n",
    "\n",
    "- %(name)s Name of the logger (logging channel)\n",
    "- %(levelno)s Numeric logging level for the message (DEBUG, INFO, WARNING, ERROR, CRITICAL)\n",
    "- %(levelname)s Text logging level for the message (\"DEBUG\", \"INFO\", \"WARNING\", \"ERROR\", \"CRITICAL\")\n",
    "- %(pathname)s Full pathname of the source file where the logging call was issued (if available)\n",
    "- %(filename)s Filename portion of pathname\n",
    "- %(module)s Module (name portion of filename)\n",
    "- %(lineno)d Source line number where the logging call was issued (if available)\n",
    "- %(funcName)s Function name\n",
    "- %(created)f Time when the LogRecord was created (time.time() return value)\n",
    "- %(asctime)s Textual time when the LogRecord was created\n",
    "- %(msecs)d Millisecond portion of the creation time\n",
    "- %(relativeCreated)d Time in milliseconds when the LogRecord was created, relative to the time the logging module was loaded (typically at application startup time)\n",
    "- %(thread)d Thread ID (if available)\n",
    "- %(threadName)s Thread name (if available)\n",
    "- %(process)d Process ID (if available)\n",
    "- %(message)s The result of record.getMessage(), computed just as the record is emitted\n",
    "\n",
    "Example program to format and log the message by using the above attributes"
   ]
  },
  {
   "cell_type": "code",
   "execution_count": 14,
   "metadata": {},
   "outputs": [],
   "source": [
    "import logging\n",
    "logger = logging.getLogger(__name__)\n",
    "logger.setLevel(logging.DEBUG)\n",
    "formatter = logging.Formatter(\"%(asctime)s %(levelname)s %(lineno)d %(message)s\")\n",
    "# return the file handler to write messages into file\n",
    "handler = logging.FileHandler(\"test_log\", mode=\"a\")\n",
    "handler.setFormatter(formatter)\n",
    "# add handler to the logger\n",
    "logger.addHandler(handler)\n",
    "logger.error(\"error message in to file\")\n",
    "logger.warning(\"warning message in to file\")"
   ]
  },
  {
   "cell_type": "markdown",
   "metadata": {},
   "source": [
    "<b>Contents of the log file:</b>\n",
    "    \n",
    "There are four parts in below message first part is time, second part is log level ERROR and INFO, third part is\n",
    "the line number where the logger message is placed in code and fourth part is the actual message.\n",
    "\n",
    "    2018-01-10 23:44:12,391 ERROR 48 error message in to file\n",
    "\n",
    "    2018-01-10 23:44:12,392 INFO 49 Dictionary contents {'key': 'value'}\n",
    "        \n",
    "Following is how to set the basic configuration of logging system. This is to ensure that at least one handler is\n",
    "available. If the logger is added any handler this function does nothing.\n",
    "\n",
    "Attributes used for the basicConfig:\n",
    "    \n",
    "- <b>filename</b> Specifies file name to create FileHandler<br>\n",
    "- <b>filemode</b> Specifies the mode to open the file (defaults to append mode).<br>\n",
    "- <b>format</b> Use the specified format string for the handler.<br>\n",
    "- <b>datefmt</b> Use the specified date/time format.<br>\n",
    "- <b>level</b> Set the root logger level to the specified level.<br>\n",
    "- <b>stream</b> Use the specified stream to initialize the StreamHandler. (file stream can be used: open(filename,\n",
    "mode)<br>"
   ]
  },
  {
   "cell_type": "code",
   "execution_count": 16,
   "metadata": {},
   "outputs": [],
   "source": [
    "import logging\n",
    "logging.basicConfig(filename=\"test_log\",\n",
    "filemode=\"a\",\n",
    "level=logging.DEBUG,\n",
    "format=\"%(asctime)s %(levelname)s %(lineno)d %(message)s\")\n",
    "logger = logging.getLogger(__name__) # __name__ - give name of thhe file\n",
    "logger.info(\"info message in to file\")"
   ]
  }
 ],
 "metadata": {
  "kernelspec": {
   "display_name": "Python 3",
   "language": "python",
   "name": "python3"
  },
  "language_info": {
   "codemirror_mode": {
    "name": "ipython",
    "version": 3
   },
   "file_extension": ".py",
   "mimetype": "text/x-python",
   "name": "python",
   "nbconvert_exporter": "python",
   "pygments_lexer": "ipython3",
   "version": "3.6.6"
  }
 },
 "nbformat": 4,
 "nbformat_minor": 2
}
