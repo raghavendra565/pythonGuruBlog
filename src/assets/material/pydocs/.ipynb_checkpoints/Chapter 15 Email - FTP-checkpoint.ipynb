{
 "cells": [
  {
   "cell_type": "markdown",
   "metadata": {},
   "source": [
    "### Python Programming\n",
    "\n",
    "# Chapter 15\n",
    "\n",
    "## Email & FTP\n",
    "Narendra Allam\n",
    "\n",
    "Copyright 2019\n",
    "\n",
    "## Allowing less secure apps to access your account\n",
    "\n",
    "Google may block sign-in attempts from some apps or devices that do not use modern security standards. Since these apps and devices are easier to break into, blocking them helps keep your account safe.\n",
    "\n",
    "#### Change account access for less secure apps\n",
    "\n",
    "To help keep Google Accounts through work, school, or other groups more secure, we block some less secure apps from using them. If you have this kind of account, you’ll see a \"Password incorrect\" error when trying to sign in. If so, you have two options:\n",
    "\n",
    "<b> Option 1:</b>  Install a more secure app that uses stronger security measures. All Google products, like Gmail, use the latest security measures.\n",
    "\n",
    "<b> Option 2:</b>  Change your settings to allow less secure apps into your account. We don't recommend this option because it can make it easier for someone to break into your account. If you want to allow access anyway, follow these steps:\n",
    "- Go to your Google Account.\n",
    "- On the left navigation panel, click Security.\n",
    "- On the bottom of the page, in the Less secure app access panel, click Turn on access.\n",
    "     - If you don't see this setting, your administrator might have turned off less secure app account access.\n",
    "\n",
    "If you still can't sign in to your account, the \"password incorrect\" error might be caused by a different reason."
   ]
  },
  {
   "cell_type": "code",
   "execution_count": null,
   "metadata": {},
   "outputs": [],
   "source": [
    "import smtplib\n",
    "from password import PASSWORD\n",
    "\n",
    "TO = [\"naren.allam@gmail.com\"]\n",
    "FROM = 'info@rossum.io'\n",
    "SUBJECT = 'ROSSUM - Python Demo'\n",
    "TEXT = 'This is a test mail. \\n\\nThanks, \\nPython'\n",
    "message = \"\"\"From: {}\\nTo: {}\\nSubject: {}\\n\\n{}\n",
    "    \"\"\".format(FROM, \", \".join(TO), SUBJECT, TEXT)\n",
    "\n",
    "\n",
    "server = smtplib.SMTP(\"smtp.gmail.com\", 587)\n",
    "server.ehlo()\n",
    "server.starttls()\n",
    "server.login(FROM, PASSWORD)\n",
    "server.sendmail(FROM, TO, message)\n",
    "server.close()"
   ]
  },
  {
   "cell_type": "code",
   "execution_count": null,
   "metadata": {},
   "outputs": [],
   "source": [
    "import smtplib\n",
    "from password import PASSWORD\n",
    "\n",
    "TO = ['naren.allam@gmail.com']\n",
    "FROM = 'info@rossum.io'\n",
    "\n",
    "SUBJECT = 'Class room email test'\n",
    "TEXT = 'This is a test mail from vasu'\n",
    "\n",
    "server = smtplib.SMTP_SSL(\"smtp.gmail.com\", 465)\n",
    "server.login(FROM, PASSWORD)\n",
    "server.sendmail(FROM, TO, TEXT)\n",
    "server.close()"
   ]
  },
  {
   "cell_type": "code",
   "execution_count": null,
   "metadata": {},
   "outputs": [],
   "source": [
    "from password import PASS_WORD\n",
    "def send_email(user, pwd, recipient, subject, body):\n",
    "    import smtplib\n",
    "\n",
    "    gmail_user = user\n",
    "    gmail_pwd = pwd\n",
    "    FROM = user\n",
    "    TO = recipient if type(recipient) is list else [recipient]\n",
    "    SUBJECT = subject\n",
    "    TEXT = body\n",
    "\n",
    "    # Prepare actual message\n",
    "    message = \"\"\"From: %s\\nTo: %s\\nSubject: %s\\n\\n%s\n",
    "    \"\"\" % (FROM, \", \".join(TO), SUBJECT, TEXT)\n",
    "    try:\n",
    "        server = smtplib.SMTP_SSL(\"smtp.gmail.com\", 465)\n",
    "        server.login(gmail_user, gmail_pwd)\n",
    "        server.sendmail(FROM, TO, message)\n",
    "        server.close()\n",
    "        print ('Successfully sent the mail')\n",
    "    except Exception as ex:\n",
    "        print (ex)\n",
    "        print (\"failed to send mail\")\n",
    "        \n",
    "FROM = 'naren.allam@gmail.com'\n",
    "TO = ['vinthavasu@gmail.com','chaith750@gmail.com']\n",
    "\n",
    "gmail_user = 'naren.allam@gmail.com'\n",
    "gmail_pwd = PASS_WORD\n",
    "\n",
    "SUBJECT = 'Class room email test'\n",
    "TEXT = '<html><h1>This is a test mail<h1> <br> Thanks, <br> Python</html>'\n",
    "\n",
    "\n",
    "send_email(gmail_user, gmail_pwd, TO, SUBJECT, TEXT)"
   ]
  },
  {
   "cell_type": "markdown",
   "metadata": {},
   "source": [
    "### FTP"
   ]
  },
  {
   "cell_type": "code",
   "execution_count": null,
   "metadata": {},
   "outputs": [],
   "source": [
    "from ftplib import FTP\n",
    "\n",
    "#domain name or server ip:\n",
    "ftp = FTP('123.server.ip')\n",
    "ftp.login(user='username', passwd = 'password')\n",
    "\n",
    "# You can then change into a specific directory with:\n",
    "ftp.cwd('/whyfix/')\n",
    "\n",
    "def grabFile():\n",
    "\n",
    "    filename = 'example.txt'\n",
    "\n",
    "    localfile = open(filename, 'wb')\n",
    "    ftp.retrbinary('RETR ' + filename, localfile.write, 1024)\n",
    "\n",
    "    ftp.quit()\n",
    "    localfile.close()\n",
    "    "
   ]
  },
  {
   "cell_type": "markdown",
   "metadata": {},
   "source": [
    "So there are a few things here, so let's walk through it.\n",
    "First, we assign the file name to a variable. Then, we prepare our local file to be written\n",
    "in accordance with whatever the remote file contains.\n",
    "\n",
    "Next, we retrieve the binary data from the remote server, then we write to the local file\n",
    "what we find. The last parameter there, the 1024, is in reference to buffering. Basically,\n",
    "how much data at a time will we do? So at 1024, 1024 byte chunks will be transferred at a\n",
    "time until the full operation is complete.\n",
    "\n",
    "Next, how about uploading a file?"
   ]
  },
  {
   "cell_type": "code",
   "execution_count": null,
   "metadata": {},
   "outputs": [],
   "source": [
    "def placeFile():\n",
    "\n",
    "    filename = 'exampleFile.txt'\n",
    "    ftp.storbinary('STOR '+filename, open(filename, 'rb'))\n",
    "    ftp.quit()\n",
    "\n",
    "placeFile()"
   ]
  }
 ],
 "metadata": {
  "anaconda-cloud": {},
  "kernelspec": {
   "display_name": "Python 3",
   "language": "python",
   "name": "python3"
  },
  "language_info": {
   "codemirror_mode": {
    "name": "ipython",
    "version": 3
   },
   "file_extension": ".py",
   "mimetype": "text/x-python",
   "name": "python",
   "nbconvert_exporter": "python",
   "pygments_lexer": "ipython3",
   "version": "3.6.6"
  }
 },
 "nbformat": 4,
 "nbformat_minor": 1
}
