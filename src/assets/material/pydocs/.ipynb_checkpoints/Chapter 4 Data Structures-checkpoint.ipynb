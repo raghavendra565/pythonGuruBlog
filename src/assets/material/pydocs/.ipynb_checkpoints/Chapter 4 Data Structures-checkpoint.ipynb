{
 "cells": [
  {
   "cell_type": "markdown",
   "metadata": {},
   "source": [
    "\n",
    "### Python Programming\n",
    "##### by Narendra Allam\n",
    "Copyright 2019\n",
    "# Chapter 4\n",
    "\n",
    "## Data Structures\n",
    "\n",
    "#### Topics covering in this chapter\n",
    "- list\n",
    "    - list Operations and functions\n",
    "        - Finding length of list\n",
    "        - Modifying value at index\n",
    "        - Adding an element at the end \n",
    "        - Adding an element at a specific location\n",
    "        - Deleting an element from the end\n",
    "    - Iterating a list using while\n",
    "    - enumerate()\n",
    "    - List functions\n",
    "    - Creating a Stack (LIFO) using list\n",
    "    - Creating a Queue (FIFO) using list\n",
    "    - Find the index of the given element\n",
    "    - Reversing a list\n",
    "    - Reversing list using slicing\n",
    "    - Sorting a list\n",
    "    - Unpacking\n",
    "    - Slicing\n",
    "    - List Comparisions\n",
    "- tuple\n",
    "    - Differences with list\n",
    "        - Brackets\n",
    "        - Mutability\n",
    "    - Similarities with list\n",
    "        - Declaration\n",
    "        - Indexing\n",
    "        - Scalar Multiplication\n",
    "        - Iteration\n",
    "        - Slicing and  -ve indexing\n",
    "    - Tuple unpacking\n",
    "- List vs Tuple\n",
    "- list of tuples - frequently used construct\n",
    "    - iterating\n",
    "    - sorting\n",
    "    - largest\n",
    "    - smallest\n",
    "    - enumerate\n",
    "    - zip and unzip\n",
    "- Set\n",
    "  - Introduction to set\n",
    "  - How set removes duplicates?\n",
    "  - Set functions\n",
    "    - Searching for an element\n",
    "      - 'in' operator - The fastest\n",
    "    - Adding an element\n",
    "      - add()\n",
    "    - Removing an element\n",
    "      - remove()\n",
    "      - discard()\n",
    "      - pop()\n",
    "\n",
    "    - Relation between two sets\n",
    "      - intersection()\n",
    "      - union()\n",
    "      - difference()\n",
    "      - isdisjoint()\n",
    "      - issubset()\n",
    "      - issuperset()\n",
    "    - Merging two sets\n",
    "      - update()\n",
    "  - Why tuples are hashable but not lists?\n",
    "  - Set Use-Cases\n",
    "      - Removing duplicates from a list\n",
    "      - Fastest lookups\n",
    "      - Intersections, Unions, Difference and set relations\n",
    "\n",
    "- Dictionary\n",
    "  - Introduction of Dictionary - Associative data structure\n",
    "  - Creating a Dictionary\n",
    "  - Adding elements to Dictionary\n",
    "  - Deleting key value pair\n",
    "  - Updating / extending a Dictionary\n",
    "  - Iterating through a Dictionary\n",
    "  - Tuple unpacking method\n",
    "  - Converting list of tuples into Dictionary\n",
    "  - Converting Dictionary to List of tuples\n",
    "  - Lambda introduction\n",
    "  - Sorting List of tuples and dictionaries\n",
    "  - Finding max(), min() in a dict\n",
    "  - Whereever you go, dictionary follows you!\n",
    "  - Dictionary Use-Cases\n",
    "      - Counting Problem\n",
    "      - Grouping Problem\n",
    "      - Always Latest\n",
    "      - Caching\n",
    "      \n",
    "- Counter() \n",
    "    - simplest counting algorithm\n",
    "- DefaultDict \n",
    "    - Always has a value\n",
    "- Dequeue \n",
    "    - Short time memory loss\n",
    "\n",
    "- Heapq \n",
    "    - efficient in-memory min-heap()\n",
    "    - heapify()\n",
    "    - nlargest()\n",
    "    - nsmallest()\n",
    "    - heappush()\n",
    "    - heappop()\n",
    "  \n",
    "- ForzenSet\n",
    "    - Hashable set\n",
    "    - Use-Cases\n",
    "        - Set of sets\n",
    "        - Set as Key in Dict\n",
    "    \n",
    "- Packing and Unpacking\n",
    "  - Swapping two values\n",
    "  - List packing and Unpacking\n",
    "  - Tuple packing and Unpacking\n",
    "  - String packing and Unpacking\n",
    "  - Set packing and Unpacking\n",
    "  \n",
    "- Iterating containers using iter() and next()"
   ]
  },
  {
   "cell_type": "markdown",
   "metadata": {},
   "source": [
    "### Introduction\n",
    "Data structure is a particular way of organizing data in memory, so that it can be searched, retrieved, stored and processed efficiently. Any data structure is designed to organize data to suit a specific purpose. General data structure types include the list, the tree, the graph and so on. Python has its own set of efficiently implemented built-in data structures.\n",
    "\n",
    "\n",
    "### List\n",
    "List is a collection of elements(python objects). Purpose of list is, to group up the things, which falls under same category. \n",
    "\n",
    "  <b> e.g.,</b> <br> List of grocery items,<br> List of employee ids,<br>  List of book names etc.<br>\n",
    "\n",
    "As group of similar elements stored in a list, mostly those are homogenous(of same data type).\n",
    "\n",
    "Creating a list in python is putting different comma-separated values, between square brackets. <br>\n",
    "\n",
    "Eventhough list principle suggests homogeneous data items in it, it is not mandatory and still allowed to have different types.\n",
    "\n",
    "For example −<br>\n",
    "\n",
    "``` python\n",
    "l1 = [30, 32, 31, 35.5, 30, 36, 34]\n",
    "l2 = [1234, 'John', 230000.05, True] # Supports multiple types\n",
    "l3 = [] # empty list\n",
    "l4 = [99] # list with single value\n",
    "l5 = list()\n",
    "l6 = list([4, 5, 6])\n",
    "```\n",
    "\n",
    "* List is mutable.\n",
    "\n",
    "* **IQ: Python list is implemented using dynamically resizable array(vector in C++,Java etc.).\n",
    "* List uses indexing to access values.\n",
    "* search operation on an unsorted list is O(n) operation.\n",
    "* **IQ: lists  are un-hashable\n",
    "* type of list is 'list'"
   ]
  },
  {
   "cell_type": "markdown",
   "metadata": {},
   "source": [
    "Each element in a list can be accessed using square brackets enclosing its positional value called indexing. <br>\n",
    "In the below list fruits, \n",
    "```python\n",
    "fruits = [\"Apple\", \"Orange\", \"Banana\", \"Peach\", \"grape\"] \n",
    "```\n",
    "fruits[0] refers \"Apple\", <br>\n",
    "fruits[1] refers \"Orange\",  <br>\n",
    "fruits[2] refers \"Banana\",  <br>\n",
    "and so on.. <br>\n",
    "\n",
    "<img src='drawing4.png' width='600'>\n"
   ]
  },
  {
   "cell_type": "code",
   "execution_count": 1,
   "metadata": {},
   "outputs": [
    {
     "name": "stdout",
     "output_type": "stream",
     "text": [
      "Apple\n"
     ]
    }
   ],
   "source": [
    "fruits = [\"Apple\", \"Orange\", \"Banana\", \"Peach\", \"grape\"]\n",
    "print (fruits[0])"
   ]
  },
  {
   "cell_type": "code",
   "execution_count": 2,
   "metadata": {},
   "outputs": [
    {
     "name": "stdout",
     "output_type": "stream",
     "text": [
      "Orange\n"
     ]
    }
   ],
   "source": [
    "print(fruits[1])"
   ]
  },
  {
   "cell_type": "markdown",
   "metadata": {},
   "source": [
    "As starting index is 0, Last item index is 4, not 5, so we get IndexError."
   ]
  },
  {
   "cell_type": "markdown",
   "metadata": {},
   "source": [
    "#### list Operations and Functions"
   ]
  },
  {
   "cell_type": "markdown",
   "metadata": {},
   "source": [
    "_Checking existance of an element_"
   ]
  },
  {
   "cell_type": "code",
   "execution_count": 3,
   "metadata": {},
   "outputs": [
    {
     "name": "stdout",
     "output_type": "stream",
     "text": [
      "True\n"
     ]
    }
   ],
   "source": [
    "l = [3, 4, 5, 8, 2, 1, 55, 4, 3, 12]\n",
    "x = 12\n",
    "print(x in l)"
   ]
  },
  {
   "cell_type": "markdown",
   "metadata": {},
   "source": [
    "_Finding length of a list:_"
   ]
  },
  {
   "cell_type": "code",
   "execution_count": 4,
   "metadata": {},
   "outputs": [
    {
     "name": "stdout",
     "output_type": "stream",
     "text": [
      "6\n"
     ]
    }
   ],
   "source": [
    "l = [3, 4, 5, 8, 2, 1]\n",
    "print(len(l))"
   ]
  },
  {
   "cell_type": "markdown",
   "metadata": {},
   "source": [
    "_modifying value at index i:_"
   ]
  },
  {
   "cell_type": "code",
   "execution_count": 5,
   "metadata": {},
   "outputs": [
    {
     "name": "stdout",
     "output_type": "stream",
     "text": [
      "[6, 4, 5, 99, 2, 1]\n"
     ]
    }
   ],
   "source": [
    "i = 3\n",
    "l = [6, 4, 5, 8, 2, 1]\n",
    "l[i] = 99\n",
    "print(l)"
   ]
  },
  {
   "cell_type": "markdown",
   "metadata": {},
   "source": [
    "_Adding an element at the end:_"
   ]
  },
  {
   "cell_type": "code",
   "execution_count": 6,
   "metadata": {},
   "outputs": [
    {
     "name": "stdout",
     "output_type": "stream",
     "text": [
      "[6, 4, 5, 8, 2, 1, 99]\n"
     ]
    }
   ],
   "source": [
    "l = [6, 4, 5, 8, 2, 1]\n",
    "l.append(99)\n",
    "print(l)"
   ]
  },
  {
   "cell_type": "markdown",
   "metadata": {},
   "source": [
    "_Adding an element at a specific location:_\n",
    "\n",
    "insert(index, value): takes index and value"
   ]
  },
  {
   "cell_type": "code",
   "execution_count": 7,
   "metadata": {},
   "outputs": [
    {
     "name": "stdout",
     "output_type": "stream",
     "text": [
      "[6, 4, 99, 5, 8, 2, 1]\n"
     ]
    }
   ],
   "source": [
    "l = [6, 4, 5, 8, 2, 1]\n",
    "l.insert(2, 99)\n",
    "print(l)"
   ]
  },
  {
   "cell_type": "markdown",
   "metadata": {},
   "source": [
    "_Deleting an element from the end:_\n",
    "\n",
    "pop() removes the elements from the end by default, and returns"
   ]
  },
  {
   "cell_type": "code",
   "execution_count": 8,
   "metadata": {},
   "outputs": [
    {
     "name": "stdout",
     "output_type": "stream",
     "text": [
      "Element removed is: 1\n",
      "[6, 4, 5, 8, 2]\n"
     ]
    }
   ],
   "source": [
    "l = [6, 4, 5, 8, 2, 1]\n",
    "rem = l.pop()\n",
    "print ('Element removed is:', rem)\n",
    "print(l)"
   ]
  },
  {
   "cell_type": "markdown",
   "metadata": {},
   "source": [
    "_Deleting an element from a specific location:_\n",
    "\n",
    "pop() also takes an index, removes the element and returns. Throws error if index is invalid."
   ]
  },
  {
   "cell_type": "code",
   "execution_count": 9,
   "metadata": {},
   "outputs": [
    {
     "name": "stdout",
     "output_type": "stream",
     "text": [
      "Element removed is: 8\n",
      "[6, 4, 5, 2, 1]\n"
     ]
    }
   ],
   "source": [
    "l = [6, 4, 5, 8, 2, 1]\n",
    "rem = l.pop(3)\n",
    "print('Element removed is:', rem)\n",
    "print(l)"
   ]
  },
  {
   "cell_type": "markdown",
   "metadata": {},
   "source": [
    "_Find and delete an element with specified value:_\n",
    "\n",
    "remove() doesn't return a value. It simply removes the first occurance of the value. Throws ValueError if element not found."
   ]
  },
  {
   "cell_type": "code",
   "execution_count": 10,
   "metadata": {},
   "outputs": [
    {
     "name": "stdout",
     "output_type": "stream",
     "text": [
      "[6, 4, 5, 2, 1, 25, 7]\n"
     ]
    }
   ],
   "source": [
    "l = [6, 4, 5, 25, 2, 1, 25, 7]\n",
    "l.remove(25)\n",
    "print(l)"
   ]
  },
  {
   "cell_type": "markdown",
   "metadata": {},
   "source": [
    "_Iterating a list using while:_"
   ]
  },
  {
   "cell_type": "code",
   "execution_count": 11,
   "metadata": {},
   "outputs": [
    {
     "name": "stdout",
     "output_type": "stream",
     "text": [
      "6\n",
      "4\n",
      "5\n",
      "8\n",
      "2\n"
     ]
    }
   ],
   "source": [
    "i = 0\n",
    "l = [6, 4, 5, 8, 2]\n",
    "while i < len(l):\n",
    "    print (l[i])\n",
    "    i += 1"
   ]
  },
  {
   "cell_type": "markdown",
   "metadata": {},
   "source": [
    "_Iterating a list using for:_ Pythonic Way!"
   ]
  },
  {
   "cell_type": "code",
   "execution_count": 12,
   "metadata": {
    "scrolled": true
   },
   "outputs": [
    {
     "name": "stdout",
     "output_type": "stream",
     "text": [
      "6, 4, 5, 8, 2, "
     ]
    }
   ],
   "source": [
    "l = [6, 4, 5, 8, 2]\n",
    "\n",
    "for x in l:\n",
    "    print(x, end = ', ')"
   ]
  },
  {
   "cell_type": "markdown",
   "metadata": {},
   "source": [
    "__\\*\\*Note:__ While iterating through a list using for loop, we cannot remove an element."
   ]
  },
  {
   "cell_type": "markdown",
   "metadata": {},
   "source": [
    "__Program:__Find the biggest element in a list."
   ]
  },
  {
   "cell_type": "markdown",
   "metadata": {},
   "source": [
    "__Note:__ ___max()___ function is a builtin function which identifies the biggest element in a list an d returns."
   ]
  },
  {
   "cell_type": "code",
   "execution_count": 13,
   "metadata": {},
   "outputs": [
    {
     "name": "stdout",
     "output_type": "stream",
     "text": [
      "13\n"
     ]
    }
   ],
   "source": [
    "l = [6, 4, 5, 8, 2, 13, 3, 7, 9]\n",
    "print(max(l))"
   ]
  },
  {
   "cell_type": "markdown",
   "metadata": {},
   "source": [
    "And similiarly we have ___min()___ function."
   ]
  },
  {
   "cell_type": "code",
   "execution_count": 14,
   "metadata": {},
   "outputs": [
    {
     "name": "stdout",
     "output_type": "stream",
     "text": [
      "2\n"
     ]
    }
   ],
   "source": [
    "print(min(l))"
   ]
  },
  {
   "cell_type": "markdown",
   "metadata": {},
   "source": [
    "Sum of elements"
   ]
  },
  {
   "cell_type": "code",
   "execution_count": 15,
   "metadata": {},
   "outputs": [
    {
     "name": "stdout",
     "output_type": "stream",
     "text": [
      "15\n"
     ]
    }
   ],
   "source": [
    "l = [3, 2, 4, 1, 5]\n",
    "print(sum(l))"
   ]
  },
  {
   "cell_type": "markdown",
   "metadata": {},
   "source": [
    "__Program:__ Numbers which are greater than the average."
   ]
  },
  {
   "cell_type": "code",
   "execution_count": 16,
   "metadata": {},
   "outputs": [
    {
     "name": "stdout",
     "output_type": "stream",
     "text": [
      "Avg: 6.2\n",
      "Numbers greater than avg:9, 13, 12, 7, "
     ]
    }
   ],
   "source": [
    "l = [2, 4, 3, 9, 13, 12, 7, 6, 1, 5]\n",
    "avg = sum(l)/len(l)\n",
    "\n",
    "print('Avg:', avg)\n",
    "print(\"Numbers greater than avg:\", end = '')\n",
    "for x in l:\n",
    "    if x > avg:\n",
    "        print(x, end = ', ')\n"
   ]
  },
  {
   "cell_type": "markdown",
   "metadata": {},
   "source": [
    "<b> Absolute Value: </b>"
   ]
  },
  {
   "cell_type": "code",
   "execution_count": 17,
   "metadata": {},
   "outputs": [
    {
     "data": {
      "text/plain": [
       "13"
      ]
     },
     "execution_count": 17,
     "metadata": {},
     "output_type": "execute_result"
    }
   ],
   "source": [
    "abs(-13)"
   ]
  },
  {
   "cell_type": "code",
   "execution_count": 18,
   "metadata": {},
   "outputs": [
    {
     "data": {
      "text/plain": [
       "13"
      ]
     },
     "execution_count": 18,
     "metadata": {},
     "output_type": "execute_result"
    }
   ],
   "source": [
    "abs(13)"
   ]
  },
  {
   "cell_type": "markdown",
   "metadata": {},
   "source": [
    "__Program:__ Difference between sum of even indexed and odd indexed numbers"
   ]
  },
  {
   "cell_type": "code",
   "execution_count": 19,
   "metadata": {},
   "outputs": [
    {
     "name": "stdout",
     "output_type": "stream",
     "text": [
      "10\n"
     ]
    }
   ],
   "source": [
    "l = [2, 4, 3, 9, 13, 12, 7, 6, 1, 5]\n",
    "\n",
    "print(abs(sum(l[::2]) - sum(l[1::2])))"
   ]
  },
  {
   "cell_type": "markdown",
   "metadata": {},
   "source": [
    "__Program:__ Square each element in the list and print."
   ]
  },
  {
   "cell_type": "code",
   "execution_count": 20,
   "metadata": {
    "scrolled": true
   },
   "outputs": [
    {
     "name": "stdout",
     "output_type": "stream",
     "text": [
      "36\n",
      "16\n",
      "25\n",
      "64\n",
      "4\n"
     ]
    }
   ],
   "source": [
    "l = [6, 4, 5, 8, 2]\n",
    "for x in l:\n",
    "    print (x*x)"
   ]
  },
  {
   "cell_type": "markdown",
   "metadata": {},
   "source": [
    "__Program:__ Square each element in the list and save it back to its location."
   ]
  },
  {
   "cell_type": "code",
   "execution_count": 21,
   "metadata": {},
   "outputs": [
    {
     "name": "stdout",
     "output_type": "stream",
     "text": [
      "[6, 4, 5, 8, 2]\n"
     ]
    }
   ],
   "source": [
    "l = [6, 4, 5, 8, 2]\n",
    "for x in l:\n",
    "    x = x*x\n",
    "\n",
    "print(l)"
   ]
  },
  {
   "cell_type": "markdown",
   "metadata": {},
   "source": [
    "Original list cannot be changed as x is just a copy of each element in that iteration."
   ]
  },
  {
   "cell_type": "markdown",
   "metadata": {},
   "source": [
    "_Solution.1:_"
   ]
  },
  {
   "cell_type": "code",
   "execution_count": 22,
   "metadata": {},
   "outputs": [
    {
     "name": "stdout",
     "output_type": "stream",
     "text": [
      "[36, 16, 25, 64, 4]\n"
     ]
    }
   ],
   "source": [
    "i = 0\n",
    "l = [6, 4, 5, 8, 2]\n",
    "while i < len(l):\n",
    "    l[i] = l[i]*l[i]\n",
    "    i += 1\n",
    "print(l)"
   ]
  },
  {
   "cell_type": "markdown",
   "metadata": {},
   "source": [
    "__enumerate()__:\n",
    "    enumerate function adds a sequence number starts from zero, to each item in the sequence, packs as a tuple and returns in each iteration. In each iteration enumerate() returns tuple([seq_num, cur_item]). This is very useful when we want to track the indices while iterating sequence."
   ]
  },
  {
   "cell_type": "code",
   "execution_count": 23,
   "metadata": {},
   "outputs": [
    {
     "name": "stdout",
     "output_type": "stream",
     "text": [
      "0 Apple\n",
      "1 Orange\n",
      "2 Grape\n",
      "3 Banana\n",
      "4 Peach\n"
     ]
    }
   ],
   "source": [
    "fruits = [\"Apple\", \"Orange\", \"Grape\", \"Banana\", \"Peach\"]\n",
    "\n",
    "for idx, fruit in enumerate(fruits):\n",
    "    print(idx, fruit)"
   ]
  },
  {
   "cell_type": "markdown",
   "metadata": {},
   "source": [
    "We can also have a custom start value for sequence as below,"
   ]
  },
  {
   "cell_type": "code",
   "execution_count": 24,
   "metadata": {},
   "outputs": [
    {
     "name": "stdout",
     "output_type": "stream",
     "text": [
      "1 Apple\n",
      "2 Orange\n",
      "3 Grape\n",
      "4 Banana\n",
      "5 Peach\n"
     ]
    }
   ],
   "source": [
    "fruits = [\"Apple\", \"Orange\", \"Grape\", \"Banana\", \"Peach\"]\n",
    "\n",
    "for idx, fruit in enumerate(fruits, start=1):\n",
    "    print(idx, fruit)"
   ]
  },
  {
   "cell_type": "markdown",
   "metadata": {},
   "source": [
    "_Solution.2: Using for loop_ "
   ]
  },
  {
   "cell_type": "code",
   "execution_count": 25,
   "metadata": {},
   "outputs": [
    {
     "name": "stdout",
     "output_type": "stream",
     "text": [
      "[36, 16, 25, 64, 4]\n"
     ]
    }
   ],
   "source": [
    "l = [6, 4, 5, 8, 2]\n",
    "for i, x in enumerate(l):\n",
    "    l[i] = x*x\n",
    "    \n",
    "print(l)"
   ]
  },
  {
   "cell_type": "markdown",
   "metadata": {},
   "source": [
    "_Multiplying list with a scalar:_"
   ]
  },
  {
   "cell_type": "code",
   "execution_count": 26,
   "metadata": {},
   "outputs": [
    {
     "name": "stdout",
     "output_type": "stream",
     "text": [
      "[3, 4, 6, 3, 4, 6, 3, 4, 6]\n",
      "[3, 4, 6]\n"
     ]
    }
   ],
   "source": [
    "l = [3, 4, 6]\n",
    "print (l * 3)\n",
    "print (l)"
   ]
  },
  {
   "cell_type": "markdown",
   "metadata": {},
   "source": [
    "_Concatenating two lists:_"
   ]
  },
  {
   "cell_type": "code",
   "execution_count": 27,
   "metadata": {},
   "outputs": [
    {
     "name": "stdout",
     "output_type": "stream",
     "text": [
      "[3, 4, 6, 7, 8, 9]\n"
     ]
    }
   ],
   "source": [
    "l1 = [3, 4, 6] \n",
    "l2 = [7, 8, 9]\n",
    "\n",
    "print(l1 + l2)"
   ]
  },
  {
   "cell_type": "markdown",
   "metadata": {},
   "source": [
    "__Remove all occurances of an element:__"
   ]
  },
  {
   "cell_type": "code",
   "execution_count": 28,
   "metadata": {},
   "outputs": [
    {
     "name": "stdout",
     "output_type": "stream",
     "text": [
      "[3, 4, 6, 1, 9, 10, 8, 2, 3, 2, 1]\n"
     ]
    }
   ],
   "source": [
    "l = [3, 4, 5, 6, 1, 9, 10, 8, 5, 2, 3, 5, 2, 1, 5]\n",
    "rem = 5\n",
    "indices = []\n",
    "\n",
    "for i, x in enumerate(l):\n",
    "    if x == rem:\n",
    "        indices.append(i)\n",
    "        \n",
    "indices.reverse()     \n",
    "for i in indices:\n",
    "    l.pop(i)\n",
    "    \n",
    "print(l)"
   ]
  },
  {
   "cell_type": "markdown",
   "metadata": {},
   "source": [
    "__Creating a Stack (LIFO) using list:__\n",
    "\n",
    "Stack is a data structure in which, insertion and deletion operations follow the pattern, Last-In-First-Out. A list, in which, insertion and deletion operations are restricted to one end (front or rear) is called as Stack. We can achieve this using l.append() and l.pop(). Generally insertion is called 'push' operation and deletion is called 'pop' operation."
   ]
  },
  {
   "cell_type": "code",
   "execution_count": 29,
   "metadata": {},
   "outputs": [
    {
     "name": "stdout",
     "output_type": "stream",
     "text": [
      "[2, 4, 3]\n",
      "[2, 4, 3, 5]\n",
      "[2, 4, 3, 5, 6]\n",
      "[2, 4, 3, 5]\n",
      "[2, 4, 3]\n"
     ]
    }
   ],
   "source": [
    "stack = [2, 4, 3]\n",
    "print(stack)\n",
    "stack.append(5)\n",
    "print(stack)\n",
    "stack.append(6)\n",
    "print(stack)\n",
    "stack.pop()\n",
    "print(stack)\n",
    "stack.pop()\n",
    "print(stack)"
   ]
  },
  {
   "cell_type": "markdown",
   "metadata": {},
   "source": [
    "<img src='drawing6.png' width='600'>"
   ]
  },
  {
   "cell_type": "markdown",
   "metadata": {},
   "source": [
    "__Creating a Queue (FIFO) using list:__\n",
    "Queue is a data structure in which, insertion and deletion operations follow the pattern, First-In-First-Out. A list, in which, insertion and deletion operations are restricted to seperate ends (generally delete front and insert rear) is called as Queue. We can achieve this using l.append() and l.pop(0). Generally insertion is called 'enque' operation and deletion is called 'deque' operation."
   ]
  },
  {
   "cell_type": "code",
   "execution_count": 30,
   "metadata": {},
   "outputs": [
    {
     "name": "stdout",
     "output_type": "stream",
     "text": [
      "[2, 4, 3]\n",
      "[2, 4, 3, 5]\n",
      "[2, 4, 3, 5, 6]\n",
      "[4, 3, 5, 6]\n",
      "[3, 5, 6]\n"
     ]
    }
   ],
   "source": [
    "queue = [2, 4, 3]\n",
    "print(queue)\n",
    "queue.append(5)\n",
    "print(queue)\n",
    "queue.append(6)\n",
    "print(queue)\n",
    "queue.pop(0)\n",
    "print(queue)\n",
    "queue.pop(0)\n",
    "print(queue)"
   ]
  },
  {
   "cell_type": "markdown",
   "metadata": {},
   "source": [
    "<img src='drawing7.png' width='600'>"
   ]
  },
  {
   "cell_type": "markdown",
   "metadata": {},
   "source": [
    "_Extending a list with other:_"
   ]
  },
  {
   "cell_type": "code",
   "execution_count": 31,
   "metadata": {},
   "outputs": [
    {
     "name": "stdout",
     "output_type": "stream",
     "text": [
      "[3, 4, 5, 99, 55, 88]\n"
     ]
    }
   ],
   "source": [
    "l = [3, 4, 5]\n",
    "s = [99, 55, 88]\n",
    "l.extend(s)\n",
    "print(l)"
   ]
  },
  {
   "cell_type": "markdown",
   "metadata": {},
   "source": [
    "Instead of extend, if we use append(), list s, becomes an individual element in the list l."
   ]
  },
  {
   "cell_type": "code",
   "execution_count": 32,
   "metadata": {},
   "outputs": [
    {
     "name": "stdout",
     "output_type": "stream",
     "text": [
      "[3, 4, 5, [99, 55, 88]]\n"
     ]
    }
   ],
   "source": [
    "l = [3, 4, 5]\n",
    "s = [99, 55, 88]\n",
    "l.append(s)\n",
    "print(l)"
   ]
  },
  {
   "cell_type": "markdown",
   "metadata": {},
   "source": [
    "now type(l[3]) is a list instead an int"
   ]
  },
  {
   "cell_type": "code",
   "execution_count": 33,
   "metadata": {},
   "outputs": [
    {
     "data": {
      "text/plain": [
       "[99, 55, 88]"
      ]
     },
     "execution_count": 33,
     "metadata": {},
     "output_type": "execute_result"
    }
   ],
   "source": [
    "l[3]"
   ]
  },
  {
   "cell_type": "code",
   "execution_count": 34,
   "metadata": {},
   "outputs": [
    {
     "data": {
      "text/plain": [
       "list"
      ]
     },
     "execution_count": 34,
     "metadata": {},
     "output_type": "execute_result"
    }
   ],
   "source": [
    "type(l[3])"
   ]
  },
  {
   "cell_type": "code",
   "execution_count": 35,
   "metadata": {},
   "outputs": [
    {
     "data": {
      "text/plain": [
       "55"
      ]
     },
     "execution_count": 35,
     "metadata": {},
     "output_type": "execute_result"
    }
   ],
   "source": [
    "l[3][1]"
   ]
  },
  {
   "cell_type": "markdown",
   "metadata": {},
   "source": [
    "__Lis of Lists__"
   ]
  },
  {
   "cell_type": "code",
   "execution_count": 36,
   "metadata": {},
   "outputs": [],
   "source": [
    "ll = [[2, 4, 1], \n",
    "      [4, 1, 2],\n",
    "      [1, 0, 7]]\n"
   ]
  },
  {
   "cell_type": "code",
   "execution_count": 37,
   "metadata": {},
   "outputs": [
    {
     "data": {
      "text/plain": [
       "0"
      ]
     },
     "execution_count": 37,
     "metadata": {},
     "output_type": "execute_result"
    }
   ],
   "source": [
    "ll[2][1]"
   ]
  },
  {
   "cell_type": "markdown",
   "metadata": {},
   "source": [
    "__Find the index of the given element__\n",
    "\n",
    "If element found, index() function returns the index of first occurance, else 'ValueError'"
   ]
  },
  {
   "cell_type": "code",
   "execution_count": 38,
   "metadata": {},
   "outputs": [
    {
     "name": "stdout",
     "output_type": "stream",
     "text": [
      "3\n"
     ]
    }
   ],
   "source": [
    "l = [6, 7, 9, 5, 2]\n",
    "print(l.index(5))"
   ]
  },
  {
   "cell_type": "markdown",
   "metadata": {},
   "source": [
    "__Counting a value__"
   ]
  },
  {
   "cell_type": "code",
   "execution_count": 39,
   "metadata": {},
   "outputs": [
    {
     "name": "stdout",
     "output_type": "stream",
     "text": [
      "3\n"
     ]
    }
   ],
   "source": [
    "l = [6, 7, 9, 5, 2, 5, 2, 1, 5]\n",
    "print(l.count(5))"
   ]
  },
  {
   "cell_type": "markdown",
   "metadata": {},
   "source": [
    "__Reversing a list:__\n",
    "\n",
    "reverse() function changes the list in-place."
   ]
  },
  {
   "cell_type": "code",
   "execution_count": 40,
   "metadata": {},
   "outputs": [
    {
     "name": "stdout",
     "output_type": "stream",
     "text": [
      "[1, 2, 5, 4, 3]\n"
     ]
    }
   ],
   "source": [
    "l = [3, 4, 5, 2, 1]\n",
    "l.reverse()\n",
    "print(l)"
   ]
  },
  {
   "cell_type": "markdown",
   "metadata": {},
   "source": [
    "__Reversing list using slicing__\n",
    "\n",
    "This doesn't change original list, afterall, it is just a view of the original."
   ]
  },
  {
   "cell_type": "code",
   "execution_count": 41,
   "metadata": {},
   "outputs": [
    {
     "name": "stdout",
     "output_type": "stream",
     "text": [
      "Reverse: [1, 2, 5, 4, 3]\n",
      "Original [3, 4, 5, 2, 1]\n"
     ]
    }
   ],
   "source": [
    "l = [3, 4, 5, 2, 1]\n",
    "print(\"Reverse:\", l[::-1])\n",
    "print(\"Original\", l)"
   ]
  },
  {
   "cell_type": "markdown",
   "metadata": {},
   "source": [
    "__Sorting a list__\n",
    "\n",
    "__**Note:__ Python uses 'Tim Sort' algorithm, which is one of the stable sorting algorithms. It is a combination of 'merge sort' and 'insertion sort'."
   ]
  },
  {
   "cell_type": "code",
   "execution_count": 42,
   "metadata": {},
   "outputs": [
    {
     "name": "stdout",
     "output_type": "stream",
     "text": [
      "[1, 2, 3, 4, 5, 5, 6, 7, 9]\n"
     ]
    }
   ],
   "source": [
    "l = [6, 7, 9, 5, 1, 2, 5, 4, 3]\n",
    "l.sort()\n",
    "print(l)"
   ]
  },
  {
   "cell_type": "markdown",
   "metadata": {},
   "source": [
    "_Sorting in decreasing order:_"
   ]
  },
  {
   "cell_type": "code",
   "execution_count": 43,
   "metadata": {},
   "outputs": [
    {
     "name": "stdout",
     "output_type": "stream",
     "text": [
      "[9, 7, 6, 5, 5, 4, 3, 2, 1]\n"
     ]
    }
   ],
   "source": [
    "l = [6, 7, 9, 5, 1, 2, 5, 4, 3]\n",
    "l.sort(reverse=True) \n",
    "print(l)"
   ]
  },
  {
   "cell_type": "markdown",
   "metadata": {},
   "source": [
    "We have an built-in sorting function __sorted()__ which has the same implementation as l.sort(), actually designed for immutable containers(e.g _str_)"
   ]
  },
  {
   "cell_type": "code",
   "execution_count": 44,
   "metadata": {},
   "outputs": [
    {
     "name": "stdout",
     "output_type": "stream",
     "text": [
      "[9, 7, 6, 5, 5, 4, 3, 2, 1]\n",
      "[6, 7, 9, 5, 1, 2, 5, 4, 3]\n"
     ]
    }
   ],
   "source": [
    "l = [6, 7, 9, 5, 1, 2, 5, 4, 3]\n",
    "print(sorted(l, reverse=True))\n",
    "print(l)"
   ]
  },
  {
   "cell_type": "markdown",
   "metadata": {},
   "source": [
    "<b>Sorting a string:</b>"
   ]
  },
  {
   "cell_type": "code",
   "execution_count": 45,
   "metadata": {},
   "outputs": [
    {
     "data": {
      "text/plain": [
       "[' ', 'N', 'Y', 'e', 'k', 'o', 'r', 'w']"
      ]
     },
     "execution_count": 45,
     "metadata": {},
     "output_type": "execute_result"
    }
   ],
   "source": [
    "sorted('New York')"
   ]
  },
  {
   "cell_type": "markdown",
   "metadata": {},
   "source": [
    "<b>Converting a string to a list:</b>"
   ]
  },
  {
   "cell_type": "code",
   "execution_count": 46,
   "metadata": {},
   "outputs": [
    {
     "data": {
      "text/plain": [
       "['A', 'p', 'p', 'l', 'e']"
      ]
     },
     "execution_count": 46,
     "metadata": {},
     "output_type": "execute_result"
    }
   ],
   "source": [
    "list('Apple')"
   ]
  },
  {
   "cell_type": "markdown",
   "metadata": {},
   "source": [
    "##### Unpacking:\n",
    "Unpacking is the process of extracting values from a sequence and assigning them to corresponding variables on the other side."
   ]
  },
  {
   "cell_type": "code",
   "execution_count": 47,
   "metadata": {},
   "outputs": [
    {
     "name": "stdout",
     "output_type": "stream",
     "text": [
      "x:2 y:3 z:4\n"
     ]
    }
   ],
   "source": [
    "l = [2, 3, 4]\n",
    "x, y, z = l\n",
    "\n",
    "print(\"x:{} y:{} z:{}\".format(x, y, z))"
   ]
  },
  {
   "cell_type": "markdown",
   "metadata": {},
   "source": [
    "##### Slicing:"
   ]
  },
  {
   "cell_type": "code",
   "execution_count": 48,
   "metadata": {},
   "outputs": [
    {
     "name": "stdout",
     "output_type": "stream",
     "text": [
      "[2, 4, 3, 1, 7]\n"
     ]
    }
   ],
   "source": [
    "l = [2, 4, 3, 1, 7, 9, 8, 0, 6, 5]\n",
    "print(l[:5])"
   ]
  },
  {
   "cell_type": "code",
   "execution_count": 49,
   "metadata": {},
   "outputs": [
    {
     "name": "stdout",
     "output_type": "stream",
     "text": [
      "[0, 6, 5]\n"
     ]
    }
   ],
   "source": [
    "l = [2, 4, 3, 1, 7, 9, 8, 0, 6, 5]\n",
    "print(l[7:])"
   ]
  },
  {
   "cell_type": "code",
   "execution_count": 50,
   "metadata": {},
   "outputs": [
    {
     "name": "stdout",
     "output_type": "stream",
     "text": [
      "[0, 6, 5]\n"
     ]
    }
   ],
   "source": [
    "print(l[-3:])"
   ]
  },
  {
   "cell_type": "markdown",
   "metadata": {},
   "source": [
    "##### List Comparisions:\n",
    "_'==' operator:_\n",
    "== operator checks the equality of each element in both lists."
   ]
  },
  {
   "cell_type": "code",
   "execution_count": 51,
   "metadata": {},
   "outputs": [],
   "source": [
    "l1 = [1, 2, 4, 7, 8, 9]\n",
    "l2 = [1, 2, 4, 7, 8, 9]\n",
    "l3 = [7, 8, 9, 1, 2, 4]"
   ]
  },
  {
   "cell_type": "code",
   "execution_count": 52,
   "metadata": {},
   "outputs": [
    {
     "data": {
      "text/plain": [
       "True"
      ]
     },
     "execution_count": 52,
     "metadata": {},
     "output_type": "execute_result"
    }
   ],
   "source": [
    "l1 == l2"
   ]
  },
  {
   "cell_type": "code",
   "execution_count": 53,
   "metadata": {},
   "outputs": [
    {
     "data": {
      "text/plain": [
       "False"
      ]
     },
     "execution_count": 53,
     "metadata": {},
     "output_type": "execute_result"
    }
   ],
   "source": [
    "l2 == l3"
   ]
  },
  {
   "cell_type": "code",
   "execution_count": 54,
   "metadata": {},
   "outputs": [
    {
     "data": {
      "text/plain": [
       "True"
      ]
     },
     "execution_count": 54,
     "metadata": {},
     "output_type": "execute_result"
    }
   ],
   "source": [
    "mid = len(l1)//2\n",
    "l1[:mid] == l3[mid:]"
   ]
  },
  {
   "cell_type": "markdown",
   "metadata": {},
   "source": [
    "__Note:__ is operator doesn't work on lists, lists with same content have different ids(addresses)."
   ]
  },
  {
   "cell_type": "code",
   "execution_count": 55,
   "metadata": {},
   "outputs": [
    {
     "data": {
      "text/plain": [
       "False"
      ]
     },
     "execution_count": 55,
     "metadata": {},
     "output_type": "execute_result"
    }
   ],
   "source": [
    "l1 = [1, 2, 4, 7, 8, 9]\n",
    "l2 = [1, 2, 4, 7, 8, 9]\n",
    "l1 is l2"
   ]
  },
  {
   "cell_type": "code",
   "execution_count": 56,
   "metadata": {},
   "outputs": [
    {
     "data": {
      "text/plain": [
       "True"
      ]
     },
     "execution_count": 56,
     "metadata": {},
     "output_type": "execute_result"
    }
   ],
   "source": [
    "l3 = l2\n",
    "l2 is l3"
   ]
  },
  {
   "cell_type": "code",
   "execution_count": 57,
   "metadata": {},
   "outputs": [],
   "source": [
    "l4 = l1.copy()"
   ]
  },
  {
   "cell_type": "code",
   "execution_count": 58,
   "metadata": {},
   "outputs": [
    {
     "data": {
      "text/plain": [
       "False"
      ]
     },
     "execution_count": 58,
     "metadata": {},
     "output_type": "execute_result"
    }
   ],
   "source": [
    "l4 is l1"
   ]
  },
  {
   "cell_type": "markdown",
   "metadata": {},
   "source": [
    "## Tuple\n",
    "\n",
    "A tuple is a sequence of immutable Python objects. Tuples are sequences, just like lists. The differences between tuples and lists are, the tuples cannot be changed unlike lists. Tuples use parentheses, whereas lists use square brackets.\n",
    "\n",
    "Creating a tuple is as simple as putting different comma-separated values enclosed in paranthesis. Sometimes paranthesis is optional.\n",
    "\n",
    "For example −<br>\n",
    "\n",
    "``` python\n",
    "tup1 = (1234, 'John wesley', 240000.0, True)\n",
    "tup2 = (1, 2, 3, 4, 5)\n",
    "tup3 = 1, 3, 2, 4 # Paranthesis is optional\n",
    "tup4 = () # empty tuple\n",
    "tup5 = (3,) # tuple with one value, must always ends with a comma.\n",
    "```\n",
    "\n",
    "* Tuple is immutable.\n",
    "* Tuple values can be of multiple types.\n",
    "* Tuple internally uses array of constant references.\n",
    "* tuple uses indexing to access value like list.\n",
    "* Search operation is always O(n).\n",
    "* \\*\\*Tuples are hashable. \n",
    "* type of tuple is 'tuple'"
   ]
  },
  {
   "cell_type": "markdown",
   "metadata": {},
   "source": [
    "Apart from immutability,  tuples mostly behave like a list.\n",
    "\n",
    "#### Differences with List\n",
    "\n",
    "__Brackets:__\n",
    "\n",
    "Tuples uses paranthesis in declaration"
   ]
  },
  {
   "cell_type": "code",
   "execution_count": 59,
   "metadata": {},
   "outputs": [],
   "source": [
    "l = [3, 5, 4, 2, 1]\n",
    "t = (3, 5, 4, 2, 1)"
   ]
  },
  {
   "cell_type": "markdown",
   "metadata": {},
   "source": [
    "__Mutability:__\n",
    "\n",
    "Elements cannot be modified after initilization."
   ]
  },
  {
   "cell_type": "code",
   "execution_count": 60,
   "metadata": {},
   "outputs": [
    {
     "name": "stdout",
     "output_type": "stream",
     "text": [
      "[3, 5, 4, 99, 1]\n"
     ]
    }
   ],
   "source": [
    "l = [3, 5, 4, 2, 1]\n",
    "l[3] = 99 # is OK\n",
    "print(l)"
   ]
  },
  {
   "cell_type": "code",
   "execution_count": 61,
   "metadata": {},
   "outputs": [
    {
     "ename": "TypeError",
     "evalue": "'tuple' object does not support item assignment",
     "output_type": "error",
     "traceback": [
      "\u001b[0;31m---------------------------------------------------------------------------\u001b[0m",
      "\u001b[0;31mTypeError\u001b[0m                                 Traceback (most recent call last)",
      "\u001b[0;32m<ipython-input-61-301ad4a8b394>\u001b[0m in \u001b[0;36m<module>\u001b[0;34m\u001b[0m\n\u001b[1;32m      1\u001b[0m \u001b[0mt\u001b[0m \u001b[0;34m=\u001b[0m \u001b[0;34m(\u001b[0m\u001b[0;36m3\u001b[0m\u001b[0;34m,\u001b[0m \u001b[0;36m5\u001b[0m\u001b[0;34m,\u001b[0m \u001b[0;36m4\u001b[0m\u001b[0;34m,\u001b[0m \u001b[0;36m2\u001b[0m\u001b[0;34m,\u001b[0m \u001b[0;36m1\u001b[0m\u001b[0;34m)\u001b[0m\u001b[0;34m\u001b[0m\u001b[0m\n\u001b[0;32m----> 2\u001b[0;31m \u001b[0mt\u001b[0m\u001b[0;34m[\u001b[0m\u001b[0;36m3\u001b[0m\u001b[0;34m]\u001b[0m \u001b[0;34m=\u001b[0m \u001b[0;36m99\u001b[0m \u001b[0;31m# is NOT OK\u001b[0m\u001b[0;34m\u001b[0m\u001b[0m\n\u001b[0m\u001b[1;32m      3\u001b[0m \u001b[0mprint\u001b[0m\u001b[0;34m(\u001b[0m\u001b[0mt\u001b[0m\u001b[0;34m)\u001b[0m\u001b[0;34m\u001b[0m\u001b[0m\n",
      "\u001b[0;31mTypeError\u001b[0m: 'tuple' object does not support item assignment"
     ]
    }
   ],
   "source": [
    "t = (3, 5, 4, 2, 1)\n",
    "t[3] = 99 # is NOT OK\n",
    "print(t)"
   ]
  },
  {
   "cell_type": "markdown",
   "metadata": {},
   "source": [
    "__When having single element:__ \n",
    "We put a comma at the end, when there is one element in the tuple, Why?\n",
    "\n",
    "This is required, to differentiate with an expression.\n",
    "\n",
    "```python\n",
    "x = (9)\n",
    "y = (9,)\n",
    "```\n",
    "\n",
    "x is an integer and y is a tuple"
   ]
  },
  {
   "cell_type": "code",
   "execution_count": 62,
   "metadata": {},
   "outputs": [
    {
     "name": "stdout",
     "output_type": "stream",
     "text": [
      "27\n",
      "(9, 9, 9)\n",
      "<class 'int'> <class 'tuple'>\n"
     ]
    }
   ],
   "source": [
    "x = (9)\n",
    "y = (9,)\n",
    "\n",
    "print(x*3)\n",
    "print(y*3)\n",
    "print(type(x), type(y))"
   ]
  },
  {
   "cell_type": "markdown",
   "metadata": {},
   "source": [
    "#### Similarites with List\n",
    "\n",
    "##### Declaration:"
   ]
  },
  {
   "cell_type": "code",
   "execution_count": 63,
   "metadata": {},
   "outputs": [
    {
     "name": "stdout",
     "output_type": "stream",
     "text": [
      "<class 'list'> <class 'tuple'> <class 'tuple'>\n"
     ]
    }
   ],
   "source": [
    "l = [3, 5, 4, 2, 1]\n",
    "t = (3, 5, 4, 2, 1)\n",
    "t1 = 3, 5, 4, 2, 1\n",
    "print(type(l), type(t), type(t1))"
   ]
  },
  {
   "cell_type": "markdown",
   "metadata": {},
   "source": [
    "##### Indexing:"
   ]
  },
  {
   "cell_type": "code",
   "execution_count": 64,
   "metadata": {},
   "outputs": [
    {
     "name": "stdout",
     "output_type": "stream",
     "text": [
      "2 2\n"
     ]
    }
   ],
   "source": [
    "l = [3, 5, 4, 2, 1]\n",
    "t = (3, 5, 4, 2, 1)\n",
    "print (l[3], t[3])"
   ]
  },
  {
   "cell_type": "markdown",
   "metadata": {},
   "source": [
    "##### Scalar Multiplication:"
   ]
  },
  {
   "cell_type": "code",
   "execution_count": 65,
   "metadata": {},
   "outputs": [
    {
     "name": "stdout",
     "output_type": "stream",
     "text": [
      "[1, 4, 2, 1, 4, 2, 1, 4, 2]\n",
      "(1, 4, 2, 1, 4, 2, 1, 4, 2)\n"
     ]
    }
   ],
   "source": [
    "print([1, 4, 2] * 3)\n",
    "print((1, 4, 2) * 3)"
   ]
  },
  {
   "cell_type": "markdown",
   "metadata": {},
   "source": [
    "##### Iteration:"
   ]
  },
  {
   "cell_type": "code",
   "execution_count": 66,
   "metadata": {},
   "outputs": [
    {
     "name": "stdout",
     "output_type": "stream",
     "text": [
      "list Iteration:\n",
      "3\n",
      "5\n",
      "4\n",
      "2\n",
      "1\n",
      "tuple Iteration:\n",
      "3\n",
      "5\n",
      "4\n",
      "2\n",
      "1\n"
     ]
    }
   ],
   "source": [
    "l = [3, 5, 4, 2, 1]\n",
    "print('list Iteration:')\n",
    "for x in l:\n",
    "    print(x)\n",
    "    \n",
    "t = (3, 5, 4, 2, 1)\n",
    "print('tuple Iteration:')\n",
    "for x in t:\n",
    "    print(x)"
   ]
  },
  {
   "cell_type": "markdown",
   "metadata": {},
   "source": [
    "##### Slicing and -ve Indexing:"
   ]
  },
  {
   "cell_type": "code",
   "execution_count": 67,
   "metadata": {},
   "outputs": [
    {
     "name": "stdout",
     "output_type": "stream",
     "text": [
      "-------\n",
      "Slicing\n",
      "-------\n",
      "(25000.0,)\n",
      "[5, 9, 3]\n",
      "------------\n",
      "-Ve Indexing\n",
      "------------\n",
      "(True, 25000.0, 'John', 1234)\n",
      "[6, 10, 7, 3, 1, 9, 4, 5, 2, 8]\n"
     ]
    }
   ],
   "source": [
    "t = (1234, 'John', 25000.0, True)\n",
    "l = [8, 2, 5, 4, 9, 1, 3, 7, 10, 6]\n",
    "\n",
    "print (\"-------\")\n",
    "print (\"Slicing\")\n",
    "print (\"-------\")\n",
    "\n",
    "print (t[2:7:2])\n",
    "print (l[2:7:2])\n",
    "\n",
    "print (\"------------\")\n",
    "print (\"-Ve Indexing\")\n",
    "print (\"------------\")\n",
    "\n",
    "print(t[::-1])\n",
    "print(l[::-1])\n",
    "\n"
   ]
  },
  {
   "cell_type": "markdown",
   "metadata": {},
   "source": [
    "#### Tuple unpacking\n",
    "##### Unpacking:"
   ]
  },
  {
   "cell_type": "code",
   "execution_count": 68,
   "metadata": {},
   "outputs": [
    {
     "name": "stdout",
     "output_type": "stream",
     "text": [
      "x:3, y:4, z:5\n"
     ]
    }
   ],
   "source": [
    "t = 3, 4, 5\n",
    "x, y, z = t\n",
    "\n",
    "print (\"x:{}, y:{}, z:{}\".format(x, y, z))"
   ]
  },
  {
   "cell_type": "markdown",
   "metadata": {},
   "source": [
    "##### Initilizing values at a time:\n",
    "This is possible because in python comma seperated values are treated as a tuple."
   ]
  },
  {
   "cell_type": "code",
   "execution_count": 69,
   "metadata": {},
   "outputs": [
    {
     "name": "stdout",
     "output_type": "stream",
     "text": [
      "x:7, y:8, z:9\n"
     ]
    }
   ],
   "source": [
    "x, y, z = 7, 8, 9\n",
    "print (\"x:{}, y:{}, z:{}\".format(x, y, z))"
   ]
  },
  {
   "cell_type": "code",
   "execution_count": 70,
   "metadata": {},
   "outputs": [],
   "source": [
    "t = (1234, 'John', 'Physics', 23000, 'Male')"
   ]
  },
  {
   "cell_type": "code",
   "execution_count": 71,
   "metadata": {},
   "outputs": [],
   "source": [
    "*other, gender = t"
   ]
  },
  {
   "cell_type": "code",
   "execution_count": 72,
   "metadata": {},
   "outputs": [
    {
     "data": {
      "text/plain": [
       "'Male'"
      ]
     },
     "execution_count": 72,
     "metadata": {},
     "output_type": "execute_result"
    }
   ],
   "source": [
    "gender"
   ]
  },
  {
   "cell_type": "code",
   "execution_count": 73,
   "metadata": {},
   "outputs": [
    {
     "data": {
      "text/plain": [
       "[1234, 'John', 'Physics', 23000]"
      ]
     },
     "execution_count": 73,
     "metadata": {},
     "output_type": "execute_result"
    }
   ],
   "source": [
    "other"
   ]
  },
  {
   "cell_type": "code",
   "execution_count": 74,
   "metadata": {},
   "outputs": [],
   "source": [
    "eid, name, *other = t"
   ]
  },
  {
   "cell_type": "code",
   "execution_count": 75,
   "metadata": {},
   "outputs": [
    {
     "data": {
      "text/plain": [
       "1234"
      ]
     },
     "execution_count": 75,
     "metadata": {},
     "output_type": "execute_result"
    }
   ],
   "source": [
    "eid"
   ]
  },
  {
   "cell_type": "code",
   "execution_count": 76,
   "metadata": {},
   "outputs": [
    {
     "data": {
      "text/plain": [
       "'John'"
      ]
     },
     "execution_count": 76,
     "metadata": {},
     "output_type": "execute_result"
    }
   ],
   "source": [
    "name"
   ]
  },
  {
   "cell_type": "code",
   "execution_count": 77,
   "metadata": {},
   "outputs": [
    {
     "data": {
      "text/plain": [
       "['Physics', 23000, 'Male']"
      ]
     },
     "execution_count": 77,
     "metadata": {},
     "output_type": "execute_result"
    }
   ],
   "source": [
    "other"
   ]
  },
  {
   "cell_type": "code",
   "execution_count": 78,
   "metadata": {},
   "outputs": [],
   "source": [
    "eid, *_, gender = t"
   ]
  },
  {
   "cell_type": "code",
   "execution_count": 79,
   "metadata": {},
   "outputs": [
    {
     "data": {
      "text/plain": [
       "'Male'"
      ]
     },
     "execution_count": 79,
     "metadata": {},
     "output_type": "execute_result"
    }
   ],
   "source": [
    "gender"
   ]
  },
  {
   "cell_type": "code",
   "execution_count": 80,
   "metadata": {},
   "outputs": [
    {
     "data": {
      "text/plain": [
       "['John', 'Physics', 23000]"
      ]
     },
     "execution_count": 80,
     "metadata": {},
     "output_type": "execute_result"
    }
   ],
   "source": [
    "_"
   ]
  },
  {
   "cell_type": "markdown",
   "metadata": {},
   "source": [
    "##### Swapping two values in python:"
   ]
  },
  {
   "cell_type": "code",
   "execution_count": 81,
   "metadata": {},
   "outputs": [
    {
     "name": "stdout",
     "output_type": "stream",
     "text": [
      "x:30, y:20\n"
     ]
    }
   ],
   "source": [
    "x = 20\n",
    "y = 30\n",
    "\n",
    "x, y = y, x #  swapping in python\n",
    "\n",
    "print (\"x:{}, y:{}\".format(x, y))"
   ]
  },
  {
   "cell_type": "markdown",
   "metadata": {},
   "source": [
    "__Counting values__"
   ]
  },
  {
   "cell_type": "code",
   "execution_count": 82,
   "metadata": {},
   "outputs": [
    {
     "data": {
      "text/plain": [
       "3"
      ]
     },
     "execution_count": 82,
     "metadata": {},
     "output_type": "execute_result"
    }
   ],
   "source": [
    "t = (4, 3, 2 ,1 ,4, 3, 4)\n",
    "t.count(4)"
   ]
  },
  {
   "cell_type": "markdown",
   "metadata": {},
   "source": [
    "#### ** Iterating list of tuples:"
   ]
  },
  {
   "cell_type": "code",
   "execution_count": 83,
   "metadata": {},
   "outputs": [
    {
     "name": "stdout",
     "output_type": "stream",
     "text": [
      "Apple -->> 30\n",
      "Grape -->> 20\n",
      "Mango -->> 25\n",
      "peach -->> 35\n"
     ]
    }
   ],
   "source": [
    "l = [('Apple', 30), ('Grape', 20), ('Mango', 25), ('peach', 35)]\n",
    "\n",
    "for x in l:\n",
    "    print (x[0], '-->>', x[1])"
   ]
  },
  {
   "cell_type": "code",
   "execution_count": 84,
   "metadata": {},
   "outputs": [
    {
     "name": "stdout",
     "output_type": "stream",
     "text": [
      "Apple -->> 30\n",
      "Grape -->> 20\n",
      "Mango -->> 25\n",
      "peach -->> 35\n"
     ]
    }
   ],
   "source": [
    "for fruit, count in l:\n",
    "    print(fruit, '-->>',count)"
   ]
  },
  {
   "cell_type": "code",
   "execution_count": 85,
   "metadata": {},
   "outputs": [
    {
     "name": "stdout",
     "output_type": "stream",
     "text": [
      "Apple -->> 30\n",
      "Grape -->> 20\n",
      "Mango -->> 25\n",
      "peach -->> 35\n"
     ]
    }
   ],
   "source": [
    "for x, y in l:\n",
    "    print(x, '-->>',y)"
   ]
  },
  {
   "cell_type": "markdown",
   "metadata": {},
   "source": [
    "We can use tuple unpacking method to write clean code, as below"
   ]
  },
  {
   "cell_type": "markdown",
   "metadata": {},
   "source": [
    "__Program:__ Print all the fruits with count less than 30"
   ]
  },
  {
   "cell_type": "code",
   "execution_count": 86,
   "metadata": {},
   "outputs": [
    {
     "name": "stdout",
     "output_type": "stream",
     "text": [
      "Grape 20\n",
      "Mango 25\n"
     ]
    }
   ],
   "source": [
    "fruit_bucket = [('Apple', 30), ('Grape', 20), ('Mango', 25), ('peach', 35)]\n",
    "\n",
    "for fruit, count in fruit_bucket:\n",
    "    if count < 30:\n",
    "        print (fruit, count)"
   ]
  },
  {
   "cell_type": "markdown",
   "metadata": {},
   "source": [
    "In each iteration one tuple will be unpacked to 'fruit' and 'count' variables."
   ]
  },
  {
   "cell_type": "markdown",
   "metadata": {},
   "source": [
    "__Exercise:__\n",
    "```python\n",
    "employee_db = [(1234, 'John', 'Physics', 23000),\n",
    "               (1235, 'Christen', 'Maths', 13000),\n",
    "               (1236, 'Samanta', 'Maths', 40000), \n",
    "               (1237, 'Amanda', 'Chemistry', 25000), \n",
    "               (1238, 'Vicky', 'Maths', 10000), \n",
    "              ]\n",
    "```\n",
    "Print all the employees whose salaries are greater than the average salary."
   ]
  },
  {
   "cell_type": "code",
   "execution_count": 87,
   "metadata": {},
   "outputs": [
    {
     "name": "stdout",
     "output_type": "stream",
     "text": [
      "Avg salary: 22200.0\n",
      "[1234, 'John', 'Physics', 23000]\n",
      "[1236, 'Samanta', 'Maths', 40000]\n",
      "[1237, 'Amanda', 'Chemistry', 25000]\n"
     ]
    }
   ],
   "source": [
    "employee_db = [\n",
    "               (1234, 'John', 'Physics', 23000),\n",
    "               (1235, 'Christen', 'Maths', 13000),\n",
    "               (1236, 'Samanta', 'Maths', 40000), \n",
    "               (1237, 'Amanda', 'Chemistry', 25000), \n",
    "               (1238, 'Vicky', 'Maths', 10000), \n",
    "              ]\n",
    "\n",
    "total_sal = 0\n",
    "\n",
    "for *other, esal in employee_db:\n",
    "        total_sal += esal\n",
    "        \n",
    "avg = total_sal/len(employee_db)\n",
    "print('Avg salary:', avg)\n",
    "\n",
    "for *other, esal in employee_db:\n",
    "    if esal > avg:\n",
    "        print(other + [esal])\n"
   ]
  },
  {
   "cell_type": "markdown",
   "metadata": {},
   "source": [
    "__Type is a list:__"
   ]
  },
  {
   "cell_type": "code",
   "execution_count": 88,
   "metadata": {},
   "outputs": [
    {
     "name": "stdout",
     "output_type": "stream",
     "text": [
      "[1237, 'Amanda', 'Chemistry', 25000] 45 <class 'list'>\n"
     ]
    }
   ],
   "source": [
    "*other, age =  [1237, 'Amanda', 'Chemistry', 25000, 45]\n",
    "print(other, age, type(other))"
   ]
  },
  {
   "cell_type": "code",
   "execution_count": 89,
   "metadata": {},
   "outputs": [
    {
     "name": "stdout",
     "output_type": "stream",
     "text": [
      "['Amanda', 'Chemistry', 25000] 1237 45 <class 'list'>\n"
     ]
    }
   ],
   "source": [
    "eid, *other, age =  (1237, 'Amanda', 'Chemistry', 25000, 45)\n",
    "print(other, eid, age, type(other))"
   ]
  },
  {
   "cell_type": "markdown",
   "metadata": {},
   "source": [
    "__Ignoring unwanted values using '_'__"
   ]
  },
  {
   "cell_type": "code",
   "execution_count": 90,
   "metadata": {},
   "outputs": [
    {
     "name": "stdout",
     "output_type": "stream",
     "text": [
      "['Amanda', 'Chemistry', 25000] 1237 45 <class 'list'>\n"
     ]
    }
   ],
   "source": [
    "eid, *_, age =  (1237, 'Amanda', 'Chemistry', 25000, 45)\n",
    "print(_, eid, age, type(_))"
   ]
  },
  {
   "cell_type": "markdown",
   "metadata": {},
   "source": [
    "#### **Difference between List and Tuple"
   ]
  },
  {
   "cell_type": "markdown",
   "metadata": {},
   "source": [
    "<table>\n",
    "<tr><th> List </th><th> Tuple</th></tr>\n",
    "<tr><td> mutable </td><td> immutable </td></tr>\n",
    "<tr><td> dynamically resizable array</td><td> fixed in size</td></tr>\n",
    "<tr><td> * emphasizes on quantity </td><td> * emphasizes on the structure </td></tr>\n",
    "<tr><td> ** unhashable </td><td> ** hashable </td></tr>\n",
    "<tr><td> use square brackets </td><td> use paranthesis (optional some times) </td></tr>\n",
    "<tr><td> comma not required when having single element </td><td> comma is required when having single element </td></tr>\n",
    "</table>"
   ]
  },
  {
   "cell_type": "markdown",
   "metadata": {},
   "source": [
    "### Built-in functions on sequences\n",
    "\n",
    "##### Finding length of the sequence\n",
    "len():"
   ]
  },
  {
   "cell_type": "code",
   "execution_count": 91,
   "metadata": {},
   "outputs": [
    {
     "name": "stdout",
     "output_type": "stream",
     "text": [
      "5 5 7\n"
     ]
    }
   ],
   "source": [
    "l = [7, 8, 9, 3, 2]\n",
    "t = (7, 8, 9, 3, 2)\n",
    "s = \"NEWYORK\"\n",
    "\n",
    "print(len(l), len(t), len(s))"
   ]
  },
  {
   "cell_type": "markdown",
   "metadata": {},
   "source": [
    "##### sorting the sequence\n",
    "_sorted():_\n",
    "\n",
    "List has its own sort() function. sort() function sorts elements in-place. But tuple and str are immutable types, we cannot sort them in-place. We need an external function, and we have one. sorted() function takes a sequence and returns a sorted list of items."
   ]
  },
  {
   "cell_type": "code",
   "execution_count": 92,
   "metadata": {},
   "outputs": [
    {
     "name": "stdout",
     "output_type": "stream",
     "text": [
      "[2, 3, 7, 8, 9]\n",
      "[9, 8, 7, 3, 2]\n",
      "['E', 'K', 'N', 'O', 'R', 'W', 'Y']\n"
     ]
    }
   ],
   "source": [
    "l = [7, 8, 9, 3, 2]\n",
    "t = (7, 8, 9, 3, 2)\n",
    "s = \"NEWYORK\"\n",
    "\n",
    "print(sorted(l))\n",
    "print(sorted(t, reverse=True))\n",
    "print(sorted(s))"
   ]
  },
  {
   "cell_type": "markdown",
   "metadata": {},
   "source": [
    "##### Finding maximum:\n",
    "_max():_"
   ]
  },
  {
   "cell_type": "code",
   "execution_count": 93,
   "metadata": {},
   "outputs": [
    {
     "name": "stdout",
     "output_type": "stream",
     "text": [
      "9\n",
      "9\n",
      "Y\n"
     ]
    }
   ],
   "source": [
    "l = [7, 8, 9, 3, 2]\n",
    "t = (7, 8, 9, 3, 2)\n",
    "s = \"NEWYORK\"\n",
    "\n",
    "print (max(l))\n",
    "print (max(t))\n",
    "print (max(s))"
   ]
  },
  {
   "cell_type": "markdown",
   "metadata": {},
   "source": [
    "##### Finding minimum:\n",
    "_min():_"
   ]
  },
  {
   "cell_type": "code",
   "execution_count": 94,
   "metadata": {},
   "outputs": [
    {
     "name": "stdout",
     "output_type": "stream",
     "text": [
      "2\n",
      "2\n",
      "E\n"
     ]
    }
   ],
   "source": [
    "l = [7, 8, 9, 3, 2]\n",
    "t = (7, 8, 9, 3, 2)\n",
    "s = \"NEWYORK\"\n",
    "\n",
    "print (min(l))\n",
    "print (min(t))\n",
    "print (min(s))"
   ]
  },
  {
   "cell_type": "markdown",
   "metadata": {},
   "source": [
    "#### Sum of the numbers\n",
    "_sum():_"
   ]
  },
  {
   "cell_type": "code",
   "execution_count": 95,
   "metadata": {},
   "outputs": [
    {
     "name": "stdout",
     "output_type": "stream",
     "text": [
      "29\n",
      "29\n"
     ]
    }
   ],
   "source": [
    "l = [7, 8, 9, 3, 2]\n",
    "t = (7, 8, 9, 3, 2)\n",
    "print (sum(l))\n",
    "print (sum(t))"
   ]
  },
  {
   "cell_type": "markdown",
   "metadata": {},
   "source": [
    "#### More built-in functions in python\n",
    "\n",
    "abs() :- returns absolute value"
   ]
  },
  {
   "cell_type": "code",
   "execution_count": 96,
   "metadata": {},
   "outputs": [
    {
     "name": "stdout",
     "output_type": "stream",
     "text": [
      "13 13\n"
     ]
    }
   ],
   "source": [
    "print(abs(-13), abs(13))"
   ]
  },
  {
   "cell_type": "markdown",
   "metadata": {},
   "source": [
    "chr() :- takes ASCII code and returns character"
   ]
  },
  {
   "cell_type": "code",
   "execution_count": 97,
   "metadata": {},
   "outputs": [
    {
     "name": "stdout",
     "output_type": "stream",
     "text": [
      "A a\n"
     ]
    }
   ],
   "source": [
    "print(chr(65), chr(97))"
   ]
  },
  {
   "cell_type": "markdown",
   "metadata": {},
   "source": [
    "ord() :- takes character and returns ASCII code"
   ]
  },
  {
   "cell_type": "code",
   "execution_count": 98,
   "metadata": {},
   "outputs": [
    {
     "name": "stdout",
     "output_type": "stream",
     "text": [
      "65 97\n"
     ]
    }
   ],
   "source": [
    "print(ord('A'), ord('a'))"
   ]
  },
  {
   "cell_type": "markdown",
   "metadata": {},
   "source": [
    "round(number, no_of_digits)- Rounds to specified number of digits"
   ]
  },
  {
   "cell_type": "code",
   "execution_count": 99,
   "metadata": {},
   "outputs": [
    {
     "data": {
      "text/plain": [
       "127.35"
      ]
     },
     "execution_count": 99,
     "metadata": {},
     "output_type": "execute_result"
    }
   ],
   "source": [
    "round(127.34567, 2)"
   ]
  },
  {
   "cell_type": "code",
   "execution_count": 100,
   "metadata": {},
   "outputs": [
    {
     "data": {
      "text/plain": [
       "1250.0"
      ]
     },
     "execution_count": 100,
     "metadata": {},
     "output_type": "execute_result"
    }
   ],
   "source": [
    "round(1247.34567, -1)"
   ]
  },
  {
   "cell_type": "code",
   "execution_count": 101,
   "metadata": {},
   "outputs": [
    {
     "data": {
      "text/plain": [
       "1300.0"
      ]
     },
     "execution_count": 101,
     "metadata": {},
     "output_type": "execute_result"
    }
   ],
   "source": [
    "round(1287.34567, -2)"
   ]
  },
  {
   "cell_type": "markdown",
   "metadata": {},
   "source": [
    "### List of tuples - Frequently used construct\n",
    "\n",
    "In non-object-oriented environments, list of tuples is generally used to represent a list of database records. Let's take an example of list of employee records. We have employee id, name, salary and age in each row in the same order. Below construct is widely used representation of list of employee records. To represent a row we are using tuple here. "
   ]
  },
  {
   "cell_type": "code",
   "execution_count": 102,
   "metadata": {},
   "outputs": [
    {
     "name": "stdout",
     "output_type": "stream",
     "text": [
      "1237 John 23000 25\n",
      "1235 Samantha 40000 41\n",
      "1238 Amanda 45000 30\n",
      "1239 Alex 57000 31\n",
      "1236 Vicky 40000 24\n"
     ]
    }
   ],
   "source": [
    "employees = [\n",
    "            (1237, 'John', 23000, 25),\n",
    "            (1235, 'Samantha', 40000, 41),\n",
    "            (1238, 'Amanda', 45000, 30),\n",
    "            (1239, 'Alex', 57000, 31),\n",
    "            (1236, 'Vicky', 40000, 24)\n",
    "            ]\n",
    "\n",
    "for _id, name, sal, age in employees:\n",
    "    print(_id, name, sal, age)"
   ]
  },
  {
   "cell_type": "markdown",
   "metadata": {},
   "source": [
    "How do you sort above list of tuples, on their salaries?"
   ]
  },
  {
   "cell_type": "code",
   "execution_count": 103,
   "metadata": {},
   "outputs": [
    {
     "data": {
      "text/plain": [
       "[(1235, 'Samantha', 13000, 21),\n",
       " (1236, 'Vicky', 40000, 24),\n",
       " (1237, 'Alex', 57000, 31),\n",
       " (1238, 'Amanda', 45000, 30),\n",
       " (1239, 'John', 23000, 25)]"
      ]
     },
     "execution_count": 103,
     "metadata": {},
     "output_type": "execute_result"
    }
   ],
   "source": [
    "employees = [\n",
    "            (1239, 'John', 23000, 25),\n",
    "            (1235, 'Samantha', 13000, 21),\n",
    "            (1238, 'Amanda', 45000, 30),\n",
    "            (1237, 'Alex', 57000, 31),\n",
    "            (1236, 'Vicky', 40000, 24)\n",
    "            ]\n",
    "\n",
    "sorted_records = sorted(employees)\n",
    "sorted_records"
   ]
  },
  {
   "cell_type": "markdown",
   "metadata": {},
   "source": [
    "__Comparing two tuples:__"
   ]
  },
  {
   "cell_type": "code",
   "execution_count": 104,
   "metadata": {},
   "outputs": [
    {
     "data": {
      "text/plain": [
       "False"
      ]
     },
     "execution_count": 104,
     "metadata": {},
     "output_type": "execute_result"
    }
   ],
   "source": [
    "t2 = (1234, 'Samantha', 13000, 21)\n",
    "t1 = (1235, 'Vicky', 40000, 24)\n",
    "\n",
    "t1 < t2"
   ]
  },
  {
   "cell_type": "markdown",
   "metadata": {},
   "source": [
    "<b>**Note: </b> default comparision happens on id()s of tuples"
   ]
  },
  {
   "cell_type": "markdown",
   "metadata": {},
   "source": [
    "By default sorted() method takes first value of each tuple as the comparsion criteria. To change this behaviour we have to pass the comparision criteria explicitly using a callable object (function ,lambda function etc.)"
   ]
  },
  {
   "cell_type": "markdown",
   "metadata": {},
   "source": [
    "### lambda:\n",
    "lambda function is an one line function. Which expands the expression given.\n",
    "\n",
    "syntax:\n",
    "\n",
    "```python\n",
    "lambda parameters: expression\n",
    "```"
   ]
  },
  {
   "cell_type": "code",
   "execution_count": 105,
   "metadata": {},
   "outputs": [
    {
     "name": "stdout",
     "output_type": "stream",
     "text": [
      "9\n"
     ]
    }
   ],
   "source": [
    "f = lambda x, y: x + y\n",
    "print(f(4, 5))"
   ]
  },
  {
   "cell_type": "markdown",
   "metadata": {},
   "source": [
    "In the above code, __f(4, 5)__ replaced by __4 + 5__, thus resulting __9__"
   ]
  },
  {
   "cell_type": "markdown",
   "metadata": {},
   "source": [
    "sorted(), max() and min() functions have a second parameter which is __key__. _key_ is a lambda function, which is internally used by above three functions when two tuples are being compared(< or >). Comparing two tuples directly with less than or greater than operators is meaning less. So, key function recieves each tuple and returns first item in the tuple. A typical key lambda function looks like below.\n"
   ]
  },
  {
   "cell_type": "code",
   "execution_count": 106,
   "metadata": {},
   "outputs": [
    {
     "name": "stdout",
     "output_type": "stream",
     "text": [
      "4\n",
      "A\n"
     ]
    }
   ],
   "source": [
    "key = lambda x: x[0]\n",
    "l = [4, 3, 2]\n",
    "s = 'Apple'\n",
    "print(key(l))\n",
    "print(key(s))"
   ]
  },
  {
   "cell_type": "markdown",
   "metadata": {},
   "source": [
    "Let's apply this key on two tuples,"
   ]
  },
  {
   "cell_type": "code",
   "execution_count": 107,
   "metadata": {},
   "outputs": [
    {
     "name": "stdout",
     "output_type": "stream",
     "text": [
      "True\n"
     ]
    }
   ],
   "source": [
    "key = lambda x: x[0]\n",
    "\n",
    "t1 = (1235, 'Samantha', 53000, 21)\n",
    "t2 = (1236, 'Vicky', 40000, 24)\n",
    "\n",
    "print (key(t1) < key(t2))"
   ]
  },
  {
   "cell_type": "markdown",
   "metadata": {},
   "source": [
    "In the above code __key(t1) < key(t2)__ is replaced with t1[0] < t2[0]. What we should understand is first item of the tuple(index o) is being compared not the tuple itself. So, result is True.<br>\n",
    "\n",
    "How do we change key lambda to consider salary as the comparision criteria?\n",
    "simple, define key as below.\n",
    "```python\n",
    "key = lambda x: x[2]\n",
    "```\n",
    "x[2] means, taking 3rd item in the list as comparision criteria."
   ]
  },
  {
   "cell_type": "code",
   "execution_count": 108,
   "metadata": {},
   "outputs": [
    {
     "name": "stdout",
     "output_type": "stream",
     "text": [
      "False\n"
     ]
    }
   ],
   "source": [
    "key = lambda x: x[2]\n",
    "\n",
    "t1 = (1235, 'Samantha', 53000, 21)\n",
    "t2 = (1236, 'Vicky', 40000, 24)\n",
    "\n",
    "print(key(t1) < key(t2))"
   ]
  },
  {
   "cell_type": "markdown",
   "metadata": {},
   "source": [
    "In the above code __key(t1) < key(t2)__ is replaced with t1[2] < t2[2], thus resulting True. Now it is time to apply a lambda to _sorted()_ function\n",
    "\n",
    "_Sorting list of tuples on salary:_"
   ]
  },
  {
   "cell_type": "code",
   "execution_count": 109,
   "metadata": {},
   "outputs": [
    {
     "name": "stdout",
     "output_type": "stream",
     "text": [
      "(1235, 'Samantha', 13000, 21)\n",
      "(1236, 'Vicky', 40000, 24)\n",
      "(1237, 'Alex', 57000, 31)\n",
      "(1238, 'Amanda', 45000, 30)\n",
      "(1239, 'John', 23000, 25)\n"
     ]
    }
   ],
   "source": [
    "employees = [\n",
    "            (1239, 'John', 23000, 25),\n",
    "            (1235, 'Samantha', 13000, 21),\n",
    "            (1238, 'Amanda', 45000, 30),\n",
    "            (1237, 'Alex', 57000, 31),\n",
    "            (1236, 'Vicky', 40000, 24)\n",
    "            ]\n",
    "\n",
    "sorted_records = sorted(employees, key=lambda x:x[0])\n",
    "for rec in sorted_records:\n",
    "    print(rec)"
   ]
  },
  {
   "cell_type": "code",
   "execution_count": 110,
   "metadata": {},
   "outputs": [
    {
     "name": "stdout",
     "output_type": "stream",
     "text": [
      "(1237, 'Alex', 57000, 31)\n",
      "(1238, 'Amanda', 45000, 30)\n",
      "(1236, 'Vicky', 40000, 24)\n",
      "(1239, 'John', 23000, 25)\n",
      "(1235, 'Samantha', 13000, 21)\n"
     ]
    }
   ],
   "source": [
    "employees = [\n",
    "            (1239, 'John', 23000, 25),\n",
    "            (1235, 'Samantha', 13000, 21),\n",
    "            (1238, 'Amanda', 45000, 30),\n",
    "            (1237, 'Alex', 57000, 31),\n",
    "            (1236, 'Vicky', 40000, 24)\n",
    "            ]\n",
    "\n",
    "sorted_records = sorted(employees, key=lambda x:x[2], reverse=True)\n",
    "for rec in sorted_records:\n",
    "    print(rec)"
   ]
  },
  {
   "cell_type": "markdown",
   "metadata": {},
   "source": [
    "__Employee with max salary:__"
   ]
  },
  {
   "cell_type": "code",
   "execution_count": 111,
   "metadata": {},
   "outputs": [
    {
     "name": "stdout",
     "output_type": "stream",
     "text": [
      "Max sal: (1237, 'Alex', 57000, 31)\n"
     ]
    }
   ],
   "source": [
    "employees = [\n",
    "            (1239, 'John', 23000, 25),\n",
    "            (1235, 'Samantha', 13000, 21),\n",
    "            (1238, 'Amanda', 45000, 30),\n",
    "            (1237, 'Alex', 57000, 31),\n",
    "            (1236, 'Vicky', 40000, 24)\n",
    "            ]\n",
    "\n",
    "print('Max sal:', max(employees, key=lambda x:x[2]))"
   ]
  },
  {
   "cell_type": "markdown",
   "metadata": {},
   "source": [
    "__Youngest Employee:__"
   ]
  },
  {
   "cell_type": "code",
   "execution_count": 112,
   "metadata": {},
   "outputs": [
    {
     "name": "stdout",
     "output_type": "stream",
     "text": [
      "Min age: (1235, 'Samantha', 13000, 21)\n"
     ]
    }
   ],
   "source": [
    "employees = [\n",
    "            (1239, 'John', 23000, 25),\n",
    "            (1235, 'Samantha', 13000, 21),\n",
    "            (1238, 'Amanda', 45000, 30),\n",
    "            (1237, 'Alex', 57000, 31),\n",
    "            (1236, 'Vicky', 40000, 24)\n",
    "            ]\n",
    "\n",
    "print ('Min age:', min(employees, key=lambda x:x[3]))"
   ]
  },
  {
   "cell_type": "markdown",
   "metadata": {},
   "source": [
    "__Exercise:__ Print friends and their emails who's last name 'barner'"
   ]
  },
  {
   "cell_type": "code",
   "execution_count": 113,
   "metadata": {},
   "outputs": [
    {
     "data": {
      "text/plain": [
       "[('Alex', 'alex.barner@yahoo.com'),\n",
       " ('Cindy', 'cindy.barner@hotmail.com'),\n",
       " ('Mec', 'mc.barner@hotmail.com')]"
      ]
     },
     "execution_count": 113,
     "metadata": {},
     "output_type": "execute_result"
    }
   ],
   "source": [
    "contacts = [('John', 'john.deer@gmail.com'),\n",
    "     ('Alex', 'alex.barner@yahoo.com'),\n",
    "     ('Brad', 'brad.cooper@hotmail.com'),\n",
    "     ('Cindy', 'cindy.barner@hotmail.com'),\n",
    "     ('Matt', 'matt.damon@gmail.com'),\n",
    "     ('George', 'george.cloony@yahoo.com'),\n",
    "     ('Mec', 'mc.barner@hotmail.com')]\n",
    "\n",
    "contacts2 = []\n",
    "for name, email in contacts:\n",
    "    if 'barner' in email:\n",
    "        contacts2.append((name, email))\n",
    "        \n",
    "contacts2.sort()\n",
    "contacts2"
   ]
  },
  {
   "cell_type": "markdown",
   "metadata": {},
   "source": [
    "__Problem:__ Remove duplicates from the given list."
   ]
  },
  {
   "cell_type": "code",
   "execution_count": 114,
   "metadata": {},
   "outputs": [
    {
     "name": "stdout",
     "output_type": "stream",
     "text": [
      "[4, 3, 2, 1]\n"
     ]
    }
   ],
   "source": [
    "l = [4, 3, 2, 3, 2, 1, 4, 2, 3, 4]\n",
    "\n",
    "l1 = []\n",
    "\n",
    "for x in l:\n",
    "    if x not in l1:\n",
    "        l1.append(x)\n",
    "        \n",
    "print(l1)"
   ]
  },
  {
   "cell_type": "markdown",
   "metadata": {},
   "source": [
    "## Set\n",
    "A set contains an unordered collection of unique objects. The set data type is, as the name implies, a mathematical set. Set does not allow duplicates. Set does not maintain an order. This is because, the placement of each value in the set is decided by arbitary index produced by hash() function. So, We should not relay on the order of set elements, even though some times it looks like ordered.\n",
    "\n",
    "Internally uses a hash table. Values are translated to indices of the hash table using hash() function .<br>\n",
    "When a collison occures in the hash table, it ignores the element.<br>\n",
    "This explains, why sets unlike lists and tuples can't have multiple occurrences of the same element. type() of set is 'set'.\n",
    "\n",
    "#### Set Operations"
   ]
  },
  {
   "cell_type": "markdown",
   "metadata": {},
   "source": [
    "##### Creating a set:"
   ]
  },
  {
   "cell_type": "code",
   "execution_count": 115,
   "metadata": {},
   "outputs": [
    {
     "name": "stdout",
     "output_type": "stream",
     "text": [
      "{1, 2, 3}\n"
     ]
    }
   ],
   "source": [
    "s = {2, 3, 1, 2, 1, 3}\n",
    "print(s)"
   ]
  },
  {
   "cell_type": "markdown",
   "metadata": {},
   "source": [
    "##### Creating an empty set:"
   ]
  },
  {
   "cell_type": "code",
   "execution_count": 116,
   "metadata": {},
   "outputs": [
    {
     "name": "stdout",
     "output_type": "stream",
     "text": [
      "set()\n"
     ]
    }
   ],
   "source": [
    "s = set()\n",
    "print(s)"
   ]
  },
  {
   "cell_type": "markdown",
   "metadata": {},
   "source": [
    "The below syntax is not an empty set, it is empty dictionary, which we will be discussing later."
   ]
  },
  {
   "cell_type": "code",
   "execution_count": 117,
   "metadata": {},
   "outputs": [
    {
     "name": "stdout",
     "output_type": "stream",
     "text": [
      "<class 'dict'>\n"
     ]
    }
   ],
   "source": [
    "s = {}\n",
    "print(type(s))"
   ]
  },
  {
   "cell_type": "markdown",
   "metadata": {},
   "source": [
    "##### Converting a list to set:"
   ]
  },
  {
   "cell_type": "code",
   "execution_count": 118,
   "metadata": {},
   "outputs": [
    {
     "name": "stdout",
     "output_type": "stream",
     "text": [
      "{1, 2, 3, 4, 6}\n"
     ]
    }
   ],
   "source": [
    "l = [2, 6, 3, 2, 6, 3, 2, 4, 1, 3]\n",
    "s = set(l)\n",
    "print(s)"
   ]
  },
  {
   "cell_type": "markdown",
   "metadata": {},
   "source": [
    "##### Set doesn't allow duplicates:"
   ]
  },
  {
   "cell_type": "code",
   "execution_count": 119,
   "metadata": {},
   "outputs": [
    {
     "name": "stdout",
     "output_type": "stream",
     "text": [
      "{1, 2, 3, 4, 6}\n"
     ]
    }
   ],
   "source": [
    "s = {2, 6, 3, 2 ,6, 3, 2, 4, 1, 3}\n",
    "print(s)"
   ]
  },
  {
   "cell_type": "code",
   "execution_count": 120,
   "metadata": {},
   "outputs": [
    {
     "name": "stdout",
     "output_type": "stream",
     "text": [
      "{'Apple', 'Banana', 'Orange'}\n"
     ]
    }
   ],
   "source": [
    "s = {\"Apple\", \"Orange\", \"Banana\", \"Orange\", \"Apple\", \"Banana\"}\n",
    "print(s)"
   ]
  },
  {
   "cell_type": "code",
   "execution_count": 121,
   "metadata": {},
   "outputs": [
    {
     "name": "stdout",
     "output_type": "stream",
     "text": [
      "{2.3, 3.2, 4.5, 5.3}\n"
     ]
    }
   ],
   "source": [
    "s = {2.3, 4.5, 3.2, 2.3, 5.3}\n",
    "print(s)"
   ]
  },
  {
   "cell_type": "markdown",
   "metadata": {},
   "source": [
    "##### Adding an element to a set():"
   ]
  },
  {
   "cell_type": "code",
   "execution_count": 122,
   "metadata": {},
   "outputs": [
    {
     "name": "stdout",
     "output_type": "stream",
     "text": [
      "{2, 3, 5}\n"
     ]
    }
   ],
   "source": [
    "s = {2, 5}\n",
    "s.add(3)\n",
    "print(s)"
   ]
  },
  {
   "cell_type": "markdown",
   "metadata": {},
   "source": [
    "##### Removing an element from set():"
   ]
  },
  {
   "cell_type": "code",
   "execution_count": 123,
   "metadata": {},
   "outputs": [
    {
     "name": "stdout",
     "output_type": "stream",
     "text": [
      "{3, 5}\n"
     ]
    }
   ],
   "source": [
    "s = {3, 4, 5}\n",
    "x = 4\n",
    "s.remove(x)\n",
    "print(s)"
   ]
  },
  {
   "cell_type": "markdown",
   "metadata": {},
   "source": [
    "<b> Note: </b> If element not present, throws a 'KeyError'"
   ]
  },
  {
   "cell_type": "markdown",
   "metadata": {},
   "source": [
    "__Using discard() function:__ \n",
    "\n",
    "Removes x from set s if present. If element not existing, doesn't throw any error, it just keeps quite."
   ]
  },
  {
   "cell_type": "code",
   "execution_count": 124,
   "metadata": {},
   "outputs": [
    {
     "name": "stdout",
     "output_type": "stream",
     "text": [
      "{3, 4, 5}\n"
     ]
    }
   ],
   "source": [
    "s = {3, 4, 5}\n",
    "x = 99\n",
    "s.discard(x)\n",
    "print(s)"
   ]
  },
  {
   "cell_type": "markdown",
   "metadata": {},
   "source": [
    "__Using pop() function:__\n",
    "\n",
    "pop() removes and return an arbitrary element from s; raises 'KeyError' if empty"
   ]
  },
  {
   "cell_type": "code",
   "execution_count": 125,
   "metadata": {},
   "outputs": [
    {
     "name": "stdout",
     "output_type": "stream",
     "text": [
      "{99, 35, 14}\n",
      "{35, 14}\n"
     ]
    }
   ],
   "source": [
    "s = {35, 14, 99}\n",
    "print(s)\n",
    "s.pop()\n",
    "print(s)"
   ]
  },
  {
   "cell_type": "markdown",
   "metadata": {},
   "source": [
    "##### Updating a set:"
   ]
  },
  {
   "cell_type": "code",
   "execution_count": 126,
   "metadata": {},
   "outputs": [
    {
     "name": "stdout",
     "output_type": "stream",
     "text": [
      "{1, 2, 4, 5, 6, 7, 8}\n"
     ]
    }
   ],
   "source": [
    "s1 = {4, 5, 2, 1}\n",
    "s2 = {7, 8, 5, 6}\n",
    "s1.update(s2)\n",
    "print(s1)"
   ]
  },
  {
   "cell_type": "markdown",
   "metadata": {},
   "source": [
    "update() funcion adds all the elements in s2 to s1."
   ]
  },
  {
   "cell_type": "markdown",
   "metadata": {},
   "source": [
    "##### Iterating through a set:"
   ]
  },
  {
   "cell_type": "code",
   "execution_count": 127,
   "metadata": {},
   "outputs": [
    {
     "name": "stdout",
     "output_type": "stream",
     "text": [
      "Apple\n",
      "Banana\n",
      "Orange\n",
      "Peach\n"
     ]
    }
   ],
   "source": [
    "s = {'Apple', 'Orange', 'Peach', 'Banana'}\n",
    "for x in s:\n",
    "    print(x)"
   ]
  },
  {
   "cell_type": "markdown",
   "metadata": {},
   "source": [
    "##### Set unpacking:"
   ]
  },
  {
   "cell_type": "code",
   "execution_count": 128,
   "metadata": {},
   "outputs": [
    {
     "name": "stdout",
     "output_type": "stream",
     "text": [
      "{'Apple', 'Ball', 'Cat'}\n",
      "Apple Ball Cat\n"
     ]
    }
   ],
   "source": [
    "s = {'Apple', 'Ball', 'Cat'}\n",
    "print (s)\n",
    "x, y, z = s\n",
    "print(x, y, z)"
   ]
  },
  {
   "cell_type": "markdown",
   "metadata": {},
   "source": [
    "#### Use-Cases\n",
    "##### 1. Set removes duplicates\n",
    "\n",
    "Set uses hash-table data structure internally. Hashing is the process of translating values into array indices.  Placement of each value in the set is decided by an arbitary index prodcuded by hash() function. hash() function always ensures producing same index for a given value. Still there is a chance that, two values may get same index. This is called hash() collision. Hash-table generally stores all the values with the same hash code, in the same bucket. Before storing in same bucket, to make sure not to have any duplicates in the bucket, it compares current element with each existing element in the bucket. If an element with same value is existintg in the bucket, it ignores current element. Thus removing duplicates. </p>\n"
   ]
  },
  {
   "cell_type": "code",
   "execution_count": 129,
   "metadata": {},
   "outputs": [
    {
     "name": "stdout",
     "output_type": "stream",
     "text": [
      "{51, 42, 35, 92}\n"
     ]
    }
   ],
   "source": [
    "s = {35, 92, 51, 42, 35, 92}\n",
    "print(s)"
   ]
  },
  {
   "cell_type": "code",
   "execution_count": 130,
   "metadata": {},
   "outputs": [
    {
     "data": {
      "text/plain": [
       "35"
      ]
     },
     "execution_count": 130,
     "metadata": {},
     "output_type": "execute_result"
    }
   ],
   "source": [
    "hash(35)"
   ]
  },
  {
   "cell_type": "code",
   "execution_count": 131,
   "metadata": {},
   "outputs": [
    {
     "data": {
      "text/plain": [
       "-3428814023410664368"
      ]
     },
     "execution_count": 131,
     "metadata": {},
     "output_type": "execute_result"
    }
   ],
   "source": [
    "hash('Apple')"
   ]
  },
  {
   "cell_type": "code",
   "execution_count": 132,
   "metadata": {},
   "outputs": [
    {
     "data": {
      "text/plain": [
       "1"
      ]
     },
     "execution_count": 132,
     "metadata": {},
     "output_type": "execute_result"
    }
   ],
   "source": [
    "hash(True)"
   ]
  },
  {
   "cell_type": "code",
   "execution_count": 133,
   "metadata": {},
   "outputs": [
    {
     "data": {
      "text/plain": [
       "1307412986224181482"
      ]
     },
     "execution_count": 133,
     "metadata": {},
     "output_type": "execute_result"
    }
   ],
   "source": [
    "hash(234.567)"
   ]
  },
  {
   "cell_type": "code",
   "execution_count": 134,
   "metadata": {},
   "outputs": [
    {
     "data": {
      "text/plain": [
       "{35, 42, 51, 92}"
      ]
     },
     "execution_count": 134,
     "metadata": {},
     "output_type": "execute_result"
    }
   ],
   "source": [
    "s"
   ]
  },
  {
   "cell_type": "markdown",
   "metadata": {},
   "source": [
    "__Adding an item:__"
   ]
  },
  {
   "cell_type": "code",
   "execution_count": 135,
   "metadata": {},
   "outputs": [],
   "source": [
    "s.add(77)"
   ]
  },
  {
   "cell_type": "markdown",
   "metadata": {},
   "source": [
    "__Removal of an item:__"
   ]
  },
  {
   "cell_type": "code",
   "execution_count": 136,
   "metadata": {},
   "outputs": [],
   "source": [
    "s.remove(51)"
   ]
  },
  {
   "cell_type": "markdown",
   "metadata": {},
   "source": [
    "Python has a built-in function __hash()__ which returns an unque identifier for each value we pass. This hash code is unique for every value in the lifetime of a program. As the implementation of the butil-in hash() function is complex to understand now. To make it simple, assume that, when we pass 'n' to __hash()__ function,i.e, calling __hash(n)__, returns n%10. \n",
    "\n",
    "For example, calling __hash(35)__, results 35%10, which is 5.\n",
    "\n",
    "__Hashing__ is the process of translating values to unqiue numbers, generally called as hash code. These numbers are  utilized by other data structures like sets and dictionaries to allocate a slot(bucket) in an array. \n",
    "\n",
    "Let's see how set removes duplicates from a list of values.\n",
    "\n",
    "<img src='drawing8.png' width='600'>"
   ]
  },
  {
   "cell_type": "markdown",
   "metadata": {},
   "source": [
    "__Program:__ Remove duplicates from the given list"
   ]
  },
  {
   "cell_type": "code",
   "execution_count": 137,
   "metadata": {},
   "outputs": [
    {
     "name": "stdout",
     "output_type": "stream",
     "text": [
      "[51, 42, 35, 92]\n"
     ]
    }
   ],
   "source": [
    "l = [35, 92, 51, 35, 42, 92]\n",
    "l = list(set(l))\n",
    "print(l)"
   ]
  },
  {
   "cell_type": "markdown",
   "metadata": {},
   "source": [
    "##### 2. Faster Look-ups, O(1):\n",
    "\n",
    "We know that Set stores elements in a hash table.  Searching(look-up) operation is always constant and mostly just involves one operation. As we know that set is unordered, due to arbitary value of hash code. We cannot access the individual elements, as there is no fixed index, we can only check element existance. "
   ]
  },
  {
   "cell_type": "code",
   "execution_count": 138,
   "metadata": {},
   "outputs": [
    {
     "name": "stdout",
     "output_type": "stream",
     "text": [
      "True\n"
     ]
    }
   ],
   "source": [
    "s = {35, 92, 51, 35, 42, 92}\n",
    "k = 92\n",
    "print(k in s)"
   ]
  },
  {
   "cell_type": "markdown",
   "metadata": {},
   "source": [
    "##### 3. Relations between sets"
   ]
  },
  {
   "cell_type": "markdown",
   "metadata": {},
   "source": [
    "__Union of two sets:__ All the unqiue elements in both the sets."
   ]
  },
  {
   "cell_type": "code",
   "execution_count": 139,
   "metadata": {},
   "outputs": [
    {
     "name": "stdout",
     "output_type": "stream",
     "text": [
      "{3, 4, 5, 6, 8, 9}\n"
     ]
    }
   ],
   "source": [
    "s1 = {3, 4, 5, 6}\n",
    "s2 = {5, 9, 6, 8}\n",
    "all_values = s1.union(s2)\n",
    "# all_values = s1 | s2\n",
    "print(all_values)"
   ]
  },
  {
   "cell_type": "markdown",
   "metadata": {},
   "source": [
    "<b><u> Note:</b></u> Above union() function is equivalent of applying '|' operator."
   ]
  },
  {
   "cell_type": "markdown",
   "metadata": {},
   "source": [
    "__Intersection of two sets:__ Common elements in both the sets."
   ]
  },
  {
   "cell_type": "code",
   "execution_count": 140,
   "metadata": {},
   "outputs": [
    {
     "name": "stdout",
     "output_type": "stream",
     "text": [
      "{5, 6}\n"
     ]
    }
   ],
   "source": [
    "s1 = {3, 4, 5, 6}\n",
    "s2 = {5, 9, 6, 8}\n",
    "common = s1.intersection(s2)\n",
    "# common = s1 & s2\n",
    "print(common)"
   ]
  },
  {
   "cell_type": "markdown",
   "metadata": {},
   "source": [
    "<b> Note: </b> Above intersection() function is equivalent of applying '&' operator."
   ]
  },
  {
   "cell_type": "markdown",
   "metadata": {},
   "source": [
    "__Difference of two sets:__ Elements which are present in one set but not in the other."
   ]
  },
  {
   "cell_type": "code",
   "execution_count": 141,
   "metadata": {},
   "outputs": [
    {
     "name": "stdout",
     "output_type": "stream",
     "text": [
      "{3, 4}\n"
     ]
    }
   ],
   "source": [
    "s1 = {3, 4, 5, 6}\n",
    "s2 = {5, 9, 6, 8}\n",
    "diff = s1.difference(s2)\n",
    "# diff = s1 - s2\n",
    "print(diff)"
   ]
  },
  {
   "cell_type": "markdown",
   "metadata": {},
   "source": [
    "<b> Note: </b> Above intersection() function is equivalent of applying '&' operator."
   ]
  },
  {
   "cell_type": "markdown",
   "metadata": {},
   "source": [
    "<b>Program:</b><br>\n",
    "Given customer ids who deposited money, for the last three days.<br>\n",
    "1. Find the customer ids who deposited on 1st and 3rd days but not on the 2nd day.<br>\n",
    "2. Find the customer id, who deposited all the days<br>\n",
    "3. Customer ids, who did deposites atleast 2 of the 3 days\n",
    "4. Total number of customers who did deposites\n",
    "\n",
    "day1 = [1122, 1234, 1256, 1389, 1122, 1234, 1389, 1122, 1389, 1234]<br>\n",
    "day2 = [1134, 1256, 1399, 1455, 1399, 1256, 1134, 1455, 1256, 1134]<br>\n",
    "day3 = [1256, 1455, 1122, 1899, 1256, 1122, 1455, 1899, 1455, 1122]<br>\n",
    "\n",
    "__Solution:__\n"
   ]
  },
  {
   "cell_type": "code",
   "execution_count": 142,
   "metadata": {
    "solution": "shown",
    "solution_first": true
   },
   "outputs": [
    {
     "name": "stdout",
     "output_type": "stream",
     "text": [
      "Customer who deposited on day 3 and day 1 but not on day 2:\n",
      "{1122}\n"
     ]
    }
   ],
   "source": [
    "day1 = [1122, 1234, 1256, 1389, 1122, 1234, 1389, 1122, 1389, 1234]\n",
    "day2 = [1134, 1256, 1399, 1455, 1399, 1256, 1134, 1455, 1256, 1134]\n",
    "day3 = [1256, 1455, 1122, 1899, 1256, 1122, 1455, 1899, 1455, 1122]\n",
    "\n",
    "d1 = set(day1)\n",
    "d2 = set(day2)\n",
    "d3 = set(day3)\n",
    "print('Customer who deposited on day 3 and day 1 but not on day 2:')\n",
    "print((d1 & d3) - d2)"
   ]
  },
  {
   "cell_type": "code",
   "execution_count": 143,
   "metadata": {},
   "outputs": [
    {
     "name": "stdout",
     "output_type": "stream",
     "text": [
      "Customers who did deposites all the threee days:\n",
      "{1256}\n"
     ]
    }
   ],
   "source": [
    "print('Customers who did deposites all the threee days:')\n",
    "print(d1 & d2 & d3)"
   ]
  },
  {
   "cell_type": "code",
   "execution_count": 144,
   "metadata": {},
   "outputs": [
    {
     "name": "stdout",
     "output_type": "stream",
     "text": [
      "Customers who did deposotes atleast 2 days out of 3 days\n",
      "{1256, 1122, 1455}\n"
     ]
    }
   ],
   "source": [
    "customers = (d1 & d2) | (d2 & d3) | (d3 & d1)\n",
    "print('Customers who did deposotes atleast 2 days out of 3 days')\n",
    "print(customers)"
   ]
  },
  {
   "cell_type": "code",
   "execution_count": 145,
   "metadata": {},
   "outputs": [
    {
     "name": "stdout",
     "output_type": "stream",
     "text": [
      "Number of customers who did deposites: 8\n"
     ]
    }
   ],
   "source": [
    "all_cust = d1 | d2 | d3\n",
    "print('Number of customers who did deposites:', len(all_cust))"
   ]
  },
  {
   "cell_type": "markdown",
   "metadata": {},
   "source": [
    "__Some more functions on sets__"
   ]
  },
  {
   "cell_type": "code",
   "execution_count": 146,
   "metadata": {},
   "outputs": [],
   "source": [
    "s1 = {3, 4, 5, 6}\n",
    "s2 = {5, 6, 4}\n",
    "s3 = {8, 7, 9}"
   ]
  },
  {
   "cell_type": "code",
   "execution_count": 147,
   "metadata": {},
   "outputs": [
    {
     "data": {
      "text/plain": [
       "True"
      ]
     },
     "execution_count": 147,
     "metadata": {},
     "output_type": "execute_result"
    }
   ],
   "source": [
    "s1.isdisjoint(s3)"
   ]
  },
  {
   "cell_type": "code",
   "execution_count": 148,
   "metadata": {},
   "outputs": [
    {
     "data": {
      "text/plain": [
       "True"
      ]
     },
     "execution_count": 148,
     "metadata": {},
     "output_type": "execute_result"
    }
   ],
   "source": [
    "s2.issubset(s1)"
   ]
  },
  {
   "cell_type": "code",
   "execution_count": 149,
   "metadata": {},
   "outputs": [
    {
     "data": {
      "text/plain": [
       "True"
      ]
     },
     "execution_count": 149,
     "metadata": {},
     "output_type": "execute_result"
    }
   ],
   "source": [
    "s1.issuperset(s2)"
   ]
  },
  {
   "cell_type": "markdown",
   "metadata": {},
   "source": [
    "#### Why tuple is hashable, but not list?\n",
    "\n",
    "List is dynamically resizable array, and elements can be changed, deleted and added at any time. On sequences like list and tuple, hash() is computed on individual elements, then it is combined generally using xor operator to resolve the index. This hash code is unique for it's life time. Dynamic containers like list, varies in size and elements gets modifed. As elements are varying, evaluating a constant hash() is impossible. Tuples are immutable computing a constant hash() is possible."
   ]
  },
  {
   "cell_type": "code",
   "execution_count": 150,
   "metadata": {},
   "outputs": [
    {
     "name": "stdout",
     "output_type": "stream",
     "text": [
      "{(1, 2), (2, 1), (3, 4), (4, 3)}\n"
     ]
    }
   ],
   "source": [
    "s = {(1, 2), (3, 4), (1, 2), (4, 3), (2, 1)}\n",
    "print(s)"
   ]
  },
  {
   "cell_type": "code",
   "execution_count": 151,
   "metadata": {},
   "outputs": [
    {
     "data": {
      "text/plain": [
       "True"
      ]
     },
     "execution_count": 151,
     "metadata": {},
     "output_type": "execute_result"
    }
   ],
   "source": [
    "(4, 3) in s"
   ]
  },
  {
   "cell_type": "code",
   "execution_count": 152,
   "metadata": {},
   "outputs": [
    {
     "data": {
      "text/plain": [
       "(3713081631934410656, 3713082714465905806)"
      ]
     },
     "execution_count": 152,
     "metadata": {},
     "output_type": "execute_result"
    }
   ],
   "source": [
    "hash((1, 2)), hash((2, 1))"
   ]
  },
  {
   "cell_type": "code",
   "execution_count": 153,
   "metadata": {},
   "outputs": [
    {
     "ename": "TypeError",
     "evalue": "unhashable type: 'list'",
     "output_type": "error",
     "traceback": [
      "\u001b[0;31m---------------------------------------------------------------------------\u001b[0m",
      "\u001b[0;31mTypeError\u001b[0m                                 Traceback (most recent call last)",
      "\u001b[0;32m<ipython-input-153-4b420d0158ba>\u001b[0m in \u001b[0;36m<module>\u001b[0;34m\u001b[0m\n\u001b[0;32m----> 1\u001b[0;31m \u001b[0mhash\u001b[0m\u001b[0;34m(\u001b[0m\u001b[0;34m[\u001b[0m\u001b[0;36m1\u001b[0m\u001b[0;34m,\u001b[0m \u001b[0;36m2\u001b[0m\u001b[0;34m]\u001b[0m\u001b[0;34m)\u001b[0m\u001b[0;34m\u001b[0m\u001b[0m\n\u001b[0m",
      "\u001b[0;31mTypeError\u001b[0m: unhashable type: 'list'"
     ]
    }
   ],
   "source": [
    "hash([1, 2])"
   ]
  },
  {
   "cell_type": "code",
   "execution_count": 154,
   "metadata": {},
   "outputs": [
    {
     "ename": "TypeError",
     "evalue": "unhashable type: 'list'",
     "output_type": "error",
     "traceback": [
      "\u001b[0;31m---------------------------------------------------------------------------\u001b[0m",
      "\u001b[0;31mTypeError\u001b[0m                                 Traceback (most recent call last)",
      "\u001b[0;32m<ipython-input-154-718a736d6f95>\u001b[0m in \u001b[0;36m<module>\u001b[0;34m\u001b[0m\n\u001b[1;32m      1\u001b[0m \u001b[0ml\u001b[0m \u001b[0;34m=\u001b[0m \u001b[0;34m[\u001b[0m\u001b[0;36m1\u001b[0m\u001b[0;34m,\u001b[0m \u001b[0;36m2\u001b[0m\u001b[0;34m]\u001b[0m\u001b[0;34m\u001b[0m\u001b[0m\n\u001b[0;32m----> 2\u001b[0;31m \u001b[0ms\u001b[0m \u001b[0;34m=\u001b[0m \u001b[0;34m{\u001b[0m\u001b[0;34m[\u001b[0m\u001b[0;36m3\u001b[0m\u001b[0;34m,\u001b[0m \u001b[0;36m4\u001b[0m\u001b[0;34m]\u001b[0m\u001b[0;34m,\u001b[0m \u001b[0ml\u001b[0m\u001b[0;34m,\u001b[0m \u001b[0;34m[\u001b[0m\u001b[0;36m2\u001b[0m\u001b[0;34m,\u001b[0m \u001b[0;36m1\u001b[0m\u001b[0;34m]\u001b[0m\u001b[0;34m,\u001b[0m \u001b[0;34m[\u001b[0m\u001b[0;36m1\u001b[0m\u001b[0;34m,\u001b[0m\u001b[0;36m2\u001b[0m\u001b[0;34m]\u001b[0m\u001b[0;34m,\u001b[0m \u001b[0;34m[\u001b[0m\u001b[0;36m4\u001b[0m\u001b[0;34m,\u001b[0m \u001b[0;36m3\u001b[0m\u001b[0;34m]\u001b[0m\u001b[0;34m}\u001b[0m\u001b[0;34m\u001b[0m\u001b[0m\n\u001b[0m\u001b[1;32m      3\u001b[0m \u001b[0mprint\u001b[0m \u001b[0;34m(\u001b[0m\u001b[0ms\u001b[0m\u001b[0;34m)\u001b[0m\u001b[0;34m\u001b[0m\u001b[0m\n",
      "\u001b[0;31mTypeError\u001b[0m: unhashable type: 'list'"
     ]
    }
   ],
   "source": [
    "l = [1, 2]\n",
    "s = {[3, 4], l, [2, 1], [1,2], [4, 3]}\n",
    "print (s)"
   ]
  },
  {
   "cell_type": "code",
   "execution_count": null,
   "metadata": {},
   "outputs": [],
   "source": [
    "employees = [\n",
    "            (1239, 'John', 23000, 25),\n",
    "            (1235, 'Samantha', 13000, 21),\n",
    "            (1238, 'Amanda', 45000, 30),\n",
    "            (1237, 'Alex', 57000, 31),\n",
    "            (1236, 'Vicky', 40000, 24),\n",
    "            (1237, 'Alex', 57000, 31)\n",
    "            ]\n",
    "s = set(employees)\n",
    "s"
   ]
  },
  {
   "cell_type": "code",
   "execution_count": 155,
   "metadata": {},
   "outputs": [
    {
     "data": {
      "text/plain": [
       "False"
      ]
     },
     "execution_count": 155,
     "metadata": {},
     "output_type": "execute_result"
    }
   ],
   "source": [
    "(1236, 'Vicky', 40000, 24) in s"
   ]
  },
  {
   "cell_type": "markdown",
   "metadata": {},
   "source": [
    "__Is set hashable ?__"
   ]
  },
  {
   "cell_type": "code",
   "execution_count": 156,
   "metadata": {},
   "outputs": [
    {
     "ename": "TypeError",
     "evalue": "unhashable type: 'set'",
     "output_type": "error",
     "traceback": [
      "\u001b[0;31m---------------------------------------------------------------------------\u001b[0m",
      "\u001b[0;31mTypeError\u001b[0m                                 Traceback (most recent call last)",
      "\u001b[0;32m<ipython-input-156-8390e2fe5a73>\u001b[0m in \u001b[0;36m<module>\u001b[0;34m\u001b[0m\n\u001b[0;32m----> 1\u001b[0;31m \u001b[0ms\u001b[0m \u001b[0;34m=\u001b[0m \u001b[0;34m{\u001b[0m\u001b[0mset\u001b[0m\u001b[0;34m(\u001b[0m\u001b[0;34m[\u001b[0m\u001b[0;36m3\u001b[0m\u001b[0;34m,\u001b[0m \u001b[0;36m4\u001b[0m\u001b[0;34m]\u001b[0m\u001b[0;34m)\u001b[0m\u001b[0;34m,\u001b[0m \u001b[0mset\u001b[0m\u001b[0;34m(\u001b[0m\u001b[0;34m[\u001b[0m\u001b[0;36m5\u001b[0m\u001b[0;34m,\u001b[0m \u001b[0;36m6\u001b[0m\u001b[0;34m]\u001b[0m\u001b[0;34m)\u001b[0m\u001b[0;34m}\u001b[0m\u001b[0;34m\u001b[0m\u001b[0m\n\u001b[0m",
      "\u001b[0;31mTypeError\u001b[0m: unhashable type: 'set'"
     ]
    }
   ],
   "source": [
    "s = {set([3, 4]), set([5, 6])}"
   ]
  },
  {
   "cell_type": "code",
   "execution_count": null,
   "metadata": {},
   "outputs": [],
   "source": [
    "fs1 = frozenset([2, 3])\n",
    "fs2 = frozenset([4, 5])\n",
    "fs3 = frozenset([2, 3])\n",
    "s = {fs1, fs2, fs3}\n",
    "s"
   ]
  },
  {
   "cell_type": "markdown",
   "metadata": {},
   "source": [
    "__Note:__ The main reason to have tuple in python is, hashability. List is hashable when it is immutable. A constant list is tuple. Similarly, a set() is not hashable, we cannot store, a set in another set, as it is mutable. So our only option is to have a constant set. Actually we have one; a built-in data structure forzenset(), an immutable set. Hashability is very important property in programming.<br> \n",
    "&nbsp;&nbsp;&nbsp;&nbsp;&nbsp;&nbsp;&nbsp;&nbsp;&nbsp;&nbsp;&nbsp;&nbsp;&nbsp;&nbsp;&nbsp;\"All mutable types are unhashable\"<br>\n",
    "We discuss more on this in the next sections."
   ]
  },
  {
   "cell_type": "markdown",
   "metadata": {},
   "source": [
    "__Program:__ Print all pairs whose sum is N"
   ]
  },
  {
   "cell_type": "code",
   "execution_count": null,
   "metadata": {},
   "outputs": [],
   "source": [
    "l = [4, 3, 2, 6, 8, 9, 7, 11, 1]\n",
    "n = 10\n",
    "for i, x in enumerate(l):\n",
    "    for j, y in enumerate(l):\n",
    "        if i != j and x+y == n:\n",
    "            print((x, y))  "
   ]
  },
  {
   "cell_type": "code",
   "execution_count": null,
   "metadata": {},
   "outputs": [],
   "source": [
    "l = [4, 3, 2, 6, 8, 9, 7, 11, 1]\n",
    "s = set(l)\n",
    "n = 10\n",
    "for x in l:\n",
    "    if n-x in s:\n",
    "        print(n-x, x)\n",
    "        s.remove(n-x)\n",
    "        s.remove(x)"
   ]
  },
  {
   "cell_type": "markdown",
   "metadata": {},
   "source": [
    "## Dictionary\n",
    "In python list() is sequence of elements. Each element in list() can be accesed using its index(position). Let's take\n",
    "a list,\n",
    "```python\n",
    "l = [34, 32.5, 33, 35, 32, 35.1, 33.6]\n",
    "```\n",
    "Suppose the above list is representing maximum temperatures of the last week, from Sunday to Saturday.<br> \n",
    "How do you access max temperature on Thursday.<br>\n",
    "\n",
    "As Index 0 represents max temperature on Sunday and<br>\n",
    "1 represents Monday, <br>\n",
    "2 represents Tuesday,<br>\n",
    "and so on,<br>\n",
    "\n",
    "```python\n",
    "print l[4]\n",
    "```\n",
    "\n",
    "Gives max temperature on Thursday. Associating temperatures and indices(numeric) in this way, gives unrealistic perspective on the problem. If there is a way to access each temperature in the list with meaningful indices, like, l['Sunday'], l['Monday'] etc; This makes associations more lively, problem-solving more realistic. This is where dictionary can really help us.\n",
    "\n",
    "Dictionary is an associative container, which has a set of Key-Value pairs. 'Key' is the 'Index', through which we access associated value.\n",
    "\n",
    "```python\n",
    "d = {'Sunday':34, 'Monday':32.5, 'Tuesday':33, 'Wednesday':35, 'Thursday':32, 'Friday':35.1, 'Saturday':33.6}\n",
    "```\n",
    "\n",
    "\n",
    "<img src='drawing9.png' width='600'>\n",
    "\n",
    "in the above dictionary, element which is on the left side of colon(':') is the <b>Key</b> also referred as <b>Index</b> and right side element is the <b>Value</b><br>\n",
    "\n",
    "Dictionary internally uses hash-table data structure.<br>type() of dictionary is 'dict'.\n",
    "\n",
    "__Note:__ Like set, dictionary also an unordered data strucure.\n"
   ]
  },
  {
   "cell_type": "code",
   "execution_count": null,
   "metadata": {},
   "outputs": [],
   "source": [
    "d = {\n",
    "     'Sunday':34,\n",
    "     'Monday':32.5,\n",
    "     'Tuesday':33,\n",
    "     'Wednesday':35,\n",
    "     'Thursday':32,\n",
    "     'Friday':35.1,\n",
    "     'Saturday':33.6\n",
    "    }\n",
    "\n",
    "d['Thursday']"
   ]
  },
  {
   "cell_type": "code",
   "execution_count": null,
   "metadata": {},
   "outputs": [],
   "source": [
    "d"
   ]
  },
  {
   "cell_type": "markdown",
   "metadata": {},
   "source": [
    "##### Creating an empty dictionary:"
   ]
  },
  {
   "cell_type": "code",
   "execution_count": null,
   "metadata": {},
   "outputs": [],
   "source": [
    "d = {} # Empty dictionary\n",
    "print(d)"
   ]
  },
  {
   "cell_type": "code",
   "execution_count": null,
   "metadata": {},
   "outputs": [],
   "source": [
    "d = dict() # Empty dictionary\n",
    "print(d)"
   ]
  },
  {
   "cell_type": "markdown",
   "metadata": {},
   "source": [
    "##### Creating dict and initilizing with key-value pairs:"
   ]
  },
  {
   "cell_type": "code",
   "execution_count": null,
   "metadata": {},
   "outputs": [],
   "source": [
    "d = {1:'One', 2: 'Two', 3:'Three'}\n",
    "print(d)\n",
    "\n",
    "d = {'Hyderabad': 500001, 'Chennai': 400001, 'Delhi': 100001}\n",
    "print(d)"
   ]
  },
  {
   "cell_type": "markdown",
   "metadata": {},
   "source": [
    "<b>Imp Note:</b> Key can be any hashable type, where as for value there is no data-type restriction."
   ]
  },
  {
   "cell_type": "markdown",
   "metadata": {},
   "source": [
    "##### Retreiving value from dictionary:\n",
    "Syntax: d[Key]\n",
    "To retrieve a value, __hash(Key)__ is called and an index is produced, where the the key-value should be found. If a bucket has multiple key-value pair, equality check happens on each key, and assocaited value is returned, else throws a 'KeyError'."
   ]
  },
  {
   "cell_type": "code",
   "execution_count": null,
   "metadata": {},
   "outputs": [],
   "source": [
    "d = {'Mango': 30, 'Banana': 15, 'Peach': 20}\n",
    "\n",
    "print(d['Peach'])"
   ]
  },
  {
   "cell_type": "markdown",
   "metadata": {},
   "source": [
    "##### Adding key-value pair to a dictionary:\n",
    "```python\n",
    "Syntax: d[Key] = Value \n",
    "```\n",
    "To store a key-value pair, __hash(Key)__ is called and an index is produced. If same key not existing, key-value pair is stored there, else old value is replaced with new value. "
   ]
  },
  {
   "cell_type": "code",
   "execution_count": null,
   "metadata": {
    "scrolled": true
   },
   "outputs": [],
   "source": [
    "d = {'Mango': 30, 'Banana': 15, 'Peach': 20}\n",
    "d['Orange'] = 40\n",
    "print(d)"
   ]
  },
  {
   "cell_type": "markdown",
   "metadata": {},
   "source": [
    "In the above dictionary d, if key is already existing, value is replaced."
   ]
  },
  {
   "cell_type": "code",
   "execution_count": null,
   "metadata": {},
   "outputs": [],
   "source": [
    "d = {'Orange': 40, 'Mango': 30, 'Banana': 15, 'Peach': 20}\n",
    "d['Orange'] = 100\n",
    "print(d)"
   ]
  },
  {
   "cell_type": "markdown",
   "metadata": {},
   "source": [
    "##### Accessing a key, which doesn't exist:"
   ]
  },
  {
   "cell_type": "code",
   "execution_count": null,
   "metadata": {},
   "outputs": [],
   "source": [
    "d = {'Orange': 40, 'Mango': 30, 'Banana': 15, 'Peach': 20}\n",
    "print(d['Grape'])"
   ]
  },
  {
   "cell_type": "markdown",
   "metadata": {},
   "source": [
    "Above program throws 'KeyError' when key deosn't exist. Sometimes, this behaviour is not accepted, instead program should continue by assuming a default value. \n",
    "\n",
    "##### Using get() function:\n",
    "&nbsp;&nbsp;&nbsp;&nbsp;d.get(Key) : If key doesn't exist, get() returns None, instead of throwing KeyError."
   ]
  },
  {
   "cell_type": "code",
   "execution_count": null,
   "metadata": {},
   "outputs": [],
   "source": [
    "d = {'Orange': 40, 'Mango': 30, 'Banana': 15, 'Peach': 20}\n",
    "print(d.get('Orange')) # equivalent to d['Orange']"
   ]
  },
  {
   "cell_type": "code",
   "execution_count": null,
   "metadata": {},
   "outputs": [],
   "source": [
    "d = {'Orange': 40, 'Mango': 30, 'Banana': 15, 'Peach': 20}\n",
    "print(d.get('Grape'))"
   ]
  },
  {
   "cell_type": "markdown",
   "metadata": {},
   "source": [
    "We can also specify, default value to return, if key doesn't exist."
   ]
  },
  {
   "cell_type": "code",
   "execution_count": null,
   "metadata": {},
   "outputs": [],
   "source": [
    "d = {'Orange': 40, 'Mango': 30, 'Banana': 15, 'Peach': 20}\n",
    "print(d.get('Orange', 10))"
   ]
  },
  {
   "cell_type": "code",
   "execution_count": 157,
   "metadata": {},
   "outputs": [
    {
     "name": "stdout",
     "output_type": "stream",
     "text": [
      "10\n"
     ]
    }
   ],
   "source": [
    "d = {'Orange': 40, 'Mango': 30, 'Banana': 15, 'Peach': 20}\n",
    "print(d.get('Grape', 10))"
   ]
  },
  {
   "cell_type": "markdown",
   "metadata": {},
   "source": [
    "In the above example, if key 'Grape' exists, get() returns associated value else default value, which is 10."
   ]
  },
  {
   "cell_type": "code",
   "execution_count": 158,
   "metadata": {},
   "outputs": [
    {
     "data": {
      "text/plain": [
       "{'Orange': 40, 'Mango': 30, 'Banana': 15, 'Peach': 20}"
      ]
     },
     "execution_count": 158,
     "metadata": {},
     "output_type": "execute_result"
    }
   ],
   "source": [
    "d"
   ]
  },
  {
   "cell_type": "markdown",
   "metadata": {},
   "source": [
    "__Setting default Value if no value exists__"
   ]
  },
  {
   "cell_type": "code",
   "execution_count": 159,
   "metadata": {},
   "outputs": [
    {
     "name": "stdout",
     "output_type": "stream",
     "text": [
      "10\n"
     ]
    }
   ],
   "source": [
    "print(d.setdefault('Grape', 10))"
   ]
  },
  {
   "cell_type": "code",
   "execution_count": 160,
   "metadata": {},
   "outputs": [
    {
     "data": {
      "text/plain": [
       "{'Orange': 40, 'Mango': 30, 'Banana': 15, 'Peach': 20, 'Grape': 10}"
      ]
     },
     "execution_count": 160,
     "metadata": {},
     "output_type": "execute_result"
    }
   ],
   "source": [
    "d"
   ]
  },
  {
   "cell_type": "code",
   "execution_count": 161,
   "metadata": {},
   "outputs": [
    {
     "data": {
      "text/plain": [
       "30"
      ]
     },
     "execution_count": 161,
     "metadata": {},
     "output_type": "execute_result"
    }
   ],
   "source": [
    "d.setdefault('Mango', 100)"
   ]
  },
  {
   "cell_type": "markdown",
   "metadata": {},
   "source": [
    "__Checking Key existance in a dictionary__"
   ]
  },
  {
   "cell_type": "markdown",
   "metadata": {},
   "source": [
    "##### Using 'in' operator"
   ]
  },
  {
   "cell_type": "code",
   "execution_count": 162,
   "metadata": {},
   "outputs": [
    {
     "name": "stdout",
     "output_type": "stream",
     "text": [
      "True\n"
     ]
    }
   ],
   "source": [
    "d = {'Apple': 20, 'Orange': 15, 'Peach': 10}\n",
    "key = 'Peach'\n",
    "print(key in d)"
   ]
  },
  {
   "cell_type": "markdown",
   "metadata": {},
   "source": [
    "##### Do not use get() function to check key's existance\n",
    "<b>Note:</b> This is an amateur coding practice, which leads to catastrophic system failures sometimes."
   ]
  },
  {
   "cell_type": "code",
   "execution_count": 163,
   "metadata": {},
   "outputs": [
    {
     "name": "stdout",
     "output_type": "stream",
     "text": [
      "Key doesn't exist\n"
     ]
    }
   ],
   "source": [
    "d = {'Apple': 20, 'Orange': 15, 'Peach': 0}\n",
    "\n",
    "if d.get('Peach'):\n",
    "    print ('Key exists')\n",
    "else:\n",
    "    print (\"Key doesn't exist\")"
   ]
  },
  {
   "cell_type": "markdown",
   "metadata": {},
   "source": [
    "In the above example, 'Peach' is existing but returns 0, which coerced(implicit type conversion) to False, and produce  output, \"Key doesn't exist\". We are supposed to check key's existance here. To do so, we should not depend on the value returned by get() function.\n",
    "\n",
    "<b>Imp Note:</b> To check key's existance in a dictionary, We should either use 'in' operator or has_key() function but, using get() function is not suggested."
   ]
  },
  {
   "cell_type": "markdown",
   "metadata": {},
   "source": [
    "##### Removing a key-value pair"
   ]
  },
  {
   "cell_type": "code",
   "execution_count": 164,
   "metadata": {},
   "outputs": [
    {
     "name": "stdout",
     "output_type": "stream",
     "text": [
      "Returned value: 15\n",
      "dict after removing the key: {'Orange': 40, 'Mango': 30, 'Peach': 20}\n"
     ]
    }
   ],
   "source": [
    "d = {'Orange': 40, 'Mango': 30, 'Banana': 15, 'Peach': 20}\n",
    "key = 'Banana'\n",
    "\n",
    "ret = d.pop(key)\n",
    "\n",
    "print ('Returned value:', ret)\n",
    "print ('dict after removing the key:', d)"
   ]
  },
  {
   "cell_type": "markdown",
   "metadata": {},
   "source": [
    "pop() function removes the key and its associated value, ('Banana' and 15) and returns 15. This throws 'KeyError' when key deosn't exist."
   ]
  },
  {
   "cell_type": "markdown",
   "metadata": {},
   "source": [
    "##### Iterating through a dictionary"
   ]
  },
  {
   "cell_type": "code",
   "execution_count": 165,
   "metadata": {},
   "outputs": [
    {
     "name": "stdout",
     "output_type": "stream",
     "text": [
      "Orange\n",
      "Mango\n",
      "Banana\n",
      "Peach\n"
     ]
    }
   ],
   "source": [
    "d = {'Orange': 40, 'Mango': 30, 'Banana': 15, 'Peach': 20}\n",
    "\n",
    "for x in d:\n",
    "    print (x)"
   ]
  },
  {
   "cell_type": "markdown",
   "metadata": {},
   "source": [
    "By default dictionary provides an iterator to list of keys to for loop. That is the reason, we are seeing only keys in the above example. However we can access value, if we have a key."
   ]
  },
  {
   "cell_type": "code",
   "execution_count": 166,
   "metadata": {},
   "outputs": [
    {
     "name": "stdout",
     "output_type": "stream",
     "text": [
      "Orange 40\n",
      "Mango 30\n",
      "Banana 15\n",
      "Peach 20\n"
     ]
    }
   ],
   "source": [
    "d = {'Orange': 40, 'Mango': 30, 'Banana': 15, 'Peach': 20}\n",
    "for x in d:\n",
    "    print(x, d[x])"
   ]
  },
  {
   "cell_type": "markdown",
   "metadata": {},
   "source": [
    "#### Some dict functions:"
   ]
  },
  {
   "cell_type": "markdown",
   "metadata": {},
   "source": [
    "_d.keys():_ Returns list of all keys"
   ]
  },
  {
   "cell_type": "code",
   "execution_count": 167,
   "metadata": {},
   "outputs": [
    {
     "data": {
      "text/plain": [
       "dict_keys(['Orange', 'Mango', 'Banana', 'Peach'])"
      ]
     },
     "execution_count": 167,
     "metadata": {},
     "output_type": "execute_result"
    }
   ],
   "source": [
    "d.keys()"
   ]
  },
  {
   "cell_type": "markdown",
   "metadata": {},
   "source": [
    "_d.values():_ Returns list of values"
   ]
  },
  {
   "cell_type": "code",
   "execution_count": 168,
   "metadata": {},
   "outputs": [
    {
     "data": {
      "text/plain": [
       "dict_values([40, 30, 15, 20])"
      ]
     },
     "execution_count": 168,
     "metadata": {},
     "output_type": "execute_result"
    }
   ],
   "source": [
    "d.values()"
   ]
  },
  {
   "cell_type": "markdown",
   "metadata": {},
   "source": [
    "_d.items():_  Returns key value pairs as a list of tuples."
   ]
  },
  {
   "cell_type": "code",
   "execution_count": 169,
   "metadata": {},
   "outputs": [
    {
     "data": {
      "text/plain": [
       "dict_items([('Orange', 40), ('Mango', 30), ('Banana', 15), ('Peach', 20)])"
      ]
     },
     "execution_count": 169,
     "metadata": {},
     "output_type": "execute_result"
    }
   ],
   "source": [
    "d.items()"
   ]
  },
  {
   "cell_type": "markdown",
   "metadata": {},
   "source": [
    "We have seen how to iterate through a list of tuples in the previous sections."
   ]
  },
  {
   "cell_type": "code",
   "execution_count": 170,
   "metadata": {},
   "outputs": [
    {
     "name": "stdout",
     "output_type": "stream",
     "text": [
      "Orange 40\n",
      "Mango 30\n",
      "Banana 15\n",
      "Peach 20\n"
     ]
    }
   ],
   "source": [
    "for fruit, quantity in d.items():\n",
    "    print(fruit, quantity)"
   ]
  },
  {
   "cell_type": "markdown",
   "metadata": {},
   "source": [
    "##### Converting a list of tuples to a dict:"
   ]
  },
  {
   "cell_type": "code",
   "execution_count": 171,
   "metadata": {},
   "outputs": [
    {
     "name": "stdout",
     "output_type": "stream",
     "text": [
      "{'Apple': 30, 'Orange': 20, 'Peach': 40}\n"
     ]
    }
   ],
   "source": [
    "lt = [('Apple', 30), ('Orange', 20), ('Peach', 40)]\n",
    "d = dict(lt)\n",
    "print(d)"
   ]
  },
  {
   "cell_type": "markdown",
   "metadata": {},
   "source": [
    "__Note:__ \"There must be exactly two values in the tuple(the internal container)\""
   ]
  },
  {
   "cell_type": "markdown",
   "metadata": {},
   "source": [
    "##### Converting list of lists to a dict:"
   ]
  },
  {
   "cell_type": "code",
   "execution_count": 172,
   "metadata": {},
   "outputs": [
    {
     "name": "stdout",
     "output_type": "stream",
     "text": [
      "{'Apple': 30, 'Orage': 20, 'Peach': 40}\n"
     ]
    }
   ],
   "source": [
    "ll = [['Apple', 30], ['Orage', 20], ('Peach', 40)]\n",
    "d = dict(ll)\n",
    "print(d)"
   ]
  },
  {
   "cell_type": "markdown",
   "metadata": {},
   "source": [
    "##### Note:\n",
    "Python understands developers intention. list of lists or list of tuple, when inner sequence has two elements, dict() converts it into a dictionary"
   ]
  },
  {
   "cell_type": "markdown",
   "metadata": {},
   "source": [
    "#### Updating/extending a dictionary"
   ]
  },
  {
   "cell_type": "code",
   "execution_count": 173,
   "metadata": {},
   "outputs": [
    {
     "name": "stdout",
     "output_type": "stream",
     "text": [
      "{'Hyd': 1999, 'Mum': 1235, 'Blr': 1236, 'Delhi': 1237}\n"
     ]
    }
   ],
   "source": [
    "d1 = {'Hyd': 1234, 'Mum': 1235}\n",
    "d2 = {'Blr': 1236, 'Delhi': 1237, 'Hyd':1999}\n",
    "d1.update(d2)\n",
    "print(d1)"
   ]
  },
  {
   "cell_type": "markdown",
   "metadata": {},
   "source": [
    "Value can be of any type"
   ]
  },
  {
   "cell_type": "markdown",
   "metadata": {},
   "source": [
    "##### type constraints in Keys and Values:\n",
    "Keys must be hashable types.<br>\n",
    "E.g:- int, str, float, bool, complex, tuple, frozenset, user defined objects etc,<br>\n",
    "For values, there is no restriction on type.\n",
    "\n",
    "__Note:__ set is not hashable.\n",
    "Below is an example dict for Student (or student group) ids and courses registered."
   ]
  },
  {
   "cell_type": "code",
   "execution_count": 174,
   "metadata": {},
   "outputs": [
    {
     "name": "stdout",
     "output_type": "stream",
     "text": [
      "('Python', 'SQL')\n"
     ]
    }
   ],
   "source": [
    "d = {\n",
    "    1234        : ['C++', 'Java'], \n",
    "    (1299, 1289): ('Python', 'SQL'), \n",
    "    '1288'        : {'C#', 'Python'},\n",
    "    (1266, 1277): 'Pyhon'\n",
    "    }\n",
    "\n",
    "print(d[(1299, 1289)])"
   ]
  },
  {
   "cell_type": "markdown",
   "metadata": {},
   "source": [
    "#### Use-Cases:\n",
    "\n",
    "__1. Indexing__\n",
    "\n",
    "It is mandatory to have a primary key in any SQL database table. The reason is , we can easily search for entire record by using primary key. The secret here is again the hash table. Which is called index for the table. In a typical scenario of banking customer-care, a customer generally calls the Customer-Care and enquires about a particular transaction. He gives the transaction id. In banking system millions of transactions can happen in a day or a week. But retrieving one record among them by performing linear search is time taking process. Banking system takes advantage of the hash-table(dictionary in python) and builds index based on the transaction id for quickest response from the system. As part of database tuning, to improve performance, sometimes, apart from primary key, these indexes also built on other columns(composite keys, secondary keys). Below is an example index implementation of customer transaction table in SQL databases."
   ]
  },
  {
   "cell_type": "code",
   "execution_count": 175,
   "metadata": {},
   "outputs": [],
   "source": [
    "txn_table = {\n",
    "     'TXN1234': ['TXN1234', 'CUSTID123564', 23000, 'WITHDRAWAL', '12/08/2015:11:32:21'],\n",
    "     'TXN1235': ('TXN1235', 'CUSTID123897', 34000, 'CASHDEPOSIT', '08/02/2016:14:51:02'),\n",
    "     'TXN1266': ('TXN1266', 'CUSTID122938', 16000, 'CHEQUECLR', '21/11/2015:09:13:53')\n",
    "    }"
   ]
  },
  {
   "cell_type": "markdown",
   "metadata": {},
   "source": [
    "Querying details for transaction 'TXN1266':"
   ]
  },
  {
   "cell_type": "code",
   "execution_count": 176,
   "metadata": {},
   "outputs": [
    {
     "name": "stdout",
     "output_type": "stream",
     "text": [
      "Txn details: ('TXN1266', 'CUSTID122938', 16000, 'CHEQUECLR', '21/11/2015:09:13:53')\n"
     ]
    }
   ],
   "source": [
    "print('Txn details:', txn_table['TXN1266'])"
   ]
  },
  {
   "cell_type": "code",
   "execution_count": 177,
   "metadata": {},
   "outputs": [],
   "source": [
    "person_data = {\n",
    "    ('John Corner', 1964, 'Newyork') : ('John Corner', 'St Mary St', 'Stuart Corner', 1964, '200000', 'Newyork'),\n",
    "    ('Ian Flemming', 1967, 'Perth')  : ('Ian Flemming','Richmond St', 'Grant Flemming', 1967, '540000', 'Perth'),\n",
    "    ('John Corner', 1964, 'Sydney')  : ('John Corner', 'Orchid str', 'Steffan Corner', 1964, '1200000', 'Sydney')\n",
    "}"
   ]
  },
  {
   "cell_type": "code",
   "execution_count": 178,
   "metadata": {},
   "outputs": [
    {
     "data": {
      "text/plain": [
       "True"
      ]
     },
     "execution_count": 178,
     "metadata": {},
     "output_type": "execute_result"
    }
   ],
   "source": [
    "('John Corner', 1964, 'Sydney') in person_data"
   ]
  },
  {
   "cell_type": "code",
   "execution_count": 179,
   "metadata": {},
   "outputs": [
    {
     "data": {
      "text/plain": [
       "('John Corner', 'Orchid str', 'Steffan Corner', 1964, '1200000', 'Sydney')"
      ]
     },
     "execution_count": 179,
     "metadata": {},
     "output_type": "execute_result"
    }
   ],
   "source": [
    "person_data[('John Corner', 1964, 'Sydney')]"
   ]
  },
  {
   "cell_type": "markdown",
   "metadata": {},
   "source": [
    "__2. Counting Problems__\n",
    "\n",
    "<b>PROGRAM:</b> Find the occurance of each word in the given list.\n",
    "```python\n",
    "words = [\"Apple\", \"Orange\", \"Apple\", \"Banana\", \"Peach\",  \n",
    "          \"Banana\", \"Apple\", \"Peach\", \"Apple\", \"Banana\"]\n",
    "```"
   ]
  },
  {
   "cell_type": "markdown",
   "metadata": {},
   "source": [
    "<B><I>Without dictionaries:</B></I>"
   ]
  },
  {
   "cell_type": "code",
   "execution_count": 180,
   "metadata": {},
   "outputs": [
    {
     "name": "stdout",
     "output_type": "stream",
     "text": [
      "Apple -> 4\n",
      "Orange -> 1\n",
      "Apple -> 4\n",
      "Banana -> 3\n",
      "Peach -> 2\n",
      "Banana -> 3\n",
      "Apple -> 4\n",
      "Peach -> 2\n",
      "Apple -> 4\n",
      "Banana -> 3\n"
     ]
    }
   ],
   "source": [
    "words = [\"Apple\", \"Orange\", \"Apple\", \"Banana\", \"Peach\",  \n",
    "          \"Banana\", \"Apple\", \"Peach\", \"Apple\", \"Banana\"]\n",
    "for word in words:\n",
    "    print(word, '->', words.count(word))"
   ]
  },
  {
   "cell_type": "markdown",
   "metadata": {},
   "source": [
    "<B><I>With dictionaries:</B></I>"
   ]
  },
  {
   "cell_type": "code",
   "execution_count": 181,
   "metadata": {},
   "outputs": [
    {
     "name": "stdout",
     "output_type": "stream",
     "text": [
      "{'Apple': 4, 'Orange': 1, 'Banana': 3, 'Peach': 2}\n"
     ]
    }
   ],
   "source": [
    "words = [\"Apple\", \"Orange\", \"Apple\", \"Banana\", \"Peach\",  \n",
    "          \"Banana\", \"Apple\", \"Peach\", \"Apple\", \"Banana\"]\n",
    "\n",
    "count = {}\n",
    "\n",
    "for word in words:\n",
    "    if word not in count:\n",
    "        count[word] = 1\n",
    "    else:\n",
    "        count[word] += 1\n",
    "        \n",
    "print(count)"
   ]
  },
  {
   "cell_type": "code",
   "execution_count": 182,
   "metadata": {},
   "outputs": [
    {
     "data": {
      "text/plain": [
       "dict_items([('Apple', 4), ('Orange', 1), ('Banana', 3), ('Peach', 2)])"
      ]
     },
     "execution_count": 182,
     "metadata": {},
     "output_type": "execute_result"
    }
   ],
   "source": [
    "count.items()"
   ]
  },
  {
   "cell_type": "markdown",
   "metadata": {},
   "source": [
    "__Finding the word with maximum frequency:__"
   ]
  },
  {
   "cell_type": "code",
   "execution_count": 183,
   "metadata": {},
   "outputs": [
    {
     "name": "stdout",
     "output_type": "stream",
     "text": [
      "Apple -> 4\n"
     ]
    }
   ],
   "source": [
    "fruit, cnt = max(count.items(), key=lambda x:x[1])\n",
    "print(fruit, '->', cnt)"
   ]
  },
  {
   "cell_type": "markdown",
   "metadata": {},
   "source": [
    "<B><I>Sorting a dictionary:</B></I>"
   ]
  },
  {
   "cell_type": "code",
   "execution_count": 184,
   "metadata": {},
   "outputs": [
    {
     "data": {
      "text/plain": [
       "[('Apple', 4), ('Banana', 3), ('Orange', 1), ('Peach', 2)]"
      ]
     },
     "execution_count": 184,
     "metadata": {},
     "output_type": "execute_result"
    }
   ],
   "source": [
    "sorted(count.items())"
   ]
  },
  {
   "cell_type": "code",
   "execution_count": 185,
   "metadata": {},
   "outputs": [
    {
     "data": {
      "text/plain": [
       "[('Orange', 1), ('Peach', 2), ('Banana', 3), ('Apple', 4)]"
      ]
     },
     "execution_count": 185,
     "metadata": {},
     "output_type": "execute_result"
    }
   ],
   "source": [
    "sorted(count.items(), key=lambda x:x[1])"
   ]
  },
  {
   "cell_type": "markdown",
   "metadata": {},
   "source": [
    "__Finding MAX and MIN__"
   ]
  },
  {
   "cell_type": "code",
   "execution_count": 186,
   "metadata": {},
   "outputs": [
    {
     "data": {
      "text/plain": [
       "('Apple', 4)"
      ]
     },
     "execution_count": 186,
     "metadata": {},
     "output_type": "execute_result"
    }
   ],
   "source": [
    "max(count.items(), key=lambda x:x[1])"
   ]
  },
  {
   "cell_type": "code",
   "execution_count": 187,
   "metadata": {},
   "outputs": [
    {
     "data": {
      "text/plain": [
       "('Orange', 1)"
      ]
     },
     "execution_count": 187,
     "metadata": {},
     "output_type": "execute_result"
    }
   ],
   "source": [
    "min(count.items(), key=lambda x:x[1])"
   ]
  },
  {
   "cell_type": "markdown",
   "metadata": {},
   "source": [
    "<b>3. Grouping Problems:</b> \n",
    "\n",
    "__Program 1:__        \n",
    "Below are the customer ids and deposites done by customers in a typical day of a bank.\n",
    "\n",
    "Find the Customer Id - and list of deposites done by each customer.\n",
    "```python\n",
    "trans = [(1237, 87522),\n",
    " (1234, 1000),\n",
    " (1236, 6754),\n",
    " (1234, 200),\n",
    " (1236, 1700),\n",
    " (1234, 400),\n",
    " (1234, 600),\n",
    " (1236, 788),\n",
    " (1234, 500),\n",
    " (1237, 126653)]\n",
    " ```"
   ]
  },
  {
   "cell_type": "code",
   "execution_count": 188,
   "metadata": {},
   "outputs": [
    {
     "data": {
      "text/plain": [
       "{1237: [87522, 126653],\n",
       " 1234: [1000, 200, 400, 600, 500],\n",
       " 1236: [6754, 1700, 788],\n",
       " 1999: [1000]}"
      ]
     },
     "execution_count": 188,
     "metadata": {},
     "output_type": "execute_result"
    }
   ],
   "source": [
    "trans = [(1237, 87522),\n",
    " (1234, 1000),\n",
    " (1236, 6754),\n",
    " (1234, 200),\n",
    " (1236, 1700),\n",
    " (1234, 400),\n",
    " (1234, 600),\n",
    " (1236, 788),\n",
    " (1234, 500),\n",
    " (1237, 126653),\n",
    " (1999, 1000)]\n",
    "\n",
    "deposites = {}\n",
    "\n",
    "for cust_id, amount in trans:\n",
    "    if cust_id not in deposites:\n",
    "        deposites[cust_id] = [amount]\n",
    "    else:\n",
    "        deposites[cust_id].append(amount)\n",
    "deposites"
   ]
  },
  {
   "cell_type": "code",
   "execution_count": 189,
   "metadata": {},
   "outputs": [
    {
     "data": {
      "text/plain": [
       "dict_items([(1237, [87522, 126653]), (1234, [1000, 200, 400, 600, 500]), (1236, [6754, 1700, 788]), (1999, [1000])])"
      ]
     },
     "execution_count": 189,
     "metadata": {},
     "output_type": "execute_result"
    }
   ],
   "source": [
    "deposites.items()"
   ]
  },
  {
   "cell_type": "code",
   "execution_count": 190,
   "metadata": {},
   "outputs": [
    {
     "data": {
      "text/plain": [
       "(1999, [1000])"
      ]
     },
     "execution_count": 190,
     "metadata": {},
     "output_type": "execute_result"
    }
   ],
   "source": [
    "max(deposites.items())"
   ]
  },
  {
   "cell_type": "code",
   "execution_count": 191,
   "metadata": {},
   "outputs": [
    {
     "data": {
      "text/plain": [
       "(1234, [1000, 200, 400, 600, 500])"
      ]
     },
     "execution_count": 191,
     "metadata": {},
     "output_type": "execute_result"
    }
   ],
   "source": [
    "max(deposites.items(), key=lambda x:len(x[1]))"
   ]
  },
  {
   "cell_type": "code",
   "execution_count": 192,
   "metadata": {},
   "outputs": [
    {
     "data": {
      "text/plain": [
       "(1237, [87522, 126653])"
      ]
     },
     "execution_count": 192,
     "metadata": {},
     "output_type": "execute_result"
    }
   ],
   "source": [
    "max(deposites.items(), key=lambda x:sum(x[1]))"
   ]
  },
  {
   "cell_type": "code",
   "execution_count": 193,
   "metadata": {},
   "outputs": [
    {
     "data": {
      "text/plain": [
       "(1237, [87522, 126653])"
      ]
     },
     "execution_count": 193,
     "metadata": {},
     "output_type": "execute_result"
    }
   ],
   "source": [
    "max(deposites.items(), key=lambda x:max(x[1]))"
   ]
  },
  {
   "cell_type": "code",
   "execution_count": 194,
   "metadata": {},
   "outputs": [
    {
     "data": {
      "text/plain": [
       "4"
      ]
     },
     "execution_count": 194,
     "metadata": {},
     "output_type": "execute_result"
    }
   ],
   "source": [
    "len(deposites)"
   ]
  },
  {
   "cell_type": "markdown",
   "metadata": {},
   "source": [
    "__Exercise Program:__ Prepare contact lists for given CDR"
   ]
  },
  {
   "cell_type": "code",
   "execution_count": 195,
   "metadata": {},
   "outputs": [],
   "source": [
    "cdr = [('9816724398', '9810485623'),\n",
    " ('9838217965', '9895170862'),\n",
    " ('9816724398', '9858932761'),\n",
    " ('9838217965', '9816724398'),\n",
    " ('9858932761', '9810485623'),\n",
    " ('9858932761', '9895170862'),\n",
    " ('9810485623', '9838217965'),\n",
    " ('9810485623', '9858932761'),\n",
    " ('9838217965', '9858932761'),\n",
    " ('9858932761', '9816724398'),\n",
    " ('9816724398', '9838217965'),\n",
    " ('9895170862', '9810485623'),\n",
    " ('9810485623', '9816724398')]\n"
   ]
  },
  {
   "cell_type": "code",
   "execution_count": 196,
   "metadata": {},
   "outputs": [
    {
     "data": {
      "text/plain": [
       "{'9816724398': ['9810485623', '9858932761', '9838217965'],\n",
       " '9838217965': ['9895170862', '9816724398', '9858932761'],\n",
       " '9858932761': ['9810485623', '9895170862', '9816724398'],\n",
       " '9810485623': ['9838217965', '9858932761', '9816724398'],\n",
       " '9895170862': ['9810485623']}"
      ]
     },
     "execution_count": 196,
     "metadata": {},
     "output_type": "execute_result"
    }
   ],
   "source": [
    "callee_list = {}\n",
    "\n",
    "for caller, callee in cdr:\n",
    "    \n",
    "    if caller not in callee_list:\n",
    "        callee_list[caller] = [callee]\n",
    "    else:\n",
    "        callee_list[caller].append(callee)\n",
    "        \n",
    "callee_list"
   ]
  },
  {
   "cell_type": "markdown",
   "metadata": {},
   "source": [
    "<b>4. Caching</b><br>\n",
    "\n",
    "This is the 4th use-case for dict, which will be discussed along with recurssion topic in functions chapter.\n",
    "\n",
    "<b>5. Keep the latest</b><br>\n",
    "\n",
    "Dictionaries can also be used to maintain the latest data at any instance\n",
    "\n",
    "__Program:__ Latest price value of all the stocks."
   ]
  },
  {
   "cell_type": "code",
   "execution_count": 197,
   "metadata": {},
   "outputs": [
    {
     "name": "stdout",
     "output_type": "stream",
     "text": [
      "{1245: 4.0, 1233: 1.5, 1237: 3, 1239: 1.0}\n"
     ]
    }
   ],
   "source": [
    "stock_price =  [\n",
    "         (1245, 2.5),\n",
    "         (1233, 4.5),\n",
    "         (1245, 3.7),\n",
    "         (1237, 2),\n",
    "         (1233, 1.5),\n",
    "         (1245, 3.7),\n",
    "         (1239, 1.2),\n",
    "         (1237, 3),\n",
    "         (1245, 4.0),\n",
    "         (1239, 1.0),\n",
    "        ]\n",
    "\n",
    "latest_data = {}\n",
    "\n",
    "for stock_id, price in stock_price:\n",
    "    latest_data[stock_id] = price\n",
    "\n",
    "print(latest_data)"
   ]
  },
  {
   "cell_type": "markdown",
   "metadata": {},
   "source": [
    "### Collections\n",
    "\n",
    "Word counting problem can be easily solved by simply using builtin data structure <b>Counter</b> from 'collections' module."
   ]
  },
  {
   "cell_type": "code",
   "execution_count": 198,
   "metadata": {},
   "outputs": [
    {
     "name": "stdout",
     "output_type": "stream",
     "text": [
      "Counter({'Apple': 4, 'Banana': 3, 'Peach': 2, 'Orange': 1})\n"
     ]
    }
   ],
   "source": [
    "from collections import Counter\n",
    "fruits = [\"Apple\", \"Orange\", \"Banana\", \"Peach\", \"Apple\",\n",
    "          \"Banana\", \"Apple\", \"Peach\", \"Apple\", \"Banana\"]\n",
    "\n",
    "ctr = Counter(fruits)\n",
    "print(ctr)"
   ]
  },
  {
   "cell_type": "code",
   "execution_count": 199,
   "metadata": {},
   "outputs": [
    {
     "name": "stdout",
     "output_type": "stream",
     "text": [
      "Most frequently occured words: [('Apple', 4), ('Banana', 3)]\n"
     ]
    }
   ],
   "source": [
    "n = 2\n",
    "print('Most frequently occured words:', ctr.most_common(n))"
   ]
  },
  {
   "cell_type": "markdown",
   "metadata": {},
   "source": [
    "### Deque\n",
    "Dequeue is a list like data struture which supports append operation, but only retains last 'maxlen' number of elements. This data structre belongs to _collections_ module.\n",
    "\n",
    "__Use-Case:__ When we want to keep track of last n elements, use deque"
   ]
  },
  {
   "cell_type": "code",
   "execution_count": 200,
   "metadata": {},
   "outputs": [
    {
     "name": "stdout",
     "output_type": "stream",
     "text": [
      "deque([40, 41, 42, 43, 44], maxlen=5)\n",
      "deque([42, 43, 44, 555, 888], maxlen=5)\n"
     ]
    }
   ],
   "source": [
    "from collections import deque\n",
    "# Creating a deque\n",
    "dq = deque(maxlen=5)\n",
    "\n",
    "for x in range(11, 45):\n",
    "    dq.append(x)\n",
    "\n",
    "print (dq)  \n",
    "dq.append(555)\n",
    "dq.append(888)\n",
    "print (dq)"
   ]
  },
  {
   "cell_type": "code",
   "execution_count": 201,
   "metadata": {},
   "outputs": [
    {
     "data": {
      "text/plain": [
       "deque([999, 42, 43, 44, 555])"
      ]
     },
     "execution_count": 201,
     "metadata": {},
     "output_type": "execute_result"
    }
   ],
   "source": [
    "dq.appendleft(999)\n",
    "dq"
   ]
  },
  {
   "cell_type": "code",
   "execution_count": 202,
   "metadata": {},
   "outputs": [
    {
     "data": {
      "text/plain": [
       "999"
      ]
     },
     "execution_count": 202,
     "metadata": {},
     "output_type": "execute_result"
    }
   ],
   "source": [
    "dq.popleft()"
   ]
  },
  {
   "cell_type": "markdown",
   "metadata": {},
   "source": [
    "### Defaultdict"
   ]
  },
  {
   "cell_type": "markdown",
   "metadata": {
    "collapsed": true
   },
   "source": [
    "\n",
    "```python\n",
    "syntax:\n",
    "    from collections import defaultdict\n",
    "    d = defaultdict(<default type>)\n",
    "```\n",
    "\n",
    "defaultdict() returns a dict. When a key is encountered for the first time, it is not already in the dict; so an entry is automatically created using the key and value(0 value of the type). if int is the type provided to defaultdcit, it assigns '0' as the value for the key first time.\n",
    "\n",
    "int - 0 <br>\n",
    "float - 0.0 <br>\n",
    "bool - False <br>\n",
    "list - [] <br>\n",
    "set - set() <br>"
   ]
  },
  {
   "cell_type": "code",
   "execution_count": 203,
   "metadata": {},
   "outputs": [
    {
     "name": "stdout",
     "output_type": "stream",
     "text": [
      "defaultdict(<class 'int'>, {})\n"
     ]
    }
   ],
   "source": [
    "from collections import defaultdict\n",
    "d = defaultdict(int)\n",
    "print(d)"
   ]
  },
  {
   "cell_type": "code",
   "execution_count": 204,
   "metadata": {},
   "outputs": [
    {
     "data": {
      "text/plain": [
       "False"
      ]
     },
     "execution_count": 204,
     "metadata": {},
     "output_type": "execute_result"
    }
   ],
   "source": [
    "'Apple' in d"
   ]
  },
  {
   "cell_type": "code",
   "execution_count": 205,
   "metadata": {},
   "outputs": [
    {
     "data": {
      "text/plain": [
       "defaultdict(int, {})"
      ]
     },
     "execution_count": 205,
     "metadata": {},
     "output_type": "execute_result"
    }
   ],
   "source": [
    "d"
   ]
  },
  {
   "cell_type": "code",
   "execution_count": 206,
   "metadata": {},
   "outputs": [
    {
     "data": {
      "text/plain": [
       "0"
      ]
     },
     "execution_count": 206,
     "metadata": {},
     "output_type": "execute_result"
    }
   ],
   "source": [
    "d['Apple']"
   ]
  },
  {
   "cell_type": "code",
   "execution_count": 207,
   "metadata": {},
   "outputs": [
    {
     "data": {
      "text/plain": [
       "defaultdict(int, {'Apple': 0})"
      ]
     },
     "execution_count": 207,
     "metadata": {},
     "output_type": "execute_result"
    }
   ],
   "source": [
    "d"
   ]
  },
  {
   "cell_type": "markdown",
   "metadata": {},
   "source": [
    "In the above statement, key 'Apple'is not there, so adds 'Apple' as key and '0' as value."
   ]
  },
  {
   "cell_type": "code",
   "execution_count": 208,
   "metadata": {},
   "outputs": [],
   "source": [
    "d['Orange'] += 1 # d['Orange'] = d['Orange'] + 1 ==> d['Orange'] = 0 + 1"
   ]
  },
  {
   "cell_type": "code",
   "execution_count": 209,
   "metadata": {},
   "outputs": [
    {
     "data": {
      "text/plain": [
       "defaultdict(int, {'Apple': 0, 'Orange': 1})"
      ]
     },
     "execution_count": 209,
     "metadata": {},
     "output_type": "execute_result"
    }
   ],
   "source": [
    "d"
   ]
  },
  {
   "cell_type": "markdown",
   "metadata": {},
   "source": [
    "In the above statment, default dict adds key 'Orange' and retruns 0 and the adds 1 and stores it back to dict 'd'"
   ]
  },
  {
   "cell_type": "code",
   "execution_count": 210,
   "metadata": {},
   "outputs": [],
   "source": [
    "d = defaultdict(list)\n",
    "\n",
    "d['Apple'].append(30)"
   ]
  },
  {
   "cell_type": "code",
   "execution_count": 211,
   "metadata": {},
   "outputs": [
    {
     "data": {
      "text/plain": [
       "defaultdict(list, {'Apple': [30]})"
      ]
     },
     "execution_count": 211,
     "metadata": {},
     "output_type": "execute_result"
    }
   ],
   "source": [
    "d"
   ]
  },
  {
   "cell_type": "code",
   "execution_count": 212,
   "metadata": {},
   "outputs": [
    {
     "data": {
      "text/plain": [
       "defaultdict(list, {'Apple': [30, 40]})"
      ]
     },
     "execution_count": 212,
     "metadata": {},
     "output_type": "execute_result"
    }
   ],
   "source": [
    "d['Apple'].append(40)\n",
    "d"
   ]
  },
  {
   "cell_type": "markdown",
   "metadata": {},
   "source": [
    "defaultdict adds an empty list and returns, to which we are appending a '0' in the above statement."
   ]
  },
  {
   "cell_type": "markdown",
   "metadata": {},
   "source": [
    "__Word Counting Program revisited:__\n",
    "\n",
    "Find the count of each word in the given list."
   ]
  },
  {
   "cell_type": "code",
   "execution_count": 213,
   "metadata": {},
   "outputs": [
    {
     "name": "stdout",
     "output_type": "stream",
     "text": [
      "defaultdict(<class 'int'>, {'Apple': 4, 'Orange': 2, 'Banana': 3, 'Peach': 1})\n"
     ]
    }
   ],
   "source": [
    "from collections import defaultdict\n",
    "d = defaultdict(int)\n",
    "\n",
    "fruits = [\"Apple\", \"Orange\", \"Banana\", \"Orange\", \"Apple\", \"Banana\", \"Apple\",\n",
    "         \"Peach\", \"Apple\", \"Banana\"]\n",
    "\n",
    "for fruit in fruits:\n",
    "    d[fruit] += 1\n",
    "    \n",
    "print (d)"
   ]
  },
  {
   "cell_type": "markdown",
   "metadata": {},
   "source": [
    "__Index Grouping Program revisited:__\n",
    "\n",
    "Find the indices of each word in the given list"
   ]
  },
  {
   "cell_type": "code",
   "execution_count": 214,
   "metadata": {},
   "outputs": [
    {
     "data": {
      "text/plain": [
       "defaultdict(list,\n",
       "            {'Apple': [0, 4, 6, 8],\n",
       "             'Orange': [1, 3],\n",
       "             'Banana': [2, 5, 9],\n",
       "             'Peach': [7]})"
      ]
     },
     "execution_count": 214,
     "metadata": {},
     "output_type": "execute_result"
    }
   ],
   "source": [
    "from collections import defaultdict\n",
    "\n",
    "fruits = [\"Apple\", \"Orange\", \"Banana\", \"Orange\", \"Apple\", \"Banana\", \"Apple\",\n",
    "         \"Peach\", \"Apple\", \"Banana\"]\n",
    "\n",
    "fruit_count = defaultdict(list)\n",
    "\n",
    "for idx, fruit in enumerate(fruits):\n",
    "    fruit_count[fruit].append(idx)\n",
    "        \n",
    "fruit_count"
   ]
  },
  {
   "cell_type": "markdown",
   "metadata": {
    "collapsed": true
   },
   "source": [
    "<b>Exercise Program:</b></br>\n",
    "We are expecting some packets from 5 different ip addresses.\n",
    "We are asked to collect them and remove duplicates and sort them in increasing order."
   ]
  },
  {
   "cell_type": "code",
   "execution_count": 215,
   "metadata": {},
   "outputs": [
    {
     "name": "stdout",
     "output_type": "stream",
     "text": [
      "defaultdict(<class 'set'>, {'196.131.56.71': {'Data1', 'Data2'}, '196.131.56.35': {'Data1'}, '196.131.56.78': {'Data1'}, '196.131.56.65': {'Data1', 'Data2'}, '196.131.56.44': {'Data1'}})-------------------------\n",
      "196.131.56.71 -> ['Data1', 'Data2']\n",
      "196.131.56.35 -> ['Data1']\n",
      "196.131.56.78 -> ['Data1']\n",
      "196.131.56.65 -> ['Data1', 'Data2']\n",
      "196.131.56.44 -> ['Data1']\n"
     ]
    }
   ],
   "source": [
    "from collections import defaultdict\n",
    "\n",
    "packets = [('196.131.56.71', 'Data1'),\n",
    "          ('196.131.56.35', 'Data1'),\n",
    "          ('196.131.56.78', 'Data1'),\n",
    "          ('196.131.56.65', 'Data1'),\n",
    "          ('196.131.56.71', 'Data2'),\n",
    "          ('196.131.56.35', 'Data1'),\n",
    "          ('196.131.56.65', 'Data1'),\n",
    "          ('196.131.56.78', 'Data1'),\n",
    "          ('196.131.56.44', 'Data1'),\n",
    "          ('196.131.56.35', 'Data1'),\n",
    "          ('196.131.56.65', 'Data2'),\n",
    "          ('196.131.56.71', 'Data1')]\n",
    "          \n",
    "dict_set = defaultdict(set)\n",
    "\n",
    "for ip, data in packets:\n",
    "    dict_set[ip].add(data)\n",
    "\n",
    "print(dict_set, end='') \n",
    "print(\"-------------------------\")\n",
    "for ip, pkts in dict_set.items():\n",
    "    print (ip, '->', sorted(pkts))"
   ]
  },
  {
   "cell_type": "markdown",
   "metadata": {},
   "source": [
    "### Heapq\n",
    "Python heapq is min-heap data structure implementation. Internals of this data structures is out of scope for this material. But we discuss operations and Use-cases of this data structure. It is physically stored as dynamic array, but logically a binary tree. Always maintains smallest element as root. root is stored at o'th index always. Each time we pop an element from heapq, it returns the smallest. Each time we push an element, heapq, rearranges elements and pushes the smallest to 0'th index (in just O(log n) time).\n",
    "\n",
    "We need to import heapq module to use this functionality.\n",
    "```python\n",
    "import heapq\n",
    "```\n",
    "\n",
    "__Frequenctly used heapq operations:__\n",
    "\n",
    "_heapq.heapify(x):_ This function transforms list x into a heap."
   ]
  },
  {
   "cell_type": "code",
   "execution_count": 216,
   "metadata": {},
   "outputs": [
    {
     "name": "stdout",
     "output_type": "stream",
     "text": [
      "[2, 4, 6, 9, 20, 15]\n"
     ]
    }
   ],
   "source": [
    "import heapq\n",
    "l = [4, 20, 6, 9, 2, 15]\n",
    "heapq.heapify(l)\n",
    "print(l)"
   ]
  },
  {
   "cell_type": "markdown",
   "metadata": {},
   "source": [
    "_heapq.heappush(heap, item):_ adding an element to heap."
   ]
  },
  {
   "cell_type": "code",
   "execution_count": 217,
   "metadata": {},
   "outputs": [
    {
     "name": "stdout",
     "output_type": "stream",
     "text": [
      "[2, 4, 3, 9, 20, 15, 6]\n",
      "[1, 2, 3, 4, 20, 15, 6, 9]\n"
     ]
    }
   ],
   "source": [
    "import heapq\n",
    "l = [4, 20, 6, 9, 2, 15]\n",
    "heapq.heapify(l)\n",
    "heapq.heappush(l, 3)\n",
    "print(l)\n",
    "heapq.heappush(l, 1)\n",
    "print(l)"
   ]
  },
  {
   "cell_type": "markdown",
   "metadata": {},
   "source": [
    "_heapq.heappop(heap, item):_ deleting smallest element from heap."
   ]
  },
  {
   "cell_type": "code",
   "execution_count": 218,
   "metadata": {},
   "outputs": [
    {
     "name": "stdout",
     "output_type": "stream",
     "text": [
      "[2, 4, 3, 9, 20, 15, 6]\n",
      "[1, 2, 3, 4, 20, 15, 6, 9]\n",
      "poped: 1\n",
      "poped: 2\n",
      "[3, 4, 6, 9, 20, 15]\n"
     ]
    }
   ],
   "source": [
    "import heapq\n",
    "l = [4, 20, 6, 9, 2, 15]\n",
    "heapq.heapify(l)\n",
    "heapq.heappush(l, 3)\n",
    "print (l)\n",
    "heapq.heappush(l, 1)\n",
    "print (l)\n",
    "print ('poped:', heapq.heappop(l))\n",
    "print ('poped:', heapq.heappop(l))\n",
    "print (l)"
   ]
  },
  {
   "cell_type": "markdown",
   "metadata": {},
   "source": [
    "_heapq.heapreplace(heap, item):_ pops smallest element from heap and pushes new element"
   ]
  },
  {
   "cell_type": "code",
   "execution_count": 219,
   "metadata": {},
   "outputs": [
    {
     "name": "stdout",
     "output_type": "stream",
     "text": [
      "[3, 4, 6, 9, 20, 15]\n",
      "[2, 4, 6, 9, 20, 15]\n"
     ]
    }
   ],
   "source": [
    "import heapq\n",
    "l = [4, 20, 6, 9, 3, 15]\n",
    "heapq.heapify(l)\n",
    "print(l)\n",
    "heapq.heapreplace(l, 2)\n",
    "print(l)"
   ]
  },
  {
   "cell_type": "markdown",
   "metadata": {},
   "source": [
    "_heapq.heappushpop(heap, item):_ pushes new item then pops smallest from the heap."
   ]
  },
  {
   "cell_type": "code",
   "execution_count": 220,
   "metadata": {},
   "outputs": [
    {
     "name": "stdout",
     "output_type": "stream",
     "text": [
      "[3, 4, 6, 9, 20, 15]\n",
      "2\n",
      "[3, 4, 6, 9, 20, 15]\n"
     ]
    }
   ],
   "source": [
    "import heapq\n",
    "l = [4, 20, 6, 9, 3, 15]\n",
    "heapq.heapify(l)\n",
    "print(l)\n",
    "print (heapq.heappushpop(l, 2))\n",
    "print (l)"
   ]
  },
  {
   "cell_type": "markdown",
   "metadata": {},
   "source": [
    "_heap.nsmallest(n, iterable[, key]):_ returns a list with n smallest elements from the list (dataset) defined, and key if provided."
   ]
  },
  {
   "cell_type": "code",
   "execution_count": 221,
   "metadata": {},
   "outputs": [
    {
     "name": "stdout",
     "output_type": "stream",
     "text": [
      "[3, 4, 6, 9]\n"
     ]
    }
   ],
   "source": [
    "import heapq\n",
    "l = [4, 20, 6, 9, 3, 15]\n",
    "heapq.heapify(l)\n",
    "print (heapq.nsmallest(4, l))"
   ]
  },
  {
   "cell_type": "markdown",
   "metadata": {},
   "source": [
    "_heap.nlargest(n, iterable[, key]):_ returns a list with n largest elements from the list (dataset) defined, and key if provided"
   ]
  },
  {
   "cell_type": "code",
   "execution_count": 222,
   "metadata": {},
   "outputs": [
    {
     "name": "stdout",
     "output_type": "stream",
     "text": [
      "[20, 15, 9, 6]\n"
     ]
    }
   ],
   "source": [
    "import heapq\n",
    "l = [4, 20, 6, 9, 3, 15]\n",
    "heapq.heapify(l)\n",
    "print (heapq.nlargest(4, l))"
   ]
  },
  {
   "cell_type": "markdown",
   "metadata": {},
   "source": [
    "__Use-Cases:__\n",
    "\n",
    "1. When we have streaming data, and always want to maintain n-largest or n-smallest, heapq is is used.\n",
    "2. This is also used as priority queue, which is very popular in operating system process scheduling.\n",
    "3. Widely used in Operating System, Compiler and Interpreters for memory management."
   ]
  },
  {
   "cell_type": "markdown",
   "metadata": {},
   "source": [
    "## Interview Questions"
   ]
  },
  {
   "cell_type": "markdown",
   "metadata": {},
   "source": [
    "1. tuple vs list?\n",
    "2. Reversing a list, tuple and string?\n",
    "3. list append vs extend ?\n",
    "4. Internal data structure of a a list ?\n",
    "5. Output (5,) * 3?\n",
    "6. What is tuple packing and unpacking?\n",
    "7. Similarities between str and tuple?\n",
    "8. Sorting algorithm used in list.sort() method?\n",
    "9. How do you check a string is pallindrome or not ?\n",
    "10. Two strings are anagrams or not ?\n",
    "11. How do you remove duplicates in a list?\n",
    "12. Find the word with most number of occurances in a large list of 1 billion words?\n",
    "13. What is the data structures which is used for caching?\n",
    "14. Explain how defaultdict works?\n",
    "15. When do you use heapq?\n",
    "16. Is set is hashable?\n",
    "17. When do you use a dict?\n",
    "18. What is the pupose of OrderedDict?\n",
    "19. Print all the pairs from the list which makes sum n\n",
    "20. Print all the anagrams from a text file.\n",
    "21. When do you use FrozenSet()?\n",
    "22. When do you use tuple, instead of a list?\n",
    "23. Check the given array is sorted in ascending order or not."
   ]
  },
  {
   "cell_type": "markdown",
   "metadata": {
    "collapsed": true
   },
   "source": [
    "## Exercises"
   ]
  },
  {
   "cell_type": "markdown",
   "metadata": {},
   "source": [
    "__Program 1:__ A list is supposed to contain first n natural numbers in it. But one number is missing in the list.\n",
    "so , we have n-1 elements in the list. How do you find missing element ?"
   ]
  },
  {
   "cell_type": "markdown",
   "metadata": {},
   "source": [
    "__Program 2:__ How do you check two lists are having same set of values and same number of values ?"
   ]
  },
  {
   "cell_type": "markdown",
   "metadata": {},
   "source": [
    "__Program 3:__ A list of email ids(strings) given, and assume there is a third-party function _send_email(email_id, msg)_ is available. 'send_email()' takes destination email address and email message. Example: send_email('john@abc.com', 'Welcome to my birthday!') sends message 'Welcome to my birthday!' to 'john@abc.com'. \n",
    "\n",
    "1. Send an invitation message, to all the email ids in the list.\n",
    "2. Do not send message to email ids having hotmail.com in it"
   ]
  },
  {
   "cell_type": "markdown",
   "metadata": {},
   "source": [
    "__Program 4:__"
   ]
  },
  {
   "cell_type": "markdown",
   "metadata": {},
   "source": [
    "* Below are the customer ids and deposites done by customers\n",
    "    in a typical day of a bank.\n",
    "\n",
    "> 1. Find how many customers, acutally deposited the money.<br>\n",
    "> 2. Who deposited maximum number of times.<br>\n",
    "> 3. Who deposited maximum sum of deposites.<br>\n",
    "> 4. Who deposited max amount in a single transaction.<br>\n",
    "> 5. Customer Id - and list of deposites done by each cutomer.<br>\n",
    "> 6. Total balance at the end of the day\n",
    "\n",
    "```python\n",
    "trans = [(1237, 87522),\n",
    " (1234, 1000),\n",
    " (1236, 6754),\n",
    " (1234, 200),\n",
    " (1236, 1700),\n",
    " (1234, 400),\n",
    " (1234, 600),\n",
    " (1236, 788),\n",
    " (1234, 500),\n",
    " (1237, 126653)]\n",
    " ```"
   ]
  },
  {
   "cell_type": "markdown",
   "metadata": {},
   "source": [
    "##### Solution"
   ]
  },
  {
   "cell_type": "code",
   "execution_count": 223,
   "metadata": {},
   "outputs": [
    {
     "name": "stdout",
     "output_type": "stream",
     "text": [
      "Number of customers 3\n",
      "Customer who did max number of txns is 1234 and the txns count is 5\n",
      "Customer who did max sum of the amount is 1237 and the amount is 214175\n",
      "Customer who did max desposit in a single transaction 1237 and the amount is 126653\n",
      "--- Customers and Deposites ---\n",
      "1237 -> [87522, 126653]\n",
      "1234 -> [1000, 200, 400, 600, 500]\n",
      "1236 -> [6754, 1700, 788]\n",
      "-------------------------------\n",
      "Total Balance:  226117\n"
     ]
    }
   ],
   "source": [
    "from collections import defaultdict\n",
    "trans = [(1237, 87522),\n",
    " (1234, 1000),\n",
    " (1236, 6754),\n",
    " (1234, 200),\n",
    " (1236, 1700),\n",
    " (1234, 400),\n",
    " (1234, 600),\n",
    " (1236, 788),\n",
    " (1234, 500),\n",
    " (1237, 126653)]\n",
    "\n",
    "ledger = defaultdict(list)\n",
    "total_balance = 0\n",
    "\n",
    "for cust_id, amount in trans:\n",
    "    ledger[cust_id].append(amount) \n",
    "    total_balance += amount\n",
    "    \n",
    "print ('Number of customers', len(ledger))\n",
    "\n",
    "custid, amounts = max(ledger.items(), key=lambda x:len(x[1]))\n",
    "print (\"Customer who did max number of txns is {}\\\n",
    " and the txns count is {}\".format(custid, len(amounts)))\n",
    "\n",
    "custid, amounts = max(ledger.items(), key=lambda x:sum(x[1]))\n",
    "print (\"Customer who did max sum of the amount is {}\\\n",
    " and the amount is {}\".format(custid, sum(amounts)))\n",
    "\n",
    "\n",
    "custid, amounts = max(ledger.items(), key=lambda x:max(x[1]))\n",
    "print (\"Customer who did max desposit in a single transaction {}\\\n",
    " and the amount is {}\".format(custid, max(amounts)))\n",
    "\n",
    "print ('--- Customers and Deposites ---')\n",
    "for cust_id, bals in ledger.items():\n",
    "    print (cust_id, '->', bals)\n",
    "print ('-------------------------------')\n",
    "\n",
    "print ('Total Balance: ', total_balance)"
   ]
  },
  {
   "cell_type": "markdown",
   "metadata": {
    "collapsed": true
   },
   "source": [
    "__Program 5:__"
   ]
  },
  {
   "cell_type": "markdown",
   "metadata": {},
   "source": [
    "* List of votes, contestants and age are given.\n",
    "> 1. Find the contestant who wins the elections.<br>\n",
    "> 2. If there is a tie, older contenstant wins.\n",
    "\n",
    "```python\n",
    "votes = ['Kenny',   'Amanda', 'John',     'Vicky', 'Alex',\n",
    "         'Amanda',  'John',   'Alex',     'Kenny', 'Vicky',\n",
    "         'Charles', 'Alex',   'Kenny',    'Eric',  'Charles', \n",
    "         'Eric',    'Laura',  'Michelle', 'Eric',  'Vicky']\n",
    "\n",
    "age = {'Kenny': 61, \n",
    "       'Amanda': 54, \n",
    "       'Alex': 79, \n",
    "       'John': 80, \n",
    "       'Vicky': 34, \n",
    "       'Eric': 50,\n",
    "       'Laura': 55,\n",
    "       'Michelle': 42,\n",
    "       'Charles': 70}\n",
    "```"
   ]
  },
  {
   "cell_type": "code",
   "execution_count": 224,
   "metadata": {},
   "outputs": [
    {
     "name": "stdout",
     "output_type": "stream",
     "text": [
      "Counter({'Kenny': 3, 'Vicky': 3, 'Alex': 3, 'Eric': 3, 'Amanda': 2, 'John': 2, 'Charles': 2, 'Laura': 1, 'Michelle': 1})\n",
      "\n",
      "defaultdict(<class 'list'>, {3: ['Kenny', 'Vicky', 'Alex', 'Eric'], 2: ['Amanda', 'John', 'Charles'], 1: ['Laura', 'Michelle']})\n",
      "\n",
      "['Kenny', 'Vicky', 'Alex', 'Eric']\n",
      "\n",
      "Winner is: Alex  With Count: 3\n"
     ]
    }
   ],
   "source": [
    "from collections import Counter, defaultdict\n",
    "\n",
    "votes = ['Kenny',   'Amanda', 'John',     'Vicky', 'Alex',\n",
    "         'Amanda',  'John',   'Alex',     'Kenny', 'Vicky',\n",
    "         'Charles', 'Alex',   'Kenny',    'Eric',  'Charles', \n",
    "         'Eric',    'Laura',  'Michelle', 'Eric',  'Vicky']\n",
    "\n",
    "age = {'Kenny': 61, \n",
    "       'Amanda': 54, \n",
    "       'Alex': 79, \n",
    "       'John': 80, \n",
    "       'Vicky': 34, \n",
    "       'Eric': 50,\n",
    "       'Laura': 55,\n",
    "       'Michelle': 42,\n",
    "       'Charles': 70}\n",
    "\n",
    "# Finding vote count for each contestant\n",
    "name_count = Counter(votes)\n",
    "print(name_count)\n",
    "print()\n",
    "count_names = defaultdict(list)\n",
    "\n",
    "# Grouping constestants with same count\n",
    "for name, count in name_count.items():\n",
    "    count_names[count].append(name)\n",
    "    \n",
    "print(count_names)\n",
    "print()\n",
    "# Finding winner(s)\n",
    "count, candidates = max(count_names.items())\n",
    "print(candidates)\n",
    "print()\n",
    "# Finding max by their age\n",
    "winner = max(candidates, key=lambda x:age[x])\n",
    "\n",
    "print ('Winner is:', winner, ' With Count:', count)"
   ]
  },
  {
   "cell_type": "markdown",
   "metadata": {},
   "source": [
    "__Program 3:__ Check the given two strings are anagrams or not"
   ]
  },
  {
   "cell_type": "code",
   "execution_count": 225,
   "metadata": {},
   "outputs": [
    {
     "name": "stdout",
     "output_type": "stream",
     "text": [
      "Anagrams\n"
     ]
    }
   ],
   "source": [
    "s1 = 'aacbb'\n",
    "s2 = 'aabcb'\n",
    "\n",
    "if sorted(s1) == sorted(s2):\n",
    "    print('Anagrams')\n",
    "else:\n",
    "    print('Not Anagrams')"
   ]
  },
  {
   "cell_type": "code",
   "execution_count": 226,
   "metadata": {},
   "outputs": [
    {
     "name": "stdout",
     "output_type": "stream",
     "text": [
      "Anagrams\n"
     ]
    }
   ],
   "source": [
    "from collections import Counter\n",
    "\n",
    "s1 = 'aacbb'\n",
    "s2 = 'aabcb'\n",
    "\n",
    "if Counter(s1) == Counter(s2):\n",
    "    print ('Anagrams')\n",
    "else:\n",
    "    print ('Not Anagrams')"
   ]
  },
  {
   "cell_type": "markdown",
   "metadata": {},
   "source": [
    "__Program 4:__ Find all sets of anagrams when a a list of words given."
   ]
  },
  {
   "cell_type": "code",
   "execution_count": 227,
   "metadata": {},
   "outputs": [
    {
     "name": "stdout",
     "output_type": "stream",
     "text": [
      "['cat', 'tac', 'act']\n",
      "['tab', 'bat']\n",
      "['apt', 'tap']\n"
     ]
    }
   ],
   "source": [
    "from collections import defaultdict\n",
    "\n",
    "words = ['hell', 'cat', 'bell', \n",
    "     'tab','tac', 'apt', 'dell',\n",
    "     'act', 'tap', 'bat']\n",
    "\n",
    "d = defaultdict(list)\n",
    "\n",
    "for word in words:\n",
    "    sig = ''.join(sorted(word))\n",
    "    d[sig].append(word)\n",
    "\n",
    "for sig, anagrams in d.items():\n",
    "    if len(anagrams) > 1:\n",
    "        print (anagrams)"
   ]
  },
  {
   "cell_type": "markdown",
   "metadata": {
    "collapsed": true
   },
   "source": [
    "## Notes"
   ]
  },
  {
   "cell_type": "markdown",
   "metadata": {},
   "source": [
    "1. list is dynamically resizable array, also called as vector in other programming languages.\n",
    "2. tupele is immutable and hashable\n",
    "3. Set doesn't allow duplicates\n",
    "4. deque retains only last n elements\n",
    "5. Using we can heapq efficiently retrieve nsmallest elements in streaming data\n",
    "6. OrderedDict maintains insertion order\n",
    "7. defaultdict has a default zero value for every key\n"
   ]
  }
 ],
 "metadata": {
  "anaconda-cloud": {},
  "kernelspec": {
   "display_name": "Python 3",
   "language": "python",
   "name": "python3"
  },
  "language_info": {
   "codemirror_mode": {
    "name": "ipython",
    "version": 3
   },
   "file_extension": ".py",
   "mimetype": "text/x-python",
   "name": "python",
   "nbconvert_exporter": "python",
   "pygments_lexer": "ipython3",
   "version": "3.6.6"
  }
 },
 "nbformat": 4,
 "nbformat_minor": 1
}
