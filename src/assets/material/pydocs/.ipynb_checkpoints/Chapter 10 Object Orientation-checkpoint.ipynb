{
 "cells": [
  {
   "cell_type": "markdown",
   "metadata": {},
   "source": [
    "### Python Programming\n",
    "#### by Narendra Allam\n",
    "copyright 2019\n",
    "# Chapter 10\n",
    "## Object Orientation\n",
    "\n",
    "#### Topics Covering\n",
    "\n",
    "* Class\n",
    "* Abstraction\n",
    "* Encapsulation\n",
    "     * Data hiding\n",
    "     * Data binding\n",
    "* Accessing data members and member functions explicitely\n",
    "* Passing paramets to __init__()\n",
    "* Implementing __repr__(),__eval__()\n",
    "* Adding a property at run-time\n",
    "* Inheritence\n",
    "     * delegating functionality to parent constructor,init\n",
    "     * Diamond problem\n",
    "     * MRO\n",
    "* Using abc module\n",
    "* Private Memebrs\n",
    "* Creating inline objects, classes, types\n",
    "* Static variables, Static Methods and Class Methods\n",
    "* Funcion Objects (Functor), Callable objects\n",
    "* Decorator and Context manager\n",
    "* polymorphism\n",
    "* Function Overloading\n",
    "* Operator Overloading\n",
    "* Sorting Objects"
   ]
  },
  {
   "cell_type": "markdown",
   "metadata": {},
   "source": [
    "### A long time ago when there was no object orientation\n",
    "\n",
    "   With the python concepts, we learned so far (including files and modules), no doubt! we can handle a complete python project. Let's imagine our software development career,...\n",
    "   \n",
    "   Mr.Alex, who owns a bank ABC, is our client now. And good news is that, we were choosen to develop a software solution for his bank. Initially he has given two requirements. Each requirement is a banking functionality. We are going to implement them now.\n",
    "\n",
    "1. Personal Banking\n",
    "2. Personal Loans\n",
    "\n",
    "We spent few weeks and completed the application, and ended up with 100 functions and 40 global variables(may contains lists, dictionaries).\n",
    "\n",
    "We wrote all the code in a single file named 'banking_system.py' using functions. This is procedural style of programming.\n",
    "\n",
    "There are few limitations to procedural style. \n",
    "\n",
    "##### 1. Spaghetti code:\n",
    "\n",
    "Spaghetti code is source code that has a complex and tangled control structure, especially one using many module imports with scattered functionalites across multiple files. It is named such because program flow is conceptually like a bowl of spaghetti, i.e. twisted and tangled. Spaghetti code can be caused by several factors, such as continuous modifications by several people with different programming styles over a long project life cycle.\n",
    "\n",
    "As developers have freedom to write code any where in the code base, one functinality possibily get scattered among multiple files, which is very difficult to understand for a new programmer and makes scalability almost impossible to achieve. \n",
    "\n",
    "\n",
    "##### 2. Security - Accidental changes.\n",
    "\n",
    "It is very hard to maintain code in a single file for entire project which is surely not recommended. Multiple developers would be implementing multiple functionalities. There will be conflicts, if two developers are simultaniously modifying same code. Developers should sit together and spend hours to resolve the conflicts. Seperation of functionalities into multiple modules/files might help to prevent changes, which reduces the possibility of working two developers on same file/module. \n",
    "\n",
    "Cool, let's try that,<br>\n",
    "1. banking_system.py which contains all personal banking related functions and variables (80 funs and 30 vars)\n",
    "2. personal_loans.py which contains all personal loans related functions and variables(20 funs and 10 vars)\n",
    "\n",
    "Still data is open to all developers, we cannot prevent accessing 'Personal Loans' data from 'Personal Banking', because developer can easily import data and change which leads to unpredictable control flow and hard to debug. \n",
    "\n",
    "We need stricter boundaries to prevent unwanted changes.<br>\n",
    "We need stricter boundaries to group up all the code related to a functionality at one place.<br>\n",
    "We need stricter boundaries for scalability.<br>\n",
    "\n",
    "##### 3. Scalability -  Replication for Reusability\n",
    "\n",
    "After few months Mr.Alex decided and came with an aggressive marketing strategy and we came to know that he was going to start 100 branches of ABX bank, exclusively for personal loans.\n",
    "\n",
    "We were expected to make changes to scale 'Personal Loans' functionality. Now we are going to maintain 100 more units of personal loans functionality. Each unit should maintain its own data set but functions(actions) are same.<br>\n",
    "How do we achieve this ?<br>\n",
    "\n",
    "Do we have to create 100 'personal_loans.py' files? <br>\n",
    "or just one file with 100 sets of personal loan variables?<br>\n",
    "\n",
    "In future, he wants to add few more functionalites like car loans, home loans to the exisiting software system can we make reuse of exisiting code ? a lot of questions in mind!\n",
    "\n",
    "We started with, <br>\n",
    "\n",
    "100 funcs and 40 vars (funcs - functions, vars - varaibles)<br>\n",
    "\n",
    "We seperated them as,<br>\n",
    "\n",
    "80 funcs + 30 vars - Personal banking<br>\n",
    "20 funcs + 10 vars - Personal loans<br>\n",
    "\n",
    "Now, we want 100 units of personal loans<br>\n",
    "\n",
    "20 funcs + 100 * (10 vars for each branch)<br>\n",
    "\n",
    "<b>Note:</b> Functions are common, only required is, a set of 10 vars for each branch. \n",
    "\n",
    "We should find an easy way to scale this. Yes there is a way - 'type'\n",
    "\n",
    "'typing'  - Creating a type in programming languages is a powerful technique.\n",
    "\n",
    "'dict' is a type in python. It is a complex data structure in fact. But creating hundreds of dicts is trouble-free. \n",
    "\n",
    "d = dict(), here d is a unit of dict functionality. We know that we can create thousands of dicts using this simple dict() function. <br>\n",
    "\n",
    "What is making this possible? <br>\n",
    "\n",
    "Some python developer classified all dicionary functionalities into a type and named it as 'dict'.\n",
    "\n",
    "That means, if we create 'Personal Loans' as a type, creating thousands of units is effort less.\n",
    "\n",
    "Object orientation solves all the above  .\n",
    "\n",
    "1. <b>Spaghetti code - </b>Object oriented programming is structured programming, very less scope for tangled code\n",
    "2. <b>Preventing accidental changes -</b> Encapsulation decides what to hide and what to expose \n",
    "3. <b>Scalability - </b>Class is a type, we can create multiple units of same functionality by instantiation\n",
    "\n",
    "\n",
    "#### Thinking in object orientation:-\n",
    "\n",
    "1. We found a relation between functions and variables for Personal Loan functionality and we modularized them, which is called - __data binding__\n",
    "2. Lets bind these 20 functions and 10 variables and isolate(hide) inside a container - __data hiding__\n",
    "3. The container is - __class__\n",
    "4. We should not restrict everything inside the container, as functions are social, they should interact with external functions. Lets expose few functions to interact with external functionalities - __abstraction__\n",
    "5. Whe should have a protocol to control data hiding and abstraction. We should carefully think about, what needs to be hidden? what needs to be exposed to the external components? and draw a boundary in between - __encapulation__\n",
    "6. How do we reuse existing code? - __inheritance__\n",
    "7. How do we incorporate new changes into a complex project? - __overriding__, __overloading__ which is __polymorphism__\n",
    "\n",
    "### Object orientation is all about - in-advance planning of a project design by anticipating future changes\n",
    "\n",
    "#### class\n",
    "* class is a model of any real-world entity, process or an idea.\n",
    "* class is an extensible program-code-template for reusablity.\n",
    "* class contains data (member variables) and actions(member functions or methods)\n",
    "* class is a blue-print of structure and behaviour, more importantly a class is a 'type', so that, we can create multiple copies (instances) of the same structure and behaviour.\n",
    "* class instances are called objects.\n",
    "* object is the physical existance of a class\n",
    "\n",
    "<b>Syntax:</b>\n",
    "\n",
    "```python\n",
    "class ClassName(object):\n",
    "    \"\"\"\n",
    "    All attributes are mostly written in side __init__ method\n",
    "    \"\"\"\n",
    "    \n",
    "    def __init__(self, args, ...):\n",
    "        self.attribute1 = some_val\n",
    "        self.attribute2 = some_val\n",
    "        self.attribute3 = some_val\n",
    "        \n",
    "    def method1(self, args, ...):\n",
    "        # code\n",
    "    def method2(self, args, ...):\n",
    "        # code\n",
    "\n",
    "```\n"
   ]
  },
  {
   "cell_type": "code",
   "execution_count": null,
   "metadata": {},
   "outputs": [],
   "source": []
  },
  {
   "cell_type": "markdown",
   "metadata": {
    "collapsed": true
   },
   "source": [
    "Upgrading Personal Loans sytem with Object Orientation ...\n",
    "\n",
    "```python\n",
    "# personal_loans.py\n",
    "# -------------------\n",
    "\n",
    "class PersonalLoans(object):\n",
    "        # HIDDEN DATA\n",
    "        def __init__(self):\n",
    "            self.__cusomerDetails = []\n",
    "            self.__loanTypes = []\n",
    "        ...\n",
    "\n",
    "        # HIDDEN FUNCTIONS\n",
    "        def __utility1(self):\n",
    "            ...\n",
    "        def __utility1(self):\n",
    "            ...\n",
    "\n",
    "        # PUBLIC FUNCTIONS/INTERFACES\n",
    "        def get_customer_details():\n",
    "            ...\n",
    "        def get_loan_details():\n",
    "            ...\n",
    "             \n",
    "```\n",
    "\n",
    "#### Abstraction:\n",
    "Hiding Complex details and providing simple interface is called Abstraction.<br>\n",
    "Abstractions allow us to think of complex things in a simpler way.<br>\n",
    "For e.g., a Car is an abstraction of details such as a Chassis, Motor, Wheels, etc.<br>\n",
    "\n",
    "#### Encapsulation:\n",
    "Encapsulation is how we decide the level of detail of the elements comprising our abstractions. <br>\n",
    "Good encapsulation applies information hiding, to enforce limits of details.<br>\n",
    "\n",
    "##### Data hiding:\n",
    "Limiting access to details of an implementation(Data or functions).\n",
    "\n",
    "##### Data binding:\n",
    "Establishing a connection between data and the functions which depend and makes use of that data is called Data binding.<br>\n",
    "<b>Note:</b> In functional style of programming there is no relation between data and functions, because funtions don't depend on data.<br>\n",
    "\n",
    "#### Inheritance:\n",
    "It is a technique of reusing code, by extending or modifying the existing code.<br>\n",
    "\n",
    "#### Polymorphism:\n",
    "Single interface multiple functionalities.<br>\n",
    "(or)\n",
    "Polymorphism is the ability of doing different things by using the same name.<br>\n",
    "(or)\n",
    "Polymorphism is conditional and contextual execution of a functionality."
   ]
  },
  {
   "cell_type": "markdown",
   "metadata": {},
   "source": [
    "__Modeling an employee__"
   ]
  },
  {
   "cell_type": "code",
   "execution_count": 113,
   "metadata": {},
   "outputs": [],
   "source": [
    "class Employee(object):\n",
    "    def __init__(self):\n",
    "        self.num = 0\n",
    "        self.name = ''\n",
    "        self.salary = 0.0\n",
    "        \n",
    "    def get_salary(self):\n",
    "        return self.salary\n",
    "    \n",
    "    def get_name(self):\n",
    "        return self.name\n",
    "    \n",
    "    def print_employee(self):\n",
    "        print ('num=', self.num, ' name=', self.name, ' sal=', self.salary)"
   ]
  },
  {
   "cell_type": "markdown",
   "metadata": {},
   "source": [
    "Creating an object for class __Employee__\n",
    "\n",
    "Note: Object creation is also called __instantiation__"
   ]
  },
  {
   "cell_type": "code",
   "execution_count": 114,
   "metadata": {},
   "outputs": [],
   "source": [
    "e1 = Employee() # Employee.__new__().__init__()"
   ]
  },
  {
   "cell_type": "code",
   "execution_count": 116,
   "metadata": {},
   "outputs": [],
   "source": [
    "e2 = Employee()"
   ]
  },
  {
   "cell_type": "markdown",
   "metadata": {},
   "source": [
    "here e1 and e2 are objects or instances"
   ]
  },
  {
   "cell_type": "markdown",
   "metadata": {},
   "source": [
    "##### _init__()\n",
    "\\__init\\__() is a builtin function for a class, which is called for each object at the time of object creation.\n",
    "\\__init\\__() is used for iniitializing an object with data members"
   ]
  },
  {
   "cell_type": "markdown",
   "metadata": {},
   "source": [
    "__Use '.' operator top access properties of a class__"
   ]
  },
  {
   "cell_type": "code",
   "execution_count": 118,
   "metadata": {},
   "outputs": [
    {
     "data": {
      "text/plain": [
       "0.0"
      ]
     },
     "execution_count": 118,
     "metadata": {},
     "output_type": "execute_result"
    }
   ],
   "source": [
    "e1.salary"
   ]
  },
  {
   "cell_type": "code",
   "execution_count": 119,
   "metadata": {},
   "outputs": [
    {
     "data": {
      "text/plain": [
       "0.0"
      ]
     },
     "execution_count": 119,
     "metadata": {},
     "output_type": "execute_result"
    }
   ],
   "source": [
    "e1.get_salary()"
   ]
  },
  {
   "cell_type": "code",
   "execution_count": 120,
   "metadata": {},
   "outputs": [
    {
     "name": "stdout",
     "output_type": "stream",
     "text": [
      "0  0.0\n"
     ]
    }
   ],
   "source": [
    "print (e1.num, e1.name, e1.salary)"
   ]
  },
  {
   "cell_type": "markdown",
   "metadata": {},
   "source": [
    "__Accessing data members and member functions explicitely__"
   ]
  },
  {
   "cell_type": "code",
   "execution_count": 121,
   "metadata": {},
   "outputs": [
    {
     "name": "stdout",
     "output_type": "stream",
     "text": [
      "1234 John 23000\n"
     ]
    }
   ],
   "source": [
    "e1.num = 1234\n",
    "e1.name = 'John'\n",
    "e1.salary = 23000\n",
    "\n",
    "print (e1.num, e1.name, e1.salary)"
   ]
  },
  {
   "cell_type": "code",
   "execution_count": 122,
   "metadata": {},
   "outputs": [
    {
     "name": "stdout",
     "output_type": "stream",
     "text": [
      "num= 1234  name= John  sal= 23000\n"
     ]
    }
   ],
   "source": [
    "e1.print_employee()"
   ]
  },
  {
   "cell_type": "code",
   "execution_count": 123,
   "metadata": {},
   "outputs": [
    {
     "name": "stdout",
     "output_type": "stream",
     "text": [
      "num= 0  name=   sal= 0.0\n"
     ]
    }
   ],
   "source": [
    "e2.print_employee()"
   ]
  },
  {
   "cell_type": "markdown",
   "metadata": {},
   "source": [
    "#### Passing parameters to \\__init\\__()"
   ]
  },
  {
   "cell_type": "code",
   "execution_count": 124,
   "metadata": {},
   "outputs": [
    {
     "name": "stdout",
     "output_type": "stream",
     "text": [
      "EmpId: 1234, EmpName: John, EmpSalary: 23600.0\n",
      "EmpId: 1235, EmpName: Samanta, EmpSalary: 45000.0\n"
     ]
    }
   ],
   "source": [
    "class Employee(object):\n",
    "    def __init__(self, _num=0, _name='', _salary=0.0):\n",
    "        self.num = _num\n",
    "        self.name = _name\n",
    "        self.salary = _salary\n",
    "        \n",
    "    def print_data(self):\n",
    "        print ('EmpId: {}, EmpName: {}, EmpSalary: {}'.format(self.num,\n",
    "                                                             self.name,\n",
    "                                                             self.salary))\n",
    "    def calculate_tax(self):\n",
    "        print ('Processing tax for :....')\n",
    "        self.print_data()\n",
    "        slab = (self.salary * 12) - 300000\n",
    "        tax = 0\n",
    "        if slab > 0:\n",
    "            tax = slab * 0.1\n",
    "        print (\"tax:\", tax)\n",
    "        \n",
    "        \n",
    "e1 = Employee(1234, 'John', 23600.0) # e1.__init__(1234, 'John', 23500)\n",
    "e2 = Employee(1235, 'Samanta', 45000.0) # e2.__init__(1235, 'Samanta', 45000.0)\n",
    "\n",
    "e1.print_data()\n",
    "e2.print_data()"
   ]
  },
  {
   "cell_type": "code",
   "execution_count": 125,
   "metadata": {},
   "outputs": [
    {
     "name": "stdout",
     "output_type": "stream",
     "text": [
      "Processing tax for :....\n",
      "EmpId: 1234, EmpName: John, EmpSalary: 23600.0\n",
      "tax: 0\n"
     ]
    }
   ],
   "source": [
    "e1.calculate_tax()"
   ]
  },
  {
   "cell_type": "code",
   "execution_count": 126,
   "metadata": {},
   "outputs": [
    {
     "name": "stdout",
     "output_type": "stream",
     "text": [
      "Processing tax for :....\n",
      "EmpId: 1235, EmpName: Samanta, EmpSalary: 45000.0\n",
      "tax: 24000.0\n"
     ]
    }
   ],
   "source": [
    "e2.calculate_tax()"
   ]
  },
  {
   "cell_type": "markdown",
   "metadata": {},
   "source": [
    "__Without __init__():__"
   ]
  },
  {
   "cell_type": "code",
   "execution_count": 127,
   "metadata": {},
   "outputs": [
    {
     "name": "stdout",
     "output_type": "stream",
     "text": [
      "EmpId: 1234, EmpName: John, EmpSalary: 23600.0\n",
      "EmpId: 1235, EmpName: Samanta, EmpSalary: 45000.0\n"
     ]
    }
   ],
   "source": [
    "class Employee(object):\n",
    "    def set_data(self, _num=0, _name='', _salary=0.0):\n",
    "        self.num = _num\n",
    "        self.name = _name\n",
    "        self.salary = _salary\n",
    "        \n",
    "    def print_data(self):\n",
    "        print ('EmpId: {}, EmpName: {}, EmpSalary: {}'.format(self.num,\n",
    "                                                             self.name,\n",
    "                                                             self.salary))\n",
    "    def calculate_tax(self):\n",
    "        print ('Processing tax for :....')\n",
    "        self.print_data()\n",
    "        slab = (self.salary * 12) - 300000\n",
    "        tax = 0\n",
    "        if slab > 0:\n",
    "            tax = slab * 0.1\n",
    "        print (\"tax:\", tax)\n",
    "        \n",
    "        \n",
    "e1 = Employee() \n",
    "e1.set_data(1234, 'John', 23600.0)\n",
    "e2 = Employee()\n",
    "e2.set_data(1235, 'Samanta', 45000.0)\n",
    "\n",
    "e1.print_data()\n",
    "e2.print_data()"
   ]
  },
  {
   "cell_type": "markdown",
   "metadata": {},
   "source": [
    "#### Adding a property at run-time"
   ]
  },
  {
   "cell_type": "code",
   "execution_count": 128,
   "metadata": {},
   "outputs": [],
   "source": [
    "class Example(object):\n",
    "    def __init__(self):\n",
    "        self.x = 20\n",
    "        self.y = 30\n",
    "  \n",
    "    def fun(self):\n",
    "        self.p = 999\n",
    "        \n",
    "e1 = Example()\n",
    "e2 = Example()"
   ]
  },
  {
   "cell_type": "code",
   "execution_count": 129,
   "metadata": {},
   "outputs": [
    {
     "data": {
      "text/plain": [
       "20"
      ]
     },
     "execution_count": 129,
     "metadata": {},
     "output_type": "execute_result"
    }
   ],
   "source": [
    "e1.x"
   ]
  },
  {
   "cell_type": "code",
   "execution_count": 130,
   "metadata": {},
   "outputs": [],
   "source": [
    "e1.X = 50"
   ]
  },
  {
   "cell_type": "code",
   "execution_count": 131,
   "metadata": {},
   "outputs": [
    {
     "data": {
      "text/plain": [
       "50"
      ]
     },
     "execution_count": 131,
     "metadata": {},
     "output_type": "execute_result"
    }
   ],
   "source": [
    "e1.X"
   ]
  },
  {
   "cell_type": "markdown",
   "metadata": {},
   "source": [
    "Though attribute 'p' is not existing python adds property p to object e1, not to class Example"
   ]
  },
  {
   "cell_type": "code",
   "execution_count": 132,
   "metadata": {},
   "outputs": [],
   "source": [
    "e1.p = 100"
   ]
  },
  {
   "cell_type": "code",
   "execution_count": 133,
   "metadata": {},
   "outputs": [
    {
     "data": {
      "text/plain": [
       "100"
      ]
     },
     "execution_count": 133,
     "metadata": {},
     "output_type": "execute_result"
    }
   ],
   "source": [
    "e1.p"
   ]
  },
  {
   "cell_type": "markdown",
   "metadata": {},
   "source": [
    "fun() also adds 'p' through 'self.p' statement, if 'p' is not existing else it updates with new value, after all self.p equivalent of e2.p inside 'fun'"
   ]
  },
  {
   "cell_type": "code",
   "execution_count": 134,
   "metadata": {},
   "outputs": [],
   "source": [
    "e2.fun() # fun adds a poperty to e2"
   ]
  },
  {
   "cell_type": "code",
   "execution_count": 135,
   "metadata": {},
   "outputs": [
    {
     "data": {
      "text/plain": [
       "999"
      ]
     },
     "execution_count": 135,
     "metadata": {},
     "output_type": "execute_result"
    }
   ],
   "source": [
    "e2.p"
   ]
  },
  {
   "cell_type": "code",
   "execution_count": 136,
   "metadata": {},
   "outputs": [
    {
     "data": {
      "text/plain": [
       "True"
      ]
     },
     "execution_count": 136,
     "metadata": {},
     "output_type": "execute_result"
    }
   ],
   "source": [
    "hasattr(e2, 'p')"
   ]
  },
  {
   "cell_type": "code",
   "execution_count": 137,
   "metadata": {},
   "outputs": [],
   "source": [
    "e3 = Example()"
   ]
  },
  {
   "cell_type": "code",
   "execution_count": 138,
   "metadata": {},
   "outputs": [
    {
     "data": {
      "text/plain": [
       "False"
      ]
     },
     "execution_count": 138,
     "metadata": {},
     "output_type": "execute_result"
    }
   ],
   "source": [
    "hasattr(e3, 'p')"
   ]
  },
  {
   "cell_type": "code",
   "execution_count": 139,
   "metadata": {},
   "outputs": [
    {
     "data": {
      "text/plain": [
       "True"
      ]
     },
     "execution_count": 139,
     "metadata": {},
     "output_type": "execute_result"
    }
   ],
   "source": [
    "isinstance(e1, Example)"
   ]
  },
  {
   "cell_type": "code",
   "execution_count": 140,
   "metadata": {},
   "outputs": [
    {
     "data": {
      "text/plain": [
       "True"
      ]
     },
     "execution_count": 140,
     "metadata": {},
     "output_type": "execute_result"
    }
   ],
   "source": [
    "isinstance(e1, object)"
   ]
  },
  {
   "cell_type": "markdown",
   "metadata": {
    "collapsed": true
   },
   "source": [
    "## Inheritance\n"
   ]
  },
  {
   "cell_type": "markdown",
   "metadata": {},
   "source": [
    "## Game"
   ]
  },
  {
   "cell_type": "code",
   "execution_count": 141,
   "metadata": {},
   "outputs": [
    {
     "name": "stdout",
     "output_type": "stream",
     "text": [
      "Moving ->East\n",
      "Running ->North\n",
      "fly ->High\n",
      "fly ->Low\n"
     ]
    }
   ],
   "source": [
    "class Tree(object):\n",
    "    \n",
    "    def __init__(self, leaf_count=0, stem_count=0, trunck_size=0, root_count=0):\n",
    "        self.leafCount = leaf_count\n",
    "        self.stemCount = stem_count\n",
    "        self.trunckSize = trunck_size\n",
    "        self.rootCount = root_count\n",
    "        \n",
    "    def swing_left(self):\n",
    "        print('<<<<<<<<<<<<<<')\n",
    "        \n",
    "    def swing_right(self):\n",
    "        print('>>>>>>>>>>>>>>')\n",
    "        \n",
    "        \n",
    "class Human(object):\n",
    "\n",
    "    def __init__(self, shirt, trouser, shoe):\n",
    "\n",
    "        self.shirt = shirt\n",
    "        self.trouser = trouser\n",
    "        self.shoe = shoe\n",
    "\n",
    "\n",
    "    def walk(self, direction):\n",
    "\n",
    "        print(\"Moving ->\" + direction)\n",
    "        return True\n",
    "\n",
    "\n",
    "    def run(self, direction):\n",
    "\n",
    "        print(\"Running ->\" + direction)\n",
    "        return True\n",
    "\n",
    "\n",
    "    def jump(self, direction):\n",
    "        print(\"Jump ->\" + direction)\n",
    "        return True;\n",
    "\n",
    "\n",
    "    def action(self):\n",
    "        self.walk(\"West\")\n",
    "        self.walk(\"North\")\n",
    "        self.run(\"East\")\n",
    "        self.jump(\"Up\")\n",
    "\n",
    "\n",
    "\n",
    "class InHuman(Human):\n",
    "\n",
    "    def __init__(self, shirt, trouser, shoe, powers):\n",
    "\n",
    "        super(InHuman, self).__init__(shirt, trouser, shoe)\n",
    "        self.powers = powers\n",
    "\n",
    "\n",
    "    def fly(self, direction):\n",
    "\n",
    "        print(\"fly ->\" + direction)\n",
    "        return True\n",
    "\n",
    "    # Overriding\n",
    "    def action(self):\n",
    "\n",
    "        self.walk(\"East\");\n",
    "        self.run(\"North\");\n",
    "        self.fly(\"High\");\n",
    "        self.fly(\"Low\");\n",
    "\n",
    "\n",
    "if __name__ == '__main__':\n",
    "    h = InHuman(1, 2, 3, 4);\n",
    "    h.action()"
   ]
  },
  {
   "cell_type": "markdown",
   "metadata": {},
   "source": [
    "### Employee"
   ]
  },
  {
   "cell_type": "code",
   "execution_count": 142,
   "metadata": {},
   "outputs": [
    {
     "data": {
      "text/plain": [
       "17300.0"
      ]
     },
     "execution_count": 142,
     "metadata": {},
     "output_type": "execute_result"
    }
   ],
   "source": [
    "class EmployeeTax(object):\n",
    "    def __init__(self, _id, _name, _sal):\n",
    "        self.eId = _id\n",
    "        self.eName = _name\n",
    "        self.eSal = _sal\n",
    "\n",
    "    def professional_tax(self):\n",
    "        return 200\n",
    "        \n",
    "    def income_tax(self):\n",
    "        return self.eSal * 0.3\n",
    "            \n",
    "    def net_salary(self):\n",
    "        return self.eSal - self.income_tax() - self.professional_tax()\n",
    "    \n",
    "obj = EmployeeTax(1234, 'Jhon', 25000)\n",
    "obj.net_salary()"
   ]
  },
  {
   "cell_type": "markdown",
   "metadata": {},
   "source": [
    "##### Inheritance\n",
    "\n",
    "Syntax:<br>\n",
    "```python\n",
    "class <class_name>(<base_Class1>, <base_Class2>, ...):\n",
    "    statements...\n",
    "    \n",
    "e.g,\n",
    "class NRIEMployeeTax(EmployeeTax):\n",
    "    pass\n",
    "```\n"
   ]
  },
  {
   "cell_type": "code",
   "execution_count": 143,
   "metadata": {},
   "outputs": [],
   "source": [
    "class NRIEmployeeTax(EmployeeTax):\n",
    "    pass"
   ]
  },
  {
   "cell_type": "code",
   "execution_count": 144,
   "metadata": {},
   "outputs": [
    {
     "name": "stdout",
     "output_type": "stream",
     "text": [
      "17300.0 17300.0\n"
     ]
    }
   ],
   "source": [
    "emp = EmployeeTax(1234, 'John', 25000)\n",
    "nri_emp = NRIEmployeeTax(1234, 'John', 25000)\n",
    "\n",
    "print (emp.net_salary(),nri_emp.net_salary())"
   ]
  },
  {
   "cell_type": "code",
   "execution_count": 145,
   "metadata": {},
   "outputs": [],
   "source": [
    "class NRIEmployeeTax(EmployeeTax):\n",
    "    def __init__(self, _id, _name, _sal, _citizenship):\n",
    "        self.eId = _id\n",
    "        self.eName = _name\n",
    "        self.eSal = _sal\n",
    "        # -------------\n",
    "        self.citizenship = _citizenship\n",
    "\n",
    "    def income_tax(self):\n",
    "        return self.eSal * 0.4\n",
    "\n",
    "    def is_us_citizen(self):\n",
    "        return 'United States' == self.citizenship\n",
    "    \n",
    "    def professional_tax(self):\n",
    "        if self.is_us_citizen():\n",
    "            return 2000\n",
    "        return 200\n",
    "    \n",
    "nri_emp = NRIEmployeeTax(1234, 'John', 25000, 'United States')"
   ]
  },
  {
   "cell_type": "code",
   "execution_count": 146,
   "metadata": {},
   "outputs": [
    {
     "data": {
      "text/plain": [
       "10000.0"
      ]
     },
     "execution_count": 146,
     "metadata": {},
     "output_type": "execute_result"
    }
   ],
   "source": [
    "nri_emp.income_tax()"
   ]
  },
  {
   "cell_type": "code",
   "execution_count": 147,
   "metadata": {},
   "outputs": [
    {
     "data": {
      "text/plain": [
       "13000.0"
      ]
     },
     "execution_count": 147,
     "metadata": {},
     "output_type": "execute_result"
    }
   ],
   "source": [
    "nri_emp.net_salary()"
   ]
  },
  {
   "cell_type": "markdown",
   "metadata": {},
   "source": [
    "#### delegating functionality to parent constructor, __init__"
   ]
  },
  {
   "cell_type": "code",
   "execution_count": 148,
   "metadata": {},
   "outputs": [
    {
     "data": {
      "text/plain": [
       "13000.0"
      ]
     },
     "execution_count": 148,
     "metadata": {},
     "output_type": "execute_result"
    }
   ],
   "source": [
    "class NRIEmployeeTax(EmployeeTax):\n",
    "    def __init__(self, _id, _name, _sal, _citizenship):\n",
    "        super(NRIEmployeeTax, self).__init__(_id, _name, _sal)\n",
    "        # -------------\n",
    "        self.citizenship = _citizenship\n",
    "\n",
    "    def income_tax(self):\n",
    "        return self.eSal * 0.4\n",
    "\n",
    "    def is_us_citizen(self):\n",
    "        return 'United States' == self.citizenship\n",
    "    \n",
    "    def professional_tax(self):\n",
    "        if self.is_us_citizen():\n",
    "            return 2000\n",
    "        return 200\n",
    "    \n",
    "nri_emp = NRIEmployeeTax(1234, 'John', 25000, 'United States')\n",
    "nri_emp.net_salary()"
   ]
  },
  {
   "cell_type": "markdown",
   "metadata": {
    "collapsed": true
   },
   "source": [
    "### Types of Inheritance"
   ]
  },
  {
   "cell_type": "markdown",
   "metadata": {},
   "source": [
    "```\n",
    "    1. Single\n",
    "         A\n",
    "         |\n",
    "         B\n",
    "\n",
    "    2. Hierarchical\n",
    "         A\n",
    "        / \\\n",
    "       B   C\n",
    "\n",
    "    3. Multiple\n",
    "       A   B\n",
    "        \\ /\n",
    "         C\n",
    "\n",
    "    4. Multi-level\n",
    "        A\n",
    "        |\n",
    "        B\n",
    "        |\n",
    "        C\n",
    "\n",
    "    5. Hybrid\n",
    "\n",
    "        A      A    A   B \n",
    "       / \\     |     \\ /\n",
    "      B   C    B      C\n",
    "       \\ /    / \\     |\n",
    "        D    C   D    D\n",
    "       (a)    (b)    (c)\n",
    "```\n",
    "<b>Diamond problem:</b> <br> \n",
    "This is a welll known problem in multiple inheritance. When two classes are having an attribute <br>\n",
    "with same name, a conflict ariases when inheriting both of them in a multiple inheritance.<br>\n",
    "Python has a  technique to solve this issue, which is MRO(Method resolution Order).<br>\n",
    "Python considers attribute of the first class in the inheritance order.<br>\n",
    "\n",
    "In the below example class D is inheriting A, B and C classes, we can see a conflict for function 'f()'.<br>\n",
    "As per the MRO in python B's f() is considered for inheritance.<br>"
   ]
  },
  {
   "cell_type": "code",
   "execution_count": 149,
   "metadata": {},
   "outputs": [
    {
     "name": "stdout",
     "output_type": "stream",
     "text": [
      "I'm B\n"
     ]
    }
   ],
   "source": [
    "class A(object):\n",
    "    def __init__(self):\n",
    "        self.x = 100\n",
    "        \n",
    "    def foo(self):\n",
    "        print(\"I'm A\")\n",
    "\n",
    "class B(A):\n",
    "    def __init__(self):\n",
    "        self.x = \"apple\"\n",
    "        \n",
    "    def foo(self):\n",
    "        print (\"I'm B\")\n",
    "\n",
    "class C(A):\n",
    "    def __init__(self):\n",
    "        self.x = 300\n",
    "    def foo(self):\n",
    "        print (\"I'm C\")\n",
    "\n",
    "class D(B, C):\n",
    "    def bar(self):\n",
    "        print (\"Exclusive\")\n",
    "\n",
    "d = D()\n",
    "d.foo()"
   ]
  },
  {
   "cell_type": "markdown",
   "metadata": {},
   "source": [
    "## MRO - Method Resolution Order"
   ]
  },
  {
   "cell_type": "markdown",
   "metadata": {},
   "source": [
    "#### Changing method resolution order using \\__bases__ attribute of the class.\n",
    "In the below code, in the last line, we can see class C's f() is called."
   ]
  },
  {
   "cell_type": "code",
   "execution_count": 150,
   "metadata": {},
   "outputs": [
    {
     "name": "stdout",
     "output_type": "stream",
     "text": [
      "I'm B\n",
      "I'm C\n",
      "I'm B\n"
     ]
    }
   ],
   "source": [
    "class A(object):\n",
    "    def foo(self):\n",
    "        print (\"I'm A\")\n",
    "\n",
    "class B(A):\n",
    "    def foo(self):\n",
    "        print (\"I'm B\")\n",
    "\n",
    "class C(A):\n",
    "    def foo(self):\n",
    "        print (\"I'm C\")\n",
    "\n",
    "class D(B, C):\n",
    "    def bar(self):\n",
    "        print (\"I'm D\")\n",
    "\n",
    "def main():\n",
    "    d = D()\n",
    "    d.foo()\n",
    "    \n",
    "    D.__bases__ = (C, B)\n",
    "    \n",
    "    d.foo()\n",
    "\n",
    "    D.__bases__ = (B, C)\n",
    "    \n",
    "    d.foo()\n",
    "if __name__ == '__main__':\n",
    "    main()"
   ]
  },
  {
   "cell_type": "code",
   "execution_count": 151,
   "metadata": {},
   "outputs": [
    {
     "name": "stdout",
     "output_type": "stream",
     "text": [
      "<class 'dict'>\n"
     ]
    }
   ],
   "source": [
    "d = {}\n",
    "print(type(d))"
   ]
  },
  {
   "cell_type": "markdown",
   "metadata": {},
   "source": [
    "### Polymorphism\n",
    "Single interface, multiple functionalities.<br>\n",
    "Polymorphism is, conditional and contextual execution of a functionality.\n",
    "\n",
    "\n",
    "__IS - A Relation__\n",
    "\n",
    "A derived class IS-A base class. All the places in the code where we use Base class objects, we can seamlessly use derived class objects, as all the properties of base class are available in derived class."
   ]
  },
  {
   "cell_type": "code",
   "execution_count": 152,
   "metadata": {},
   "outputs": [
    {
     "name": "stdout",
     "output_type": "stream",
     "text": [
      "Playing a sport\n"
     ]
    }
   ],
   "source": [
    "class A(object):\n",
    "    def play(self):\n",
    "        print ('Playing a sport')\n",
    "        \n",
    "class B(A):\n",
    "    def swim(self):\n",
    "        print ('Swimming in a pool')\n",
    "        \n",
    "class C(B):\n",
    "    def sing(self):\n",
    "        print ('Singing a song')\n",
    "        \n",
    "# User     \n",
    "def action(x):\n",
    "    x.play()\n",
    "\n",
    "    \n",
    "a = A()\n",
    "b = B()\n",
    "c = C()\n",
    "\n",
    "action(c)"
   ]
  },
  {
   "cell_type": "code",
   "execution_count": 153,
   "metadata": {},
   "outputs": [
    {
     "data": {
      "text/plain": [
       "True"
      ]
     },
     "execution_count": 153,
     "metadata": {},
     "output_type": "execute_result"
    }
   ],
   "source": [
    "isinstance(c, B)"
   ]
  },
  {
   "cell_type": "markdown",
   "metadata": {},
   "source": [
    "__Without polymorphism:__\n",
    "\n",
    "A designer want to display multiple shapes randomly on a canvas. Circle , Rectangle and Triangle classes are available."
   ]
  },
  {
   "cell_type": "code",
   "execution_count": 154,
   "metadata": {},
   "outputs": [
    {
     "name": "stdout",
     "output_type": "stream",
     "text": [
      "[5, 3, 4, 1, 2]\n"
     ]
    }
   ],
   "source": [
    "from random import shuffle\n",
    "l = [1, 2, 3, 4, 5]\n",
    "shuffle(l)\n",
    "print(l)"
   ]
  },
  {
   "cell_type": "code",
   "execution_count": 155,
   "metadata": {},
   "outputs": [
    {
     "name": "stdout",
     "output_type": "stream",
     "text": [
      "I'm the Triangle\n",
      "I'm the Rectangle\n",
      "I'm the Circle\n"
     ]
    }
   ],
   "source": [
    "from random import shuffle\n",
    "\n",
    "class Circle(object):\n",
    "    def circle_display(self):\n",
    "        print (\"I'm the Circle\")\n",
    "        \n",
    "class Rectangle(object):\n",
    "    def rect_display(self):\n",
    "        print (\"I'm the Rectangle\")\n",
    "        \n",
    "class Triangle(object):\n",
    "    def tri_display(self):\n",
    "        print (\"I'm the Triangle\")\n",
    "        \n",
    "\n",
    "def render_canvas(shapes):\n",
    "    for x in shapes:\n",
    "        if isinstance(x, Circle):\n",
    "            x.circle_display()\n",
    "        elif isinstance(x, Rectangle):\n",
    "            x.rect_display()\n",
    "        elif isinstance(x, Triangle):\n",
    "            x.tri_display()\n",
    "\n",
    "c = Circle()\n",
    "r = Rectangle()\n",
    "t = Triangle()\n",
    "\n",
    "l = [c, r, t]\n",
    "shuffle(l)\n",
    "\n",
    "render_canvas(l)"
   ]
  },
  {
   "cell_type": "markdown",
   "metadata": {},
   "source": [
    "__With Ploymorphism__\n",
    "\n",
    "When every subclass is overriding and implementing its own definition in display() method, it becomes very easy for other class to iteract with Shape class, as there is only one interface 'display()'."
   ]
  },
  {
   "cell_type": "markdown",
   "metadata": {},
   "source": [
    "__Use-Case1: Unified Interface__"
   ]
  },
  {
   "cell_type": "code",
   "execution_count": 156,
   "metadata": {},
   "outputs": [
    {
     "name": "stdout",
     "output_type": "stream",
     "text": [
      "I'm the Rectangle\n",
      "I'm the Triangle\n",
      "I'm the Circle\n"
     ]
    }
   ],
   "source": [
    "from random import shuffle\n",
    "\n",
    "class Shape(object):\n",
    "    def display(self):\n",
    "        raise NotImplementedError()\n",
    "    \n",
    "class Circle(Shape):\n",
    "    def display(self):\n",
    "        print (\"I'm the Circle\")\n",
    "        \n",
    "class Rectangle(Shape):\n",
    "    def display(self):\n",
    "        print (\"I'm the Rectangle\")\n",
    "        \n",
    "class Triangle(Shape):\n",
    "    def display(self):\n",
    "        print (\"I'm the Triangle\")\n",
    "        \n",
    "def render_canvas(shapes):\n",
    "    for x in shapes:\n",
    "        x.display()\n",
    "\n",
    "c = Circle()\n",
    "r = Rectangle()\n",
    "t = Triangle()\n",
    "\n",
    "l = [c, r, t]\n",
    "shuffle(l)\n",
    "\n",
    "render_canvas(l)"
   ]
  },
  {
   "cell_type": "markdown",
   "metadata": {},
   "source": [
    "__Use-Case 2:__ Incorporating changes into system"
   ]
  },
  {
   "cell_type": "code",
   "execution_count": 157,
   "metadata": {},
   "outputs": [
    {
     "name": "stdout",
     "output_type": "stream",
     "text": [
      "I'm the Rounded Rectangle\n",
      "I'm the Triangle\n",
      "I'm the Circle\n"
     ]
    }
   ],
   "source": [
    "from random import shuffle\n",
    "\n",
    "class Shape(object):\n",
    "    def display(self):\n",
    "        raise NotImplementedError()\n",
    "    \n",
    "class Circle(Shape):\n",
    "    def display(self):\n",
    "        print (\"I'm the Circle\")\n",
    "        \n",
    "class Rectangle(Shape):\n",
    "    def display(self):\n",
    "        print (\"I'm the Rectangle\")\n",
    "        \n",
    "class Triangle(Shape):\n",
    "    def display(self):\n",
    "        print (\"I'm the Triangle\")\n",
    "        \n",
    "def render_canvas(shapes):\n",
    "    for x in shapes:\n",
    "        x.display()\n",
    "        \n",
    "# -----------------------\n",
    "\n",
    "class RoundedRectangle(Rectangle):\n",
    "    def display(self):\n",
    "        print (\"I'm the Rounded Rectangle\")\n",
    "        \n",
    "c = Circle()\n",
    "r = RoundedRectangle()\n",
    "t = Triangle()\n",
    "\n",
    "l = [c, r, t]\n",
    "shuffle(l)\n",
    "\n",
    "render_canvas(l)"
   ]
  },
  {
   "cell_type": "markdown",
   "metadata": {},
   "source": [
    "__Enforcing rules and mandating overriding__"
   ]
  },
  {
   "cell_type": "markdown",
   "metadata": {},
   "source": [
    "There are no strict rules to mandate overriding a single interface. Developers can ignore overriding  display() method and still operate."
   ]
  },
  {
   "cell_type": "code",
   "execution_count": 158,
   "metadata": {},
   "outputs": [
    {
     "name": "stdout",
     "output_type": "stream",
     "text": [
      "I'm the Rectangle\n",
      "I'm the Triangle\n"
     ]
    },
    {
     "ename": "NotImplementedError",
     "evalue": "Abstract method",
     "output_type": "error",
     "traceback": [
      "\u001b[0;31m---------------------------------------------------------------------------\u001b[0m",
      "\u001b[0;31mNotImplementedError\u001b[0m                       Traceback (most recent call last)",
      "\u001b[0;32m<ipython-input-158-c571fabf489f>\u001b[0m in \u001b[0;36m<module>\u001b[0;34m()\u001b[0m\n\u001b[1;32m     33\u001b[0m \u001b[0mshuffle\u001b[0m\u001b[0;34m(\u001b[0m\u001b[0ml\u001b[0m\u001b[0;34m)\u001b[0m\u001b[0;34m\u001b[0m\u001b[0;34m\u001b[0m\u001b[0m\n\u001b[1;32m     34\u001b[0m \u001b[0;34m\u001b[0m\u001b[0m\n\u001b[0;32m---> 35\u001b[0;31m \u001b[0mrender_canvas\u001b[0m\u001b[0;34m(\u001b[0m\u001b[0ml\u001b[0m\u001b[0;34m)\u001b[0m\u001b[0;34m\u001b[0m\u001b[0;34m\u001b[0m\u001b[0m\n\u001b[0m",
      "\u001b[0;32m<ipython-input-158-c571fabf489f>\u001b[0m in \u001b[0;36mrender_canvas\u001b[0;34m(shapes)\u001b[0m\n\u001b[1;32m     23\u001b[0m \u001b[0;32mdef\u001b[0m \u001b[0mrender_canvas\u001b[0m\u001b[0;34m(\u001b[0m\u001b[0mshapes\u001b[0m\u001b[0;34m)\u001b[0m\u001b[0;34m:\u001b[0m\u001b[0;34m\u001b[0m\u001b[0;34m\u001b[0m\u001b[0m\n\u001b[1;32m     24\u001b[0m     \u001b[0;32mfor\u001b[0m \u001b[0mx\u001b[0m \u001b[0;32min\u001b[0m \u001b[0mshapes\u001b[0m\u001b[0;34m:\u001b[0m\u001b[0;34m\u001b[0m\u001b[0;34m\u001b[0m\u001b[0m\n\u001b[0;32m---> 25\u001b[0;31m         \u001b[0mx\u001b[0m\u001b[0;34m.\u001b[0m\u001b[0mdisplay\u001b[0m\u001b[0;34m(\u001b[0m\u001b[0;34m)\u001b[0m\u001b[0;34m\u001b[0m\u001b[0;34m\u001b[0m\u001b[0m\n\u001b[0m\u001b[1;32m     26\u001b[0m \u001b[0;34m\u001b[0m\u001b[0m\n\u001b[1;32m     27\u001b[0m \u001b[0mc\u001b[0m \u001b[0;34m=\u001b[0m \u001b[0mCircle\u001b[0m\u001b[0;34m(\u001b[0m\u001b[0;34m)\u001b[0m\u001b[0;34m\u001b[0m\u001b[0;34m\u001b[0m\u001b[0m\n",
      "\u001b[0;32m<ipython-input-158-c571fabf489f>\u001b[0m in \u001b[0;36mdisplay\u001b[0;34m(self)\u001b[0m\n\u001b[1;32m      3\u001b[0m \u001b[0;32mclass\u001b[0m \u001b[0mShape\u001b[0m\u001b[0;34m(\u001b[0m\u001b[0mobject\u001b[0m\u001b[0;34m)\u001b[0m\u001b[0;34m:\u001b[0m\u001b[0;34m\u001b[0m\u001b[0;34m\u001b[0m\u001b[0m\n\u001b[1;32m      4\u001b[0m     \u001b[0;32mdef\u001b[0m \u001b[0mdisplay\u001b[0m\u001b[0;34m(\u001b[0m\u001b[0mself\u001b[0m\u001b[0;34m)\u001b[0m\u001b[0;34m:\u001b[0m\u001b[0;34m\u001b[0m\u001b[0;34m\u001b[0m\u001b[0m\n\u001b[0;32m----> 5\u001b[0;31m         \u001b[0;32mraise\u001b[0m \u001b[0mNotImplementedError\u001b[0m\u001b[0;34m(\u001b[0m\u001b[0;34m'Abstract method'\u001b[0m\u001b[0;34m)\u001b[0m\u001b[0;34m\u001b[0m\u001b[0;34m\u001b[0m\u001b[0m\n\u001b[0m\u001b[1;32m      6\u001b[0m \u001b[0;34m\u001b[0m\u001b[0m\n\u001b[1;32m      7\u001b[0m \u001b[0;32mclass\u001b[0m \u001b[0mCircle\u001b[0m\u001b[0;34m(\u001b[0m\u001b[0mShape\u001b[0m\u001b[0;34m)\u001b[0m\u001b[0;34m:\u001b[0m\u001b[0;34m\u001b[0m\u001b[0;34m\u001b[0m\u001b[0m\n",
      "\u001b[0;31mNotImplementedError\u001b[0m: Abstract method"
     ]
    }
   ],
   "source": [
    "from random import shuffle\n",
    "\n",
    "class Shape(object):\n",
    "    def display(self):\n",
    "        raise NotImplementedError('Abstract method')\n",
    "    \n",
    "class Circle(Shape):\n",
    "    def display(self):\n",
    "        print (\"I'm the Circle\")\n",
    "        \n",
    "class Rectangle(Shape):\n",
    "    def display(self):\n",
    "        print (\"I'm the Rectangle\")\n",
    "        \n",
    "class Triangle(Shape):\n",
    "    def display(self):\n",
    "        print (\"I'm the Triangle\")\n",
    "        \n",
    "class Hexagon(Shape):\n",
    "    def draw(self):\n",
    "        print ('Im unique')\n",
    "        \n",
    "def render_canvas(shapes):\n",
    "    for x in shapes:\n",
    "        x.display()\n",
    "\n",
    "c = Circle()\n",
    "r = Rectangle()\n",
    "t = Triangle()\n",
    "h = Hexagon()\n",
    "\n",
    "l = [c, r, t, h]\n",
    "shuffle(l)\n",
    "\n",
    "render_canvas(l)"
   ]
  },
  {
   "cell_type": "markdown",
   "metadata": {},
   "source": [
    "At least we can stop execution in run-time by raising an exception. But it will be late and not certain."
   ]
  },
  {
   "cell_type": "markdown",
   "metadata": {},
   "source": [
    "There is one way to achive this in python. 'abc' module. Using which we can make the base class an abstract class, this ensures uniform interface, by forcing all subclassses to provide implementation."
   ]
  },
  {
   "cell_type": "markdown",
   "metadata": {},
   "source": [
    "#### What is Abstract class, when to use abstract class?\n",
    "* Abstract classes are classes that contain one or more abstract methods. \n",
    "* An abstract method is a method that is declared, but contains no implementation. \n",
    "* Abstract classes can not be instantiated, and require subclasses to provide implementations for the abstract methods."
   ]
  },
  {
   "cell_type": "markdown",
   "metadata": {},
   "source": [
    "#### Using abc module"
   ]
  },
  {
   "cell_type": "markdown",
   "metadata": {},
   "source": [
    "__In Python 3.6__"
   ]
  },
  {
   "cell_type": "code",
   "execution_count": null,
   "metadata": {},
   "outputs": [],
   "source": [
    "from abc import ABC, abstractmethod\n",
    "\n",
    "class Base(ABC):\n",
    "    @abstractmethod\n",
    "    def foo(self):\n",
    "        pass\n",
    "\n",
    "    @abstractmethod\n",
    "    def bar(self):\n",
    "        pass\n",
    "    \n",
    "    def fun():\n",
    "        print (\"have fun!\")\n",
    "        \n",
    "class Derived(Base):\n",
    "    def foo(self):\n",
    "        print ('Derived foo() called')     \n",
    "\n",
    "\n",
    "d = Derived()\n",
    "d.foo()"
   ]
  },
  {
   "cell_type": "markdown",
   "metadata": {},
   "source": [
    "We must override all abstract methods, cannot leave them unimplemented."
   ]
  },
  {
   "cell_type": "code",
   "execution_count": 161,
   "metadata": {},
   "outputs": [
    {
     "name": "stdout",
     "output_type": "stream",
     "text": [
      "Derived bar foo() called\n"
     ]
    }
   ],
   "source": [
    "from abc import ABC, abstractmethod\n",
    "\n",
    "class Base(ABC):\n",
    "\n",
    "    @abstractmethod\n",
    "    def foo(self):\n",
    "        pass\n",
    "\n",
    "    @abstractmethod\n",
    "    def bar(self):\n",
    "        pass\n",
    "    \n",
    "    def fun():\n",
    "        print (\"have fun!\")\n",
    "        \n",
    "class Derived(Base):\n",
    "    def foo(self):\n",
    "        print ('Derived foo() called')\n",
    "    def bar(self):\n",
    "        print ('Derived bar foo() called')\n",
    "        \n",
    "\n",
    "d = Derived()\n",
    "d.bar()"
   ]
  },
  {
   "cell_type": "markdown",
   "metadata": {},
   "source": [
    "__Implementing Shape classes using abc module__"
   ]
  },
  {
   "cell_type": "code",
   "execution_count": 164,
   "metadata": {},
   "outputs": [
    {
     "ename": "TypeError",
     "evalue": "Can't instantiate abstract class Hexagon with abstract methods display",
     "output_type": "error",
     "traceback": [
      "\u001b[0;31m---------------------------------------------------------------------------\u001b[0m",
      "\u001b[0;31mTypeError\u001b[0m                                 Traceback (most recent call last)",
      "\u001b[0;32m<ipython-input-164-99814862d242>\u001b[0m in \u001b[0;36m<module>\u001b[0;34m()\u001b[0m\n\u001b[1;32m     30\u001b[0m \u001b[0mr\u001b[0m \u001b[0;34m=\u001b[0m \u001b[0mRectangle\u001b[0m\u001b[0;34m(\u001b[0m\u001b[0;34m)\u001b[0m\u001b[0;34m\u001b[0m\u001b[0;34m\u001b[0m\u001b[0m\n\u001b[1;32m     31\u001b[0m \u001b[0mt\u001b[0m \u001b[0;34m=\u001b[0m \u001b[0mTriangle\u001b[0m\u001b[0;34m(\u001b[0m\u001b[0;34m)\u001b[0m\u001b[0;34m\u001b[0m\u001b[0;34m\u001b[0m\u001b[0m\n\u001b[0;32m---> 32\u001b[0;31m \u001b[0mh\u001b[0m \u001b[0;34m=\u001b[0m \u001b[0mHexagon\u001b[0m\u001b[0;34m(\u001b[0m\u001b[0;34m)\u001b[0m\u001b[0;34m\u001b[0m\u001b[0;34m\u001b[0m\u001b[0m\n\u001b[0m\u001b[1;32m     33\u001b[0m \u001b[0;34m\u001b[0m\u001b[0m\n\u001b[1;32m     34\u001b[0m \u001b[0ml\u001b[0m \u001b[0;34m=\u001b[0m \u001b[0;34m[\u001b[0m\u001b[0mc\u001b[0m\u001b[0;34m,\u001b[0m \u001b[0mr\u001b[0m\u001b[0;34m,\u001b[0m \u001b[0mt\u001b[0m\u001b[0;34m,\u001b[0m \u001b[0mh\u001b[0m\u001b[0;34m]\u001b[0m\u001b[0;34m\u001b[0m\u001b[0;34m\u001b[0m\u001b[0m\n",
      "\u001b[0;31mTypeError\u001b[0m: Can't instantiate abstract class Hexagon with abstract methods display"
     ]
    }
   ],
   "source": [
    "from random import shuffle\n",
    "from abc import ABC, abstractmethod\n",
    "\n",
    "class Shape(ABC):\n",
    "    @abstractmethod\n",
    "    def display(self):\n",
    "        pass\n",
    "    \n",
    "class Circle(Shape):\n",
    "    def display(self):\n",
    "        print (\"I'm the Circle\")\n",
    "        \n",
    "class Rectangle(Shape):\n",
    "    def display(self):\n",
    "        print (\"I'm the Rectangle\")\n",
    "        \n",
    "class Triangle(Shape):\n",
    "    def display(self):\n",
    "        print (\"I'm the Triangle\")\n",
    "        \n",
    "class Hexagon(Shape):\n",
    "    def draw(self):\n",
    "        print ('Im unique')\n",
    "        \n",
    "def render_canvas(shapes):\n",
    "    for x in shapes:\n",
    "        x.display()\n",
    "\n",
    "c = Circle()\n",
    "r = Rectangle()\n",
    "t = Triangle()\n",
    "h = Hexagon()\n",
    "\n",
    "l = [c, r, t, h]\n",
    "shuffle(l)\n",
    "\n",
    "render_canvas(l)"
   ]
  },
  {
   "cell_type": "markdown",
   "metadata": {},
   "source": [
    "Abstract classes prevent object instantiation, which gives better understanding and leads to good design."
   ]
  },
  {
   "cell_type": "markdown",
   "metadata": {},
   "source": [
    "Hexagon class must override display() method"
   ]
  },
  {
   "cell_type": "code",
   "execution_count": 165,
   "metadata": {},
   "outputs": [
    {
     "name": "stdout",
     "output_type": "stream",
     "text": [
      "I'm the Triangle\n",
      "I'm the Hexagon and I'm a shape\n",
      "I'm the Rectangle\n",
      "I'm the Circle\n"
     ]
    }
   ],
   "source": [
    "from random import shuffle\n",
    "from abc import ABC, abstractmethod\n",
    "\n",
    "class Shape(ABC):\n",
    "    @abstractmethod\n",
    "    def display(self):\n",
    "        raise NotImplementedError()\n",
    "    \n",
    "class Circle(Shape):\n",
    "    def display(self):\n",
    "        print (\"I'm the Circle\")\n",
    "        \n",
    "class Rectangle(Shape):\n",
    "    def display(self):\n",
    "        print (\"I'm the Rectangle\")\n",
    "        \n",
    "class Triangle(Shape):\n",
    "    def display(self):\n",
    "        print (\"I'm the Triangle\")\n",
    "        \n",
    "class Hexagon(Shape):\n",
    "    def display(self):\n",
    "        print (\"I'm the Hexagon and I'm a shape\")\n",
    "        \n",
    "def render_canvas(shapes):\n",
    "    for x in shapes:\n",
    "        x.display()\n",
    "\n",
    "c = Circle()\n",
    "r = Rectangle()\n",
    "t = Triangle()\n",
    "h = Hexagon()\n",
    "\n",
    "l = [c, r, t, h]\n",
    "shuffle(l)\n",
    "\n",
    "render_canvas(l)"
   ]
  },
  {
   "cell_type": "markdown",
   "metadata": {},
   "source": [
    "#### Private Memebrs\n",
    "\n",
    "* prefixing with \\_\\_(double undescore) hides property from accessing\n",
    "* prefixing \\_ doen't do anything. But by convention, it means, __\"not for public use\"__. So do not use other's code which has mehtods or attributes prefixed with \\_(underscore)"
   ]
  },
  {
   "cell_type": "code",
   "execution_count": 166,
   "metadata": {},
   "outputs": [],
   "source": [
    "class A(object):\n",
    "    def __init__(self):\n",
    "        self.x = 222\n",
    "        self._y = 333\n",
    "        self.__z = 555\n",
    "        \n",
    "    def f1(self):\n",
    "        print('__z:', self.__z)\n",
    "        print (\"I'm fun\")\n",
    "        \n",
    "    def _f2(self):\n",
    "        print('__z:', self.__z)\n",
    "        print (\"I'm _fun, dont use me, you will be at risk\")\n",
    "        \n",
    "    def __f3(self):\n",
    "        print('__z:', self.__z)\n",
    "        print (\"I'm __fun, you cannot use me\")\n",
    "        \n",
    "        \n",
    "a = A()"
   ]
  },
  {
   "cell_type": "markdown",
   "metadata": {},
   "source": [
    "__Accessing private data members__"
   ]
  },
  {
   "cell_type": "code",
   "execution_count": 167,
   "metadata": {},
   "outputs": [
    {
     "data": {
      "text/plain": [
       "222"
      ]
     },
     "execution_count": 167,
     "metadata": {},
     "output_type": "execute_result"
    }
   ],
   "source": [
    "a.x"
   ]
  },
  {
   "cell_type": "code",
   "execution_count": 168,
   "metadata": {},
   "outputs": [
    {
     "data": {
      "text/plain": [
       "333"
      ]
     },
     "execution_count": 168,
     "metadata": {},
     "output_type": "execute_result"
    }
   ],
   "source": [
    "a._y"
   ]
  },
  {
   "cell_type": "code",
   "execution_count": 169,
   "metadata": {},
   "outputs": [
    {
     "ename": "AttributeError",
     "evalue": "'A' object has no attribute '__z'",
     "output_type": "error",
     "traceback": [
      "\u001b[0;31m---------------------------------------------------------------------------\u001b[0m",
      "\u001b[0;31mAttributeError\u001b[0m                            Traceback (most recent call last)",
      "\u001b[0;32m<ipython-input-169-965fa129e2df>\u001b[0m in \u001b[0;36m<module>\u001b[0;34m()\u001b[0m\n\u001b[0;32m----> 1\u001b[0;31m \u001b[0ma\u001b[0m\u001b[0;34m.\u001b[0m\u001b[0m__z\u001b[0m\u001b[0;34m\u001b[0m\u001b[0;34m\u001b[0m\u001b[0m\n\u001b[0m",
      "\u001b[0;31mAttributeError\u001b[0m: 'A' object has no attribute '__z'"
     ]
    }
   ],
   "source": [
    "a.__z"
   ]
  },
  {
   "cell_type": "markdown",
   "metadata": {},
   "source": [
    "__Accessing private members(Hack):__ Looking at objects dictionary."
   ]
  },
  {
   "cell_type": "code",
   "execution_count": 170,
   "metadata": {},
   "outputs": [
    {
     "data": {
      "text/plain": [
       "{'_A__z': 555, '_y': 333, 'x': 222}"
      ]
     },
     "execution_count": 170,
     "metadata": {},
     "output_type": "execute_result"
    }
   ],
   "source": [
    "a.__dict__"
   ]
  },
  {
   "cell_type": "markdown",
   "metadata": {},
   "source": [
    "In side object, a dictionary is maintained, \\_\\_z is actually mangled by interpreter as \\_A\\_\\_z"
   ]
  },
  {
   "cell_type": "code",
   "execution_count": 171,
   "metadata": {},
   "outputs": [
    {
     "data": {
      "text/plain": [
       "555"
      ]
     },
     "execution_count": 171,
     "metadata": {},
     "output_type": "execute_result"
    }
   ],
   "source": [
    "a._A__z"
   ]
  },
  {
   "cell_type": "markdown",
   "metadata": {},
   "source": [
    "__Accessing private member functions__"
   ]
  },
  {
   "cell_type": "code",
   "execution_count": 172,
   "metadata": {},
   "outputs": [
    {
     "name": "stdout",
     "output_type": "stream",
     "text": [
      "__z: 555\n",
      "I'm fun\n"
     ]
    }
   ],
   "source": [
    "a.f1()"
   ]
  },
  {
   "cell_type": "code",
   "execution_count": 173,
   "metadata": {},
   "outputs": [
    {
     "name": "stdout",
     "output_type": "stream",
     "text": [
      "__z: 555\n",
      "I'm _fun, dont use me, you will be at risk\n"
     ]
    }
   ],
   "source": [
    "a._f2()"
   ]
  },
  {
   "cell_type": "code",
   "execution_count": 174,
   "metadata": {},
   "outputs": [
    {
     "ename": "AttributeError",
     "evalue": "'A' object has no attribute '__f3'",
     "output_type": "error",
     "traceback": [
      "\u001b[0;31m---------------------------------------------------------------------------\u001b[0m",
      "\u001b[0;31mAttributeError\u001b[0m                            Traceback (most recent call last)",
      "\u001b[0;32m<ipython-input-174-251ad2bdaabe>\u001b[0m in \u001b[0;36m<module>\u001b[0;34m()\u001b[0m\n\u001b[0;32m----> 1\u001b[0;31m \u001b[0ma\u001b[0m\u001b[0;34m.\u001b[0m\u001b[0m__f3\u001b[0m\u001b[0;34m(\u001b[0m\u001b[0;34m)\u001b[0m\u001b[0;34m\u001b[0m\u001b[0;34m\u001b[0m\u001b[0m\n\u001b[0m",
      "\u001b[0;31mAttributeError\u001b[0m: 'A' object has no attribute '__f3'"
     ]
    }
   ],
   "source": [
    "a.__f3()"
   ]
  },
  {
   "cell_type": "markdown",
   "metadata": {},
   "source": [
    "__Accessing private Member Functions(Hack):__ Looking at Class's dictionary."
   ]
  },
  {
   "cell_type": "code",
   "execution_count": 175,
   "metadata": {},
   "outputs": [
    {
     "data": {
      "text/plain": [
       "mappingproxy({'_A__f3': <function __main__.A.__f3>,\n",
       "              '__dict__': <attribute '__dict__' of 'A' objects>,\n",
       "              '__doc__': None,\n",
       "              '__init__': <function __main__.A.__init__>,\n",
       "              '__module__': '__main__',\n",
       "              '__weakref__': <attribute '__weakref__' of 'A' objects>,\n",
       "              '_f2': <function __main__.A._f2>,\n",
       "              'f1': <function __main__.A.f1>})"
      ]
     },
     "execution_count": 175,
     "metadata": {},
     "output_type": "execute_result"
    }
   ],
   "source": [
    "A.__dict__"
   ]
  },
  {
   "cell_type": "code",
   "execution_count": 176,
   "metadata": {},
   "outputs": [
    {
     "name": "stdout",
     "output_type": "stream",
     "text": [
      "__z: 555\n",
      "I'm __fun, you cannot use me\n"
     ]
    }
   ],
   "source": [
    "a._A__f3()"
   ]
  },
  {
   "cell_type": "markdown",
   "metadata": {},
   "source": [
    "#### Creating inline objects, classes, types\n",
    "Syntax:\n",
    "```python\n",
    "className = type('className', (bases,), {'propertyName' : 'propertyValue'})\n",
    "```"
   ]
  },
  {
   "cell_type": "code",
   "execution_count": 177,
   "metadata": {},
   "outputs": [
    {
     "name": "stdout",
     "output_type": "stream",
     "text": [
      "1234 John\n"
     ]
    }
   ],
   "source": [
    "def f(self, eid, name):\n",
    "    self.empId = eid\n",
    "    self.name = name\n",
    "    \n",
    "Employee = type('Employee', (object,), {'empId' : 1234, 'name': 'John', '__init__': f})\n",
    "e = Employee(1234, 'John')\n",
    "print (e.empId, e.name)"
   ]
  },
  {
   "cell_type": "markdown",
   "metadata": {},
   "source": [
    "#### Static variables, Static Methods and Class Methods\n",
    "When we want to execute code before creating first instance of a class, we create static variables and static functions."
   ]
  },
  {
   "cell_type": "code",
   "execution_count": 178,
   "metadata": {},
   "outputs": [
    {
     "name": "stdout",
     "output_type": "stream",
     "text": [
      "db initiated\n",
      "Object count:  4\n"
     ]
    }
   ],
   "source": [
    "class A(object):\n",
    "    # static variable\n",
    "    db_conn = None\n",
    "    obj_count = 0\n",
    "    \n",
    "    @staticmethod\n",
    "    def getDBConnection():\n",
    "        A.db_conn = \"MYSQL\"\n",
    "        print (\"db initiated\")\n",
    "\n",
    "    def __init__(self, x, y, z):\n",
    "        self.x = x\n",
    "        self.y = y\n",
    "        self.z = z\n",
    "        A.obj_count += 1\n",
    "        \n",
    "    def fun(self):\n",
    "        if A.db_conn == 'MYSQL':\n",
    "            print (self.x + self.y + self.z)\n",
    "        else:\n",
    "            print ('Error: DB not initialized')\n",
    "\n",
    "A.getDBConnection()\n",
    "\n",
    "a1 = A(20, 30, 40)\n",
    "a2 = A(50, 60, 70)\n",
    "a3 = A(20, 30, 40)\n",
    "a4 = A(50, 60, 70)\n",
    "\n",
    "print ('Object count: ', A.obj_count)"
   ]
  },
  {
   "cell_type": "code",
   "execution_count": 179,
   "metadata": {},
   "outputs": [
    {
     "name": "stdout",
     "output_type": "stream",
     "text": [
      "90\n",
      "180\n"
     ]
    }
   ],
   "source": [
    "a1.fun()\n",
    "a2.fun()"
   ]
  },
  {
   "cell_type": "code",
   "execution_count": 180,
   "metadata": {},
   "outputs": [
    {
     "name": "stdout",
     "output_type": "stream",
     "text": [
      "db initiated\n"
     ]
    }
   ],
   "source": [
    "a1.getDBConnection() # not recommended, Pls donot do this"
   ]
  },
  {
   "cell_type": "code",
   "execution_count": 181,
   "metadata": {},
   "outputs": [
    {
     "data": {
      "text/plain": [
       "4"
      ]
     },
     "execution_count": 181,
     "metadata": {},
     "output_type": "execute_result"
    }
   ],
   "source": [
    "a1.obj_count"
   ]
  },
  {
   "cell_type": "code",
   "execution_count": 182,
   "metadata": {},
   "outputs": [
    {
     "data": {
      "text/plain": [
       "4"
      ]
     },
     "execution_count": 182,
     "metadata": {},
     "output_type": "execute_result"
    }
   ],
   "source": [
    "a2.obj_count"
   ]
  },
  {
   "cell_type": "code",
   "execution_count": 183,
   "metadata": {},
   "outputs": [
    {
     "data": {
      "text/plain": [
       "4"
      ]
     },
     "execution_count": 183,
     "metadata": {},
     "output_type": "execute_result"
    }
   ],
   "source": [
    "A.obj_count"
   ]
  },
  {
   "cell_type": "code",
   "execution_count": 184,
   "metadata": {},
   "outputs": [],
   "source": [
    "a1.obj_count = 10"
   ]
  },
  {
   "cell_type": "code",
   "execution_count": 185,
   "metadata": {},
   "outputs": [
    {
     "name": "stdout",
     "output_type": "stream",
     "text": [
      "10 4 4\n"
     ]
    }
   ],
   "source": [
    "print (a1.obj_count, a2.obj_count, A.obj_count)"
   ]
  },
  {
   "cell_type": "code",
   "execution_count": 186,
   "metadata": {},
   "outputs": [
    {
     "data": {
      "text/plain": [
       "{'obj_count': 10, 'x': 20, 'y': 30, 'z': 40}"
      ]
     },
     "execution_count": 186,
     "metadata": {},
     "output_type": "execute_result"
    }
   ],
   "source": [
    "a1.__dict__"
   ]
  },
  {
   "cell_type": "code",
   "execution_count": 187,
   "metadata": {},
   "outputs": [
    {
     "data": {
      "text/plain": [
       "4"
      ]
     },
     "execution_count": 187,
     "metadata": {},
     "output_type": "execute_result"
    }
   ],
   "source": [
    "A.obj_count"
   ]
  },
  {
   "cell_type": "code",
   "execution_count": 188,
   "metadata": {},
   "outputs": [
    {
     "data": {
      "text/plain": [
       "mappingproxy({'__dict__': <attribute '__dict__' of 'A' objects>,\n",
       "              '__doc__': None,\n",
       "              '__init__': <function __main__.A.__init__>,\n",
       "              '__module__': '__main__',\n",
       "              '__weakref__': <attribute '__weakref__' of 'A' objects>,\n",
       "              'db_conn': 'MYSQL',\n",
       "              'fun': <function __main__.A.fun>,\n",
       "              'getDBConnection': <staticmethod at 0x7fa5e031c9e8>,\n",
       "              'obj_count': 4})"
      ]
     },
     "execution_count": 188,
     "metadata": {},
     "output_type": "execute_result"
    }
   ],
   "source": [
    "A.__dict__"
   ]
  },
  {
   "cell_type": "markdown",
   "metadata": {},
   "source": [
    "##### class method : if we need to use class attributes"
   ]
  },
  {
   "cell_type": "code",
   "execution_count": 189,
   "metadata": {},
   "outputs": [],
   "source": [
    "## class method\n",
    "\n",
    "class A(object):\n",
    "    # static variables\n",
    "    logger = None\n",
    "    dbConn = None\n",
    "    phi = 3.14 \n",
    "    objectCount = 0\n",
    "    \n",
    "    def __init__(self, x, y , z):\n",
    "        self.x = x\n",
    "        self.y = y\n",
    "        self.z = z\n",
    "        A.objectCount += 1\n",
    "        \n",
    "    @staticmethod\n",
    "    def getDBConnection():\n",
    "        A.dbConn = \"Conection to MySQL\"\n",
    "        print(\"db initiated\")\n",
    "\n",
    "    \n",
    "    @classmethod\n",
    "    def getLogger(cls):\n",
    "        cls.logger = \"logger created\"\n",
    "        print (\"logger Initilized\")\n",
    "\n",
    "\n",
    "    def fun(self):\n",
    "        print (\"I'm fun\")\n",
    "        print (A.logger)\n"
   ]
  },
  {
   "cell_type": "code",
   "execution_count": 190,
   "metadata": {},
   "outputs": [
    {
     "data": {
      "text/plain": [
       "mappingproxy({'__dict__': <attribute '__dict__' of 'A' objects>,\n",
       "              '__doc__': None,\n",
       "              '__init__': <function __main__.A.__init__>,\n",
       "              '__module__': '__main__',\n",
       "              '__weakref__': <attribute '__weakref__' of 'A' objects>,\n",
       "              'dbConn': None,\n",
       "              'fun': <function __main__.A.fun>,\n",
       "              'getDBConnection': <staticmethod at 0x7fa5e031cf28>,\n",
       "              'getLogger': <classmethod at 0x7fa5e031cf98>,\n",
       "              'logger': None,\n",
       "              'objectCount': 0,\n",
       "              'phi': 3.14})"
      ]
     },
     "execution_count": 190,
     "metadata": {},
     "output_type": "execute_result"
    }
   ],
   "source": [
    "A.__dict__"
   ]
  },
  {
   "cell_type": "code",
   "execution_count": 191,
   "metadata": {},
   "outputs": [
    {
     "name": "stdout",
     "output_type": "stream",
     "text": [
      "db initiated\n",
      "logger Initilized\n"
     ]
    }
   ],
   "source": [
    "A.getDBConnection() # class method\n",
    "A.getLogger() # static method"
   ]
  },
  {
   "cell_type": "code",
   "execution_count": 192,
   "metadata": {},
   "outputs": [
    {
     "data": {
      "text/plain": [
       "'Conection to MySQL'"
      ]
     },
     "execution_count": 192,
     "metadata": {},
     "output_type": "execute_result"
    }
   ],
   "source": [
    "A.dbConn # static variable"
   ]
  },
  {
   "cell_type": "code",
   "execution_count": 193,
   "metadata": {},
   "outputs": [
    {
     "name": "stdout",
     "output_type": "stream",
     "text": [
      "{'x': 2, 'y': 3, 'z': 4}\n"
     ]
    }
   ],
   "source": [
    "a = A(2, 3, 4)\n",
    "print (a.__dict__)"
   ]
  },
  {
   "cell_type": "code",
   "execution_count": 194,
   "metadata": {},
   "outputs": [
    {
     "name": "stdout",
     "output_type": "stream",
     "text": [
      "6\n"
     ]
    }
   ],
   "source": [
    "l = []\n",
    "for x in range(5):\n",
    "    l.append(A(2, 3, 4))\n",
    "    \n",
    "print(A.objectCount)"
   ]
  },
  {
   "cell_type": "code",
   "execution_count": 195,
   "metadata": {},
   "outputs": [
    {
     "name": "stdout",
     "output_type": "stream",
     "text": [
      "I'm A\n",
      "I'm B\n"
     ]
    }
   ],
   "source": [
    "class A(object):\n",
    "    @classmethod\n",
    "    def get_instance(cls):\n",
    "        return cls()\n",
    "\n",
    "    def fun(self):\n",
    "        print(\"I'm A\")\n",
    "\n",
    "class B(A):\n",
    "    def fun(self):\n",
    "        print(\"I'm B\")\n",
    "        \n",
    "A.get_instance().fun()\n",
    "B.get_instance().fun()"
   ]
  },
  {
   "cell_type": "markdown",
   "metadata": {
    "collapsed": true
   },
   "source": [
    "### Funcion Objects (Functor), Callable objects\n",
    "Purpose: To maintain common interface across multiple family of classes."
   ]
  },
  {
   "cell_type": "code",
   "execution_count": 196,
   "metadata": {},
   "outputs": [],
   "source": [
    "class Sqr(object):\n",
    "    def __init__(self, _x):\n",
    "        self.x = _x\n",
    "        \n",
    "    def sqr(self):\n",
    "        return self.x * self.x"
   ]
  },
  {
   "cell_type": "code",
   "execution_count": 197,
   "metadata": {},
   "outputs": [],
   "source": [
    "a = Sqr(20)"
   ]
  },
  {
   "cell_type": "code",
   "execution_count": 198,
   "metadata": {},
   "outputs": [
    {
     "name": "stdout",
     "output_type": "stream",
     "text": [
      "400\n"
     ]
    }
   ],
   "source": [
    "print(a.sqr())"
   ]
  },
  {
   "cell_type": "code",
   "execution_count": 199,
   "metadata": {},
   "outputs": [
    {
     "ename": "TypeError",
     "evalue": "'Sqr' object is not callable",
     "output_type": "error",
     "traceback": [
      "\u001b[0;31m---------------------------------------------------------------------------\u001b[0m",
      "\u001b[0;31mTypeError\u001b[0m                                 Traceback (most recent call last)",
      "\u001b[0;32m<ipython-input-199-8d7b4527e81d>\u001b[0m in \u001b[0;36m<module>\u001b[0;34m()\u001b[0m\n\u001b[0;32m----> 1\u001b[0;31m \u001b[0ma\u001b[0m\u001b[0;34m(\u001b[0m\u001b[0;34m)\u001b[0m\u001b[0;34m\u001b[0m\u001b[0;34m\u001b[0m\u001b[0m\n\u001b[0m",
      "\u001b[0;31mTypeError\u001b[0m: 'Sqr' object is not callable"
     ]
    }
   ],
   "source": [
    "a()"
   ]
  },
  {
   "cell_type": "code",
   "execution_count": 200,
   "metadata": {},
   "outputs": [],
   "source": [
    "class Sqr(object):\n",
    "    def __init__(self, _x):\n",
    "        self.x = _x\n",
    "        \n",
    "    def __call__(self):\n",
    "        return self.x * self.x"
   ]
  },
  {
   "cell_type": "code",
   "execution_count": 201,
   "metadata": {},
   "outputs": [
    {
     "data": {
      "text/plain": [
       "400"
      ]
     },
     "execution_count": 201,
     "metadata": {},
     "output_type": "execute_result"
    }
   ],
   "source": [
    "s = Sqr(20)\n",
    "s() # s.__call__()"
   ]
  },
  {
   "cell_type": "code",
   "execution_count": 202,
   "metadata": {},
   "outputs": [
    {
     "data": {
      "text/plain": [
       "400"
      ]
     },
     "execution_count": 202,
     "metadata": {},
     "output_type": "execute_result"
    }
   ],
   "source": [
    "s.__call__()"
   ]
  },
  {
   "cell_type": "markdown",
   "metadata": {},
   "source": [
    "__Multiple family of classes:__"
   ]
  },
  {
   "cell_type": "code",
   "execution_count": 203,
   "metadata": {},
   "outputs": [
    {
     "name": "stdout",
     "output_type": "stream",
     "text": [
      "Im the speed\n",
      "Im the fastest\n",
      "I dont need to\n"
     ]
    }
   ],
   "source": [
    "class Animal(object):\n",
    "    def run(self):\n",
    "        raise NotImplementedError()\n",
    "        \n",
    "class Tiger(Animal):\n",
    "    def run(self):\n",
    "        print ('Ofcourse! I run')\n",
    "        \n",
    "class Cheetah(Animal):\n",
    "    def run(self):\n",
    "        print ('Im the speed')\n",
    "        \n",
    "# -------------------------\n",
    "class Bird(object):\n",
    "    def fly(self):\n",
    "        raise NotImplementedError()\n",
    "\n",
    "class Eagle(Bird):\n",
    "    def fly(self):\n",
    "        print ('I fly the highest')\n",
    "        \n",
    "class Swift(Bird):\n",
    "    def fly(self):\n",
    "        print ('Im the fastest')\n",
    "        \n",
    "# -------------------------        \n",
    "class SeaAnimal(object):\n",
    "    def swim(self):\n",
    "        raise NotImplementedError()\n",
    "        \n",
    "class Dolphin(SeaAnimal):\n",
    "    def swim(self):\n",
    "        print ('I jump aswell')\n",
    "        \n",
    "class Whale(SeaAnimal):\n",
    "    def swim(self):\n",
    "        print ('I dont need to')\n",
    "        \n",
    "def observe_speed(obj):\n",
    "    if isinstance(obj, Animal):\n",
    "        obj.run()\n",
    "    elif isinstance(obj, Bird):\n",
    "        obj.fly()\n",
    "    elif isinstance(obj, SeaAnimal):\n",
    "        obj.swim()\n",
    "\n",
    "\n",
    "obj1 = Cheetah()\n",
    "obj2 = Swift()\n",
    "obj3 = Whale()\n",
    "\n",
    "observe_speed(obj1)\n",
    "observe_speed(obj2)\n",
    "observe_speed(obj3)"
   ]
  },
  {
   "cell_type": "code",
   "execution_count": 204,
   "metadata": {},
   "outputs": [
    {
     "name": "stdout",
     "output_type": "stream",
     "text": [
      "Im the speed\n",
      "Im the fastest\n",
      "I dont need to\n"
     ]
    }
   ],
   "source": [
    "class Animal(object):\n",
    "    def __call__(self):\n",
    "        raise NotImplementedError()\n",
    "        \n",
    "class Tiger(Animal):\n",
    "    def __call__(self):\n",
    "        print ('Ofcourse! I run')\n",
    "        \n",
    "class Cheetah(Animal):\n",
    "    def __call__(self):\n",
    "        print ('Im the speed')\n",
    "        \n",
    "# -------------------------\n",
    "class Bird(object):\n",
    "    def __call__(self):\n",
    "        raise NotImplementedError()\n",
    "\n",
    "class Eagle(Bird):\n",
    "    def __call__(self):\n",
    "        print ('I fly the hihest')\n",
    "        \n",
    "class Swift(Bird):\n",
    "    def __call__(self):\n",
    "        print ('Im the fastest')\n",
    "        \n",
    "# -------------------------        \n",
    "class SeaAnimal(object):\n",
    "    def __call__(self):\n",
    "        raise NotImplementedError()\n",
    "        \n",
    "class Dolphin(SeaAnimal):\n",
    "    def __call__(self):\n",
    "        print ('I jump aswell')\n",
    "        \n",
    "class Whale(SeaAnimal):\n",
    "    def __call__(self):\n",
    "        print ('I dont need to')\n",
    "        \n",
    "def observe_speed(obj):\n",
    "    obj()\n",
    "\n",
    "\n",
    "obj1 = Cheetah()\n",
    "obj2 = Swift()\n",
    "obj3 = Whale()\n",
    "\n",
    "observe_speed(obj1)\n",
    "observe_speed(obj2)\n",
    "observe_speed(obj3)"
   ]
  },
  {
   "cell_type": "markdown",
   "metadata": {},
   "source": [
    "### Decorator and Context manager"
   ]
  },
  {
   "cell_type": "code",
   "execution_count": 205,
   "metadata": {},
   "outputs": [],
   "source": [
    "import time\n",
    "def fun(n):\n",
    "    x = 0\n",
    "    for i in range(n):\n",
    "        x += i*i\n",
    "    return x"
   ]
  },
  {
   "cell_type": "code",
   "execution_count": 206,
   "metadata": {},
   "outputs": [
    {
     "name": "stdout",
     "output_type": "stream",
     "text": [
      "10 loops, best of 3: 118 ms per loop\n"
     ]
    }
   ],
   "source": [
    "%%timeit\n",
    "fun(1000000)"
   ]
  },
  {
   "cell_type": "code",
   "execution_count": 207,
   "metadata": {},
   "outputs": [
    {
     "name": "stdout",
     "output_type": "stream",
     "text": [
      "Decorator - time taken: 0.10194100000000006\n",
      "Context Manager - time taken: 0.2954809999999988\n",
      "Sum of 1000000 numbers =  499999500000\n"
     ]
    }
   ],
   "source": [
    "import time\n",
    "\n",
    "class TimeItDec(object):\n",
    "\n",
    "    def __init__(self, f):\n",
    "        self.fun = f\n",
    "\n",
    "    def __call__(self, *args, **kwargs):\n",
    "        start = time.clock()\n",
    "        ret = self.fun(*args, **kwargs)\n",
    "        end = time.clock()\n",
    "        print ('Decorator - time taken:',  end - start)\n",
    "        return ret\n",
    "    \n",
    "class TimeItContext(object):\n",
    "    def __enter__(self):\n",
    "        self.start = time.clock()\n",
    "    \n",
    "    def __exit__(self, *args, **kwargs):\n",
    "        self.end = time.clock()\n",
    "        print ('Context Manager - time taken:',  self.end - self.start)\n",
    "\n",
    "@TimeItDec\n",
    "def compute(n):\n",
    "    z = 0\n",
    "    for i in range(n):\n",
    "        z += i\n",
    "    return z\n",
    "\n",
    "if __name__ == '__main__':\n",
    "    \n",
    "    res = compute(1000000)\n",
    "    \n",
    "    with TimeItContext() as tc:\n",
    "        for i in range(1000000):\n",
    "            i += i * i\n",
    "            \n",
    "    print ('Sum of 1000000 numbers = ', res)"
   ]
  },
  {
   "cell_type": "code",
   "execution_count": 208,
   "metadata": {},
   "outputs": [
    {
     "name": "stdout",
     "output_type": "stream",
     "text": [
      "time taken: 0.08089600000000097\n",
      "time taken: 0.2772710000000007\n",
      "Sum of 1000000 numbers =  499999500005\n"
     ]
    }
   ],
   "source": [
    "import time\n",
    "class TimeIt(object):\n",
    "\n",
    "    def __init__(self, f=None):\n",
    "        self.fun = f\n",
    "\n",
    "    def __call__(self, *args, **kwargs):\n",
    "        start = time.clock()\n",
    "        ret = self.fun(*args, **kwargs)\n",
    "        end = time.clock()\n",
    "        print ('time taken:',  end - start)\n",
    "        return ret\n",
    "    \n",
    "    def __enter__(self):\n",
    "        self.start = time.clock()\n",
    "    \n",
    "    def __exit__(self, *args, **kwargs):\n",
    "        self.end = time.clock()\n",
    "        print ('time taken:',  self.end - self.start)\n",
    "    \n",
    "# As decorator\n",
    "@TimeIt\n",
    "def compute(x, y):\n",
    "    z = x + y\n",
    "    for i in range(1000000):\n",
    "        z += i\n",
    "\n",
    "    return z \n",
    "\n",
    "if __name__ == '__main__':\n",
    "    \n",
    "    z = compute(2, 3)\n",
    "    # As Context manager\n",
    "    with TimeIt() as tm:\n",
    "        for i in range(1000000):\n",
    "            i += i * i\n",
    "    print ('Sum of 1000000 numbers = ', z)"
   ]
  },
  {
   "cell_type": "code",
   "execution_count": 209,
   "metadata": {},
   "outputs": [
    {
     "name": "stdout",
     "output_type": "stream",
     "text": [
      "10000000 loops, best of 3: 34.1 ns per loop\n"
     ]
    }
   ],
   "source": [
    "timeit(fun)"
   ]
  },
  {
   "cell_type": "markdown",
   "metadata": {},
   "source": [
    "#### Function Overloading"
   ]
  },
  {
   "cell_type": "code",
   "execution_count": 210,
   "metadata": {},
   "outputs": [
    {
     "ename": "TypeError",
     "evalue": "fun() missing 1 required positional argument: 'n'",
     "output_type": "error",
     "traceback": [
      "\u001b[0;31m---------------------------------------------------------------------------\u001b[0m",
      "\u001b[0;31mTypeError\u001b[0m                                 Traceback (most recent call last)",
      "\u001b[0;32m<ipython-input-210-3633d8ec56b5>\u001b[0m in \u001b[0;36m<module>\u001b[0;34m()\u001b[0m\n\u001b[1;32m      8\u001b[0m \u001b[0;34m\u001b[0m\u001b[0m\n\u001b[1;32m      9\u001b[0m \u001b[0ms\u001b[0m \u001b[0;34m=\u001b[0m \u001b[0mSample\u001b[0m\u001b[0;34m(\u001b[0m\u001b[0;34m)\u001b[0m\u001b[0;34m\u001b[0m\u001b[0;34m\u001b[0m\u001b[0m\n\u001b[0;32m---> 10\u001b[0;31m \u001b[0ms\u001b[0m\u001b[0;34m.\u001b[0m\u001b[0mfun\u001b[0m\u001b[0;34m(\u001b[0m\u001b[0;34m)\u001b[0m\u001b[0;34m\u001b[0m\u001b[0;34m\u001b[0m\u001b[0m\n\u001b[0m",
      "\u001b[0;31mTypeError\u001b[0m: fun() missing 1 required positional argument: 'n'"
     ]
    }
   ],
   "source": [
    "class Sample(object):\n",
    "    def fun(self):\n",
    "        print ('Apple')\n",
    "        \n",
    "    def fun(self, n):\n",
    "        print ('Apple'*n)\n",
    "        \n",
    "\n",
    "s = Sample()\n",
    "s.fun()"
   ]
  },
  {
   "cell_type": "code",
   "execution_count": 211,
   "metadata": {},
   "outputs": [
    {
     "name": "stdout",
     "output_type": "stream",
     "text": [
      "AppleAppleAppleApple\n"
     ]
    }
   ],
   "source": [
    "class Sample(object):\n",
    "    \n",
    "    def fun(self):\n",
    "        print ('Apple')\n",
    "        \n",
    "    def fun(self, n):\n",
    "        print ('Apple'*n)\n",
    "        \n",
    "s = Sample()\n",
    "s.fun(4)"
   ]
  },
  {
   "cell_type": "markdown",
   "metadata": {
    "collapsed": true
   },
   "source": [
    "* Overloading is static polymorphism\n",
    "* Method overloading is not having any significance in python.\n",
    "* Operator methods can be overloaded for a class.\n",
    "* Objects can be keys in a set or dict. Bydefault id() of the object<br>\n",
    "  is considered for hashing.\n",
    "* To change the hashing criteria,we should override \\__hash\\__() and \\__eq\\__() \n",
    "* Operator overloading can be achieved by overriding corresponding <br>\n",
    "  magic methods. <br>\n",
    "  > To implement '<' between objects, we should override \\__lt\\__(),<br>\n",
    "  > To implement '+' between objects, we should override \\__add\\__()\n",
    "* \\__lt\\__() method is considered for list's sort() method internally\n",
    "* \\__str\\__() method is used to represent object as string()\n",
    "* \\__str\\__() method is used by 'print' statement when print an object\n",
    "* \\__str\\__()method is used when using str() conversion function on objects.\n",
    "* \\__repr\\__() is used to syntactically represent object construction using constructor.<br>\n",
    "  so that, we can reconstruct the object using eval()"
   ]
  },
  {
   "cell_type": "markdown",
   "metadata": {},
   "source": [
    "#### Printing objects"
   ]
  },
  {
   "cell_type": "code",
   "execution_count": 212,
   "metadata": {},
   "outputs": [],
   "source": [
    "class Employee(object):\n",
    "    def __init__(self, _num, _name, _salary):\n",
    "        self.empNum = _num\n",
    "        self.empName = _name\n",
    "        self.empSalary = _salary\n",
    "        \n",
    "    def printData(self):\n",
    "        print ('EmpId: {}, EmpName: {}, EmpSalary: {}'.format(self.empNum,\n",
    "                                                             self.empName,\n",
    "                                                             self.empSalary))\n",
    "    def calculateTax(self):\n",
    "        slab = (self.empSalary * 12) - 300000\n",
    "        tax = 0\n",
    "        if slab > 0:\n",
    "            tax = slab * 0.1\n",
    "        print (\"tax for empid: {} is {}\".format(self.empNum, tax))\n",
    "        \n",
    "e1 = Employee(1234, 'John', 23500.0)"
   ]
  },
  {
   "cell_type": "code",
   "execution_count": 213,
   "metadata": {},
   "outputs": [
    {
     "name": "stdout",
     "output_type": "stream",
     "text": [
      "<__main__.Employee object at 0x7fa5e03928d0>\n"
     ]
    }
   ],
   "source": [
    "print(e1)"
   ]
  },
  {
   "cell_type": "markdown",
   "metadata": {},
   "source": [
    "Above statement is equal to"
   ]
  },
  {
   "cell_type": "code",
   "execution_count": 214,
   "metadata": {},
   "outputs": [
    {
     "name": "stdout",
     "output_type": "stream",
     "text": [
      "<__main__.Employee object at 0x7fa5e03928d0>\n"
     ]
    }
   ],
   "source": [
    "print (str(e1)) # str(e1) is equal to e1.__str__()"
   ]
  },
  {
   "cell_type": "markdown",
   "metadata": {},
   "source": [
    "Let's implement \\_\\_str\\_\\_ method for __Employee__ class"
   ]
  },
  {
   "cell_type": "code",
   "execution_count": 215,
   "metadata": {},
   "outputs": [
    {
     "name": "stdout",
     "output_type": "stream",
     "text": [
      "EmpId: 1234, EmpName: John, EmpSalary: 23500.0\n"
     ]
    }
   ],
   "source": [
    "class Employee(object):\n",
    "    def __init__(self, _num, _name, _salary):\n",
    "        self.empNum = _num\n",
    "        self.empName = _name\n",
    "        self.empSalary = _salary\n",
    "        \n",
    "    def printData(self):\n",
    "        print ('EmpId: {}, EmpName: {}, EmpSalary: {}'.format(self.empNum,\n",
    "                                                             self.empName,\n",
    "                                                             self.empSalary))\n",
    "    def calculateTax(self):\n",
    "        slab = (self.empSalary * 12) - 300000\n",
    "        tax = 0\n",
    "        if slab > 0:\n",
    "            tax = slab * 0.1\n",
    "        print (\"tax for empid: {} is {}\".format(self.empNum, tax))\n",
    "       \n",
    "    def __str__(self):\n",
    "        return 'EmpId: {}, EmpName: {}, EmpSalary: {}'.format(self.empNum,\n",
    "                                                             self.empName,\n",
    "                                                        self.empSalary)\n",
    "\n",
    "\n",
    "e1 = Employee(1234, 'John', 23500.0)\n",
    "print(e1)# str(e1) ==> e1.__str__()\n"
   ]
  },
  {
   "cell_type": "markdown",
   "metadata": {},
   "source": [
    "Perfect, \\_\\_str\\_\\_() is called. Lets try another printing technique, simply print 'e1' through shell."
   ]
  },
  {
   "cell_type": "code",
   "execution_count": 216,
   "metadata": {},
   "outputs": [
    {
     "data": {
      "text/plain": [
       "<__main__.Employee at 0x7fa5e032c1d0>"
      ]
     },
     "execution_count": 216,
     "metadata": {},
     "output_type": "execute_result"
    }
   ],
   "source": [
    "e1"
   ]
  },
  {
   "cell_type": "markdown",
   "metadata": {},
   "source": [
    "Strange, again same output. Python shell calls a different method other than str(), which is repr(). This method is mainly used for printing a string representation of an object, through which we can reconstruct same object. Generally this string format is different than str() and exactly looks like construction statement.\n",
    "\n",
    "In the below example we are going to provide both str() and repr()"
   ]
  },
  {
   "cell_type": "code",
   "execution_count": 217,
   "metadata": {},
   "outputs": [],
   "source": [
    "class Employee(object):\n",
    "\n",
    "    def __init__(self, _num, _name, _salary):\n",
    "        self.empNum = _num\n",
    "        self.empName = _name\n",
    "        self.empSalary = _salary\n",
    "        \n",
    "    def printData(self):\n",
    "        print ('EmpId: {}, EmpName: {}, EmpSalary: {}'.format(self.empNum,\n",
    "                                                             self.empName,\n",
    "                                                             self.empSalary))\n",
    "    def calculateTax(self):\n",
    "        slab = (self.empSalary * 12) - 300000\n",
    "        tax = 0\n",
    "        if slab > 0:\n",
    "            tax = slab * 0.1\n",
    "        print (\"tax for empid: {} is {}\".format(self.empNum, tax))\n",
    "       \n",
    "    def __str__(self):\n",
    "        return 'EmpId: {}, EmpName: {}, EmpSalary: {}'.format(self.empNum,\n",
    "                                                             self.empName,\n",
    "                                                        self.empSalary)\n",
    "\n",
    "    def __repr__(self):\n",
    "        return \"Employee({}, '{}', {})\".format(self.empNum,\n",
    "                                               self.empName,\n",
    "                                             self.empSalary)\n",
    "    \n",
    "e1 = Employee(1234, 'John', 23500.0)"
   ]
  },
  {
   "cell_type": "code",
   "execution_count": 218,
   "metadata": {},
   "outputs": [
    {
     "name": "stdout",
     "output_type": "stream",
     "text": [
      "EmpId: 1234, EmpName: John, EmpSalary: 23500.0\n"
     ]
    }
   ],
   "source": [
    "print (e1) # invokes e1.__str__() or str(e1)"
   ]
  },
  {
   "cell_type": "code",
   "execution_count": 219,
   "metadata": {},
   "outputs": [
    {
     "data": {
      "text/plain": [
       "Employee(1234, 'John', 23500.0)"
      ]
     },
     "execution_count": 219,
     "metadata": {},
     "output_type": "execute_result"
    }
   ],
   "source": [
    "e1 # invokes e1.__repr__() or repr(e1)"
   ]
  },
  {
   "cell_type": "markdown",
   "metadata": {},
   "source": [
    "Difference between above two printing statements is "
   ]
  },
  {
   "cell_type": "code",
   "execution_count": 220,
   "metadata": {},
   "outputs": [
    {
     "data": {
      "text/plain": [
       "Employee(1234, 'John', 23500.0)"
      ]
     },
     "execution_count": 220,
     "metadata": {},
     "output_type": "execute_result"
    }
   ],
   "source": [
    "e1 # repr(e1) ==> e1.__repr__()"
   ]
  },
  {
   "cell_type": "code",
   "execution_count": 221,
   "metadata": {},
   "outputs": [
    {
     "data": {
      "text/plain": [
       "\"Employee(1234, 'John', 23500.0)\""
      ]
     },
     "execution_count": 221,
     "metadata": {},
     "output_type": "execute_result"
    }
   ],
   "source": [
    "repr(e1)"
   ]
  },
  {
   "cell_type": "code",
   "execution_count": 222,
   "metadata": {},
   "outputs": [
    {
     "data": {
      "text/plain": [
       "\"Employee(1234, 'John', 23500.0)\""
      ]
     },
     "execution_count": 222,
     "metadata": {},
     "output_type": "execute_result"
    }
   ],
   "source": [
    "e1.__repr__()"
   ]
  },
  {
   "cell_type": "markdown",
   "metadata": {},
   "source": [
    "__eval() fiunction__\n",
    "\n",
    "Executes string as code"
   ]
  },
  {
   "cell_type": "code",
   "execution_count": 223,
   "metadata": {},
   "outputs": [
    {
     "data": {
      "text/plain": [
       "50"
      ]
     },
     "execution_count": 223,
     "metadata": {},
     "output_type": "execute_result"
    }
   ],
   "source": [
    "eval('20 + 30')"
   ]
  },
  {
   "cell_type": "code",
   "execution_count": 224,
   "metadata": {},
   "outputs": [
    {
     "data": {
      "text/plain": [
       "800"
      ]
     },
     "execution_count": 224,
     "metadata": {},
     "output_type": "execute_result"
    }
   ],
   "source": [
    "x = 20\n",
    "y = 40\n",
    "eval('x*y', globals(), locals())"
   ]
  },
  {
   "cell_type": "code",
   "execution_count": 225,
   "metadata": {},
   "outputs": [],
   "source": [
    "obj = eval(repr(e1))"
   ]
  },
  {
   "cell_type": "code",
   "execution_count": 226,
   "metadata": {},
   "outputs": [
    {
     "data": {
      "text/plain": [
       "(140350408172992, 140350407882624)"
      ]
     },
     "execution_count": 226,
     "metadata": {},
     "output_type": "execute_result"
    }
   ],
   "source": [
    "id(e1), id(obj)"
   ]
  },
  {
   "cell_type": "markdown",
   "metadata": {},
   "source": [
    "__repr() :__\n",
    "evaluatable string representation of an object (can \"eval()\" it, \n",
    "meaning it is a string representation that evaluates to a Python object\n",
    "\n",
    "With the return value of repr() it should be possible to recreate our object using eval()."
   ]
  },
  {
   "cell_type": "markdown",
   "metadata": {},
   "source": [
    "## Operator overloading"
   ]
  },
  {
   "cell_type": "code",
   "execution_count": 227,
   "metadata": {},
   "outputs": [],
   "source": [
    "class Employee(object):\n",
    "    def __init__(self, _id, _name, _sal):\n",
    "        self.eid = _id\n",
    "        self.ename = _name\n",
    "        self.esal = _sal\n",
    "     \n",
    "    def __str__(self):\n",
    "        return str(self.eid) + ', ' + self.ename + ', ' + str(self.esal)\n",
    "    def __repr__(self):\n",
    "        return \"Employee({}, '{}', {})\".format(self.eid, self.ename, \n",
    "                                             self.esal)\n",
    "\n",
    "e1 = Employee(1234, 'John corner', 5000.0)\n",
    "e2 = Employee(1235, 'Stuart', 26000.0)\n",
    "e3 = Employee(1236, 'snadra', 19000.0)"
   ]
  },
  {
   "cell_type": "code",
   "execution_count": 228,
   "metadata": {},
   "outputs": [
    {
     "ename": "TypeError",
     "evalue": "'<' not supported between instances of 'Employee' and 'Employee'",
     "output_type": "error",
     "traceback": [
      "\u001b[0;31m---------------------------------------------------------------------------\u001b[0m",
      "\u001b[0;31mTypeError\u001b[0m                                 Traceback (most recent call last)",
      "\u001b[0;32m<ipython-input-228-460665f828f4>\u001b[0m in \u001b[0;36m<module>\u001b[0;34m()\u001b[0m\n\u001b[0;32m----> 1\u001b[0;31m \u001b[0me2\u001b[0m \u001b[0;34m<\u001b[0m \u001b[0me3\u001b[0m\u001b[0;34m\u001b[0m\u001b[0;34m\u001b[0m\u001b[0m\n\u001b[0m",
      "\u001b[0;31mTypeError\u001b[0m: '<' not supported between instances of 'Employee' and 'Employee'"
     ]
    }
   ],
   "source": [
    "e2 < e3"
   ]
  },
  {
   "cell_type": "code",
   "execution_count": 229,
   "metadata": {},
   "outputs": [],
   "source": [
    "class Employee(object):\n",
    "    def __init__(self, _id, _name, _sal):\n",
    "        self.eid = _id\n",
    "        self.ename = _name\n",
    "        self.esal = _sal\n",
    "     \n",
    "    def __str__(self):\n",
    "        return str(self.eid) + ', ' + self.ename + ', ' + str(self.esal)\n",
    "    def __repr__(self):\n",
    "        return 'Employee({}, {}, {})'.format(self.eid, self.ename, \n",
    "                                             self.esal)\n",
    "    def __lt__(self, other):\n",
    "        print ('lt called!')\n",
    "        return self.esal < other.esal\n",
    "    \n",
    "    \n",
    "e1 = Employee(1234, 'John', 5000.0)\n",
    "e2 = Employee(1235, 'Stuart', 25000.0)\n",
    "e3 = Employee(1236, 'snadra', 19000.0)\n"
   ]
  },
  {
   "cell_type": "code",
   "execution_count": 230,
   "metadata": {},
   "outputs": [
    {
     "name": "stdout",
     "output_type": "stream",
     "text": [
      "lt called!\n"
     ]
    },
    {
     "data": {
      "text/plain": [
       "False"
      ]
     },
     "execution_count": 230,
     "metadata": {},
     "output_type": "execute_result"
    }
   ],
   "source": [
    "e2 < e3 # internally works like this, e2.__lt__(e3)"
   ]
  },
  {
   "cell_type": "code",
   "execution_count": 231,
   "metadata": {},
   "outputs": [
    {
     "ename": "TypeError",
     "evalue": "unsupported operand type(s) for +: 'Employee' and 'Employee'",
     "output_type": "error",
     "traceback": [
      "\u001b[0;31m---------------------------------------------------------------------------\u001b[0m",
      "\u001b[0;31mTypeError\u001b[0m                                 Traceback (most recent call last)",
      "\u001b[0;32m<ipython-input-231-70db920a5a56>\u001b[0m in \u001b[0;36m<module>\u001b[0;34m()\u001b[0m\n\u001b[0;32m----> 1\u001b[0;31m \u001b[0me2\u001b[0m \u001b[0;34m+\u001b[0m \u001b[0me3\u001b[0m\u001b[0;34m\u001b[0m\u001b[0;34m\u001b[0m\u001b[0m\n\u001b[0m",
      "\u001b[0;31mTypeError\u001b[0m: unsupported operand type(s) for +: 'Employee' and 'Employee'"
     ]
    }
   ],
   "source": [
    "e2 + e3"
   ]
  },
  {
   "cell_type": "code",
   "execution_count": 232,
   "metadata": {},
   "outputs": [],
   "source": [
    "class Employee(object):\n",
    "    def __init__(self, _id, _name, _sal):\n",
    "        self.eid = _id\n",
    "        self.ename = _name\n",
    "        self.esal = _sal\n",
    "     \n",
    "    def __str__(self):\n",
    "        return str(self.eid) + ', ' + self.ename + ', ' + str(self.esal)\n",
    "    def __repr__(self):\n",
    "        return 'Employee({}, {}, {})'.format(self.eid, self.ename, \n",
    "                                             self.esal)\n",
    "    def __lt__(self, other):\n",
    "        return self.esal < other.esal\n",
    "    \n",
    "    def __add__(self, other):\n",
    "        return self.esal + other.esal\n",
    "    \n",
    "e1 = Employee(1234, 'John', 5000.0)\n",
    "e2 = Employee(1235, 'Stuart', 25000.0)\n",
    "e3 = Employee(1236, 'snadra', 19000.0)\n"
   ]
  },
  {
   "cell_type": "code",
   "execution_count": 233,
   "metadata": {},
   "outputs": [
    {
     "data": {
      "text/plain": [
       "30000.0"
      ]
     },
     "execution_count": 233,
     "metadata": {},
     "output_type": "execute_result"
    }
   ],
   "source": [
    "e1 + e2 # internally works like this, e1.__add__(e2)"
   ]
  },
  {
   "cell_type": "code",
   "execution_count": 234,
   "metadata": {},
   "outputs": [],
   "source": [
    "class Employee(object):\n",
    "    def __init__(self, _id, _name, _sal):\n",
    "        self.eid = _id\n",
    "        self.ename = _name\n",
    "        self.esal = _sal\n",
    "     \n",
    "    def __str__(self):\n",
    "        return str(self.eid) + ', ' + self.ename + ', ' + str(self.esal)\n",
    "    \n",
    "    def __repr__(self):\n",
    "        return 'Employee({}, {}, {})'.format(self.eid, self.ename, \n",
    "                                             self.esal)\n",
    "    \n",
    "e1 = Employee(1234, 'John', 5000.0)\n",
    "e2 = Employee(1235, 'Stuart', 25000.0)\n",
    "e3 = Employee(1236, 'sandra', 19000.0)\n",
    "e4 = Employee(1236, 'sandra', 19000.0)"
   ]
  },
  {
   "cell_type": "code",
   "execution_count": 235,
   "metadata": {},
   "outputs": [
    {
     "data": {
      "text/plain": [
       "{Employee(1234, John, 5000.0),\n",
       " Employee(1235, Stuart, 25000.0),\n",
       " Employee(1236, sandra, 19000.0),\n",
       " Employee(1236, sandra, 19000.0)}"
      ]
     },
     "execution_count": 235,
     "metadata": {},
     "output_type": "execute_result"
    }
   ],
   "source": [
    "set([e1, e2, e3, e4])"
   ]
  },
  {
   "cell_type": "code",
   "execution_count": 236,
   "metadata": {},
   "outputs": [],
   "source": [
    "class Employee(object):\n",
    "    def __init__(self, _id, _name, _sal):\n",
    "        self.eid = _id\n",
    "        self.ename = _name\n",
    "        self.esal = _sal\n",
    "     \n",
    "    def __str__(self):\n",
    "        return str(self.eid) + ', ' + self.ename + ', ' + str(self.esal)\n",
    "    def __repr__(self):\n",
    "        return 'Employee({}, {}, {})'.format(self.eid, self.ename, \n",
    "                                             self.esal)\n",
    "    def __hash__(self):\n",
    "        print ('Hash called')\n",
    "        return hash(self.eid)\n",
    "    \n",
    "e1 = Employee(1234, 'John', 5000.0)\n",
    "e2 = Employee(1235, 'Stuart', 25000.0)\n",
    "e3 = Employee(1236, 'sandra', 19000.0)\n",
    "e4 = Employee(1236, 'sandra', 19000.0)"
   ]
  },
  {
   "cell_type": "code",
   "execution_count": 237,
   "metadata": {},
   "outputs": [
    {
     "name": "stdout",
     "output_type": "stream",
     "text": [
      "Hash called\n",
      "Hash called\n",
      "Hash called\n",
      "Hash called\n"
     ]
    },
    {
     "data": {
      "text/plain": [
       "{Employee(1234, John, 5000.0),\n",
       " Employee(1235, Stuart, 25000.0),\n",
       " Employee(1236, sandra, 19000.0),\n",
       " Employee(1236, sandra, 19000.0)}"
      ]
     },
     "execution_count": 237,
     "metadata": {},
     "output_type": "execute_result"
    }
   ],
   "source": [
    "set([e1, e2, e3, e4])"
   ]
  },
  {
   "cell_type": "code",
   "execution_count": 238,
   "metadata": {},
   "outputs": [],
   "source": [
    "class Employee(object):\n",
    "    def __init__(self, _id, _name, _sal):\n",
    "        self.eid = _id\n",
    "        self.ename = _name\n",
    "        self.esal = _sal\n",
    "     \n",
    "    def __str__(self):\n",
    "        return str(self.eid) + ', ' + self.ename + ', ' + str(self.esal)\n",
    "    def __repr__(self):\n",
    "        return 'Employee({}, {}, {})'.format(self.eid, self.ename, \n",
    "                                             self.esal)\n",
    "    def __hash__(self):\n",
    "        print ('Hash called')\n",
    "        return hash(self.eid)\n",
    "    \n",
    "    def __eq__(self, other):\n",
    "        print ('eq called')\n",
    "        return self.eid == other.eid\n",
    "    \n",
    "e1 = Employee(1234, 'John', 5000.0)\n",
    "e2 = Employee(1235, 'Stuart', 25000.0)\n",
    "e3 = Employee(1236, 'sandra', 19000.0)\n",
    "e4 = Employee(1236, 'sandra', 19000.0)"
   ]
  },
  {
   "cell_type": "code",
   "execution_count": 239,
   "metadata": {},
   "outputs": [
    {
     "name": "stdout",
     "output_type": "stream",
     "text": [
      "Hash called\n",
      "Hash called\n",
      "Hash called\n",
      "Hash called\n",
      "eq called\n"
     ]
    },
    {
     "data": {
      "text/plain": [
       "{Employee(1234, John, 5000.0),\n",
       " Employee(1235, Stuart, 25000.0),\n",
       " Employee(1236, sandra, 19000.0)}"
      ]
     },
     "execution_count": 239,
     "metadata": {},
     "output_type": "execute_result"
    }
   ],
   "source": [
    "set([e1, e2, e3, e4])"
   ]
  },
  {
   "cell_type": "markdown",
   "metadata": {},
   "source": [
    "#### Note:\n",
    "##### If we want to store objects as set elements or keys in a dictionary, \\__hash\\__() and \\__eq\\__() both must be overriden.\n",
    "Because, for different values, if hash codes are same,it should compare their values\n",
    "to check both are different are not.<br> If different, it stores values in the same hash bucket, else ignores. If we do not implement \\__eq\\__(), set doesn't consider<br> user defined  \\__hash\\__() method.\n"
   ]
  },
  {
   "cell_type": "code",
   "execution_count": 240,
   "metadata": {},
   "outputs": [],
   "source": [
    "class Employee(object):\n",
    "    def __init__(self, _id, _name, _sal):\n",
    "        self.eid = _id\n",
    "        self.ename = _name\n",
    "        self.esal = _sal\n",
    "     \n",
    "    def __str__(self):\n",
    "        return str(self.eid) + ', ' + self.ename + ', ' + str(self.esal)\n",
    "    def __repr__(self):\n",
    "        return 'Employee({}, {}, {})'.format(self.eid, self.ename, \n",
    "                                             self.esal)\n",
    "    \n",
    "    def __lt__(self, other):\n",
    "        print('lt is called')\n",
    "        return self.esal < other.esal\n",
    "    \n",
    "    def __hash__(self):\n",
    "        return hash(self.eid)\n",
    "    \n",
    "    def __eq__(self, other):\n",
    "        print ('Eq Called')\n",
    "        return self.eid == other.eid\n",
    "    \n",
    "    \n",
    "e1 = Employee(1234, 'John', 5000.0)\n",
    "e2 = Employee(1235, 'Stuart', 25000.0)\n",
    "e3 = Employee(1236, 'sandra', 19000.0)\n",
    "e4 = Employee(1236, 'sandra', 19000.0)"
   ]
  },
  {
   "cell_type": "markdown",
   "metadata": {},
   "source": [
    "### Sorting Objects"
   ]
  },
  {
   "cell_type": "code",
   "execution_count": 241,
   "metadata": {},
   "outputs": [
    {
     "name": "stdout",
     "output_type": "stream",
     "text": [
      "lt is called\n",
      "lt is called\n",
      "lt is called\n",
      "lt is called\n",
      "lt is called\n",
      "lt is called\n"
     ]
    },
    {
     "data": {
      "text/plain": [
       "[Employee(1237, Stuart, 1000),\n",
       " Employee(1235, Stuart, 15000),\n",
       " Employee(1236, snadra, 19000),\n",
       " Employee(1234, John, 25000)]"
      ]
     },
     "execution_count": 241,
     "metadata": {},
     "output_type": "execute_result"
    }
   ],
   "source": [
    "# sort method internally using  __lt__() method of Employee class\n",
    "# esal is the criteria.\n",
    "\n",
    "l = [Employee(1237, 'Stuart', 1000), \n",
    "     Employee(1234, 'John', 25000), \n",
    "     Employee(1235, 'Stuart', 15000), \n",
    "     Employee(1236, 'snadra', 19000)]\n",
    "\n",
    "l.sort()\n",
    "l"
   ]
  },
  {
   "cell_type": "markdown",
   "metadata": {},
   "source": [
    " __Explicitly providing creteria__"
   ]
  },
  {
   "cell_type": "code",
   "execution_count": 242,
   "metadata": {},
   "outputs": [
    {
     "data": {
      "text/plain": [
       "[Employee(1237, Stuart, 1000),\n",
       " Employee(1236, snadra, 19000),\n",
       " Employee(1235, Stuart, 15000),\n",
       " Employee(1234, John, 25000)]"
      ]
     },
     "execution_count": 242,
     "metadata": {},
     "output_type": "execute_result"
    }
   ],
   "source": [
    "l.sort(key=lambda x:x.eid, reverse=True)\n",
    "l"
   ]
  },
  {
   "cell_type": "code",
   "execution_count": 243,
   "metadata": {},
   "outputs": [
    {
     "data": {
      "text/plain": [
       "[Employee(1237, Stuart, 1000),\n",
       " Employee(1235, Stuart, 15000),\n",
       " Employee(1236, snadra, 19000),\n",
       " Employee(1234, John, 25000)]"
      ]
     },
     "execution_count": 243,
     "metadata": {},
     "output_type": "execute_result"
    }
   ],
   "source": [
    "sorted(l, key=lambda x:x.esal)"
   ]
  },
  {
   "cell_type": "code",
   "execution_count": 244,
   "metadata": {},
   "outputs": [
    {
     "data": {
      "text/plain": [
       "Employee(1237, Stuart, 1000)"
      ]
     },
     "execution_count": 244,
     "metadata": {},
     "output_type": "execute_result"
    }
   ],
   "source": [
    "max(l, key=lambda x:x.eid)"
   ]
  },
  {
   "cell_type": "code",
   "execution_count": 245,
   "metadata": {},
   "outputs": [
    {
     "data": {
      "text/plain": [
       "Employee(1237, Stuart, 1000)"
      ]
     },
     "execution_count": 245,
     "metadata": {},
     "output_type": "execute_result"
    }
   ],
   "source": [
    "min(l, key=lambda x:x.esal)"
   ]
  },
  {
   "cell_type": "markdown",
   "metadata": {},
   "source": [
    "### Function Overloading"
   ]
  },
  {
   "cell_type": "code",
   "execution_count": 246,
   "metadata": {},
   "outputs": [],
   "source": [
    "class A(object):\n",
    "    def fun(self):\n",
    "        print(\"Hello...\")\n",
    "        \n",
    "    def fun(self, x):\n",
    "        print(x * x)"
   ]
  },
  {
   "cell_type": "code",
   "execution_count": 247,
   "metadata": {},
   "outputs": [],
   "source": [
    "a = A()"
   ]
  },
  {
   "cell_type": "code",
   "execution_count": 248,
   "metadata": {},
   "outputs": [
    {
     "ename": "TypeError",
     "evalue": "fun() missing 1 required positional argument: 'x'",
     "output_type": "error",
     "traceback": [
      "\u001b[0;31m---------------------------------------------------------------------------\u001b[0m",
      "\u001b[0;31mTypeError\u001b[0m                                 Traceback (most recent call last)",
      "\u001b[0;32m<ipython-input-248-7301c6f31cb5>\u001b[0m in \u001b[0;36m<module>\u001b[0;34m()\u001b[0m\n\u001b[0;32m----> 1\u001b[0;31m \u001b[0ma\u001b[0m\u001b[0;34m.\u001b[0m\u001b[0mfun\u001b[0m\u001b[0;34m(\u001b[0m\u001b[0;34m)\u001b[0m\u001b[0;34m\u001b[0m\u001b[0;34m\u001b[0m\u001b[0m\n\u001b[0m",
      "\u001b[0;31mTypeError\u001b[0m: fun() missing 1 required positional argument: 'x'"
     ]
    }
   ],
   "source": [
    "a.fun()"
   ]
  },
  {
   "cell_type": "code",
   "execution_count": 249,
   "metadata": {},
   "outputs": [
    {
     "name": "stdout",
     "output_type": "stream",
     "text": [
      "25\n"
     ]
    }
   ],
   "source": [
    "a.fun(5)"
   ]
  },
  {
   "cell_type": "code",
   "execution_count": 250,
   "metadata": {},
   "outputs": [],
   "source": [
    "class A(object):\n",
    "    def fun(self, x):\n",
    "        print(x * x)\n",
    "        \n",
    "    def fun(self):\n",
    "        print(\"Hello...\")\n",
    "        \n",
    "a = A()"
   ]
  },
  {
   "cell_type": "code",
   "execution_count": 251,
   "metadata": {},
   "outputs": [
    {
     "name": "stdout",
     "output_type": "stream",
     "text": [
      "Hello...\n"
     ]
    }
   ],
   "source": [
    "a.fun()"
   ]
  }
 ],
 "metadata": {
  "anaconda-cloud": {},
  "kernelspec": {
   "display_name": "Python 3",
   "language": "python",
   "name": "python3"
  },
  "language_info": {
   "codemirror_mode": {
    "name": "ipython",
    "version": 3
   },
   "file_extension": ".py",
   "mimetype": "text/x-python",
   "name": "python",
   "nbconvert_exporter": "python",
   "pygments_lexer": "ipython3",
   "version": "3.6.6"
  },
  "toc": {
   "base_numbering": 1,
   "nav_menu": {},
   "number_sections": false,
   "sideBar": false,
   "skip_h1_title": false,
   "title_cell": "Table of Contents",
   "title_sidebar": "Contents",
   "toc_cell": false,
   "toc_position": {},
   "toc_section_display": false,
   "toc_window_display": false
  }
 },
 "nbformat": 4,
 "nbformat_minor": 1
}
